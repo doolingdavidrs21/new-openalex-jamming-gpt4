{
 "cells": [
  {
   "cell_type": "code",
   "execution_count": 1,
   "id": "14cb5fcd-7f1f-46be-8e2b-db11b02cda31",
   "metadata": {},
   "outputs": [],
   "source": [
    "from pyalex import (\n",
    "    Works, Authors, Sources,\n",
    "    Institutions, Concepts, Publishers, Funders\n",
    ")\n",
    "import pyalex\n",
    "import pandas as pd\n",
    "import numpy as np\n",
    "pyalex.config.email = \"david@rs21.io\"\n",
    "\n",
    "from flair.embeddings import DocumentPoolEmbeddings\n",
    "from flair.data import Sentence\n",
    "from flair.embeddings import SentenceTransformerDocumentEmbeddings\n",
    "\n",
    "EMBEDDING_MODEL_1 = \"all-mpnet-base-v2\" \n",
    "\n",
    "# this one is also good: all-MiniLM-L6-v2\n",
    "EMBEDDING_MODEL_2 = \"all-MiniLM-L6-v2\"\n",
    "SENT_EMBEDDINGS_1 = SentenceTransformerDocumentEmbeddings(EMBEDDING_MODEL_1)\n",
    "SENT_EMBEDDINGS_2 = SentenceTransformerDocumentEmbeddings(EMBEDDING_MODEL_2)\n",
    "DOC_EMBEDDINGS= DocumentPoolEmbeddings([SENT_EMBEDDINGS_2])\n",
    "\n",
    "import torch\n",
    "from tqdm import tqdm\n",
    "import yake\n",
    "import umap.umap_ as umap\n",
    "from sklearn import metrics\n",
    "import matplotlib.pyplot as plt\n",
    "from sklearn.mixture import GaussianMixture as GMM\n",
    "import altair as alt\n",
    "import math\n",
    "import plotly.express as px\n",
    "import textwrap"
   ]
  },
  {
   "cell_type": "code",
   "execution_count": 2,
   "id": "78c187d8-efd6-44b3-aad9-547f52f96c9e",
   "metadata": {},
   "outputs": [
    {
     "name": "stdout",
     "output_type": "stream",
     "text": [
      "https://openalex.org/C2778857364 Missile\n",
      "https://openalex.org/C522053795 Missile guidance\n",
      "https://openalex.org/C122136912 Ballistic missile\n",
      "https://openalex.org/C559253537 Missile defense\n",
      "https://openalex.org/C28849524 Cruise missile\n",
      "https://openalex.org/C202802212 Air-to-air missile\n"
     ]
    }
   ],
   "source": [
    "search_term = 'missile'\n",
    "robot_concepts = Concepts().search_filter(display_name=search_term).get()\n",
    "len(robot_concepts)\n",
    "for i in range(len(robot_concepts)):\n",
    "    id_, display_name = robot_concepts[i]['id'], robot_concepts[i]['display_name']\n",
    "    print(id_, display_name)"
   ]
  },
  {
   "cell_type": "code",
   "execution_count": 3,
   "id": "a6cc48a6-c88b-4f0c-b9ff-855574cbabe2",
   "metadata": {},
   "outputs": [
    {
     "name": "stdout",
     "output_type": "stream",
     "text": [
      "{'count': 65073, 'db_response_time_ms': 30, 'page': 1, 'per_page': 25, 'groups_count': None}\n"
     ]
    }
   ],
   "source": [
    "results, meta  = Concepts().get(return_meta=True)\n",
    "print(meta)"
   ]
  },
  {
   "cell_type": "code",
   "execution_count": 4,
   "id": "ea076894-28f5-410c-a84c-3c2952943246",
   "metadata": {},
   "outputs": [],
   "source": [
    "search_term = 'jamming'\n",
    "search_term = 'radar jamming and deception|electronic warfare|Network-centric warfare|Air-to-air missile'\n",
    "search_term = ('radar jamming and deception|electronic warfare|Network-centric warfare|missile guidance' +\n",
    "               '|Robot manipulator|Automatic target recognition' + \n",
    "              '|Pulsed power|High-energy X-rays' + \n",
    "              '|Ballistic missile|Air-to-air missile' + \n",
    "              '|terminal guidance')\n",
    "jamming_concepts = Concepts().\\\n",
    "search_filter(display_name=search_term).get()"
   ]
  },
  {
   "cell_type": "code",
   "execution_count": 5,
   "id": "f112868e-45ab-42fd-85fb-62ee758d4c05",
   "metadata": {},
   "outputs": [
    {
     "data": {
      "text/plain": [
       "[('https://openalex.org/C2985527887', 'Robot manipulator'),\n",
       " ('https://openalex.org/C97039730', 'Pulsed power'),\n",
       " ('https://openalex.org/C522053795', 'Missile guidance'),\n",
       " ('https://openalex.org/C117623542', 'Automatic target recognition'),\n",
       " ('https://openalex.org/C122136912', 'Ballistic missile'),\n",
       " ('https://openalex.org/C176381164', 'Radar jamming and deception'),\n",
       " ('https://openalex.org/C183838350', 'High-energy X-rays'),\n",
       " ('https://openalex.org/C133082901', 'Electronic warfare'),\n",
       " ('https://openalex.org/C2777047555', 'Terminal guidance'),\n",
       " ('https://openalex.org/C2781187084', 'Network-centric warfare'),\n",
       " ('https://openalex.org/C202802212', 'Air-to-air missile')]"
      ]
     },
     "execution_count": 5,
     "metadata": {},
     "output_type": "execute_result"
    }
   ],
   "source": [
    "concepts = []\n",
    "for i in range(len(jamming_concepts)):\n",
    "    id_, display_name = jamming_concepts[i]['id'], jamming_concepts[i]['display_name']\n",
    "    concepts.append((id_, display_name))\n",
    "concepts"
   ]
  },
  {
   "cell_type": "code",
   "execution_count": 6,
   "id": "5639d684-dcc9-46ea-a030-0b8aeec4a007",
   "metadata": {},
   "outputs": [],
   "source": [
    "def process_works_list(worklist:list):\n",
    "    \"\"\"\n",
    "    transforms the \n",
    "    works list into a dataframe.\n",
    "    \"\"\"\n",
    "    abstracts_dict = {h[\"id\"]:h[\"abstract\"] for h in worklist}\n",
    "    df = pd.DataFrame.from_records(worklist)\n",
    "    try: \n",
    "        del df['abstract_inverted_index'] # though don't all have abstracts is the problem\n",
    "        df['abstract'] = df['id'].map(abstracts_dict)\n",
    "    except:\n",
    "        pass\n",
    "   # df['author_affils'] = df['authorships'].apply(get_authors_and_affils)\n",
    "    return df"
   ]
  },
  {
   "cell_type": "code",
   "execution_count": 7,
   "id": "f3cdb9ca-6271-4fc2-9f39-cd6babce4aca",
   "metadata": {},
   "outputs": [
    {
     "name": "stdout",
     "output_type": "stream",
     "text": [
      "https://openalex.org/C2985527887 10153\n",
      "https://openalex.org/C97039730 14094\n",
      "https://openalex.org/C522053795 6487\n",
      "https://openalex.org/C117623542 3634\n",
      "https://openalex.org/C122136912 6210\n",
      "https://openalex.org/C176381164 2671\n",
      "https://openalex.org/C183838350 1184\n",
      "https://openalex.org/C133082901 3471\n",
      "https://openalex.org/C2777047555 1355\n",
      "https://openalex.org/C2781187084 1799\n",
      "https://openalex.org/C202802212 1313\n"
     ]
    }
   ],
   "source": [
    "for i in range(len(jamming_concepts)):\n",
    "    print(jamming_concepts[i]['id'], jamming_concepts[i]['works_count'])"
   ]
  },
  {
   "cell_type": "code",
   "execution_count": 8,
   "id": "16a4ad8a-01a6-4097-850f-dd0e1de03a43",
   "metadata": {},
   "outputs": [],
   "source": [
    "def get_hpm_frame():\n",
    "    #hpm_pager = Works().filter(publication_year='>2020').search(\"high power microwave\").\\\n",
    "#filter(authorships={\"institutions\":{\"country_code\":\"CN\"}}).paginate(per_page=200,\n",
    "#                                                                    n_max=None)\n",
    "    hpm_pager = Works().filter(publication_year='>2020').search(\"high power microwave\").\\\n",
    "        paginate(per_page=200,  n_max=None)\n",
    "    df = pd.DataFrame()\n",
    "    for page in tqdm(hpm_pager):\n",
    "        dfpage = process_works_list(page)\n",
    "        df = pd.concat([df, dfpage], ignore_index=True)\n",
    "        df.drop_duplicates(subset='id', keep='first',inplace=True)\n",
    "    return df  "
   ]
  },
  {
   "cell_type": "code",
   "execution_count": 9,
   "id": "1786bee4-a19f-4b95-93c2-d0730e2498cb",
   "metadata": {},
   "outputs": [],
   "source": [
    "def get_sbl_frame():\n",
    "    #sbl_pager = Works().filter(publication_year='>2020').search(\"space based laser\").\\\n",
    "#filter(authorships={\"institutions\":{\"country_code\":\"CN\"}}).paginate(per_page=200,\n",
    "#                                                                    n_max=None)\n",
    "    sbl_pager = Works().filter(publication_year='>2020').search(\"space based laser\").\\\n",
    "        paginate(per_page=200,\n",
    "                                                                    n_max=None)\n",
    "    df = pd.DataFrame()\n",
    "    for page in tqdm(sbl_pager):\n",
    "        dfpage = process_works_list(page)\n",
    "        df = pd.concat([df, dfpage], ignore_index=True)\n",
    "        df.drop_duplicates(subset='id', keep='first',inplace=True)\n",
    "    return df    "
   ]
  },
  {
   "cell_type": "code",
   "execution_count": 10,
   "id": "37de5d41-c490-4f6d-a7b8-67e6922f4c51",
   "metadata": {},
   "outputs": [],
   "source": [
    "def get_kkv_frame():\n",
    "    #kkv_pager = Works().filter(publication_year='>2020').search(\"kinetic kill vehicle\").\\\n",
    "#filter(authorships={\"institutions\":{\"country_code\":\"CN\"}}).paginate(per_page=200,\n",
    "#                                                                    n_max=None)\n",
    "    kkv_pager = Works().filter(publication_year='>2020').search(\"kinetic kill vehicle\").\\\n",
    "        paginate(per_page=200,\n",
    "                                                                    n_max=None)\n",
    "    df = pd.DataFrame()\n",
    "    for page in tqdm(kkv_pager):\n",
    "        dfpage = process_works_list(page)\n",
    "        df = pd.concat([df, dfpage], ignore_index=True)\n",
    "        df.drop_duplicates(subset='id', keep='first',inplace=True)\n",
    "    return df                                                               \n",
    "    "
   ]
  },
  {
   "cell_type": "code",
   "execution_count": 11,
   "id": "0b2b0866-b041-42d4-85c1-ab4c9058590b",
   "metadata": {},
   "outputs": [],
   "source": [
    "def get_rka_frame():\n",
    "   # rka_pager = Works().filter(publication_year='>2020').search(\"relativistic klystron amplifier\").\\\n",
    "#filter(authorships={\"institutions\":{\"country_code\":\"CN\"}}).paginate(per_page=200,\n",
    "#                                                                    n_max=None)\n",
    "    rka_pager = Works().filter(publication_year='>2020').search(\"relativistic klystron amplifier\").\\\n",
    "        paginate(per_page=200,\n",
    "                                                                    n_max=None)\n",
    "    df = pd.DataFrame()\n",
    "    for page in tqdm(rka_pager):\n",
    "        dfpage = process_works_list(page)\n",
    "        df = pd.concat([df, dfpage], ignore_index=True)\n",
    "        df.drop_duplicates(subset='id', keep='first',inplace=True)\n",
    "    return df "
   ]
  },
  {
   "cell_type": "code",
   "execution_count": 12,
   "id": "e04a52de-2f34-48af-b2ba-b8e28fdca2bf",
   "metadata": {},
   "outputs": [],
   "source": [
    "def get_concept_frame(concepts_list:list, i:int):\n",
    "    \"\"\"\n",
    "    takes a list of Concepts() results and an index\n",
    "    and forms the pagination object to retrive the \n",
    "    records\n",
    "    \"\"\"\n",
    "    pager = Works().filter(publication_year='>2016',\n",
    "    #concepts={\"id\":f\"{concepts_list[i]['id']}\"}).filter(authorships={\"institutions\":{\"country_code\":\"CN\"}}).\\\n",
    "    #paginate(per_page=200,n_max=None)\n",
    "    concepts={\"id\":f\"{concepts_list[i]['id']}\"}).\\\n",
    "    paginate(per_page=200,n_max=None)\n",
    "    df = pd.DataFrame()\n",
    "    for page in tqdm(pager):\n",
    "        dfpage = process_works_list(page)\n",
    "        df = pd.concat([df, dfpage], ignore_index=True)\n",
    "        df.drop_duplicates(subset='id', keep='first',inplace=True)\n",
    "    return df"
   ]
  },
  {
   "cell_type": "code",
   "execution_count": 13,
   "id": "ff79d82c-5e67-4f1d-9d46-0062cef327ea",
   "metadata": {},
   "outputs": [
    {
     "name": "stderr",
     "output_type": "stream",
     "text": [
      "14it [00:35,  2.53s/it]\n",
      "16it [00:46,  2.88s/it]\n",
      "8it [00:23,  2.98s/it]\n",
      "8it [00:21,  2.69s/it]\n",
      "7it [00:14,  2.12s/it]\n",
      "6it [00:16,  2.71s/it]\n",
      "2it [00:03,  1.97s/it]\n",
      "6it [00:15,  2.50s/it]\n",
      "3it [00:03,  1.03s/it]\n",
      "3it [00:05,  1.74s/it]\n",
      "2it [00:03,  1.67s/it]\n"
     ]
    }
   ],
   "source": [
    "frames_list = []\n",
    "for i in range(len(jamming_concepts)):\n",
    "    df = get_concept_frame(jamming_concepts, i)\n",
    "    frames_list.append(df)"
   ]
  },
  {
   "cell_type": "code",
   "execution_count": 14,
   "id": "a26aab35-1054-4401-99d4-a68c87f6ea7f",
   "metadata": {},
   "outputs": [
    {
     "data": {
      "text/plain": [
       "'2024-05-14'"
      ]
     },
     "execution_count": 14,
     "metadata": {},
     "output_type": "execute_result"
    }
   ],
   "source": [
    "frames_list[3]['created_date'].max()"
   ]
  },
  {
   "cell_type": "code",
   "execution_count": 15,
   "id": "65428559-cc1c-4fdc-bd7a-78b9eeffca9e",
   "metadata": {},
   "outputs": [
    {
     "data": {
      "text/plain": [
       "None                                                                                                                                                                                                                                                                                                                                                                                                                                                                                                                                                                                                                                                                                                                                                                                                                                                                                                                                                                                                                                                                                                                                                                                                                                                                                     92\n",
       "Pursuit-evasion differential games using the Disturbance Attenuation approach are revisited. Under this approach, the pursuer actions are considered to be control actions, whereas all external actions, such as target maneuvers, measurement errors and initial position uncertainties, are considered to be disturbances. Two open issues have been addressed, namely the effect of noise on the control gains, and the effect of trajectory shaping on the solution. These issues are closely related to the question of the best choice for the disturbance attenuation ratio. Detailed analyses are performed for two simple pursuit-evasion cases: a Simple Boat Guidance Problem and Missile Guidance Engagement.                                                                                                                                                                                                                                                                                                                                                                                                                                                                                                                                                                2\n",
       "The great developments in applied mathematics and computational capabilities facilitate the design and implementation of robust control. Among the real applications are the guided missiles especially the antitank guided missile systems which are commanded to the line of sight (CLOS) against ground and short-range targets. The present work is concerned with improving the performance of an antitank guided missile system belonging to the first generation via robust synthesis of guidance systems. The selection of nominal model is required to design the guidance computer for the system. This paper is devoted to the quantitative analysis to select a nominal plant which used to design a guidance computer that has a successful flight path trajectory against different types of uncertainties. The design and analysis necessitate somehow accurate model with different uncertainties for the system. The flight path is evaluated considering the HIL environment.                                                                                                                                                                                                                                                                                           2\n",
       "According to the analysis of trends in the use and development of missile weapons, it is shown that in the coming decades such weapons (missile, anti-aircraft missile, anti-ship systems) will remain one of the main units of the armed forces of the advanced countries. At the same time, in the conditions of independent Ukraine there is a need to create its own production of appropriate samples in a “closed cycle”. The synthesis of such weapons includes conducting comprehensive research on the principles of construction and operation of their basic elements, namely: substantiation of algorithms for launch equipment, control systems and navigation of missiles. The article deals with an example of a general solution to the problem.                                                                                                                                                                                                                                                                                                                                                                                                                                                                                                                          2\n",
       "The frequent minor wars have brought to the fore guided missiles as the main weapon against all types of military targets. Restoring the single shot kill probability can be achieved by using two methods as follows: first, using large warhead with the large lethal area; second, design a robust guidance system to reduce the miss-distance with high single shot kill probability. The performance of an anti-tank guided missile can be enhanced by select the nominal model to design the guidance computer system. Furthermore, an online closed-loop system identification is required to adaptive autopilot design. This paper is devoted to using system identification in position control robotic benchmark via open and closed loops system identification. Hence, applying the closed-loop methods to identify the actuator and airframe of the intended plant in order to design a self-tuning controller. The online system identification is based on the recursive least square method.                                                                                                                                                                                                                                                                              2\n",
       "                                                                                                                                                                                                                                                                                                                                                                                                                                                                                                                                                                                                                                                                                                                                                                                                                                                                                                                                                                                                                                                                                                                                                                                                                                                                                         ..\n",
       "This paper contributes to a modified guidance scheme based on a trajectory tracking method which is dedicated for an artillery rocket with a finite set of single use solid propellant side thrusters.Frequency modulation of pulses was used to achieve effective firing logic.The proposed control law is applicable in the last phase of flight when the rocket reaches the vertex of the trajectory.A correction engine activation sequence was chosen in such a way that possibility of rocket axial unbalance is minimized due to motors firing.Numerical simulation results indicate that significant dispersion reduction was achieved and the number of activated side rocket thrusters is minimized.                                                                                                                                                                                                                                                                                                                                                                                                                                                                                                                                                                            1\n",
       "Abstract In order to realize air-ground integration strike capability of the fortification storming/HEAT missiles, with the study background of addition of a laser proximity fuze to the missile, this paper proposes a fuze-guidance integration design method based on combination of image guidance and laser proximity fuze detection. By utilizing the missile-target encounter images, the gimbal angle of the seeker, the velocity and attitude of the missile, as well as the bearing and distance of the target detected by the laser proximity fuze, our design method establishes the space geometric equations of the relative motion of the missile and target, and of the equivalent conical plane of the dispersion center of the warhead fragments in the coordinate system of the missile body. Meanwhile, by solving the equations, a fully formulaic optimal time delay model of fuze-warhead matching is obtained, and the optimal detonation time of the warhead is given. The results show that this integration design method can effectively improve the damage effect of the missile on the helicopter target under complex encountering conditions, and realize the integrated air-to-ground strike capability of the fortification storming/HEAT missile.     1\n",
       "In this paper, two open-loop cooperative guidance laws are proposed. First, a new time cooperative proportional navigation guidance (TCPNG) law is proposed based on the conventional proportional navigation guidance (PNG) law. In order to meet the impact time cooperative requirement, the navigation gain in the TCPNG law is designed as the function of the time error, which is the difference between the designated impact time and the time-to-go estimation of the missile. Second, an improved impact time control guidance (IITCG) law is proposed based on the existing impact time control guidance (ITCG) law. When the initial leading angle is large, the ITCG law may fail and there will be a singularity in the denominator in the later period of the guidance, which will cause the control instruction to oscillate. Therefore, the IITCG law is proposed to cope with this problem. Simulation results show that the TCPNG law can be applied to different initial leading angles and the salvo attack scenario. And the IITCG law can avoid the singularity in the later period of the guidance law, which solves the problem of the control instruction oscillation.                                                                                         1\n",
       "The paper describes the methodology and the design process of a Model Predictive Controller (MPC) that has been applied to solve Missile-on-Missile Interception. The MPC combines the control and guidance laws to create an ideal control law with much higher performance and guarantees strike with a wide range of target and missile parameters. The MPC is also able to handle actuator delay and hence is more practically suited than traditional guidance/control schemes. Also, MPC satisfies sensor/seeker angle constraints, actuator constraints, angle of attack constraints, and fin deflection angle constraints, thus making it more versatile and powerful than any analytical method-based control/guidance schemes. The only disadvantage is the higher computational cost requirements, which will be easily mitigated in the future with the advancements of powerful microprocessors. The performance of the MPC is demonstrated in simulations where the missile is a standard supersonic missile but the target is a maneuvering hypersonic missile with initial separation of just a few kilometers.                                                                                                                                                           1\n",
       "For missile defense systems, the sooner the group target split tracking of ballistic missile is completed, the more preparation time there will be. On the other hand, the group target split tracking too early may cause problems such as mixed tracking, wrong tracking and resources saturation during radar tracking process, which affect the combat performance of weapon systems. A group splitting algorithm for ballistic missile target tracking is proposed in this paper. First, the formation of group targets and the tracking strategy is analyzed, and the IMM-UKF filter framework is described. Then the mathematical model of the group splitting algorithm is established. The factors that affect the performance of the group splitting are discussed. Finally the multi-object optimization problem is solved by using Pareto method. Simulation and experimental results prove that the proposed algorithm can reach a balance between the instant splitting of group targets and the target association stability in a group.                                                                                                                                                                                                                                   1\n",
       "Name: abstract, Length: 1119, dtype: int64"
      ]
     },
     "execution_count": 15,
     "metadata": {},
     "output_type": "execute_result"
    }
   ],
   "source": [
    "frames_list[2]['abstract'].value_counts(dropna=False)"
   ]
  },
  {
   "cell_type": "code",
   "execution_count": 16,
   "id": "354c6c15-369a-444a-a4dd-d3c0d2797735",
   "metadata": {},
   "outputs": [
    {
     "data": {
      "text/plain": [
       "11"
      ]
     },
     "execution_count": 16,
     "metadata": {},
     "output_type": "execute_result"
    }
   ],
   "source": [
    "len(frames_list)"
   ]
  },
  {
   "cell_type": "code",
   "execution_count": 17,
   "id": "2e2a2b56-edf4-4fe3-88a4-fba9dbe8150b",
   "metadata": {},
   "outputs": [
    {
     "name": "stdout",
     "output_type": "stream",
     "text": [
      "(10889, 49)\n"
     ]
    }
   ],
   "source": [
    "dftop = pd.concat(frames_list,\n",
    "                  ignore_index=True)\n",
    "dftop.drop_duplicates(subset='id', keep='first', \n",
    "                      inplace=True)\n",
    "\n",
    "dftop.set_index('id', inplace=True, drop=False)\n",
    "\n",
    "dfall = dftop\n",
    "print(dfall.shape)\n",
    "\n",
    "dfall['content'] = dfall['title'] + \". \" + dfall['abstract']\n",
    "\n",
    "dfrecords = dfall[~dfall['content'].isna()].copy()"
   ]
  },
  {
   "cell_type": "code",
   "execution_count": 18,
   "id": "d6723842-6551-4777-bae1-c4fd76855c2c",
   "metadata": {},
   "outputs": [],
   "source": [
    "def get_keywords(text:str, top:int=7, stopwords=None):\n",
    "    \"\"\"\n",
    "    takes a blob of text and \n",
    "    returns the top **top** \n",
    "    keywords as a list\n",
    "    \"\"\"\n",
    "    kw_extractor = yake.KeywordExtractor(top=top, stopwords=stopwords)\n",
    "    keywords = kw_extractor.extract_keywords(text)\n",
    "    return [p[0] for p in keywords]"
   ]
  },
  {
   "cell_type": "code",
   "execution_count": 19,
   "id": "0e076d58-6f41-420f-8f8e-8db6fdb11f3e",
   "metadata": {},
   "outputs": [],
   "source": [
    "def get_top_concepts(concept_list:list,score:float=.6):\n",
    "    \"\"\"\n",
    "    takes a list of concept dictionaries \n",
    "    returns the top **top** display_names;\n",
    "    concepts whose score is >= score\n",
    "    \"\"\"\n",
    "    return [c['display_name'] for c in concept_list if c['score'] >= score]"
   ]
  },
  {
   "cell_type": "code",
   "execution_count": 20,
   "id": "6dc53589-34ba-4907-a3a2-f0aceb49ffe3",
   "metadata": {},
   "outputs": [],
   "source": [
    "dfrecords['keywords'] = dfrecords['content'].apply(get_keywords)\n",
    "dfrecords['top_concepts'] = dfrecords['concepts'].apply(get_top_concepts)"
   ]
  },
  {
   "cell_type": "code",
   "execution_count": 21,
   "id": "a3d3d1f1-6790-4b7e-8e8c-b945cb65b6d1",
   "metadata": {},
   "outputs": [],
   "source": [
    "texts = dfrecords['content'].str.lower().values.tolist()"
   ]
  },
  {
   "cell_type": "code",
   "execution_count": 22,
   "id": "32cef83c-1896-4409-922d-977cd208d57a",
   "metadata": {},
   "outputs": [],
   "source": [
    "def get_content_embeddings(dfrecords:pd.DataFrame) -> pd.DataFrame:\n",
    "    \"\"\"\n",
    "    passes the preprocessed mitigation strings\n",
    "    data through the embedding model to produce the vector\n",
    "    space representation of each pet mitigation.\n",
    "    \"\"\"\n",
    "    sent = Sentence(\"The grass is green.\")\n",
    "    DOC_EMBEDDINGS.embed(sent)\n",
    "    texts = dfrecords[\"content\"].str.lower().values.tolist()\n",
    "    all_descriptions = np.empty((len(texts), len(sent.embedding)))\n",
    "    for i in tqdm(range(len(texts))):\n",
    "        sent = Sentence(texts[i])\n",
    "        DOC_EMBEDDINGS.embed(sent)\n",
    "        all_descriptions[i, :] = sent.embedding.cpu().numpy()\n",
    "        # gc.collect()\n",
    "        torch.cuda.empty_cache()\n",
    "    dfcontentvectors = pd.DataFrame.from_records(all_descriptions, index=dfrecords.index)\n",
    "    return dfcontentvectors"
   ]
  },
  {
   "cell_type": "code",
   "execution_count": 23,
   "id": "5c52dc66-0ff9-4311-910f-470f1dfb2c43",
   "metadata": {},
   "outputs": [
    {
     "name": "stderr",
     "output_type": "stream",
     "text": [
      "100%|█████████████████████████████████████████████████████████████████████| 9301/9301 [05:00<00:00, 31.00it/s]\n"
     ]
    }
   ],
   "source": [
    "dfcontentvectors = get_content_embeddings(dfrecords)"
   ]
  },
  {
   "cell_type": "code",
   "execution_count": 24,
   "id": "3f43a7b9-37d5-4db3-949c-13ee01c544ae",
   "metadata": {},
   "outputs": [
    {
     "name": "stderr",
     "output_type": "stream",
     "text": [
      "/home/davidd/.local/lib/python3.10/site-packages/umap/umap_.py:1943: UserWarning: n_jobs value -1 overridden to 1 by setting random_state. Use no seed for parallelism.\n",
      "  warn(f\"n_jobs value {self.n_jobs} overridden to 1 by setting random_state. Use no seed for parallelism.\")\n"
     ]
    }
   ],
   "source": [
    "#umap.UMAP?\n",
    "N_COMPONENTS = 2 # can visualize this way\n",
    "umap_reducer = umap.UMAP(n_components=N_COMPONENTS,\n",
    "                       #  metric='euclidean')\n",
    "                         random_state=1234,\n",
    "                         metric='cosine')  # can experiment with this metric as well as the other \n",
    "# parameters\n",
    "# to see what other literature is in the same information space, we need to keep this umap_reducer \n",
    "# object as well as the gmm model below.\n",
    "\n",
    "# Apply UMAP to the vectorized strings\n",
    "reduced_vectors = umap_reducer.fit_transform(dfcontentvectors.to_numpy())\n",
    "dfreduced = pd.DataFrame.from_records(reduced_vectors, \n",
    "                index=dfcontentvectors.index)\n",
    "dfreduced.columns = ['x','y']"
   ]
  },
  {
   "cell_type": "markdown",
   "id": "03fe86d7-ccd4-45ff-82f8-55d304150027",
   "metadata": {},
   "source": [
    "# use hdbscan to cluster"
   ]
  },
  {
   "cell_type": "code",
   "execution_count": 25,
   "id": "4574625b-50b4-40da-a27a-20c82a110ee7",
   "metadata": {},
   "outputs": [],
   "source": [
    "import hdbscan\n",
    "\n",
    "hdbscan_args = {'min_cluster_size': 15,\n",
    "                            'metric': 'euclidean',\n",
    "                            'cluster_selection_method': 'eom',\n",
    "                            'cluster_selection_epsilon': 0.1\n",
    "               }\n",
    "\n",
    "cluster = hdbscan.HDBSCAN(**hdbscan_args).fit(dfreduced[['x','y']].to_numpy())\n",
    "\n",
    "dfreduced['cluster'] = cluster.labels_\n",
    "dfreduced['probability'] = cluster.probabilities_\n",
    "\n",
    "dfpapers = dfrecords.merge(dfreduced, left_index=True,\n",
    "                           right_index=True)"
   ]
  },
  {
   "cell_type": "code",
   "execution_count": 26,
   "id": "2c8cb1c5-e8d5-4006-800d-3ff33814b94c",
   "metadata": {},
   "outputs": [
    {
     "data": {
      "text/html": [
       "<div>\n",
       "<style scoped>\n",
       "    .dataframe tbody tr th:only-of-type {\n",
       "        vertical-align: middle;\n",
       "    }\n",
       "\n",
       "    .dataframe tbody tr th {\n",
       "        vertical-align: top;\n",
       "    }\n",
       "\n",
       "    .dataframe thead th {\n",
       "        text-align: right;\n",
       "    }\n",
       "</style>\n",
       "<table border=\"1\" class=\"dataframe\">\n",
       "  <thead>\n",
       "    <tr style=\"text-align: right;\">\n",
       "      <th></th>\n",
       "      <th>id</th>\n",
       "      <th>doi</th>\n",
       "      <th>title</th>\n",
       "      <th>display_name</th>\n",
       "      <th>publication_year</th>\n",
       "      <th>publication_date</th>\n",
       "      <th>ids</th>\n",
       "      <th>language</th>\n",
       "      <th>primary_location</th>\n",
       "      <th>type</th>\n",
       "      <th>...</th>\n",
       "      <th>created_date</th>\n",
       "      <th>fulltext_origin</th>\n",
       "      <th>abstract</th>\n",
       "      <th>is_authors_truncated</th>\n",
       "      <th>content</th>\n",
       "      <th>top_concepts</th>\n",
       "      <th>x</th>\n",
       "      <th>y</th>\n",
       "      <th>cluster</th>\n",
       "      <th>probability</th>\n",
       "    </tr>\n",
       "  </thead>\n",
       "  <tbody>\n",
       "    <tr>\n",
       "      <th>0</th>\n",
       "      <td>https://openalex.org/W1517236425</td>\n",
       "      <td>https://doi.org/10.1201/9781003062714</td>\n",
       "      <td>Neural Network Control Of Robot Manipulators A...</td>\n",
       "      <td>Neural Network Control Of Robot Manipulators A...</td>\n",
       "      <td>2020</td>\n",
       "      <td>2020-08-13</td>\n",
       "      <td>{'openalex': 'https://openalex.org/W1517236425...</td>\n",
       "      <td>en</td>\n",
       "      <td>{'is_oa': False, 'landing_page_url': 'https://...</td>\n",
       "      <td>book</td>\n",
       "      <td>...</td>\n",
       "      <td>2016-06-24</td>\n",
       "      <td>NaN</td>\n",
       "      <td>There has been great interest in \"universal co...</td>\n",
       "      <td>NaN</td>\n",
       "      <td>Neural Network Control Of Robot Manipulators A...</td>\n",
       "      <td>[Robot manipulator, Artificial neural network]</td>\n",
       "      <td>16.062922</td>\n",
       "      <td>-3.320433</td>\n",
       "      <td>1</td>\n",
       "      <td>1.0</td>\n",
       "    </tr>\n",
       "    <tr>\n",
       "      <th>1</th>\n",
       "      <td>https://openalex.org/W2740675802</td>\n",
       "      <td>https://doi.org/10.1109/tcyb.2017.2711961</td>\n",
       "      <td>Adaptive Neural Network Control of a Robotic M...</td>\n",
       "      <td>Adaptive Neural Network Control of a Robotic M...</td>\n",
       "      <td>2017</td>\n",
       "      <td>2017-10-01</td>\n",
       "      <td>{'openalex': 'https://openalex.org/W2740675802...</td>\n",
       "      <td>en</td>\n",
       "      <td>{'is_oa': False, 'landing_page_url': 'https://...</td>\n",
       "      <td>article</td>\n",
       "      <td>...</td>\n",
       "      <td>2017-08-08</td>\n",
       "      <td>ngrams</td>\n",
       "      <td>The control problem of an uncertain n -degrees...</td>\n",
       "      <td>NaN</td>\n",
       "      <td>Adaptive Neural Network Control of a Robotic M...</td>\n",
       "      <td>[Control theory (sociology), Lyapunov function...</td>\n",
       "      <td>16.461128</td>\n",
       "      <td>-3.442048</td>\n",
       "      <td>1</td>\n",
       "      <td>1.0</td>\n",
       "    </tr>\n",
       "    <tr>\n",
       "      <th>2</th>\n",
       "      <td>https://openalex.org/W2418767125</td>\n",
       "      <td>https://doi.org/10.1109/tsmc.2016.2562506</td>\n",
       "      <td>Neural Network Control of a Flexible Robotic M...</td>\n",
       "      <td>Neural Network Control of a Flexible Robotic M...</td>\n",
       "      <td>2017</td>\n",
       "      <td>2017-08-01</td>\n",
       "      <td>{'openalex': 'https://openalex.org/W2418767125...</td>\n",
       "      <td>en</td>\n",
       "      <td>{'is_oa': False, 'landing_page_url': 'https://...</td>\n",
       "      <td>article</td>\n",
       "      <td>...</td>\n",
       "      <td>2016-06-24</td>\n",
       "      <td>ngrams</td>\n",
       "      <td>Adaptive neural networks (NNs) are employed fo...</td>\n",
       "      <td>NaN</td>\n",
       "      <td>Neural Network Control of a Flexible Robotic M...</td>\n",
       "      <td>[Control theory (sociology), Deflection (physi...</td>\n",
       "      <td>16.109781</td>\n",
       "      <td>-3.551340</td>\n",
       "      <td>1</td>\n",
       "      <td>1.0</td>\n",
       "    </tr>\n",
       "    <tr>\n",
       "      <th>3</th>\n",
       "      <td>https://openalex.org/W2901112449</td>\n",
       "      <td>https://doi.org/10.1109/tro.2018.2878318</td>\n",
       "      <td>Model-Based Reinforcement Learning for Closed-...</td>\n",
       "      <td>Model-Based Reinforcement Learning for Closed-...</td>\n",
       "      <td>2019</td>\n",
       "      <td>2019-02-01</td>\n",
       "      <td>{'openalex': 'https://openalex.org/W2901112449...</td>\n",
       "      <td>en</td>\n",
       "      <td>{'is_oa': False, 'landing_page_url': 'https://...</td>\n",
       "      <td>article</td>\n",
       "      <td>...</td>\n",
       "      <td>2018-11-29</td>\n",
       "      <td>pdf</td>\n",
       "      <td>Dynamic control of soft robotic manipulators i...</td>\n",
       "      <td>NaN</td>\n",
       "      <td>Model-Based Reinforcement Learning for Closed-...</td>\n",
       "      <td>[Control theory (sociology), Kinematics, Reinf...</td>\n",
       "      <td>15.096028</td>\n",
       "      <td>-5.377518</td>\n",
       "      <td>1</td>\n",
       "      <td>1.0</td>\n",
       "    </tr>\n",
       "    <tr>\n",
       "      <th>4</th>\n",
       "      <td>https://openalex.org/W2792852625</td>\n",
       "      <td>https://doi.org/10.1016/j.neucom.2018.01.002</td>\n",
       "      <td>Robot manipulator control using neural network...</td>\n",
       "      <td>Robot manipulator control using neural network...</td>\n",
       "      <td>2018</td>\n",
       "      <td>2018-04-01</td>\n",
       "      <td>{'openalex': 'https://openalex.org/W2792852625...</td>\n",
       "      <td>en</td>\n",
       "      <td>{'is_oa': False, 'landing_page_url': 'https://...</td>\n",
       "      <td>article</td>\n",
       "      <td>...</td>\n",
       "      <td>2018-03-29</td>\n",
       "      <td>ngrams</td>\n",
       "      <td>Robot manipulators are playing increasingly si...</td>\n",
       "      <td>NaN</td>\n",
       "      <td>Robot manipulator control using neural network...</td>\n",
       "      <td>[Artificial neural network, Computer science]</td>\n",
       "      <td>15.602239</td>\n",
       "      <td>-3.136606</td>\n",
       "      <td>1</td>\n",
       "      <td>1.0</td>\n",
       "    </tr>\n",
       "  </tbody>\n",
       "</table>\n",
       "<p>5 rows × 55 columns</p>\n",
       "</div>"
      ],
      "text/plain": [
       "                                 id  \\\n",
       "0  https://openalex.org/W1517236425   \n",
       "1  https://openalex.org/W2740675802   \n",
       "2  https://openalex.org/W2418767125   \n",
       "3  https://openalex.org/W2901112449   \n",
       "4  https://openalex.org/W2792852625   \n",
       "\n",
       "                                            doi  \\\n",
       "0         https://doi.org/10.1201/9781003062714   \n",
       "1     https://doi.org/10.1109/tcyb.2017.2711961   \n",
       "2     https://doi.org/10.1109/tsmc.2016.2562506   \n",
       "3      https://doi.org/10.1109/tro.2018.2878318   \n",
       "4  https://doi.org/10.1016/j.neucom.2018.01.002   \n",
       "\n",
       "                                               title  \\\n",
       "0  Neural Network Control Of Robot Manipulators A...   \n",
       "1  Adaptive Neural Network Control of a Robotic M...   \n",
       "2  Neural Network Control of a Flexible Robotic M...   \n",
       "3  Model-Based Reinforcement Learning for Closed-...   \n",
       "4  Robot manipulator control using neural network...   \n",
       "\n",
       "                                        display_name  publication_year  \\\n",
       "0  Neural Network Control Of Robot Manipulators A...              2020   \n",
       "1  Adaptive Neural Network Control of a Robotic M...              2017   \n",
       "2  Neural Network Control of a Flexible Robotic M...              2017   \n",
       "3  Model-Based Reinforcement Learning for Closed-...              2019   \n",
       "4  Robot manipulator control using neural network...              2018   \n",
       "\n",
       "  publication_date                                                ids  \\\n",
       "0       2020-08-13  {'openalex': 'https://openalex.org/W1517236425...   \n",
       "1       2017-10-01  {'openalex': 'https://openalex.org/W2740675802...   \n",
       "2       2017-08-01  {'openalex': 'https://openalex.org/W2418767125...   \n",
       "3       2019-02-01  {'openalex': 'https://openalex.org/W2901112449...   \n",
       "4       2018-04-01  {'openalex': 'https://openalex.org/W2792852625...   \n",
       "\n",
       "  language                                   primary_location     type  ...  \\\n",
       "0       en  {'is_oa': False, 'landing_page_url': 'https://...     book  ...   \n",
       "1       en  {'is_oa': False, 'landing_page_url': 'https://...  article  ...   \n",
       "2       en  {'is_oa': False, 'landing_page_url': 'https://...  article  ...   \n",
       "3       en  {'is_oa': False, 'landing_page_url': 'https://...  article  ...   \n",
       "4       en  {'is_oa': False, 'landing_page_url': 'https://...  article  ...   \n",
       "\n",
       "  created_date fulltext_origin  \\\n",
       "0   2016-06-24             NaN   \n",
       "1   2017-08-08          ngrams   \n",
       "2   2016-06-24          ngrams   \n",
       "3   2018-11-29             pdf   \n",
       "4   2018-03-29          ngrams   \n",
       "\n",
       "                                            abstract is_authors_truncated  \\\n",
       "0  There has been great interest in \"universal co...                  NaN   \n",
       "1  The control problem of an uncertain n -degrees...                  NaN   \n",
       "2  Adaptive neural networks (NNs) are employed fo...                  NaN   \n",
       "3  Dynamic control of soft robotic manipulators i...                  NaN   \n",
       "4  Robot manipulators are playing increasingly si...                  NaN   \n",
       "\n",
       "                                             content  \\\n",
       "0  Neural Network Control Of Robot Manipulators A...   \n",
       "1  Adaptive Neural Network Control of a Robotic M...   \n",
       "2  Neural Network Control of a Flexible Robotic M...   \n",
       "3  Model-Based Reinforcement Learning for Closed-...   \n",
       "4  Robot manipulator control using neural network...   \n",
       "\n",
       "                                        top_concepts          x         y  \\\n",
       "0     [Robot manipulator, Artificial neural network]  16.062922 -3.320433   \n",
       "1  [Control theory (sociology), Lyapunov function...  16.461128 -3.442048   \n",
       "2  [Control theory (sociology), Deflection (physi...  16.109781 -3.551340   \n",
       "3  [Control theory (sociology), Kinematics, Reinf...  15.096028 -5.377518   \n",
       "4      [Artificial neural network, Computer science]  15.602239 -3.136606   \n",
       "\n",
       "  cluster probability  \n",
       "0       1         1.0  \n",
       "1       1         1.0  \n",
       "2       1         1.0  \n",
       "3       1         1.0  \n",
       "4       1         1.0  \n",
       "\n",
       "[5 rows x 55 columns]"
      ]
     },
     "execution_count": 26,
     "metadata": {},
     "output_type": "execute_result"
    }
   ],
   "source": [
    "#help(dfpapers.explode)\n",
    "del dfpapers['id']\n",
    "dfstart = dfpapers.reset_index()\n",
    "dfstart.head()"
   ]
  },
  {
   "cell_type": "code",
   "execution_count": 27,
   "id": "26cd9a17-641c-446b-a2cb-a24c33e2b4f5",
   "metadata": {},
   "outputs": [
    {
     "data": {
      "text/plain": [
       "2022    1402\n",
       "2023    1399\n",
       "2021    1316\n",
       "2019    1287\n",
       "2018    1231\n",
       "2020    1222\n",
       "2017    1147\n",
       "2024     297\n",
       "Name: publication_year, dtype: int64"
      ]
     },
     "execution_count": 27,
     "metadata": {},
     "output_type": "execute_result"
    }
   ],
   "source": [
    "dfstart['publication_year'].value_counts(dropna=False)"
   ]
  },
  {
   "cell_type": "code",
   "execution_count": 28,
   "id": "2fd294e2-47fe-42ff-be11-0c9e4c7d3b7b",
   "metadata": {},
   "outputs": [
    {
     "data": {
      "text/plain": [
       "(9301, 55)"
      ]
     },
     "execution_count": 28,
     "metadata": {},
     "output_type": "execute_result"
    }
   ],
   "source": [
    "dfstart.shape"
   ]
  },
  {
   "cell_type": "code",
   "execution_count": 29,
   "id": "3a77b0c1-a471-46e0-b964-1dc0edf11c40",
   "metadata": {},
   "outputs": [
    {
     "data": {
      "text/plain": [
       "((37241, 55), (9301, 55))"
      ]
     },
     "execution_count": 29,
     "metadata": {},
     "output_type": "execute_result"
    }
   ],
   "source": [
    "dfbig = dfstart.explode(column='authorships')\n",
    "dfbig.shape, dfstart.shape"
   ]
  },
  {
   "cell_type": "code",
   "execution_count": 30,
   "id": "9294c6c5-8970-4a49-b419-e9080a5898c9",
   "metadata": {},
   "outputs": [
    {
     "data": {
      "text/plain": [
       "Index(['id', 'doi', 'title', 'display_name', 'publication_year',\n",
       "       'publication_date', 'ids', 'language', 'primary_location', 'type',\n",
       "       'type_crossref', 'indexed_in', 'open_access', 'authorships',\n",
       "       'countries_distinct_count', 'institutions_distinct_count',\n",
       "       'corresponding_author_ids', 'corresponding_institution_ids', 'apc_list',\n",
       "       'apc_paid', 'has_fulltext', 'cited_by_count',\n",
       "       'cited_by_percentile_year', 'biblio', 'is_retracted', 'is_paratext',\n",
       "       'primary_topic', 'topics', 'keywords', 'concepts', 'mesh',\n",
       "       'locations_count', 'locations', 'best_oa_location',\n",
       "       'sustainable_development_goals', 'grants', 'datasets', 'versions',\n",
       "       'referenced_works_count', 'referenced_works', 'related_works',\n",
       "       'ngrams_url', 'cited_by_api_url', 'counts_by_year', 'updated_date',\n",
       "       'created_date', 'fulltext_origin', 'abstract', 'is_authors_truncated',\n",
       "       'content', 'top_concepts', 'x', 'y', 'cluster', 'probability'],\n",
       "      dtype='object')"
      ]
     },
     "execution_count": 30,
     "metadata": {},
     "output_type": "execute_result"
    }
   ],
   "source": [
    "dfbig.columns"
   ]
  },
  {
   "cell_type": "code",
   "execution_count": 31,
   "id": "00919517-e949-4c42-969a-014969db6393",
   "metadata": {},
   "outputs": [
    {
     "data": {
      "text/plain": [
       "[{'is_oa': False,\n",
       "  'landing_page_url': 'https://doi.org/10.1109/tsmc.2020.2999485',\n",
       "  'pdf_url': None,\n",
       "  'source': {'id': 'https://openalex.org/S4210209078',\n",
       "   'display_name': 'IEEE transactions on systems, man, and cybernetics. Systems',\n",
       "   'issn_l': '2168-2216',\n",
       "   'issn': ['2168-2216', '2168-2232'],\n",
       "   'is_oa': False,\n",
       "   'is_in_doaj': False,\n",
       "   'host_organization': 'https://openalex.org/P4310319808',\n",
       "   'host_organization_name': 'Institute of Electrical and Electronics Engineers',\n",
       "   'host_organization_lineage': ['https://openalex.org/P4310319808'],\n",
       "   'host_organization_lineage_names': ['Institute of Electrical and Electronics Engineers'],\n",
       "   'type': 'journal'},\n",
       "  'license': None,\n",
       "  'license_id': None,\n",
       "  'version': None,\n",
       "  'is_accepted': False,\n",
       "  'is_published': False}]"
      ]
     },
     "execution_count": 31,
     "metadata": {},
     "output_type": "execute_result"
    }
   ],
   "source": [
    "dfbig.locations.iloc[68]"
   ]
  },
  {
   "cell_type": "code",
   "execution_count": 32,
   "id": "448a49eb-4b88-49fc-8d8b-9d9248b71dbb",
   "metadata": {},
   "outputs": [],
   "source": [
    "def add_extra_to_authorships(row: pd.DataFrame):\n",
    "    \"\"\"\n",
    "    row[authorships] is a dictionary;\n",
    "    add in the id key to that dictionary\n",
    "    whose value is row[id]\n",
    "    \"\"\"\n",
    "    complete_dict = row[\"authorships\"]\n",
    "   # assert type(complete_dict) == dict\n",
    "    #print(type(complete_dict))\n",
    "    if type(complete_dict) == dict:\n",
    "        complete_dict[\"id\"] = row[\"id\"]\n",
    "        complete_dict[\"x\"] = row[\"x\"]\n",
    "        complete_dict[\"y\"] = row[\"y\"]\n",
    "        complete_dict[\"cluster\"] = row[\"cluster\"]\n",
    "        complete_dict[\"cluster_score\"] = row[\"probability\"]\n",
    "        complete_dict[\"title\"] = row[\"title\"]\n",
    "        complete_dict[\"abstract\"] = row[\"abstract\"]\n",
    "        complete_dict[\"doi\"] = row[\"doi\"]\n",
    "        complete_dict[\"publication_date\"] = row[\"publication_date\"]\n",
    "        complete_dict[\"publication_year\"] = row[\"publication_year\"]\n",
    "        complete_dict[\"grants\"] = row[\"grants\"]\n",
    "        complete_dict[\"locations\"] = row[\"locations\"]\n",
    "        return complete_dict\n",
    "    else:\n",
    "        return row[\"authorships\"]"
   ]
  },
  {
   "cell_type": "code",
   "execution_count": 33,
   "id": "f900349e-59bf-4988-9c9c-3a03ed63422c",
   "metadata": {},
   "outputs": [],
   "source": [
    "dfbig['big_authorships'] = dfbig.apply(add_extra_to_authorships, axis=1)"
   ]
  },
  {
   "cell_type": "code",
   "execution_count": 34,
   "id": "ca9b1984-662b-4a45-891c-647cd7682220",
   "metadata": {},
   "outputs": [
    {
     "data": {
      "text/plain": [
       "Index(['id', 'doi', 'title', 'display_name', 'publication_year',\n",
       "       'publication_date', 'ids', 'language', 'primary_location', 'type',\n",
       "       'type_crossref', 'indexed_in', 'open_access', 'authorships',\n",
       "       'countries_distinct_count', 'institutions_distinct_count',\n",
       "       'corresponding_author_ids', 'corresponding_institution_ids', 'apc_list',\n",
       "       'apc_paid', 'has_fulltext', 'cited_by_count',\n",
       "       'cited_by_percentile_year', 'biblio', 'is_retracted', 'is_paratext',\n",
       "       'primary_topic', 'topics', 'keywords', 'concepts', 'mesh',\n",
       "       'locations_count', 'locations', 'best_oa_location',\n",
       "       'sustainable_development_goals', 'grants', 'datasets', 'versions',\n",
       "       'referenced_works_count', 'referenced_works', 'related_works',\n",
       "       'ngrams_url', 'cited_by_api_url', 'counts_by_year', 'updated_date',\n",
       "       'created_date', 'fulltext_origin', 'abstract', 'is_authors_truncated',\n",
       "       'content', 'top_concepts', 'x', 'y', 'cluster', 'probability',\n",
       "       'big_authorships'],\n",
       "      dtype='object')"
      ]
     },
     "execution_count": 34,
     "metadata": {},
     "output_type": "execute_result"
    }
   ],
   "source": [
    "dfbig.columns"
   ]
  },
  {
   "cell_type": "code",
   "execution_count": 35,
   "id": "dfc1d236-a52e-4dea-8a9f-6da973fdd5db",
   "metadata": {},
   "outputs": [
    {
     "data": {
      "text/plain": [
       "{'author_position': 'middle',\n",
       " 'author': {'id': 'https://openalex.org/A5029350515',\n",
       "  'display_name': 'Wenkang Zhan',\n",
       "  'orcid': None},\n",
       " 'institutions': [{'id': 'https://openalex.org/I90610280',\n",
       "   'display_name': 'South China University of Technology',\n",
       "   'ror': 'https://ror.org/0530pts50',\n",
       "   'country_code': 'CN',\n",
       "   'type': 'education',\n",
       "   'lineage': ['https://openalex.org/I90610280']}],\n",
       " 'countries': ['CN'],\n",
       " 'is_corresponding': False,\n",
       " 'raw_author_name': 'Wenkang Zhan',\n",
       " 'raw_affiliation_strings': ['School of Automation Science and Engineering South China University of Technology, Guangzhou 510640, China'],\n",
       " 'id': 'https://openalex.org/W3037315148',\n",
       " 'x': 16.364036560058594,\n",
       " 'y': -4.629560470581055,\n",
       " 'cluster': 1,\n",
       " 'cluster_score': 0.987027185996989,\n",
       " 'title': 'Boundary Control of a Rotating and Length-Varying Flexible Robotic Manipulator System',\n",
       " 'abstract': 'This article copes with vibration suppression and angular position tracking problems of a robotic manipulator system comprised of a rotating hub and a length-varying manipulator. To obtain precise dynamic response, the manipulator system is modeled in infinite-dimension with partial differential equations. S-curve acceleration/deceleration (S-CA/D) scheme is employed for speed regulation of the length-varying manipulator. Two novel observers are developed to estimate both the unknown disturbances and their time-derivatives, and two auxiliary systems are put forward to tackle input constraints. With assistance of the auxiliary systems and observers, two boundary control laws are put forward to manage vibration suppression and angular position tracking of the proposed manipulator system. Through Lyapunov’s theory, the closed-loop system is proved to be bounded. Numerical simulations have displayed the effectiveness of the observers and boundary control laws.',\n",
       " 'doi': 'https://doi.org/10.1109/tsmc.2020.2999485',\n",
       " 'publication_date': '2022-01-01',\n",
       " 'publication_year': 2022,\n",
       " 'grants': [{'funder': 'https://openalex.org/F4320321001',\n",
       "   'funder_display_name': 'National Natural Science Foundation of China',\n",
       "   'award_id': '61203060'},\n",
       "  {'funder': 'https://openalex.org/F4320321001',\n",
       "   'funder_display_name': 'National Natural Science Foundation of China',\n",
       "   'award_id': '61803098'},\n",
       "  {'funder': 'https://openalex.org/F4320335795',\n",
       "   'funder_display_name': 'Science and Technology Planning Project of Guangdong Province',\n",
       "   'award_id': '2019A050510015'},\n",
       "  {'funder': 'https://openalex.org/F4320335795',\n",
       "   'funder_display_name': 'Science and Technology Planning Project of Guangdong Province',\n",
       "   'award_id': '2016B010126001'},\n",
       "  {'funder': 'https://openalex.org/F4320335795',\n",
       "   'funder_display_name': 'Science and Technology Planning Project of Guangdong Province',\n",
       "   'award_id': '2016B090927010'}],\n",
       " 'locations': [{'is_oa': False,\n",
       "   'landing_page_url': 'https://doi.org/10.1109/tsmc.2020.2999485',\n",
       "   'pdf_url': None,\n",
       "   'source': {'id': 'https://openalex.org/S4210209078',\n",
       "    'display_name': 'IEEE transactions on systems, man, and cybernetics. Systems',\n",
       "    'issn_l': '2168-2216',\n",
       "    'issn': ['2168-2216', '2168-2232'],\n",
       "    'is_oa': False,\n",
       "    'is_in_doaj': False,\n",
       "    'host_organization': 'https://openalex.org/P4310319808',\n",
       "    'host_organization_name': 'Institute of Electrical and Electronics Engineers',\n",
       "    'host_organization_lineage': ['https://openalex.org/P4310319808'],\n",
       "    'host_organization_lineage_names': ['Institute of Electrical and Electronics Engineers'],\n",
       "    'type': 'journal'},\n",
       "   'license': None,\n",
       "   'license_id': None,\n",
       "   'version': None,\n",
       "   'is_accepted': False,\n",
       "   'is_published': False}]}"
      ]
     },
     "execution_count": 35,
     "metadata": {},
     "output_type": "execute_result"
    }
   ],
   "source": [
    "dfbig['authorships'].iloc[69] # raw_affiliation_strings    "
   ]
  },
  {
   "cell_type": "code",
   "execution_count": 36,
   "id": "dd90bb7a-d3d3-4c1a-9213-a1f1253a7aa0",
   "metadata": {},
   "outputs": [],
   "source": [
    "#dfbig['authorships'].tolist()\n",
    "bigvals = dfbig['authorships'].tolist()"
   ]
  },
  {
   "cell_type": "code",
   "execution_count": 37,
   "id": "3157f5cb-ba6c-4852-82ab-e2f32c0ad774",
   "metadata": {},
   "outputs": [],
   "source": [
    "dictvals = [c for c in bigvals if type(c) != float]"
   ]
  },
  {
   "cell_type": "code",
   "execution_count": 38,
   "id": "622045cc-42ac-4386-af27-07d2074eb56a",
   "metadata": {},
   "outputs": [
    {
     "data": {
      "text/plain": [
       "dict_keys(['id', 'display_name', 'orcid'])"
      ]
     },
     "execution_count": 38,
     "metadata": {},
     "output_type": "execute_result"
    }
   ],
   "source": [
    "dictvals[0]['author'].keys()"
   ]
  },
  {
   "cell_type": "markdown",
   "id": "534b8524-2c20-4813-8281-9c594b6d2be4",
   "metadata": {},
   "source": [
    "raw_affiliation_string -> raw_affiliation_strings"
   ]
  },
  {
   "cell_type": "code",
   "execution_count": 39,
   "id": "05aec55b-4869-49e3-919f-abf4c9c361d8",
   "metadata": {},
   "outputs": [],
   "source": [
    "dftriple = pd.json_normalize(dictvals,\n",
    "                  record_path=['institutions'],\n",
    "                  meta=['id','raw_affiliation_strings','author_position', 'doi',\n",
    "                        'title','abstract','publication_date', 'publication_year',\n",
    "                        'grants','locations',\n",
    "                        'is_corrresponding','x','y','cluster','cluster_score',\n",
    "                       ['author','id'], ['author', 'display_name'],\n",
    "                       ['author','orcid']],\n",
    "                  errors='ignore',\n",
    "                  sep='_',\n",
    "                  meta_prefix='paper_',\n",
    "                #  record_prefix='author_'\n",
    "                 )"
   ]
  },
  {
   "cell_type": "code",
   "execution_count": 40,
   "id": "7eb1b8e1-60e3-48e1-b24b-1447d6d13c22",
   "metadata": {},
   "outputs": [],
   "source": [
    "dftopics = dfcontentvectors.copy()\n",
    "dftopics['cluster'] = dfpapers['cluster']\n",
    "dfmeantopics = dftopics.groupby('cluster').mean().copy()\n",
    "reduced_topics = umap_reducer.transform(dfmeantopics.to_numpy())\n",
    "df_reduced_topics = pd.DataFrame.from_records(reduced_topics, \n",
    "                index=dfmeantopics.index)\n",
    "df_reduced_topics.columns = ['x','y']\n",
    "df_reduced_topics['topic'] = df_reduced_topics.index\n",
    "df_reduced_topics.head()\n",
    "\n",
    "def get_cluster_concepts(topic_num:int, n:int=20):\n",
    "    \"\"\"\n",
    "    takes an integer topic_num corresponding to a \n",
    "    given topic number and\n",
    "    returns the list of top n occuring concepts\n",
    "    from the top_concept field\n",
    "    \"\"\"\n",
    "    top_concepts = dfpapers[dfpapers['cluster'] == topic_num]['top_concepts'].tolist()\n",
    "    flat_concepts = [item for sublist in top_concepts for item in sublist]\n",
    "    concepts_dict = {c:flat_concepts.count(c) for c in flat_concepts}\n",
    "    sorted_concepts = sorted(concepts_dict.items(), key=lambda x:x[1], reverse=True)\n",
    "    return [c[0] for c in sorted_concepts][:n]\n",
    "\n",
    "def get_yake_cluster_phrases(topic_num:int, n:int=20):\n",
    "    \"\"\"\n",
    "    takes in an integer n corresponding\n",
    "    to a given topic number and\n",
    "    returns the list of keyphrases (TopicRank method)\n",
    "    \"\"\"\n",
    "    documents = dfpapers[dfpapers['cluster'] == topic_num]['content'].tolist()\n",
    "    topic_input = \". \".join(documents)\n",
    "    #extractor = pke.unsupervised.TextRank()\n",
    "    kw_extractor = yake.KeywordExtractor(top=n, stopwords=None)\n",
    "    keywords = kw_extractor.extract_keywords(topic_input)\n",
    "    #extractor.load_document(input=topic_input,\n",
    "    #                    language='en',\n",
    "    #                    normalization=None)\n",
    "\n",
    "    #extractor.candidate_selection()\n",
    "\n",
    "    #window = 2\n",
    "    #use_stems = False\n",
    "    #extractor.candidate_weighting(window=window,\n",
    "    #                          use_stems=use_stems)\n",
    "    #extractor.candidate_weighting()\n",
    "    #threshold = 0.8\n",
    "   # keyphrases = extractor.get_n_best(n=20, threshold=threshold)\n",
    "    #keyphrases = extractor.get_n_best(n=n)\n",
    "    return [p[0] for p in keywords]\n",
    "\n",
    "wikiconcepts = df_reduced_topics['topic'].apply(get_cluster_concepts)\n",
    "\n",
    "wikikeywords = df_reduced_topics['topic'].apply(get_yake_cluster_phrases)\n",
    "\n",
    "dfpapers['id'] = dfpapers.index\n",
    "dfinfo = dfpapers[['x','y','id','title','doi','cluster','grants',\n",
    "                   'locations',\n",
    "                 'publication_date','keywords','top_concepts']].copy()\n",
    "\n",
    "centroids = dfinfo.groupby('cluster')[['x','y']].mean().copy()\n",
    "centroids['concepts'] = wikiconcepts\n",
    "centroids['cluster'] = centroids.index\n",
    "centroids['keywords'] = wikikeywords"
   ]
  },
  {
   "cell_type": "code",
   "execution_count": 41,
   "id": "7ea32c35-9d6c-4ea0-ab58-e6fab98675b9",
   "metadata": {},
   "outputs": [],
   "source": [
    "def wrap_it(x):\n",
    "    return \"<br>\".join(textwrap.wrap(x, width=40))\n",
    "   # return \"<br>\".join(textwrap.wrap(x.replace(r'\\s+', ' '), width=40))"
   ]
  },
  {
   "cell_type": "code",
   "execution_count": 42,
   "id": "fa023e13-8cda-4037-ab4a-c5404ca4ecae",
   "metadata": {},
   "outputs": [],
   "source": [
    "centroids['wrapped_keywords'] = centroids['keywords'].apply(str).apply(wrap_it)\n",
    "centroids['wrapped_concepts'] = centroids['concepts'].apply(str).apply(wrap_it)"
   ]
  },
  {
   "cell_type": "code",
   "execution_count": 43,
   "id": "f5ecc3d2-10f7-49c6-b58e-aa5769605834",
   "metadata": {},
   "outputs": [],
   "source": [
    "centroids.to_pickle('updatejammingcentroids2d.pkl')"
   ]
  },
  {
   "cell_type": "code",
   "execution_count": 44,
   "id": "3c66c6c9-c657-426c-8172-aead595df3d5",
   "metadata": {},
   "outputs": [],
   "source": [
    "dftriple.to_pickle('updatejammingdftriple2d.pkl')"
   ]
  },
  {
   "cell_type": "code",
   "execution_count": 170,
   "id": "8d1f66c7-0240-4f34-a43d-25b76c0008fe",
   "metadata": {},
   "outputs": [],
   "source": [
    "def get_affils_cluster_sort(dc:pd.DataFrame, cl:int):\n",
    "    \"\"\"\n",
    "    restricts the dataframe dc to cluster value cl\n",
    "    and returns the results grouped by id, ror sorted\n",
    "    by the some of probablity descending\n",
    "    \"\"\"\n",
    "    # https://learning.oreilly.com/library/view/streamlit-for-data/9781803248226/text/ch004.xhtml\n",
    "    dg = dc[dc['paper_cluster'] == cl].copy()\n",
    "    print(cl)\n",
    "    dv = dg.groupby(['id','display_name','country_code',\n",
    "                     'type'])['paper_cluster_score'].sum().to_frame()\n",
    "    dv.sort_values('paper_cluster_score', ascending=False, inplace=True)\n",
    "    dv.reset_index(inplace=True) # map the display_name column with the geo_dict to get lattitude, longitude\n",
    "    dv['latitude'] = dv['display_name'].apply(lambda x: affil_geo_dict.get(x, (None, None))[0])\n",
    "    dv['longitude'] = dv['display_name'].apply(lambda x: affil_geo_dict.get(x, (None, None))[1])\n",
    "    kw = centroids[centroids.cluster == cl]['keywords'].iloc[0]\n",
    "    return dv, kw"
   ]
  },
  {
   "cell_type": "code",
   "execution_count": 46,
   "id": "665d0e1a-1b34-49fd-98ce-f4b65a9ea9ec",
   "metadata": {},
   "outputs": [
    {
     "name": "stdout",
     "output_type": "stream",
     "text": [
      "1\n",
      "['robotic manipulator system', 'Robotic Manipulator', 'Robotic Manipulator Control', 'Robot manipulator', 'Sliding Mode Control', 'Flexible Robotic Manipulator', 'robotic manipulator based', 'redundant robot manipulators', 'manipulator control system', 'Timoshenko robotic manipulator', 'industrial robot manipulator', 'Robot Manipulators Based', 'Robotic Arm Manipulator', 'control robotic manipulators', 'Robot Manipulators Control', 'DOF Robotic Manipulator', 'Soft Robotic Manipulators', 'robot manipulator systems', 'Manipulator Robotic Control', 'Manipulator']\n"
     ]
    },
    {
     "data": {
      "text/html": [
       "<div>\n",
       "<style scoped>\n",
       "    .dataframe tbody tr th:only-of-type {\n",
       "        vertical-align: middle;\n",
       "    }\n",
       "\n",
       "    .dataframe tbody tr th {\n",
       "        vertical-align: top;\n",
       "    }\n",
       "\n",
       "    .dataframe thead th {\n",
       "        text-align: right;\n",
       "    }\n",
       "</style>\n",
       "<table border=\"1\" class=\"dataframe\">\n",
       "  <thead>\n",
       "    <tr style=\"text-align: right;\">\n",
       "      <th></th>\n",
       "      <th></th>\n",
       "      <th></th>\n",
       "      <th></th>\n",
       "      <th>paper_cluster_score</th>\n",
       "    </tr>\n",
       "    <tr>\n",
       "      <th>id</th>\n",
       "      <th>display_name</th>\n",
       "      <th>country_code</th>\n",
       "      <th>type</th>\n",
       "      <th></th>\n",
       "    </tr>\n",
       "  </thead>\n",
       "  <tbody>\n",
       "    <tr>\n",
       "      <th>https://openalex.org/I204983213</th>\n",
       "      <th>Harbin Institute of Technology</th>\n",
       "      <th>CN</th>\n",
       "      <th>education</th>\n",
       "      <td>83.0</td>\n",
       "    </tr>\n",
       "    <tr>\n",
       "      <th>https://openalex.org/I125839683</th>\n",
       "      <th>Beijing Institute of Technology</th>\n",
       "      <th>CN</th>\n",
       "      <th>education</th>\n",
       "      <td>67.0</td>\n",
       "    </tr>\n",
       "    <tr>\n",
       "      <th>https://openalex.org/I19820366</th>\n",
       "      <th>Chinese Academy of Sciences</th>\n",
       "      <th>CN</th>\n",
       "      <th>government</th>\n",
       "      <td>51.0</td>\n",
       "    </tr>\n",
       "    <tr>\n",
       "      <th>https://openalex.org/I90610280</th>\n",
       "      <th>South China University of Technology</th>\n",
       "      <th>CN</th>\n",
       "      <th>education</th>\n",
       "      <td>50.961082</td>\n",
       "    </tr>\n",
       "    <tr>\n",
       "      <th>https://openalex.org/I92403157</th>\n",
       "      <th>University of Science and Technology Beijing</th>\n",
       "      <th>CN</th>\n",
       "      <th>education</th>\n",
       "      <td>49.0</td>\n",
       "    </tr>\n",
       "    <tr>\n",
       "      <th>https://openalex.org/I157773358</th>\n",
       "      <th>Sun Yat-sen University</th>\n",
       "      <th>CN</th>\n",
       "      <th>education</th>\n",
       "      <td>47.0</td>\n",
       "    </tr>\n",
       "    <tr>\n",
       "      <th>https://openalex.org/I62916508</th>\n",
       "      <th>Technical University of Munich</th>\n",
       "      <th>DE</th>\n",
       "      <th>education</th>\n",
       "      <td>42.0</td>\n",
       "    </tr>\n",
       "    <tr>\n",
       "      <th>https://openalex.org/I40542001</th>\n",
       "      <th>University of Ulsan</th>\n",
       "      <th>KR</th>\n",
       "      <th>education</th>\n",
       "      <td>40.0</td>\n",
       "    </tr>\n",
       "    <tr>\n",
       "      <th>https://openalex.org/I47508984</th>\n",
       "      <th>Imperial College London</th>\n",
       "      <th>GB</th>\n",
       "      <th>education</th>\n",
       "      <td>40.0</td>\n",
       "    </tr>\n",
       "    <tr>\n",
       "      <th>https://openalex.org/I197347611</th>\n",
       "      <th>Korea University</th>\n",
       "      <th>KR</th>\n",
       "      <th>education</th>\n",
       "      <td>39.0</td>\n",
       "    </tr>\n",
       "  </tbody>\n",
       "</table>\n",
       "</div>"
      ],
      "text/plain": [
       "                                                                                                     paper_cluster_score\n",
       "id                              display_name                                 country_code type                          \n",
       "https://openalex.org/I204983213 Harbin Institute of Technology               CN           education                 83.0\n",
       "https://openalex.org/I125839683 Beijing Institute of Technology              CN           education                 67.0\n",
       "https://openalex.org/I19820366  Chinese Academy of Sciences                  CN           government                51.0\n",
       "https://openalex.org/I90610280  South China University of Technology         CN           education            50.961082\n",
       "https://openalex.org/I92403157  University of Science and Technology Beijing CN           education                 49.0\n",
       "https://openalex.org/I157773358 Sun Yat-sen University                       CN           education                 47.0\n",
       "https://openalex.org/I62916508  Technical University of Munich               DE           education                 42.0\n",
       "https://openalex.org/I40542001  University of Ulsan                          KR           education                 40.0\n",
       "https://openalex.org/I47508984  Imperial College London                      GB           education                 40.0\n",
       "https://openalex.org/I197347611 Korea University                             KR           education                 39.0"
      ]
     },
     "execution_count": 46,
     "metadata": {},
     "output_type": "execute_result"
    }
   ],
   "source": [
    "dv84, kw84 = get_affils_cluster_sort(dftriple, 1)\n",
    "print(kw84)\n",
    "dv84.head(10)"
   ]
  },
  {
   "cell_type": "code",
   "execution_count": 171,
   "id": "7d92cb7c-b0be-43f7-9862-19a9ccfd0b77",
   "metadata": {},
   "outputs": [
    {
     "name": "stdout",
     "output_type": "stream",
     "text": [
      "0\n",
      "['Aerial Manipulator', 'Aerial Manipulator Robot', 'Aerial Robotic Manipulators', 'Aerial', 'Manipulator', 'Aerial Manipulator System', 'unmanned aerial vehicle', 'aerial manipulator control', 'Control Aerial Manipulator', 'aerial manipulation', 'Aerial Robotic', 'aerial manipulator vehicle', 'aerial vehicle', 'Protocentric Aerial Manipulators', 'proposed aerial manipulator', 'Unmanned aerial', 'Robotic Manipulator', 'control', 'Aerial Robotic System', 'robotic arm']\n"
     ]
    },
    {
     "data": {
      "text/html": [
       "<div>\n",
       "<style scoped>\n",
       "    .dataframe tbody tr th:only-of-type {\n",
       "        vertical-align: middle;\n",
       "    }\n",
       "\n",
       "    .dataframe tbody tr th {\n",
       "        vertical-align: top;\n",
       "    }\n",
       "\n",
       "    .dataframe thead th {\n",
       "        text-align: right;\n",
       "    }\n",
       "</style>\n",
       "<table border=\"1\" class=\"dataframe\">\n",
       "  <thead>\n",
       "    <tr style=\"text-align: right;\">\n",
       "      <th></th>\n",
       "      <th>id</th>\n",
       "      <th>display_name</th>\n",
       "      <th>country_code</th>\n",
       "      <th>type</th>\n",
       "      <th>paper_cluster_score</th>\n",
       "      <th>latitude</th>\n",
       "      <th>longitude</th>\n",
       "    </tr>\n",
       "  </thead>\n",
       "  <tbody>\n",
       "    <tr>\n",
       "      <th>0</th>\n",
       "      <td>https://openalex.org/I4210098188</td>\n",
       "      <td>Laboratori Guglielmo Marconi (Italy)</td>\n",
       "      <td>IT</td>\n",
       "      <td>company</td>\n",
       "      <td>8.0</td>\n",
       "      <td>44.493810</td>\n",
       "      <td>11.338750</td>\n",
       "    </tr>\n",
       "    <tr>\n",
       "      <th>1</th>\n",
       "      <td>https://openalex.org/I2801039369</td>\n",
       "      <td>Marconi University</td>\n",
       "      <td>IT</td>\n",
       "      <td>education</td>\n",
       "      <td>8.0</td>\n",
       "      <td>41.912777</td>\n",
       "      <td>12.393333</td>\n",
       "    </tr>\n",
       "    <tr>\n",
       "      <th>2</th>\n",
       "      <td>https://openalex.org/I9360294</td>\n",
       "      <td>University of Bologna</td>\n",
       "      <td>IT</td>\n",
       "      <td>education</td>\n",
       "      <td>8.0</td>\n",
       "      <td>44.493810</td>\n",
       "      <td>11.338750</td>\n",
       "    </tr>\n",
       "    <tr>\n",
       "      <th>3</th>\n",
       "      <td>https://openalex.org/I118946981</td>\n",
       "      <td>Escuela Politécnica del Ejército</td>\n",
       "      <td>EC</td>\n",
       "      <td>education</td>\n",
       "      <td>7.253707</td>\n",
       "      <td>-0.334050</td>\n",
       "      <td>-78.452170</td>\n",
       "    </tr>\n",
       "    <tr>\n",
       "      <th>4</th>\n",
       "      <td>https://openalex.org/I82880672</td>\n",
       "      <td>Beihang University</td>\n",
       "      <td>CN</td>\n",
       "      <td>education</td>\n",
       "      <td>5.609914</td>\n",
       "      <td>39.907500</td>\n",
       "      <td>116.397230</td>\n",
       "    </tr>\n",
       "    <tr>\n",
       "      <th>5</th>\n",
       "      <td>https://openalex.org/I79238269</td>\n",
       "      <td>Universidad de Sevilla</td>\n",
       "      <td>ES</td>\n",
       "      <td>education</td>\n",
       "      <td>5.505059</td>\n",
       "      <td>37.382830</td>\n",
       "      <td>-5.973170</td>\n",
       "    </tr>\n",
       "    <tr>\n",
       "      <th>6</th>\n",
       "      <td>https://openalex.org/I190497903</td>\n",
       "      <td>Laboratory for Analysis and Architecture of Sy...</td>\n",
       "      <td>FR</td>\n",
       "      <td>facility</td>\n",
       "      <td>5.298005</td>\n",
       "      <td>43.604260</td>\n",
       "      <td>1.443670</td>\n",
       "    </tr>\n",
       "    <tr>\n",
       "      <th>7</th>\n",
       "      <td>https://openalex.org/I17866349</td>\n",
       "      <td>Université de Toulouse</td>\n",
       "      <td>FR</td>\n",
       "      <td>education</td>\n",
       "      <td>4.527324</td>\n",
       "      <td>43.604260</td>\n",
       "      <td>1.443670</td>\n",
       "    </tr>\n",
       "    <tr>\n",
       "      <th>8</th>\n",
       "      <td>https://openalex.org/I1294671590</td>\n",
       "      <td>French National Centre for Scientific Research</td>\n",
       "      <td>FR</td>\n",
       "      <td>government</td>\n",
       "      <td>4.527324</td>\n",
       "      <td>48.853410</td>\n",
       "      <td>2.348800</td>\n",
       "    </tr>\n",
       "    <tr>\n",
       "      <th>9</th>\n",
       "      <td>https://openalex.org/I195740183</td>\n",
       "      <td>University of Moratuwa</td>\n",
       "      <td>LK</td>\n",
       "      <td>education</td>\n",
       "      <td>4.0</td>\n",
       "      <td>6.773000</td>\n",
       "      <td>79.881600</td>\n",
       "    </tr>\n",
       "  </tbody>\n",
       "</table>\n",
       "</div>"
      ],
      "text/plain": [
       "                                 id  \\\n",
       "0  https://openalex.org/I4210098188   \n",
       "1  https://openalex.org/I2801039369   \n",
       "2     https://openalex.org/I9360294   \n",
       "3   https://openalex.org/I118946981   \n",
       "4    https://openalex.org/I82880672   \n",
       "5    https://openalex.org/I79238269   \n",
       "6   https://openalex.org/I190497903   \n",
       "7    https://openalex.org/I17866349   \n",
       "8  https://openalex.org/I1294671590   \n",
       "9   https://openalex.org/I195740183   \n",
       "\n",
       "                                        display_name country_code        type  \\\n",
       "0               Laboratori Guglielmo Marconi (Italy)           IT     company   \n",
       "1                                 Marconi University           IT   education   \n",
       "2                              University of Bologna           IT   education   \n",
       "3                   Escuela Politécnica del Ejército           EC   education   \n",
       "4                                 Beihang University           CN   education   \n",
       "5                             Universidad de Sevilla           ES   education   \n",
       "6  Laboratory for Analysis and Architecture of Sy...           FR    facility   \n",
       "7                             Université de Toulouse           FR   education   \n",
       "8     French National Centre for Scientific Research           FR  government   \n",
       "9                             University of Moratuwa           LK   education   \n",
       "\n",
       "  paper_cluster_score   latitude   longitude  \n",
       "0                 8.0  44.493810   11.338750  \n",
       "1                 8.0  41.912777   12.393333  \n",
       "2                 8.0  44.493810   11.338750  \n",
       "3            7.253707  -0.334050  -78.452170  \n",
       "4            5.609914  39.907500  116.397230  \n",
       "5            5.505059  37.382830   -5.973170  \n",
       "6            5.298005  43.604260    1.443670  \n",
       "7            4.527324  43.604260    1.443670  \n",
       "8            4.527324  48.853410    2.348800  \n",
       "9                 4.0   6.773000   79.881600  "
      ]
     },
     "execution_count": 171,
     "metadata": {},
     "output_type": "execute_result"
    }
   ],
   "source": [
    "dv84, kw84 = get_affils_cluster_sort(dftriple, 0)\n",
    "print(kw84)\n",
    "dv84.head(10)"
   ]
  },
  {
   "cell_type": "code",
   "execution_count": 48,
   "id": "8d0af947-cf9e-413a-a7a2-46410af0d5c3",
   "metadata": {},
   "outputs": [
    {
     "name": "stdout",
     "output_type": "stream",
     "text": [
      "0\n",
      "['Aerial Manipulator', 'Aerial Manipulator Robot', 'Aerial Robotic Manipulators', 'Aerial', 'Manipulator', 'Aerial Manipulator System', 'unmanned aerial vehicle', 'aerial manipulator control', 'Control Aerial Manipulator', 'aerial manipulation', 'Aerial Robotic', 'aerial manipulator vehicle', 'aerial vehicle', 'Protocentric Aerial Manipulators', 'proposed aerial manipulator', 'Unmanned aerial', 'Robotic Manipulator', 'control', 'Aerial Robotic System', 'robotic arm']\n"
     ]
    },
    {
     "data": {
      "text/html": [
       "<div>\n",
       "<style scoped>\n",
       "    .dataframe tbody tr th:only-of-type {\n",
       "        vertical-align: middle;\n",
       "    }\n",
       "\n",
       "    .dataframe tbody tr th {\n",
       "        vertical-align: top;\n",
       "    }\n",
       "\n",
       "    .dataframe thead th {\n",
       "        text-align: right;\n",
       "    }\n",
       "</style>\n",
       "<table border=\"1\" class=\"dataframe\">\n",
       "  <thead>\n",
       "    <tr style=\"text-align: right;\">\n",
       "      <th></th>\n",
       "      <th></th>\n",
       "      <th></th>\n",
       "      <th></th>\n",
       "      <th>paper_cluster_score</th>\n",
       "    </tr>\n",
       "    <tr>\n",
       "      <th>id</th>\n",
       "      <th>display_name</th>\n",
       "      <th>country_code</th>\n",
       "      <th>type</th>\n",
       "      <th></th>\n",
       "    </tr>\n",
       "  </thead>\n",
       "  <tbody>\n",
       "    <tr>\n",
       "      <th>https://openalex.org/I4210098188</th>\n",
       "      <th>Laboratori Guglielmo Marconi (Italy)</th>\n",
       "      <th>IT</th>\n",
       "      <th>company</th>\n",
       "      <td>8.0</td>\n",
       "    </tr>\n",
       "    <tr>\n",
       "      <th>https://openalex.org/I2801039369</th>\n",
       "      <th>Marconi University</th>\n",
       "      <th>IT</th>\n",
       "      <th>education</th>\n",
       "      <td>8.0</td>\n",
       "    </tr>\n",
       "    <tr>\n",
       "      <th>https://openalex.org/I9360294</th>\n",
       "      <th>University of Bologna</th>\n",
       "      <th>IT</th>\n",
       "      <th>education</th>\n",
       "      <td>8.0</td>\n",
       "    </tr>\n",
       "    <tr>\n",
       "      <th>https://openalex.org/I118946981</th>\n",
       "      <th>Escuela Politécnica del Ejército</th>\n",
       "      <th>EC</th>\n",
       "      <th>education</th>\n",
       "      <td>7.253707</td>\n",
       "    </tr>\n",
       "    <tr>\n",
       "      <th>https://openalex.org/I82880672</th>\n",
       "      <th>Beihang University</th>\n",
       "      <th>CN</th>\n",
       "      <th>education</th>\n",
       "      <td>5.609914</td>\n",
       "    </tr>\n",
       "    <tr>\n",
       "      <th>https://openalex.org/I79238269</th>\n",
       "      <th>Universidad de Sevilla</th>\n",
       "      <th>ES</th>\n",
       "      <th>education</th>\n",
       "      <td>5.505059</td>\n",
       "    </tr>\n",
       "    <tr>\n",
       "      <th>https://openalex.org/I190497903</th>\n",
       "      <th>Laboratory for Analysis and Architecture of Systems</th>\n",
       "      <th>FR</th>\n",
       "      <th>facility</th>\n",
       "      <td>5.298005</td>\n",
       "    </tr>\n",
       "    <tr>\n",
       "      <th>https://openalex.org/I17866349</th>\n",
       "      <th>Université de Toulouse</th>\n",
       "      <th>FR</th>\n",
       "      <th>education</th>\n",
       "      <td>4.527324</td>\n",
       "    </tr>\n",
       "    <tr>\n",
       "      <th>https://openalex.org/I1294671590</th>\n",
       "      <th>French National Centre for Scientific Research</th>\n",
       "      <th>FR</th>\n",
       "      <th>government</th>\n",
       "      <td>4.527324</td>\n",
       "    </tr>\n",
       "    <tr>\n",
       "      <th>https://openalex.org/I195740183</th>\n",
       "      <th>University of Moratuwa</th>\n",
       "      <th>LK</th>\n",
       "      <th>education</th>\n",
       "      <td>4.0</td>\n",
       "    </tr>\n",
       "    <tr>\n",
       "      <th>https://openalex.org/I181343428</th>\n",
       "      <th>University of Zagreb</th>\n",
       "      <th>HR</th>\n",
       "      <th>education</th>\n",
       "      <td>4.0</td>\n",
       "    </tr>\n",
       "    <tr>\n",
       "      <th>https://openalex.org/I70764802</th>\n",
       "      <th>National Polytechnic School</th>\n",
       "      <th>EC</th>\n",
       "      <th>education</th>\n",
       "      <td>4.0</td>\n",
       "    </tr>\n",
       "    <tr>\n",
       "      <th>https://openalex.org/I157773358</th>\n",
       "      <th>Sun Yat-sen University</th>\n",
       "      <th>CN</th>\n",
       "      <th>education</th>\n",
       "      <td>3.985797</td>\n",
       "    </tr>\n",
       "    <tr>\n",
       "      <th>https://openalex.org/I2898391981</th>\n",
       "      <th>German Aerospace Center</th>\n",
       "      <th>DE</th>\n",
       "      <th>facility</th>\n",
       "      <td>3.580569</td>\n",
       "    </tr>\n",
       "    <tr>\n",
       "      <th>https://openalex.org/I71267560</th>\n",
       "      <th>University of Naples Federico II</th>\n",
       "      <th>IT</th>\n",
       "      <th>education</th>\n",
       "      <td>3.49457</td>\n",
       "    </tr>\n",
       "    <tr>\n",
       "      <th>https://openalex.org/I99542240</th>\n",
       "      <th>Polish Academy of Sciences</th>\n",
       "      <th>PL</th>\n",
       "      <th>government</th>\n",
       "      <td>3.0</td>\n",
       "    </tr>\n",
       "    <tr>\n",
       "      <th>https://openalex.org/I686019</th>\n",
       "      <th>AGH University of Krakow</th>\n",
       "      <th>PL</th>\n",
       "      <th>education</th>\n",
       "      <td>3.0</td>\n",
       "    </tr>\n",
       "    <tr>\n",
       "      <th>https://openalex.org/I122697084</th>\n",
       "      <th>Centrum Badań Kosmicznych</th>\n",
       "      <th>PL</th>\n",
       "      <th>facility</th>\n",
       "      <td>3.0</td>\n",
       "    </tr>\n",
       "    <tr>\n",
       "      <th>https://openalex.org/I889458895</th>\n",
       "      <th>University of Hong Kong</th>\n",
       "      <th>HK</th>\n",
       "      <th>education</th>\n",
       "      <td>3.0</td>\n",
       "    </tr>\n",
       "    <tr>\n",
       "      <th>https://openalex.org/I110200422</th>\n",
       "      <th>Universidade Federal de Minas Gerais</th>\n",
       "      <th>BR</th>\n",
       "      <th>education</th>\n",
       "      <td>3.0</td>\n",
       "    </tr>\n",
       "  </tbody>\n",
       "</table>\n",
       "</div>"
      ],
      "text/plain": [
       "                                                                                                            paper_cluster_score\n",
       "id                               display_name                                       country_code type                          \n",
       "https://openalex.org/I4210098188 Laboratori Guglielmo Marconi (Italy)               IT           company                    8.0\n",
       "https://openalex.org/I2801039369 Marconi University                                 IT           education                  8.0\n",
       "https://openalex.org/I9360294    University of Bologna                              IT           education                  8.0\n",
       "https://openalex.org/I118946981  Escuela Politécnica del Ejército                   EC           education             7.253707\n",
       "https://openalex.org/I82880672   Beihang University                                 CN           education             5.609914\n",
       "https://openalex.org/I79238269   Universidad de Sevilla                             ES           education             5.505059\n",
       "https://openalex.org/I190497903  Laboratory for Analysis and Architecture of Sys... FR           facility              5.298005\n",
       "https://openalex.org/I17866349   Université de Toulouse                             FR           education             4.527324\n",
       "https://openalex.org/I1294671590 French National Centre for Scientific Research     FR           government            4.527324\n",
       "https://openalex.org/I195740183  University of Moratuwa                             LK           education                  4.0\n",
       "https://openalex.org/I181343428  University of Zagreb                               HR           education                  4.0\n",
       "https://openalex.org/I70764802   National Polytechnic School                        EC           education                  4.0\n",
       "https://openalex.org/I157773358  Sun Yat-sen University                             CN           education             3.985797\n",
       "https://openalex.org/I2898391981 German Aerospace Center                            DE           facility              3.580569\n",
       "https://openalex.org/I71267560   University of Naples Federico II                   IT           education              3.49457\n",
       "https://openalex.org/I99542240   Polish Academy of Sciences                         PL           government                 3.0\n",
       "https://openalex.org/I686019     AGH University of Krakow                           PL           education                  3.0\n",
       "https://openalex.org/I122697084  Centrum Badań Kosmicznych                          PL           facility                   3.0\n",
       "https://openalex.org/I889458895  University of Hong Kong                            HK           education                  3.0\n",
       "https://openalex.org/I110200422  Universidade Federal de Minas Gerais               BR           education                  3.0"
      ]
     },
     "execution_count": 48,
     "metadata": {},
     "output_type": "execute_result"
    }
   ],
   "source": [
    "dv84, kw84 = get_affils_cluster_sort(dftriple, 0)\n",
    "print(kw84)\n",
    "dv84.head(20)"
   ]
  },
  {
   "cell_type": "code",
   "execution_count": 49,
   "id": "4fdf9897-e69e-40ad-bfa6-9b3f608aecf3",
   "metadata": {},
   "outputs": [],
   "source": [
    "dfinfo = dfpapers[['x','y','id','title','doi','cluster','probability',\n",
    "                 'publication_date','grants','locations',\n",
    "                   'keywords','top_concepts']].copy()"
   ]
  },
  {
   "cell_type": "code",
   "execution_count": 50,
   "id": "a29de784-de2f-4f13-8e24-e7b6b2e813bd",
   "metadata": {},
   "outputs": [
    {
     "data": {
      "text/plain": [
       "{'is_oa': False,\n",
       " 'landing_page_url': 'https://doi.org/10.1016/j.robot.2017.05.015',\n",
       " 'pdf_url': None,\n",
       " 'source': {'id': 'https://openalex.org/S133768115',\n",
       "  'display_name': 'Robotics and autonomous systems',\n",
       "  'issn_l': '0921-8890',\n",
       "  'issn': ['0921-8890', '1872-793X'],\n",
       "  'is_oa': False,\n",
       "  'is_in_doaj': False,\n",
       "  'host_organization': 'https://openalex.org/P4310320990',\n",
       "  'host_organization_name': 'Elsevier BV',\n",
       "  'host_organization_lineage': ['https://openalex.org/P4310320990'],\n",
       "  'host_organization_lineage_names': ['Elsevier BV'],\n",
       "  'type': 'journal'},\n",
       " 'license': None,\n",
       " 'license_id': None,\n",
       " 'version': None,\n",
       " 'is_accepted': False,\n",
       " 'is_published': False}"
      ]
     },
     "execution_count": 50,
     "metadata": {},
     "output_type": "execute_result"
    }
   ],
   "source": [
    "dfpapers['primary_location'].iloc[58]"
   ]
  },
  {
   "cell_type": "code",
   "execution_count": 51,
   "id": "df767467-cfc7-4118-a6ca-c0307363ed18",
   "metadata": {},
   "outputs": [
    {
     "data": {
      "text/plain": [
       "[{'is_oa': False,\n",
       "  'landing_page_url': 'https://doi.org/10.1016/j.robot.2017.05.015',\n",
       "  'pdf_url': None,\n",
       "  'source': {'id': 'https://openalex.org/S133768115',\n",
       "   'display_name': 'Robotics and autonomous systems',\n",
       "   'issn_l': '0921-8890',\n",
       "   'issn': ['0921-8890', '1872-793X'],\n",
       "   'is_oa': False,\n",
       "   'is_in_doaj': False,\n",
       "   'host_organization': 'https://openalex.org/P4310320990',\n",
       "   'host_organization_name': 'Elsevier BV',\n",
       "   'host_organization_lineage': ['https://openalex.org/P4310320990'],\n",
       "   'host_organization_lineage_names': ['Elsevier BV'],\n",
       "   'type': 'journal'},\n",
       "  'license': None,\n",
       "  'license_id': None,\n",
       "  'version': None,\n",
       "  'is_accepted': False,\n",
       "  'is_published': False}]"
      ]
     },
     "execution_count": 51,
     "metadata": {},
     "output_type": "execute_result"
    }
   ],
   "source": [
    "dfpapers['locations'].iloc[58]"
   ]
  },
  {
   "cell_type": "code",
   "execution_count": 52,
   "id": "b54b3fef-687c-435a-a450-214a92136b5f",
   "metadata": {},
   "outputs": [
    {
     "data": {
      "text/plain": [
       "Index(['id', 'display_name', 'ror', 'country_code', 'type', 'lineage',\n",
       "       'paper_id', 'paper_raw_affiliation_strings', 'paper_author_position',\n",
       "       'paper_doi', 'paper_title', 'paper_abstract', 'paper_publication_date',\n",
       "       'paper_publication_year', 'paper_grants', 'paper_locations',\n",
       "       'paper_is_corrresponding', 'paper_x', 'paper_y', 'paper_cluster',\n",
       "       'paper_cluster_score', 'paper_author_id', 'paper_author_display_name',\n",
       "       'paper_author_orcid'],\n",
       "      dtype='object')"
      ]
     },
     "execution_count": 52,
     "metadata": {},
     "output_type": "execute_result"
    }
   ],
   "source": [
    "dftriple.columns"
   ]
  },
  {
   "cell_type": "code",
   "execution_count": 53,
   "id": "8266f142-deeb-447c-a3bb-637e8f7acff3",
   "metadata": {},
   "outputs": [
    {
     "data": {
      "text/html": [
       "<div>\n",
       "<style scoped>\n",
       "    .dataframe tbody tr th:only-of-type {\n",
       "        vertical-align: middle;\n",
       "    }\n",
       "\n",
       "    .dataframe tbody tr th {\n",
       "        vertical-align: top;\n",
       "    }\n",
       "\n",
       "    .dataframe thead th {\n",
       "        text-align: right;\n",
       "    }\n",
       "</style>\n",
       "<table border=\"1\" class=\"dataframe\">\n",
       "  <thead>\n",
       "    <tr style=\"text-align: right;\">\n",
       "      <th></th>\n",
       "      <th>paper_id</th>\n",
       "      <th>paper_raw_affiliation_strings</th>\n",
       "    </tr>\n",
       "  </thead>\n",
       "  <tbody>\n",
       "    <tr>\n",
       "      <th>0</th>\n",
       "      <td>https://openalex.org/W2740675802</td>\n",
       "      <td>[Ministry of Education, Key Laboratory of Know...</td>\n",
       "    </tr>\n",
       "    <tr>\n",
       "      <th>1</th>\n",
       "      <td>https://openalex.org/W2740675802</td>\n",
       "      <td>[Ministry of Education, Key Laboratory of Know...</td>\n",
       "    </tr>\n",
       "    <tr>\n",
       "      <th>2</th>\n",
       "      <td>https://openalex.org/W2740675802</td>\n",
       "      <td>[Department of Electrical and Computer Enginee...</td>\n",
       "    </tr>\n",
       "    <tr>\n",
       "      <th>3</th>\n",
       "      <td>https://openalex.org/W2418767125</td>\n",
       "      <td>[School of Automation, Southeast University, N...</td>\n",
       "    </tr>\n",
       "    <tr>\n",
       "      <th>4</th>\n",
       "      <td>https://openalex.org/W2418767125</td>\n",
       "      <td>[School of Automation and Electrical Engineeri...</td>\n",
       "    </tr>\n",
       "  </tbody>\n",
       "</table>\n",
       "</div>"
      ],
      "text/plain": [
       "                           paper_id  \\\n",
       "0  https://openalex.org/W2740675802   \n",
       "1  https://openalex.org/W2740675802   \n",
       "2  https://openalex.org/W2740675802   \n",
       "3  https://openalex.org/W2418767125   \n",
       "4  https://openalex.org/W2418767125   \n",
       "\n",
       "                       paper_raw_affiliation_strings  \n",
       "0  [Ministry of Education, Key Laboratory of Know...  \n",
       "1  [Ministry of Education, Key Laboratory of Know...  \n",
       "2  [Department of Electrical and Computer Enginee...  \n",
       "3  [School of Automation, Southeast University, N...  \n",
       "4  [School of Automation and Electrical Engineeri...  "
      ]
     },
     "execution_count": 53,
     "metadata": {},
     "output_type": "execute_result"
    }
   ],
   "source": [
    "dftriple[['paper_id','paper_raw_affiliation_strings']].head()"
   ]
  },
  {
   "cell_type": "code",
   "execution_count": 54,
   "id": "a9cce90a-668d-48a9-b3c5-310cdd417742",
   "metadata": {},
   "outputs": [
    {
     "data": {
      "text/plain": [
       "[School of Information and Communication Engineering, University of Electronic Science and Technology of China, Chengdu, China]                     102\n",
       "[Sandia National Laboratories, P.O. Box 5800, Albuquerque, New Mexico 87185, USA]                                                                    91\n",
       "[Sandia National Laboratories, Albuquerque, New Mexico 87185, USA]                                                                                   85\n",
       "[State Key Laboratory of Electronic Thin Films and Integrated Devices, University of Electronic Science and Technology of China, Chengdu, China]     84\n",
       "[School of Electrical and Electronic Engineering, Shandong University of Technology, Zibo, China]                                                    80\n",
       "                                                                                                                                                   ... \n",
       "[Pohang University of Science and Technology, Pohang, Gyeongbuk, Korea]                                                                               1\n",
       "[Agency for Defense Development,,,Daejeon,,Korea]                                                                                                     1\n",
       "[Western Australian School of Mines, Curtin University, Bentley, Perth, WA, 6845, Australia]                                                          1\n",
       "[University of Pisa, Department of Information Engineering (DII), Pisa, Italy]                                                                        1\n",
       "[Inter-branch Scientific Research Institute of Physical Simulation Problems, Kharkiv, Ukraine]                                                        1\n",
       "Name: paper_raw_affiliation_strings, Length: 11063, dtype: int64"
      ]
     },
     "execution_count": 54,
     "metadata": {},
     "output_type": "execute_result"
    }
   ],
   "source": [
    "dftriple['paper_raw_affiliation_strings'].value_counts(dropna=False)"
   ]
  },
  {
   "cell_type": "code",
   "execution_count": 55,
   "id": "5f96506c-b7c0-452f-876e-3af37c04cccd",
   "metadata": {},
   "outputs": [
    {
     "data": {
      "text/html": [
       "<div>\n",
       "<style scoped>\n",
       "    .dataframe tbody tr th:only-of-type {\n",
       "        vertical-align: middle;\n",
       "    }\n",
       "\n",
       "    .dataframe tbody tr th {\n",
       "        vertical-align: top;\n",
       "    }\n",
       "\n",
       "    .dataframe thead th {\n",
       "        text-align: right;\n",
       "    }\n",
       "</style>\n",
       "<table border=\"1\" class=\"dataframe\">\n",
       "  <thead>\n",
       "    <tr style=\"text-align: right;\">\n",
       "      <th></th>\n",
       "      <th>paper_id</th>\n",
       "      <th>paper_raw_affiliation_strings</th>\n",
       "    </tr>\n",
       "  </thead>\n",
       "  <tbody>\n",
       "    <tr>\n",
       "      <th>0</th>\n",
       "      <td>https://openalex.org/W2740675802</td>\n",
       "      <td>[Ministry of Education, Key Laboratory of Know...</td>\n",
       "    </tr>\n",
       "    <tr>\n",
       "      <th>1</th>\n",
       "      <td>https://openalex.org/W2740675802</td>\n",
       "      <td>[Ministry of Education, Key Laboratory of Know...</td>\n",
       "    </tr>\n",
       "    <tr>\n",
       "      <th>2</th>\n",
       "      <td>https://openalex.org/W2740675802</td>\n",
       "      <td>[Department of Electrical and Computer Enginee...</td>\n",
       "    </tr>\n",
       "    <tr>\n",
       "      <th>3</th>\n",
       "      <td>https://openalex.org/W2418767125</td>\n",
       "      <td>[School of Automation, Southeast University, N...</td>\n",
       "    </tr>\n",
       "    <tr>\n",
       "      <th>4</th>\n",
       "      <td>https://openalex.org/W2418767125</td>\n",
       "      <td>[School of Automation and Electrical Engineeri...</td>\n",
       "    </tr>\n",
       "  </tbody>\n",
       "</table>\n",
       "</div>"
      ],
      "text/plain": [
       "                           paper_id  \\\n",
       "0  https://openalex.org/W2740675802   \n",
       "1  https://openalex.org/W2740675802   \n",
       "2  https://openalex.org/W2740675802   \n",
       "3  https://openalex.org/W2418767125   \n",
       "4  https://openalex.org/W2418767125   \n",
       "\n",
       "                       paper_raw_affiliation_strings  \n",
       "0  [Ministry of Education, Key Laboratory of Know...  \n",
       "1  [Ministry of Education, Key Laboratory of Know...  \n",
       "2  [Department of Electrical and Computer Enginee...  \n",
       "3  [School of Automation, Southeast University, N...  \n",
       "4  [School of Automation and Electrical Engineeri...  "
      ]
     },
     "execution_count": 55,
     "metadata": {},
     "output_type": "execute_result"
    }
   ],
   "source": [
    "dftriple[['paper_id','paper_raw_affiliation_strings']].head()"
   ]
  },
  {
   "cell_type": "code",
   "execution_count": 56,
   "id": "c97c5148-f570-4341-885e-5237df8b8c49",
   "metadata": {},
   "outputs": [],
   "source": [
    "# Group by 'paper_id' and concatenate 'paper_raw_affiliation_strings'\n",
    "grouped = dftriple.groupby('paper_id')['paper_raw_affiliation_strings'].apply(lambda x: list(set([item for sublist in x for item in sublist]))).reset_index()\n",
    "\n",
    "# Convert the series back to a dictionary\n",
    "pap_affils_dict = grouped.set_index('paper_id')['paper_raw_affiliation_strings'].to_dict()"
   ]
  },
  {
   "cell_type": "code",
   "execution_count": 57,
   "id": "a6315c76-3ef2-4481-a694-2381093cc13b",
   "metadata": {},
   "outputs": [],
   "source": [
    "#paper_affils_dict"
   ]
  },
  {
   "cell_type": "code",
   "execution_count": 58,
   "id": "0878061f-cf4a-4483-9c17-841799d2a960",
   "metadata": {},
   "outputs": [],
   "source": [
    "#pap_affils_dict = dftriple.groupby('paper_id')['paper_raw_affiliation_strings'].\\\n",
    "#apply(lambda x: ' | '.join(x.tolist()))\n",
    "\n",
    "#pap_affils_dict = dftriple.set_index('paper_id')['paper_raw_affiliation_strings'].to_dict()\n",
    "import itertools\n",
    "\n",
    "#pap_affils_dict = dftriple.set_index('paper_id')['paper_raw_affiliation_strings']\n",
    "\n",
    "\n",
    "\n",
    "      "
   ]
  },
  {
   "cell_type": "code",
   "execution_count": 59,
   "id": "bc345e0e-04b9-4657-8603-6d99c42be9ab",
   "metadata": {},
   "outputs": [
    {
     "data": {
      "text/plain": [
       "dict"
      ]
     },
     "execution_count": 59,
     "metadata": {},
     "output_type": "execute_result"
    }
   ],
   "source": [
    "type(pap_affils_dict)"
   ]
  },
  {
   "cell_type": "code",
   "execution_count": 60,
   "id": "293ddd8c-7614-4423-b23e-e2f31dd23875",
   "metadata": {},
   "outputs": [],
   "source": [
    "#pap_affils_dict.head()"
   ]
  },
  {
   "cell_type": "code",
   "execution_count": 61,
   "id": "e7b5ffe1-73d5-4d1d-a3d9-4ad88bc4e63d",
   "metadata": {},
   "outputs": [],
   "source": [
    "pap_authors_dict = dftriple.groupby('paper_id')['paper_author_display_name'].apply(lambda x: x.values)"
   ]
  },
  {
   "cell_type": "code",
   "execution_count": 62,
   "id": "8b9d773b-49ea-4708-9535-b9f21b7f586a",
   "metadata": {},
   "outputs": [
    {
     "data": {
      "text/plain": [
       "paper_id\n",
       "https://openalex.org/W2166534330                   [Hussain Sultan, Eric M. Schwartz]\n",
       "https://openalex.org/W2252881006                         [Xiaohan Chen, Xiaohan Chen]\n",
       "https://openalex.org/W2280830725    [Alireza Rahrooh, Scott Shepard, Walter Buchan...\n",
       "https://openalex.org/W2340996099                                      [John Dennison]\n",
       "https://openalex.org/W2343923805    [Zhengxin Hou, Lei Liu, Yongji Wang, Jian Huan...\n",
       "                                                          ...                        \n",
       "https://openalex.org/W4396816771                                  [Menaouer Bennaoum]\n",
       "https://openalex.org/W4396877673    [Qinzhe Lv, Hongqin Fan, Yinghai Zhao, Mengdao...\n",
       "https://openalex.org/W4396877719    [Zhizhen Liu, Xinjie Yu, Zhen Li, Hao Sun, Bei...\n",
       "https://openalex.org/W4396878689    [Lyubov Gorbacheva, Maxim Zakharov, Andrey Kou...\n",
       "https://openalex.org/W584406582                              [M. O. Tokhi, Abul Azad]\n",
       "Name: paper_author_display_name, Length: 7702, dtype: object"
      ]
     },
     "execution_count": 62,
     "metadata": {},
     "output_type": "execute_result"
    }
   ],
   "source": [
    "pap_authors_dict"
   ]
  },
  {
   "cell_type": "code",
   "execution_count": 63,
   "id": "e58e1f9b-609b-4fe5-bdc4-db471767883c",
   "metadata": {},
   "outputs": [
    {
     "data": {
      "text/plain": [
       "pandas.core.series.Series"
      ]
     },
     "execution_count": 63,
     "metadata": {},
     "output_type": "execute_result"
    }
   ],
   "source": [
    "type(pap_authors_dict)"
   ]
  },
  {
   "cell_type": "code",
   "execution_count": 64,
   "id": "26a73751-32ae-4443-b27b-1465c4aa88bf",
   "metadata": {},
   "outputs": [],
   "source": [
    "#dfinfo.head()"
   ]
  },
  {
   "cell_type": "code",
   "execution_count": 65,
   "id": "4986a661-badc-48c3-8026-4aa9c30e3f21",
   "metadata": {},
   "outputs": [],
   "source": [
    "dfinfo['affil_list'] = dfinfo['id'].map(pap_affils_dict)"
   ]
  },
  {
   "cell_type": "code",
   "execution_count": 66,
   "id": "67305722-f6e0-42b8-8a0c-860227647828",
   "metadata": {},
   "outputs": [
    {
     "data": {
      "text/plain": [
       "['School of Information Science and Engineering, Qufu Normal University, Rizhao, China',\n",
       " 'School of Information Science and Engineering, Lanzhou University, Lanzhou, China',\n",
       " 'Department of Computing, The Hong Kong Polytechnic University, Hong Kong']"
      ]
     },
     "execution_count": 66,
     "metadata": {},
     "output_type": "execute_result"
    }
   ],
   "source": [
    "dfinfo['affil_list'].head().iloc[4]"
   ]
  },
  {
   "cell_type": "code",
   "execution_count": 67,
   "id": "2acbed49-c8d6-4ff7-9816-2b079ed4b3ee",
   "metadata": {},
   "outputs": [
    {
     "data": {
      "text/plain": [
       "id                             https://openalex.org/W2792852625\n",
       "affil_list    [School of Information Science and Engineering...\n",
       "Name: https://openalex.org/W2792852625, dtype: object"
      ]
     },
     "execution_count": 67,
     "metadata": {},
     "output_type": "execute_result"
    }
   ],
   "source": [
    "dfinfo[['id','affil_list']].iloc[4]"
   ]
  },
  {
   "cell_type": "code",
   "execution_count": 70,
   "id": "78267ee8-f9a2-43c2-9590-d032cd6e2d1b",
   "metadata": {},
   "outputs": [],
   "source": [
    "dfinfo['author_list'] = dfinfo['id'].map(pap_authors_dict)"
   ]
  },
  {
   "cell_type": "code",
   "execution_count": 71,
   "id": "01e47f0b-52c2-4520-8579-c659a01b7c8a",
   "metadata": {},
   "outputs": [],
   "source": [
    "dfinfo['wrapped_affil_list'] = dfinfo['affil_list'].apply(str).apply(wrap_it)\n",
    "dfinfo['wrapped_author_list'] = dfinfo['author_list'].apply(str).apply(wrap_it)"
   ]
  },
  {
   "cell_type": "code",
   "execution_count": 72,
   "id": "7091cf03-5d22-4a11-a697-cd290e2f5844",
   "metadata": {},
   "outputs": [],
   "source": [
    "dfinfo['wrapped_keywords'] = dfinfo['keywords'].apply(str).apply(wrap_it)"
   ]
  },
  {
   "cell_type": "code",
   "execution_count": 73,
   "id": "6299166a-c735-409a-a32a-c58379d58fd5",
   "metadata": {},
   "outputs": [
    {
     "data": {
      "text/plain": [
       "[{'is_oa': False,\n",
       "  'landing_page_url': 'https://doi.org/10.1016/j.isatra.2020.06.017',\n",
       "  'pdf_url': None,\n",
       "  'source': {'id': 'https://openalex.org/S89543202',\n",
       "   'display_name': 'ISA transactions',\n",
       "   'issn_l': '0019-0578',\n",
       "   'issn': ['0019-0578', '1879-2022'],\n",
       "   'is_oa': False,\n",
       "   'is_in_doaj': False,\n",
       "   'host_organization': 'https://openalex.org/P4310320990',\n",
       "   'host_organization_name': 'Elsevier BV',\n",
       "   'host_organization_lineage': ['https://openalex.org/P4310320990'],\n",
       "   'host_organization_lineage_names': ['Elsevier BV'],\n",
       "   'type': 'journal'},\n",
       "  'license': None,\n",
       "  'license_id': None,\n",
       "  'version': None,\n",
       "  'is_accepted': False,\n",
       "  'is_published': False},\n",
       " {'is_oa': False,\n",
       "  'landing_page_url': 'https://pubmed.ncbi.nlm.nih.gov/32595010',\n",
       "  'pdf_url': None,\n",
       "  'source': {'id': 'https://openalex.org/S4306525036',\n",
       "   'display_name': 'PubMed',\n",
       "   'issn_l': None,\n",
       "   'issn': None,\n",
       "   'is_oa': False,\n",
       "   'is_in_doaj': False,\n",
       "   'host_organization': 'https://openalex.org/I1299303238',\n",
       "   'host_organization_name': 'National Institutes of Health',\n",
       "   'host_organization_lineage': ['https://openalex.org/I1299303238'],\n",
       "   'host_organization_lineage_names': ['National Institutes of Health'],\n",
       "   'type': 'repository'},\n",
       "  'license': None,\n",
       "  'license_id': None,\n",
       "  'version': None,\n",
       "  'is_accepted': False,\n",
       "  'is_published': False}]"
      ]
     },
     "execution_count": 73,
     "metadata": {},
     "output_type": "execute_result"
    }
   ],
   "source": [
    "dfinfo['locations'].iloc[69]"
   ]
  },
  {
   "cell_type": "code",
   "execution_count": 74,
   "id": "78dcda6a-8c64-4033-92e5-cb4825533c73",
   "metadata": {},
   "outputs": [],
   "source": [
    "def get_source_name(loc_list):\n",
    "    \"\"\"\n",
    "    grab the first item in the list;\n",
    "    retturn the display name\n",
    "    \"\"\"\n",
    "    try:\n",
    "        primary = loc_list[0]\n",
    "        return primary[\"source\"][\"display_name\"]\n",
    "    except:\n",
    "        return None\n",
    "\n",
    "def get_source_type(loc_list):\n",
    "    \"\"\"\n",
    "    grab the first item in the list;\n",
    "    return the source type\n",
    "    \"\"\"\n",
    "    try:\n",
    "        primary = loc_list[0]\n",
    "        return primary[\"source\"][\"type\"]\n",
    "    except:\n",
    "        return None"
   ]
  },
  {
   "cell_type": "code",
   "execution_count": 75,
   "id": "2cee0f66-32e9-407d-b133-3c4124753a4c",
   "metadata": {},
   "outputs": [],
   "source": [
    "dfinfo[\"source\"] = dfinfo[\"locations\"].apply(get_source_name)\n",
    "dfinfo[\"source_type\"] = dfinfo[\"locations\"].apply(get_source_type)"
   ]
  },
  {
   "cell_type": "code",
   "execution_count": 76,
   "id": "3135598e-d7e3-42da-8192-2c38c9b7f2d1",
   "metadata": {},
   "outputs": [
    {
     "data": {
      "text/plain": [
       "IEEE transactions on plasma science                                                  303\n",
       "arXiv (Cornell University)                                                           206\n",
       "Lecture notes in electrical engineering                                              178\n",
       "Journal of physics. Conference series                                                175\n",
       "IEEE access                                                                          135\n",
       "                                                                                    ... \n",
       "2022 7th International Conference on Integrated Circuits and Microsystems (ICICM)      1\n",
       "Pisʹma v Žurnal tehničeskoj fiziki                                                     1\n",
       "Transportation research procedia                                                       1\n",
       "Hyōmen kagaku/Hyoumen kagaku                                                           1\n",
       "Šumadijski anali                                                                       1\n",
       "Name: source, Length: 1689, dtype: int64"
      ]
     },
     "execution_count": 76,
     "metadata": {},
     "output_type": "execute_result"
    }
   ],
   "source": [
    "dfinfo[\"source\"].value_counts()\n"
   ]
  },
  {
   "cell_type": "code",
   "execution_count": 77,
   "id": "d575c1df-5f7b-4101-895e-63106e231e2e",
   "metadata": {},
   "outputs": [
    {
     "data": {
      "text/plain": [
       "journal           4984\n",
       "conference         746\n",
       "book series        482\n",
       "repository         273\n",
       "ebook platform     151\n",
       "Name: source_type, dtype: int64"
      ]
     },
     "execution_count": 77,
     "metadata": {},
     "output_type": "execute_result"
    }
   ],
   "source": [
    "dfinfo[\"source_type\"].value_counts()"
   ]
  },
  {
   "cell_type": "code",
   "execution_count": 78,
   "id": "93694e1a-2be8-4f1e-b47f-7d810521511e",
   "metadata": {},
   "outputs": [
    {
     "data": {
      "text/html": [
       "<div>\n",
       "<style scoped>\n",
       "    .dataframe tbody tr th:only-of-type {\n",
       "        vertical-align: middle;\n",
       "    }\n",
       "\n",
       "    .dataframe tbody tr th {\n",
       "        vertical-align: top;\n",
       "    }\n",
       "\n",
       "    .dataframe thead th {\n",
       "        text-align: right;\n",
       "    }\n",
       "</style>\n",
       "<table border=\"1\" class=\"dataframe\">\n",
       "  <thead>\n",
       "    <tr style=\"text-align: right;\">\n",
       "      <th></th>\n",
       "      <th>x</th>\n",
       "      <th>y</th>\n",
       "      <th>id</th>\n",
       "      <th>title</th>\n",
       "      <th>doi</th>\n",
       "      <th>cluster</th>\n",
       "      <th>probability</th>\n",
       "      <th>publication_date</th>\n",
       "      <th>grants</th>\n",
       "      <th>locations</th>\n",
       "      <th>keywords</th>\n",
       "      <th>top_concepts</th>\n",
       "      <th>affil_list</th>\n",
       "      <th>authors_list</th>\n",
       "      <th>wrapped_affil_list</th>\n",
       "      <th>author_list</th>\n",
       "      <th>wrapped_author_list</th>\n",
       "      <th>wrapped_keywords</th>\n",
       "      <th>source</th>\n",
       "      <th>source_type</th>\n",
       "    </tr>\n",
       "    <tr>\n",
       "      <th>id</th>\n",
       "      <th></th>\n",
       "      <th></th>\n",
       "      <th></th>\n",
       "      <th></th>\n",
       "      <th></th>\n",
       "      <th></th>\n",
       "      <th></th>\n",
       "      <th></th>\n",
       "      <th></th>\n",
       "      <th></th>\n",
       "      <th></th>\n",
       "      <th></th>\n",
       "      <th></th>\n",
       "      <th></th>\n",
       "      <th></th>\n",
       "      <th></th>\n",
       "      <th></th>\n",
       "      <th></th>\n",
       "      <th></th>\n",
       "      <th></th>\n",
       "    </tr>\n",
       "  </thead>\n",
       "  <tbody>\n",
       "    <tr>\n",
       "      <th>https://openalex.org/W4285102237</th>\n",
       "      <td>15.100839</td>\n",
       "      <td>-2.591275</td>\n",
       "      <td>https://openalex.org/W4285102237</td>\n",
       "      <td>Provably Safe Deep Reinforcement Learning for ...</td>\n",
       "      <td>https://doi.org/10.1109/icra46639.2022.9811698</td>\n",
       "      <td>1</td>\n",
       "      <td>1.0</td>\n",
       "      <td>2022-05-23</td>\n",
       "      <td>[]</td>\n",
       "      <td>[{'is_oa': False, 'landing_page_url': 'https:/...</td>\n",
       "      <td>[Safe Deep Reinforcement, Provably Safe Deep, ...</td>\n",
       "      <td>[Reinforcement learning, Reachability, Compute...</td>\n",
       "      <td>[Technical Univer-sity of Munich,Department of...</td>\n",
       "      <td>[Jakob Thumm, Matthias Althoff]</td>\n",
       "      <td>['Technical Univer-sity of&lt;br&gt;Munich,Departmen...</td>\n",
       "      <td>[Jakob Thumm, Matthias Althoff]</td>\n",
       "      <td>['Jakob Thumm' 'Matthias Althoff']</td>\n",
       "      <td>['Safe Deep Reinforcement', 'Provably&lt;br&gt;Safe ...</td>\n",
       "      <td>2022 International Conference on Robotics and ...</td>\n",
       "      <td>conference</td>\n",
       "    </tr>\n",
       "    <tr>\n",
       "      <th>https://openalex.org/W3017045808</th>\n",
       "      <td>13.942735</td>\n",
       "      <td>-4.661314</td>\n",
       "      <td>https://openalex.org/W3017045808</td>\n",
       "      <td>A Systematic Review and Meta-analysis of Robot...</td>\n",
       "      <td>https://doi.org/10.1088/1757-899x/782/4/042055</td>\n",
       "      <td>1</td>\n",
       "      <td>1.0</td>\n",
       "      <td>2020-03-01</td>\n",
       "      <td>[]</td>\n",
       "      <td>[{'is_oa': True, 'landing_page_url': 'https://...</td>\n",
       "      <td>[Systematic Review, Review and Meta-analysis, ...</td>\n",
       "      <td>[Grippers, GRASP, Robotics, Artificial intelli...</td>\n",
       "      <td>[School of Engineering, Southwest Petroleum Un...</td>\n",
       "      <td>[Zhang Long, Jiang Qian, Shuai Tao, Feijuan We...</td>\n",
       "      <td>['School of Engineering, Southwest&lt;br&gt;Petroleu...</td>\n",
       "      <td>[Zhang Long, Jiang Qian, Shuai Tao, Feijuan We...</td>\n",
       "      <td>['Zhang Long' 'Jiang Qian' 'Shuai Tao'&lt;br&gt;'Fei...</td>\n",
       "      <td>['Systematic Review', 'Review and Meta-&lt;br&gt;ana...</td>\n",
       "      <td>IOP conference series. Materials science and e...</td>\n",
       "      <td>conference</td>\n",
       "    </tr>\n",
       "    <tr>\n",
       "      <th>https://openalex.org/W2761006485</th>\n",
       "      <td>15.275157</td>\n",
       "      <td>-3.679164</td>\n",
       "      <td>https://openalex.org/W2761006485</td>\n",
       "      <td>Kinematic singularity avoidance for robot mani...</td>\n",
       "      <td>https://doi.org/10.1109/ccta.2017.8062454</td>\n",
       "      <td>1</td>\n",
       "      <td>1.0</td>\n",
       "      <td>2017-08-01</td>\n",
       "      <td>[]</td>\n",
       "      <td>[{'is_oa': False, 'landing_page_url': 'https:/...</td>\n",
       "      <td>[Kinematic singularity avoidance, singularity ...</td>\n",
       "      <td>[Kinematics, Singularity, Control theory (soci...</td>\n",
       "      <td>[Department of Engineering Cybernetics, Norweg...</td>\n",
       "      <td>[J. Sverdrup-Thygeson, Signe Moe, Kristin Y. P...</td>\n",
       "      <td>['Department of Engineering Cybernetics,&lt;br&gt;No...</td>\n",
       "      <td>[J. Sverdrup-Thygeson, Signe Moe, Kristin Y. P...</td>\n",
       "      <td>['J. Sverdrup-Thygeson' 'Signe Moe'&lt;br&gt;'Kristi...</td>\n",
       "      <td>['Kinematic singularity avoidance',&lt;br&gt;'singul...</td>\n",
       "      <td>2017 IEEE Conference on Control Technology and...</td>\n",
       "      <td>conference</td>\n",
       "    </tr>\n",
       "    <tr>\n",
       "      <th>https://openalex.org/W4285102150</th>\n",
       "      <td>14.262562</td>\n",
       "      <td>-4.263948</td>\n",
       "      <td>https://openalex.org/W4285102150</td>\n",
       "      <td>An Integrated Design Pipeline for Tactile Sens...</td>\n",
       "      <td>https://doi.org/10.1109/icra46639.2022.9812335</td>\n",
       "      <td>1</td>\n",
       "      <td>1.0</td>\n",
       "      <td>2022-05-23</td>\n",
       "      <td>[]</td>\n",
       "      <td>[{'is_oa': False, 'landing_page_url': 'https:/...</td>\n",
       "      <td>[Integrated Design Pipeline, Tactile Sensing R...</td>\n",
       "      <td>[Modular design, Pipeline (software)]</td>\n",
       "      <td>[Computer Science and Artificial Intelligence ...</td>\n",
       "      <td>[Lara Zlokapa, Yiyue Luo, Jie Xu, Michael Fosh...</td>\n",
       "      <td>['Computer Science and Artificial&lt;br&gt;Intellige...</td>\n",
       "      <td>[Lara Zlokapa, Yiyue Luo, Jie Xu, Michael Fosh...</td>\n",
       "      <td>['Lara Zlokapa' 'Yiyue Luo' 'Jie Xu'&lt;br&gt;'Micha...</td>\n",
       "      <td>['Integrated Design Pipeline', 'Tactile&lt;br&gt;Sen...</td>\n",
       "      <td>2022 International Conference on Robotics and ...</td>\n",
       "      <td>conference</td>\n",
       "    </tr>\n",
       "    <tr>\n",
       "      <th>https://openalex.org/W2927011308</th>\n",
       "      <td>14.625490</td>\n",
       "      <td>-4.040068</td>\n",
       "      <td>https://openalex.org/W2927011308</td>\n",
       "      <td>URDF Generator for Manipulator Robot</td>\n",
       "      <td>https://doi.org/10.1109/irc.2019.00101</td>\n",
       "      <td>1</td>\n",
       "      <td>1.0</td>\n",
       "      <td>2019-02-01</td>\n",
       "      <td>[]</td>\n",
       "      <td>[{'is_oa': False, 'landing_page_url': 'https:/...</td>\n",
       "      <td>[URDF Generator, robots market grows, Generato...</td>\n",
       "      <td>[Parallel manipulator, Robot, Manipulator (dev...</td>\n",
       "      <td>[Department of Eletronics, Kyung Hee Universit...</td>\n",
       "      <td>[Yeon June Kang, Donghan Kim]</td>\n",
       "      <td>['Department of Eletronics, Kyung Hee&lt;br&gt;Unive...</td>\n",
       "      <td>[Yeon June Kang, Donghan Kim]</td>\n",
       "      <td>['Yeon June Kang' 'Donghan Kim']</td>\n",
       "      <td>['URDF Generator', 'robots market&lt;br&gt;grows', '...</td>\n",
       "      <td>2019 Third IEEE International Conference on Ro...</td>\n",
       "      <td>conference</td>\n",
       "    </tr>\n",
       "    <tr>\n",
       "      <th>...</th>\n",
       "      <td>...</td>\n",
       "      <td>...</td>\n",
       "      <td>...</td>\n",
       "      <td>...</td>\n",
       "      <td>...</td>\n",
       "      <td>...</td>\n",
       "      <td>...</td>\n",
       "      <td>...</td>\n",
       "      <td>...</td>\n",
       "      <td>...</td>\n",
       "      <td>...</td>\n",
       "      <td>...</td>\n",
       "      <td>...</td>\n",
       "      <td>...</td>\n",
       "      <td>...</td>\n",
       "      <td>...</td>\n",
       "      <td>...</td>\n",
       "      <td>...</td>\n",
       "      <td>...</td>\n",
       "      <td>...</td>\n",
       "    </tr>\n",
       "    <tr>\n",
       "      <th>https://openalex.org/W3023203661</th>\n",
       "      <td>8.546629</td>\n",
       "      <td>8.577993</td>\n",
       "      <td>https://openalex.org/W3023203661</td>\n",
       "      <td>Simulation Research on New Model of Air-to-Air...</td>\n",
       "      <td>https://doi.org/10.1109/itnec48623.2020.9084793</td>\n",
       "      <td>11</td>\n",
       "      <td>1.0</td>\n",
       "      <td>2020-06-01</td>\n",
       "      <td>[]</td>\n",
       "      <td>[{'is_oa': False, 'landing_page_url': 'https:/...</td>\n",
       "      <td>[Missile Attack Zone, Attack Zone, Missile Att...</td>\n",
       "      <td>[Missile, Atmospheric model]</td>\n",
       "      <td>[College of Computer Science and Technology, X...</td>\n",
       "      <td>[Aiguo Li, Yanan Meng, Zongkang He]</td>\n",
       "      <td>[\"College of Computer Science and&lt;br&gt;Technolog...</td>\n",
       "      <td>[Aiguo Li, Yanan Meng, Zongkang He]</td>\n",
       "      <td>['Aiguo Li' 'Yanan Meng' 'Zongkang He']</td>\n",
       "      <td>['Missile Attack Zone', 'Attack Zone',&lt;br&gt;'Mis...</td>\n",
       "      <td>2020 IEEE 4th Information Technology, Networki...</td>\n",
       "      <td>conference</td>\n",
       "    </tr>\n",
       "    <tr>\n",
       "      <th>https://openalex.org/W3009411444</th>\n",
       "      <td>8.588895</td>\n",
       "      <td>8.357817</td>\n",
       "      <td>https://openalex.org/W3009411444</td>\n",
       "      <td>Modeling and Simulation Analysis on Three-Dime...</td>\n",
       "      <td>https://doi.org/10.1109/gncc42960.2018.9018858</td>\n",
       "      <td>11</td>\n",
       "      <td>1.0</td>\n",
       "      <td>2018-08-01</td>\n",
       "      <td>[]</td>\n",
       "      <td>[{'is_oa': False, 'landing_page_url': 'https:/...</td>\n",
       "      <td>[Missile Attack Zone, Attack Zone, Missile Att...</td>\n",
       "      <td>[Missile]</td>\n",
       "      <td>[National Key Laboratory of Air Traffic Collis...</td>\n",
       "      <td>[Zhenqing Shi, Xiaolong Liang, Jiaqiang Zhang,...</td>\n",
       "      <td>['National Key Laboratory of Air Traffic&lt;br&gt;Co...</td>\n",
       "      <td>[Zhenqing Shi, Xiaolong Liang, Jiaqiang Zhang,...</td>\n",
       "      <td>['Zhenqing Shi' 'Xiaolong Liang'&lt;br&gt;'Jiaqiang ...</td>\n",
       "      <td>['Missile Attack Zone', 'Attack Zone',&lt;br&gt;'Mis...</td>\n",
       "      <td>2018 IEEE CSAA Guidance, Navigation and Contro...</td>\n",
       "      <td>conference</td>\n",
       "    </tr>\n",
       "    <tr>\n",
       "      <th>https://openalex.org/W2899852203</th>\n",
       "      <td>9.691730</td>\n",
       "      <td>8.236713</td>\n",
       "      <td>https://openalex.org/W2899852203</td>\n",
       "      <td>Research on the Air Combat Countermeasure Gene...</td>\n",
       "      <td>https://doi.org/10.1088/1757-899x/435/1/012062</td>\n",
       "      <td>11</td>\n",
       "      <td>1.0</td>\n",
       "      <td>2018-11-05</td>\n",
       "      <td>[]</td>\n",
       "      <td>[{'is_oa': True, 'landing_page_url': 'https://...</td>\n",
       "      <td>[Fighter Mid-range Turn, Air Combat Countermea...</td>\n",
       "      <td>[Air combat, Range (aeronautics), Missile, Air...</td>\n",
       "      <td>[Air Force Engineering University, Xi’an, China]</td>\n",
       "      <td>[Huiming Ji, Minjian Yu, Jiayi Yang]</td>\n",
       "      <td>['Air Force Engineering University,&lt;br&gt;Xi’an, ...</td>\n",
       "      <td>[Huiming Ji, Minjian Yu, Jiayi Yang]</td>\n",
       "      <td>['Huiming Ji' 'Minjian Yu' 'Jiayi Yang']</td>\n",
       "      <td>['Fighter Mid-range Turn', 'Air Combat&lt;br&gt;Coun...</td>\n",
       "      <td>IOP conference series. Materials science and e...</td>\n",
       "      <td>conference</td>\n",
       "    </tr>\n",
       "    <tr>\n",
       "      <th>https://openalex.org/W2952933698</th>\n",
       "      <td>8.375960</td>\n",
       "      <td>8.389072</td>\n",
       "      <td>https://openalex.org/W2952933698</td>\n",
       "      <td>Operational Effectiveness Evaluation for the A...</td>\n",
       "      <td>https://doi.org/10.1109/itnec.2019.8729345</td>\n",
       "      <td>11</td>\n",
       "      <td>1.0</td>\n",
       "      <td>2019-03-01</td>\n",
       "      <td>[]</td>\n",
       "      <td>[{'is_oa': False, 'landing_page_url': 'https:/...</td>\n",
       "      <td>[Two-step Adjudication Method, Improved Two-st...</td>\n",
       "      <td>[Missile, Adjudication]</td>\n",
       "      <td>[Force, Gansu Jiuquan, China, Aeronautics Engi...</td>\n",
       "      <td>[Baihua Xiao, Yang Xu, Chen Huang, Rui Wang, Y...</td>\n",
       "      <td>['Force, Gansu Jiuquan, China',&lt;br&gt;'Aeronautic...</td>\n",
       "      <td>[Baihua Xiao, Yang Xu, Chen Huang, Rui Wang, Y...</td>\n",
       "      <td>['Baihua Xiao' 'Yang Xu' 'Chen Huang'&lt;br&gt;'Rui ...</td>\n",
       "      <td>['Two-step Adjudication Method',&lt;br&gt;'Improved ...</td>\n",
       "      <td>2019 IEEE 3rd Information Technology, Networki...</td>\n",
       "      <td>conference</td>\n",
       "    </tr>\n",
       "    <tr>\n",
       "      <th>https://openalex.org/W3009555957</th>\n",
       "      <td>10.042274</td>\n",
       "      <td>7.495766</td>\n",
       "      <td>https://openalex.org/W3009555957</td>\n",
       "      <td>Pseudospectral-based Multiple Missiles Salvo A...</td>\n",
       "      <td>https://doi.org/10.1109/gncc42960.2018.9018875</td>\n",
       "      <td>11</td>\n",
       "      <td>1.0</td>\n",
       "      <td>2018-08-01</td>\n",
       "      <td>[]</td>\n",
       "      <td>[{'is_oa': False, 'landing_page_url': 'https:/...</td>\n",
       "      <td>[Multiple Missiles Salvo, Missiles Salvo Attac...</td>\n",
       "      <td>[Gauss pseudospectral method, Pseudospectral o...</td>\n",
       "      <td>[Beijing key laboratory of UAV Autonomous Cont...</td>\n",
       "      <td>[Jiang Wang, Yadong Wang, Xinyao Duan, Yongwei...</td>\n",
       "      <td>['Beijing key laboratory of UAV&lt;br&gt;Autonomous ...</td>\n",
       "      <td>[Jiang Wang, Yadong Wang, Xinyao Duan, Yongwei...</td>\n",
       "      <td>['Jiang Wang' 'Yadong Wang' 'Xinyao&lt;br&gt;Duan' '...</td>\n",
       "      <td>['Multiple Missiles Salvo', 'Missiles&lt;br&gt;Salvo...</td>\n",
       "      <td>2018 IEEE CSAA Guidance, Navigation and Contro...</td>\n",
       "      <td>conference</td>\n",
       "    </tr>\n",
       "  </tbody>\n",
       "</table>\n",
       "<p>746 rows × 20 columns</p>\n",
       "</div>"
      ],
      "text/plain": [
       "                                          x         y  \\\n",
       "id                                                      \n",
       "https://openalex.org/W4285102237  15.100839 -2.591275   \n",
       "https://openalex.org/W3017045808  13.942735 -4.661314   \n",
       "https://openalex.org/W2761006485  15.275157 -3.679164   \n",
       "https://openalex.org/W4285102150  14.262562 -4.263948   \n",
       "https://openalex.org/W2927011308  14.625490 -4.040068   \n",
       "...                                     ...       ...   \n",
       "https://openalex.org/W3023203661   8.546629  8.577993   \n",
       "https://openalex.org/W3009411444   8.588895  8.357817   \n",
       "https://openalex.org/W2899852203   9.691730  8.236713   \n",
       "https://openalex.org/W2952933698   8.375960  8.389072   \n",
       "https://openalex.org/W3009555957  10.042274  7.495766   \n",
       "\n",
       "                                                                id  \\\n",
       "id                                                                   \n",
       "https://openalex.org/W4285102237  https://openalex.org/W4285102237   \n",
       "https://openalex.org/W3017045808  https://openalex.org/W3017045808   \n",
       "https://openalex.org/W2761006485  https://openalex.org/W2761006485   \n",
       "https://openalex.org/W4285102150  https://openalex.org/W4285102150   \n",
       "https://openalex.org/W2927011308  https://openalex.org/W2927011308   \n",
       "...                                                            ...   \n",
       "https://openalex.org/W3023203661  https://openalex.org/W3023203661   \n",
       "https://openalex.org/W3009411444  https://openalex.org/W3009411444   \n",
       "https://openalex.org/W2899852203  https://openalex.org/W2899852203   \n",
       "https://openalex.org/W2952933698  https://openalex.org/W2952933698   \n",
       "https://openalex.org/W3009555957  https://openalex.org/W3009555957   \n",
       "\n",
       "                                                                              title  \\\n",
       "id                                                                                    \n",
       "https://openalex.org/W4285102237  Provably Safe Deep Reinforcement Learning for ...   \n",
       "https://openalex.org/W3017045808  A Systematic Review and Meta-analysis of Robot...   \n",
       "https://openalex.org/W2761006485  Kinematic singularity avoidance for robot mani...   \n",
       "https://openalex.org/W4285102150  An Integrated Design Pipeline for Tactile Sens...   \n",
       "https://openalex.org/W2927011308               URDF Generator for Manipulator Robot   \n",
       "...                                                                             ...   \n",
       "https://openalex.org/W3023203661  Simulation Research on New Model of Air-to-Air...   \n",
       "https://openalex.org/W3009411444  Modeling and Simulation Analysis on Three-Dime...   \n",
       "https://openalex.org/W2899852203  Research on the Air Combat Countermeasure Gene...   \n",
       "https://openalex.org/W2952933698  Operational Effectiveness Evaluation for the A...   \n",
       "https://openalex.org/W3009555957  Pseudospectral-based Multiple Missiles Salvo A...   \n",
       "\n",
       "                                                                              doi  \\\n",
       "id                                                                                  \n",
       "https://openalex.org/W4285102237   https://doi.org/10.1109/icra46639.2022.9811698   \n",
       "https://openalex.org/W3017045808   https://doi.org/10.1088/1757-899x/782/4/042055   \n",
       "https://openalex.org/W2761006485        https://doi.org/10.1109/ccta.2017.8062454   \n",
       "https://openalex.org/W4285102150   https://doi.org/10.1109/icra46639.2022.9812335   \n",
       "https://openalex.org/W2927011308           https://doi.org/10.1109/irc.2019.00101   \n",
       "...                                                                           ...   \n",
       "https://openalex.org/W3023203661  https://doi.org/10.1109/itnec48623.2020.9084793   \n",
       "https://openalex.org/W3009411444   https://doi.org/10.1109/gncc42960.2018.9018858   \n",
       "https://openalex.org/W2899852203   https://doi.org/10.1088/1757-899x/435/1/012062   \n",
       "https://openalex.org/W2952933698       https://doi.org/10.1109/itnec.2019.8729345   \n",
       "https://openalex.org/W3009555957   https://doi.org/10.1109/gncc42960.2018.9018875   \n",
       "\n",
       "                                  cluster  probability publication_date  \\\n",
       "id                                                                        \n",
       "https://openalex.org/W4285102237        1          1.0       2022-05-23   \n",
       "https://openalex.org/W3017045808        1          1.0       2020-03-01   \n",
       "https://openalex.org/W2761006485        1          1.0       2017-08-01   \n",
       "https://openalex.org/W4285102150        1          1.0       2022-05-23   \n",
       "https://openalex.org/W2927011308        1          1.0       2019-02-01   \n",
       "...                                   ...          ...              ...   \n",
       "https://openalex.org/W3023203661       11          1.0       2020-06-01   \n",
       "https://openalex.org/W3009411444       11          1.0       2018-08-01   \n",
       "https://openalex.org/W2899852203       11          1.0       2018-11-05   \n",
       "https://openalex.org/W2952933698       11          1.0       2019-03-01   \n",
       "https://openalex.org/W3009555957       11          1.0       2018-08-01   \n",
       "\n",
       "                                 grants  \\\n",
       "id                                        \n",
       "https://openalex.org/W4285102237     []   \n",
       "https://openalex.org/W3017045808     []   \n",
       "https://openalex.org/W2761006485     []   \n",
       "https://openalex.org/W4285102150     []   \n",
       "https://openalex.org/W2927011308     []   \n",
       "...                                 ...   \n",
       "https://openalex.org/W3023203661     []   \n",
       "https://openalex.org/W3009411444     []   \n",
       "https://openalex.org/W2899852203     []   \n",
       "https://openalex.org/W2952933698     []   \n",
       "https://openalex.org/W3009555957     []   \n",
       "\n",
       "                                                                          locations  \\\n",
       "id                                                                                    \n",
       "https://openalex.org/W4285102237  [{'is_oa': False, 'landing_page_url': 'https:/...   \n",
       "https://openalex.org/W3017045808  [{'is_oa': True, 'landing_page_url': 'https://...   \n",
       "https://openalex.org/W2761006485  [{'is_oa': False, 'landing_page_url': 'https:/...   \n",
       "https://openalex.org/W4285102150  [{'is_oa': False, 'landing_page_url': 'https:/...   \n",
       "https://openalex.org/W2927011308  [{'is_oa': False, 'landing_page_url': 'https:/...   \n",
       "...                                                                             ...   \n",
       "https://openalex.org/W3023203661  [{'is_oa': False, 'landing_page_url': 'https:/...   \n",
       "https://openalex.org/W3009411444  [{'is_oa': False, 'landing_page_url': 'https:/...   \n",
       "https://openalex.org/W2899852203  [{'is_oa': True, 'landing_page_url': 'https://...   \n",
       "https://openalex.org/W2952933698  [{'is_oa': False, 'landing_page_url': 'https:/...   \n",
       "https://openalex.org/W3009555957  [{'is_oa': False, 'landing_page_url': 'https:/...   \n",
       "\n",
       "                                                                           keywords  \\\n",
       "id                                                                                    \n",
       "https://openalex.org/W4285102237  [Safe Deep Reinforcement, Provably Safe Deep, ...   \n",
       "https://openalex.org/W3017045808  [Systematic Review, Review and Meta-analysis, ...   \n",
       "https://openalex.org/W2761006485  [Kinematic singularity avoidance, singularity ...   \n",
       "https://openalex.org/W4285102150  [Integrated Design Pipeline, Tactile Sensing R...   \n",
       "https://openalex.org/W2927011308  [URDF Generator, robots market grows, Generato...   \n",
       "...                                                                             ...   \n",
       "https://openalex.org/W3023203661  [Missile Attack Zone, Attack Zone, Missile Att...   \n",
       "https://openalex.org/W3009411444  [Missile Attack Zone, Attack Zone, Missile Att...   \n",
       "https://openalex.org/W2899852203  [Fighter Mid-range Turn, Air Combat Countermea...   \n",
       "https://openalex.org/W2952933698  [Two-step Adjudication Method, Improved Two-st...   \n",
       "https://openalex.org/W3009555957  [Multiple Missiles Salvo, Missiles Salvo Attac...   \n",
       "\n",
       "                                                                       top_concepts  \\\n",
       "id                                                                                    \n",
       "https://openalex.org/W4285102237  [Reinforcement learning, Reachability, Compute...   \n",
       "https://openalex.org/W3017045808  [Grippers, GRASP, Robotics, Artificial intelli...   \n",
       "https://openalex.org/W2761006485  [Kinematics, Singularity, Control theory (soci...   \n",
       "https://openalex.org/W4285102150              [Modular design, Pipeline (software)]   \n",
       "https://openalex.org/W2927011308  [Parallel manipulator, Robot, Manipulator (dev...   \n",
       "...                                                                             ...   \n",
       "https://openalex.org/W3023203661                       [Missile, Atmospheric model]   \n",
       "https://openalex.org/W3009411444                                          [Missile]   \n",
       "https://openalex.org/W2899852203  [Air combat, Range (aeronautics), Missile, Air...   \n",
       "https://openalex.org/W2952933698                            [Missile, Adjudication]   \n",
       "https://openalex.org/W3009555957  [Gauss pseudospectral method, Pseudospectral o...   \n",
       "\n",
       "                                                                         affil_list  \\\n",
       "id                                                                                    \n",
       "https://openalex.org/W4285102237  [Technical Univer-sity of Munich,Department of...   \n",
       "https://openalex.org/W3017045808  [School of Engineering, Southwest Petroleum Un...   \n",
       "https://openalex.org/W2761006485  [Department of Engineering Cybernetics, Norweg...   \n",
       "https://openalex.org/W4285102150  [Computer Science and Artificial Intelligence ...   \n",
       "https://openalex.org/W2927011308  [Department of Eletronics, Kyung Hee Universit...   \n",
       "...                                                                             ...   \n",
       "https://openalex.org/W3023203661  [College of Computer Science and Technology, X...   \n",
       "https://openalex.org/W3009411444  [National Key Laboratory of Air Traffic Collis...   \n",
       "https://openalex.org/W2899852203   [Air Force Engineering University, Xi’an, China]   \n",
       "https://openalex.org/W2952933698  [Force, Gansu Jiuquan, China, Aeronautics Engi...   \n",
       "https://openalex.org/W3009555957  [Beijing key laboratory of UAV Autonomous Cont...   \n",
       "\n",
       "                                                                       authors_list  \\\n",
       "id                                                                                    \n",
       "https://openalex.org/W4285102237                    [Jakob Thumm, Matthias Althoff]   \n",
       "https://openalex.org/W3017045808  [Zhang Long, Jiang Qian, Shuai Tao, Feijuan We...   \n",
       "https://openalex.org/W2761006485  [J. Sverdrup-Thygeson, Signe Moe, Kristin Y. P...   \n",
       "https://openalex.org/W4285102150  [Lara Zlokapa, Yiyue Luo, Jie Xu, Michael Fosh...   \n",
       "https://openalex.org/W2927011308                      [Yeon June Kang, Donghan Kim]   \n",
       "...                                                                             ...   \n",
       "https://openalex.org/W3023203661                [Aiguo Li, Yanan Meng, Zongkang He]   \n",
       "https://openalex.org/W3009411444  [Zhenqing Shi, Xiaolong Liang, Jiaqiang Zhang,...   \n",
       "https://openalex.org/W2899852203               [Huiming Ji, Minjian Yu, Jiayi Yang]   \n",
       "https://openalex.org/W2952933698  [Baihua Xiao, Yang Xu, Chen Huang, Rui Wang, Y...   \n",
       "https://openalex.org/W3009555957  [Jiang Wang, Yadong Wang, Xinyao Duan, Yongwei...   \n",
       "\n",
       "                                                                 wrapped_affil_list  \\\n",
       "id                                                                                    \n",
       "https://openalex.org/W4285102237  ['Technical Univer-sity of<br>Munich,Departmen...   \n",
       "https://openalex.org/W3017045808  ['School of Engineering, Southwest<br>Petroleu...   \n",
       "https://openalex.org/W2761006485  ['Department of Engineering Cybernetics,<br>No...   \n",
       "https://openalex.org/W4285102150  ['Computer Science and Artificial<br>Intellige...   \n",
       "https://openalex.org/W2927011308  ['Department of Eletronics, Kyung Hee<br>Unive...   \n",
       "...                                                                             ...   \n",
       "https://openalex.org/W3023203661  [\"College of Computer Science and<br>Technolog...   \n",
       "https://openalex.org/W3009411444  ['National Key Laboratory of Air Traffic<br>Co...   \n",
       "https://openalex.org/W2899852203  ['Air Force Engineering University,<br>Xi’an, ...   \n",
       "https://openalex.org/W2952933698  ['Force, Gansu Jiuquan, China',<br>'Aeronautic...   \n",
       "https://openalex.org/W3009555957  ['Beijing key laboratory of UAV<br>Autonomous ...   \n",
       "\n",
       "                                                                        author_list  \\\n",
       "id                                                                                    \n",
       "https://openalex.org/W4285102237                    [Jakob Thumm, Matthias Althoff]   \n",
       "https://openalex.org/W3017045808  [Zhang Long, Jiang Qian, Shuai Tao, Feijuan We...   \n",
       "https://openalex.org/W2761006485  [J. Sverdrup-Thygeson, Signe Moe, Kristin Y. P...   \n",
       "https://openalex.org/W4285102150  [Lara Zlokapa, Yiyue Luo, Jie Xu, Michael Fosh...   \n",
       "https://openalex.org/W2927011308                      [Yeon June Kang, Donghan Kim]   \n",
       "...                                                                             ...   \n",
       "https://openalex.org/W3023203661                [Aiguo Li, Yanan Meng, Zongkang He]   \n",
       "https://openalex.org/W3009411444  [Zhenqing Shi, Xiaolong Liang, Jiaqiang Zhang,...   \n",
       "https://openalex.org/W2899852203               [Huiming Ji, Minjian Yu, Jiayi Yang]   \n",
       "https://openalex.org/W2952933698  [Baihua Xiao, Yang Xu, Chen Huang, Rui Wang, Y...   \n",
       "https://openalex.org/W3009555957  [Jiang Wang, Yadong Wang, Xinyao Duan, Yongwei...   \n",
       "\n",
       "                                                                wrapped_author_list  \\\n",
       "id                                                                                    \n",
       "https://openalex.org/W4285102237                 ['Jakob Thumm' 'Matthias Althoff']   \n",
       "https://openalex.org/W3017045808  ['Zhang Long' 'Jiang Qian' 'Shuai Tao'<br>'Fei...   \n",
       "https://openalex.org/W2761006485  ['J. Sverdrup-Thygeson' 'Signe Moe'<br>'Kristi...   \n",
       "https://openalex.org/W4285102150  ['Lara Zlokapa' 'Yiyue Luo' 'Jie Xu'<br>'Micha...   \n",
       "https://openalex.org/W2927011308                   ['Yeon June Kang' 'Donghan Kim']   \n",
       "...                                                                             ...   \n",
       "https://openalex.org/W3023203661            ['Aiguo Li' 'Yanan Meng' 'Zongkang He']   \n",
       "https://openalex.org/W3009411444  ['Zhenqing Shi' 'Xiaolong Liang'<br>'Jiaqiang ...   \n",
       "https://openalex.org/W2899852203           ['Huiming Ji' 'Minjian Yu' 'Jiayi Yang']   \n",
       "https://openalex.org/W2952933698  ['Baihua Xiao' 'Yang Xu' 'Chen Huang'<br>'Rui ...   \n",
       "https://openalex.org/W3009555957  ['Jiang Wang' 'Yadong Wang' 'Xinyao<br>Duan' '...   \n",
       "\n",
       "                                                                   wrapped_keywords  \\\n",
       "id                                                                                    \n",
       "https://openalex.org/W4285102237  ['Safe Deep Reinforcement', 'Provably<br>Safe ...   \n",
       "https://openalex.org/W3017045808  ['Systematic Review', 'Review and Meta-<br>ana...   \n",
       "https://openalex.org/W2761006485  ['Kinematic singularity avoidance',<br>'singul...   \n",
       "https://openalex.org/W4285102150  ['Integrated Design Pipeline', 'Tactile<br>Sen...   \n",
       "https://openalex.org/W2927011308  ['URDF Generator', 'robots market<br>grows', '...   \n",
       "...                                                                             ...   \n",
       "https://openalex.org/W3023203661  ['Missile Attack Zone', 'Attack Zone',<br>'Mis...   \n",
       "https://openalex.org/W3009411444  ['Missile Attack Zone', 'Attack Zone',<br>'Mis...   \n",
       "https://openalex.org/W2899852203  ['Fighter Mid-range Turn', 'Air Combat<br>Coun...   \n",
       "https://openalex.org/W2952933698  ['Two-step Adjudication Method',<br>'Improved ...   \n",
       "https://openalex.org/W3009555957  ['Multiple Missiles Salvo', 'Missiles<br>Salvo...   \n",
       "\n",
       "                                                                             source  \\\n",
       "id                                                                                    \n",
       "https://openalex.org/W4285102237  2022 International Conference on Robotics and ...   \n",
       "https://openalex.org/W3017045808  IOP conference series. Materials science and e...   \n",
       "https://openalex.org/W2761006485  2017 IEEE Conference on Control Technology and...   \n",
       "https://openalex.org/W4285102150  2022 International Conference on Robotics and ...   \n",
       "https://openalex.org/W2927011308  2019 Third IEEE International Conference on Ro...   \n",
       "...                                                                             ...   \n",
       "https://openalex.org/W3023203661  2020 IEEE 4th Information Technology, Networki...   \n",
       "https://openalex.org/W3009411444  2018 IEEE CSAA Guidance, Navigation and Contro...   \n",
       "https://openalex.org/W2899852203  IOP conference series. Materials science and e...   \n",
       "https://openalex.org/W2952933698  2019 IEEE 3rd Information Technology, Networki...   \n",
       "https://openalex.org/W3009555957  2018 IEEE CSAA Guidance, Navigation and Contro...   \n",
       "\n",
       "                                 source_type  \n",
       "id                                            \n",
       "https://openalex.org/W4285102237  conference  \n",
       "https://openalex.org/W3017045808  conference  \n",
       "https://openalex.org/W2761006485  conference  \n",
       "https://openalex.org/W4285102150  conference  \n",
       "https://openalex.org/W2927011308  conference  \n",
       "...                                      ...  \n",
       "https://openalex.org/W3023203661  conference  \n",
       "https://openalex.org/W3009411444  conference  \n",
       "https://openalex.org/W2899852203  conference  \n",
       "https://openalex.org/W2952933698  conference  \n",
       "https://openalex.org/W3009555957  conference  \n",
       "\n",
       "[746 rows x 20 columns]"
      ]
     },
     "execution_count": 78,
     "metadata": {},
     "output_type": "execute_result"
    }
   ],
   "source": [
    "dfinfo[dfinfo[\"source_type\"] == \"conference\"]"
   ]
  },
  {
   "cell_type": "code",
   "execution_count": 79,
   "id": "8c205ff2-eb59-44bd-8854-f36ed290ec40",
   "metadata": {},
   "outputs": [
    {
     "data": {
      "text/plain": [
       "Index(['x', 'y', 'id', 'title', 'doi', 'cluster', 'probability',\n",
       "       'publication_date', 'grants', 'locations', 'keywords', 'top_concepts',\n",
       "       'affil_list', 'authors_list', 'wrapped_affil_list', 'author_list',\n",
       "       'wrapped_author_list', 'wrapped_keywords', 'source', 'source_type'],\n",
       "      dtype='object')"
      ]
     },
     "execution_count": 79,
     "metadata": {},
     "output_type": "execute_result"
    }
   ],
   "source": [
    "dfinfo.columns"
   ]
  },
  {
   "cell_type": "code",
   "execution_count": 80,
   "id": "3348d76b-2ff7-4529-b924-c27f7a531637",
   "metadata": {},
   "outputs": [
    {
     "data": {
      "text/plain": [
       "Index(['id', 'display_name', 'ror', 'country_code', 'type', 'lineage',\n",
       "       'paper_id', 'paper_raw_affiliation_strings', 'paper_author_position',\n",
       "       'paper_doi', 'paper_title', 'paper_abstract', 'paper_publication_date',\n",
       "       'paper_publication_year', 'paper_grants', 'paper_locations',\n",
       "       'paper_is_corrresponding', 'paper_x', 'paper_y', 'paper_cluster',\n",
       "       'paper_cluster_score', 'paper_author_id', 'paper_author_display_name',\n",
       "       'paper_author_orcid'],\n",
       "      dtype='object')"
      ]
     },
     "execution_count": 80,
     "metadata": {},
     "output_type": "execute_result"
    }
   ],
   "source": [
    "dftriple.columns"
   ]
  },
  {
   "cell_type": "code",
   "execution_count": 81,
   "id": "d4735f0a-755f-48b3-b718-434a98cfb714",
   "metadata": {},
   "outputs": [],
   "source": [
    "dfinfo.to_pickle('updatejammingdfinfo2d.pkl')"
   ]
  },
  {
   "cell_type": "code",
   "execution_count": 82,
   "id": "596ccc0d-2a4c-4e53-9fbd-af0c23e21662",
   "metadata": {},
   "outputs": [],
   "source": [
    "#dftriple['paper_grants'].value_counts()"
   ]
  },
  {
   "cell_type": "code",
   "execution_count": 83,
   "id": "4bd44115-01e1-4360-8c89-0c79763a9b80",
   "metadata": {},
   "outputs": [],
   "source": [
    "def get_funder_names(funder_list):\n",
    "    \"\"\"\n",
    "    funder_list is a list of dictionaries\n",
    "    with three keys; return the list of \n",
    "    unique **funder_display_name**\n",
    "    values\n",
    "    \"\"\"\n",
    "    try:\n",
    "        funder_names = list(set([f['funder_display_name'] for f in funder_list]))\n",
    "        return funder_names    \n",
    "    except:\n",
    "        return []\n",
    "        "
   ]
  },
  {
   "cell_type": "code",
   "execution_count": 84,
   "id": "23a331d8-159b-4de8-ae61-a517b8ff447a",
   "metadata": {},
   "outputs": [],
   "source": [
    "dftriple[\"source\"] = dftriple[\"paper_locations\"].apply(get_source_name)\n",
    "dftriple[\"source_type\"] = dftriple[\"paper_locations\"].apply(get_source_type)\n",
    "dftriple[\"funder_list\"] = dftriple[\"paper_grants\"].apply(get_funder_names)"
   ]
  },
  {
   "cell_type": "code",
   "execution_count": 85,
   "id": "34f5e4fc-5764-41c8-ab8e-cc76b0cf6fc0",
   "metadata": {},
   "outputs": [],
   "source": [
    "dftriple.to_pickle('updatejammingdftriple2d.pkl')"
   ]
  },
  {
   "cell_type": "code",
   "execution_count": 86,
   "id": "1c59efd2-8dad-4fbe-a73a-28847d01bee8",
   "metadata": {},
   "outputs": [
    {
     "data": {
      "text/plain": [
       "IEEE transactions on plasma science                                         1701\n",
       "Review of scientific instruments online/Review of scientific instruments    1106\n",
       "Journal of physics. Conference series                                        589\n",
       "Lecture notes in electrical engineering                                      547\n",
       "IEEE access                                                                  540\n",
       "                                                                            ... \n",
       "Europhysics letters                                                            1\n",
       "Fizika tverdogo tela                                                           1\n",
       "Defense and security analysis                                                  1\n",
       "Acta crystallographica. Section A, Foundations and advances                    1\n",
       "Bioprocess engineering                                                         1\n",
       "Name: source, Length: 1336, dtype: int64"
      ]
     },
     "execution_count": 86,
     "metadata": {},
     "output_type": "execute_result"
    }
   ],
   "source": [
    "dftriple['source'].value_counts()"
   ]
  },
  {
   "cell_type": "code",
   "execution_count": 87,
   "id": "639cdd1b-c80b-4b5f-9357-8e9477108918",
   "metadata": {},
   "outputs": [
    {
     "data": {
      "text/plain": [
       "journal           21220\n",
       "conference         2811\n",
       "book series        1540\n",
       "repository          290\n",
       "ebook platform      167\n",
       "Name: source_type, dtype: int64"
      ]
     },
     "execution_count": 87,
     "metadata": {},
     "output_type": "execute_result"
    }
   ],
   "source": [
    "dftriple['source_type'].value_counts()"
   ]
  },
  {
   "cell_type": "code",
   "execution_count": 88,
   "id": "1af8a493-ae0f-42fb-9bec-1fb312c7044b",
   "metadata": {},
   "outputs": [],
   "source": [
    "def get_journals_cluster_sort(dc:pd.DataFrame, cl:int):\n",
    "    \"\"\"\n",
    "    restricts the dataframe dc to cluster value cl\n",
    "    and returns the results grouped by source (where\n",
    "    source_type == 'journal') sorted\n",
    "    by the some of probablity descending\n",
    "    \"\"\"\n",
    "    dg = dc[dc['paper_cluster'] == cl].copy()\n",
    "    print(cl)\n",
    "    dv = dg[dg['source_type'] == 'journal'].groupby(['source'])['paper_cluster_score'].sum().to_frame()\n",
    "    dv.sort_values('paper_cluster_score', ascending=False, inplace=True)\n",
    "    kw = centroids[centroids.cluster == cl]['keywords'].iloc[0]\n",
    "    return dv, kw"
   ]
  },
  {
   "cell_type": "code",
   "execution_count": 89,
   "id": "9d9aec7b-6e9f-446f-b5b2-1e28c3f28095",
   "metadata": {},
   "outputs": [],
   "source": [
    "def get_conferences_cluster_sort(dc:pd.DataFrame, cl:int):\n",
    "    \"\"\"\n",
    "    restricts the dataframe dc to cluster value cl\n",
    "    and returns the results grouped by source (where\n",
    "    source_type == 'journal') sorted\n",
    "    by the some of probablity descending\n",
    "    \"\"\"\n",
    "    dg = dc[dc['paper_cluster'] == cl].copy()\n",
    "    print(cl)\n",
    "    dv = dg[dg['source_type'] == 'conference'].groupby(['source'])['paper_cluster_score'].sum().to_frame()\n",
    "    dv.sort_values('paper_cluster_score', ascending=False, inplace=True)\n",
    "    kw = centroids[centroids.cluster == cl]['keywords'].iloc[0]\n",
    "    return dv, kw"
   ]
  },
  {
   "cell_type": "code",
   "execution_count": 90,
   "id": "a42c645c-6cce-44fe-98d9-62e81bb50818",
   "metadata": {},
   "outputs": [
    {
     "name": "stdout",
     "output_type": "stream",
     "text": [
      "1\n",
      "['robotic manipulator system', 'Robotic Manipulator', 'Robotic Manipulator Control', 'Robot manipulator', 'Sliding Mode Control', 'Flexible Robotic Manipulator', 'robotic manipulator based', 'redundant robot manipulators', 'manipulator control system', 'Timoshenko robotic manipulator', 'industrial robot manipulator', 'Robot Manipulators Based', 'Robotic Arm Manipulator', 'control robotic manipulators', 'Robot Manipulators Control', 'DOF Robotic Manipulator', 'Soft Robotic Manipulators', 'robot manipulator systems', 'Manipulator Robotic Control', 'Manipulator']\n"
     ]
    },
    {
     "data": {
      "text/html": [
       "<div>\n",
       "<style scoped>\n",
       "    .dataframe tbody tr th:only-of-type {\n",
       "        vertical-align: middle;\n",
       "    }\n",
       "\n",
       "    .dataframe tbody tr th {\n",
       "        vertical-align: top;\n",
       "    }\n",
       "\n",
       "    .dataframe thead th {\n",
       "        text-align: right;\n",
       "    }\n",
       "</style>\n",
       "<table border=\"1\" class=\"dataframe\">\n",
       "  <thead>\n",
       "    <tr style=\"text-align: right;\">\n",
       "      <th></th>\n",
       "      <th>paper_cluster_score</th>\n",
       "    </tr>\n",
       "    <tr>\n",
       "      <th>source</th>\n",
       "      <th></th>\n",
       "    </tr>\n",
       "  </thead>\n",
       "  <tbody>\n",
       "    <tr>\n",
       "      <th>IFAC-PapersOnLine</th>\n",
       "      <td>119.0</td>\n",
       "    </tr>\n",
       "    <tr>\n",
       "      <th>Robotikusu, Mekatoronikusu Koenkai koen gaiyoshu</th>\n",
       "      <td>89.0</td>\n",
       "    </tr>\n",
       "    <tr>\n",
       "      <th>Applied sciences</th>\n",
       "      <td>87.0</td>\n",
       "    </tr>\n",
       "    <tr>\n",
       "      <th>IEEE access</th>\n",
       "      <td>86.0</td>\n",
       "    </tr>\n",
       "    <tr>\n",
       "      <th>IEEE robotics &amp; automation letters</th>\n",
       "      <td>69.0</td>\n",
       "    </tr>\n",
       "    <tr>\n",
       "      <th>Robotica</th>\n",
       "      <td>68.0</td>\n",
       "    </tr>\n",
       "    <tr>\n",
       "      <th>International journal of robust and nonlinear control</th>\n",
       "      <td>58.0</td>\n",
       "    </tr>\n",
       "    <tr>\n",
       "      <th>Journal of physics. Conference series</th>\n",
       "      <td>46.0</td>\n",
       "    </tr>\n",
       "    <tr>\n",
       "      <th>IEEE transactions on industrial informatics</th>\n",
       "      <td>40.0</td>\n",
       "    </tr>\n",
       "    <tr>\n",
       "      <th>IEEE/ASME transactions on mechatronics</th>\n",
       "      <td>39.0</td>\n",
       "    </tr>\n",
       "  </tbody>\n",
       "</table>\n",
       "</div>"
      ],
      "text/plain": [
       "                                                   paper_cluster_score\n",
       "source                                                                \n",
       "IFAC-PapersOnLine                                                119.0\n",
       "Robotikusu, Mekatoronikusu Koenkai koen gaiyoshu                  89.0\n",
       "Applied sciences                                                  87.0\n",
       "IEEE access                                                       86.0\n",
       "IEEE robotics & automation letters                                69.0\n",
       "Robotica                                                          68.0\n",
       "International journal of robust and nonlinear c...                58.0\n",
       "Journal of physics. Conference series                             46.0\n",
       "IEEE transactions on industrial informatics                       40.0\n",
       "IEEE/ASME transactions on mechatronics                            39.0"
      ]
     },
     "execution_count": 90,
     "metadata": {},
     "output_type": "execute_result"
    }
   ],
   "source": [
    "dv84, kw84 = get_journals_cluster_sort(dftriple, 1)\n",
    "print(kw84)\n",
    "dv84.head(10)"
   ]
  },
  {
   "cell_type": "markdown",
   "id": "0dbd9657-b667-4217-8cde-6eca51c0c7f7",
   "metadata": {},
   "source": [
    "# Country - Country Collaborations\n",
    "\n",
    "want to report back though which countries are involved as well. ok."
   ]
  },
  {
   "cell_type": "code",
   "execution_count": 91,
   "id": "b4c839a2-b4b3-4279-b283-19c7d5d8b674",
   "metadata": {},
   "outputs": [],
   "source": [
    "def get_country_collaborations_sort(dc:pd.DataFrame, cl:int):\n",
    "    \"\"\"\n",
    "    resticts the dataframe dc to cluster value cl\n",
    "    and returns the results of paper_id s where there is \n",
    "    more than one country_code\n",
    "    \"\"\"\n",
    "    dg = dc[dc['paper_cluster'] == cl].copy()\n",
    "    dv = dg.groupby('paper_id')['country_code'].apply(lambda x: len(set(x.values))).to_frame()\n",
    "    dc = dg.groupby('paper_id')['country_code'].apply(lambda x: list(set(x.values))).to_frame()\n",
    "    dc.columns = ['collab_countries']\n",
    "    dv.columns = ['country_count']\n",
    "    dv['collab_countries'] = dc['collab_countries']\n",
    "    dv.sort_values('country_count',ascending=False, inplace=True)\n",
    "    di = dfinfo.loc[dv.index].copy()\n",
    "    di['country_count'] = dv['country_count']\n",
    "    di['collab_countries'] = dv['collab_countries']\n",
    "    return di[di['country_count'] > 1]"
   ]
  },
  {
   "cell_type": "code",
   "execution_count": 92,
   "id": "b8caf662-ec45-4118-a633-4995954480c4",
   "metadata": {},
   "outputs": [
    {
     "data": {
      "text/html": [
       "<div>\n",
       "<style scoped>\n",
       "    .dataframe tbody tr th:only-of-type {\n",
       "        vertical-align: middle;\n",
       "    }\n",
       "\n",
       "    .dataframe tbody tr th {\n",
       "        vertical-align: top;\n",
       "    }\n",
       "\n",
       "    .dataframe thead th {\n",
       "        text-align: right;\n",
       "    }\n",
       "</style>\n",
       "<table border=\"1\" class=\"dataframe\">\n",
       "  <thead>\n",
       "    <tr style=\"text-align: right;\">\n",
       "      <th></th>\n",
       "      <th>x</th>\n",
       "      <th>y</th>\n",
       "      <th>id</th>\n",
       "      <th>title</th>\n",
       "      <th>doi</th>\n",
       "      <th>cluster</th>\n",
       "      <th>probability</th>\n",
       "      <th>publication_date</th>\n",
       "      <th>grants</th>\n",
       "      <th>locations</th>\n",
       "      <th>...</th>\n",
       "      <th>affil_list</th>\n",
       "      <th>authors_list</th>\n",
       "      <th>wrapped_affil_list</th>\n",
       "      <th>author_list</th>\n",
       "      <th>wrapped_author_list</th>\n",
       "      <th>wrapped_keywords</th>\n",
       "      <th>source</th>\n",
       "      <th>source_type</th>\n",
       "      <th>country_count</th>\n",
       "      <th>collab_countries</th>\n",
       "    </tr>\n",
       "    <tr>\n",
       "      <th>paper_id</th>\n",
       "      <th></th>\n",
       "      <th></th>\n",
       "      <th></th>\n",
       "      <th></th>\n",
       "      <th></th>\n",
       "      <th></th>\n",
       "      <th></th>\n",
       "      <th></th>\n",
       "      <th></th>\n",
       "      <th></th>\n",
       "      <th></th>\n",
       "      <th></th>\n",
       "      <th></th>\n",
       "      <th></th>\n",
       "      <th></th>\n",
       "      <th></th>\n",
       "      <th></th>\n",
       "      <th></th>\n",
       "      <th></th>\n",
       "      <th></th>\n",
       "      <th></th>\n",
       "    </tr>\n",
       "  </thead>\n",
       "  <tbody>\n",
       "    <tr>\n",
       "      <th>https://openalex.org/W3174123873</th>\n",
       "      <td>12.870756</td>\n",
       "      <td>-0.286967</td>\n",
       "      <td>https://openalex.org/W3174123873</td>\n",
       "      <td>Past, Present, and Future of Aerial Robotic Ma...</td>\n",
       "      <td>https://doi.org/10.1109/tro.2021.3084395</td>\n",
       "      <td>0</td>\n",
       "      <td>1.000000</td>\n",
       "      <td>2022-02-01</td>\n",
       "      <td>[{'funder': 'https://openalex.org/F4320320300'...</td>\n",
       "      <td>[{'is_oa': True, 'landing_page_url': 'https://...</td>\n",
       "      <td>...</td>\n",
       "      <td>[Department of Mechanical Engineering, IAMD an...</td>\n",
       "      <td>[Anı́bal Ollero, Marco Tognon, Alejandro Suáre...</td>\n",
       "      <td>['Department of Mechanical Engineering,&lt;br&gt;IAM...</td>\n",
       "      <td>[Anı́bal Ollero, Marco Tognon, Alejandro Suáre...</td>\n",
       "      <td>['Anı́bal Ollero' 'Marco Tognon'&lt;br&gt;'Alejandro...</td>\n",
       "      <td>['Aerial Robotic Manipulators', 'Robotic&lt;br&gt;Ma...</td>\n",
       "      <td>IEEE transactions on robotics</td>\n",
       "      <td>journal</td>\n",
       "      <td>5</td>\n",
       "      <td>[NL, KR, FR, CH, ES]</td>\n",
       "    </tr>\n",
       "    <tr>\n",
       "      <th>https://openalex.org/W3013279486</th>\n",
       "      <td>12.830274</td>\n",
       "      <td>-0.375535</td>\n",
       "      <td>https://openalex.org/W3013279486</td>\n",
       "      <td>Design and Development of a Low-Cost Indigenou...</td>\n",
       "      <td>https://doi.org/10.1109/isai-nlp48611.2019.904...</td>\n",
       "      <td>0</td>\n",
       "      <td>0.127045</td>\n",
       "      <td>2019-10-01</td>\n",
       "      <td>[]</td>\n",
       "      <td>[{'is_oa': False, 'landing_page_url': 'https:/...</td>\n",
       "      <td>...</td>\n",
       "      <td>[Muban Chombueng Rajabhat University,Faculty o...</td>\n",
       "      <td>[Adil Farooq, Muhammad Irfan, Abdullah Saeed, ...</td>\n",
       "      <td>['Muban Chombueng Rajabhat&lt;br&gt;University,Facul...</td>\n",
       "      <td>[Adil Farooq, Muhammad Irfan, Abdullah Saeed, ...</td>\n",
       "      <td>['Adil Farooq' 'Muhammad Irfan'&lt;br&gt;'Abdullah S...</td>\n",
       "      <td>['Unmanned Ground Vehicle', 'Indigenous&lt;br&gt;Sol...</td>\n",
       "      <td>None</td>\n",
       "      <td>None</td>\n",
       "      <td>4</td>\n",
       "      <td>[TH, PK, CY, AE]</td>\n",
       "    </tr>\n",
       "    <tr>\n",
       "      <th>https://openalex.org/W4361764889</th>\n",
       "      <td>12.858668</td>\n",
       "      <td>-0.323213</td>\n",
       "      <td>https://openalex.org/W4361764889</td>\n",
       "      <td>Innovative Development of a Flying robot with ...</td>\n",
       "      <td>https://doi.org/10.15439/2022r47</td>\n",
       "      <td>0</td>\n",
       "      <td>0.383097</td>\n",
       "      <td>2022-02-20</td>\n",
       "      <td>[]</td>\n",
       "      <td>[{'is_oa': True, 'landing_page_url': 'https://...</td>\n",
       "      <td>...</td>\n",
       "      <td>[Institute of Simulation Technology, Le Quy Do...</td>\n",
       "      <td>[Yavor Yotov, Yavor Yotov, Nikolay Zlatov, Nik...</td>\n",
       "      <td>['Institute of Simulation Technology, Le&lt;br&gt;Qu...</td>\n",
       "      <td>[Yavor Yotov, Yavor Yotov, Nikolay Zlatov, Nik...</td>\n",
       "      <td>['Yavor Yotov' 'Yavor Yotov' 'Nikolay&lt;br&gt;Zlato...</td>\n",
       "      <td>['aerial manipulation platform',&lt;br&gt;'Dexterous...</td>\n",
       "      <td>Annals of Computer Science and Information Sys...</td>\n",
       "      <td>conference</td>\n",
       "      <td>4</td>\n",
       "      <td>[VN, MY, BG, GB]</td>\n",
       "    </tr>\n",
       "    <tr>\n",
       "      <th>https://openalex.org/W3131230508</th>\n",
       "      <td>12.877010</td>\n",
       "      <td>-0.281814</td>\n",
       "      <td>https://openalex.org/W3131230508</td>\n",
       "      <td>Compliance Control of a Cable-Suspended Aerial...</td>\n",
       "      <td>https://doi.org/10.1109/iros45743.2020.9340703</td>\n",
       "      <td>0</td>\n",
       "      <td>0.793656</td>\n",
       "      <td>2020-10-24</td>\n",
       "      <td>[]</td>\n",
       "      <td>[{'is_oa': False, 'landing_page_url': 'https:/...</td>\n",
       "      <td>...</td>\n",
       "      <td>[Institute of Robotics and Mechatronics, Germa...</td>\n",
       "      <td>[Chiara Gabellieri, Chiara Gabellieri, Yu. S. ...</td>\n",
       "      <td>['Institute of Robotics and&lt;br&gt;Mechatronics, G...</td>\n",
       "      <td>[Chiara Gabellieri, Chiara Gabellieri, Yu. S. ...</td>\n",
       "      <td>['Chiara Gabellieri' 'Chiara Gabellieri'&lt;br&gt;'Y...</td>\n",
       "      <td>['Cable-Suspended Aerial Manipulator',&lt;br&gt;'Hie...</td>\n",
       "      <td>None</td>\n",
       "      <td>None</td>\n",
       "      <td>3</td>\n",
       "      <td>[RU, DE, IT]</td>\n",
       "    </tr>\n",
       "    <tr>\n",
       "      <th>https://openalex.org/W2901687922</th>\n",
       "      <td>12.859335</td>\n",
       "      <td>-0.288682</td>\n",
       "      <td>https://openalex.org/W2901687922</td>\n",
       "      <td>Force control design for a robot manipulator a...</td>\n",
       "      <td>https://doi.org/10.1016/j.ifacol.2018.11.268</td>\n",
       "      <td>0</td>\n",
       "      <td>0.714888</td>\n",
       "      <td>2018-01-01</td>\n",
       "      <td>[]</td>\n",
       "      <td>[{'is_oa': True, 'landing_page_url': 'https://...</td>\n",
       "      <td>...</td>\n",
       "      <td>[University of Patras, Electrical and Computer...</td>\n",
       "      <td>[Κωνσταντίνος Γκούντας, Dimitris Chaikalis, An...</td>\n",
       "      <td>['University of Patras, Electrical and&lt;br&gt;Comp...</td>\n",
       "      <td>[Κωνσταντίνος Γκούντας, Dimitris Chaikalis, An...</td>\n",
       "      <td>['Κωνσταντίνος Γκούντας' 'Dimitris&lt;br&gt;Chaikali...</td>\n",
       "      <td>['Unmanned Aerial Vehicle', 'Force&lt;br&gt;control ...</td>\n",
       "      <td>IFAC-PapersOnLine</td>\n",
       "      <td>journal</td>\n",
       "      <td>2</td>\n",
       "      <td>[GR, AE]</td>\n",
       "    </tr>\n",
       "    <tr>\n",
       "      <th>https://openalex.org/W3033578287</th>\n",
       "      <td>12.865695</td>\n",
       "      <td>-0.310143</td>\n",
       "      <td>https://openalex.org/W3033578287</td>\n",
       "      <td>Design, modeling, and control of an aerial man...</td>\n",
       "      <td>https://doi.org/10.1002/rob.21963</td>\n",
       "      <td>0</td>\n",
       "      <td>0.609563</td>\n",
       "      <td>2020-06-01</td>\n",
       "      <td>[{'funder': 'https://openalex.org/F4320334627'...</td>\n",
       "      <td>[{'is_oa': True, 'landing_page_url': 'https://...</td>\n",
       "      <td>...</td>\n",
       "      <td>[Department of Mechanical Engineering, Univers...</td>\n",
       "      <td>[Salua Hamaza, Ioannis Georgilas, Guillermo He...</td>\n",
       "      <td>['Department of Mechanical Engineering,&lt;br&gt;Uni...</td>\n",
       "      <td>[Salua Hamaza, Ioannis Georgilas, Guillermo He...</td>\n",
       "      <td>['Salua Hamaza' 'Ioannis Georgilas'&lt;br&gt;'Guille...</td>\n",
       "      <td>['Abstract On‐site inspection',&lt;br&gt;'placement ...</td>\n",
       "      <td>Journal of field robotics</td>\n",
       "      <td>journal</td>\n",
       "      <td>2</td>\n",
       "      <td>[ES, GB]</td>\n",
       "    </tr>\n",
       "    <tr>\n",
       "      <th>https://openalex.org/W2954439514</th>\n",
       "      <td>12.855566</td>\n",
       "      <td>-0.267179</td>\n",
       "      <td>https://openalex.org/W2954439514</td>\n",
       "      <td>Centralized Control of Helicopters with Manipu...</td>\n",
       "      <td>https://doi.org/10.1007/978-3-030-12945-3_9</td>\n",
       "      <td>0</td>\n",
       "      <td>0.405945</td>\n",
       "      <td>2019-01-01</td>\n",
       "      <td>[]</td>\n",
       "      <td>[{'is_oa': False, 'landing_page_url': 'https:/...</td>\n",
       "      <td>...</td>\n",
       "      <td>[Institute of Robotics and Mechatronics, Germa...</td>\n",
       "      <td>[Manuel Béjar, Anı́bal Ollero, Konstantin Kondak]</td>\n",
       "      <td>['Institute of Robotics and&lt;br&gt;Mechatronics, G...</td>\n",
       "      <td>[Manuel Béjar, Anı́bal Ollero, Konstantin Kondak]</td>\n",
       "      <td>['Manuel Béjar' 'Anı́bal Ollero'&lt;br&gt;'Konstanti...</td>\n",
       "      <td>['Control', 'Centralized Control',&lt;br&gt;'Helicop...</td>\n",
       "      <td>Springer tracts in advanced robotics</td>\n",
       "      <td>book series</td>\n",
       "      <td>2</td>\n",
       "      <td>[DE, ES]</td>\n",
       "    </tr>\n",
       "    <tr>\n",
       "      <th>https://openalex.org/W4310720483</th>\n",
       "      <td>12.887918</td>\n",
       "      <td>-0.275388</td>\n",
       "      <td>https://openalex.org/W4310720483</td>\n",
       "      <td>Modeling and trajectory tracking by robust con...</td>\n",
       "      <td>https://doi.org/10.1109/icaee53772.2022.9962012</td>\n",
       "      <td>0</td>\n",
       "      <td>0.469199</td>\n",
       "      <td>2022-10-29</td>\n",
       "      <td>[]</td>\n",
       "      <td>[{'is_oa': False, 'landing_page_url': 'https:/...</td>\n",
       "      <td>...</td>\n",
       "      <td>[Guidance and Navigation Laboratory, Ecole Mil...</td>\n",
       "      <td>[Zamoum Housseyn, Zamoum Housseyn]</td>\n",
       "      <td>['Guidance and Navigation Laboratory,&lt;br&gt;Ecole...</td>\n",
       "      <td>[Zamoum Housseyn, Zamoum Housseyn]</td>\n",
       "      <td>['Zamoum Housseyn' 'Zamoum Housseyn']</td>\n",
       "      <td>['manipulator arm', 'aerial&lt;br&gt;manipulation', ...</td>\n",
       "      <td>2022 2nd International Conference on Advanced ...</td>\n",
       "      <td>conference</td>\n",
       "      <td>2</td>\n",
       "      <td>[FR, GB]</td>\n",
       "    </tr>\n",
       "    <tr>\n",
       "      <th>https://openalex.org/W2612358504</th>\n",
       "      <td>12.879789</td>\n",
       "      <td>-0.268478</td>\n",
       "      <td>https://openalex.org/W2612358504</td>\n",
       "      <td>Explicit Computations, Simulations and additio...</td>\n",
       "      <td>None</td>\n",
       "      <td>0</td>\n",
       "      <td>0.525386</td>\n",
       "      <td>2017-02-23</td>\n",
       "      <td>[]</td>\n",
       "      <td>[{'is_oa': True, 'landing_page_url': 'https://...</td>\n",
       "      <td>...</td>\n",
       "      <td>[Max Planck Institute for Biological Cyberneti...</td>\n",
       "      <td>[Burak Yüksel, Gabriele Buondonno]</td>\n",
       "      <td>['Max Planck Institute for Biological&lt;br&gt;Cyber...</td>\n",
       "      <td>[Burak Yüksel, Gabriele Buondonno]</td>\n",
       "      <td>['Burak Yüksel' 'Gabriele Buondonno']</td>\n",
       "      <td>['Dynamic Decentralized Control',&lt;br&gt;'Protocen...</td>\n",
       "      <td>None</td>\n",
       "      <td>None</td>\n",
       "      <td>2</td>\n",
       "      <td>[DE, IT]</td>\n",
       "    </tr>\n",
       "    <tr>\n",
       "      <th>https://openalex.org/W2950250300</th>\n",
       "      <td>12.869242</td>\n",
       "      <td>-0.296375</td>\n",
       "      <td>https://openalex.org/W2950250300</td>\n",
       "      <td>Equilibrium-Based Force and Torque Control for...</td>\n",
       "      <td>https://doi.org/10.1017/s0263574719000870</td>\n",
       "      <td>0</td>\n",
       "      <td>1.000000</td>\n",
       "      <td>2019-06-17</td>\n",
       "      <td>[]</td>\n",
       "      <td>[{'is_oa': False, 'landing_page_url': 'https:/...</td>\n",
       "      <td>...</td>\n",
       "      <td>[Department of Mechanical and Aerospace Engine...</td>\n",
       "      <td>[Bruno Tavora, Hyeongjun Park]</td>\n",
       "      <td>['Department of Mechanical and Aerospace&lt;br&gt;En...</td>\n",
       "      <td>[Bruno Tavora, Hyeongjun Park]</td>\n",
       "      <td>['Bruno Tavora' 'Hyeongjun Park']</td>\n",
       "      <td>['Vertical Surface', 'Aerial', 'Force&lt;br&gt;and T...</td>\n",
       "      <td>Robotica</td>\n",
       "      <td>journal</td>\n",
       "      <td>2</td>\n",
       "      <td>[US, BR]</td>\n",
       "    </tr>\n",
       "    <tr>\n",
       "      <th>https://openalex.org/W2768263424</th>\n",
       "      <td>12.874439</td>\n",
       "      <td>-0.285127</td>\n",
       "      <td>https://openalex.org/W2768263424</td>\n",
       "      <td>Navigation control and stability investigation...</td>\n",
       "      <td>https://doi.org/10.1177/1729881417738103</td>\n",
       "      <td>0</td>\n",
       "      <td>1.000000</td>\n",
       "      <td>2017-11-01</td>\n",
       "      <td>[]</td>\n",
       "      <td>[{'is_oa': True, 'landing_page_url': 'https://...</td>\n",
       "      <td>...</td>\n",
       "      <td>[Kalashnikov Izhevsk STU, Izhevsk, Russia, Tec...</td>\n",
       "      <td>[Pavol Božek, Aiman Al Akkad M, Peter Blišťan,...</td>\n",
       "      <td>['Kalashnikov Izhevsk STU, Izhevsk,&lt;br&gt;Russia'...</td>\n",
       "      <td>[Pavol Božek, Aiman Al Akkad M, Peter Blišťan,...</td>\n",
       "      <td>['Pavol Božek' 'Aiman Al Akkad M' 'Peter&lt;br&gt;Bl...</td>\n",
       "      <td>['mobile robot based', 'hexacopter&lt;br&gt;equipped...</td>\n",
       "      <td>International journal of advanced robotic systems</td>\n",
       "      <td>journal</td>\n",
       "      <td>2</td>\n",
       "      <td>[RU, SK]</td>\n",
       "    </tr>\n",
       "    <tr>\n",
       "      <th>https://openalex.org/W4388821918</th>\n",
       "      <td>12.860291</td>\n",
       "      <td>-0.272412</td>\n",
       "      <td>https://openalex.org/W4388821918</td>\n",
       "      <td>Aerial Manipulator Interaction with the Enviro...</td>\n",
       "      <td>https://doi.org/10.1007/978-3-031-39767-7_12</td>\n",
       "      <td>0</td>\n",
       "      <td>0.520272</td>\n",
       "      <td>2023-11-21</td>\n",
       "      <td>[]</td>\n",
       "      <td>[{'is_oa': False, 'landing_page_url': 'https:/...</td>\n",
       "      <td>...</td>\n",
       "      <td>[ETH Zurich, Zurich, Switzerland, Università d...</td>\n",
       "      <td>[Santos M. Orozco-Soto, Eugenio Cuniato, Jonat...</td>\n",
       "      <td>['ETH Zurich, Zurich, Switzerland',&lt;br&gt;'Univer...</td>\n",
       "      <td>[Santos M. Orozco-Soto, Eugenio Cuniato, Jonat...</td>\n",
       "      <td>['Santos M. Orozco-Soto' 'Eugenio&lt;br&gt;Cuniato' ...</td>\n",
       "      <td>['Aerial Manipulator', 'Aerial&lt;br&gt;Manipulator ...</td>\n",
       "      <td>Advances in industrial control</td>\n",
       "      <td>book series</td>\n",
       "      <td>2</td>\n",
       "      <td>[CH, IT]</td>\n",
       "    </tr>\n",
       "    <tr>\n",
       "      <th>https://openalex.org/W2783130908</th>\n",
       "      <td>12.891557</td>\n",
       "      <td>-0.268458</td>\n",
       "      <td>https://openalex.org/W2783130908</td>\n",
       "      <td>Cooperative Aerial Manipulation Using Multirot...</td>\n",
       "      <td>https://doi.org/10.1109/tmech.2018.2792318</td>\n",
       "      <td>0</td>\n",
       "      <td>0.395366</td>\n",
       "      <td>2018-04-01</td>\n",
       "      <td>[{'funder': 'https://openalex.org/F4320321681'...</td>\n",
       "      <td>[{'is_oa': False, 'landing_page_url': 'https:/...</td>\n",
       "      <td>...</td>\n",
       "      <td>[Robotics and Perception Group, Department of ...</td>\n",
       "      <td>[H. Jin Kim, Ho Seong Seo, Jong‐Ho Shin, H. Ji...</td>\n",
       "      <td>['Robotics and Perception Group,&lt;br&gt;Department...</td>\n",
       "      <td>[H. Jin Kim, Ho Seong Seo, Jong‐Ho Shin, H. Ji...</td>\n",
       "      <td>['H. Jin Kim' 'Ho Seong Seo' 'Jong‐Ho&lt;br&gt;Shin'...</td>\n",
       "      <td>['Multi-DOF Robotic Arms', 'aerial&lt;br&gt;manipula...</td>\n",
       "      <td>IEEE/ASME transactions on mechatronics</td>\n",
       "      <td>journal</td>\n",
       "      <td>2</td>\n",
       "      <td>[KR, CH]</td>\n",
       "    </tr>\n",
       "    <tr>\n",
       "      <th>https://openalex.org/W2756063857</th>\n",
       "      <td>12.874868</td>\n",
       "      <td>-0.285468</td>\n",
       "      <td>https://openalex.org/W2756063857</td>\n",
       "      <td>Aerial Manipulator Dynamics</td>\n",
       "      <td>https://doi.org/10.1007/978-3-319-61022-1_5</td>\n",
       "      <td>0</td>\n",
       "      <td>1.000000</td>\n",
       "      <td>2017-09-22</td>\n",
       "      <td>[]</td>\n",
       "      <td>[{'is_oa': False, 'landing_page_url': 'https:/...</td>\n",
       "      <td>...</td>\n",
       "      <td>[Laboratory for Robotics and Intelligent Contr...</td>\n",
       "      <td>[Matko Orsag, Christopher Korpela, Paul Oh, St...</td>\n",
       "      <td>['Laboratory for Robotics and&lt;br&gt;Intelligent C...</td>\n",
       "      <td>[Matko Orsag, Christopher Korpela, Paul Oh, St...</td>\n",
       "      <td>['Matko Orsag' 'Christopher Korpela'&lt;br&gt;'Paul ...</td>\n",
       "      <td>['Aerial Manipulator Dynamics',&lt;br&gt;'Manipulato...</td>\n",
       "      <td>Advances in industrial control</td>\n",
       "      <td>book series</td>\n",
       "      <td>2</td>\n",
       "      <td>[US, HR]</td>\n",
       "    </tr>\n",
       "  </tbody>\n",
       "</table>\n",
       "<p>14 rows × 22 columns</p>\n",
       "</div>"
      ],
      "text/plain": [
       "                                          x         y  \\\n",
       "paper_id                                                \n",
       "https://openalex.org/W3174123873  12.870756 -0.286967   \n",
       "https://openalex.org/W3013279486  12.830274 -0.375535   \n",
       "https://openalex.org/W4361764889  12.858668 -0.323213   \n",
       "https://openalex.org/W3131230508  12.877010 -0.281814   \n",
       "https://openalex.org/W2901687922  12.859335 -0.288682   \n",
       "https://openalex.org/W3033578287  12.865695 -0.310143   \n",
       "https://openalex.org/W2954439514  12.855566 -0.267179   \n",
       "https://openalex.org/W4310720483  12.887918 -0.275388   \n",
       "https://openalex.org/W2612358504  12.879789 -0.268478   \n",
       "https://openalex.org/W2950250300  12.869242 -0.296375   \n",
       "https://openalex.org/W2768263424  12.874439 -0.285127   \n",
       "https://openalex.org/W4388821918  12.860291 -0.272412   \n",
       "https://openalex.org/W2783130908  12.891557 -0.268458   \n",
       "https://openalex.org/W2756063857  12.874868 -0.285468   \n",
       "\n",
       "                                                                id  \\\n",
       "paper_id                                                             \n",
       "https://openalex.org/W3174123873  https://openalex.org/W3174123873   \n",
       "https://openalex.org/W3013279486  https://openalex.org/W3013279486   \n",
       "https://openalex.org/W4361764889  https://openalex.org/W4361764889   \n",
       "https://openalex.org/W3131230508  https://openalex.org/W3131230508   \n",
       "https://openalex.org/W2901687922  https://openalex.org/W2901687922   \n",
       "https://openalex.org/W3033578287  https://openalex.org/W3033578287   \n",
       "https://openalex.org/W2954439514  https://openalex.org/W2954439514   \n",
       "https://openalex.org/W4310720483  https://openalex.org/W4310720483   \n",
       "https://openalex.org/W2612358504  https://openalex.org/W2612358504   \n",
       "https://openalex.org/W2950250300  https://openalex.org/W2950250300   \n",
       "https://openalex.org/W2768263424  https://openalex.org/W2768263424   \n",
       "https://openalex.org/W4388821918  https://openalex.org/W4388821918   \n",
       "https://openalex.org/W2783130908  https://openalex.org/W2783130908   \n",
       "https://openalex.org/W2756063857  https://openalex.org/W2756063857   \n",
       "\n",
       "                                                                              title  \\\n",
       "paper_id                                                                              \n",
       "https://openalex.org/W3174123873  Past, Present, and Future of Aerial Robotic Ma...   \n",
       "https://openalex.org/W3013279486  Design and Development of a Low-Cost Indigenou...   \n",
       "https://openalex.org/W4361764889  Innovative Development of a Flying robot with ...   \n",
       "https://openalex.org/W3131230508  Compliance Control of a Cable-Suspended Aerial...   \n",
       "https://openalex.org/W2901687922  Force control design for a robot manipulator a...   \n",
       "https://openalex.org/W3033578287  Design, modeling, and control of an aerial man...   \n",
       "https://openalex.org/W2954439514  Centralized Control of Helicopters with Manipu...   \n",
       "https://openalex.org/W4310720483  Modeling and trajectory tracking by robust con...   \n",
       "https://openalex.org/W2612358504  Explicit Computations, Simulations and additio...   \n",
       "https://openalex.org/W2950250300  Equilibrium-Based Force and Torque Control for...   \n",
       "https://openalex.org/W2768263424  Navigation control and stability investigation...   \n",
       "https://openalex.org/W4388821918  Aerial Manipulator Interaction with the Enviro...   \n",
       "https://openalex.org/W2783130908  Cooperative Aerial Manipulation Using Multirot...   \n",
       "https://openalex.org/W2756063857                        Aerial Manipulator Dynamics   \n",
       "\n",
       "                                                                                doi  \\\n",
       "paper_id                                                                              \n",
       "https://openalex.org/W3174123873           https://doi.org/10.1109/tro.2021.3084395   \n",
       "https://openalex.org/W3013279486  https://doi.org/10.1109/isai-nlp48611.2019.904...   \n",
       "https://openalex.org/W4361764889                   https://doi.org/10.15439/2022r47   \n",
       "https://openalex.org/W3131230508     https://doi.org/10.1109/iros45743.2020.9340703   \n",
       "https://openalex.org/W2901687922       https://doi.org/10.1016/j.ifacol.2018.11.268   \n",
       "https://openalex.org/W3033578287                  https://doi.org/10.1002/rob.21963   \n",
       "https://openalex.org/W2954439514        https://doi.org/10.1007/978-3-030-12945-3_9   \n",
       "https://openalex.org/W4310720483    https://doi.org/10.1109/icaee53772.2022.9962012   \n",
       "https://openalex.org/W2612358504                                               None   \n",
       "https://openalex.org/W2950250300          https://doi.org/10.1017/s0263574719000870   \n",
       "https://openalex.org/W2768263424           https://doi.org/10.1177/1729881417738103   \n",
       "https://openalex.org/W4388821918       https://doi.org/10.1007/978-3-031-39767-7_12   \n",
       "https://openalex.org/W2783130908         https://doi.org/10.1109/tmech.2018.2792318   \n",
       "https://openalex.org/W2756063857        https://doi.org/10.1007/978-3-319-61022-1_5   \n",
       "\n",
       "                                  cluster  probability publication_date  \\\n",
       "paper_id                                                                  \n",
       "https://openalex.org/W3174123873        0     1.000000       2022-02-01   \n",
       "https://openalex.org/W3013279486        0     0.127045       2019-10-01   \n",
       "https://openalex.org/W4361764889        0     0.383097       2022-02-20   \n",
       "https://openalex.org/W3131230508        0     0.793656       2020-10-24   \n",
       "https://openalex.org/W2901687922        0     0.714888       2018-01-01   \n",
       "https://openalex.org/W3033578287        0     0.609563       2020-06-01   \n",
       "https://openalex.org/W2954439514        0     0.405945       2019-01-01   \n",
       "https://openalex.org/W4310720483        0     0.469199       2022-10-29   \n",
       "https://openalex.org/W2612358504        0     0.525386       2017-02-23   \n",
       "https://openalex.org/W2950250300        0     1.000000       2019-06-17   \n",
       "https://openalex.org/W2768263424        0     1.000000       2017-11-01   \n",
       "https://openalex.org/W4388821918        0     0.520272       2023-11-21   \n",
       "https://openalex.org/W2783130908        0     0.395366       2018-04-01   \n",
       "https://openalex.org/W2756063857        0     1.000000       2017-09-22   \n",
       "\n",
       "                                                                             grants  \\\n",
       "paper_id                                                                              \n",
       "https://openalex.org/W3174123873  [{'funder': 'https://openalex.org/F4320320300'...   \n",
       "https://openalex.org/W3013279486                                                 []   \n",
       "https://openalex.org/W4361764889                                                 []   \n",
       "https://openalex.org/W3131230508                                                 []   \n",
       "https://openalex.org/W2901687922                                                 []   \n",
       "https://openalex.org/W3033578287  [{'funder': 'https://openalex.org/F4320334627'...   \n",
       "https://openalex.org/W2954439514                                                 []   \n",
       "https://openalex.org/W4310720483                                                 []   \n",
       "https://openalex.org/W2612358504                                                 []   \n",
       "https://openalex.org/W2950250300                                                 []   \n",
       "https://openalex.org/W2768263424                                                 []   \n",
       "https://openalex.org/W4388821918                                                 []   \n",
       "https://openalex.org/W2783130908  [{'funder': 'https://openalex.org/F4320321681'...   \n",
       "https://openalex.org/W2756063857                                                 []   \n",
       "\n",
       "                                                                          locations  \\\n",
       "paper_id                                                                              \n",
       "https://openalex.org/W3174123873  [{'is_oa': True, 'landing_page_url': 'https://...   \n",
       "https://openalex.org/W3013279486  [{'is_oa': False, 'landing_page_url': 'https:/...   \n",
       "https://openalex.org/W4361764889  [{'is_oa': True, 'landing_page_url': 'https://...   \n",
       "https://openalex.org/W3131230508  [{'is_oa': False, 'landing_page_url': 'https:/...   \n",
       "https://openalex.org/W2901687922  [{'is_oa': True, 'landing_page_url': 'https://...   \n",
       "https://openalex.org/W3033578287  [{'is_oa': True, 'landing_page_url': 'https://...   \n",
       "https://openalex.org/W2954439514  [{'is_oa': False, 'landing_page_url': 'https:/...   \n",
       "https://openalex.org/W4310720483  [{'is_oa': False, 'landing_page_url': 'https:/...   \n",
       "https://openalex.org/W2612358504  [{'is_oa': True, 'landing_page_url': 'https://...   \n",
       "https://openalex.org/W2950250300  [{'is_oa': False, 'landing_page_url': 'https:/...   \n",
       "https://openalex.org/W2768263424  [{'is_oa': True, 'landing_page_url': 'https://...   \n",
       "https://openalex.org/W4388821918  [{'is_oa': False, 'landing_page_url': 'https:/...   \n",
       "https://openalex.org/W2783130908  [{'is_oa': False, 'landing_page_url': 'https:/...   \n",
       "https://openalex.org/W2756063857  [{'is_oa': False, 'landing_page_url': 'https:/...   \n",
       "\n",
       "                                  ...  \\\n",
       "paper_id                          ...   \n",
       "https://openalex.org/W3174123873  ...   \n",
       "https://openalex.org/W3013279486  ...   \n",
       "https://openalex.org/W4361764889  ...   \n",
       "https://openalex.org/W3131230508  ...   \n",
       "https://openalex.org/W2901687922  ...   \n",
       "https://openalex.org/W3033578287  ...   \n",
       "https://openalex.org/W2954439514  ...   \n",
       "https://openalex.org/W4310720483  ...   \n",
       "https://openalex.org/W2612358504  ...   \n",
       "https://openalex.org/W2950250300  ...   \n",
       "https://openalex.org/W2768263424  ...   \n",
       "https://openalex.org/W4388821918  ...   \n",
       "https://openalex.org/W2783130908  ...   \n",
       "https://openalex.org/W2756063857  ...   \n",
       "\n",
       "                                                                         affil_list  \\\n",
       "paper_id                                                                              \n",
       "https://openalex.org/W3174123873  [Department of Mechanical Engineering, IAMD an...   \n",
       "https://openalex.org/W3013279486  [Muban Chombueng Rajabhat University,Faculty o...   \n",
       "https://openalex.org/W4361764889  [Institute of Simulation Technology, Le Quy Do...   \n",
       "https://openalex.org/W3131230508  [Institute of Robotics and Mechatronics, Germa...   \n",
       "https://openalex.org/W2901687922  [University of Patras, Electrical and Computer...   \n",
       "https://openalex.org/W3033578287  [Department of Mechanical Engineering, Univers...   \n",
       "https://openalex.org/W2954439514  [Institute of Robotics and Mechatronics, Germa...   \n",
       "https://openalex.org/W4310720483  [Guidance and Navigation Laboratory, Ecole Mil...   \n",
       "https://openalex.org/W2612358504  [Max Planck Institute for Biological Cyberneti...   \n",
       "https://openalex.org/W2950250300  [Department of Mechanical and Aerospace Engine...   \n",
       "https://openalex.org/W2768263424  [Kalashnikov Izhevsk STU, Izhevsk, Russia, Tec...   \n",
       "https://openalex.org/W4388821918  [ETH Zurich, Zurich, Switzerland, Università d...   \n",
       "https://openalex.org/W2783130908  [Robotics and Perception Group, Department of ...   \n",
       "https://openalex.org/W2756063857  [Laboratory for Robotics and Intelligent Contr...   \n",
       "\n",
       "                                                                       authors_list  \\\n",
       "paper_id                                                                              \n",
       "https://openalex.org/W3174123873  [Anı́bal Ollero, Marco Tognon, Alejandro Suáre...   \n",
       "https://openalex.org/W3013279486  [Adil Farooq, Muhammad Irfan, Abdullah Saeed, ...   \n",
       "https://openalex.org/W4361764889  [Yavor Yotov, Yavor Yotov, Nikolay Zlatov, Nik...   \n",
       "https://openalex.org/W3131230508  [Chiara Gabellieri, Chiara Gabellieri, Yu. S. ...   \n",
       "https://openalex.org/W2901687922  [Κωνσταντίνος Γκούντας, Dimitris Chaikalis, An...   \n",
       "https://openalex.org/W3033578287  [Salua Hamaza, Ioannis Georgilas, Guillermo He...   \n",
       "https://openalex.org/W2954439514  [Manuel Béjar, Anı́bal Ollero, Konstantin Kondak]   \n",
       "https://openalex.org/W4310720483                 [Zamoum Housseyn, Zamoum Housseyn]   \n",
       "https://openalex.org/W2612358504                 [Burak Yüksel, Gabriele Buondonno]   \n",
       "https://openalex.org/W2950250300                     [Bruno Tavora, Hyeongjun Park]   \n",
       "https://openalex.org/W2768263424  [Pavol Božek, Aiman Al Akkad M, Peter Blišťan,...   \n",
       "https://openalex.org/W4388821918  [Santos M. Orozco-Soto, Eugenio Cuniato, Jonat...   \n",
       "https://openalex.org/W2783130908  [H. Jin Kim, Ho Seong Seo, Jong‐Ho Shin, H. Ji...   \n",
       "https://openalex.org/W2756063857  [Matko Orsag, Christopher Korpela, Paul Oh, St...   \n",
       "\n",
       "                                                                 wrapped_affil_list  \\\n",
       "paper_id                                                                              \n",
       "https://openalex.org/W3174123873  ['Department of Mechanical Engineering,<br>IAM...   \n",
       "https://openalex.org/W3013279486  ['Muban Chombueng Rajabhat<br>University,Facul...   \n",
       "https://openalex.org/W4361764889  ['Institute of Simulation Technology, Le<br>Qu...   \n",
       "https://openalex.org/W3131230508  ['Institute of Robotics and<br>Mechatronics, G...   \n",
       "https://openalex.org/W2901687922  ['University of Patras, Electrical and<br>Comp...   \n",
       "https://openalex.org/W3033578287  ['Department of Mechanical Engineering,<br>Uni...   \n",
       "https://openalex.org/W2954439514  ['Institute of Robotics and<br>Mechatronics, G...   \n",
       "https://openalex.org/W4310720483  ['Guidance and Navigation Laboratory,<br>Ecole...   \n",
       "https://openalex.org/W2612358504  ['Max Planck Institute for Biological<br>Cyber...   \n",
       "https://openalex.org/W2950250300  ['Department of Mechanical and Aerospace<br>En...   \n",
       "https://openalex.org/W2768263424  ['Kalashnikov Izhevsk STU, Izhevsk,<br>Russia'...   \n",
       "https://openalex.org/W4388821918  ['ETH Zurich, Zurich, Switzerland',<br>'Univer...   \n",
       "https://openalex.org/W2783130908  ['Robotics and Perception Group,<br>Department...   \n",
       "https://openalex.org/W2756063857  ['Laboratory for Robotics and<br>Intelligent C...   \n",
       "\n",
       "                                                                        author_list  \\\n",
       "paper_id                                                                              \n",
       "https://openalex.org/W3174123873  [Anı́bal Ollero, Marco Tognon, Alejandro Suáre...   \n",
       "https://openalex.org/W3013279486  [Adil Farooq, Muhammad Irfan, Abdullah Saeed, ...   \n",
       "https://openalex.org/W4361764889  [Yavor Yotov, Yavor Yotov, Nikolay Zlatov, Nik...   \n",
       "https://openalex.org/W3131230508  [Chiara Gabellieri, Chiara Gabellieri, Yu. S. ...   \n",
       "https://openalex.org/W2901687922  [Κωνσταντίνος Γκούντας, Dimitris Chaikalis, An...   \n",
       "https://openalex.org/W3033578287  [Salua Hamaza, Ioannis Georgilas, Guillermo He...   \n",
       "https://openalex.org/W2954439514  [Manuel Béjar, Anı́bal Ollero, Konstantin Kondak]   \n",
       "https://openalex.org/W4310720483                 [Zamoum Housseyn, Zamoum Housseyn]   \n",
       "https://openalex.org/W2612358504                 [Burak Yüksel, Gabriele Buondonno]   \n",
       "https://openalex.org/W2950250300                     [Bruno Tavora, Hyeongjun Park]   \n",
       "https://openalex.org/W2768263424  [Pavol Božek, Aiman Al Akkad M, Peter Blišťan,...   \n",
       "https://openalex.org/W4388821918  [Santos M. Orozco-Soto, Eugenio Cuniato, Jonat...   \n",
       "https://openalex.org/W2783130908  [H. Jin Kim, Ho Seong Seo, Jong‐Ho Shin, H. Ji...   \n",
       "https://openalex.org/W2756063857  [Matko Orsag, Christopher Korpela, Paul Oh, St...   \n",
       "\n",
       "                                                                wrapped_author_list  \\\n",
       "paper_id                                                                              \n",
       "https://openalex.org/W3174123873  ['Anı́bal Ollero' 'Marco Tognon'<br>'Alejandro...   \n",
       "https://openalex.org/W3013279486  ['Adil Farooq' 'Muhammad Irfan'<br>'Abdullah S...   \n",
       "https://openalex.org/W4361764889  ['Yavor Yotov' 'Yavor Yotov' 'Nikolay<br>Zlato...   \n",
       "https://openalex.org/W3131230508  ['Chiara Gabellieri' 'Chiara Gabellieri'<br>'Y...   \n",
       "https://openalex.org/W2901687922  ['Κωνσταντίνος Γκούντας' 'Dimitris<br>Chaikali...   \n",
       "https://openalex.org/W3033578287  ['Salua Hamaza' 'Ioannis Georgilas'<br>'Guille...   \n",
       "https://openalex.org/W2954439514  ['Manuel Béjar' 'Anı́bal Ollero'<br>'Konstanti...   \n",
       "https://openalex.org/W4310720483              ['Zamoum Housseyn' 'Zamoum Housseyn']   \n",
       "https://openalex.org/W2612358504              ['Burak Yüksel' 'Gabriele Buondonno']   \n",
       "https://openalex.org/W2950250300                  ['Bruno Tavora' 'Hyeongjun Park']   \n",
       "https://openalex.org/W2768263424  ['Pavol Božek' 'Aiman Al Akkad M' 'Peter<br>Bl...   \n",
       "https://openalex.org/W4388821918  ['Santos M. Orozco-Soto' 'Eugenio<br>Cuniato' ...   \n",
       "https://openalex.org/W2783130908  ['H. Jin Kim' 'Ho Seong Seo' 'Jong‐Ho<br>Shin'...   \n",
       "https://openalex.org/W2756063857  ['Matko Orsag' 'Christopher Korpela'<br>'Paul ...   \n",
       "\n",
       "                                                                   wrapped_keywords  \\\n",
       "paper_id                                                                              \n",
       "https://openalex.org/W3174123873  ['Aerial Robotic Manipulators', 'Robotic<br>Ma...   \n",
       "https://openalex.org/W3013279486  ['Unmanned Ground Vehicle', 'Indigenous<br>Sol...   \n",
       "https://openalex.org/W4361764889  ['aerial manipulation platform',<br>'Dexterous...   \n",
       "https://openalex.org/W3131230508  ['Cable-Suspended Aerial Manipulator',<br>'Hie...   \n",
       "https://openalex.org/W2901687922  ['Unmanned Aerial Vehicle', 'Force<br>control ...   \n",
       "https://openalex.org/W3033578287  ['Abstract On‐site inspection',<br>'placement ...   \n",
       "https://openalex.org/W2954439514  ['Control', 'Centralized Control',<br>'Helicop...   \n",
       "https://openalex.org/W4310720483  ['manipulator arm', 'aerial<br>manipulation', ...   \n",
       "https://openalex.org/W2612358504  ['Dynamic Decentralized Control',<br>'Protocen...   \n",
       "https://openalex.org/W2950250300  ['Vertical Surface', 'Aerial', 'Force<br>and T...   \n",
       "https://openalex.org/W2768263424  ['mobile robot based', 'hexacopter<br>equipped...   \n",
       "https://openalex.org/W4388821918  ['Aerial Manipulator', 'Aerial<br>Manipulator ...   \n",
       "https://openalex.org/W2783130908  ['Multi-DOF Robotic Arms', 'aerial<br>manipula...   \n",
       "https://openalex.org/W2756063857  ['Aerial Manipulator Dynamics',<br>'Manipulato...   \n",
       "\n",
       "                                                                             source  \\\n",
       "paper_id                                                                              \n",
       "https://openalex.org/W3174123873                      IEEE transactions on robotics   \n",
       "https://openalex.org/W3013279486                                               None   \n",
       "https://openalex.org/W4361764889  Annals of Computer Science and Information Sys...   \n",
       "https://openalex.org/W3131230508                                               None   \n",
       "https://openalex.org/W2901687922                                  IFAC-PapersOnLine   \n",
       "https://openalex.org/W3033578287                          Journal of field robotics   \n",
       "https://openalex.org/W2954439514               Springer tracts in advanced robotics   \n",
       "https://openalex.org/W4310720483  2022 2nd International Conference on Advanced ...   \n",
       "https://openalex.org/W2612358504                                               None   \n",
       "https://openalex.org/W2950250300                                           Robotica   \n",
       "https://openalex.org/W2768263424  International journal of advanced robotic systems   \n",
       "https://openalex.org/W4388821918                     Advances in industrial control   \n",
       "https://openalex.org/W2783130908             IEEE/ASME transactions on mechatronics   \n",
       "https://openalex.org/W2756063857                     Advances in industrial control   \n",
       "\n",
       "                                  source_type country_count  \\\n",
       "paper_id                                                      \n",
       "https://openalex.org/W3174123873      journal             5   \n",
       "https://openalex.org/W3013279486         None             4   \n",
       "https://openalex.org/W4361764889   conference             4   \n",
       "https://openalex.org/W3131230508         None             3   \n",
       "https://openalex.org/W2901687922      journal             2   \n",
       "https://openalex.org/W3033578287      journal             2   \n",
       "https://openalex.org/W2954439514  book series             2   \n",
       "https://openalex.org/W4310720483   conference             2   \n",
       "https://openalex.org/W2612358504         None             2   \n",
       "https://openalex.org/W2950250300      journal             2   \n",
       "https://openalex.org/W2768263424      journal             2   \n",
       "https://openalex.org/W4388821918  book series             2   \n",
       "https://openalex.org/W2783130908      journal             2   \n",
       "https://openalex.org/W2756063857  book series             2   \n",
       "\n",
       "                                      collab_countries  \n",
       "paper_id                                                \n",
       "https://openalex.org/W3174123873  [NL, KR, FR, CH, ES]  \n",
       "https://openalex.org/W3013279486      [TH, PK, CY, AE]  \n",
       "https://openalex.org/W4361764889      [VN, MY, BG, GB]  \n",
       "https://openalex.org/W3131230508          [RU, DE, IT]  \n",
       "https://openalex.org/W2901687922              [GR, AE]  \n",
       "https://openalex.org/W3033578287              [ES, GB]  \n",
       "https://openalex.org/W2954439514              [DE, ES]  \n",
       "https://openalex.org/W4310720483              [FR, GB]  \n",
       "https://openalex.org/W2612358504              [DE, IT]  \n",
       "https://openalex.org/W2950250300              [US, BR]  \n",
       "https://openalex.org/W2768263424              [RU, SK]  \n",
       "https://openalex.org/W4388821918              [CH, IT]  \n",
       "https://openalex.org/W2783130908              [KR, CH]  \n",
       "https://openalex.org/W2756063857              [US, HR]  \n",
       "\n",
       "[14 rows x 22 columns]"
      ]
     },
     "execution_count": 92,
     "metadata": {},
     "output_type": "execute_result"
    }
   ],
   "source": [
    "dv = get_country_collaborations_sort(dftriple, 0)\n",
    "dv"
   ]
  },
  {
   "cell_type": "code",
   "execution_count": 93,
   "id": "c7b5b266-ff32-43c4-9b2c-29dc921e031a",
   "metadata": {},
   "outputs": [
    {
     "data": {
      "text/html": [
       "<div>\n",
       "<style scoped>\n",
       "    .dataframe tbody tr th:only-of-type {\n",
       "        vertical-align: middle;\n",
       "    }\n",
       "\n",
       "    .dataframe tbody tr th {\n",
       "        vertical-align: top;\n",
       "    }\n",
       "\n",
       "    .dataframe thead th {\n",
       "        text-align: right;\n",
       "    }\n",
       "</style>\n",
       "<table border=\"1\" class=\"dataframe\">\n",
       "  <thead>\n",
       "    <tr style=\"text-align: right;\">\n",
       "      <th></th>\n",
       "      <th>x</th>\n",
       "      <th>y</th>\n",
       "      <th>id</th>\n",
       "      <th>title</th>\n",
       "      <th>doi</th>\n",
       "      <th>cluster</th>\n",
       "      <th>probability</th>\n",
       "      <th>publication_date</th>\n",
       "      <th>grants</th>\n",
       "      <th>locations</th>\n",
       "      <th>keywords</th>\n",
       "      <th>top_concepts</th>\n",
       "      <th>affil_list</th>\n",
       "      <th>authors_list</th>\n",
       "      <th>wrapped_affil_list</th>\n",
       "      <th>author_list</th>\n",
       "      <th>wrapped_author_list</th>\n",
       "      <th>wrapped_keywords</th>\n",
       "      <th>source</th>\n",
       "      <th>source_type</th>\n",
       "    </tr>\n",
       "    <tr>\n",
       "      <th>id</th>\n",
       "      <th></th>\n",
       "      <th></th>\n",
       "      <th></th>\n",
       "      <th></th>\n",
       "      <th></th>\n",
       "      <th></th>\n",
       "      <th></th>\n",
       "      <th></th>\n",
       "      <th></th>\n",
       "      <th></th>\n",
       "      <th></th>\n",
       "      <th></th>\n",
       "      <th></th>\n",
       "      <th></th>\n",
       "      <th></th>\n",
       "      <th></th>\n",
       "      <th></th>\n",
       "      <th></th>\n",
       "      <th></th>\n",
       "      <th></th>\n",
       "    </tr>\n",
       "  </thead>\n",
       "  <tbody>\n",
       "    <tr>\n",
       "      <th>https://openalex.org/W1517236425</th>\n",
       "      <td>16.062922</td>\n",
       "      <td>-3.320433</td>\n",
       "      <td>https://openalex.org/W1517236425</td>\n",
       "      <td>Neural Network Control Of Robot Manipulators A...</td>\n",
       "      <td>https://doi.org/10.1201/9781003062714</td>\n",
       "      <td>1</td>\n",
       "      <td>1.0</td>\n",
       "      <td>2020-08-13</td>\n",
       "      <td>[]</td>\n",
       "      <td>[{'is_oa': False, 'landing_page_url': 'https:/...</td>\n",
       "      <td>[Robot Manipulators, Neural network controller...</td>\n",
       "      <td>[Robot manipulator, Artificial neural network]</td>\n",
       "      <td>NaN</td>\n",
       "      <td>NaN</td>\n",
       "      <td>nan</td>\n",
       "      <td>NaN</td>\n",
       "      <td>nan</td>\n",
       "      <td>['Robot Manipulators', 'Neural network&lt;br&gt;cont...</td>\n",
       "      <td>CRC Press eBooks</td>\n",
       "      <td>ebook platform</td>\n",
       "    </tr>\n",
       "    <tr>\n",
       "      <th>https://openalex.org/W2740675802</th>\n",
       "      <td>16.461128</td>\n",
       "      <td>-3.442048</td>\n",
       "      <td>https://openalex.org/W2740675802</td>\n",
       "      <td>Adaptive Neural Network Control of a Robotic M...</td>\n",
       "      <td>https://doi.org/10.1109/tcyb.2017.2711961</td>\n",
       "      <td>1</td>\n",
       "      <td>1.0</td>\n",
       "      <td>2017-10-01</td>\n",
       "      <td>[{'funder': 'https://openalex.org/F4320320006'...</td>\n",
       "      <td>[{'is_oa': False, 'landing_page_url': 'https:/...</td>\n",
       "      <td>[Time-Varying Output Constraints, Output Const...</td>\n",
       "      <td>[Control theory (sociology), Lyapunov function...</td>\n",
       "      <td>[Ministry of Education, Key Laboratory of Know...</td>\n",
       "      <td>[Wei He, Haifeng Huang, Shuzhi Sam Ge]</td>\n",
       "      <td>['Ministry of Education, Key Laboratory&lt;br&gt;of ...</td>\n",
       "      <td>[Wei He, Haifeng Huang, Shuzhi Sam Ge]</td>\n",
       "      <td>['Wei He' 'Haifeng Huang' 'Shuzhi Sam&lt;br&gt;Ge']</td>\n",
       "      <td>['Time-Varying Output Constraints',&lt;br&gt;'Output...</td>\n",
       "      <td>IEEE transactions on cybernetics</td>\n",
       "      <td>journal</td>\n",
       "    </tr>\n",
       "    <tr>\n",
       "      <th>https://openalex.org/W2418767125</th>\n",
       "      <td>16.109781</td>\n",
       "      <td>-3.551340</td>\n",
       "      <td>https://openalex.org/W2418767125</td>\n",
       "      <td>Neural Network Control of a Flexible Robotic M...</td>\n",
       "      <td>https://doi.org/10.1109/tsmc.2016.2562506</td>\n",
       "      <td>1</td>\n",
       "      <td>1.0</td>\n",
       "      <td>2017-08-01</td>\n",
       "      <td>[{'funder': 'https://openalex.org/F4320321001'...</td>\n",
       "      <td>[{'is_oa': False, 'landing_page_url': 'https:/...</td>\n",
       "      <td>[Flexible Robotic Manipulator, Flexible Roboti...</td>\n",
       "      <td>[Control theory (sociology), Deflection (physi...</td>\n",
       "      <td>[School of Automation Engineering and Center f...</td>\n",
       "      <td>[Changyin Sun, Wei He, Jin‐Woo Hong]</td>\n",
       "      <td>['School of Automation Engineering and&lt;br&gt;Cent...</td>\n",
       "      <td>[Changyin Sun, Wei He, Jin‐Woo Hong]</td>\n",
       "      <td>['Changyin Sun' 'Wei He' 'Jin‐Woo Hong']</td>\n",
       "      <td>['Flexible Robotic Manipulator',&lt;br&gt;'Flexible ...</td>\n",
       "      <td>IEEE transactions on systems, man, and cyberne...</td>\n",
       "      <td>journal</td>\n",
       "    </tr>\n",
       "    <tr>\n",
       "      <th>https://openalex.org/W2901112449</th>\n",
       "      <td>15.096028</td>\n",
       "      <td>-5.377518</td>\n",
       "      <td>https://openalex.org/W2901112449</td>\n",
       "      <td>Model-Based Reinforcement Learning for Closed-...</td>\n",
       "      <td>https://doi.org/10.1109/tro.2018.2878318</td>\n",
       "      <td>1</td>\n",
       "      <td>1.0</td>\n",
       "      <td>2019-02-01</td>\n",
       "      <td>[]</td>\n",
       "      <td>[{'is_oa': False, 'landing_page_url': 'https:/...</td>\n",
       "      <td>[Soft Robotic Manipulators, Soft Robotic, Mode...</td>\n",
       "      <td>[Control theory (sociology), Kinematics, Reinf...</td>\n",
       "      <td>[BioRobotics Institute, Scuola Superiore Sant’...</td>\n",
       "      <td>[Thomas George Thuruthel, Egidio Falotico, Fed...</td>\n",
       "      <td>['BioRobotics Institute, Scuola&lt;br&gt;Superiore S...</td>\n",
       "      <td>[Thomas George Thuruthel, Egidio Falotico, Fed...</td>\n",
       "      <td>['Thomas George Thuruthel' 'Egidio&lt;br&gt;Falotico...</td>\n",
       "      <td>['Soft Robotic Manipulators', 'Soft&lt;br&gt;Robotic...</td>\n",
       "      <td>IEEE transactions on robotics</td>\n",
       "      <td>journal</td>\n",
       "    </tr>\n",
       "    <tr>\n",
       "      <th>https://openalex.org/W2792852625</th>\n",
       "      <td>15.602239</td>\n",
       "      <td>-3.136606</td>\n",
       "      <td>https://openalex.org/W2792852625</td>\n",
       "      <td>Robot manipulator control using neural network...</td>\n",
       "      <td>https://doi.org/10.1016/j.neucom.2018.01.002</td>\n",
       "      <td>1</td>\n",
       "      <td>1.0</td>\n",
       "      <td>2018-04-01</td>\n",
       "      <td>[{'funder': 'https://openalex.org/F4320321001'...</td>\n",
       "      <td>[{'is_oa': False, 'landing_page_url': 'https:/...</td>\n",
       "      <td>[neural networks, neural, Robot manipulators, ...</td>\n",
       "      <td>[Artificial neural network, Computer science]</td>\n",
       "      <td>[School of Information Science and Engineering...</td>\n",
       "      <td>[Long Jin, Shuai Li, Jiguo Yu, Jinbo He]</td>\n",
       "      <td>['School of Information Science and&lt;br&gt;Enginee...</td>\n",
       "      <td>[Long Jin, Shuai Li, Jiguo Yu, Jinbo He]</td>\n",
       "      <td>['Long Jin' 'Shuai Li' 'Jiguo Yu' 'Jinbo&lt;br&gt;He']</td>\n",
       "      <td>['neural networks', 'neural', 'Robot&lt;br&gt;manipu...</td>\n",
       "      <td>Neurocomputing</td>\n",
       "      <td>journal</td>\n",
       "    </tr>\n",
       "  </tbody>\n",
       "</table>\n",
       "</div>"
      ],
      "text/plain": [
       "                                          x         y  \\\n",
       "id                                                      \n",
       "https://openalex.org/W1517236425  16.062922 -3.320433   \n",
       "https://openalex.org/W2740675802  16.461128 -3.442048   \n",
       "https://openalex.org/W2418767125  16.109781 -3.551340   \n",
       "https://openalex.org/W2901112449  15.096028 -5.377518   \n",
       "https://openalex.org/W2792852625  15.602239 -3.136606   \n",
       "\n",
       "                                                                id  \\\n",
       "id                                                                   \n",
       "https://openalex.org/W1517236425  https://openalex.org/W1517236425   \n",
       "https://openalex.org/W2740675802  https://openalex.org/W2740675802   \n",
       "https://openalex.org/W2418767125  https://openalex.org/W2418767125   \n",
       "https://openalex.org/W2901112449  https://openalex.org/W2901112449   \n",
       "https://openalex.org/W2792852625  https://openalex.org/W2792852625   \n",
       "\n",
       "                                                                              title  \\\n",
       "id                                                                                    \n",
       "https://openalex.org/W1517236425  Neural Network Control Of Robot Manipulators A...   \n",
       "https://openalex.org/W2740675802  Adaptive Neural Network Control of a Robotic M...   \n",
       "https://openalex.org/W2418767125  Neural Network Control of a Flexible Robotic M...   \n",
       "https://openalex.org/W2901112449  Model-Based Reinforcement Learning for Closed-...   \n",
       "https://openalex.org/W2792852625  Robot manipulator control using neural network...   \n",
       "\n",
       "                                                                           doi  \\\n",
       "id                                                                               \n",
       "https://openalex.org/W1517236425         https://doi.org/10.1201/9781003062714   \n",
       "https://openalex.org/W2740675802     https://doi.org/10.1109/tcyb.2017.2711961   \n",
       "https://openalex.org/W2418767125     https://doi.org/10.1109/tsmc.2016.2562506   \n",
       "https://openalex.org/W2901112449      https://doi.org/10.1109/tro.2018.2878318   \n",
       "https://openalex.org/W2792852625  https://doi.org/10.1016/j.neucom.2018.01.002   \n",
       "\n",
       "                                  cluster  probability publication_date  \\\n",
       "id                                                                        \n",
       "https://openalex.org/W1517236425        1          1.0       2020-08-13   \n",
       "https://openalex.org/W2740675802        1          1.0       2017-10-01   \n",
       "https://openalex.org/W2418767125        1          1.0       2017-08-01   \n",
       "https://openalex.org/W2901112449        1          1.0       2019-02-01   \n",
       "https://openalex.org/W2792852625        1          1.0       2018-04-01   \n",
       "\n",
       "                                                                             grants  \\\n",
       "id                                                                                    \n",
       "https://openalex.org/W1517236425                                                 []   \n",
       "https://openalex.org/W2740675802  [{'funder': 'https://openalex.org/F4320320006'...   \n",
       "https://openalex.org/W2418767125  [{'funder': 'https://openalex.org/F4320321001'...   \n",
       "https://openalex.org/W2901112449                                                 []   \n",
       "https://openalex.org/W2792852625  [{'funder': 'https://openalex.org/F4320321001'...   \n",
       "\n",
       "                                                                          locations  \\\n",
       "id                                                                                    \n",
       "https://openalex.org/W1517236425  [{'is_oa': False, 'landing_page_url': 'https:/...   \n",
       "https://openalex.org/W2740675802  [{'is_oa': False, 'landing_page_url': 'https:/...   \n",
       "https://openalex.org/W2418767125  [{'is_oa': False, 'landing_page_url': 'https:/...   \n",
       "https://openalex.org/W2901112449  [{'is_oa': False, 'landing_page_url': 'https:/...   \n",
       "https://openalex.org/W2792852625  [{'is_oa': False, 'landing_page_url': 'https:/...   \n",
       "\n",
       "                                                                           keywords  \\\n",
       "id                                                                                    \n",
       "https://openalex.org/W1517236425  [Robot Manipulators, Neural network controller...   \n",
       "https://openalex.org/W2740675802  [Time-Varying Output Constraints, Output Const...   \n",
       "https://openalex.org/W2418767125  [Flexible Robotic Manipulator, Flexible Roboti...   \n",
       "https://openalex.org/W2901112449  [Soft Robotic Manipulators, Soft Robotic, Mode...   \n",
       "https://openalex.org/W2792852625  [neural networks, neural, Robot manipulators, ...   \n",
       "\n",
       "                                                                       top_concepts  \\\n",
       "id                                                                                    \n",
       "https://openalex.org/W1517236425     [Robot manipulator, Artificial neural network]   \n",
       "https://openalex.org/W2740675802  [Control theory (sociology), Lyapunov function...   \n",
       "https://openalex.org/W2418767125  [Control theory (sociology), Deflection (physi...   \n",
       "https://openalex.org/W2901112449  [Control theory (sociology), Kinematics, Reinf...   \n",
       "https://openalex.org/W2792852625      [Artificial neural network, Computer science]   \n",
       "\n",
       "                                                                         affil_list  \\\n",
       "id                                                                                    \n",
       "https://openalex.org/W1517236425                                                NaN   \n",
       "https://openalex.org/W2740675802  [Ministry of Education, Key Laboratory of Know...   \n",
       "https://openalex.org/W2418767125  [School of Automation Engineering and Center f...   \n",
       "https://openalex.org/W2901112449  [BioRobotics Institute, Scuola Superiore Sant’...   \n",
       "https://openalex.org/W2792852625  [School of Information Science and Engineering...   \n",
       "\n",
       "                                                                       authors_list  \\\n",
       "id                                                                                    \n",
       "https://openalex.org/W1517236425                                                NaN   \n",
       "https://openalex.org/W2740675802             [Wei He, Haifeng Huang, Shuzhi Sam Ge]   \n",
       "https://openalex.org/W2418767125               [Changyin Sun, Wei He, Jin‐Woo Hong]   \n",
       "https://openalex.org/W2901112449  [Thomas George Thuruthel, Egidio Falotico, Fed...   \n",
       "https://openalex.org/W2792852625           [Long Jin, Shuai Li, Jiguo Yu, Jinbo He]   \n",
       "\n",
       "                                                                 wrapped_affil_list  \\\n",
       "id                                                                                    \n",
       "https://openalex.org/W1517236425                                                nan   \n",
       "https://openalex.org/W2740675802  ['Ministry of Education, Key Laboratory<br>of ...   \n",
       "https://openalex.org/W2418767125  ['School of Automation Engineering and<br>Cent...   \n",
       "https://openalex.org/W2901112449  ['BioRobotics Institute, Scuola<br>Superiore S...   \n",
       "https://openalex.org/W2792852625  ['School of Information Science and<br>Enginee...   \n",
       "\n",
       "                                                                        author_list  \\\n",
       "id                                                                                    \n",
       "https://openalex.org/W1517236425                                                NaN   \n",
       "https://openalex.org/W2740675802             [Wei He, Haifeng Huang, Shuzhi Sam Ge]   \n",
       "https://openalex.org/W2418767125               [Changyin Sun, Wei He, Jin‐Woo Hong]   \n",
       "https://openalex.org/W2901112449  [Thomas George Thuruthel, Egidio Falotico, Fed...   \n",
       "https://openalex.org/W2792852625           [Long Jin, Shuai Li, Jiguo Yu, Jinbo He]   \n",
       "\n",
       "                                                                wrapped_author_list  \\\n",
       "id                                                                                    \n",
       "https://openalex.org/W1517236425                                                nan   \n",
       "https://openalex.org/W2740675802      ['Wei He' 'Haifeng Huang' 'Shuzhi Sam<br>Ge']   \n",
       "https://openalex.org/W2418767125           ['Changyin Sun' 'Wei He' 'Jin‐Woo Hong']   \n",
       "https://openalex.org/W2901112449  ['Thomas George Thuruthel' 'Egidio<br>Falotico...   \n",
       "https://openalex.org/W2792852625   ['Long Jin' 'Shuai Li' 'Jiguo Yu' 'Jinbo<br>He']   \n",
       "\n",
       "                                                                   wrapped_keywords  \\\n",
       "id                                                                                    \n",
       "https://openalex.org/W1517236425  ['Robot Manipulators', 'Neural network<br>cont...   \n",
       "https://openalex.org/W2740675802  ['Time-Varying Output Constraints',<br>'Output...   \n",
       "https://openalex.org/W2418767125  ['Flexible Robotic Manipulator',<br>'Flexible ...   \n",
       "https://openalex.org/W2901112449  ['Soft Robotic Manipulators', 'Soft<br>Robotic...   \n",
       "https://openalex.org/W2792852625  ['neural networks', 'neural', 'Robot<br>manipu...   \n",
       "\n",
       "                                                                             source  \\\n",
       "id                                                                                    \n",
       "https://openalex.org/W1517236425                                   CRC Press eBooks   \n",
       "https://openalex.org/W2740675802                   IEEE transactions on cybernetics   \n",
       "https://openalex.org/W2418767125  IEEE transactions on systems, man, and cyberne...   \n",
       "https://openalex.org/W2901112449                      IEEE transactions on robotics   \n",
       "https://openalex.org/W2792852625                                     Neurocomputing   \n",
       "\n",
       "                                     source_type  \n",
       "id                                                \n",
       "https://openalex.org/W1517236425  ebook platform  \n",
       "https://openalex.org/W2740675802         journal  \n",
       "https://openalex.org/W2418767125         journal  \n",
       "https://openalex.org/W2901112449         journal  \n",
       "https://openalex.org/W2792852625         journal  "
      ]
     },
     "execution_count": 93,
     "metadata": {},
     "output_type": "execute_result"
    }
   ],
   "source": [
    "dfinfo.head()"
   ]
  },
  {
   "cell_type": "code",
   "execution_count": 94,
   "id": "eca37669-d888-45b5-b8d5-c3eba921f2ae",
   "metadata": {},
   "outputs": [
    {
     "data": {
      "text/html": [
       "<div>\n",
       "<style scoped>\n",
       "    .dataframe tbody tr th:only-of-type {\n",
       "        vertical-align: middle;\n",
       "    }\n",
       "\n",
       "    .dataframe tbody tr th {\n",
       "        vertical-align: top;\n",
       "    }\n",
       "\n",
       "    .dataframe thead th {\n",
       "        text-align: right;\n",
       "    }\n",
       "</style>\n",
       "<table border=\"1\" class=\"dataframe\">\n",
       "  <thead>\n",
       "    <tr style=\"text-align: right;\">\n",
       "      <th></th>\n",
       "      <th>id</th>\n",
       "      <th>display_name</th>\n",
       "      <th>ror</th>\n",
       "      <th>country_code</th>\n",
       "      <th>type</th>\n",
       "      <th>lineage</th>\n",
       "      <th>paper_id</th>\n",
       "      <th>paper_raw_affiliation_strings</th>\n",
       "      <th>paper_author_position</th>\n",
       "      <th>paper_doi</th>\n",
       "      <th>...</th>\n",
       "      <th>paper_x</th>\n",
       "      <th>paper_y</th>\n",
       "      <th>paper_cluster</th>\n",
       "      <th>paper_cluster_score</th>\n",
       "      <th>paper_author_id</th>\n",
       "      <th>paper_author_display_name</th>\n",
       "      <th>paper_author_orcid</th>\n",
       "      <th>source</th>\n",
       "      <th>source_type</th>\n",
       "      <th>funder_list</th>\n",
       "    </tr>\n",
       "  </thead>\n",
       "  <tbody>\n",
       "    <tr>\n",
       "      <th>0</th>\n",
       "      <td>https://openalex.org/I92403157</td>\n",
       "      <td>University of Science and Technology Beijing</td>\n",
       "      <td>https://ror.org/02egmk993</td>\n",
       "      <td>CN</td>\n",
       "      <td>education</td>\n",
       "      <td>[https://openalex.org/I92403157]</td>\n",
       "      <td>https://openalex.org/W2740675802</td>\n",
       "      <td>[Ministry of Education, Key Laboratory of Know...</td>\n",
       "      <td>first</td>\n",
       "      <td>https://doi.org/10.1109/tcyb.2017.2711961</td>\n",
       "      <td>...</td>\n",
       "      <td>16.461128</td>\n",
       "      <td>-3.442048</td>\n",
       "      <td>1</td>\n",
       "      <td>1.0</td>\n",
       "      <td>https://openalex.org/A5022113595</td>\n",
       "      <td>Wei He</td>\n",
       "      <td>https://orcid.org/0000-0002-8944-9861</td>\n",
       "      <td>IEEE transactions on cybernetics</td>\n",
       "      <td>journal</td>\n",
       "      <td>[Royal Society, National Key Research and Deve...</td>\n",
       "    </tr>\n",
       "    <tr>\n",
       "      <th>1</th>\n",
       "      <td>https://openalex.org/I92403157</td>\n",
       "      <td>University of Science and Technology Beijing</td>\n",
       "      <td>https://ror.org/02egmk993</td>\n",
       "      <td>CN</td>\n",
       "      <td>education</td>\n",
       "      <td>[https://openalex.org/I92403157]</td>\n",
       "      <td>https://openalex.org/W2740675802</td>\n",
       "      <td>[Ministry of Education, Key Laboratory of Know...</td>\n",
       "      <td>middle</td>\n",
       "      <td>https://doi.org/10.1109/tcyb.2017.2711961</td>\n",
       "      <td>...</td>\n",
       "      <td>16.461128</td>\n",
       "      <td>-3.442048</td>\n",
       "      <td>1</td>\n",
       "      <td>1.0</td>\n",
       "      <td>https://openalex.org/A5055142075</td>\n",
       "      <td>Haifeng Huang</td>\n",
       "      <td>https://orcid.org/0000-0002-1615-3779</td>\n",
       "      <td>IEEE transactions on cybernetics</td>\n",
       "      <td>journal</td>\n",
       "      <td>[Royal Society, National Key Research and Deve...</td>\n",
       "    </tr>\n",
       "    <tr>\n",
       "      <th>2</th>\n",
       "      <td>https://openalex.org/I165932596</td>\n",
       "      <td>National University of Singapore</td>\n",
       "      <td>https://ror.org/01tgyzw49</td>\n",
       "      <td>SG</td>\n",
       "      <td>education</td>\n",
       "      <td>[https://openalex.org/I165932596]</td>\n",
       "      <td>https://openalex.org/W2740675802</td>\n",
       "      <td>[Department of Electrical and Computer Enginee...</td>\n",
       "      <td>last</td>\n",
       "      <td>https://doi.org/10.1109/tcyb.2017.2711961</td>\n",
       "      <td>...</td>\n",
       "      <td>16.461128</td>\n",
       "      <td>-3.442048</td>\n",
       "      <td>1</td>\n",
       "      <td>1.0</td>\n",
       "      <td>https://openalex.org/A5069702292</td>\n",
       "      <td>Shuzhi Sam Ge</td>\n",
       "      <td>None</td>\n",
       "      <td>IEEE transactions on cybernetics</td>\n",
       "      <td>journal</td>\n",
       "      <td>[Royal Society, National Key Research and Deve...</td>\n",
       "    </tr>\n",
       "    <tr>\n",
       "      <th>3</th>\n",
       "      <td>https://openalex.org/I76569877</td>\n",
       "      <td>Southeast University</td>\n",
       "      <td>https://ror.org/04ct4d772</td>\n",
       "      <td>CN</td>\n",
       "      <td>education</td>\n",
       "      <td>[https://openalex.org/I76569877]</td>\n",
       "      <td>https://openalex.org/W2418767125</td>\n",
       "      <td>[School of Automation, Southeast University, N...</td>\n",
       "      <td>first</td>\n",
       "      <td>https://doi.org/10.1109/tsmc.2016.2562506</td>\n",
       "      <td>...</td>\n",
       "      <td>16.109781</td>\n",
       "      <td>-3.55134</td>\n",
       "      <td>1</td>\n",
       "      <td>1.0</td>\n",
       "      <td>https://openalex.org/A5019248683</td>\n",
       "      <td>Changyin Sun</td>\n",
       "      <td>https://orcid.org/0000-0001-9269-334X</td>\n",
       "      <td>IEEE transactions on systems, man, and cyberne...</td>\n",
       "      <td>journal</td>\n",
       "      <td>[National Natural Science Foundation of China]</td>\n",
       "    </tr>\n",
       "    <tr>\n",
       "      <th>4</th>\n",
       "      <td>https://openalex.org/I92403157</td>\n",
       "      <td>University of Science and Technology Beijing</td>\n",
       "      <td>https://ror.org/02egmk993</td>\n",
       "      <td>CN</td>\n",
       "      <td>education</td>\n",
       "      <td>[https://openalex.org/I92403157]</td>\n",
       "      <td>https://openalex.org/W2418767125</td>\n",
       "      <td>[School of Automation and Electrical Engineeri...</td>\n",
       "      <td>middle</td>\n",
       "      <td>https://doi.org/10.1109/tsmc.2016.2562506</td>\n",
       "      <td>...</td>\n",
       "      <td>16.109781</td>\n",
       "      <td>-3.55134</td>\n",
       "      <td>1</td>\n",
       "      <td>1.0</td>\n",
       "      <td>https://openalex.org/A5061536058</td>\n",
       "      <td>Wei He</td>\n",
       "      <td>https://orcid.org/0000-0001-8321-8256</td>\n",
       "      <td>IEEE transactions on systems, man, and cyberne...</td>\n",
       "      <td>journal</td>\n",
       "      <td>[National Natural Science Foundation of China]</td>\n",
       "    </tr>\n",
       "  </tbody>\n",
       "</table>\n",
       "<p>5 rows × 27 columns</p>\n",
       "</div>"
      ],
      "text/plain": [
       "                                id  \\\n",
       "0   https://openalex.org/I92403157   \n",
       "1   https://openalex.org/I92403157   \n",
       "2  https://openalex.org/I165932596   \n",
       "3   https://openalex.org/I76569877   \n",
       "4   https://openalex.org/I92403157   \n",
       "\n",
       "                                   display_name                        ror  \\\n",
       "0  University of Science and Technology Beijing  https://ror.org/02egmk993   \n",
       "1  University of Science and Technology Beijing  https://ror.org/02egmk993   \n",
       "2              National University of Singapore  https://ror.org/01tgyzw49   \n",
       "3                          Southeast University  https://ror.org/04ct4d772   \n",
       "4  University of Science and Technology Beijing  https://ror.org/02egmk993   \n",
       "\n",
       "  country_code       type                            lineage  \\\n",
       "0           CN  education   [https://openalex.org/I92403157]   \n",
       "1           CN  education   [https://openalex.org/I92403157]   \n",
       "2           SG  education  [https://openalex.org/I165932596]   \n",
       "3           CN  education   [https://openalex.org/I76569877]   \n",
       "4           CN  education   [https://openalex.org/I92403157]   \n",
       "\n",
       "                           paper_id  \\\n",
       "0  https://openalex.org/W2740675802   \n",
       "1  https://openalex.org/W2740675802   \n",
       "2  https://openalex.org/W2740675802   \n",
       "3  https://openalex.org/W2418767125   \n",
       "4  https://openalex.org/W2418767125   \n",
       "\n",
       "                       paper_raw_affiliation_strings paper_author_position  \\\n",
       "0  [Ministry of Education, Key Laboratory of Know...                 first   \n",
       "1  [Ministry of Education, Key Laboratory of Know...                middle   \n",
       "2  [Department of Electrical and Computer Enginee...                  last   \n",
       "3  [School of Automation, Southeast University, N...                 first   \n",
       "4  [School of Automation and Electrical Engineeri...                middle   \n",
       "\n",
       "                                   paper_doi  ...    paper_x   paper_y  \\\n",
       "0  https://doi.org/10.1109/tcyb.2017.2711961  ...  16.461128 -3.442048   \n",
       "1  https://doi.org/10.1109/tcyb.2017.2711961  ...  16.461128 -3.442048   \n",
       "2  https://doi.org/10.1109/tcyb.2017.2711961  ...  16.461128 -3.442048   \n",
       "3  https://doi.org/10.1109/tsmc.2016.2562506  ...  16.109781  -3.55134   \n",
       "4  https://doi.org/10.1109/tsmc.2016.2562506  ...  16.109781  -3.55134   \n",
       "\n",
       "  paper_cluster paper_cluster_score                   paper_author_id  \\\n",
       "0             1                 1.0  https://openalex.org/A5022113595   \n",
       "1             1                 1.0  https://openalex.org/A5055142075   \n",
       "2             1                 1.0  https://openalex.org/A5069702292   \n",
       "3             1                 1.0  https://openalex.org/A5019248683   \n",
       "4             1                 1.0  https://openalex.org/A5061536058   \n",
       "\n",
       "  paper_author_display_name                     paper_author_orcid  \\\n",
       "0                    Wei He  https://orcid.org/0000-0002-8944-9861   \n",
       "1             Haifeng Huang  https://orcid.org/0000-0002-1615-3779   \n",
       "2             Shuzhi Sam Ge                                   None   \n",
       "3              Changyin Sun  https://orcid.org/0000-0001-9269-334X   \n",
       "4                    Wei He  https://orcid.org/0000-0001-8321-8256   \n",
       "\n",
       "                                              source source_type  \\\n",
       "0                   IEEE transactions on cybernetics     journal   \n",
       "1                   IEEE transactions on cybernetics     journal   \n",
       "2                   IEEE transactions on cybernetics     journal   \n",
       "3  IEEE transactions on systems, man, and cyberne...     journal   \n",
       "4  IEEE transactions on systems, man, and cyberne...     journal   \n",
       "\n",
       "                                         funder_list  \n",
       "0  [Royal Society, National Key Research and Deve...  \n",
       "1  [Royal Society, National Key Research and Deve...  \n",
       "2  [Royal Society, National Key Research and Deve...  \n",
       "3     [National Natural Science Foundation of China]  \n",
       "4     [National Natural Science Foundation of China]  \n",
       "\n",
       "[5 rows x 27 columns]"
      ]
     },
     "execution_count": 94,
     "metadata": {},
     "output_type": "execute_result"
    }
   ],
   "source": [
    "dftriple.head()"
   ]
  },
  {
   "cell_type": "code",
   "execution_count": 95,
   "id": "a5c8764d-61ce-44e2-8693-3356486c5b04",
   "metadata": {},
   "outputs": [
    {
     "data": {
      "text/plain": [
       "[{'id': 'https://openalex.org/C2985527887',\n",
       "  'wikidata': 'https://www.wikidata.org/wiki/Q1587588',\n",
       "  'display_name': 'Robot manipulator',\n",
       "  'relevance_score': 16245.7295,\n",
       "  'level': 3,\n",
       "  'description': None,\n",
       "  'works_count': 10153,\n",
       "  'cited_by_count': 108685,\n",
       "  'summary_stats': {'2yr_mean_citedness': 1.6,\n",
       "   'h_index': 130,\n",
       "   'i10_index': 1527},\n",
       "  'ids': {'openalex': 'https://openalex.org/C2985527887',\n",
       "   'wikidata': 'https://www.wikidata.org/wiki/Q1587588',\n",
       "   'mag': '2985527887',\n",
       "   'wikipedia': 'https://en.wikipedia.org/wiki/Manipulator%20%28device%29'},\n",
       "  'image_url': 'https://upload.wikimedia.org/wikipedia/commons/b/b8/GammaGIF.gif',\n",
       "  'image_thumbnail_url': 'https://upload.wikimedia.org/wikipedia/commons/thumb/b/b8/GammaGIF.gif/100px-GammaGIF.gif',\n",
       "  'international': {'display_name': {'ar': 'مناور',\n",
       "    'de': 'Manipulator',\n",
       "    'en': 'manipulator',\n",
       "    'et': 'Manipulaator',\n",
       "    'fa': 'بازوی مکانیکی',\n",
       "    'fi': 'Manipulaattori',\n",
       "    'hr': 'Manipulator',\n",
       "    'it': 'manipolatore',\n",
       "    'ja': 'マニピュレーター',\n",
       "    'ko': '매니퓰레이터',\n",
       "    'ky': 'манипулятор',\n",
       "    'mk': 'управувач',\n",
       "    'nb': 'Manipulator',\n",
       "    'nl': 'Manipulator',\n",
       "    'nn': 'manipulator',\n",
       "    'pl': 'Manipulator robotyczny',\n",
       "    'ru': 'манипулятор',\n",
       "    'uk': 'Маніпулятор',\n",
       "    'zh': '音樂調整器'},\n",
       "   'description': {'ru': 'устройство управления положением предметов',\n",
       "    'uk': \"керований пристрій, оснащений робочим органом для виконання рухових функцій, аналогічних до функцій руки людини, під час переміщення об'єктів у просторі\"}},\n",
       "  'ancestors': [{'id': 'https://openalex.org/C2775924081',\n",
       "    'wikidata': 'https://www.wikidata.org/wiki/Q55608371',\n",
       "    'display_name': 'Control (management)',\n",
       "    'level': 2},\n",
       "   {'id': 'https://openalex.org/C90509273',\n",
       "    'wikidata': 'https://www.wikidata.org/wiki/Q11012',\n",
       "    'display_name': 'Robot',\n",
       "    'level': 2},\n",
       "   {'id': 'https://openalex.org/C154945302',\n",
       "    'wikidata': 'https://www.wikidata.org/wiki/Q11660',\n",
       "    'display_name': 'Artificial intelligence',\n",
       "    'level': 1},\n",
       "   {'id': 'https://openalex.org/C187736073',\n",
       "    'wikidata': 'https://www.wikidata.org/wiki/Q2920921',\n",
       "    'display_name': 'Management',\n",
       "    'level': 1},\n",
       "   {'id': 'https://openalex.org/C41008148',\n",
       "    'wikidata': 'https://www.wikidata.org/wiki/Q21198',\n",
       "    'display_name': 'Computer science',\n",
       "    'level': 0},\n",
       "   {'id': 'https://openalex.org/C162324750',\n",
       "    'wikidata': 'https://www.wikidata.org/wiki/Q8134',\n",
       "    'display_name': 'Economics',\n",
       "    'level': 0}],\n",
       "  'related_concepts': [],\n",
       "  'counts_by_year': [{'year': 2024,\n",
       "    'works_count': 141,\n",
       "    'cited_by_count': 1657},\n",
       "   {'year': 2023, 'works_count': 327, 'cited_by_count': 6773},\n",
       "   {'year': 2022, 'works_count': 297, 'cited_by_count': 7151},\n",
       "   {'year': 2021, 'works_count': 320, 'cited_by_count': 6880},\n",
       "   {'year': 2020, 'works_count': 349, 'cited_by_count': 6354},\n",
       "   {'year': 2019, 'works_count': 356, 'cited_by_count': 5824},\n",
       "   {'year': 2018, 'works_count': 375, 'cited_by_count': 5614},\n",
       "   {'year': 2017, 'works_count': 307, 'cited_by_count': 4494},\n",
       "   {'year': 2016, 'works_count': 308, 'cited_by_count': 4147},\n",
       "   {'year': 2015, 'works_count': 292, 'cited_by_count': 3780},\n",
       "   {'year': 2014, 'works_count': 289, 'cited_by_count': 3989},\n",
       "   {'year': 2013, 'works_count': 282, 'cited_by_count': 3406},\n",
       "   {'year': 2012, 'works_count': 264, 'cited_by_count': 2945}],\n",
       "  'works_api_url': 'https://api.openalex.org/works?filter=concepts.id:C2985527887',\n",
       "  'updated_date': '2024-05-12T13:25:17.441518',\n",
       "  'created_date': '2019-11-22'},\n",
       " {'id': 'https://openalex.org/C97039730',\n",
       "  'wikidata': 'https://www.wikidata.org/wiki/Q552565',\n",
       "  'display_name': 'Pulsed power',\n",
       "  'relevance_score': 12352.715,\n",
       "  'level': 3,\n",
       "  'description': None,\n",
       "  'works_count': 14094,\n",
       "  'cited_by_count': 98326,\n",
       "  'summary_stats': {'2yr_mean_citedness': 2.7359900373599,\n",
       "   'h_index': 107,\n",
       "   'i10_index': 2178},\n",
       "  'ids': {'openalex': 'https://openalex.org/C97039730',\n",
       "   'wikidata': 'https://www.wikidata.org/wiki/Q552565',\n",
       "   'mag': '97039730',\n",
       "   'wikipedia': 'https://en.wikipedia.org/wiki/Pulsed%20power'},\n",
       "  'image_url': None,\n",
       "  'image_thumbnail_url': None,\n",
       "  'international': {'display_name': {'en': 'Pulsed power',\n",
       "    'fa': 'توان پالسی',\n",
       "    'fr': 'Hautes puissances pulsées',\n",
       "    'he': 'הספק מתפרץ',\n",
       "    'hi': 'स्पन्दित शक्ति',\n",
       "    'ja': 'パルスパワー',\n",
       "    'zh': '脈衝'},\n",
       "   'description': {'ja': 'エネルギーの放出の型式'}},\n",
       "  'ancestors': [{'id': 'https://openalex.org/C163258240',\n",
       "    'wikidata': 'https://www.wikidata.org/wiki/Q25342',\n",
       "    'display_name': 'Power (physics)',\n",
       "    'level': 2},\n",
       "   {'id': 'https://openalex.org/C165801399',\n",
       "    'wikidata': 'https://www.wikidata.org/wiki/Q25428',\n",
       "    'display_name': 'Voltage',\n",
       "    'level': 2},\n",
       "   {'id': 'https://openalex.org/C119599485',\n",
       "    'wikidata': 'https://www.wikidata.org/wiki/Q43035',\n",
       "    'display_name': 'Electrical engineering',\n",
       "    'level': 1},\n",
       "   {'id': 'https://openalex.org/C62520636',\n",
       "    'wikidata': 'https://www.wikidata.org/wiki/Q944',\n",
       "    'display_name': 'Quantum mechanics',\n",
       "    'level': 1},\n",
       "   {'id': 'https://openalex.org/C97355855',\n",
       "    'wikidata': 'https://www.wikidata.org/wiki/Q11473',\n",
       "    'display_name': 'Thermodynamics',\n",
       "    'level': 1},\n",
       "   {'id': 'https://openalex.org/C127413603',\n",
       "    'wikidata': 'https://www.wikidata.org/wiki/Q11023',\n",
       "    'display_name': 'Engineering',\n",
       "    'level': 0},\n",
       "   {'id': 'https://openalex.org/C121332964',\n",
       "    'wikidata': 'https://www.wikidata.org/wiki/Q413',\n",
       "    'display_name': 'Physics',\n",
       "    'level': 0}],\n",
       "  'related_concepts': [{'id': 'https://openalex.org/C52192207',\n",
       "    'wikidata': None,\n",
       "    'display_name': 'Capacitor',\n",
       "    'level': 3,\n",
       "    'score': 3.385551},\n",
       "   {'id': 'https://openalex.org/C24671956',\n",
       "    'wikidata': None,\n",
       "    'display_name': 'Fusion power',\n",
       "    'level': 3,\n",
       "    'score': 2.3425627},\n",
       "   {'id': 'https://openalex.org/C116468062',\n",
       "    'wikidata': None,\n",
       "    'display_name': 'Electric current',\n",
       "    'level': 2,\n",
       "    'score': 2.1710656},\n",
       "   {'id': 'https://openalex.org/C69285833',\n",
       "    'wikidata': None,\n",
       "    'display_name': 'Nuclear fusion',\n",
       "    'level': 2,\n",
       "    'score': 1.9093282},\n",
       "   {'id': 'https://openalex.org/C107430045',\n",
       "    'wikidata': None,\n",
       "    'display_name': 'Inertial confinement fusion',\n",
       "    'level': 3,\n",
       "    'score': 1.8921918},\n",
       "   {'id': 'https://openalex.org/C114331627',\n",
       "    'wikidata': None,\n",
       "    'display_name': 'Marx generator',\n",
       "    'level': 4,\n",
       "    'score': 1.8807838},\n",
       "   {'id': 'https://openalex.org/C44012409',\n",
       "    'wikidata': None,\n",
       "    'display_name': 'Watt',\n",
       "    'level': 3,\n",
       "    'score': 1.8622965},\n",
       "   {'id': 'https://openalex.org/C14589660',\n",
       "    'wikidata': None,\n",
       "    'display_name': 'Electromagnetic pulse',\n",
       "    'level': 2,\n",
       "    'score': 1.7751479},\n",
       "   {'id': 'https://openalex.org/C554190296',\n",
       "    'wikidata': None,\n",
       "    'display_name': 'Radar',\n",
       "    'level': 2,\n",
       "    'score': 1.6652788},\n",
       "   {'id': 'https://openalex.org/C520434653',\n",
       "    'wikidata': None,\n",
       "    'display_name': 'Laser',\n",
       "    'level': 2,\n",
       "    'score': 1.6191747},\n",
       "   {'id': 'https://openalex.org/C189166818',\n",
       "    'wikidata': None,\n",
       "    'display_name': 'Particle accelerator',\n",
       "    'level': 3,\n",
       "    'score': 1.570331},\n",
       "   {'id': 'https://openalex.org/C115260700',\n",
       "    'wikidata': None,\n",
       "    'display_name': 'Magnetic field',\n",
       "    'level': 2,\n",
       "    'score': 1.4619312},\n",
       "   {'id': 'https://openalex.org/C194110935',\n",
       "    'wikidata': None,\n",
       "    'display_name': 'Nuclear weapon',\n",
       "    'level': 2,\n",
       "    'score': 1.4485346},\n",
       "   {'id': 'https://openalex.org/C67737819',\n",
       "    'wikidata': None,\n",
       "    'display_name': 'Spark gap',\n",
       "    'level': 3,\n",
       "    'score': 1.4448732},\n",
       "   {'id': 'https://openalex.org/C2779824264',\n",
       "    'wikidata': None,\n",
       "    'display_name': 'Z-pinch',\n",
       "    'level': 3,\n",
       "    'score': 1.3922803},\n",
       "   {'id': 'https://openalex.org/C14480152',\n",
       "    'wikidata': None,\n",
       "    'display_name': 'Pinch',\n",
       "    'level': 2,\n",
       "    'score': 1.3855933},\n",
       "   {'id': 'https://openalex.org/C2779543734',\n",
       "    'wikidata': None,\n",
       "    'display_name': 'Electromagnetic forming',\n",
       "    'level': 3,\n",
       "    'score': 1.1975492}],\n",
       "  'counts_by_year': [{'year': 2024, 'works_count': 67, 'cited_by_count': 2646},\n",
       "   {'year': 2023, 'works_count': 415, 'cited_by_count': 9318},\n",
       "   {'year': 2022, 'works_count': 379, 'cited_by_count': 7824},\n",
       "   {'year': 2021, 'works_count': 423, 'cited_by_count': 7323},\n",
       "   {'year': 2020, 'works_count': 393, 'cited_by_count': 6085},\n",
       "   {'year': 2019, 'works_count': 404, 'cited_by_count': 5442},\n",
       "   {'year': 2018, 'works_count': 399, 'cited_by_count': 4930},\n",
       "   {'year': 2017, 'works_count': 410, 'cited_by_count': 4638},\n",
       "   {'year': 2016, 'works_count': 375, 'cited_by_count': 3928},\n",
       "   {'year': 2015, 'works_count': 432, 'cited_by_count': 4026},\n",
       "   {'year': 2014, 'works_count': 456, 'cited_by_count': 4041},\n",
       "   {'year': 2013, 'works_count': 607, 'cited_by_count': 3540},\n",
       "   {'year': 2012, 'works_count': 440, 'cited_by_count': 3387}],\n",
       "  'works_api_url': 'https://api.openalex.org/works?filter=concepts.id:C97039730',\n",
       "  'updated_date': '2024-05-12T13:42:07.589780',\n",
       "  'created_date': '2016-06-24'},\n",
       " {'id': 'https://openalex.org/C522053795',\n",
       "  'wikidata': 'https://www.wikidata.org/wiki/Q2335090',\n",
       "  'display_name': 'Missile guidance',\n",
       "  'relevance_score': 10389.912,\n",
       "  'level': 3,\n",
       "  'description': 'variety of methods of guiding a missile',\n",
       "  'works_count': 6487,\n",
       "  'cited_by_count': 36160,\n",
       "  'summary_stats': {'2yr_mean_citedness': 1.4244186046511629,\n",
       "   'h_index': 82,\n",
       "   'i10_index': 634},\n",
       "  'ids': {'openalex': 'https://openalex.org/C522053795',\n",
       "   'wikidata': 'https://www.wikidata.org/wiki/Q2335090',\n",
       "   'mag': '522053795',\n",
       "   'wikipedia': 'https://en.wikipedia.org/wiki/Missile%20guidance'},\n",
       "  'image_url': 'https://upload.wikimedia.org/wikipedia/commons/6/68/Image-GBU-24_Missile_testmontage-gi_BLU-109_bomb.jpg',\n",
       "  'image_thumbnail_url': 'https://upload.wikimedia.org/wikipedia/commons/thumb/6/68/Image-GBU-24_Missile_testmontage-gi_BLU-109_bomb.jpg/42px-Image-GBU-24_Missile_testmontage-gi_BLU-109_bomb.jpg',\n",
       "  'international': {'display_name': {'ar': 'توجيه الصاروخ',\n",
       "    'be-tarask': 'сыстэма навядзеньня ракеты',\n",
       "    'bn': 'ক্ষেপণাস্ত্রের পথপ্রদর্শন',\n",
       "    'ca': 'Guiatge de míssils',\n",
       "    'cs': 'navádění střely',\n",
       "    'de': 'Raketenlenkung',\n",
       "    'en': 'missile guidance',\n",
       "    'es': 'guiado de misiles',\n",
       "    'et': 'Raketi juhtimine',\n",
       "    'fa': 'هدایت موشک',\n",
       "    'fr': 'Guidage de missile',\n",
       "    'he': 'נשק מונחה',\n",
       "    'ja': 'ミサイルの誘導方式',\n",
       "    'kk': 'Өздігінен бағытталу жүйесі',\n",
       "    'kk-arab': 'وزدىگىنەن باعىتتالۋ جۇيەسى',\n",
       "    'kk-cyrl': 'Өздігінен бағытталу жүйесі',\n",
       "    'kk-latn': 'Özdiginen bağıttalw jüýesi',\n",
       "    'ko': '미사일 유도',\n",
       "    'nb': 'Spesialildledning',\n",
       "    'ru': 'Система самонаведения',\n",
       "    'ta': 'வழி செலுத்திய ஏவுகணை',\n",
       "    'uk': 'система наведення ракети',\n",
       "    'vi': 'Tên lửa có điều khiển',\n",
       "    'zh': '导弹制导',\n",
       "    'zh-hans': '导弹制导',\n",
       "    'zh-hant': '導彈制導',\n",
       "    'zh-hk': '導彈制導',\n",
       "    'zh-tw': '飛彈導引'},\n",
       "   'description': {'de': 'Vielzahl von Methoden der Führung einer Rakete',\n",
       "    'en': 'variety of methods of guiding a missile',\n",
       "    'es': 'misil que sigue o persigue a su objetivo',\n",
       "    'fr': 'ensemble des opérations qui permettent au missile de remplir sa mission, d’approche de sa cible',\n",
       "    'he': 'חימוש בעל מערכות הנחייה עצמאיות או מונהגות ע\"י מפעיל',\n",
       "    'uk': 'система керування ракетами або бомбами для ураження цілей'}},\n",
       "  'ancestors': [{'id': 'https://openalex.org/C2778857364',\n",
       "    'wikidata': 'https://www.wikidata.org/wiki/Q974850',\n",
       "    'display_name': 'Missile',\n",
       "    'level': 2},\n",
       "   {'id': 'https://openalex.org/C146978453',\n",
       "    'wikidata': 'https://www.wikidata.org/wiki/Q3798668',\n",
       "    'display_name': 'Aerospace engineering',\n",
       "    'level': 1},\n",
       "   {'id': 'https://openalex.org/C166957645',\n",
       "    'wikidata': 'https://www.wikidata.org/wiki/Q23498',\n",
       "    'display_name': 'Archaeology',\n",
       "    'level': 1},\n",
       "   {'id': 'https://openalex.org/C127413603',\n",
       "    'wikidata': 'https://www.wikidata.org/wiki/Q11023',\n",
       "    'display_name': 'Engineering',\n",
       "    'level': 0},\n",
       "   {'id': 'https://openalex.org/C205649164',\n",
       "    'wikidata': 'https://www.wikidata.org/wiki/Q1071',\n",
       "    'display_name': 'Geography',\n",
       "    'level': 0},\n",
       "   {'id': 'https://openalex.org/C95457728',\n",
       "    'wikidata': 'https://www.wikidata.org/wiki/Q309',\n",
       "    'display_name': 'History',\n",
       "    'level': 0}],\n",
       "  'related_concepts': [{'id': 'https://openalex.org/C2778857364',\n",
       "    'wikidata': None,\n",
       "    'display_name': 'Missile',\n",
       "    'level': 2,\n",
       "    'score': 13.318895},\n",
       "   {'id': 'https://openalex.org/C554190296',\n",
       "    'wikidata': None,\n",
       "    'display_name': 'Radar',\n",
       "    'level': 2,\n",
       "    'score': 9.163574},\n",
       "   {'id': 'https://openalex.org/C28849524',\n",
       "    'wikidata': None,\n",
       "    'display_name': 'Cruise missile',\n",
       "    'level': 3,\n",
       "    'score': 9.047797},\n",
       "   {'id': 'https://openalex.org/C202802212',\n",
       "    'wikidata': None,\n",
       "    'display_name': 'Air-to-air missile',\n",
       "    'level': 3,\n",
       "    'score': 8.712841},\n",
       "   {'id': 'https://openalex.org/C128651787',\n",
       "    'wikidata': None,\n",
       "    'display_name': 'Inertial navigation system',\n",
       "    'level': 3,\n",
       "    'score': 6.200868},\n",
       "   {'id': 'https://openalex.org/C137355542',\n",
       "    'wikidata': None,\n",
       "    'display_name': 'World War II',\n",
       "    'level': 2,\n",
       "    'score': 4.0803022},\n",
       "   {'id': 'https://openalex.org/C131426668',\n",
       "    'wikidata': None,\n",
       "    'display_name': 'Electronic countermeasure',\n",
       "    'level': 3,\n",
       "    'score': 4.0129113},\n",
       "   {'id': 'https://openalex.org/C60229501',\n",
       "    'wikidata': None,\n",
       "    'display_name': 'Global Positioning System',\n",
       "    'level': 2,\n",
       "    'score': 3.6608455},\n",
       "   {'id': 'https://openalex.org/C201004817',\n",
       "    'wikidata': None,\n",
       "    'display_name': 'Guidance system',\n",
       "    'level': 2,\n",
       "    'score': 2.6262429},\n",
       "   {'id': 'https://openalex.org/C2777047555',\n",
       "    'wikidata': None,\n",
       "    'display_name': 'Terminal guidance',\n",
       "    'level': 3,\n",
       "    'score': 2.154631},\n",
       "   {'id': 'https://openalex.org/C554876149',\n",
       "    'wikidata': None,\n",
       "    'display_name': 'Radio control',\n",
       "    'level': 2,\n",
       "    'score': 2.1314445},\n",
       "   {'id': 'https://openalex.org/C2780928442',\n",
       "    'wikidata': None,\n",
       "    'display_name': 'Line-of-sight',\n",
       "    'level': 2,\n",
       "    'score': 1.8697124},\n",
       "   {'id': 'https://openalex.org/C2778464233',\n",
       "    'wikidata': None,\n",
       "    'display_name': 'Proportional navigation',\n",
       "    'level': 3,\n",
       "    'score': 1.7503211},\n",
       "   {'id': 'https://openalex.org/C21593369',\n",
       "    'wikidata': None,\n",
       "    'display_name': 'Countermeasure',\n",
       "    'level': 2,\n",
       "    'score': 1.7447729}],\n",
       "  'counts_by_year': [{'year': 2024, 'works_count': 20, 'cited_by_count': 822},\n",
       "   {'year': 2023, 'works_count': 175, 'cited_by_count': 3106},\n",
       "   {'year': 2022, 'works_count': 182, 'cited_by_count': 3273},\n",
       "   {'year': 2021, 'works_count': 162, 'cited_by_count': 2910},\n",
       "   {'year': 2020, 'works_count': 145, 'cited_by_count': 2849},\n",
       "   {'year': 2019, 'works_count': 184, 'cited_by_count': 2496},\n",
       "   {'year': 2018, 'works_count': 187, 'cited_by_count': 2363},\n",
       "   {'year': 2017, 'works_count': 153, 'cited_by_count': 1968},\n",
       "   {'year': 2016, 'works_count': 172, 'cited_by_count': 2032},\n",
       "   {'year': 2015, 'works_count': 223, 'cited_by_count': 1872},\n",
       "   {'year': 2014, 'works_count': 267, 'cited_by_count': 1561},\n",
       "   {'year': 2013, 'works_count': 311, 'cited_by_count': 1148},\n",
       "   {'year': 2012, 'works_count': 291, 'cited_by_count': 1004}],\n",
       "  'works_api_url': 'https://api.openalex.org/works?filter=concepts.id:C522053795',\n",
       "  'updated_date': '2024-05-12T14:07:51.861104',\n",
       "  'created_date': '2016-06-24'},\n",
       " {'id': 'https://openalex.org/C117623542',\n",
       "  'wikidata': 'https://www.wikidata.org/wiki/Q621974',\n",
       "  'display_name': 'Automatic target recognition',\n",
       "  'relevance_score': 9972.483,\n",
       "  'level': 3,\n",
       "  'description': 'ability to automatically recognize targets',\n",
       "  'works_count': 3634,\n",
       "  'cited_by_count': 31597,\n",
       "  'summary_stats': {'2yr_mean_citedness': 3.278481012658228,\n",
       "   'h_index': 75,\n",
       "   'i10_index': 629},\n",
       "  'ids': {'openalex': 'https://openalex.org/C117623542',\n",
       "   'wikidata': 'https://www.wikidata.org/wiki/Q621974',\n",
       "   'mag': '117623542',\n",
       "   'wikipedia': 'https://en.wikipedia.org/wiki/Automatic%20target%20recognition'},\n",
       "  'image_url': None,\n",
       "  'image_thumbnail_url': None,\n",
       "  'international': {'display_name': {'ca': \"Reconeixement automàtic de l'objectiu\",\n",
       "    'en': 'Automatic target recognition',\n",
       "    'es': 'Reconocimiento Automático de Objetivo',\n",
       "    'id': 'Pengenalan target otomatis',\n",
       "    'ja': '自動目標識別',\n",
       "    'mr': 'स्वयंलक्ष्यनिर्धारण',\n",
       "    'tr': 'Otomatik hedef tanıma',\n",
       "    'uk': 'Автоматичне розпізнавання цілі',\n",
       "    'zh': '自动目标识别'},\n",
       "   'description': {'en': 'ability to automatically recognize targets'}},\n",
       "  'ancestors': [{'id': 'https://openalex.org/C87360688',\n",
       "    'wikidata': 'https://www.wikidata.org/wiki/Q740686',\n",
       "    'display_name': 'Synthetic aperture radar',\n",
       "    'level': 2},\n",
       "   {'id': 'https://openalex.org/C154945302',\n",
       "    'wikidata': 'https://www.wikidata.org/wiki/Q11660',\n",
       "    'display_name': 'Artificial intelligence',\n",
       "    'level': 1},\n",
       "   {'id': 'https://openalex.org/C31972630',\n",
       "    'wikidata': 'https://www.wikidata.org/wiki/Q844240',\n",
       "    'display_name': 'Computer vision',\n",
       "    'level': 1},\n",
       "   {'id': 'https://openalex.org/C62649853',\n",
       "    'wikidata': 'https://www.wikidata.org/wiki/Q199687',\n",
       "    'display_name': 'Remote sensing',\n",
       "    'level': 1},\n",
       "   {'id': 'https://openalex.org/C41008148',\n",
       "    'wikidata': 'https://www.wikidata.org/wiki/Q21198',\n",
       "    'display_name': 'Computer science',\n",
       "    'level': 0},\n",
       "   {'id': 'https://openalex.org/C205649164',\n",
       "    'wikidata': 'https://www.wikidata.org/wiki/Q1071',\n",
       "    'display_name': 'Geography',\n",
       "    'level': 0},\n",
       "   {'id': 'https://openalex.org/C127313418',\n",
       "    'wikidata': 'https://www.wikidata.org/wiki/Q1069',\n",
       "    'display_name': 'Geology',\n",
       "    'level': 0}],\n",
       "  'related_concepts': [{'id': 'https://openalex.org/C554190296',\n",
       "    'wikidata': None,\n",
       "    'display_name': 'Radar',\n",
       "    'level': 2,\n",
       "    'score': 2.8605235},\n",
       "   {'id': 'https://openalex.org/C142433447',\n",
       "    'wikidata': None,\n",
       "    'display_name': 'Time–frequency analysis',\n",
       "    'level': 3,\n",
       "    'score': 1.2715209},\n",
       "   {'id': 'https://openalex.org/C50878840',\n",
       "    'wikidata': None,\n",
       "    'display_name': 'Ambiguity function',\n",
       "    'level': 4,\n",
       "    'score': 1.2355801},\n",
       "   {'id': 'https://openalex.org/C65165936',\n",
       "    'wikidata': None,\n",
       "    'display_name': 'Baseband',\n",
       "    'level': 3,\n",
       "    'score': 1.1843786},\n",
       "   {'id': 'https://openalex.org/C87360688',\n",
       "    'wikidata': None,\n",
       "    'display_name': 'Synthetic aperture radar',\n",
       "    'level': 2,\n",
       "    'score': 1.1573641},\n",
       "   {'id': 'https://openalex.org/C28849524',\n",
       "    'wikidata': None,\n",
       "    'display_name': 'Cruise missile',\n",
       "    'level': 3,\n",
       "    'score': 1.0891315},\n",
       "   {'id': 'https://openalex.org/C60229501',\n",
       "    'wikidata': None,\n",
       "    'display_name': 'Global Positioning System',\n",
       "    'level': 2,\n",
       "    'score': 1.0661001},\n",
       "   {'id': 'https://openalex.org/C102519508',\n",
       "    'wikidata': None,\n",
       "    'display_name': 'Fourier transform',\n",
       "    'level': 2,\n",
       "    'score': 1.03755},\n",
       "   {'id': 'https://openalex.org/C28490314',\n",
       "    'wikidata': None,\n",
       "    'display_name': 'Speech recognition',\n",
       "    'level': 1,\n",
       "    'score': 0.9964525},\n",
       "   {'id': 'https://openalex.org/C151077058',\n",
       "    'wikidata': None,\n",
       "    'display_name': 'Wigner distribution function',\n",
       "    'level': 3,\n",
       "    'score': 0.9511871},\n",
       "   {'id': 'https://openalex.org/C166386157',\n",
       "    'wikidata': None,\n",
       "    'display_name': 'Short-time Fourier transform',\n",
       "    'level': 4,\n",
       "    'score': 0.9203837},\n",
       "   {'id': 'https://openalex.org/C119857082',\n",
       "    'wikidata': None,\n",
       "    'display_name': 'Machine learning',\n",
       "    'level': 1,\n",
       "    'score': 0.8757511},\n",
       "   {'id': 'https://openalex.org/C203024314',\n",
       "    'wikidata': None,\n",
       "    'display_name': 'Fourier analysis',\n",
       "    'level': 3,\n",
       "    'score': 0.8208903},\n",
       "   {'id': 'https://openalex.org/C139931591',\n",
       "    'wikidata': None,\n",
       "    'display_name': 'Pulse-Doppler radar',\n",
       "    'level': 4,\n",
       "    'score': 0.77053654}],\n",
       "  'counts_by_year': [{'year': 2024, 'works_count': 31, 'cited_by_count': 803},\n",
       "   {'year': 2023, 'works_count': 232, 'cited_by_count': 3949},\n",
       "   {'year': 2022, 'works_count': 214, 'cited_by_count': 3802},\n",
       "   {'year': 2021, 'works_count': 181, 'cited_by_count': 3187},\n",
       "   {'year': 2020, 'works_count': 146, 'cited_by_count': 2352},\n",
       "   {'year': 2019, 'works_count': 155, 'cited_by_count': 2514},\n",
       "   {'year': 2018, 'works_count': 137, 'cited_by_count': 2000},\n",
       "   {'year': 2017, 'works_count': 114, 'cited_by_count': 1269},\n",
       "   {'year': 2016, 'works_count': 96, 'cited_by_count': 1219},\n",
       "   {'year': 2015, 'works_count': 73, 'cited_by_count': 929},\n",
       "   {'year': 2014, 'works_count': 76, 'cited_by_count': 959},\n",
       "   {'year': 2013, 'works_count': 93, 'cited_by_count': 768},\n",
       "   {'year': 2012, 'works_count': 98, 'cited_by_count': 676}],\n",
       "  'works_api_url': 'https://api.openalex.org/works?filter=concepts.id:C117623542',\n",
       "  'updated_date': '2024-05-12T14:02:56.755899',\n",
       "  'created_date': '2016-06-24'},\n",
       " {'id': 'https://openalex.org/C122136912',\n",
       "  'wikidata': 'https://www.wikidata.org/wiki/Q179348',\n",
       "  'display_name': 'Ballistic missile',\n",
       "  'relevance_score': 7450.304,\n",
       "  'level': 3,\n",
       "  'description': 'missile that follows a sub-orbital ballistic flightpath',\n",
       "  'works_count': 6210,\n",
       "  'cited_by_count': 17738,\n",
       "  'summary_stats': {'2yr_mean_citedness': 0.7905138339920948,\n",
       "   'h_index': 54,\n",
       "   'i10_index': 302},\n",
       "  'ids': {'openalex': 'https://openalex.org/C122136912',\n",
       "   'wikidata': 'https://www.wikidata.org/wiki/Q179348',\n",
       "   'mag': '122136912',\n",
       "   'wikipedia': 'https://en.wikipedia.org/wiki/Ballistic%20missile'},\n",
       "  'image_url': 'https://upload.wikimedia.org/wikipedia/commons/f/ff/Minuteman_III_MIRV_path.svg',\n",
       "  'image_thumbnail_url': 'https://upload.wikimedia.org/wikipedia/commons/thumb/f/ff/Minuteman_III_MIRV_path.svg/100px-Minuteman_III_MIRV_path.svg.png',\n",
       "  'international': {'display_name': {'ar': 'صاروخ بالستي',\n",
       "    'ast': 'Misil balísticu',\n",
       "    'az': 'Ballistik raket',\n",
       "    'be': 'балістычная ракета',\n",
       "    'be-tarask': 'балістычная ракета',\n",
       "    'bg': 'Балистична ракета',\n",
       "    'bn': 'নিক্ষেপী ক্ষেপণাস্ত্র',\n",
       "    'ca': 'míssil balístic',\n",
       "    'ckb': 'مووشەکی بالیستیکی',\n",
       "    'cs': 'balistická raketa',\n",
       "    'da': 'ballistisk missil',\n",
       "    'de': 'Ballistische Rakete',\n",
       "    'el': 'Βαλλιστικός πύραυλος',\n",
       "    'en': 'ballistic missile',\n",
       "    'eo': 'balistika misilo',\n",
       "    'es': 'misil balístico',\n",
       "    'et': 'Ballistiline rakett',\n",
       "    'eu': 'misil balistiko',\n",
       "    'fa': 'موشک بالیستیک',\n",
       "    'fi': 'ballistinen ohjus',\n",
       "    'fr': 'missile balistique',\n",
       "    'ga': 'Diúracán balaistíoch',\n",
       "    'he': 'טיל בליסטי',\n",
       "    'hi': 'बैलिस्टिक प्रक्षेपास्त्र',\n",
       "    'hu': 'Ballisztikus rakéta',\n",
       "    'hy': 'Բալիստիկ հրթիռ',\n",
       "    'id': 'peluru kendali balistik',\n",
       "    'is': 'Skotflaug',\n",
       "    'it': 'missile balistico',\n",
       "    'ja': '弾道ミサイル',\n",
       "    'ka': 'ბალისტიკური რაკეტა',\n",
       "    'kk': 'Авиациялық баллистикалық ракета',\n",
       "    'kk-arab': 'اۆىياتسىييالىق باللىيستىيكالىق راكەتا',\n",
       "    'kk-cn': 'اۆىياتسىييالىق باللىيستىيكالىق راكەتا',\n",
       "    'kk-cyrl': 'Авиациялық баллистикалық ракета',\n",
       "    'kk-kz': 'Авиациялық баллистикалық ракета',\n",
       "    'kk-latn': 'Avïacïyalıq ballïstïkalıq raketa',\n",
       "    'kk-tr': 'Avïacïyalıq ballïstïkalıq raketa',\n",
       "    'ko': '탄도 미사일',\n",
       "    'lb': 'Ballistesch Rakéit',\n",
       "    'lrc': 'موشک بالیستیک',\n",
       "    'lt': 'Balistinė raketa',\n",
       "    'lv': 'Ballistiskā raķete',\n",
       "    'ml': 'ബാലിസ്റ്റിക് മിസൈൽ',\n",
       "    'ms': 'Peluru berpandu balistik',\n",
       "    'nb': 'ballistisk missil',\n",
       "    'ne': 'ब्यालेस्टिक क्षेप्यास्त्र',\n",
       "    'nl': 'ballistische raket',\n",
       "    'nn': 'ballistisk missil',\n",
       "    'oc': 'Missil balistic',\n",
       "    'pl': 'Rakietowy pocisk balistyczny',\n",
       "    'pnb': 'بیلیسٹک میزائل',\n",
       "    'pt': 'míssil balístico',\n",
       "    'ro': 'Rachetă balistică',\n",
       "    'ru': 'баллистическая ракета',\n",
       "    'sh': 'Balistička raketa',\n",
       "    'sk': 'Balistická raketa',\n",
       "    'sl': 'Balistični izstrelek',\n",
       "    'sr': 'балистичка ракета',\n",
       "    'sr-ec': 'Балистичка ракета',\n",
       "    'sr-el': 'Balistička raketa',\n",
       "    'sv': 'ballistisk robot',\n",
       "    'te': 'బాలిస్టిక్ క్షిపణి',\n",
       "    'th': 'ขีปนาวุธทอดตัว',\n",
       "    'tr': 'balistik füze',\n",
       "    'uk': 'Балістична ракета',\n",
       "    'ur': 'قذائفی صاروخ',\n",
       "    'uz': 'Ballistik raketa',\n",
       "    'vec': 'mìsiłe bałìstego',\n",
       "    'vi': 'Tên lửa đạn đạo',\n",
       "    'wuu': '弹道导弹',\n",
       "    'yue': '彈道導彈',\n",
       "    'zh': '弹道导弹',\n",
       "    'zh-cn': '弹道导弹',\n",
       "    'zh-hans': '弹道导弹',\n",
       "    'zh-hant': '彈道導彈',\n",
       "    'zh-hk': '彈道導彈',\n",
       "    'zh-sg': '弹道导弹',\n",
       "    'zh-tw': '彈道飛彈'},\n",
       "   'description': {'ar': 'صاروخ يتبع مسارا منحنيا',\n",
       "    'ckb': 'جۆرێکی موشەک کە بە رێڕەوێکی بالیستیکی ژێر خولگەییدا دەڕوات',\n",
       "    'de': 'militärische Rakete mit Antrieb für einen Teil der Flugbahn',\n",
       "    'en': 'missile that follows a sub-orbital ballistic flightpath',\n",
       "    'es': 'misil sin alas ni estabilizadores, con una trayectoria predefinida que no puede ser modificada',\n",
       "    'eu': 'Jaurtigai baten moduan hegan egiten duen misil-mota, propultsioa aireratzeko baino ez erabiltzen ez duena, gurutzaldi-misili kontrajarria.',\n",
       "    'fa': 'موشک با توانایی طی فواصل طولانی',\n",
       "    'fi': 'ohjus, jonka lentorata on korkealla ilmakehässä',\n",
       "    'fr': \"missile dont la trajectoire s'effectue essentiellement hors de l'atmosphère\",\n",
       "    'hu': 'rakétafegyver',\n",
       "    'id': 'jenis senjata',\n",
       "    'ja': '弾道軌道を描く無誘導の対地ミサイル',\n",
       "    'ko': '발사 지점부터 목표 지점까지 포물선을 그리며 날아가는 미사일',\n",
       "    'pt': 'Míssil que segue uma trajetória pré-determinada',\n",
       "    'ru': 'разновидность ракетного оружия, большую часть полёта находится в неуправляемом движении',\n",
       "    'sv': 'robot som bara är styrd under avfyrningsfasen, och därefter följer en kastbana',\n",
       "    'zh': '導彈類型'}},\n",
       "  'ancestors': [{'id': 'https://openalex.org/C2778857364',\n",
       "    'wikidata': 'https://www.wikidata.org/wiki/Q974850',\n",
       "    'display_name': 'Missile',\n",
       "    'level': 2},\n",
       "   {'id': 'https://openalex.org/C146978453',\n",
       "    'wikidata': 'https://www.wikidata.org/wiki/Q3798668',\n",
       "    'display_name': 'Aerospace engineering',\n",
       "    'level': 1},\n",
       "   {'id': 'https://openalex.org/C166957645',\n",
       "    'wikidata': 'https://www.wikidata.org/wiki/Q23498',\n",
       "    'display_name': 'Archaeology',\n",
       "    'level': 1},\n",
       "   {'id': 'https://openalex.org/C127413603',\n",
       "    'wikidata': 'https://www.wikidata.org/wiki/Q11023',\n",
       "    'display_name': 'Engineering',\n",
       "    'level': 0},\n",
       "   {'id': 'https://openalex.org/C205649164',\n",
       "    'wikidata': 'https://www.wikidata.org/wiki/Q1071',\n",
       "    'display_name': 'Geography',\n",
       "    'level': 0},\n",
       "   {'id': 'https://openalex.org/C95457728',\n",
       "    'wikidata': 'https://www.wikidata.org/wiki/Q309',\n",
       "    'display_name': 'History',\n",
       "    'level': 0}],\n",
       "  'related_concepts': [{'id': 'https://openalex.org/C28849524',\n",
       "    'wikidata': None,\n",
       "    'display_name': 'Cruise missile',\n",
       "    'level': 3,\n",
       "    'score': 19.019962},\n",
       "   {'id': 'https://openalex.org/C2778857364',\n",
       "    'wikidata': None,\n",
       "    'display_name': 'Missile',\n",
       "    'level': 2,\n",
       "    'score': 18.852106},\n",
       "   {'id': 'https://openalex.org/C194110935',\n",
       "    'wikidata': None,\n",
       "    'display_name': 'Nuclear weapon',\n",
       "    'level': 2,\n",
       "    'score': 14.401337},\n",
       "   {'id': 'https://openalex.org/C121327165',\n",
       "    'wikidata': None,\n",
       "    'display_name': 'Submarine',\n",
       "    'level': 2,\n",
       "    'score': 13.585398},\n",
       "   {'id': 'https://openalex.org/C137355542',\n",
       "    'wikidata': None,\n",
       "    'display_name': 'World War II',\n",
       "    'level': 2,\n",
       "    'score': 11.767513},\n",
       "   {'id': 'https://openalex.org/C19269812',\n",
       "    'wikidata': None,\n",
       "    'display_name': 'Satellite',\n",
       "    'level': 2,\n",
       "    'score': 10.312376},\n",
       "   {'id': 'https://openalex.org/C191935318',\n",
       "    'wikidata': None,\n",
       "    'display_name': 'China',\n",
       "    'level': 2,\n",
       "    'score': 10.275839},\n",
       "   {'id': 'https://openalex.org/C554190296',\n",
       "    'wikidata': None,\n",
       "    'display_name': 'Radar',\n",
       "    'level': 2,\n",
       "    'score': 8.819548},\n",
       "   {'id': 'https://openalex.org/C559253537',\n",
       "    'wikidata': None,\n",
       "    'display_name': 'Missile defense',\n",
       "    'level': 3,\n",
       "    'score': 7.2768264},\n",
       "   {'id': 'https://openalex.org/C128651787',\n",
       "    'wikidata': None,\n",
       "    'display_name': 'Inertial navigation system',\n",
       "    'level': 3,\n",
       "    'score': 5.5536804},\n",
       "   {'id': 'https://openalex.org/C149617267',\n",
       "    'wikidata': None,\n",
       "    'display_name': 'Warhead',\n",
       "    'level': 2,\n",
       "    'score': 4.9149613},\n",
       "   {'id': 'https://openalex.org/C103888896',\n",
       "    'wikidata': None,\n",
       "    'display_name': 'Spaceflight',\n",
       "    'level': 2,\n",
       "    'score': 4.7767797},\n",
       "   {'id': 'https://openalex.org/C49304495',\n",
       "    'wikidata': None,\n",
       "    'display_name': 'Projectile',\n",
       "    'level': 2,\n",
       "    'score': 3.7659147},\n",
       "   {'id': 'https://openalex.org/C201004817',\n",
       "    'wikidata': None,\n",
       "    'display_name': 'Guidance system',\n",
       "    'level': 2,\n",
       "    'score': 3.4543874},\n",
       "   {'id': 'https://openalex.org/C51091305',\n",
       "    'wikidata': None,\n",
       "    'display_name': 'Sounding rocket',\n",
       "    'level': 2,\n",
       "    'score': 2.7337306},\n",
       "   {'id': 'https://openalex.org/C98943031',\n",
       "    'wikidata': None,\n",
       "    'display_name': 'Trajectory of a projectile',\n",
       "    'level': 3,\n",
       "    'score': 1.9697497},\n",
       "   {'id': 'https://openalex.org/C832551',\n",
       "    'wikidata': None,\n",
       "    'display_name': 'Space launch',\n",
       "    'level': 3,\n",
       "    'score': 1.3280218},\n",
       "   {'id': 'https://openalex.org/C187878255',\n",
       "    'wikidata': None,\n",
       "    'display_name': 'Rocket (weapon)',\n",
       "    'level': 2,\n",
       "    'score': 1.189961},\n",
       "   {'id': 'https://openalex.org/C62467634',\n",
       "    'wikidata': None,\n",
       "    'display_name': 'Range of a projectile',\n",
       "    'level': 3,\n",
       "    'score': 1.0004181}],\n",
       "  'counts_by_year': [{'year': 2024, 'works_count': 9, 'cited_by_count': 464},\n",
       "   {'year': 2023, 'works_count': 104, 'cited_by_count': 1404},\n",
       "   {'year': 2022, 'works_count': 131, 'cited_by_count': 1133},\n",
       "   {'year': 2021, 'works_count': 122, 'cited_by_count': 1085},\n",
       "   {'year': 2020, 'works_count': 134, 'cited_by_count': 972},\n",
       "   {'year': 2019, 'works_count': 162, 'cited_by_count': 1024},\n",
       "   {'year': 2018, 'works_count': 154, 'cited_by_count': 1004},\n",
       "   {'year': 2017, 'works_count': 203, 'cited_by_count': 832},\n",
       "   {'year': 2016, 'works_count': 171, 'cited_by_count': 802},\n",
       "   {'year': 2015, 'works_count': 186, 'cited_by_count': 770},\n",
       "   {'year': 2014, 'works_count': 206, 'cited_by_count': 687},\n",
       "   {'year': 2013, 'works_count': 271, 'cited_by_count': 669},\n",
       "   {'year': 2012, 'works_count': 271, 'cited_by_count': 632}],\n",
       "  'works_api_url': 'https://api.openalex.org/works?filter=concepts.id:C122136912',\n",
       "  'updated_date': '2024-05-12T13:43:54.375818',\n",
       "  'created_date': '2016-06-24'},\n",
       " {'id': 'https://openalex.org/C176381164',\n",
       "  'wikidata': 'https://www.wikidata.org/wiki/Q1486507',\n",
       "  'display_name': 'Radar jamming and deception',\n",
       "  'relevance_score': 6934.3413,\n",
       "  'level': 5,\n",
       "  'description': 'emission of radio signals to interfere with radar operation',\n",
       "  'works_count': 2671,\n",
       "  'cited_by_count': 10638,\n",
       "  'summary_stats': {'2yr_mean_citedness': 1.4132841328413284,\n",
       "   'h_index': 40,\n",
       "   'i10_index': 193},\n",
       "  'ids': {'openalex': 'https://openalex.org/C176381164',\n",
       "   'wikidata': 'https://www.wikidata.org/wiki/Q1486507',\n",
       "   'mag': '176381164',\n",
       "   'wikipedia': 'https://en.wikipedia.org/wiki/Radar%20jamming%20and%20deception'},\n",
       "  'image_url': None,\n",
       "  'image_thumbnail_url': None,\n",
       "  'international': {'display_name': {'de': 'GPS-Jammer',\n",
       "    'en': 'radar jamming and deception',\n",
       "    'fa': 'جمر',\n",
       "    'fi': 'Elektroninen häirintä',\n",
       "    'fr': 'Brouillage et déception radar',\n",
       "    'he': 'חסימה אלקטרונית',\n",
       "    'it': 'Radar jamming',\n",
       "    'ja': 'ジャミング',\n",
       "    'mn': 'Радар гацаалт ба зугтаалгах',\n",
       "    'pl': 'System walki elektronicznej',\n",
       "    'ru': 'Антирадар',\n",
       "    'sr': 'ометање радара',\n",
       "    'sr-ec': 'ометање радара',\n",
       "    'sr-el': 'ометање радара',\n",
       "    'sv': 'Radarstörning',\n",
       "    'uk': 'Радіолокаційні перешкоди',\n",
       "    'zh': '雷達壅塞與欺騙',\n",
       "    'zh-hans': '雷達信號的干擾與欺騙',\n",
       "    'zh-hant': '雷達訊號的干擾與欺騙'},\n",
       "   'description': {'de': 'militärische Funktechnik',\n",
       "    'en': 'emission of radio signals to interfere with radar operation',\n",
       "    'he': 'שידור אותות רדיו על מנת לשבש פעילות של מערכות אלקטרוניות',\n",
       "    'pl': 'Urządzenie przeznaczone do zagłuszania źródeł emisji radiowej'}},\n",
       "  'ancestors': [{'id': 'https://openalex.org/C139931591',\n",
       "    'wikidata': 'https://www.wikidata.org/wiki/Q1029151',\n",
       "    'display_name': 'Pulse-Doppler radar',\n",
       "    'level': 4},\n",
       "   {'id': 'https://openalex.org/C10929652',\n",
       "    'wikidata': 'https://www.wikidata.org/wiki/Q7279985',\n",
       "    'display_name': 'Radar imaging',\n",
       "    'level': 3},\n",
       "   {'id': 'https://openalex.org/C554190296',\n",
       "    'wikidata': 'https://www.wikidata.org/wiki/Q47528',\n",
       "    'display_name': 'Radar',\n",
       "    'level': 2},\n",
       "   {'id': 'https://openalex.org/C146978453',\n",
       "    'wikidata': 'https://www.wikidata.org/wiki/Q3798668',\n",
       "    'display_name': 'Aerospace engineering',\n",
       "    'level': 1},\n",
       "   {'id': 'https://openalex.org/C76155785',\n",
       "    'wikidata': 'https://www.wikidata.org/wiki/Q418',\n",
       "    'display_name': 'Telecommunications',\n",
       "    'level': 1},\n",
       "   {'id': 'https://openalex.org/C41008148',\n",
       "    'wikidata': 'https://www.wikidata.org/wiki/Q21198',\n",
       "    'display_name': 'Computer science',\n",
       "    'level': 0},\n",
       "   {'id': 'https://openalex.org/C127413603',\n",
       "    'wikidata': 'https://www.wikidata.org/wiki/Q11023',\n",
       "    'display_name': 'Engineering',\n",
       "    'level': 0}],\n",
       "  'related_concepts': [{'id': 'https://openalex.org/C554190296',\n",
       "    'wikidata': None,\n",
       "    'display_name': 'Radar',\n",
       "    'level': 2,\n",
       "    'score': 14.671403},\n",
       "   {'id': 'https://openalex.org/C131426668',\n",
       "    'wikidata': None,\n",
       "    'display_name': 'Electronic countermeasure',\n",
       "    'level': 3,\n",
       "    'score': 7.2655087},\n",
       "   {'id': 'https://openalex.org/C133082901',\n",
       "    'wikidata': None,\n",
       "    'display_name': 'Electronic warfare',\n",
       "    'level': 3,\n",
       "    'score': 5.962825},\n",
       "   {'id': 'https://openalex.org/C137355542',\n",
       "    'wikidata': None,\n",
       "    'display_name': 'World War II',\n",
       "    'level': 2,\n",
       "    'score': 4.3289795},\n",
       "   {'id': 'https://openalex.org/C60396740',\n",
       "    'wikidata': None,\n",
       "    'display_name': 'Active electronically scanned array',\n",
       "    'level': 5,\n",
       "    'score': 3.7759461},\n",
       "   {'id': 'https://openalex.org/C101457746',\n",
       "    'wikidata': None,\n",
       "    'display_name': 'Radar cross-section',\n",
       "    'level': 3,\n",
       "    'score': 2.9566631},\n",
       "   {'id': 'https://openalex.org/C2778857364',\n",
       "    'wikidata': None,\n",
       "    'display_name': 'Missile',\n",
       "    'level': 2,\n",
       "    'score': 2.8305929},\n",
       "   {'id': 'https://openalex.org/C202802212',\n",
       "    'wikidata': None,\n",
       "    'display_name': 'Air-to-air missile',\n",
       "    'level': 3,\n",
       "    'score': 2.708782},\n",
       "   {'id': 'https://openalex.org/C158355884',\n",
       "    'wikidata': None,\n",
       "    'display_name': 'Infrared',\n",
       "    'level': 2,\n",
       "    'score': 2.5925207},\n",
       "   {'id': 'https://openalex.org/C60229501',\n",
       "    'wikidata': None,\n",
       "    'display_name': 'Global Positioning System',\n",
       "    'level': 2,\n",
       "    'score': 2.5300121},\n",
       "   {'id': 'https://openalex.org/C128651787',\n",
       "    'wikidata': None,\n",
       "    'display_name': 'Inertial navigation system',\n",
       "    'level': 3,\n",
       "    'score': 2.1432025},\n",
       "   {'id': 'https://openalex.org/C2779179475',\n",
       "    'wikidata': None,\n",
       "    'display_name': 'Decoy',\n",
       "    'level': 3,\n",
       "    'score': 1.845563},\n",
       "   {'id': 'https://openalex.org/C147345108',\n",
       "    'wikidata': None,\n",
       "    'display_name': 'Low probability of intercept radar',\n",
       "    'level': 5,\n",
       "    'score': 1.289032},\n",
       "   {'id': 'https://openalex.org/C30406889',\n",
       "    'wikidata': None,\n",
       "    'display_name': 'Digital radio frequency memory',\n",
       "    'level': 5,\n",
       "    'score': 1.1709238}],\n",
       "  'counts_by_year': [{'year': 2024, 'works_count': 28, 'cited_by_count': 440},\n",
       "   {'year': 2023, 'works_count': 155, 'cited_by_count': 1758},\n",
       "   {'year': 2022, 'works_count': 151, 'cited_by_count': 1544},\n",
       "   {'year': 2021, 'works_count': 120, 'cited_by_count': 1073},\n",
       "   {'year': 2020, 'works_count': 85, 'cited_by_count': 822},\n",
       "   {'year': 2019, 'works_count': 124, 'cited_by_count': 935},\n",
       "   {'year': 2018, 'works_count': 64, 'cited_by_count': 595},\n",
       "   {'year': 2017, 'works_count': 72, 'cited_by_count': 545},\n",
       "   {'year': 2016, 'works_count': 91, 'cited_by_count': 489},\n",
       "   {'year': 2015, 'works_count': 92, 'cited_by_count': 311},\n",
       "   {'year': 2014, 'works_count': 111, 'cited_by_count': 280},\n",
       "   {'year': 2013, 'works_count': 162, 'cited_by_count': 200},\n",
       "   {'year': 2012, 'works_count': 159, 'cited_by_count': 155}],\n",
       "  'works_api_url': 'https://api.openalex.org/works?filter=concepts.id:C176381164',\n",
       "  'updated_date': '2024-05-12T13:14:23.375017',\n",
       "  'created_date': '2016-06-24'},\n",
       " {'id': 'https://openalex.org/C183838350',\n",
       "  'wikidata': 'https://www.wikidata.org/wiki/Q5754517',\n",
       "  'display_name': 'High-energy X-rays',\n",
       "  'relevance_score': 6576.2656,\n",
       "  'level': 4,\n",
       "  'description': None,\n",
       "  'works_count': 1184,\n",
       "  'cited_by_count': 14246,\n",
       "  'summary_stats': {'2yr_mean_citedness': 1.7567567567567568,\n",
       "   'h_index': 58,\n",
       "   'i10_index': 300},\n",
       "  'ids': {'openalex': 'https://openalex.org/C183838350',\n",
       "   'wikidata': 'https://www.wikidata.org/wiki/Q5754517',\n",
       "   'mag': '183838350',\n",
       "   'wikipedia': 'https://en.wikipedia.org/wiki/High-energy%20X-rays'},\n",
       "  'image_url': None,\n",
       "  'image_thumbnail_url': None,\n",
       "  'international': {'display_name': {'en': 'High-energy X-rays',\n",
       "    'ta': 'உயர் ஆற்றல் எக்ஸ்-கதிர்கள்'},\n",
       "   'description': None},\n",
       "  'ancestors': [{'id': 'https://openalex.org/C136959337',\n",
       "    'wikidata': 'https://www.wikidata.org/wiki/Q3300772',\n",
       "    'display_name': 'Beamline',\n",
       "    'level': 3},\n",
       "   {'id': 'https://openalex.org/C168834538',\n",
       "    'wikidata': 'https://www.wikidata.org/wiki/Q3705329',\n",
       "    'display_name': 'Beam (structure)',\n",
       "    'level': 2},\n",
       "   {'id': 'https://openalex.org/C147176958',\n",
       "    'wikidata': 'https://www.wikidata.org/wiki/Q77590',\n",
       "    'display_name': 'Civil engineering',\n",
       "    'level': 1},\n",
       "   {'id': 'https://openalex.org/C120665830',\n",
       "    'wikidata': 'https://www.wikidata.org/wiki/Q14620',\n",
       "    'display_name': 'Optics',\n",
       "    'level': 1},\n",
       "   {'id': 'https://openalex.org/C66938386',\n",
       "    'wikidata': 'https://www.wikidata.org/wiki/Q633538',\n",
       "    'display_name': 'Structural engineering',\n",
       "    'level': 1},\n",
       "   {'id': 'https://openalex.org/C127413603',\n",
       "    'wikidata': 'https://www.wikidata.org/wiki/Q11023',\n",
       "    'display_name': 'Engineering',\n",
       "    'level': 0},\n",
       "   {'id': 'https://openalex.org/C121332964',\n",
       "    'wikidata': 'https://www.wikidata.org/wiki/Q413',\n",
       "    'display_name': 'Physics',\n",
       "    'level': 0}],\n",
       "  'related_concepts': [{'id': 'https://openalex.org/C2779328170',\n",
       "    'wikidata': None,\n",
       "    'display_name': 'X-ray',\n",
       "    'level': 2,\n",
       "    'score': 2.418164},\n",
       "   {'id': 'https://openalex.org/C62284982',\n",
       "    'wikidata': None,\n",
       "    'display_name': 'X-ray absorption spectroscopy',\n",
       "    'level': 3,\n",
       "    'score': 1.326566},\n",
       "   {'id': 'https://openalex.org/C50515024',\n",
       "    'wikidata': None,\n",
       "    'display_name': 'X-ray crystallography',\n",
       "    'level': 3,\n",
       "    'score': 1.2504637},\n",
       "   {'id': 'https://openalex.org/C7910260',\n",
       "    'wikidata': None,\n",
       "    'display_name': 'Gamma ray',\n",
       "    'level': 2,\n",
       "    'score': 1.2460811},\n",
       "   {'id': 'https://openalex.org/C2779575624',\n",
       "    'wikidata': None,\n",
       "    'display_name': 'Synchrotron light source',\n",
       "    'level': 4,\n",
       "    'score': 1.112662},\n",
       "   {'id': 'https://openalex.org/C2776432867',\n",
       "    'wikidata': None,\n",
       "    'display_name': 'SPring-8',\n",
       "    'level': 4,\n",
       "    'score': 1.0818995},\n",
       "   {'id': 'https://openalex.org/C159774933',\n",
       "    'wikidata': None,\n",
       "    'display_name': 'Attenuation coefficient',\n",
       "    'level': 2,\n",
       "    'score': 1.0597386},\n",
       "   {'id': 'https://openalex.org/C121332964',\n",
       "    'wikidata': None,\n",
       "    'display_name': 'Physics',\n",
       "    'level': 0,\n",
       "    'score': 1.0336372},\n",
       "   {'id': 'https://openalex.org/C36454342',\n",
       "    'wikidata': None,\n",
       "    'display_name': 'Radiography',\n",
       "    'level': 2,\n",
       "    'score': 1.0065246},\n",
       "   {'id': 'https://openalex.org/C1276947',\n",
       "    'wikidata': None,\n",
       "    'display_name': 'Astronomy',\n",
       "    'level': 1,\n",
       "    'score': 0.9692853},\n",
       "   {'id': 'https://openalex.org/C104015590',\n",
       "    'wikidata': None,\n",
       "    'display_name': 'Neutron scattering',\n",
       "    'level': 3,\n",
       "    'score': 0.9136016},\n",
       "   {'id': 'https://openalex.org/C189166818',\n",
       "    'wikidata': None,\n",
       "    'display_name': 'Particle accelerator',\n",
       "    'level': 3,\n",
       "    'score': 0.90454257},\n",
       "   {'id': 'https://openalex.org/C60761834',\n",
       "    'wikidata': None,\n",
       "    'display_name': 'Mass attenuation coefficient',\n",
       "    'level': 3,\n",
       "    'score': 0.8895772},\n",
       "   {'id': 'https://openalex.org/C184652730',\n",
       "    'wikidata': None,\n",
       "    'display_name': 'Attenuation',\n",
       "    'level': 2,\n",
       "    'score': 0.8759837},\n",
       "   {'id': 'https://openalex.org/C8010536',\n",
       "    'wikidata': None,\n",
       "    'display_name': 'Crystallography',\n",
       "    'level': 1,\n",
       "    'score': 0.8653521},\n",
       "   {'id': 'https://openalex.org/C26873012',\n",
       "    'wikidata': None,\n",
       "    'display_name': 'Condensed matter physics',\n",
       "    'level': 1,\n",
       "    'score': 0.8651473}],\n",
       "  'counts_by_year': [{'year': 2024, 'works_count': 2, 'cited_by_count': 187},\n",
       "   {'year': 2023, 'works_count': 14, 'cited_by_count': 579},\n",
       "   {'year': 2022, 'works_count': 18, 'cited_by_count': 517},\n",
       "   {'year': 2021, 'works_count': 19, 'cited_by_count': 587},\n",
       "   {'year': 2020, 'works_count': 18, 'cited_by_count': 592},\n",
       "   {'year': 2019, 'works_count': 27, 'cited_by_count': 702},\n",
       "   {'year': 2018, 'works_count': 12, 'cited_by_count': 490},\n",
       "   {'year': 2017, 'works_count': 21, 'cited_by_count': 461},\n",
       "   {'year': 2016, 'works_count': 25, 'cited_by_count': 583},\n",
       "   {'year': 2015, 'works_count': 16, 'cited_by_count': 500},\n",
       "   {'year': 2014, 'works_count': 23, 'cited_by_count': 465},\n",
       "   {'year': 2013, 'works_count': 17, 'cited_by_count': 493},\n",
       "   {'year': 2012, 'works_count': 16, 'cited_by_count': 441}],\n",
       "  'works_api_url': 'https://api.openalex.org/works?filter=concepts.id:C183838350',\n",
       "  'updated_date': '2024-05-12T13:03:53.281909',\n",
       "  'created_date': '2016-06-24'},\n",
       " {'id': 'https://openalex.org/C133082901',\n",
       "  'wikidata': 'https://www.wikidata.org/wiki/Q272826',\n",
       "  'display_name': 'Electronic warfare',\n",
       "  'relevance_score': 5634.029,\n",
       "  'level': 3,\n",
       "  'description': 'combat involving electronics and directed energy',\n",
       "  'works_count': 3471,\n",
       "  'cited_by_count': 15444,\n",
       "  'summary_stats': {'2yr_mean_citedness': 1.1614173228346456,\n",
       "   'h_index': 49,\n",
       "   'i10_index': 249},\n",
       "  'ids': {'openalex': 'https://openalex.org/C133082901',\n",
       "   'wikidata': 'https://www.wikidata.org/wiki/Q272826',\n",
       "   'mag': '133082901',\n",
       "   'wikipedia': 'https://en.wikipedia.org/wiki/Electronic%20warfare'},\n",
       "  'image_url': None,\n",
       "  'image_thumbnail_url': None,\n",
       "  'international': {'display_name': {'af': 'Elektroniese oorlogvoering',\n",
       "    'ar': 'حرب إلكترونية',\n",
       "    'ast': 'Guerra electrónica',\n",
       "    'be': 'радыёэлектронная барацьба',\n",
       "    'bg': 'Радиоелектронна война',\n",
       "    'ca': 'guerra electrònica',\n",
       "    'ckb': 'شەڕی کارۆموگناتیسی',\n",
       "    'cs': 'elektronická válka',\n",
       "    'da': 'Elektronisk krigsførelse',\n",
       "    'de': 'Elektronischer Kampf',\n",
       "    'el': 'Ηλεκτρονικός πόλεμος',\n",
       "    'en': 'electronic warfare',\n",
       "    'en-us': 'electronic warfare',\n",
       "    'eo': 'elektronika milito',\n",
       "    'es': 'guerra electrónica',\n",
       "    'et': 'Elektrooniline infosõda',\n",
       "    'fa': 'جنگ الکترونیک',\n",
       "    'fi': 'elektroninen sodankäynti',\n",
       "    'fr': 'guerre électronique',\n",
       "    'ga': 'cogaíocht leictreonach',\n",
       "    'gl': 'Guerra electrónica',\n",
       "    'he': 'לוחמה אלקטרונית',\n",
       "    'hi': 'इलेक्ट्रॉनिक युद्ध',\n",
       "    'hr': 'Elektroničko ratovanje',\n",
       "    'hu': 'elektronikus hadviselés',\n",
       "    'hy': 'Ռադիոէլեկտրոնային պայքար',\n",
       "    'id': 'Peperangan elektronik',\n",
       "    'it': 'guerra elettronica',\n",
       "    'ja': '電子戦',\n",
       "    'ko': '전자전',\n",
       "    'mk': 'електронско војување',\n",
       "    'ml': 'വൈദ്യുതകാന്തിക യുദ്ധം',\n",
       "    'ms': 'Peperangan elektronik',\n",
       "    'nb': 'elektronisk krigføring',\n",
       "    'nl': 'elektronische oorlogvoering',\n",
       "    'nn': 'elektronisk krigføring',\n",
       "    'pl': 'walka elektroniczna',\n",
       "    'pt': 'guerra eletrónica',\n",
       "    'ro': 'război electronic',\n",
       "    'ru': 'радиоэлектронная борьба',\n",
       "    'sh': 'Elektronski rat',\n",
       "    'si': 'ඉලෙක්ට්\\u200dරොනික යුද්ධ කටයුතු',\n",
       "    'sk': 'Elektronická vojna',\n",
       "    'sl': 'elektronsko vojskovanje',\n",
       "    'sq': 'Lufta elektromagnetike',\n",
       "    'sv': 'elektronisk krigföring',\n",
       "    'ta': 'மின்னணு போர்',\n",
       "    'th': 'การสงครามอิเล็กทรอนิกส์',\n",
       "    'tr': 'elektronik savaş',\n",
       "    'uk': 'радіоелектронна боротьба',\n",
       "    'ur': 'برقیاتی جنگ',\n",
       "    'vi': 'tác chiến điện tử',\n",
       "    'zh': '電子作戰',\n",
       "    'zh-cn': '电子作战',\n",
       "    'zh-hans': '电子作战',\n",
       "    'zh-hant': '電子作戰',\n",
       "    'zh-hk': '電子作戰',\n",
       "    'zh-sg': '电子作战',\n",
       "    'zh-tw': '電子作戰'},\n",
       "   'description': {'de': 'militärische Maßnahmen in der Auseinandersetzung um die Nutzung des elektromagnetischen Spektrums',\n",
       "    'el': 'μάχη με ηλεκτρονικές συσκευές και κατευθυνόμενη ενέργεια',\n",
       "    'en': 'combat involving electronics and directed energy',\n",
       "    'en-us': 'combat involving electronics and directed energy',\n",
       "    'es': 'actividad tecnológica y electrónica llevada a cabo para vencer al enemigo',\n",
       "    'fi': 'osa johtamissodankäyntiä, informaatiosodankäynnin sotilaallista sovellutusta',\n",
       "    'fr': \"combat utilisant des moyens électroniques et l'énergie dirigée\",\n",
       "    'he': 'טכנולוגיה צבאית',\n",
       "    'it': \"conflitto basato sull'uso delle radiazioni dello spettro elettromagnetico o di energia diretta\",\n",
       "    'ko': '전자 장비를 이용하여 벌이는 전쟁',\n",
       "    'tr': 'Savaş türü',\n",
       "    'uk': 'військові операції, які виконуються з використанням електромагнітного спектра'}},\n",
       "  'ancestors': [{'id': 'https://openalex.org/C554190296',\n",
       "    'wikidata': 'https://www.wikidata.org/wiki/Q47528',\n",
       "    'display_name': 'Radar',\n",
       "    'level': 2},\n",
       "   {'id': 'https://openalex.org/C146978453',\n",
       "    'wikidata': 'https://www.wikidata.org/wiki/Q3798668',\n",
       "    'display_name': 'Aerospace engineering',\n",
       "    'level': 1},\n",
       "   {'id': 'https://openalex.org/C76155785',\n",
       "    'wikidata': 'https://www.wikidata.org/wiki/Q418',\n",
       "    'display_name': 'Telecommunications',\n",
       "    'level': 1},\n",
       "   {'id': 'https://openalex.org/C41008148',\n",
       "    'wikidata': 'https://www.wikidata.org/wiki/Q21198',\n",
       "    'display_name': 'Computer science',\n",
       "    'level': 0},\n",
       "   {'id': 'https://openalex.org/C127413603',\n",
       "    'wikidata': 'https://www.wikidata.org/wiki/Q11023',\n",
       "    'display_name': 'Engineering',\n",
       "    'level': 0}],\n",
       "  'related_concepts': [{'id': 'https://openalex.org/C554190296',\n",
       "    'wikidata': None,\n",
       "    'display_name': 'Radar',\n",
       "    'level': 2,\n",
       "    'score': 19.304783},\n",
       "   {'id': 'https://openalex.org/C131426668',\n",
       "    'wikidata': None,\n",
       "    'display_name': 'Electronic countermeasure',\n",
       "    'level': 3,\n",
       "    'score': 16.381731},\n",
       "   {'id': 'https://openalex.org/C137355542',\n",
       "    'wikidata': None,\n",
       "    'display_name': 'World War II',\n",
       "    'level': 2,\n",
       "    'score': 13.171346},\n",
       "   {'id': 'https://openalex.org/C506615639',\n",
       "    'wikidata': None,\n",
       "    'display_name': 'Command and control',\n",
       "    'level': 2,\n",
       "    'score': 6.8710093},\n",
       "   {'id': 'https://openalex.org/C54589662',\n",
       "    'wikidata': None,\n",
       "    'display_name': 'Vietnam War',\n",
       "    'level': 2,\n",
       "    'score': 6.766755},\n",
       "   {'id': 'https://openalex.org/C204323151',\n",
       "    'wikidata': None,\n",
       "    'display_name': 'Range (aeronautics)',\n",
       "    'level': 2,\n",
       "    'score': 6.4093256},\n",
       "   {'id': 'https://openalex.org/C17733824',\n",
       "    'wikidata': None,\n",
       "    'display_name': 'Wingspan',\n",
       "    'level': 3,\n",
       "    'score': 6.1293077},\n",
       "   {'id': 'https://openalex.org/C74064498',\n",
       "    'wikidata': None,\n",
       "    'display_name': 'Radio frequency',\n",
       "    'level': 2,\n",
       "    'score': 5.84582},\n",
       "   {'id': 'https://openalex.org/C15792166',\n",
       "    'wikidata': None,\n",
       "    'display_name': 'Avionics',\n",
       "    'level': 2,\n",
       "    'score': 5.5588517},\n",
       "   {'id': 'https://openalex.org/C202802212',\n",
       "    'wikidata': None,\n",
       "    'display_name': 'Air-to-air missile',\n",
       "    'level': 3,\n",
       "    'score': 5.3590593},\n",
       "   {'id': 'https://openalex.org/C49504249',\n",
       "    'wikidata': None,\n",
       "    'display_name': 'Military intelligence',\n",
       "    'level': 2,\n",
       "    'score': 4.1558824},\n",
       "   {'id': 'https://openalex.org/C101457746',\n",
       "    'wikidata': None,\n",
       "    'display_name': 'Radar cross-section',\n",
       "    'level': 3,\n",
       "    'score': 3.5848727},\n",
       "   {'id': 'https://openalex.org/C2781349506',\n",
       "    'wikidata': None,\n",
       "    'display_name': 'Information warfare',\n",
       "    'level': 2,\n",
       "    'score': 3.0136805},\n",
       "   {'id': 'https://openalex.org/C2781187084',\n",
       "    'wikidata': None,\n",
       "    'display_name': 'Network-centric warfare',\n",
       "    'level': 2,\n",
       "    'score': 2.1701994},\n",
       "   {'id': 'https://openalex.org/C545464746',\n",
       "    'wikidata': None,\n",
       "    'display_name': 'Military communications',\n",
       "    'level': 3,\n",
       "    'score': 2.110522},\n",
       "   {'id': 'https://openalex.org/C21593369',\n",
       "    'wikidata': None,\n",
       "    'display_name': 'Countermeasure',\n",
       "    'level': 2,\n",
       "    'score': 1.5593361},\n",
       "   {'id': 'https://openalex.org/C199520974',\n",
       "    'wikidata': None,\n",
       "    'display_name': 'Computer network operations',\n",
       "    'level': 4,\n",
       "    'score': 1.5033187},\n",
       "   {'id': 'https://openalex.org/C198461270',\n",
       "    'wikidata': None,\n",
       "    'display_name': 'Electro-optics',\n",
       "    'level': 2,\n",
       "    'score': 1.3228488},\n",
       "   {'id': 'https://openalex.org/C121858775',\n",
       "    'wikidata': None,\n",
       "    'display_name': 'Information Operations',\n",
       "    'level': 2,\n",
       "    'score': 1.2079735},\n",
       "   {'id': 'https://openalex.org/C70587628',\n",
       "    'wikidata': None,\n",
       "    'display_name': 'Hardware-in-the-loop simulation',\n",
       "    'level': 2,\n",
       "    'score': 0.9879077},\n",
       "   {'id': 'https://openalex.org/C2780298425',\n",
       "    'wikidata': None,\n",
       "    'display_name': 'V band',\n",
       "    'level': 2,\n",
       "    'score': 0.9781337}],\n",
       "  'counts_by_year': [{'year': 2024, 'works_count': 12, 'cited_by_count': 310},\n",
       "   {'year': 2023, 'works_count': 150, 'cited_by_count': 1466},\n",
       "   {'year': 2022, 'works_count': 135, 'cited_by_count': 1383},\n",
       "   {'year': 2021, 'works_count': 119, 'cited_by_count': 1226},\n",
       "   {'year': 2020, 'works_count': 142, 'cited_by_count': 1066},\n",
       "   {'year': 2019, 'works_count': 121, 'cited_by_count': 1028},\n",
       "   {'year': 2018, 'works_count': 88, 'cited_by_count': 826},\n",
       "   {'year': 2017, 'works_count': 86, 'cited_by_count': 768},\n",
       "   {'year': 2016, 'works_count': 111, 'cited_by_count': 700},\n",
       "   {'year': 2015, 'works_count': 121, 'cited_by_count': 620},\n",
       "   {'year': 2014, 'works_count': 116, 'cited_by_count': 611},\n",
       "   {'year': 2013, 'works_count': 115, 'cited_by_count': 524},\n",
       "   {'year': 2012, 'works_count': 145, 'cited_by_count': 468}],\n",
       "  'works_api_url': 'https://api.openalex.org/works?filter=concepts.id:C133082901',\n",
       "  'updated_date': '2024-05-14T06:03:49.772009',\n",
       "  'created_date': '2016-06-24'},\n",
       " {'id': 'https://openalex.org/C2777047555',\n",
       "  'wikidata': 'https://www.wikidata.org/wiki/Q17085041',\n",
       "  'display_name': 'Terminal guidance',\n",
       "  'relevance_score': 5130.437,\n",
       "  'level': 3,\n",
       "  'description': None,\n",
       "  'works_count': 1355,\n",
       "  'cited_by_count': 10032,\n",
       "  'summary_stats': {'2yr_mean_citedness': 1.9789473684210526,\n",
       "   'h_index': 50,\n",
       "   'i10_index': 180},\n",
       "  'ids': {'openalex': 'https://openalex.org/C2777047555',\n",
       "   'wikidata': 'https://www.wikidata.org/wiki/Q17085041',\n",
       "   'mag': '2777047555',\n",
       "   'wikipedia': 'https://en.wikipedia.org/wiki/Terminal%20guidance'},\n",
       "  'image_url': None,\n",
       "  'image_thumbnail_url': None,\n",
       "  'international': {'display_name': {'en': 'Terminal guidance'},\n",
       "   'description': None},\n",
       "  'ancestors': [{'id': 'https://openalex.org/C2778857364',\n",
       "    'wikidata': 'https://www.wikidata.org/wiki/Q974850',\n",
       "    'display_name': 'Missile',\n",
       "    'level': 2},\n",
       "   {'id': 'https://openalex.org/C146978453',\n",
       "    'wikidata': 'https://www.wikidata.org/wiki/Q3798668',\n",
       "    'display_name': 'Aerospace engineering',\n",
       "    'level': 1},\n",
       "   {'id': 'https://openalex.org/C166957645',\n",
       "    'wikidata': 'https://www.wikidata.org/wiki/Q23498',\n",
       "    'display_name': 'Archaeology',\n",
       "    'level': 1},\n",
       "   {'id': 'https://openalex.org/C127413603',\n",
       "    'wikidata': 'https://www.wikidata.org/wiki/Q11023',\n",
       "    'display_name': 'Engineering',\n",
       "    'level': 0},\n",
       "   {'id': 'https://openalex.org/C205649164',\n",
       "    'wikidata': 'https://www.wikidata.org/wiki/Q1071',\n",
       "    'display_name': 'Geography',\n",
       "    'level': 0},\n",
       "   {'id': 'https://openalex.org/C95457728',\n",
       "    'wikidata': 'https://www.wikidata.org/wiki/Q309',\n",
       "    'display_name': 'History',\n",
       "    'level': 0}],\n",
       "  'related_concepts': [{'id': 'https://openalex.org/C522053795',\n",
       "    'wikidata': None,\n",
       "    'display_name': 'Missile guidance',\n",
       "    'level': 3,\n",
       "    'score': 2.154631},\n",
       "   {'id': 'https://openalex.org/C2778857364',\n",
       "    'wikidata': None,\n",
       "    'display_name': 'Missile',\n",
       "    'level': 2,\n",
       "    'score': 2.0783541},\n",
       "   {'id': 'https://openalex.org/C131426668',\n",
       "    'wikidata': None,\n",
       "    'display_name': 'Electronic countermeasure',\n",
       "    'level': 3,\n",
       "    'score': 1.9535426},\n",
       "   {'id': 'https://openalex.org/C554190296',\n",
       "    'wikidata': None,\n",
       "    'display_name': 'Radar',\n",
       "    'level': 2,\n",
       "    'score': 1.8803649},\n",
       "   {'id': 'https://openalex.org/C202802212',\n",
       "    'wikidata': None,\n",
       "    'display_name': 'Air-to-air missile',\n",
       "    'level': 3,\n",
       "    'score': 1.3913065},\n",
       "   {'id': 'https://openalex.org/C4639250',\n",
       "    'wikidata': None,\n",
       "    'display_name': 'Strategic Defense Initiative',\n",
       "    'level': 2,\n",
       "    'score': 1.1864423},\n",
       "   {'id': 'https://openalex.org/C201004817',\n",
       "    'wikidata': None,\n",
       "    'display_name': 'Guidance system',\n",
       "    'level': 2,\n",
       "    'score': 1.0907679},\n",
       "   {'id': 'https://openalex.org/C149617267',\n",
       "    'wikidata': None,\n",
       "    'display_name': 'Warhead',\n",
       "    'level': 2,\n",
       "    'score': 0.9763844},\n",
       "   {'id': 'https://openalex.org/C128651787',\n",
       "    'wikidata': None,\n",
       "    'display_name': 'Inertial navigation system',\n",
       "    'level': 3,\n",
       "    'score': 0.8826829}],\n",
       "  'counts_by_year': [{'year': 2024, 'works_count': 9, 'cited_by_count': 287},\n",
       "   {'year': 2023, 'works_count': 40, 'cited_by_count': 1008},\n",
       "   {'year': 2022, 'works_count': 54, 'cited_by_count': 1059},\n",
       "   {'year': 2021, 'works_count': 41, 'cited_by_count': 861},\n",
       "   {'year': 2020, 'works_count': 29, 'cited_by_count': 795},\n",
       "   {'year': 2019, 'works_count': 42, 'cited_by_count': 792},\n",
       "   {'year': 2018, 'works_count': 41, 'cited_by_count': 737},\n",
       "   {'year': 2017, 'works_count': 37, 'cited_by_count': 508},\n",
       "   {'year': 2016, 'works_count': 46, 'cited_by_count': 555},\n",
       "   {'year': 2015, 'works_count': 52, 'cited_by_count': 542},\n",
       "   {'year': 2014, 'works_count': 78, 'cited_by_count': 481},\n",
       "   {'year': 2013, 'works_count': 89, 'cited_by_count': 333},\n",
       "   {'year': 2012, 'works_count': 69, 'cited_by_count': 260}],\n",
       "  'works_api_url': 'https://api.openalex.org/works?filter=concepts.id:C2777047555',\n",
       "  'updated_date': '2024-05-12T13:29:02.357222',\n",
       "  'created_date': '2018-01-05'},\n",
       " {'id': 'https://openalex.org/C2781187084',\n",
       "  'wikidata': 'https://www.wikidata.org/wiki/Q1140666',\n",
       "  'display_name': 'Network-centric warfare',\n",
       "  'relevance_score': 4228.1904,\n",
       "  'level': 2,\n",
       "  'description': 'military doctrine or theory of war pioneered by the United States Department of Defense in the 1990s',\n",
       "  'works_count': 1799,\n",
       "  'cited_by_count': 5937,\n",
       "  'summary_stats': {'2yr_mean_citedness': 0.8, 'h_index': 31, 'i10_index': 89},\n",
       "  'ids': {'openalex': 'https://openalex.org/C2781187084',\n",
       "   'wikidata': 'https://www.wikidata.org/wiki/Q1140666',\n",
       "   'mag': '2781187084',\n",
       "   'wikipedia': 'https://en.wikipedia.org/wiki/Network-centric%20warfare'},\n",
       "  'image_url': None,\n",
       "  'image_thumbnail_url': None,\n",
       "  'international': {'display_name': {'ar': 'حرب مركزة حول الشبكات',\n",
       "    'de': 'Network-Centric Warfare',\n",
       "    'en': 'network-centric warfare',\n",
       "    'es': 'Guerra centrada en redes',\n",
       "    'et': 'Võrgukeskne sõjapidamine',\n",
       "    'fi': 'Verkostokeskeinen sodankäynti',\n",
       "    'fr': 'Network Centric Warfare',\n",
       "    'he': 'לוחמה מבוססת רשת',\n",
       "    'it': 'Network-centric warfare',\n",
       "    'ja': 'ネットワーク中心の戦い',\n",
       "    'ko': '네트워크 중심전',\n",
       "    'nb': 'Nettverksbasert forsvar (NbF)',\n",
       "    'ro': 'Război bazat pe rețele',\n",
       "    'ru': 'Сетецентрическая война',\n",
       "    'sv': 'Nätverksbaserat försvar',\n",
       "    'uk': 'Мережево-центрична війна',\n",
       "    'vi': 'Chiến tranh lấy mạng làm trung tâm',\n",
       "    'yue': '網絡中心戰',\n",
       "    'zh': '網絡中心戰',\n",
       "    'zh-hans': '网络中心战',\n",
       "    'zh-hant': '網絡中心戰',\n",
       "    'zh-hk': '網絡中心戰',\n",
       "    'zh-tw': '網路中心戰'},\n",
       "   'description': {'en': 'military doctrine or theory of war pioneered by the United States Department of Defense in the 1990s',\n",
       "    'es': 'Doctrina militar',\n",
       "    'it': 'Guerra network-centrica',\n",
       "    'ko': '네트워크를 활용한 작전 수행 방식'}},\n",
       "  'ancestors': [{'id': 'https://openalex.org/C38652104',\n",
       "    'wikidata': 'https://www.wikidata.org/wiki/Q3510521',\n",
       "    'display_name': 'Computer security',\n",
       "    'level': 1},\n",
       "   {'id': 'https://openalex.org/C199539241',\n",
       "    'wikidata': 'https://www.wikidata.org/wiki/Q7748',\n",
       "    'display_name': 'Law',\n",
       "    'level': 1},\n",
       "   {'id': 'https://openalex.org/C76155785',\n",
       "    'wikidata': 'https://www.wikidata.org/wiki/Q418',\n",
       "    'display_name': 'Telecommunications',\n",
       "    'level': 1},\n",
       "   {'id': 'https://openalex.org/C41008148',\n",
       "    'wikidata': 'https://www.wikidata.org/wiki/Q21198',\n",
       "    'display_name': 'Computer science',\n",
       "    'level': 0},\n",
       "   {'id': 'https://openalex.org/C127413603',\n",
       "    'wikidata': 'https://www.wikidata.org/wiki/Q11023',\n",
       "    'display_name': 'Engineering',\n",
       "    'level': 0},\n",
       "   {'id': 'https://openalex.org/C17744445',\n",
       "    'wikidata': 'https://www.wikidata.org/wiki/Q36442',\n",
       "    'display_name': 'Political science',\n",
       "    'level': 0}],\n",
       "  'related_concepts': [{'id': 'https://openalex.org/C506615639',\n",
       "    'wikidata': None,\n",
       "    'display_name': 'Command and control',\n",
       "    'level': 2,\n",
       "    'score': 6.806857},\n",
       "   {'id': 'https://openalex.org/C2781438671',\n",
       "    'wikidata': None,\n",
       "    'display_name': 'Battlespace',\n",
       "    'level': 2,\n",
       "    'score': 4.5686216},\n",
       "   {'id': 'https://openalex.org/C189326492',\n",
       "    'wikidata': None,\n",
       "    'display_name': 'Revolution in Military Affairs',\n",
       "    'level': 3,\n",
       "    'score': 3.4602332},\n",
       "   {'id': 'https://openalex.org/C145804949',\n",
       "    'wikidata': None,\n",
       "    'display_name': 'Situation awareness',\n",
       "    'level': 2,\n",
       "    'score': 3.160047},\n",
       "   {'id': 'https://openalex.org/C2781023928',\n",
       "    'wikidata': None,\n",
       "    'display_name': 'Modern warfare',\n",
       "    'level': 2,\n",
       "    'score': 2.3698869},\n",
       "   {'id': 'https://openalex.org/C2778007780',\n",
       "    'wikidata': None,\n",
       "    'display_name': 'Military doctrine',\n",
       "    'level': 3,\n",
       "    'score': 2.260055},\n",
       "   {'id': 'https://openalex.org/C2781349506',\n",
       "    'wikidata': None,\n",
       "    'display_name': 'Information warfare',\n",
       "    'level': 2,\n",
       "    'score': 2.1816587},\n",
       "   {'id': 'https://openalex.org/C133082901',\n",
       "    'wikidata': None,\n",
       "    'display_name': 'Electronic warfare',\n",
       "    'level': 3,\n",
       "    'score': 2.1701994},\n",
       "   {'id': 'https://openalex.org/C203715995',\n",
       "    'wikidata': None,\n",
       "    'display_name': 'Asymmetric warfare',\n",
       "    'level': 3,\n",
       "    'score': 1.9257166},\n",
       "   {'id': 'https://openalex.org/C74478641',\n",
       "    'wikidata': None,\n",
       "    'display_name': 'Artillery',\n",
       "    'level': 2,\n",
       "    'score': 1.7049668},\n",
       "   {'id': 'https://openalex.org/C2780554381',\n",
       "    'wikidata': None,\n",
       "    'display_name': 'Sensemaking',\n",
       "    'level': 2,\n",
       "    'score': 1.7033174},\n",
       "   {'id': 'https://openalex.org/C191935318',\n",
       "    'wikidata': None,\n",
       "    'display_name': 'China',\n",
       "    'level': 2,\n",
       "    'score': 1.6561315},\n",
       "   {'id': 'https://openalex.org/C171769113',\n",
       "    'wikidata': None,\n",
       "    'display_name': 'Cyberwarfare',\n",
       "    'level': 2,\n",
       "    'score': 1.5589111},\n",
       "   {'id': 'https://openalex.org/C451841',\n",
       "    'wikidata': None,\n",
       "    'display_name': 'Military science',\n",
       "    'level': 2,\n",
       "    'score': 1.4628462},\n",
       "   {'id': 'https://openalex.org/C190989730',\n",
       "    'wikidata': None,\n",
       "    'display_name': 'Military tactics',\n",
       "    'level': 2,\n",
       "    'score': 1.3981977},\n",
       "   {'id': 'https://openalex.org/C87912763',\n",
       "    'wikidata': None,\n",
       "    'display_name': 'System of systems',\n",
       "    'level': 3,\n",
       "    'score': 1.2639499},\n",
       "   {'id': 'https://openalex.org/C139940560',\n",
       "    'wikidata': None,\n",
       "    'display_name': 'Network simulation',\n",
       "    'level': 2,\n",
       "    'score': 1.1376812}],\n",
       "  'counts_by_year': [{'year': 2024, 'works_count': 2, 'cited_by_count': 148},\n",
       "   {'year': 2023, 'works_count': 38, 'cited_by_count': 316},\n",
       "   {'year': 2022, 'works_count': 42, 'cited_by_count': 350},\n",
       "   {'year': 2021, 'works_count': 33, 'cited_by_count': 240},\n",
       "   {'year': 2020, 'works_count': 26, 'cited_by_count': 295},\n",
       "   {'year': 2019, 'works_count': 27, 'cited_by_count': 237},\n",
       "   {'year': 2018, 'works_count': 36, 'cited_by_count': 252},\n",
       "   {'year': 2017, 'works_count': 30, 'cited_by_count': 253},\n",
       "   {'year': 2016, 'works_count': 30, 'cited_by_count': 245},\n",
       "   {'year': 2015, 'works_count': 47, 'cited_by_count': 271},\n",
       "   {'year': 2014, 'works_count': 65, 'cited_by_count': 272},\n",
       "   {'year': 2013, 'works_count': 65, 'cited_by_count': 277},\n",
       "   {'year': 2012, 'works_count': 112, 'cited_by_count': 325}],\n",
       "  'works_api_url': 'https://api.openalex.org/works?filter=concepts.id:C2781187084',\n",
       "  'updated_date': '2024-05-12T13:52:08.831110',\n",
       "  'created_date': '2018-01-05'},\n",
       " {'id': 'https://openalex.org/C202802212',\n",
       "  'wikidata': 'https://www.wikidata.org/wiki/Q243249',\n",
       "  'display_name': 'Air-to-air missile',\n",
       "  'relevance_score': 3176.819,\n",
       "  'level': 3,\n",
       "  'description': 'guided missile designed to be carried by aircraft for attack against other aircraft',\n",
       "  'works_count': 1313,\n",
       "  'cited_by_count': 2683,\n",
       "  'summary_stats': {'2yr_mean_citedness': 0.34146341463414637,\n",
       "   'h_index': 23,\n",
       "   'i10_index': 53},\n",
       "  'ids': {'openalex': 'https://openalex.org/C202802212',\n",
       "   'wikidata': 'https://www.wikidata.org/wiki/Q243249',\n",
       "   'mag': '202802212',\n",
       "   'wikipedia': 'https://en.wikipedia.org/wiki/Air-to-air%20missile'},\n",
       "  'image_url': 'https://upload.wikimedia.org/wikipedia/commons/a/a9/Aircraft_Combat_Archer_%282565196807%29.jpg',\n",
       "  'image_thumbnail_url': 'https://upload.wikimedia.org/wikipedia/commons/thumb/a/a9/Aircraft_Combat_Archer_%282565196807%29.jpg/100px-Aircraft_Combat_Archer_%282565196807%29.jpg',\n",
       "  'international': {'display_name': {'ar': 'صاروخ جو-جو',\n",
       "    'az': 'Hava-hava raketi',\n",
       "    'be-tarask': 'ракета „паветра-паветра“',\n",
       "    'bg': 'Ракета въздух-въздух',\n",
       "    'ca': 'míssil aire-aire',\n",
       "    'cs': 'střela vzduch-vzduch',\n",
       "    'de': 'Luft-Luft-Rakete',\n",
       "    'de-ch': 'Luft-Luft-Rakete',\n",
       "    'el': 'Πύραυλος αέρος-αέρος',\n",
       "    'en': 'air-to-air missile',\n",
       "    'en-ca': 'Air-to-air missile',\n",
       "    'en-gb': 'air-to-air missile',\n",
       "    'eo': 'elaviadila-alaviadila misilo',\n",
       "    'es': 'misil aire-aire',\n",
       "    'et': 'õhk-õhk-rakett',\n",
       "    'fa': 'موشک هوابه\\u200cهوا',\n",
       "    'fi': 'Ilmataisteluohjus',\n",
       "    'fr': 'missile air-air',\n",
       "    'he': 'טיל אוויר-אוויר',\n",
       "    'hu': 'Légiharc-rakéta',\n",
       "    'id': 'Peluru kendali udara ke udara',\n",
       "    'it': 'missile aria-aria',\n",
       "    'ja': '空対空ミサイル',\n",
       "    'ka': 'ჰაერი-ჰაერი კლასის რაკეტა',\n",
       "    'kn': 'ಏರ್-ಟು-ಏರ್ ಕ್ಷಿಪಣಿ',\n",
       "    'ko': '공대공 미사일',\n",
       "    'lt': 'Raketa oras-oras',\n",
       "    'ms': 'Peluru berpandu udara ke udara',\n",
       "    'nb': 'luft-til-luft missil',\n",
       "    'nl': 'lucht-luchtraket',\n",
       "    'or': 'ବାୟୁରୁ-ବାୟୁ କ୍ଷେପଣାସ୍ତ୍ର',\n",
       "    'pl': 'Kierowany pocisk rakietowy powietrze-powietrze',\n",
       "    'pt': 'Míssil ar-ar',\n",
       "    'pt-br': 'Míssil ar-ar',\n",
       "    'ro': 'Rachetă aer-aer',\n",
       "    'ru': 'ракета «воздух-воздух»',\n",
       "    'si': 'ගුවනේදී ගුවනට විදින මිසයිල',\n",
       "    'sl': 'raketa zrak-zrak',\n",
       "    'sr': 'ракета ваздух-ваздух',\n",
       "    'sr-ec': 'ракета ваздух-ваздух',\n",
       "    'sr-el': 'raketa vazduh-vazduh',\n",
       "    'sv': 'jaktrobot',\n",
       "    'th': 'ขีปนาวุธอากาศสู่อากาศ',\n",
       "    'tr': 'Havadan havaya füze',\n",
       "    'uk': 'Ракета «повітря — повітря»',\n",
       "    'vi': 'Tên lửa không đối không',\n",
       "    'zh': '空对空导弹',\n",
       "    'zh-cn': '空对空导弹',\n",
       "    'zh-hans': '空对空导弹',\n",
       "    'zh-hant': '空對空飛彈',\n",
       "    'zh-hk': '空對空飛彈',\n",
       "    'zh-sg': '空对空导弹',\n",
       "    'zh-tw': '空對空飛彈'},\n",
       "   'description': {'ar': 'صاروخ جو-جو موجه',\n",
       "    'cs': 'naváděná střela nesená letouny pro útok proti jiným letounům',\n",
       "    'de': 'Flugkörper der als Waffe im Luftkampf eingesetzt wird',\n",
       "    'en': 'guided missile designed to be carried by aircraft for attack against other aircraft',\n",
       "    'es': 'características de un misil aire-aire o misil disparado de una aeronave a otra',\n",
       "    'et': 'lennukite kantav õhusihtmärkide tabamiseks loodud juhitav rakett',\n",
       "    'fi': 'ilma-aluksesta laukaistava ilma-aluksien torjuntaohjus',\n",
       "    'fr': 'missile tiré en vol depuis un aéronef, dans le but de détruire une cible aérienne',\n",
       "    'he': 'סוג של טיל צבאי, משמש ליירוט כלי טיס',\n",
       "    'hu': 'rakétafegyver',\n",
       "    'ja': '飛行物体に対して航空機から発射されるミサイル',\n",
       "    'kn': 'ಇತರ ವಿಮಾನದ ವಿರುದ್ಧದ ದಾಳಿಗಾಗಿ ವಿಮಾನದ ಮೂಲಕ ಸಾಗಿಸಲು ವಿನ್ಯಾಸಗೊಳಿಸಲಾದ ಮಾರ್ಗದರ್ಶಿ ಕ್ಷಿಪಣಿ',\n",
       "    'ko': '적기를 공격하기 위해 항공기에 탑재되는 미사일',\n",
       "    'ru': 'Военная ракета',\n",
       "    'sl': 'vodena raketa, ki jo nosi zrakoplov za napad na drug zrakoplov',\n",
       "    'th': 'จรวดมิสไซล์อากาศ-สู่-อากาศ',\n",
       "    'uk': 'Авіаційна ракета, призначена для ураження літальних апаратів противника у повітряному бою'}},\n",
       "  'ancestors': [{'id': 'https://openalex.org/C2778857364',\n",
       "    'wikidata': 'https://www.wikidata.org/wiki/Q974850',\n",
       "    'display_name': 'Missile',\n",
       "    'level': 2},\n",
       "   {'id': 'https://openalex.org/C146978453',\n",
       "    'wikidata': 'https://www.wikidata.org/wiki/Q3798668',\n",
       "    'display_name': 'Aerospace engineering',\n",
       "    'level': 1},\n",
       "   {'id': 'https://openalex.org/C166957645',\n",
       "    'wikidata': 'https://www.wikidata.org/wiki/Q23498',\n",
       "    'display_name': 'Archaeology',\n",
       "    'level': 1},\n",
       "   {'id': 'https://openalex.org/C127413603',\n",
       "    'wikidata': 'https://www.wikidata.org/wiki/Q11023',\n",
       "    'display_name': 'Engineering',\n",
       "    'level': 0},\n",
       "   {'id': 'https://openalex.org/C205649164',\n",
       "    'wikidata': 'https://www.wikidata.org/wiki/Q1071',\n",
       "    'display_name': 'Geography',\n",
       "    'level': 0},\n",
       "   {'id': 'https://openalex.org/C95457728',\n",
       "    'wikidata': 'https://www.wikidata.org/wiki/Q309',\n",
       "    'display_name': 'History',\n",
       "    'level': 0}],\n",
       "  'related_concepts': [{'id': 'https://openalex.org/C204323151',\n",
       "    'wikidata': None,\n",
       "    'display_name': 'Range (aeronautics)',\n",
       "    'level': 2,\n",
       "    'score': 24.07682},\n",
       "   {'id': 'https://openalex.org/C554190296',\n",
       "    'wikidata': None,\n",
       "    'display_name': 'Radar',\n",
       "    'level': 2,\n",
       "    'score': 23.700253},\n",
       "   {'id': 'https://openalex.org/C2778857364',\n",
       "    'wikidata': None,\n",
       "    'display_name': 'Missile',\n",
       "    'level': 2,\n",
       "    'score': 16.509958},\n",
       "   {'id': 'https://openalex.org/C107779570',\n",
       "    'wikidata': None,\n",
       "    'display_name': 'Wing loading',\n",
       "    'level': 4,\n",
       "    'score': 15.413181},\n",
       "   {'id': 'https://openalex.org/C17733824',\n",
       "    'wikidata': None,\n",
       "    'display_name': 'Wingspan',\n",
       "    'level': 3,\n",
       "    'score': 14.927563},\n",
       "   {'id': 'https://openalex.org/C131426668',\n",
       "    'wikidata': None,\n",
       "    'display_name': 'Electronic countermeasure',\n",
       "    'level': 3,\n",
       "    'score': 13.789397},\n",
       "   {'id': 'https://openalex.org/C2780549525',\n",
       "    'wikidata': None,\n",
       "    'display_name': 'Turbojet',\n",
       "    'level': 2,\n",
       "    'score': 11.9808},\n",
       "   {'id': 'https://openalex.org/C165231844',\n",
       "    'wikidata': None,\n",
       "    'display_name': 'Mach number',\n",
       "    'level': 2,\n",
       "    'score': 11.705923},\n",
       "   {'id': 'https://openalex.org/C15792166',\n",
       "    'wikidata': None,\n",
       "    'display_name': 'Avionics',\n",
       "    'level': 2,\n",
       "    'score': 10.431986},\n",
       "   {'id': 'https://openalex.org/C128651787',\n",
       "    'wikidata': None,\n",
       "    'display_name': 'Inertial navigation system',\n",
       "    'level': 3,\n",
       "    'score': 8.802808},\n",
       "   {'id': 'https://openalex.org/C522053795',\n",
       "    'wikidata': None,\n",
       "    'display_name': 'Missile guidance',\n",
       "    'level': 3,\n",
       "    'score': 8.712841},\n",
       "   {'id': 'https://openalex.org/C2775879734',\n",
       "    'wikidata': None,\n",
       "    'display_name': 'Thrust vectoring',\n",
       "    'level': 3,\n",
       "    'score': 6.637865},\n",
       "   {'id': 'https://openalex.org/C139931591',\n",
       "    'wikidata': None,\n",
       "    'display_name': 'Pulse-Doppler radar',\n",
       "    'level': 4,\n",
       "    'score': 5.4872527},\n",
       "   {'id': 'https://openalex.org/C67439701',\n",
       "    'wikidata': None,\n",
       "    'display_name': 'Head-up display',\n",
       "    'level': 2,\n",
       "    'score': 5.476865},\n",
       "   {'id': 'https://openalex.org/C94531399',\n",
       "    'wikidata': None,\n",
       "    'display_name': 'Delta wing',\n",
       "    'level': 3,\n",
       "    'score': 5.3953977},\n",
       "   {'id': 'https://openalex.org/C133082901',\n",
       "    'wikidata': None,\n",
       "    'display_name': 'Electronic warfare',\n",
       "    'level': 3,\n",
       "    'score': 5.3590593},\n",
       "   {'id': 'https://openalex.org/C2780746400',\n",
       "    'wikidata': None,\n",
       "    'display_name': 'Fire-control system',\n",
       "    'level': 3,\n",
       "    'score': 4.7635946},\n",
       "   {'id': 'https://openalex.org/C101457746',\n",
       "    'wikidata': None,\n",
       "    'display_name': 'Radar cross-section',\n",
       "    'level': 3,\n",
       "    'score': 4.3267107},\n",
       "   {'id': 'https://openalex.org/C182132293',\n",
       "    'wikidata': None,\n",
       "    'display_name': 'Data link',\n",
       "    'level': 2,\n",
       "    'score': 3.6154227},\n",
       "   {'id': 'https://openalex.org/C2778559676',\n",
       "    'wikidata': None,\n",
       "    'display_name': 'Doppler radar',\n",
       "    'level': 3,\n",
       "    'score': 3.2948184},\n",
       "   {'id': 'https://openalex.org/C26760657',\n",
       "    'wikidata': None,\n",
       "    'display_name': 'Radar altimeter',\n",
       "    'level': 3,\n",
       "    'score': 2.3275058},\n",
       "   {'id': 'https://openalex.org/C201004817',\n",
       "    'wikidata': None,\n",
       "    'display_name': 'Guidance system',\n",
       "    'level': 2,\n",
       "    'score': 2.1633074},\n",
       "   {'id': 'https://openalex.org/C59584813',\n",
       "    'wikidata': None,\n",
       "    'display_name': 'Continuous-wave radar',\n",
       "    'level': 4,\n",
       "    'score': 1.9114547},\n",
       "   {'id': 'https://openalex.org/C2777047555',\n",
       "    'wikidata': None,\n",
       "    'display_name': 'Terminal guidance',\n",
       "    'level': 3,\n",
       "    'score': 1.3913065},\n",
       "   {'id': 'https://openalex.org/C21593369',\n",
       "    'wikidata': None,\n",
       "    'display_name': 'Countermeasure',\n",
       "    'level': 2,\n",
       "    'score': 1.3797853},\n",
       "   {'id': 'https://openalex.org/C2778464233',\n",
       "    'wikidata': None,\n",
       "    'display_name': 'Proportional navigation',\n",
       "    'level': 3,\n",
       "    'score': 0.9321327},\n",
       "   {'id': 'https://openalex.org/C187878255',\n",
       "    'wikidata': None,\n",
       "    'display_name': 'Rocket (weapon)',\n",
       "    'level': 2,\n",
       "    'score': 0.8636583}],\n",
       "  'counts_by_year': [{'year': 2024, 'works_count': 1, 'cited_by_count': 31},\n",
       "   {'year': 2023, 'works_count': 20, 'cited_by_count': 153},\n",
       "   {'year': 2022, 'works_count': 16, 'cited_by_count': 153},\n",
       "   {'year': 2021, 'works_count': 25, 'cited_by_count': 137},\n",
       "   {'year': 2020, 'works_count': 17, 'cited_by_count': 155},\n",
       "   {'year': 2019, 'works_count': 27, 'cited_by_count': 136},\n",
       "   {'year': 2018, 'works_count': 25, 'cited_by_count': 135},\n",
       "   {'year': 2017, 'works_count': 17, 'cited_by_count': 123},\n",
       "   {'year': 2016, 'works_count': 23, 'cited_by_count': 146},\n",
       "   {'year': 2015, 'works_count': 38, 'cited_by_count': 143},\n",
       "   {'year': 2014, 'works_count': 36, 'cited_by_count': 111},\n",
       "   {'year': 2013, 'works_count': 67, 'cited_by_count': 97},\n",
       "   {'year': 2012, 'works_count': 57, 'cited_by_count': 99}],\n",
       "  'works_api_url': 'https://api.openalex.org/works?filter=concepts.id:C202802212',\n",
       "  'updated_date': '2024-05-12T10:03:47.791584',\n",
       "  'created_date': '2016-06-24'}]"
      ]
     },
     "execution_count": 95,
     "metadata": {},
     "output_type": "execute_result"
    }
   ],
   "source": [
    "jamming_concepts"
   ]
  },
  {
   "cell_type": "markdown",
   "id": "cb39f949-c88c-4a55-b48f-996a41905f4d",
   "metadata": {},
   "source": [
    "# Co-authorship Network\n",
    "\n",
    "Streamlit with pyvis: https://towardsdatascience.com/how-to-deploy-interactive-pyvis-network-graphs-on-streamlit-6c401d4c99db\n",
    "\n",
    "the data source is dftriple; let a user interactively select which type of graph , the selection of node types, to display. otherwise its just too too much.\n",
    "\n",
    "Can display works and authors; construct that first:"
   ]
  },
  {
   "cell_type": "code",
   "execution_count": 96,
   "id": "e249e15d-68e1-43e2-b9db-753f3b83b7d2",
   "metadata": {},
   "outputs": [
    {
     "data": {
      "text/plain": [
       "Index(['id', 'display_name', 'ror', 'country_code', 'type', 'lineage',\n",
       "       'paper_id', 'paper_raw_affiliation_strings', 'paper_author_position',\n",
       "       'paper_doi', 'paper_title', 'paper_abstract', 'paper_publication_date',\n",
       "       'paper_publication_year', 'paper_grants', 'paper_locations',\n",
       "       'paper_is_corrresponding', 'paper_x', 'paper_y', 'paper_cluster',\n",
       "       'paper_cluster_score', 'paper_author_id', 'paper_author_display_name',\n",
       "       'paper_author_orcid', 'source', 'source_type', 'funder_list'],\n",
       "      dtype='object')"
      ]
     },
     "execution_count": 96,
     "metadata": {},
     "output_type": "execute_result"
    }
   ],
   "source": [
    "dftriple.columns"
   ]
  },
  {
   "cell_type": "markdown",
   "id": "6032305c-7bd4-458f-8c22-12a2b13c8dd3",
   "metadata": {},
   "source": [
    "group dftriple by paper_id and get a list of all the paper_author_id values. and then from that list get all distinct subsets of two paper_author_ids. accumulate that list. and then we will haave a weighted undirected graph.\n",
    "\n",
    "file://wsl.localhost/Ubuntu/home/davidd/2023/SWITCHBOARD/switchboard-mitigations-sort/graphvizmaker.html"
   ]
  },
  {
   "cell_type": "code",
   "execution_count": 97,
   "id": "82cd229d-eef3-47a4-ba49-6cea6059f013",
   "metadata": {},
   "outputs": [],
   "source": [
    "import networkx as nx\n",
    "from pyvis.network import Network\n",
    "import igraph as ig # for getting a layout w/o relying on slow pyvis physics "
   ]
  },
  {
   "cell_type": "code",
   "execution_count": 98,
   "id": "ce0a4d2f-1e94-4cb6-bb0b-99abf641bc7a",
   "metadata": {},
   "outputs": [
    {
     "data": {
      "text/plain": [
       "Index(['id', 'display_name', 'ror', 'country_code', 'type', 'lineage',\n",
       "       'paper_id', 'paper_raw_affiliation_strings', 'paper_author_position',\n",
       "       'paper_doi', 'paper_title', 'paper_abstract', 'paper_publication_date',\n",
       "       'paper_publication_year', 'paper_grants', 'paper_locations',\n",
       "       'paper_is_corrresponding', 'paper_x', 'paper_y', 'paper_cluster',\n",
       "       'paper_cluster_score', 'paper_author_id', 'paper_author_display_name',\n",
       "       'paper_author_orcid', 'source', 'source_type', 'funder_list'],\n",
       "      dtype='object')"
      ]
     },
     "execution_count": 98,
     "metadata": {},
     "output_type": "execute_result"
    }
   ],
   "source": [
    "dftriple.columns"
   ]
  },
  {
   "cell_type": "code",
   "execution_count": 99,
   "id": "ea2fc412-af81-4a85-80d2-ef06ca133214",
   "metadata": {},
   "outputs": [
    {
     "data": {
      "text/plain": [
       "Index(['x', 'y', 'id', 'title', 'doi', 'cluster', 'probability',\n",
       "       'publication_date', 'grants', 'locations', 'keywords', 'top_concepts',\n",
       "       'affil_list', 'authors_list', 'wrapped_affil_list', 'author_list',\n",
       "       'wrapped_author_list', 'wrapped_keywords', 'source', 'source_type'],\n",
       "      dtype='object')"
      ]
     },
     "execution_count": 99,
     "metadata": {},
     "output_type": "execute_result"
    }
   ],
   "source": [
    "dfinfo.columns"
   ]
  },
  {
   "cell_type": "code",
   "execution_count": 100,
   "id": "129e3b88-c7b8-4797-9027-704f3bcad4dc",
   "metadata": {},
   "outputs": [],
   "source": [
    "dfinfo[\"funder_list\"] = dfinfo[\"grants\"].apply(get_funder_names)\n",
    "dfinfo[\"wrapped_funder_list\"] = dfinfo[\"funder_list\"].apply(str).apply(wrap_it)"
   ]
  },
  {
   "cell_type": "code",
   "execution_count": 101,
   "id": "69672b72-2600-4a7a-b5af-ce79406c318b",
   "metadata": {},
   "outputs": [],
   "source": [
    "dfinfo.to_pickle('updatejammingdfinfo2d.pkl')"
   ]
  },
  {
   "cell_type": "code",
   "execution_count": 102,
   "id": "8a91d075-2d45-40e2-99fa-972d4a422542",
   "metadata": {},
   "outputs": [
    {
     "data": {
      "text/html": [
       "<div>\n",
       "<style scoped>\n",
       "    .dataframe tbody tr th:only-of-type {\n",
       "        vertical-align: middle;\n",
       "    }\n",
       "\n",
       "    .dataframe tbody tr th {\n",
       "        vertical-align: top;\n",
       "    }\n",
       "\n",
       "    .dataframe thead th {\n",
       "        text-align: right;\n",
       "    }\n",
       "</style>\n",
       "<table border=\"1\" class=\"dataframe\">\n",
       "  <thead>\n",
       "    <tr style=\"text-align: right;\">\n",
       "      <th></th>\n",
       "      <th>id</th>\n",
       "      <th>keywords</th>\n",
       "      <th>wrapped_keywords</th>\n",
       "      <th>wrapped_funder_list</th>\n",
       "    </tr>\n",
       "    <tr>\n",
       "      <th>id</th>\n",
       "      <th></th>\n",
       "      <th></th>\n",
       "      <th></th>\n",
       "      <th></th>\n",
       "    </tr>\n",
       "  </thead>\n",
       "  <tbody>\n",
       "    <tr>\n",
       "      <th>https://openalex.org/W1517236425</th>\n",
       "      <td>https://openalex.org/W1517236425</td>\n",
       "      <td>[Robot Manipulators, Neural network controller...</td>\n",
       "      <td>['Robot Manipulators', 'Neural network&lt;br&gt;cont...</td>\n",
       "      <td>[]</td>\n",
       "    </tr>\n",
       "    <tr>\n",
       "      <th>https://openalex.org/W2740675802</th>\n",
       "      <td>https://openalex.org/W2740675802</td>\n",
       "      <td>[Time-Varying Output Constraints, Output Const...</td>\n",
       "      <td>['Time-Varying Output Constraints',&lt;br&gt;'Output...</td>\n",
       "      <td>['Royal Society', 'National Key Research&lt;br&gt;an...</td>\n",
       "    </tr>\n",
       "    <tr>\n",
       "      <th>https://openalex.org/W2418767125</th>\n",
       "      <td>https://openalex.org/W2418767125</td>\n",
       "      <td>[Flexible Robotic Manipulator, Flexible Roboti...</td>\n",
       "      <td>['Flexible Robotic Manipulator',&lt;br&gt;'Flexible ...</td>\n",
       "      <td>['National Natural Science Foundation of&lt;br&gt;Ch...</td>\n",
       "    </tr>\n",
       "    <tr>\n",
       "      <th>https://openalex.org/W2901112449</th>\n",
       "      <td>https://openalex.org/W2901112449</td>\n",
       "      <td>[Soft Robotic Manipulators, Soft Robotic, Mode...</td>\n",
       "      <td>['Soft Robotic Manipulators', 'Soft&lt;br&gt;Robotic...</td>\n",
       "      <td>[]</td>\n",
       "    </tr>\n",
       "    <tr>\n",
       "      <th>https://openalex.org/W2792852625</th>\n",
       "      <td>https://openalex.org/W2792852625</td>\n",
       "      <td>[neural networks, neural, Robot manipulators, ...</td>\n",
       "      <td>['neural networks', 'neural', 'Robot&lt;br&gt;manipu...</td>\n",
       "      <td>['Hong Kong Polytechnic University',&lt;br&gt;'Natio...</td>\n",
       "    </tr>\n",
       "  </tbody>\n",
       "</table>\n",
       "</div>"
      ],
      "text/plain": [
       "                                                                id  \\\n",
       "id                                                                   \n",
       "https://openalex.org/W1517236425  https://openalex.org/W1517236425   \n",
       "https://openalex.org/W2740675802  https://openalex.org/W2740675802   \n",
       "https://openalex.org/W2418767125  https://openalex.org/W2418767125   \n",
       "https://openalex.org/W2901112449  https://openalex.org/W2901112449   \n",
       "https://openalex.org/W2792852625  https://openalex.org/W2792852625   \n",
       "\n",
       "                                                                           keywords  \\\n",
       "id                                                                                    \n",
       "https://openalex.org/W1517236425  [Robot Manipulators, Neural network controller...   \n",
       "https://openalex.org/W2740675802  [Time-Varying Output Constraints, Output Const...   \n",
       "https://openalex.org/W2418767125  [Flexible Robotic Manipulator, Flexible Roboti...   \n",
       "https://openalex.org/W2901112449  [Soft Robotic Manipulators, Soft Robotic, Mode...   \n",
       "https://openalex.org/W2792852625  [neural networks, neural, Robot manipulators, ...   \n",
       "\n",
       "                                                                   wrapped_keywords  \\\n",
       "id                                                                                    \n",
       "https://openalex.org/W1517236425  ['Robot Manipulators', 'Neural network<br>cont...   \n",
       "https://openalex.org/W2740675802  ['Time-Varying Output Constraints',<br>'Output...   \n",
       "https://openalex.org/W2418767125  ['Flexible Robotic Manipulator',<br>'Flexible ...   \n",
       "https://openalex.org/W2901112449  ['Soft Robotic Manipulators', 'Soft<br>Robotic...   \n",
       "https://openalex.org/W2792852625  ['neural networks', 'neural', 'Robot<br>manipu...   \n",
       "\n",
       "                                                                wrapped_funder_list  \n",
       "id                                                                                   \n",
       "https://openalex.org/W1517236425                                                 []  \n",
       "https://openalex.org/W2740675802  ['Royal Society', 'National Key Research<br>an...  \n",
       "https://openalex.org/W2418767125  ['National Natural Science Foundation of<br>Ch...  \n",
       "https://openalex.org/W2901112449                                                 []  \n",
       "https://openalex.org/W2792852625  ['Hong Kong Polytechnic University',<br>'Natio...  "
      ]
     },
     "execution_count": 102,
     "metadata": {},
     "output_type": "execute_result"
    }
   ],
   "source": [
    "dfinfo[['id','keywords','wrapped_keywords','wrapped_funder_list']].head()"
   ]
  },
  {
   "cell_type": "code",
   "execution_count": 103,
   "id": "1277559b-c304-4550-be33-864893cbe990",
   "metadata": {},
   "outputs": [],
   "source": [
    "kw_dict = dfinfo['keywords'].to_dict()"
   ]
  },
  {
   "cell_type": "code",
   "execution_count": 104,
   "id": "6b4ba612-eca2-4cc8-b771-6bc42a3dde03",
   "metadata": {},
   "outputs": [
    {
     "data": {
      "text/html": [
       "<div>\n",
       "<style scoped>\n",
       "    .dataframe tbody tr th:only-of-type {\n",
       "        vertical-align: middle;\n",
       "    }\n",
       "\n",
       "    .dataframe tbody tr th {\n",
       "        vertical-align: top;\n",
       "    }\n",
       "\n",
       "    .dataframe thead th {\n",
       "        text-align: right;\n",
       "    }\n",
       "</style>\n",
       "<table border=\"1\" class=\"dataframe\">\n",
       "  <thead>\n",
       "    <tr style=\"text-align: right;\">\n",
       "      <th></th>\n",
       "      <th>source</th>\n",
       "      <th>source_type</th>\n",
       "    </tr>\n",
       "  </thead>\n",
       "  <tbody>\n",
       "    <tr>\n",
       "      <th>0</th>\n",
       "      <td>IEEE transactions on cybernetics</td>\n",
       "      <td>journal</td>\n",
       "    </tr>\n",
       "    <tr>\n",
       "      <th>1</th>\n",
       "      <td>IEEE transactions on cybernetics</td>\n",
       "      <td>journal</td>\n",
       "    </tr>\n",
       "    <tr>\n",
       "      <th>2</th>\n",
       "      <td>IEEE transactions on cybernetics</td>\n",
       "      <td>journal</td>\n",
       "    </tr>\n",
       "    <tr>\n",
       "      <th>3</th>\n",
       "      <td>IEEE transactions on systems, man, and cyberne...</td>\n",
       "      <td>journal</td>\n",
       "    </tr>\n",
       "    <tr>\n",
       "      <th>4</th>\n",
       "      <td>IEEE transactions on systems, man, and cyberne...</td>\n",
       "      <td>journal</td>\n",
       "    </tr>\n",
       "  </tbody>\n",
       "</table>\n",
       "</div>"
      ],
      "text/plain": [
       "                                              source source_type\n",
       "0                   IEEE transactions on cybernetics     journal\n",
       "1                   IEEE transactions on cybernetics     journal\n",
       "2                   IEEE transactions on cybernetics     journal\n",
       "3  IEEE transactions on systems, man, and cyberne...     journal\n",
       "4  IEEE transactions on systems, man, and cyberne...     journal"
      ]
     },
     "execution_count": 104,
     "metadata": {},
     "output_type": "execute_result"
    }
   ],
   "source": [
    "dftriple[['source','source_type']].head()"
   ]
  },
  {
   "cell_type": "code",
   "execution_count": 105,
   "id": "1d9b7ef3-b8f4-4457-a3ff-fa0e5c726a3b",
   "metadata": {},
   "outputs": [
    {
     "data": {
      "text/html": [
       "<div>\n",
       "<style scoped>\n",
       "    .dataframe tbody tr th:only-of-type {\n",
       "        vertical-align: middle;\n",
       "    }\n",
       "\n",
       "    .dataframe tbody tr th {\n",
       "        vertical-align: top;\n",
       "    }\n",
       "\n",
       "    .dataframe thead th {\n",
       "        text-align: right;\n",
       "    }\n",
       "</style>\n",
       "<table border=\"1\" class=\"dataframe\">\n",
       "  <thead>\n",
       "    <tr style=\"text-align: right;\">\n",
       "      <th></th>\n",
       "      <th>id</th>\n",
       "      <th>display_name</th>\n",
       "      <th>ror</th>\n",
       "      <th>country_code</th>\n",
       "      <th>type</th>\n",
       "      <th>lineage</th>\n",
       "      <th>paper_id</th>\n",
       "      <th>paper_raw_affiliation_strings</th>\n",
       "      <th>paper_author_position</th>\n",
       "      <th>paper_doi</th>\n",
       "      <th>...</th>\n",
       "      <th>paper_x</th>\n",
       "      <th>paper_y</th>\n",
       "      <th>paper_cluster</th>\n",
       "      <th>paper_cluster_score</th>\n",
       "      <th>paper_author_id</th>\n",
       "      <th>paper_author_display_name</th>\n",
       "      <th>paper_author_orcid</th>\n",
       "      <th>source</th>\n",
       "      <th>source_type</th>\n",
       "      <th>funder_list</th>\n",
       "    </tr>\n",
       "  </thead>\n",
       "  <tbody>\n",
       "    <tr>\n",
       "      <th>0</th>\n",
       "      <td>https://openalex.org/I92403157</td>\n",
       "      <td>University of Science and Technology Beijing</td>\n",
       "      <td>https://ror.org/02egmk993</td>\n",
       "      <td>CN</td>\n",
       "      <td>education</td>\n",
       "      <td>[https://openalex.org/I92403157]</td>\n",
       "      <td>https://openalex.org/W2740675802</td>\n",
       "      <td>[Ministry of Education, Key Laboratory of Know...</td>\n",
       "      <td>first</td>\n",
       "      <td>https://doi.org/10.1109/tcyb.2017.2711961</td>\n",
       "      <td>...</td>\n",
       "      <td>16.461128</td>\n",
       "      <td>-3.442048</td>\n",
       "      <td>1</td>\n",
       "      <td>1.0</td>\n",
       "      <td>https://openalex.org/A5022113595</td>\n",
       "      <td>Wei He</td>\n",
       "      <td>https://orcid.org/0000-0002-8944-9861</td>\n",
       "      <td>IEEE transactions on cybernetics</td>\n",
       "      <td>journal</td>\n",
       "      <td>[Royal Society, National Key Research and Deve...</td>\n",
       "    </tr>\n",
       "    <tr>\n",
       "      <th>1</th>\n",
       "      <td>https://openalex.org/I92403157</td>\n",
       "      <td>University of Science and Technology Beijing</td>\n",
       "      <td>https://ror.org/02egmk993</td>\n",
       "      <td>CN</td>\n",
       "      <td>education</td>\n",
       "      <td>[https://openalex.org/I92403157]</td>\n",
       "      <td>https://openalex.org/W2740675802</td>\n",
       "      <td>[Ministry of Education, Key Laboratory of Know...</td>\n",
       "      <td>middle</td>\n",
       "      <td>https://doi.org/10.1109/tcyb.2017.2711961</td>\n",
       "      <td>...</td>\n",
       "      <td>16.461128</td>\n",
       "      <td>-3.442048</td>\n",
       "      <td>1</td>\n",
       "      <td>1.0</td>\n",
       "      <td>https://openalex.org/A5055142075</td>\n",
       "      <td>Haifeng Huang</td>\n",
       "      <td>https://orcid.org/0000-0002-1615-3779</td>\n",
       "      <td>IEEE transactions on cybernetics</td>\n",
       "      <td>journal</td>\n",
       "      <td>[Royal Society, National Key Research and Deve...</td>\n",
       "    </tr>\n",
       "    <tr>\n",
       "      <th>2</th>\n",
       "      <td>https://openalex.org/I165932596</td>\n",
       "      <td>National University of Singapore</td>\n",
       "      <td>https://ror.org/01tgyzw49</td>\n",
       "      <td>SG</td>\n",
       "      <td>education</td>\n",
       "      <td>[https://openalex.org/I165932596]</td>\n",
       "      <td>https://openalex.org/W2740675802</td>\n",
       "      <td>[Department of Electrical and Computer Enginee...</td>\n",
       "      <td>last</td>\n",
       "      <td>https://doi.org/10.1109/tcyb.2017.2711961</td>\n",
       "      <td>...</td>\n",
       "      <td>16.461128</td>\n",
       "      <td>-3.442048</td>\n",
       "      <td>1</td>\n",
       "      <td>1.0</td>\n",
       "      <td>https://openalex.org/A5069702292</td>\n",
       "      <td>Shuzhi Sam Ge</td>\n",
       "      <td>None</td>\n",
       "      <td>IEEE transactions on cybernetics</td>\n",
       "      <td>journal</td>\n",
       "      <td>[Royal Society, National Key Research and Deve...</td>\n",
       "    </tr>\n",
       "    <tr>\n",
       "      <th>3</th>\n",
       "      <td>https://openalex.org/I76569877</td>\n",
       "      <td>Southeast University</td>\n",
       "      <td>https://ror.org/04ct4d772</td>\n",
       "      <td>CN</td>\n",
       "      <td>education</td>\n",
       "      <td>[https://openalex.org/I76569877]</td>\n",
       "      <td>https://openalex.org/W2418767125</td>\n",
       "      <td>[School of Automation, Southeast University, N...</td>\n",
       "      <td>first</td>\n",
       "      <td>https://doi.org/10.1109/tsmc.2016.2562506</td>\n",
       "      <td>...</td>\n",
       "      <td>16.109781</td>\n",
       "      <td>-3.55134</td>\n",
       "      <td>1</td>\n",
       "      <td>1.0</td>\n",
       "      <td>https://openalex.org/A5019248683</td>\n",
       "      <td>Changyin Sun</td>\n",
       "      <td>https://orcid.org/0000-0001-9269-334X</td>\n",
       "      <td>IEEE transactions on systems, man, and cyberne...</td>\n",
       "      <td>journal</td>\n",
       "      <td>[National Natural Science Foundation of China]</td>\n",
       "    </tr>\n",
       "    <tr>\n",
       "      <th>4</th>\n",
       "      <td>https://openalex.org/I92403157</td>\n",
       "      <td>University of Science and Technology Beijing</td>\n",
       "      <td>https://ror.org/02egmk993</td>\n",
       "      <td>CN</td>\n",
       "      <td>education</td>\n",
       "      <td>[https://openalex.org/I92403157]</td>\n",
       "      <td>https://openalex.org/W2418767125</td>\n",
       "      <td>[School of Automation and Electrical Engineeri...</td>\n",
       "      <td>middle</td>\n",
       "      <td>https://doi.org/10.1109/tsmc.2016.2562506</td>\n",
       "      <td>...</td>\n",
       "      <td>16.109781</td>\n",
       "      <td>-3.55134</td>\n",
       "      <td>1</td>\n",
       "      <td>1.0</td>\n",
       "      <td>https://openalex.org/A5061536058</td>\n",
       "      <td>Wei He</td>\n",
       "      <td>https://orcid.org/0000-0001-8321-8256</td>\n",
       "      <td>IEEE transactions on systems, man, and cyberne...</td>\n",
       "      <td>journal</td>\n",
       "      <td>[National Natural Science Foundation of China]</td>\n",
       "    </tr>\n",
       "  </tbody>\n",
       "</table>\n",
       "<p>5 rows × 27 columns</p>\n",
       "</div>"
      ],
      "text/plain": [
       "                                id  \\\n",
       "0   https://openalex.org/I92403157   \n",
       "1   https://openalex.org/I92403157   \n",
       "2  https://openalex.org/I165932596   \n",
       "3   https://openalex.org/I76569877   \n",
       "4   https://openalex.org/I92403157   \n",
       "\n",
       "                                   display_name                        ror  \\\n",
       "0  University of Science and Technology Beijing  https://ror.org/02egmk993   \n",
       "1  University of Science and Technology Beijing  https://ror.org/02egmk993   \n",
       "2              National University of Singapore  https://ror.org/01tgyzw49   \n",
       "3                          Southeast University  https://ror.org/04ct4d772   \n",
       "4  University of Science and Technology Beijing  https://ror.org/02egmk993   \n",
       "\n",
       "  country_code       type                            lineage  \\\n",
       "0           CN  education   [https://openalex.org/I92403157]   \n",
       "1           CN  education   [https://openalex.org/I92403157]   \n",
       "2           SG  education  [https://openalex.org/I165932596]   \n",
       "3           CN  education   [https://openalex.org/I76569877]   \n",
       "4           CN  education   [https://openalex.org/I92403157]   \n",
       "\n",
       "                           paper_id  \\\n",
       "0  https://openalex.org/W2740675802   \n",
       "1  https://openalex.org/W2740675802   \n",
       "2  https://openalex.org/W2740675802   \n",
       "3  https://openalex.org/W2418767125   \n",
       "4  https://openalex.org/W2418767125   \n",
       "\n",
       "                       paper_raw_affiliation_strings paper_author_position  \\\n",
       "0  [Ministry of Education, Key Laboratory of Know...                 first   \n",
       "1  [Ministry of Education, Key Laboratory of Know...                middle   \n",
       "2  [Department of Electrical and Computer Enginee...                  last   \n",
       "3  [School of Automation, Southeast University, N...                 first   \n",
       "4  [School of Automation and Electrical Engineeri...                middle   \n",
       "\n",
       "                                   paper_doi  ...    paper_x   paper_y  \\\n",
       "0  https://doi.org/10.1109/tcyb.2017.2711961  ...  16.461128 -3.442048   \n",
       "1  https://doi.org/10.1109/tcyb.2017.2711961  ...  16.461128 -3.442048   \n",
       "2  https://doi.org/10.1109/tcyb.2017.2711961  ...  16.461128 -3.442048   \n",
       "3  https://doi.org/10.1109/tsmc.2016.2562506  ...  16.109781  -3.55134   \n",
       "4  https://doi.org/10.1109/tsmc.2016.2562506  ...  16.109781  -3.55134   \n",
       "\n",
       "  paper_cluster paper_cluster_score                   paper_author_id  \\\n",
       "0             1                 1.0  https://openalex.org/A5022113595   \n",
       "1             1                 1.0  https://openalex.org/A5055142075   \n",
       "2             1                 1.0  https://openalex.org/A5069702292   \n",
       "3             1                 1.0  https://openalex.org/A5019248683   \n",
       "4             1                 1.0  https://openalex.org/A5061536058   \n",
       "\n",
       "  paper_author_display_name                     paper_author_orcid  \\\n",
       "0                    Wei He  https://orcid.org/0000-0002-8944-9861   \n",
       "1             Haifeng Huang  https://orcid.org/0000-0002-1615-3779   \n",
       "2             Shuzhi Sam Ge                                   None   \n",
       "3              Changyin Sun  https://orcid.org/0000-0001-9269-334X   \n",
       "4                    Wei He  https://orcid.org/0000-0001-8321-8256   \n",
       "\n",
       "                                              source source_type  \\\n",
       "0                   IEEE transactions on cybernetics     journal   \n",
       "1                   IEEE transactions on cybernetics     journal   \n",
       "2                   IEEE transactions on cybernetics     journal   \n",
       "3  IEEE transactions on systems, man, and cyberne...     journal   \n",
       "4  IEEE transactions on systems, man, and cyberne...     journal   \n",
       "\n",
       "                                         funder_list  \n",
       "0  [Royal Society, National Key Research and Deve...  \n",
       "1  [Royal Society, National Key Research and Deve...  \n",
       "2  [Royal Society, National Key Research and Deve...  \n",
       "3     [National Natural Science Foundation of China]  \n",
       "4     [National Natural Science Foundation of China]  \n",
       "\n",
       "[5 rows x 27 columns]"
      ]
     },
     "execution_count": 105,
     "metadata": {},
     "output_type": "execute_result"
    }
   ],
   "source": [
    "dftriple.head()"
   ]
  },
  {
   "cell_type": "code",
   "execution_count": 106,
   "id": "0e0d6e15-938f-42f3-aeef-6c48d398b97c",
   "metadata": {},
   "outputs": [
    {
     "data": {
      "text/plain": [
       "(153, 27)"
      ]
     },
     "execution_count": 106,
     "metadata": {},
     "output_type": "execute_result"
    }
   ],
   "source": [
    "dc = dftriple[dftriple['paper_cluster'] == 10].copy()\n",
    "dc.shape"
   ]
  },
  {
   "cell_type": "code",
   "execution_count": 107,
   "id": "4adf497d-787c-42dc-ac71-70c1fbd309e6",
   "metadata": {},
   "outputs": [
    {
     "data": {
      "text/plain": [
       "['National Natural Science Foundation of China',\n",
       " 'National Natural Science Foundation of China',\n",
       " 'National Natural Science Foundation of China',\n",
       " 'National Natural Science Foundation of China',\n",
       " 'National Natural Science Foundation of China',\n",
       " 'National Natural Science Foundation of China',\n",
       " 'National Natural Science Foundation of China',\n",
       " 'Fundamental Research Funds for the Central Universities',\n",
       " 'National Natural Science Foundation of China',\n",
       " 'Fundamental Research Funds for the Central Universities',\n",
       " 'National Natural Science Foundation of China',\n",
       " 'Fundamental Research Funds for the Central Universities',\n",
       " 'National Natural Science Foundation of China',\n",
       " 'Fundamental Research Funds for the Central Universities',\n",
       " 'National Natural Science Foundation of China',\n",
       " 'Fundamental Research Funds for the Central Universities',\n",
       " 'National Natural Science Foundation of China',\n",
       " 'Fundamental Research Funds for the Central Universities',\n",
       " 'National Natural Science Foundation of China',\n",
       " 'Fundamental Research Funds for the Central Universities',\n",
       " 'National Natural Science Foundation of China',\n",
       " 'Fundamental Research Funds for the Central Universities',\n",
       " 'National Natural Science Foundation of China',\n",
       " 'Fundamental Research Funds for the Central Universities',\n",
       " 'National Natural Science Foundation of China',\n",
       " 'Fundamental Research Funds for the Central Universities',\n",
       " 'National Natural Science Foundation of China',\n",
       " 'Fundamental Research Funds for the Central Universities',\n",
       " 'National Natural Science Foundation of China',\n",
       " 'National Natural Science Foundation of China',\n",
       " 'National Natural Science Foundation of China',\n",
       " 'National Natural Science Foundation of China',\n",
       " 'National Natural Science Foundation of China',\n",
       " 'Engineering and Physical Sciences Research Council',\n",
       " 'National Natural Science Foundation of China',\n",
       " 'Engineering and Physical Sciences Research Council',\n",
       " 'National Natural Science Foundation of China',\n",
       " 'Engineering and Physical Sciences Research Council',\n",
       " 'National Natural Science Foundation of China',\n",
       " 'Engineering and Physical Sciences Research Council',\n",
       " 'National Natural Science Foundation of China',\n",
       " 'Engineering and Physical Sciences Research Council',\n",
       " 'National Natural Science Foundation of China',\n",
       " 'Engineering and Physical Sciences Research Council',\n",
       " 'National Natural Science Foundation of China',\n",
       " 'Engineering and Physical Sciences Research Council',\n",
       " 'National Natural Science Foundation of China',\n",
       " 'Engineering and Physical Sciences Research Council',\n",
       " 'National Natural Science Foundation of China',\n",
       " 'Engineering and Physical Sciences Research Council',\n",
       " 'National Natural Science Foundation of China',\n",
       " 'National Natural Science Foundation of China',\n",
       " 'National Natural Science Foundation of China',\n",
       " 'National Natural Science Foundation of China',\n",
       " 'National Natural Science Foundation of China',\n",
       " 'National Natural Science Foundation of China',\n",
       " 'Shanghai Aerospace Science and Technology Innovation Foundation',\n",
       " 'National Natural Science Foundation of China',\n",
       " 'Shanghai Aerospace Science and Technology Innovation Foundation',\n",
       " 'National Natural Science Foundation of China',\n",
       " 'Shanghai Aerospace Science and Technology Innovation Foundation',\n",
       " 'National Natural Science Foundation of China',\n",
       " 'Shanghai Aerospace Science and Technology Innovation Foundation',\n",
       " 'National Natural Science Foundation of China',\n",
       " 'Shanghai Aerospace Science and Technology Innovation Foundation',\n",
       " 'National Natural Science Foundation of China',\n",
       " 'Shanghai Aerospace Science and Technology Innovation Foundation',\n",
       " 'National Natural Science Foundation of China',\n",
       " 'National Natural Science Foundation of China',\n",
       " 'National Natural Science Foundation of China',\n",
       " 'National Natural Science Foundation of China',\n",
       " 'National Natural Science Foundation of China',\n",
       " 'National Natural Science Foundation of China',\n",
       " 'National Natural Science Foundation of China',\n",
       " 'Fundamental Research Funds for the Central Universities',\n",
       " 'National Natural Science Foundation of China',\n",
       " 'Fundamental Research Funds for the Central Universities',\n",
       " 'National Natural Science Foundation of China',\n",
       " 'Fundamental Research Funds for the Central Universities',\n",
       " 'National Natural Science Foundation of China',\n",
       " 'Fundamental Research Funds for the Central Universities',\n",
       " 'National Natural Science Foundation of China',\n",
       " 'Fundamental Research Funds for the Central Universities',\n",
       " 'National Natural Science Foundation of China',\n",
       " 'National Natural Science Foundation of China',\n",
       " 'National Natural Science Foundation of China',\n",
       " 'National Natural Science Foundation of China',\n",
       " 'National Natural Science Foundation of China',\n",
       " 'National Natural Science Foundation of China',\n",
       " 'National Natural Science Foundation of China',\n",
       " 'National Natural Science Foundation of China',\n",
       " 'National Natural Science Foundation of China',\n",
       " 'National Natural Science Foundation of China',\n",
       " 'National Natural Science Foundation of China',\n",
       " 'National Natural Science Foundation of China',\n",
       " 'Engineering and Physical Sciences Research Council',\n",
       " 'Engineering and Physical Sciences Research Council',\n",
       " 'Engineering and Physical Sciences Research Council',\n",
       " 'Engineering and Physical Sciences Research Council',\n",
       " 'Engineering and Physical Sciences Research Council',\n",
       " 'National Natural Science Foundation of China',\n",
       " 'National Natural Science Foundation of China',\n",
       " 'National Natural Science Foundation of China',\n",
       " 'National Natural Science Foundation of China',\n",
       " 'National Natural Science Foundation of China',\n",
       " 'National Natural Science Foundation of China',\n",
       " 'National Natural Science Foundation of China',\n",
       " 'National Natural Science Foundation of China',\n",
       " 'National Natural Science Foundation of China',\n",
       " 'National Natural Science Foundation of China',\n",
       " 'National Natural Science Foundation of China',\n",
       " 'National Natural Science Foundation of China',\n",
       " 'National Natural Science Foundation of China',\n",
       " 'National Natural Science Foundation of China',\n",
       " 'National Natural Science Foundation of China',\n",
       " 'National Natural Science Foundation of China',\n",
       " 'National Natural Science Foundation of China',\n",
       " 'National Natural Science Foundation of China',\n",
       " 'National Natural Science Foundation of China',\n",
       " 'National Natural Science Foundation of China',\n",
       " 'Army Research Laboratory',\n",
       " 'Army Research Laboratory',\n",
       " 'Army Research Laboratory',\n",
       " 'Army Research Laboratory',\n",
       " 'Army Research Laboratory',\n",
       " 'Army Research Laboratory',\n",
       " 'Army Research Laboratory',\n",
       " 'National Natural Science Foundation of China',\n",
       " 'National Natural Science Foundation of China',\n",
       " 'National Natural Science Foundation of China',\n",
       " 'National Natural Science Foundation of China',\n",
       " 'National Natural Science Foundation of China',\n",
       " 'National Natural Science Foundation of China',\n",
       " 'National Natural Science Foundation of China',\n",
       " 'National Natural Science Foundation of China',\n",
       " 'National Natural Science Foundation of China',\n",
       " 'National Natural Science Foundation of China',\n",
       " 'National Natural Science Foundation of China']"
      ]
     },
     "execution_count": 107,
     "metadata": {},
     "output_type": "execute_result"
    }
   ],
   "source": [
    "[x for row in dc['funder_list'].tolist() for x in row]"
   ]
  },
  {
   "cell_type": "code",
   "execution_count": 108,
   "id": "63c4712e-617b-48bf-a96d-9cd502bf6bd0",
   "metadata": {},
   "outputs": [
    {
     "data": {
      "text/plain": [
       "[]                                                                                                         22394\n",
       "[National Natural Science Foundation of China]                                                              3841\n",
       "[U.S. Department of Energy]                                                                                  359\n",
       "[National Natural Science Foundation of China, Fundamental Research Funds for the Central Universities]      215\n",
       "[China Postdoctoral Science Foundation, National Natural Science Foundation of China]                        206\n",
       "Name: funder_list, dtype: int64"
      ]
     },
     "execution_count": 108,
     "metadata": {},
     "output_type": "execute_result"
    }
   ],
   "source": [
    "dftriple['funder_list'].value_counts().head()"
   ]
  },
  {
   "cell_type": "code",
   "execution_count": 109,
   "id": "3a9f2b89-d78a-43a2-8e79-193268904c9c",
   "metadata": {},
   "outputs": [],
   "source": [
    "kw_dict = dfinfo['keywords'].to_dict()\n",
    "\n",
    "# add in the affiliations as nodes as well; that row, author, paper, affil. all three get links. ok.\n",
    "def create_nx_graph(df: pd.DataFrame, cl:int) -> nx.Graph:\n",
    "    \"\"\"\n",
    "    takes the dataframe df, and creates the undirected graph\n",
    "    from the source and target columns for each row.\n",
    "    \"\"\"\n",
    "    g = nx.Graph() # dc['paper_cluster'] == cl\n",
    "    dc = df[df['paper_cluster'] == cl]\n",
    "    author_counts = dc['paper_author_id'].tolist()\n",
    "    author_counts_dict = {c:author_counts.count(c) for c in author_counts}\n",
    "    affiliation_counts = dc['id'].tolist()\n",
    "    affiliation_counts_dict = {c:affiliation_counts.count(c) for c in affiliation_counts}\n",
    "    source_counts = dc['source'].tolist()\n",
    "    source_counts_dict = {c:source_counts.count(c) for c in source_counts}\n",
    "    funder_counts = [x for row in dc['funder_list'].tolist() for x in row]\n",
    "    funder_counts_dict = {c:funder_counts.count(c) for c in funder_counts}\n",
    "    for index, row in df[df['paper_cluster'] == cl].iterrows():\n",
    "        g.add_node(row['paper_id'], group='work', title=row['paper_title'])\n",
    "        g.add_node(row['paper_author_id'], title=row['paper_author_display_name'],\n",
    "                   group='author',value = author_counts_dict[row['paper_author_id']])\n",
    "        g.add_node(row['id'], group='affiliation',\n",
    "                   title=row['display_name'] + '\\n' + row['country_code'],\n",
    "                  value = affiliation_counts_dict[row['id']])\n",
    "        if row['source']:\n",
    "            g.add_node(row['source'], group=row['source_type'],\n",
    "                      title=row['source'] + ' :\\n ' + row['source_type'],\n",
    "                      value=source_counts_dict[row['source']])\n",
    "            g.add_edge(\n",
    "                row['paper_id'],\n",
    "                row['source'],\n",
    "                title=row['paper_title'] + ' :\\n ' + str(row['paper_publication_date']) +  \\\n",
    "                ' :\\n' + row['source'] + ' :\\n ' + \\\n",
    "                row['source_type'],\n",
    "              #  weight = df[(df['paper_id'] == row['paper_id']) & \\\n",
    "              #              (df['source'] == row['source'])]['paper_cluster_score'].sum()\n",
    "               # weight = row['paper_cluster_score']\n",
    "            )\n",
    "            g.add_edge(\n",
    "                row['paper_author_id'],\n",
    "                row['source'],\n",
    "                title=row['paper_author_display_name'] + ':\\n' + row['source'],\n",
    "             #   weight = df[(df['paper_author_id'] == row['paper_author_id']) & \\\n",
    "              #              (df['source'] == row['source'])]['paper_cluster_score'].sum()\n",
    "               # weight = row['paper_cluster_score']\n",
    "            )\n",
    "        if len(row['funder_list']) > 0:\n",
    "            for f in row['funder_list']:\n",
    "                g.add_node(f, group='funder',\n",
    "                          title=str(f),\n",
    "                          value = founder_counts_dict[f]),\n",
    "                g.add_edge(\n",
    "                       row['paper_id'],\n",
    "                       f,\n",
    "                       title=row['paper_title'] + ':\\n ' +  str(row['paper_publication_date']) + \\\n",
    "                       ' :\\n' + str(f),\n",
    "                  #  weight = row['paper_cluster_score']\n",
    "                   )\n",
    "                g.add_edge(\n",
    "                       f,\n",
    "                       row['paper_author_id'],\n",
    "                       title=row['paper_author_display_name'] + ' :\\n ' + \\\n",
    "                       str(f),\n",
    "                  #  weight = row['paper_cluster_score']\n",
    "                       \n",
    "                   )\n",
    "                g.add_edge(\n",
    "                       f,\n",
    "                       row['id'],\n",
    "                       title=row['display_name'] + '\\n' + row['country_code'] + ' :\\n ' + \\\n",
    "                       str(f)  ,\n",
    "                  #  weight = row['paper_cluster_score']\n",
    "                   )  \n",
    "                if row[\"source\"]:\n",
    "                    g.add_edge(\n",
    "                        f,\n",
    "                        row[\"source\"],\n",
    "                        title=row[\"source\"] + ' :\\n' + str(f),\n",
    "                     #   weight = row['paper_cluster_score']\n",
    "                    )\n",
    "        g.nodes[row['paper_id']]['title'] = (\n",
    "            row['paper_title'] + ' :\\n ' + str(row['paper_publication_date'] + ':\\n' + \n",
    "            '\\n'.join(kw_dict[row['paper_id']]))\n",
    "        )\n",
    "        g.nodes[row['paper_author_id']]['title'] = (\n",
    "            row['paper_author_display_name']\n",
    "        )\n",
    "        g.add_edge(\n",
    "            row['paper_id'],\n",
    "            row['paper_author_id'],\n",
    "        title=row['paper_title'] + ' :\\n ' + row['paper_author_display_name'] + ' :\\n ' + \\\n",
    "            row['paper_raw_affiliation_string'],\n",
    "         #   weight = row['paper_cluster_score']\n",
    "        )\n",
    "        g.add_edge(\n",
    "            row['paper_author_id'],\n",
    "            row['id'],\n",
    "            title=row['paper_author_display_name'] + ' :\\n ' + \\\n",
    "            row['display_name'] + ' :\\n ' + row['country_code'],\n",
    "          #  weight = row['paper_cluster_score']\n",
    "        )\n",
    "        g.add_edge(\n",
    "            row['paper_id'],\n",
    "            row['id'],\n",
    "            title=row['paper_title'] + ' :\\n ' + str(row['paper_publication_date']) + ':\\n' + \n",
    "            row['display_name'] + ' :\\n ' + row['country_code'],\n",
    "         #   weight = row['paper_cluster_score']\n",
    "        )\n",
    "        \n",
    "    g_ig = ig.Graph.from_networkx(g) # assign 'x', and 'y' to g before returning\n",
    "    #layout = g_ig.layout_auto()\n",
    "    #layout = g_ig.layout_davidson_harel()\n",
    "    layout = g_ig.layout_umap(min_dist = 2, epochs = 500)\n",
    "    # https://igraph.org/python/tutorial/0.9.6/visualisation.html\n",
    "    coords = layout.coords\n",
    "    allnodes = list(g.nodes())\n",
    "    coords_dict = {allnodes[i]:(coords[i][0], coords[i][1]) for i in range(len(allnodes))}\n",
    "    for i in g.nodes():\n",
    "        g.nodes[i]['x'] = 250 * coords_dict[i][0] # the scale factor needed \n",
    "        g.nodes[i]['y'] = 250 * coords_dict[i][1]\n",
    "    return g\n",
    "                "
   ]
  },
  {
   "cell_type": "code",
   "execution_count": 110,
   "id": "34a3a3a2-2fb5-49e4-8ae3-56d6cf715ae3",
   "metadata": {},
   "outputs": [],
   "source": [
    "def create_pyvis_html(cl: int, filename: str = \"pyvis_coauthorships_graph.html\"):\n",
    "    \"\"\"\n",
    "    wrapper function that calls create_nx_graph to finally \n",
    "    produce an interactive pyvis standalone html file\n",
    "    \"\"\"\n",
    "    g_nx = create_nx_graph(dftriple, cl);\n",
    "    h = Network(height=\"1000px\",\n",
    "          #  heading=\"Mitigations and Techniques Relationships\",\n",
    "                width=\"100%\",\n",
    "                cdn_resources=\"remote\", # can grab the visjs library to make this local if needed\n",
    "            # probably should\n",
    "                bgcolor=\"#222222\",\n",
    "            neighborhood_highlight=True,\n",
    "              # default_node_size=1,\n",
    "                font_color=\"white\",\n",
    "                directed=False,\n",
    "               # select_menu=True,\n",
    "                filter_menu=True,\n",
    "                notebook=False,\n",
    "               )\n",
    "    #h.repulsion()\n",
    "    h.from_nx(g_nx, show_edge_weights=False)\n",
    "    #h.barnes_hut()\n",
    "    #h.repulsion(node_distance=40,\n",
    "    #            central_gravity=-0.2, spring_length=5, spring_strength=0.005, damping=0.09)\n",
    "    neighbor_map = h.get_adj_list()\n",
    "   # for node in h.nodes:\n",
    "   #     if node['group'] == 'author':\n",
    "   #         a = list(neighbor_map[node[\"id\"]]) # want to insert a \"\\n\" into every third element of a\n",
    "   #     if node['group'] == 'work':\n",
    "   #         a = list(neighbor_map[node[\"id\"]])\n",
    "   #     i = 3\n",
    "   #     while i < len(a):\n",
    "   #         a.insert(i, \"\\n\")\n",
    "   #         i += 4\n",
    "   #     node[\"title\"] += \"\\n Neighbors: \\n\" + \" | \".join(a)\n",
    "   #     node[\"value\"] = len(neighbor_map[node[\"id\"]]) \n",
    "# \"physics\": {\n",
    "#    \"enabled\": false\n",
    "#  },\n",
    "    h.set_options(\n",
    "    \"\"\"\n",
    "const options = {\n",
    "  \"interaction\": {\n",
    "    \"navigationButtons\": false\n",
    "  },\n",
    " \"physics\": {\n",
    "     \"enabled\": false\n",
    " },\n",
    "  \"edges\": {\n",
    "    \"color\": {\n",
    "        \"inherit\": true\n",
    "    },\n",
    "    \"setReferenceSize\": null,\n",
    "    \"setReference\": {\n",
    "        \"angle\": 0.7853981633974483\n",
    "    },\n",
    "    \"smooth\": {\n",
    "        \"forceDirection\": \"none\"\n",
    "    }\n",
    "  }\n",
    "  }\n",
    "    \"\"\"\n",
    "    )\n",
    "    #h.show_buttons(filter_=['physics'])\n",
    "  #  h.barnes_hut()\n",
    "    #h.repulsion()\n",
    "    try:\n",
    "        path = './tmp'\n",
    "        h.save_graph(f\"{path}/{filename}\")\n",
    "        HtmlFile = open(f\"{path}/{filename}\",\"r\",\n",
    "                        encoding='utf-8')\n",
    "    except:\n",
    "        h.save_graph(f\"{filename}\")\n",
    "        HtmlFile = open(f\"{filename}\", \"r\",\n",
    "                        encoding=\"utf-8\")\n",
    "    return h"
   ]
  },
  {
   "cell_type": "code",
   "execution_count": 111,
   "id": "391af594-1806-40ea-a0ea-cd9df50845af",
   "metadata": {},
   "outputs": [
    {
     "data": {
      "text/plain": [
       "(9301, 22)"
      ]
     },
     "execution_count": 111,
     "metadata": {},
     "output_type": "execute_result"
    }
   ],
   "source": [
    "dfinfo.shape"
   ]
  },
  {
   "cell_type": "code",
   "execution_count": 112,
   "id": "d2b45792-dffc-448e-8aed-bbf062c7f51c",
   "metadata": {},
   "outputs": [
    {
     "data": {
      "text/plain": [
       "Index(['x', 'y', 'id', 'title', 'doi', 'cluster', 'probability',\n",
       "       'publication_date', 'grants', 'locations', 'keywords', 'top_concepts',\n",
       "       'affil_list', 'authors_list', 'wrapped_affil_list', 'author_list',\n",
       "       'wrapped_author_list', 'wrapped_keywords', 'source', 'source_type',\n",
       "       'funder_list', 'wrapped_funder_list'],\n",
       "      dtype='object')"
      ]
     },
     "execution_count": 112,
     "metadata": {},
     "output_type": "execute_result"
    }
   ],
   "source": [
    "dfinfo.columns"
   ]
  },
  {
   "cell_type": "code",
   "execution_count": 113,
   "id": "a217a9a4-9560-4253-b947-7856d4842560",
   "metadata": {},
   "outputs": [
    {
     "data": {
      "text/html": [
       "<div>\n",
       "<style scoped>\n",
       "    .dataframe tbody tr th:only-of-type {\n",
       "        vertical-align: middle;\n",
       "    }\n",
       "\n",
       "    .dataframe tbody tr th {\n",
       "        vertical-align: top;\n",
       "    }\n",
       "\n",
       "    .dataframe thead th {\n",
       "        text-align: right;\n",
       "    }\n",
       "</style>\n",
       "<table border=\"1\" class=\"dataframe\">\n",
       "  <thead>\n",
       "    <tr style=\"text-align: right;\">\n",
       "      <th></th>\n",
       "      <th>author_list</th>\n",
       "      <th>authors_list</th>\n",
       "    </tr>\n",
       "    <tr>\n",
       "      <th>id</th>\n",
       "      <th></th>\n",
       "      <th></th>\n",
       "    </tr>\n",
       "  </thead>\n",
       "  <tbody>\n",
       "    <tr>\n",
       "      <th>https://openalex.org/W1517236425</th>\n",
       "      <td>NaN</td>\n",
       "      <td>NaN</td>\n",
       "    </tr>\n",
       "    <tr>\n",
       "      <th>https://openalex.org/W2740675802</th>\n",
       "      <td>[Wei He, Haifeng Huang, Shuzhi Sam Ge]</td>\n",
       "      <td>[Wei He, Haifeng Huang, Shuzhi Sam Ge]</td>\n",
       "    </tr>\n",
       "    <tr>\n",
       "      <th>https://openalex.org/W2418767125</th>\n",
       "      <td>[Changyin Sun, Wei He, Jin‐Woo Hong]</td>\n",
       "      <td>[Changyin Sun, Wei He, Jin‐Woo Hong]</td>\n",
       "    </tr>\n",
       "    <tr>\n",
       "      <th>https://openalex.org/W2901112449</th>\n",
       "      <td>[Thomas George Thuruthel, Egidio Falotico, Fed...</td>\n",
       "      <td>[Thomas George Thuruthel, Egidio Falotico, Fed...</td>\n",
       "    </tr>\n",
       "    <tr>\n",
       "      <th>https://openalex.org/W2792852625</th>\n",
       "      <td>[Long Jin, Shuai Li, Jiguo Yu, Jinbo He]</td>\n",
       "      <td>[Long Jin, Shuai Li, Jiguo Yu, Jinbo He]</td>\n",
       "    </tr>\n",
       "  </tbody>\n",
       "</table>\n",
       "</div>"
      ],
      "text/plain": [
       "                                                                        author_list  \\\n",
       "id                                                                                    \n",
       "https://openalex.org/W1517236425                                                NaN   \n",
       "https://openalex.org/W2740675802             [Wei He, Haifeng Huang, Shuzhi Sam Ge]   \n",
       "https://openalex.org/W2418767125               [Changyin Sun, Wei He, Jin‐Woo Hong]   \n",
       "https://openalex.org/W2901112449  [Thomas George Thuruthel, Egidio Falotico, Fed...   \n",
       "https://openalex.org/W2792852625           [Long Jin, Shuai Li, Jiguo Yu, Jinbo He]   \n",
       "\n",
       "                                                                       authors_list  \n",
       "id                                                                                   \n",
       "https://openalex.org/W1517236425                                                NaN  \n",
       "https://openalex.org/W2740675802             [Wei He, Haifeng Huang, Shuzhi Sam Ge]  \n",
       "https://openalex.org/W2418767125               [Changyin Sun, Wei He, Jin‐Woo Hong]  \n",
       "https://openalex.org/W2901112449  [Thomas George Thuruthel, Egidio Falotico, Fed...  \n",
       "https://openalex.org/W2792852625           [Long Jin, Shuai Li, Jiguo Yu, Jinbo He]  "
      ]
     },
     "execution_count": 113,
     "metadata": {},
     "output_type": "execute_result"
    }
   ],
   "source": [
    "dfinfo[['author_list','authors_list']].head()"
   ]
  },
  {
   "cell_type": "code",
   "execution_count": 114,
   "id": "4accbdcf-1b90-4e64-8ece-1766238ac59b",
   "metadata": {},
   "outputs": [],
   "source": [
    "del dfinfo['authors_list']"
   ]
  },
  {
   "cell_type": "code",
   "execution_count": 115,
   "id": "312443e9-a395-49d1-ad6e-e4913bbfe138",
   "metadata": {},
   "outputs": [
    {
     "data": {
      "text/plain": [
       "(9301, 21)"
      ]
     },
     "execution_count": 115,
     "metadata": {},
     "output_type": "execute_result"
    }
   ],
   "source": [
    "dfinfo.shape"
   ]
  },
  {
   "cell_type": "code",
   "execution_count": 116,
   "id": "9395416a-0052-4f18-8242-810571d4d920",
   "metadata": {},
   "outputs": [
    {
     "data": {
      "text/html": [
       "<div>\n",
       "<style scoped>\n",
       "    .dataframe tbody tr th:only-of-type {\n",
       "        vertical-align: middle;\n",
       "    }\n",
       "\n",
       "    .dataframe tbody tr th {\n",
       "        vertical-align: top;\n",
       "    }\n",
       "\n",
       "    .dataframe thead th {\n",
       "        text-align: right;\n",
       "    }\n",
       "</style>\n",
       "<table border=\"1\" class=\"dataframe\">\n",
       "  <thead>\n",
       "    <tr style=\"text-align: right;\">\n",
       "      <th></th>\n",
       "      <th>cluster</th>\n",
       "      <th>probability</th>\n",
       "      <th>publication_date</th>\n",
       "    </tr>\n",
       "    <tr>\n",
       "      <th>id</th>\n",
       "      <th></th>\n",
       "      <th></th>\n",
       "      <th></th>\n",
       "    </tr>\n",
       "  </thead>\n",
       "  <tbody>\n",
       "    <tr>\n",
       "      <th>https://openalex.org/W1517236425</th>\n",
       "      <td>1</td>\n",
       "      <td>1.0</td>\n",
       "      <td>2020-08-13</td>\n",
       "    </tr>\n",
       "    <tr>\n",
       "      <th>https://openalex.org/W2740675802</th>\n",
       "      <td>1</td>\n",
       "      <td>1.0</td>\n",
       "      <td>2017-10-01</td>\n",
       "    </tr>\n",
       "    <tr>\n",
       "      <th>https://openalex.org/W2418767125</th>\n",
       "      <td>1</td>\n",
       "      <td>1.0</td>\n",
       "      <td>2017-08-01</td>\n",
       "    </tr>\n",
       "    <tr>\n",
       "      <th>https://openalex.org/W2901112449</th>\n",
       "      <td>1</td>\n",
       "      <td>1.0</td>\n",
       "      <td>2019-02-01</td>\n",
       "    </tr>\n",
       "    <tr>\n",
       "      <th>https://openalex.org/W2792852625</th>\n",
       "      <td>1</td>\n",
       "      <td>1.0</td>\n",
       "      <td>2018-04-01</td>\n",
       "    </tr>\n",
       "  </tbody>\n",
       "</table>\n",
       "</div>"
      ],
      "text/plain": [
       "                                  cluster  probability publication_date\n",
       "id                                                                     \n",
       "https://openalex.org/W1517236425        1          1.0       2020-08-13\n",
       "https://openalex.org/W2740675802        1          1.0       2017-10-01\n",
       "https://openalex.org/W2418767125        1          1.0       2017-08-01\n",
       "https://openalex.org/W2901112449        1          1.0       2019-02-01\n",
       "https://openalex.org/W2792852625        1          1.0       2018-04-01"
      ]
     },
     "execution_count": 116,
     "metadata": {},
     "output_type": "execute_result"
    }
   ],
   "source": [
    "dfinfo[['cluster','probability','publication_date']].head()"
   ]
  },
  {
   "cell_type": "code",
   "execution_count": 117,
   "id": "8981ab56-cd3c-4c5c-ba15-96c31ebb5307",
   "metadata": {},
   "outputs": [],
   "source": [
    "dftime = dfinfo[['cluster','probability','publication_date']].copy()"
   ]
  },
  {
   "cell_type": "code",
   "execution_count": 118,
   "id": "c967b910-3a91-4936-bcde-dc2fda92b0c2",
   "metadata": {},
   "outputs": [],
   "source": [
    "dftime['publication_datetime'] = pd.to_datetime(dftime['publication_date'])"
   ]
  },
  {
   "cell_type": "code",
   "execution_count": 119,
   "id": "8f3bad48-4df2-4c8f-b3ef-609079a00a12",
   "metadata": {},
   "outputs": [
    {
     "data": {
      "text/html": [
       "<div>\n",
       "<style scoped>\n",
       "    .dataframe tbody tr th:only-of-type {\n",
       "        vertical-align: middle;\n",
       "    }\n",
       "\n",
       "    .dataframe tbody tr th {\n",
       "        vertical-align: top;\n",
       "    }\n",
       "\n",
       "    .dataframe thead th {\n",
       "        text-align: right;\n",
       "    }\n",
       "</style>\n",
       "<table border=\"1\" class=\"dataframe\">\n",
       "  <thead>\n",
       "    <tr style=\"text-align: right;\">\n",
       "      <th></th>\n",
       "      <th>cluster</th>\n",
       "      <th>probability</th>\n",
       "      <th>publication_date</th>\n",
       "      <th>publication_datetime</th>\n",
       "    </tr>\n",
       "    <tr>\n",
       "      <th>id</th>\n",
       "      <th></th>\n",
       "      <th></th>\n",
       "      <th></th>\n",
       "      <th></th>\n",
       "    </tr>\n",
       "  </thead>\n",
       "  <tbody>\n",
       "    <tr>\n",
       "      <th>https://openalex.org/W1517236425</th>\n",
       "      <td>1</td>\n",
       "      <td>1.0</td>\n",
       "      <td>2020-08-13</td>\n",
       "      <td>2020-08-13</td>\n",
       "    </tr>\n",
       "    <tr>\n",
       "      <th>https://openalex.org/W2740675802</th>\n",
       "      <td>1</td>\n",
       "      <td>1.0</td>\n",
       "      <td>2017-10-01</td>\n",
       "      <td>2017-10-01</td>\n",
       "    </tr>\n",
       "    <tr>\n",
       "      <th>https://openalex.org/W2418767125</th>\n",
       "      <td>1</td>\n",
       "      <td>1.0</td>\n",
       "      <td>2017-08-01</td>\n",
       "      <td>2017-08-01</td>\n",
       "    </tr>\n",
       "    <tr>\n",
       "      <th>https://openalex.org/W2901112449</th>\n",
       "      <td>1</td>\n",
       "      <td>1.0</td>\n",
       "      <td>2019-02-01</td>\n",
       "      <td>2019-02-01</td>\n",
       "    </tr>\n",
       "    <tr>\n",
       "      <th>https://openalex.org/W2792852625</th>\n",
       "      <td>1</td>\n",
       "      <td>1.0</td>\n",
       "      <td>2018-04-01</td>\n",
       "      <td>2018-04-01</td>\n",
       "    </tr>\n",
       "  </tbody>\n",
       "</table>\n",
       "</div>"
      ],
      "text/plain": [
       "                                  cluster  probability publication_date  \\\n",
       "id                                                                        \n",
       "https://openalex.org/W1517236425        1          1.0       2020-08-13   \n",
       "https://openalex.org/W2740675802        1          1.0       2017-10-01   \n",
       "https://openalex.org/W2418767125        1          1.0       2017-08-01   \n",
       "https://openalex.org/W2901112449        1          1.0       2019-02-01   \n",
       "https://openalex.org/W2792852625        1          1.0       2018-04-01   \n",
       "\n",
       "                                 publication_datetime  \n",
       "id                                                     \n",
       "https://openalex.org/W1517236425           2020-08-13  \n",
       "https://openalex.org/W2740675802           2017-10-01  \n",
       "https://openalex.org/W2418767125           2017-08-01  \n",
       "https://openalex.org/W2901112449           2019-02-01  \n",
       "https://openalex.org/W2792852625           2018-04-01  "
      ]
     },
     "execution_count": 119,
     "metadata": {},
     "output_type": "execute_result"
    }
   ],
   "source": [
    "dftime.head()"
   ]
  },
  {
   "cell_type": "code",
   "execution_count": 120,
   "id": "3c1a3fb3-9c13-47b5-835c-4162d63b706f",
   "metadata": {},
   "outputs": [],
   "source": [
    "def get_time_series(dg, cl:int):\n",
    "    \"\"\"\n",
    "    takes dg and the cluster number cl\n",
    "    and returns a time series chart\n",
    "    by month, y-axis is the article count\n",
    "    \"\"\"\n",
    "    dftime = dg[dg.cluster == cl][['cluster','probability','publication_date']].copy()\n",
    "    dftime['date'] = pd.to_datetime(dftime['publication_date'])\n",
    "    dftime.sort_values('date', inplace=True)\n",
    "    #by_month = pd.to_datetime(dftime['date']).dt.to_period('M').value_counts().sort_index()\n",
    "    #by_month.index = pd.PeriodIndex(by_month.index)\n",
    "    #df_month = by_month.rename_axis('month').reset_index(name='counts')\n",
    "    return dftime"
   ]
  },
  {
   "cell_type": "code",
   "execution_count": 121,
   "id": "dd8c4f85-e510-4c6e-82b1-3d4239a54304",
   "metadata": {},
   "outputs": [
    {
     "data": {
      "text/plain": [
       " 1     1898\n",
       "-1     1509\n",
       " 11    1409\n",
       " 61     396\n",
       " 39     353\n",
       "Name: cluster, dtype: int64"
      ]
     },
     "execution_count": 121,
     "metadata": {},
     "output_type": "execute_result"
    }
   ],
   "source": [
    "dfinfo.cluster.value_counts().head()"
   ]
  },
  {
   "cell_type": "code",
   "execution_count": 122,
   "id": "e8d7cd39-bf5c-4891-8c8a-f77cf4653b25",
   "metadata": {},
   "outputs": [
    {
     "data": {
      "text/html": [
       "<div>\n",
       "<style scoped>\n",
       "    .dataframe tbody tr th:only-of-type {\n",
       "        vertical-align: middle;\n",
       "    }\n",
       "\n",
       "    .dataframe tbody tr th {\n",
       "        vertical-align: top;\n",
       "    }\n",
       "\n",
       "    .dataframe thead th {\n",
       "        text-align: right;\n",
       "    }\n",
       "</style>\n",
       "<table border=\"1\" class=\"dataframe\">\n",
       "  <thead>\n",
       "    <tr style=\"text-align: right;\">\n",
       "      <th></th>\n",
       "      <th>cluster</th>\n",
       "      <th>probability</th>\n",
       "      <th>publication_date</th>\n",
       "      <th>date</th>\n",
       "    </tr>\n",
       "    <tr>\n",
       "      <th>id</th>\n",
       "      <th></th>\n",
       "      <th></th>\n",
       "      <th></th>\n",
       "      <th></th>\n",
       "    </tr>\n",
       "  </thead>\n",
       "  <tbody>\n",
       "    <tr>\n",
       "      <th>https://openalex.org/W3185963990</th>\n",
       "      <td>12</td>\n",
       "      <td>0.148192</td>\n",
       "      <td>2017-03-31</td>\n",
       "      <td>2017-03-31</td>\n",
       "    </tr>\n",
       "    <tr>\n",
       "      <th>https://openalex.org/W4312408816</th>\n",
       "      <td>12</td>\n",
       "      <td>1.000000</td>\n",
       "      <td>2017-04-10</td>\n",
       "      <td>2017-04-10</td>\n",
       "    </tr>\n",
       "    <tr>\n",
       "      <th>https://openalex.org/W2762530402</th>\n",
       "      <td>12</td>\n",
       "      <td>1.000000</td>\n",
       "      <td>2017-07-03</td>\n",
       "      <td>2017-07-03</td>\n",
       "    </tr>\n",
       "    <tr>\n",
       "      <th>https://openalex.org/W2786347723</th>\n",
       "      <td>12</td>\n",
       "      <td>1.000000</td>\n",
       "      <td>2018-02-15</td>\n",
       "      <td>2018-02-15</td>\n",
       "    </tr>\n",
       "    <tr>\n",
       "      <th>https://openalex.org/W2914873355</th>\n",
       "      <td>12</td>\n",
       "      <td>1.000000</td>\n",
       "      <td>2018-09-02</td>\n",
       "      <td>2018-09-02</td>\n",
       "    </tr>\n",
       "  </tbody>\n",
       "</table>\n",
       "</div>"
      ],
      "text/plain": [
       "                                  cluster  probability publication_date  \\\n",
       "id                                                                        \n",
       "https://openalex.org/W3185963990       12     0.148192       2017-03-31   \n",
       "https://openalex.org/W4312408816       12     1.000000       2017-04-10   \n",
       "https://openalex.org/W2762530402       12     1.000000       2017-07-03   \n",
       "https://openalex.org/W2786347723       12     1.000000       2018-02-15   \n",
       "https://openalex.org/W2914873355       12     1.000000       2018-09-02   \n",
       "\n",
       "                                       date  \n",
       "id                                           \n",
       "https://openalex.org/W3185963990 2017-03-31  \n",
       "https://openalex.org/W4312408816 2017-04-10  \n",
       "https://openalex.org/W2762530402 2017-07-03  \n",
       "https://openalex.org/W2786347723 2018-02-15  \n",
       "https://openalex.org/W2914873355 2018-09-02  "
      ]
     },
     "execution_count": 122,
     "metadata": {},
     "output_type": "execute_result"
    }
   ],
   "source": [
    "df_month_21 = get_time_series(dfinfo, 12)\n",
    "df_month_21.head()"
   ]
  },
  {
   "cell_type": "code",
   "execution_count": 123,
   "id": "7cbfc9fe-0499-483a-8503-2e7ae040367e",
   "metadata": {},
   "outputs": [],
   "source": [
    "import altair as alt\n",
    "#alt.data_transformers.enable(\"data_server\")"
   ]
  },
  {
   "cell_type": "code",
   "execution_count": 124,
   "id": "5ef4fddd-0d5a-45b0-b2b4-0a80056567f4",
   "metadata": {},
   "outputs": [
    {
     "data": {
      "text/html": [
       "\n",
       "<style>\n",
       "  #altair-viz-ed56eec4233a477da275894880c25138.vega-embed {\n",
       "    width: 100%;\n",
       "    display: flex;\n",
       "  }\n",
       "\n",
       "  #altair-viz-ed56eec4233a477da275894880c25138.vega-embed details,\n",
       "  #altair-viz-ed56eec4233a477da275894880c25138.vega-embed details summary {\n",
       "    position: relative;\n",
       "  }\n",
       "</style>\n",
       "<div id=\"altair-viz-ed56eec4233a477da275894880c25138\"></div>\n",
       "<script type=\"text/javascript\">\n",
       "  var VEGA_DEBUG = (typeof VEGA_DEBUG == \"undefined\") ? {} : VEGA_DEBUG;\n",
       "  (function(spec, embedOpt){\n",
       "    let outputDiv = document.currentScript.previousElementSibling;\n",
       "    if (outputDiv.id !== \"altair-viz-ed56eec4233a477da275894880c25138\") {\n",
       "      outputDiv = document.getElementById(\"altair-viz-ed56eec4233a477da275894880c25138\");\n",
       "    }\n",
       "    const paths = {\n",
       "      \"vega\": \"https://cdn.jsdelivr.net/npm/vega@5?noext\",\n",
       "      \"vega-lib\": \"https://cdn.jsdelivr.net/npm/vega-lib?noext\",\n",
       "      \"vega-lite\": \"https://cdn.jsdelivr.net/npm/vega-lite@5.16.3?noext\",\n",
       "      \"vega-embed\": \"https://cdn.jsdelivr.net/npm/vega-embed@6?noext\",\n",
       "    };\n",
       "\n",
       "    function maybeLoadScript(lib, version) {\n",
       "      var key = `${lib.replace(\"-\", \"\")}_version`;\n",
       "      return (VEGA_DEBUG[key] == version) ?\n",
       "        Promise.resolve(paths[lib]) :\n",
       "        new Promise(function(resolve, reject) {\n",
       "          var s = document.createElement('script');\n",
       "          document.getElementsByTagName(\"head\")[0].appendChild(s);\n",
       "          s.async = true;\n",
       "          s.onload = () => {\n",
       "            VEGA_DEBUG[key] = version;\n",
       "            return resolve(paths[lib]);\n",
       "          };\n",
       "          s.onerror = () => reject(`Error loading script: ${paths[lib]}`);\n",
       "          s.src = paths[lib];\n",
       "        });\n",
       "    }\n",
       "\n",
       "    function showError(err) {\n",
       "      outputDiv.innerHTML = `<div class=\"error\" style=\"color:red;\">${err}</div>`;\n",
       "      throw err;\n",
       "    }\n",
       "\n",
       "    function displayChart(vegaEmbed) {\n",
       "      vegaEmbed(outputDiv, spec, embedOpt)\n",
       "        .catch(err => showError(`Javascript Error: ${err.message}<br>This usually means there's a typo in your chart specification. See the javascript console for the full traceback.`));\n",
       "    }\n",
       "\n",
       "    if(typeof define === \"function\" && define.amd) {\n",
       "      requirejs.config({paths});\n",
       "      require([\"vega-embed\"], displayChart, err => showError(`Error loading script: ${err.message}`));\n",
       "    } else {\n",
       "      maybeLoadScript(\"vega\", \"5\")\n",
       "        .then(() => maybeLoadScript(\"vega-lite\", \"5.16.3\"))\n",
       "        .then(() => maybeLoadScript(\"vega-embed\", \"6\"))\n",
       "        .catch(showError)\n",
       "        .then(() => displayChart(vegaEmbed));\n",
       "    }\n",
       "  })({\"config\": {\"view\": {\"continuousWidth\": 300, \"continuousHeight\": 300}}, \"data\": {\"name\": \"data-d39d67212eeb1efec9439b0909a7ebd0\"}, \"mark\": {\"type\": \"line\"}, \"encoding\": {\"color\": {\"field\": \"key\", \"type\": \"nominal\"}, \"x\": {\"field\": \"date\", \"timeUnit\": \"yearmonth\", \"type\": \"temporal\"}, \"y\": {\"aggregate\": \"sum\", \"field\": \"value\", \"type\": \"quantitative\"}}, \"transform\": [{\"fold\": [\"probability\"]}], \"$schema\": \"https://vega.github.io/schema/vega-lite/v5.16.3.json\", \"datasets\": {\"data-d39d67212eeb1efec9439b0909a7ebd0\": [{\"cluster\": 12, \"probability\": 0.14819203844296977, \"publication_date\": \"2017-03-31\", \"date\": \"2017-03-31T00:00:00\"}, {\"cluster\": 12, \"probability\": 1.0, \"publication_date\": \"2017-04-10\", \"date\": \"2017-04-10T00:00:00\"}, {\"cluster\": 12, \"probability\": 1.0, \"publication_date\": \"2017-07-03\", \"date\": \"2017-07-03T00:00:00\"}, {\"cluster\": 12, \"probability\": 1.0, \"publication_date\": \"2018-02-15\", \"date\": \"2018-02-15T00:00:00\"}, {\"cluster\": 12, \"probability\": 1.0, \"publication_date\": \"2018-09-02\", \"date\": \"2018-09-02T00:00:00\"}, {\"cluster\": 12, \"probability\": 0.803025875396647, \"publication_date\": \"2018-10-01\", \"date\": \"2018-10-01T00:00:00\"}, {\"cluster\": 12, \"probability\": 1.0, \"publication_date\": \"2019-01-01\", \"date\": \"2019-01-01T00:00:00\"}, {\"cluster\": 12, \"probability\": 0.44108668358766506, \"publication_date\": \"2019-01-01\", \"date\": \"2019-01-01T00:00:00\"}, {\"cluster\": 12, \"probability\": 1.0, \"publication_date\": \"2019-01-02\", \"date\": \"2019-01-02T00:00:00\"}, {\"cluster\": 12, \"probability\": 0.8617028550412271, \"publication_date\": \"2019-02-01\", \"date\": \"2019-02-01T00:00:00\"}, {\"cluster\": 12, \"probability\": 0.5311756476552448, \"publication_date\": \"2019-09-02\", \"date\": \"2019-09-02T00:00:00\"}, {\"cluster\": 12, \"probability\": 1.0, \"publication_date\": \"2019-09-02\", \"date\": \"2019-09-02T00:00:00\"}, {\"cluster\": 12, \"probability\": 0.6348307534113559, \"publication_date\": \"2019-09-03\", \"date\": \"2019-09-03T00:00:00\"}, {\"cluster\": 12, \"probability\": 1.0, \"publication_date\": \"2019-12-31\", \"date\": \"2019-12-31T00:00:00\"}, {\"cluster\": 12, \"probability\": 0.2270523148903138, \"publication_date\": \"2020-06-30\", \"date\": \"2020-06-30T00:00:00\"}, {\"cluster\": 12, \"probability\": 0.719020214201464, \"publication_date\": \"2020-11-01\", \"date\": \"2020-11-01T00:00:00\"}, {\"cluster\": 12, \"probability\": 1.0, \"publication_date\": \"2021-04-17\", \"date\": \"2021-04-17T00:00:00\"}, {\"cluster\": 12, \"probability\": 0.649225129677612, \"publication_date\": \"2021-08-04\", \"date\": \"2021-08-04T00:00:00\"}, {\"cluster\": 12, \"probability\": 1.0, \"publication_date\": \"2021-08-30\", \"date\": \"2021-08-30T00:00:00\"}, {\"cluster\": 12, \"probability\": 0.8572327427156405, \"publication_date\": \"2021-12-24\", \"date\": \"2021-12-24T00:00:00\"}, {\"cluster\": 12, \"probability\": 1.0, \"publication_date\": \"2022-04-25\", \"date\": \"2022-04-25T00:00:00\"}, {\"cluster\": 12, \"probability\": 1.0, \"publication_date\": \"2022-12-30\", \"date\": \"2022-12-30T00:00:00\"}, {\"cluster\": 12, \"probability\": 1.0, \"publication_date\": \"2023-01-02\", \"date\": \"2023-01-02T00:00:00\"}, {\"cluster\": 12, \"probability\": 1.0, \"publication_date\": \"2023-05-11\", \"date\": \"2023-05-11T00:00:00\"}, {\"cluster\": 12, \"probability\": 1.0, \"publication_date\": \"2023-05-19\", \"date\": \"2023-05-19T00:00:00\"}, {\"cluster\": 12, \"probability\": 0.45939099088830737, \"publication_date\": \"2023-06-30\", \"date\": \"2023-06-30T00:00:00\"}, {\"cluster\": 12, \"probability\": 0.19171673029255704, \"publication_date\": \"2023-12-31\", \"date\": \"2023-12-31T00:00:00\"}]}}, {\"mode\": \"vega-lite\"});\n",
       "</script>"
      ],
      "text/plain": [
       "alt.Chart(...)"
      ]
     },
     "execution_count": 124,
     "metadata": {},
     "output_type": "execute_result"
    }
   ],
   "source": [
    "alt.Chart(df_month_21).mark_line().transform_fold(\n",
    "    ['probability']\n",
    ").encode(\n",
    "    x = 'yearmonth(date):T',\n",
    "    y = 'sum(value):Q',\n",
    "    color='key:N'\n",
    ")"
   ]
  },
  {
   "cell_type": "code",
   "execution_count": 125,
   "id": "6684629b-4b42-43bf-a927-04923c49178a",
   "metadata": {},
   "outputs": [
    {
     "data": {
      "text/plain": [
       "(list, 1337)"
      ]
     },
     "execution_count": 125,
     "metadata": {},
     "output_type": "execute_result"
    }
   ],
   "source": [
    "sources_list = dftriple['source'].unique().tolist()\n",
    "type(sources_list), len(sources_list)"
   ]
  },
  {
   "cell_type": "code",
   "execution_count": 126,
   "id": "ede1a48e-a88e-4eaf-b060-a1f75fd5d341",
   "metadata": {},
   "outputs": [
    {
     "data": {
      "text/plain": [
       "{'id': 'https://openalex.org/S108764191',\n",
       " 'issn_l': '1759-7137',\n",
       " 'issn': ['1759-7137', '1759-7145'],\n",
       " 'display_name': 'Journal of screenwriting',\n",
       " 'host_organization': 'https://openalex.org/P4310311755',\n",
       " 'host_organization_name': 'Intellect',\n",
       " 'host_organization_lineage': ['https://openalex.org/P4310311755'],\n",
       " 'works_count': 380,\n",
       " 'cited_by_count': 916,\n",
       " 'summary_stats': {'2yr_mean_citedness': 0.3088235294117647,\n",
       "  'h_index': 14,\n",
       "  'i10_index': 25},\n",
       " 'is_oa': False,\n",
       " 'is_in_doaj': False,\n",
       " 'ids': {'openalex': 'https://openalex.org/S108764191',\n",
       "  'issn_l': '1759-7137',\n",
       "  'issn': ['1759-7137', '1759-7145'],\n",
       "  'mag': '108764191',\n",
       "  'wikidata': 'https://www.wikidata.org/entity/Q61678276'},\n",
       " 'homepage_url': 'http://www.intellectbooks.co.uk/journals/view-Journal,id=182',\n",
       " 'apc_prices': None,\n",
       " 'apc_usd': None,\n",
       " 'country_code': 'GB',\n",
       " 'societies': [],\n",
       " 'alternate_titles': ['JOSC'],\n",
       " 'abbreviated_title': None,\n",
       " 'type': 'journal',\n",
       " 'topics': [{'id': 'https://openalex.org/T13216',\n",
       "   'display_name': 'Interdisciplinary Creative Research in Arts and Writing',\n",
       "   'count': 159,\n",
       "   'subfield': {'id': 'https://openalex.org/subfields/1213',\n",
       "    'display_name': 'Visual Arts and Performing Arts'},\n",
       "   'field': {'id': 'https://openalex.org/fields/12',\n",
       "    'display_name': 'Arts and Humanities'},\n",
       "   'domain': {'id': 'https://openalex.org/domains/2',\n",
       "    'display_name': 'Social Sciences'}},\n",
       "  {'id': 'https://openalex.org/T10758',\n",
       "   'display_name': 'Economics and Impact of Film Industry',\n",
       "   'count': 98,\n",
       "   'subfield': {'id': 'https://openalex.org/subfields/2002',\n",
       "    'display_name': 'Economics and Econometrics'},\n",
       "   'field': {'id': 'https://openalex.org/fields/20',\n",
       "    'display_name': 'Economics, Econometrics and Finance'},\n",
       "   'domain': {'id': 'https://openalex.org/domains/2',\n",
       "    'display_name': 'Social Sciences'}},\n",
       "  {'id': 'https://openalex.org/T12912',\n",
       "   'display_name': 'Adaptation Studies in Literature and Film',\n",
       "   'count': 51,\n",
       "   'subfield': {'id': 'https://openalex.org/subfields/1208',\n",
       "    'display_name': 'Literature and Literary Theory'},\n",
       "   'field': {'id': 'https://openalex.org/fields/12',\n",
       "    'display_name': 'Arts and Humanities'},\n",
       "   'domain': {'id': 'https://openalex.org/domains/2',\n",
       "    'display_name': 'Social Sciences'}},\n",
       "  {'id': 'https://openalex.org/T11391',\n",
       "   'display_name': 'Interdisciplinary Study of Theatrical Performance and Theory',\n",
       "   'count': 35,\n",
       "   'subfield': {'id': 'https://openalex.org/subfields/1213',\n",
       "    'display_name': 'Visual Arts and Performing Arts'},\n",
       "   'field': {'id': 'https://openalex.org/fields/12',\n",
       "    'display_name': 'Arts and Humanities'},\n",
       "   'domain': {'id': 'https://openalex.org/domains/2',\n",
       "    'display_name': 'Social Sciences'}},\n",
       "  {'id': 'https://openalex.org/T11197',\n",
       "   'display_name': 'Social and Psychological Aspects of Online Gaming',\n",
       "   'count': 23,\n",
       "   'subfield': {'id': 'https://openalex.org/subfields/3312',\n",
       "    'display_name': 'Sociology and Political Science'},\n",
       "   'field': {'id': 'https://openalex.org/fields/33',\n",
       "    'display_name': 'Social Sciences'},\n",
       "   'domain': {'id': 'https://openalex.org/domains/2',\n",
       "    'display_name': 'Social Sciences'}},\n",
       "  {'id': 'https://openalex.org/T12461',\n",
       "   'display_name': 'Narratology and Fictional Narratives',\n",
       "   'count': 22,\n",
       "   'subfield': {'id': 'https://openalex.org/subfields/1208',\n",
       "    'display_name': 'Literature and Literary Theory'},\n",
       "   'field': {'id': 'https://openalex.org/fields/12',\n",
       "    'display_name': 'Arts and Humanities'},\n",
       "   'domain': {'id': 'https://openalex.org/domains/2',\n",
       "    'display_name': 'Social Sciences'}},\n",
       "  {'id': 'https://openalex.org/T11410',\n",
       "   'display_name': 'The Impact of Creative Industries on Urban Development',\n",
       "   'count': 20,\n",
       "   'subfield': {'id': 'https://openalex.org/subfields/3322',\n",
       "    'display_name': 'Urban Studies'},\n",
       "   'field': {'id': 'https://openalex.org/fields/33',\n",
       "    'display_name': 'Social Sciences'},\n",
       "   'domain': {'id': 'https://openalex.org/domains/2',\n",
       "    'display_name': 'Social Sciences'}},\n",
       "  {'id': 'https://openalex.org/T13071',\n",
       "   'display_name': 'Digital Storytelling in Education and Health Promotion',\n",
       "   'count': 16,\n",
       "   'subfield': {'id': 'https://openalex.org/subfields/3616',\n",
       "    'display_name': 'Speech and Hearing'},\n",
       "   'field': {'id': 'https://openalex.org/fields/36',\n",
       "    'display_name': 'Health Professions'},\n",
       "   'domain': {'id': 'https://openalex.org/domains/4',\n",
       "    'display_name': 'Health Sciences'}},\n",
       "  {'id': 'https://openalex.org/T11079',\n",
       "   'display_name': 'The Study of Creativity and Innovation',\n",
       "   'count': 14,\n",
       "   'subfield': {'id': 'https://openalex.org/subfields/3205',\n",
       "    'display_name': 'Experimental and Cognitive Psychology'},\n",
       "   'field': {'id': 'https://openalex.org/fields/32',\n",
       "    'display_name': 'Psychology'},\n",
       "   'domain': {'id': 'https://openalex.org/domains/2',\n",
       "    'display_name': 'Social Sciences'}},\n",
       "  {'id': 'https://openalex.org/T12908',\n",
       "   'display_name': 'Gender Representation in Advertising and Media',\n",
       "   'count': 13,\n",
       "   'subfield': {'id': 'https://openalex.org/subfields/3318',\n",
       "    'display_name': 'Gender Studies'},\n",
       "   'field': {'id': 'https://openalex.org/fields/33',\n",
       "    'display_name': 'Social Sciences'},\n",
       "   'domain': {'id': 'https://openalex.org/domains/2',\n",
       "    'display_name': 'Social Sciences'}},\n",
       "  {'id': 'https://openalex.org/T12632',\n",
       "   'display_name': 'Interdisciplinary Study of Visual Representation and Communication',\n",
       "   'count': 11,\n",
       "   'subfield': {'id': 'https://openalex.org/subfields/1213',\n",
       "    'display_name': 'Visual Arts and Performing Arts'},\n",
       "   'field': {'id': 'https://openalex.org/fields/12',\n",
       "    'display_name': 'Arts and Humanities'},\n",
       "   'domain': {'id': 'https://openalex.org/domains/2',\n",
       "    'display_name': 'Social Sciences'}},\n",
       "  {'id': 'https://openalex.org/T13145',\n",
       "   'display_name': 'Evolution of Crime Fiction in Modern Literature',\n",
       "   'count': 11,\n",
       "   'subfield': {'id': 'https://openalex.org/subfields/1208',\n",
       "    'display_name': 'Literature and Literary Theory'},\n",
       "   'field': {'id': 'https://openalex.org/fields/12',\n",
       "    'display_name': 'Arts and Humanities'},\n",
       "   'domain': {'id': 'https://openalex.org/domains/2',\n",
       "    'display_name': 'Social Sciences'}},\n",
       "  {'id': 'https://openalex.org/T13877',\n",
       "   'display_name': 'Visual Jurisprudence and Legal Semiotics',\n",
       "   'count': 10,\n",
       "   'subfield': {'id': 'https://openalex.org/subfields/3308',\n",
       "    'display_name': 'Law'},\n",
       "   'field': {'id': 'https://openalex.org/fields/33',\n",
       "    'display_name': 'Social Sciences'},\n",
       "   'domain': {'id': 'https://openalex.org/domains/2',\n",
       "    'display_name': 'Social Sciences'}},\n",
       "  {'id': 'https://openalex.org/T13342',\n",
       "   'display_name': 'Art as an Investment and Market Dynamics',\n",
       "   'count': 10,\n",
       "   'subfield': {'id': 'https://openalex.org/subfields/1213',\n",
       "    'display_name': 'Visual Arts and Performing Arts'},\n",
       "   'field': {'id': 'https://openalex.org/fields/12',\n",
       "    'display_name': 'Arts and Humanities'},\n",
       "   'domain': {'id': 'https://openalex.org/domains/2',\n",
       "    'display_name': 'Social Sciences'}},\n",
       "  {'id': 'https://openalex.org/T14254',\n",
       "   'display_name': 'Innovations in Visual Communication Design and Technology',\n",
       "   'count': 10,\n",
       "   'subfield': {'id': 'https://openalex.org/subfields/1704',\n",
       "    'display_name': 'Computer Graphics and Computer-Aided Design'},\n",
       "   'field': {'id': 'https://openalex.org/fields/17',\n",
       "    'display_name': 'Computer Science'},\n",
       "   'domain': {'id': 'https://openalex.org/domains/3',\n",
       "    'display_name': 'Physical Sciences'}},\n",
       "  {'id': 'https://openalex.org/T12130',\n",
       "   'display_name': 'Literature in the Postmodern Era',\n",
       "   'count': 9,\n",
       "   'subfield': {'id': 'https://openalex.org/subfields/1208',\n",
       "    'display_name': 'Literature and Literary Theory'},\n",
       "   'field': {'id': 'https://openalex.org/fields/12',\n",
       "    'display_name': 'Arts and Humanities'},\n",
       "   'domain': {'id': 'https://openalex.org/domains/2',\n",
       "    'display_name': 'Social Sciences'}},\n",
       "  {'id': 'https://openalex.org/T12214',\n",
       "   'display_name': 'The Role of Narrative in Persuasive Communication',\n",
       "   'count': 7,\n",
       "   'subfield': {'id': 'https://openalex.org/subfields/1208',\n",
       "    'display_name': 'Literature and Literary Theory'},\n",
       "   'field': {'id': 'https://openalex.org/fields/12',\n",
       "    'display_name': 'Arts and Humanities'},\n",
       "   'domain': {'id': 'https://openalex.org/domains/2',\n",
       "    'display_name': 'Social Sciences'}},\n",
       "  {'id': 'https://openalex.org/T10648',\n",
       "   'display_name': 'Virtual Presence and Embodiment in VR Research',\n",
       "   'count': 7,\n",
       "   'subfield': {'id': 'https://openalex.org/subfields/1709',\n",
       "    'display_name': 'Human-Computer Interaction'},\n",
       "   'field': {'id': 'https://openalex.org/fields/17',\n",
       "    'display_name': 'Computer Science'},\n",
       "   'domain': {'id': 'https://openalex.org/domains/3',\n",
       "    'display_name': 'Physical Sciences'}},\n",
       "  {'id': 'https://openalex.org/T12500',\n",
       "   'display_name': 'Reflective Practice in Education and Professional Development',\n",
       "   'count': 6,\n",
       "   'subfield': {'id': 'https://openalex.org/subfields/3304',\n",
       "    'display_name': 'Education'},\n",
       "   'field': {'id': 'https://openalex.org/fields/33',\n",
       "    'display_name': 'Social Sciences'},\n",
       "   'domain': {'id': 'https://openalex.org/domains/2',\n",
       "    'display_name': 'Social Sciences'}},\n",
       "  {'id': 'https://openalex.org/T11540',\n",
       "   'display_name': 'Neoliberal Feminism and Postfeminist Culture',\n",
       "   'count': 6,\n",
       "   'subfield': {'id': 'https://openalex.org/subfields/3318',\n",
       "    'display_name': 'Gender Studies'},\n",
       "   'field': {'id': 'https://openalex.org/fields/33',\n",
       "    'display_name': 'Social Sciences'},\n",
       "   'domain': {'id': 'https://openalex.org/domains/2',\n",
       "    'display_name': 'Social Sciences'}},\n",
       "  {'id': 'https://openalex.org/T13303',\n",
       "   'display_name': 'Global Impact of Korean Popular Culture',\n",
       "   'count': 6,\n",
       "   'subfield': {'id': 'https://openalex.org/subfields/3316',\n",
       "    'display_name': 'Cultural Studies'},\n",
       "   'field': {'id': 'https://openalex.org/fields/33',\n",
       "    'display_name': 'Social Sciences'},\n",
       "   'domain': {'id': 'https://openalex.org/domains/2',\n",
       "    'display_name': 'Social Sciences'}},\n",
       "  {'id': 'https://openalex.org/T12337',\n",
       "   'display_name': 'Fascism and Totalitarianism in Europe and Italy',\n",
       "   'count': 6,\n",
       "   'subfield': {'id': 'https://openalex.org/subfields/3312',\n",
       "    'display_name': 'Sociology and Political Science'},\n",
       "   'field': {'id': 'https://openalex.org/fields/33',\n",
       "    'display_name': 'Social Sciences'},\n",
       "   'domain': {'id': 'https://openalex.org/domains/2',\n",
       "    'display_name': 'Social Sciences'}},\n",
       "  {'id': 'https://openalex.org/T12377',\n",
       "   'display_name': 'Digital Humanities in Literary Studies',\n",
       "   'count': 6,\n",
       "   'subfield': {'id': 'https://openalex.org/subfields/1208',\n",
       "    'display_name': 'Literature and Literary Theory'},\n",
       "   'field': {'id': 'https://openalex.org/fields/12',\n",
       "    'display_name': 'Arts and Humanities'},\n",
       "   'domain': {'id': 'https://openalex.org/domains/2',\n",
       "    'display_name': 'Social Sciences'}},\n",
       "  {'id': 'https://openalex.org/T12586',\n",
       "   'display_name': 'The Pervasiveness of Fairy Tales in Culture',\n",
       "   'count': 6,\n",
       "   'subfield': {'id': 'https://openalex.org/subfields/1208',\n",
       "    'display_name': 'Literature and Literary Theory'},\n",
       "   'field': {'id': 'https://openalex.org/fields/12',\n",
       "    'display_name': 'Arts and Humanities'},\n",
       "   'domain': {'id': 'https://openalex.org/domains/2',\n",
       "    'display_name': 'Social Sciences'}},\n",
       "  {'id': 'https://openalex.org/T11657',\n",
       "   'display_name': 'Archival Science and Digital Preservation',\n",
       "   'count': 5,\n",
       "   'subfield': {'id': 'https://openalex.org/subfields/1206',\n",
       "    'display_name': 'Conservation'},\n",
       "   'field': {'id': 'https://openalex.org/fields/12',\n",
       "    'display_name': 'Arts and Humanities'},\n",
       "   'domain': {'id': 'https://openalex.org/domains/2',\n",
       "    'display_name': 'Social Sciences'}}],\n",
       " 'topic_share': [{'id': 'https://openalex.org/T13216',\n",
       "   'display_name': 'Interdisciplinary Creative Research in Arts and Writing',\n",
       "   'value': 0.0038469,\n",
       "   'subfield': {'id': 'https://openalex.org/subfields/1213',\n",
       "    'display_name': 'Visual Arts and Performing Arts'},\n",
       "   'field': {'id': 'https://openalex.org/fields/12',\n",
       "    'display_name': 'Arts and Humanities'},\n",
       "   'domain': {'id': 'https://openalex.org/domains/2',\n",
       "    'display_name': 'Social Sciences'}},\n",
       "  {'id': 'https://openalex.org/T14411',\n",
       "   'display_name': 'Challenges and Innovations in Undergraduate Neuroscience Education',\n",
       "   'value': 0.0006649,\n",
       "   'subfield': {'id': 'https://openalex.org/subfields/2805',\n",
       "    'display_name': 'Cognitive Neuroscience'},\n",
       "   'field': {'id': 'https://openalex.org/fields/28',\n",
       "    'display_name': 'Neuroscience'},\n",
       "   'domain': {'id': 'https://openalex.org/domains/1',\n",
       "    'display_name': 'Life Sciences'}},\n",
       "  {'id': 'https://openalex.org/T10758',\n",
       "   'display_name': 'Economics and Impact of Film Industry',\n",
       "   'value': 0.0004389,\n",
       "   'subfield': {'id': 'https://openalex.org/subfields/2002',\n",
       "    'display_name': 'Economics and Econometrics'},\n",
       "   'field': {'id': 'https://openalex.org/fields/20',\n",
       "    'display_name': 'Economics, Econometrics and Finance'},\n",
       "   'domain': {'id': 'https://openalex.org/domains/2',\n",
       "    'display_name': 'Social Sciences'}},\n",
       "  {'id': 'https://openalex.org/T12912',\n",
       "   'display_name': 'Adaptation Studies in Literature and Film',\n",
       "   'value': 0.0003336,\n",
       "   'subfield': {'id': 'https://openalex.org/subfields/1208',\n",
       "    'display_name': 'Literature and Literary Theory'},\n",
       "   'field': {'id': 'https://openalex.org/fields/12',\n",
       "    'display_name': 'Arts and Humanities'},\n",
       "   'domain': {'id': 'https://openalex.org/domains/2',\n",
       "    'display_name': 'Social Sciences'}},\n",
       "  {'id': 'https://openalex.org/T12461',\n",
       "   'display_name': 'Narratology and Fictional Narratives',\n",
       "   'value': 0.0002877,\n",
       "   'subfield': {'id': 'https://openalex.org/subfields/1208',\n",
       "    'display_name': 'Literature and Literary Theory'},\n",
       "   'field': {'id': 'https://openalex.org/fields/12',\n",
       "    'display_name': 'Arts and Humanities'},\n",
       "   'domain': {'id': 'https://openalex.org/domains/2',\n",
       "    'display_name': 'Social Sciences'}},\n",
       "  {'id': 'https://openalex.org/T13145',\n",
       "   'display_name': 'Evolution of Crime Fiction in Modern Literature',\n",
       "   'value': 0.0002678,\n",
       "   'subfield': {'id': 'https://openalex.org/subfields/1208',\n",
       "    'display_name': 'Literature and Literary Theory'},\n",
       "   'field': {'id': 'https://openalex.org/fields/12',\n",
       "    'display_name': 'Arts and Humanities'},\n",
       "   'domain': {'id': 'https://openalex.org/domains/2',\n",
       "    'display_name': 'Social Sciences'}},\n",
       "  {'id': 'https://openalex.org/T11391',\n",
       "   'display_name': 'Interdisciplinary Study of Theatrical Performance and Theory',\n",
       "   'value': 0.0002441,\n",
       "   'subfield': {'id': 'https://openalex.org/subfields/1213',\n",
       "    'display_name': 'Visual Arts and Performing Arts'},\n",
       "   'field': {'id': 'https://openalex.org/fields/12',\n",
       "    'display_name': 'Arts and Humanities'},\n",
       "   'domain': {'id': 'https://openalex.org/domains/2',\n",
       "    'display_name': 'Social Sciences'}},\n",
       "  {'id': 'https://openalex.org/T13245',\n",
       "   'display_name': 'The Works of Samuel Beckett',\n",
       "   'value': 0.0002136,\n",
       "   'subfield': {'id': 'https://openalex.org/subfields/1208',\n",
       "    'display_name': 'Literature and Literary Theory'},\n",
       "   'field': {'id': 'https://openalex.org/fields/12',\n",
       "    'display_name': 'Arts and Humanities'},\n",
       "   'domain': {'id': 'https://openalex.org/domains/2',\n",
       "    'display_name': 'Social Sciences'}},\n",
       "  {'id': 'https://openalex.org/T14153',\n",
       "   'display_name': 'Diverse Aspects of Social Research and Education',\n",
       "   'value': 0.0001614,\n",
       "   'subfield': {'id': 'https://openalex.org/subfields/3304',\n",
       "    'display_name': 'Education'},\n",
       "   'field': {'id': 'https://openalex.org/fields/33',\n",
       "    'display_name': 'Social Sciences'},\n",
       "   'domain': {'id': 'https://openalex.org/domains/2',\n",
       "    'display_name': 'Social Sciences'}},\n",
       "  {'id': 'https://openalex.org/T13071',\n",
       "   'display_name': 'Digital Storytelling in Education and Health Promotion',\n",
       "   'value': 0.0001567,\n",
       "   'subfield': {'id': 'https://openalex.org/subfields/3616',\n",
       "    'display_name': 'Speech and Hearing'},\n",
       "   'field': {'id': 'https://openalex.org/fields/36',\n",
       "    'display_name': 'Health Professions'},\n",
       "   'domain': {'id': 'https://openalex.org/domains/4',\n",
       "    'display_name': 'Health Sciences'}},\n",
       "  {'id': 'https://openalex.org/T13342',\n",
       "   'display_name': 'Art as an Investment and Market Dynamics',\n",
       "   'value': 0.0001117,\n",
       "   'subfield': {'id': 'https://openalex.org/subfields/1213',\n",
       "    'display_name': 'Visual Arts and Performing Arts'},\n",
       "   'field': {'id': 'https://openalex.org/fields/12',\n",
       "    'display_name': 'Arts and Humanities'},\n",
       "   'domain': {'id': 'https://openalex.org/domains/2',\n",
       "    'display_name': 'Social Sciences'}},\n",
       "  {'id': 'https://openalex.org/T12214',\n",
       "   'display_name': 'The Role of Narrative in Persuasive Communication',\n",
       "   'value': 0.0001095,\n",
       "   'subfield': {'id': 'https://openalex.org/subfields/1208',\n",
       "    'display_name': 'Literature and Literary Theory'},\n",
       "   'field': {'id': 'https://openalex.org/fields/12',\n",
       "    'display_name': 'Arts and Humanities'},\n",
       "   'domain': {'id': 'https://openalex.org/domains/2',\n",
       "    'display_name': 'Social Sciences'}},\n",
       "  {'id': 'https://openalex.org/T12632',\n",
       "   'display_name': 'Interdisciplinary Study of Visual Representation and Communication',\n",
       "   'value': 0.0001077,\n",
       "   'subfield': {'id': 'https://openalex.org/subfields/1213',\n",
       "    'display_name': 'Visual Arts and Performing Arts'},\n",
       "   'field': {'id': 'https://openalex.org/fields/12',\n",
       "    'display_name': 'Arts and Humanities'},\n",
       "   'domain': {'id': 'https://openalex.org/domains/2',\n",
       "    'display_name': 'Social Sciences'}},\n",
       "  {'id': 'https://openalex.org/T14305',\n",
       "   'display_name': \"Literary and Environmental Analysis of Cormac McCarthy's Works\",\n",
       "   'value': 0.0001067,\n",
       "   'subfield': {'id': 'https://openalex.org/subfields/1208',\n",
       "    'display_name': 'Literature and Literary Theory'},\n",
       "   'field': {'id': 'https://openalex.org/fields/12',\n",
       "    'display_name': 'Arts and Humanities'},\n",
       "   'domain': {'id': 'https://openalex.org/domains/2',\n",
       "    'display_name': 'Social Sciences'}},\n",
       "  {'id': 'https://openalex.org/T13319',\n",
       "   'display_name': 'Cinemeducation in Medical and Management Education',\n",
       "   'value': 0.0001062,\n",
       "   'subfield': {'id': 'https://openalex.org/subfields/3605',\n",
       "    'display_name': 'Health Information Management'},\n",
       "   'field': {'id': 'https://openalex.org/fields/36',\n",
       "    'display_name': 'Health Professions'},\n",
       "   'domain': {'id': 'https://openalex.org/domains/4',\n",
       "    'display_name': 'Health Sciences'}},\n",
       "  {'id': 'https://openalex.org/T12908',\n",
       "   'display_name': 'Gender Representation in Advertising and Media',\n",
       "   'value': 0.0001052,\n",
       "   'subfield': {'id': 'https://openalex.org/subfields/3318',\n",
       "    'display_name': 'Gender Studies'},\n",
       "   'field': {'id': 'https://openalex.org/fields/33',\n",
       "    'display_name': 'Social Sciences'},\n",
       "   'domain': {'id': 'https://openalex.org/domains/2',\n",
       "    'display_name': 'Social Sciences'}},\n",
       "  {'id': 'https://openalex.org/T14513',\n",
       "   'display_name': 'Psychology of Heroism and Courage',\n",
       "   'value': 0.0001038,\n",
       "   'subfield': {'id': 'https://openalex.org/subfields/3207',\n",
       "    'display_name': 'Social Psychology'},\n",
       "   'field': {'id': 'https://openalex.org/fields/32',\n",
       "    'display_name': 'Psychology'},\n",
       "   'domain': {'id': 'https://openalex.org/domains/2',\n",
       "    'display_name': 'Social Sciences'}},\n",
       "  {'id': 'https://openalex.org/T11079',\n",
       "   'display_name': 'The Study of Creativity and Innovation',\n",
       "   'value': 0.0001017,\n",
       "   'subfield': {'id': 'https://openalex.org/subfields/3205',\n",
       "    'display_name': 'Experimental and Cognitive Psychology'},\n",
       "   'field': {'id': 'https://openalex.org/fields/32',\n",
       "    'display_name': 'Psychology'},\n",
       "   'domain': {'id': 'https://openalex.org/domains/2',\n",
       "    'display_name': 'Social Sciences'}},\n",
       "  {'id': 'https://openalex.org/T12130',\n",
       "   'display_name': 'Literature in the Postmodern Era',\n",
       "   'value': 9.97e-05,\n",
       "   'subfield': {'id': 'https://openalex.org/subfields/1208',\n",
       "    'display_name': 'Literature and Literary Theory'},\n",
       "   'field': {'id': 'https://openalex.org/fields/12',\n",
       "    'display_name': 'Arts and Humanities'},\n",
       "   'domain': {'id': 'https://openalex.org/domains/2',\n",
       "    'display_name': 'Social Sciences'}},\n",
       "  {'id': 'https://openalex.org/T12320',\n",
       "   'display_name': 'Epistemic Injustice and Social Oppression',\n",
       "   'value': 9.84e-05,\n",
       "   'subfield': {'id': 'https://openalex.org/subfields/3312',\n",
       "    'display_name': 'Sociology and Political Science'},\n",
       "   'field': {'id': 'https://openalex.org/fields/33',\n",
       "    'display_name': 'Social Sciences'},\n",
       "   'domain': {'id': 'https://openalex.org/domains/2',\n",
       "    'display_name': 'Social Sciences'}},\n",
       "  {'id': 'https://openalex.org/T11197',\n",
       "   'display_name': 'Social and Psychological Aspects of Online Gaming',\n",
       "   'value': 9.78e-05,\n",
       "   'subfield': {'id': 'https://openalex.org/subfields/3312',\n",
       "    'display_name': 'Sociology and Political Science'},\n",
       "   'field': {'id': 'https://openalex.org/fields/33',\n",
       "    'display_name': 'Social Sciences'},\n",
       "   'domain': {'id': 'https://openalex.org/domains/2',\n",
       "    'display_name': 'Social Sciences'}},\n",
       "  {'id': 'https://openalex.org/T13259',\n",
       "   'display_name': 'Literary and Cultural Contributions of Jewish Americans',\n",
       "   'value': 9.37e-05,\n",
       "   'subfield': {'id': 'https://openalex.org/subfields/1208',\n",
       "    'display_name': 'Literature and Literary Theory'},\n",
       "   'field': {'id': 'https://openalex.org/fields/12',\n",
       "    'display_name': 'Arts and Humanities'},\n",
       "   'domain': {'id': 'https://openalex.org/domains/2',\n",
       "    'display_name': 'Social Sciences'}},\n",
       "  {'id': 'https://openalex.org/T14254',\n",
       "   'display_name': 'Innovations in Visual Communication Design and Technology',\n",
       "   'value': 9.12e-05,\n",
       "   'subfield': {'id': 'https://openalex.org/subfields/1704',\n",
       "    'display_name': 'Computer Graphics and Computer-Aided Design'},\n",
       "   'field': {'id': 'https://openalex.org/fields/17',\n",
       "    'display_name': 'Computer Science'},\n",
       "   'domain': {'id': 'https://openalex.org/domains/3',\n",
       "    'display_name': 'Physical Sciences'}},\n",
       "  {'id': 'https://openalex.org/T14148',\n",
       "   'display_name': 'Existentialism and Philosophy of Existence',\n",
       "   'value': 8.04e-05,\n",
       "   'subfield': {'id': 'https://openalex.org/subfields/1211',\n",
       "    'display_name': 'Philosophy'},\n",
       "   'field': {'id': 'https://openalex.org/fields/12',\n",
       "    'display_name': 'Arts and Humanities'},\n",
       "   'domain': {'id': 'https://openalex.org/domains/2',\n",
       "    'display_name': 'Social Sciences'}},\n",
       "  {'id': 'https://openalex.org/T14201',\n",
       "   'display_name': 'Secondary Analysis of Qualitative Data',\n",
       "   'value': 7.83e-05,\n",
       "   'subfield': {'id': 'https://openalex.org/subfields/3312',\n",
       "    'display_name': 'Sociology and Political Science'},\n",
       "   'field': {'id': 'https://openalex.org/fields/33',\n",
       "    'display_name': 'Social Sciences'},\n",
       "   'domain': {'id': 'https://openalex.org/domains/2',\n",
       "    'display_name': 'Social Sciences'}}],\n",
       " 'x_concepts': [{'id': 'https://openalex.org/C142362112',\n",
       "   'wikidata': 'https://www.wikidata.org/wiki/Q735',\n",
       "   'display_name': 'Art',\n",
       "   'level': 0,\n",
       "   'score': 93.2},\n",
       "  {'id': 'https://openalex.org/C124952713',\n",
       "   'wikidata': 'https://www.wikidata.org/wiki/Q8242',\n",
       "   'display_name': 'Literature',\n",
       "   'level': 1,\n",
       "   'score': 75.5},\n",
       "  {'id': 'https://openalex.org/C153349607',\n",
       "   'wikidata': 'https://www.wikidata.org/wiki/Q36649',\n",
       "   'display_name': 'Visual arts',\n",
       "   'level': 1,\n",
       "   'score': 72.4},\n",
       "  {'id': 'https://openalex.org/C138885662',\n",
       "   'wikidata': 'https://www.wikidata.org/wiki/Q5891',\n",
       "   'display_name': 'Philosophy',\n",
       "   'level': 0,\n",
       "   'score': 65.5},\n",
       "  {'id': 'https://openalex.org/C144024400',\n",
       "   'wikidata': 'https://www.wikidata.org/wiki/Q21201',\n",
       "   'display_name': 'Sociology',\n",
       "   'level': 0,\n",
       "   'score': 65.0},\n",
       "  {'id': 'https://openalex.org/C95457728',\n",
       "   'wikidata': 'https://www.wikidata.org/wiki/Q309',\n",
       "   'display_name': 'History',\n",
       "   'level': 0,\n",
       "   'score': 62.6},\n",
       "  {'id': 'https://openalex.org/C41895202',\n",
       "   'wikidata': 'https://www.wikidata.org/wiki/Q8162',\n",
       "   'display_name': 'Linguistics',\n",
       "   'level': 1,\n",
       "   'score': 49.2},\n",
       "  {'id': 'https://openalex.org/C17057217',\n",
       "   'wikidata': 'https://www.wikidata.org/wiki/Q3429919',\n",
       "   'display_name': 'Screenwriting',\n",
       "   'level': 2,\n",
       "   'score': 48.4},\n",
       "  {'id': 'https://openalex.org/C17744445',\n",
       "   'wikidata': 'https://www.wikidata.org/wiki/Q36442',\n",
       "   'display_name': 'Political science',\n",
       "   'level': 0,\n",
       "   'score': 48.4},\n",
       "  {'id': 'https://openalex.org/C41008148',\n",
       "   'wikidata': 'https://www.wikidata.org/wiki/Q21198',\n",
       "   'display_name': 'Computer science',\n",
       "   'level': 0,\n",
       "   'score': 44.7},\n",
       "  {'id': 'https://openalex.org/C52119013',\n",
       "   'wikidata': 'https://www.wikidata.org/wiki/Q50637',\n",
       "   'display_name': 'Art history',\n",
       "   'level': 1,\n",
       "   'score': 42.4},\n",
       "  {'id': 'https://openalex.org/C199539241',\n",
       "   'wikidata': 'https://www.wikidata.org/wiki/Q7748',\n",
       "   'display_name': 'Law',\n",
       "   'level': 1,\n",
       "   'score': 37.9},\n",
       "  {'id': 'https://openalex.org/C107038049',\n",
       "   'wikidata': 'https://www.wikidata.org/wiki/Q35986',\n",
       "   'display_name': 'Aesthetics',\n",
       "   'level': 1,\n",
       "   'score': 37.6},\n",
       "  {'id': 'https://openalex.org/C199033989',\n",
       "   'wikidata': 'https://www.wikidata.org/wiki/Q1318295',\n",
       "   'display_name': 'Narrative',\n",
       "   'level': 2,\n",
       "   'score': 34.7},\n",
       "  {'id': 'https://openalex.org/C29595303',\n",
       "   'wikidata': 'https://www.wikidata.org/wiki/Q165650',\n",
       "   'display_name': 'Media studies',\n",
       "   'level': 1,\n",
       "   'score': 34.2},\n",
       "  {'id': 'https://openalex.org/C86803240',\n",
       "   'wikidata': 'https://www.wikidata.org/wiki/Q420',\n",
       "   'display_name': 'Biology',\n",
       "   'level': 0,\n",
       "   'score': 30.8},\n",
       "  {'id': 'https://openalex.org/C15744967',\n",
       "   'wikidata': 'https://www.wikidata.org/wiki/Q9418',\n",
       "   'display_name': 'Psychology',\n",
       "   'level': 0,\n",
       "   'score': 29.7},\n",
       "  {'id': 'https://openalex.org/C205649164',\n",
       "   'wikidata': 'https://www.wikidata.org/wiki/Q1071',\n",
       "   'display_name': 'Geography',\n",
       "   'level': 0,\n",
       "   'score': 25.8},\n",
       "  {'id': 'https://openalex.org/C166957645',\n",
       "   'wikidata': 'https://www.wikidata.org/wiki/Q23498',\n",
       "   'display_name': 'Archaeology',\n",
       "   'level': 1,\n",
       "   'score': 24.2},\n",
       "  {'id': 'https://openalex.org/C121332964',\n",
       "   'wikidata': 'https://www.wikidata.org/wiki/Q413',\n",
       "   'display_name': 'Physics',\n",
       "   'level': 0,\n",
       "   'score': 21.8},\n",
       "  {'id': 'https://openalex.org/C519580073',\n",
       "   'wikidata': 'https://www.wikidata.org/wiki/Q41253',\n",
       "   'display_name': 'Movie theater',\n",
       "   'level': 2,\n",
       "   'score': 21.8}],\n",
       " 'counts_by_year': [{'year': 2024, 'works_count': 11, 'cited_by_count': 58},\n",
       "  {'year': 2023, 'works_count': 26, 'cited_by_count': 179},\n",
       "  {'year': 2022, 'works_count': 32, 'cited_by_count': 125},\n",
       "  {'year': 2021, 'works_count': 36, 'cited_by_count': 234},\n",
       "  {'year': 2020, 'works_count': 35, 'cited_by_count': 61},\n",
       "  {'year': 2019, 'works_count': 23, 'cited_by_count': 45},\n",
       "  {'year': 2018, 'works_count': 25, 'cited_by_count': 56},\n",
       "  {'year': 2017, 'works_count': 25, 'cited_by_count': 18},\n",
       "  {'year': 2016, 'works_count': 26, 'cited_by_count': 41},\n",
       "  {'year': 2015, 'works_count': 28, 'cited_by_count': 28},\n",
       "  {'year': 2014, 'works_count': 34, 'cited_by_count': 29},\n",
       "  {'year': 2013, 'works_count': 23, 'cited_by_count': 17},\n",
       "  {'year': 2012, 'works_count': 20, 'cited_by_count': 6}],\n",
       " 'works_api_url': 'https://api.openalex.org/works?filter=primary_location.source.id:S108764191',\n",
       " 'updated_date': '2024-05-15T07:33:53.556473',\n",
       " 'created_date': '2016-06-24'}"
      ]
     },
     "execution_count": 126,
     "metadata": {},
     "output_type": "execute_result"
    }
   ],
   "source": [
    "Sources().random()"
   ]
  },
  {
   "cell_type": "code",
   "execution_count": 127,
   "id": "6344a0d7-3c12-4c82-bd14-d3946aea0a07",
   "metadata": {},
   "outputs": [],
   "source": [
    "def get_source_json(s:str):\n",
    "    \"\"\"\n",
    "    s is an openalex Sources display_name\n",
    "    return that Sources object\n",
    "    \"\"\"\n",
    "    source_json = Sources().search_filter(display_name = s).get()\n",
    "    a = source_json[0]['type']\n",
    "    if \"homepage_url\" in source_json[0] and source_json[0]['homepage_url']:\n",
    "        print(f\"{s} has homepage_url and type {source_json[0]['type']}\")\n",
    "        return source_json[0][\"homepage_url\"]\n",
    "    else:\n",
    "        return None"
   ]
  },
  {
   "cell_type": "code",
   "execution_count": 128,
   "id": "2ae39556-dc8a-409d-b4b4-12c60b9f191b",
   "metadata": {},
   "outputs": [
    {
     "data": {
      "text/plain": [
       "'IEEE transactions on control systems technology'"
      ]
     },
     "execution_count": 128,
     "metadata": {},
     "output_type": "execute_result"
    }
   ],
   "source": [
    "sources_list[5]"
   ]
  },
  {
   "cell_type": "code",
   "execution_count": 129,
   "id": "790d0fcf-9189-427c-b7b9-ebf516c2a3a6",
   "metadata": {},
   "outputs": [
    {
     "name": "stdout",
     "output_type": "stream",
     "text": [
      "IEEE transactions on control systems technology has homepage_url and type journal\n"
     ]
    },
    {
     "data": {
      "text/plain": [
       "'http://www.ieeecss.org/publications/tcst'"
      ]
     },
     "execution_count": 129,
     "metadata": {},
     "output_type": "execute_result"
    }
   ],
   "source": [
    "sj0 = get_source_json(sources_list[5])\n",
    "sj0"
   ]
  },
  {
   "cell_type": "code",
   "execution_count": 130,
   "id": "ce90a1d8-4878-41a7-b73a-3a577842bb3b",
   "metadata": {},
   "outputs": [],
   "source": [
    "def get_display_page_dict(sl:list):\n",
    "    \"\"\"\n",
    "    sl is a list of Sources display_name values\n",
    "    returns the dictionary mapping\n",
    "    display_names with homepage_url values.\"\"\"\n",
    "    mapping_dict = dict()\n",
    "    for s in tqdm(sl):\n",
    "        try:\n",
    "            mapping_dict[s] = get_source_json(s)\n",
    "        except:\n",
    "            pass\n",
    "    return mapping_dict"
   ]
  },
  {
   "cell_type": "code",
   "execution_count": 131,
   "id": "f980acc8-2958-44c6-afae-e0344a35081a",
   "metadata": {},
   "outputs": [
    {
     "name": "stderr",
     "output_type": "stream",
     "text": [
      "  0%|                                                                        | 1/1337 [00:01<29:47,  1.34s/it]"
     ]
    },
    {
     "name": "stdout",
     "output_type": "stream",
     "text": [
      "IEEE transactions on cybernetics has homepage_url and type journal\n"
     ]
    },
    {
     "name": "stderr",
     "output_type": "stream",
     "text": [
      "  0%|▏                                                                       | 3/1337 [00:02<14:48,  1.50it/s]"
     ]
    },
    {
     "name": "stdout",
     "output_type": "stream",
     "text": [
      "IEEE transactions on robotics has homepage_url and type journal\n"
     ]
    },
    {
     "name": "stderr",
     "output_type": "stream",
     "text": [
      "  0%|▏                                                                       | 4/1337 [00:02<13:34,  1.64it/s]"
     ]
    },
    {
     "name": "stdout",
     "output_type": "stream",
     "text": [
      "Neurocomputing has homepage_url and type journal\n"
     ]
    },
    {
     "name": "stderr",
     "output_type": "stream",
     "text": [
      "  0%|▎                                                                       | 5/1337 [00:03<12:29,  1.78it/s]"
     ]
    },
    {
     "name": "stdout",
     "output_type": "stream",
     "text": [
      "IEEE transactions on industrial electronics has homepage_url and type journal\n"
     ]
    },
    {
     "name": "stderr",
     "output_type": "stream",
     "text": [
      "  0%|▎                                                                       | 6/1337 [00:03<11:52,  1.87it/s]"
     ]
    },
    {
     "name": "stdout",
     "output_type": "stream",
     "text": [
      "IEEE transactions on control systems technology has homepage_url and type journal\n"
     ]
    },
    {
     "name": "stderr",
     "output_type": "stream",
     "text": [
      "  1%|▍                                                                       | 8/1337 [00:04<10:53,  2.03it/s]"
     ]
    },
    {
     "name": "stdout",
     "output_type": "stream",
     "text": [
      "IEEE transactions on industrial informatics has homepage_url and type journal\n"
     ]
    },
    {
     "name": "stderr",
     "output_type": "stream",
     "text": [
      "  1%|▍                                                                       | 9/1337 [00:05<11:30,  1.92it/s]"
     ]
    },
    {
     "name": "stdout",
     "output_type": "stream",
     "text": [
      "IEEE transactions on neural networks and learning systems has homepage_url and type journal\n"
     ]
    },
    {
     "name": "stderr",
     "output_type": "stream",
     "text": [
      "  1%|▌                                                                      | 11/1337 [00:06<13:12,  1.67it/s]"
     ]
    },
    {
     "name": "stdout",
     "output_type": "stream",
     "text": [
      "International journal of systems science has homepage_url and type journal\n"
     ]
    },
    {
     "name": "stderr",
     "output_type": "stream",
     "text": [
      "  1%|▋                                                                      | 12/1337 [00:06<12:10,  1.81it/s]"
     ]
    },
    {
     "name": "stdout",
     "output_type": "stream",
     "text": [
      "ISA transactions has homepage_url and type journal\n"
     ]
    },
    {
     "name": "stderr",
     "output_type": "stream",
     "text": [
      "  1%|▋                                                                      | 13/1337 [00:07<11:19,  1.95it/s]"
     ]
    },
    {
     "name": "stdout",
     "output_type": "stream",
     "text": [
      "Robotics and computer-integrated manufacturing has homepage_url and type journal\n"
     ]
    },
    {
     "name": "stderr",
     "output_type": "stream",
     "text": [
      "  1%|▋                                                                      | 14/1337 [00:08<11:46,  1.87it/s]"
     ]
    },
    {
     "name": "stdout",
     "output_type": "stream",
     "text": [
      "The international journal of robotics research has homepage_url and type journal\n"
     ]
    },
    {
     "name": "stderr",
     "output_type": "stream",
     "text": [
      "  1%|▊                                                                      | 15/1337 [00:08<11:19,  1.94it/s]"
     ]
    },
    {
     "name": "stdout",
     "output_type": "stream",
     "text": [
      "Annual reviews in control has homepage_url and type journal\n"
     ]
    },
    {
     "name": "stderr",
     "output_type": "stream",
     "text": [
      "  1%|▉                                                                      | 18/1337 [00:09<11:01,  1.99it/s]"
     ]
    },
    {
     "name": "stdout",
     "output_type": "stream",
     "text": [
      "International journal of agricultural and biological engineering has homepage_url and type journal\n"
     ]
    },
    {
     "name": "stderr",
     "output_type": "stream",
     "text": [
      "  1%|█                                                                      | 20/1337 [00:11<12:39,  1.73it/s]"
     ]
    },
    {
     "name": "stdout",
     "output_type": "stream",
     "text": [
      "International journal of intelligent systems has homepage_url and type journal\n"
     ]
    },
    {
     "name": "stderr",
     "output_type": "stream",
     "text": [
      "  2%|█                                                                      | 21/1337 [00:11<12:05,  1.81it/s]"
     ]
    },
    {
     "name": "stdout",
     "output_type": "stream",
     "text": [
      "Robotica has homepage_url and type journal\n"
     ]
    },
    {
     "name": "stderr",
     "output_type": "stream",
     "text": [
      "  2%|█▏                                                                     | 22/1337 [00:12<11:28,  1.91it/s]"
     ]
    },
    {
     "name": "stdout",
     "output_type": "stream",
     "text": [
      "Control engineering practice has homepage_url and type journal\n"
     ]
    },
    {
     "name": "stderr",
     "output_type": "stream",
     "text": [
      "  2%|█▎                                                                     | 25/1337 [00:14<13:28,  1.62it/s]"
     ]
    },
    {
     "name": "stdout",
     "output_type": "stream",
     "text": [
      "Mechanism and machine theory has homepage_url and type journal\n"
     ]
    },
    {
     "name": "stderr",
     "output_type": "stream",
     "text": [
      "  2%|█▍                                                                     | 26/1337 [00:15<13:17,  1.64it/s]"
     ]
    },
    {
     "name": "stdout",
     "output_type": "stream",
     "text": [
      "IEEE transactions on automation science and engineering has homepage_url and type journal\n"
     ]
    },
    {
     "name": "stderr",
     "output_type": "stream",
     "text": [
      "  2%|█▍                                                                     | 28/1337 [00:15<11:31,  1.89it/s]"
     ]
    },
    {
     "name": "stdout",
     "output_type": "stream",
     "text": [
      "IEEE transactions on automatic control has homepage_url and type journal\n"
     ]
    },
    {
     "name": "stderr",
     "output_type": "stream",
     "text": [
      "  2%|█▌                                                                     | 29/1337 [00:16<10:32,  2.07it/s]"
     ]
    },
    {
     "name": "stdout",
     "output_type": "stream",
     "text": [
      "IEEE access has homepage_url and type journal\n"
     ]
    },
    {
     "name": "stderr",
     "output_type": "stream",
     "text": [
      "  2%|█▌                                                                     | 30/1337 [00:16<11:04,  1.97it/s]"
     ]
    },
    {
     "name": "stdout",
     "output_type": "stream",
     "text": [
      "Robotics and autonomous systems has homepage_url and type journal\n"
     ]
    },
    {
     "name": "stderr",
     "output_type": "stream",
     "text": [
      "  2%|█▋                                                                     | 31/1337 [00:17<12:24,  1.75it/s]"
     ]
    },
    {
     "name": "stdout",
     "output_type": "stream",
     "text": [
      "Cybernetics and systems has homepage_url and type journal\n"
     ]
    },
    {
     "name": "stderr",
     "output_type": "stream",
     "text": [
      "  2%|█▋                                                                     | 32/1337 [00:18<11:58,  1.82it/s]"
     ]
    },
    {
     "name": "stdout",
     "output_type": "stream",
     "text": [
      "Procedia computer science has homepage_url and type journal\n"
     ]
    },
    {
     "name": "stderr",
     "output_type": "stream",
     "text": [
      "  2%|█▊                                                                     | 33/1337 [00:18<13:51,  1.57it/s]"
     ]
    },
    {
     "name": "stdout",
     "output_type": "stream",
     "text": [
      "Journal of computational science has homepage_url and type journal\n"
     ]
    },
    {
     "name": "stderr",
     "output_type": "stream",
     "text": [
      "  3%|█▊                                                                     | 34/1337 [00:19<12:32,  1.73it/s]"
     ]
    },
    {
     "name": "stdout",
     "output_type": "stream",
     "text": [
      "Asian journal of control has homepage_url and type journal\n"
     ]
    },
    {
     "name": "stderr",
     "output_type": "stream",
     "text": [
      "  3%|█▊                                                                     | 35/1337 [00:19<11:35,  1.87it/s]"
     ]
    },
    {
     "name": "stdout",
     "output_type": "stream",
     "text": [
      "Automatica has homepage_url and type journal\n"
     ]
    },
    {
     "name": "stderr",
     "output_type": "stream",
     "text": [
      "  3%|█▉                                                                     | 36/1337 [00:20<13:18,  1.63it/s]"
     ]
    },
    {
     "name": "stdout",
     "output_type": "stream",
     "text": [
      "Information sciences has homepage_url and type journal\n"
     ]
    },
    {
     "name": "stderr",
     "output_type": "stream",
     "text": [
      "  3%|██                                                                     | 38/1337 [00:21<13:55,  1.55it/s]"
     ]
    },
    {
     "name": "stdout",
     "output_type": "stream",
     "text": [
      "Proceedings of the IEEE has homepage_url and type journal\n"
     ]
    },
    {
     "name": "stderr",
     "output_type": "stream",
     "text": [
      "  3%|██                                                                     | 40/1337 [00:22<12:25,  1.74it/s]"
     ]
    },
    {
     "name": "stdout",
     "output_type": "stream",
     "text": [
      "Computer-aided civil and infrastructure engineering has homepage_url and type journal\n"
     ]
    },
    {
     "name": "stderr",
     "output_type": "stream",
     "text": [
      "  3%|██▏                                                                    | 42/1337 [00:23<10:39,  2.02it/s]"
     ]
    },
    {
     "name": "stdout",
     "output_type": "stream",
     "text": [
      "Engineering applications of artificial intelligence has homepage_url and type journal\n"
     ]
    },
    {
     "name": "stderr",
     "output_type": "stream",
     "text": [
      "  3%|██▎                                                                    | 43/1337 [00:24<10:42,  2.01it/s]"
     ]
    },
    {
     "name": "stdout",
     "output_type": "stream",
     "text": [
      "IEEE transactions on fuzzy systems has homepage_url and type journal\n"
     ]
    },
    {
     "name": "stderr",
     "output_type": "stream",
     "text": [
      "  3%|██▍                                                                    | 45/1337 [00:25<10:41,  2.01it/s]"
     ]
    },
    {
     "name": "stdout",
     "output_type": "stream",
     "text": [
      "IEEE journal of radio frequency identification has homepage_url and type journal\n"
     ]
    },
    {
     "name": "stderr",
     "output_type": "stream",
     "text": [
      "  3%|██▍                                                                    | 46/1337 [00:25<10:21,  2.08it/s]"
     ]
    },
    {
     "name": "stdout",
     "output_type": "stream",
     "text": [
      "Procedia engineering has homepage_url and type journal\n"
     ]
    },
    {
     "name": "stderr",
     "output_type": "stream",
     "text": [
      "  4%|██▍                                                                    | 47/1337 [00:26<12:38,  1.70it/s]"
     ]
    },
    {
     "name": "stdout",
     "output_type": "stream",
     "text": [
      "Applied sciences has homepage_url and type journal\n"
     ]
    },
    {
     "name": "stderr",
     "output_type": "stream",
     "text": [
      "  4%|██▌                                                                    | 48/1337 [00:27<12:03,  1.78it/s]"
     ]
    },
    {
     "name": "stdout",
     "output_type": "stream",
     "text": [
      "International journal of robust and nonlinear control has homepage_url and type journal\n"
     ]
    },
    {
     "name": "stderr",
     "output_type": "stream",
     "text": [
      "  4%|██▌                                                                    | 49/1337 [00:27<11:12,  1.91it/s]"
     ]
    },
    {
     "name": "stdout",
     "output_type": "stream",
     "text": [
      "Computers and electronics in agriculture has homepage_url and type journal\n"
     ]
    },
    {
     "name": "stderr",
     "output_type": "stream",
     "text": [
      "  4%|██▋                                                                    | 50/1337 [00:29<19:11,  1.12it/s]"
     ]
    },
    {
     "name": "stdout",
     "output_type": "stream",
     "text": [
      "Communications biology has homepage_url and type journal\n"
     ]
    },
    {
     "name": "stderr",
     "output_type": "stream",
     "text": [
      "  4%|██▋                                                                    | 51/1337 [00:29<16:32,  1.30it/s]"
     ]
    },
    {
     "name": "stdout",
     "output_type": "stream",
     "text": [
      "Journal of King Saud University. Engineering sciences/Maǧallaẗ ǧāmiʹaẗ al-malik Saʹūd. al-ʹUlūm al-handsiyyaẗ has homepage_url and type journal\n"
     ]
    },
    {
     "name": "stderr",
     "output_type": "stream",
     "text": [
      "  4%|██▊                                                                    | 52/1337 [00:30<14:31,  1.47it/s]"
     ]
    },
    {
     "name": "stdout",
     "output_type": "stream",
     "text": [
      "IEEE sensors journal has homepage_url and type journal\n"
     ]
    },
    {
     "name": "stderr",
     "output_type": "stream",
     "text": [
      "  4%|███                                                                    | 58/1337 [00:32<10:38,  2.00it/s]"
     ]
    },
    {
     "name": "stdout",
     "output_type": "stream",
     "text": [
      "Applied mathematical modelling has homepage_url and type journal\n"
     ]
    },
    {
     "name": "stderr",
     "output_type": "stream",
     "text": [
      "  4%|███▏                                                                   | 59/1337 [00:34<15:51,  1.34it/s]"
     ]
    },
    {
     "name": "stdout",
     "output_type": "stream",
     "text": [
      "Sensors has homepage_url and type journal\n"
     ]
    },
    {
     "name": "stderr",
     "output_type": "stream",
     "text": [
      "  4%|███▏                                                                   | 60/1337 [00:34<14:29,  1.47it/s]"
     ]
    },
    {
     "name": "stdout",
     "output_type": "stream",
     "text": [
      "Frontiers in neurorobotics has homepage_url and type journal\n"
     ]
    },
    {
     "name": "stderr",
     "output_type": "stream",
     "text": [
      "  5%|███▏                                                                   | 61/1337 [00:35<12:55,  1.65it/s]"
     ]
    },
    {
     "name": "stdout",
     "output_type": "stream",
     "text": [
      "Journal of field robotics has homepage_url and type journal\n"
     ]
    },
    {
     "name": "stderr",
     "output_type": "stream",
     "text": [
      "  5%|███▎                                                                   | 62/1337 [00:35<12:00,  1.77it/s]"
     ]
    },
    {
     "name": "stdout",
     "output_type": "stream",
     "text": [
      "Advances in intelligent systems and computing has homepage_url and type book series\n"
     ]
    },
    {
     "name": "stderr",
     "output_type": "stream",
     "text": [
      "  5%|███▎                                                                   | 63/1337 [00:36<11:30,  1.84it/s]"
     ]
    },
    {
     "name": "stdout",
     "output_type": "stream",
     "text": [
      "Materials today: proceedings has homepage_url and type journal\n"
     ]
    },
    {
     "name": "stderr",
     "output_type": "stream",
     "text": [
      "  5%|███▍                                                                   | 65/1337 [00:37<10:23,  2.04it/s]"
     ]
    },
    {
     "name": "stdout",
     "output_type": "stream",
     "text": [
      "Scientia iranica has homepage_url and type journal\n"
     ]
    },
    {
     "name": "stderr",
     "output_type": "stream",
     "text": [
      "  5%|███▌                                                                   | 66/1337 [00:37<10:03,  2.11it/s]"
     ]
    },
    {
     "name": "stdout",
     "output_type": "stream",
     "text": [
      "Applied soft computing has homepage_url and type journal\n"
     ]
    },
    {
     "name": "stderr",
     "output_type": "stream",
     "text": [
      "  5%|███▌                                                                   | 67/1337 [00:37<09:53,  2.14it/s]"
     ]
    },
    {
     "name": "stdout",
     "output_type": "stream",
     "text": [
      "Procedia CIRP has homepage_url and type journal\n"
     ]
    },
    {
     "name": "stderr",
     "output_type": "stream",
     "text": [
      "  5%|███▌                                                                   | 68/1337 [00:38<09:54,  2.14it/s]"
     ]
    },
    {
     "name": "stdout",
     "output_type": "stream",
     "text": [
      "Soft robotics has homepage_url and type journal\n"
     ]
    },
    {
     "name": "stderr",
     "output_type": "stream",
     "text": [
      "  5%|███▋                                                                   | 69/1337 [00:38<09:50,  2.15it/s]"
     ]
    },
    {
     "name": "stdout",
     "output_type": "stream",
     "text": [
      "IFAC-PapersOnLine has homepage_url and type journal\n"
     ]
    },
    {
     "name": "stderr",
     "output_type": "stream",
     "text": [
      "  5%|███▋                                                                   | 70/1337 [00:39<09:39,  2.19it/s]"
     ]
    },
    {
     "name": "stdout",
     "output_type": "stream",
     "text": [
      "International journal of advanced robotic systems has homepage_url and type journal\n"
     ]
    },
    {
     "name": "stderr",
     "output_type": "stream",
     "text": [
      "  5%|███▊                                                                   | 72/1337 [00:40<10:00,  2.11it/s]"
     ]
    },
    {
     "name": "stdout",
     "output_type": "stream",
     "text": [
      "Studies in informatics and control has homepage_url and type journal\n"
     ]
    },
    {
     "name": "stderr",
     "output_type": "stream",
     "text": [
      "  5%|███▉                                                                   | 73/1337 [00:40<10:17,  2.05it/s]"
     ]
    },
    {
     "name": "stdout",
     "output_type": "stream",
     "text": [
      "Neural computation has homepage_url and type journal\n"
     ]
    },
    {
     "name": "stderr",
     "output_type": "stream",
     "text": [
      "  6%|███▉                                                                   | 74/1337 [00:42<16:06,  1.31it/s]"
     ]
    },
    {
     "name": "stdout",
     "output_type": "stream",
     "text": [
      "Robotics has homepage_url and type journal\n"
     ]
    },
    {
     "name": "stderr",
     "output_type": "stream",
     "text": [
      "  6%|███▉                                                                   | 75/1337 [00:42<14:05,  1.49it/s]"
     ]
    },
    {
     "name": "stdout",
     "output_type": "stream",
     "text": [
      "Journal of the Franklin Institute has homepage_url and type journal\n"
     ]
    },
    {
     "name": "stderr",
     "output_type": "stream",
     "text": [
      "  6%|████                                                                   | 76/1337 [00:43<12:32,  1.68it/s]"
     ]
    },
    {
     "name": "stdout",
     "output_type": "stream",
     "text": [
      "IEEE/CAA journal of automatica sinica has homepage_url and type journal\n"
     ]
    },
    {
     "name": "stderr",
     "output_type": "stream",
     "text": [
      "  6%|████                                                                   | 77/1337 [00:43<11:34,  1.81it/s]"
     ]
    },
    {
     "name": "stdout",
     "output_type": "stream",
     "text": [
      "IEEE control systems letters has homepage_url and type journal\n"
     ]
    },
    {
     "name": "stderr",
     "output_type": "stream",
     "text": [
      "  6%|████▏                                                                  | 78/1337 [00:43<10:48,  1.94it/s]"
     ]
    },
    {
     "name": "stdout",
     "output_type": "stream",
     "text": [
      "Frontiers in robotics and AI has homepage_url and type journal\n"
     ]
    },
    {
     "name": "stderr",
     "output_type": "stream",
     "text": [
      "  6%|████▏                                                                  | 79/1337 [00:44<10:36,  1.98it/s]"
     ]
    },
    {
     "name": "stdout",
     "output_type": "stream",
     "text": [
      "IEEE transactions on medical robotics and bionics has homepage_url and type journal\n"
     ]
    },
    {
     "name": "stderr",
     "output_type": "stream",
     "text": [
      "  6%|████▎                                                                  | 81/1337 [00:45<10:05,  2.07it/s]"
     ]
    },
    {
     "name": "stdout",
     "output_type": "stream",
     "text": [
      "Automation in construction has homepage_url and type journal\n"
     ]
    },
    {
     "name": "stderr",
     "output_type": "stream",
     "text": [
      "  6%|████▎                                                                  | 82/1337 [00:46<15:27,  1.35it/s]"
     ]
    },
    {
     "name": "stdout",
     "output_type": "stream",
     "text": [
      "Mathematics has homepage_url and type journal\n"
     ]
    },
    {
     "name": "stderr",
     "output_type": "stream",
     "text": [
      "  6%|████▍                                                                  | 83/1337 [00:47<13:31,  1.55it/s]"
     ]
    },
    {
     "name": "stdout",
     "output_type": "stream",
     "text": [
      "AIP advances has homepage_url and type journal\n"
     ]
    },
    {
     "name": "stderr",
     "output_type": "stream",
     "text": [
      "  6%|████▍                                                                  | 84/1337 [00:47<12:18,  1.70it/s]"
     ]
    },
    {
     "name": "stdout",
     "output_type": "stream",
     "text": [
      "Journal of mechanisms and robotics has homepage_url and type journal\n"
     ]
    },
    {
     "name": "stderr",
     "output_type": "stream",
     "text": [
      "  6%|████▌                                                                  | 85/1337 [00:48<12:09,  1.72it/s]"
     ]
    },
    {
     "name": "stdout",
     "output_type": "stream",
     "text": [
      "Mechanical sciences has homepage_url and type journal\n"
     ]
    },
    {
     "name": "stderr",
     "output_type": "stream",
     "text": [
      "  7%|████▌                                                                  | 87/1337 [00:49<10:46,  1.93it/s]"
     ]
    },
    {
     "name": "stdout",
     "output_type": "stream",
     "text": [
      "Journal of robotics and mechatronics has homepage_url and type journal\n"
     ]
    },
    {
     "name": "stderr",
     "output_type": "stream",
     "text": [
      "  7%|████▋                                                                  | 88/1337 [00:49<10:50,  1.92it/s]"
     ]
    },
    {
     "name": "stdout",
     "output_type": "stream",
     "text": [
      "Research Square (Research Square) has homepage_url and type repository\n"
     ]
    },
    {
     "name": "stderr",
     "output_type": "stream",
     "text": [
      "  7%|████▋                                                                  | 89/1337 [00:50<10:24,  2.00it/s]"
     ]
    },
    {
     "name": "stdout",
     "output_type": "stream",
     "text": [
      "Journal of spacecraft and rockets has homepage_url and type journal\n"
     ]
    },
    {
     "name": "stderr",
     "output_type": "stream",
     "text": [
      "  7%|████▊                                                                  | 90/1337 [00:50<10:06,  2.05it/s]"
     ]
    },
    {
     "name": "stdout",
     "output_type": "stream",
     "text": [
      "Al-Khwarizmi engineering journal/Al-Khwarizmi engineering journal has homepage_url and type journal\n"
     ]
    },
    {
     "name": "stderr",
     "output_type": "stream",
     "text": [
      "  7%|████▊                                                                  | 91/1337 [00:51<09:58,  2.08it/s]"
     ]
    },
    {
     "name": "stdout",
     "output_type": "stream",
     "text": [
      "Lecture notes in electrical engineering has homepage_url and type book series\n"
     ]
    },
    {
     "name": "stderr",
     "output_type": "stream",
     "text": [
      "  7%|████▉                                                                  | 92/1337 [00:51<09:52,  2.10it/s]"
     ]
    },
    {
     "name": "stdout",
     "output_type": "stream",
     "text": [
      "Advances in space research has homepage_url and type journal\n"
     ]
    },
    {
     "name": "stderr",
     "output_type": "stream",
     "text": [
      "  7%|████▉                                                                  | 93/1337 [00:51<09:43,  2.13it/s]"
     ]
    },
    {
     "name": "stdout",
     "output_type": "stream",
     "text": [
      "Lecture notes in networks and systems has homepage_url and type book series\n"
     ]
    },
    {
     "name": "stderr",
     "output_type": "stream",
     "text": [
      "  7%|████▉                                                                  | 94/1337 [00:52<09:29,  2.18it/s]"
     ]
    },
    {
     "name": "stdout",
     "output_type": "stream",
     "text": [
      "Bio web of conferences/BIO web of conferences has homepage_url and type journal\n"
     ]
    },
    {
     "name": "stderr",
     "output_type": "stream",
     "text": [
      "  7%|█████                                                                  | 95/1337 [00:52<09:38,  2.15it/s]"
     ]
    },
    {
     "name": "stdout",
     "output_type": "stream",
     "text": [
      "Žurnal Srednevolžskogo matematičeskogo obŝestva has homepage_url and type journal\n"
     ]
    },
    {
     "name": "stderr",
     "output_type": "stream",
     "text": [
      "  7%|█████                                                                  | 96/1337 [00:53<10:01,  2.06it/s]"
     ]
    },
    {
     "name": "stdout",
     "output_type": "stream",
     "text": [
      "International journal of non-linear mechanics has homepage_url and type journal\n"
     ]
    },
    {
     "name": "stderr",
     "output_type": "stream",
     "text": [
      "  7%|█████▏                                                                 | 97/1337 [00:53<10:00,  2.06it/s]"
     ]
    },
    {
     "name": "stdout",
     "output_type": "stream",
     "text": [
      "Transactions of the Institute of Measurement and Control has homepage_url and type journal\n"
     ]
    },
    {
     "name": "stderr",
     "output_type": "stream",
     "text": [
      "  7%|█████▏                                                                 | 98/1337 [00:55<20:02,  1.03it/s]"
     ]
    },
    {
     "name": "stdout",
     "output_type": "stream",
     "text": [
      "Advanced robotics has homepage_url and type journal\n"
     ]
    },
    {
     "name": "stderr",
     "output_type": "stream",
     "text": [
      "  7%|█████▏                                                                | 100/1337 [00:57<19:33,  1.05it/s]"
     ]
    },
    {
     "name": "stdout",
     "output_type": "stream",
     "text": [
      "Neural networks has homepage_url and type journal\n"
     ]
    },
    {
     "name": "stderr",
     "output_type": "stream",
     "text": [
      "  8%|█████▎                                                                | 101/1337 [00:58<16:28,  1.25it/s]"
     ]
    },
    {
     "name": "stdout",
     "output_type": "stream",
     "text": [
      "IEEE transactions on control of network systems has homepage_url and type journal\n"
     ]
    },
    {
     "name": "stderr",
     "output_type": "stream",
     "text": [
      "  8%|█████▎                                                                | 102/1337 [00:58<14:18,  1.44it/s]"
     ]
    },
    {
     "name": "stdout",
     "output_type": "stream",
     "text": [
      "Transactions on internet and information systems has homepage_url and type journal\n"
     ]
    },
    {
     "name": "stderr",
     "output_type": "stream",
     "text": [
      "  8%|█████▍                                                                | 103/1337 [00:59<14:55,  1.38it/s]"
     ]
    },
    {
     "name": "stdout",
     "output_type": "stream",
     "text": [
      "Machines has homepage_url and type journal\n"
     ]
    },
    {
     "name": "stderr",
     "output_type": "stream",
     "text": [
      "  8%|█████▍                                                                | 104/1337 [00:59<13:10,  1.56it/s]"
     ]
    },
    {
     "name": "stdout",
     "output_type": "stream",
     "text": [
      "Cyborg and bionic systems has homepage_url and type journal\n"
     ]
    },
    {
     "name": "stderr",
     "output_type": "stream",
     "text": [
      "  8%|█████▍                                                                | 105/1337 [01:00<16:15,  1.26it/s]"
     ]
    },
    {
     "name": "stdout",
     "output_type": "stream",
     "text": [
      "Actuators has homepage_url and type journal\n"
     ]
    },
    {
     "name": "stderr",
     "output_type": "stream",
     "text": [
      "  8%|█████▋                                                                | 108/1337 [01:02<14:13,  1.44it/s]"
     ]
    },
    {
     "name": "stdout",
     "output_type": "stream",
     "text": [
      "Electronics has homepage_url and type journal\n"
     ]
    },
    {
     "name": "stderr",
     "output_type": "stream",
     "text": [
      "  8%|█████▋                                                                | 109/1337 [01:03<12:38,  1.62it/s]"
     ]
    },
    {
     "name": "stdout",
     "output_type": "stream",
     "text": [
      "Mathematical methods in the applied sciences has homepage_url and type journal\n"
     ]
    },
    {
     "name": "stderr",
     "output_type": "stream",
     "text": [
      "  8%|█████▊                                                                | 110/1337 [01:04<17:25,  1.17it/s]"
     ]
    },
    {
     "name": "stdout",
     "output_type": "stream",
     "text": [
      "Processes has homepage_url and type journal\n"
     ]
    },
    {
     "name": "stderr",
     "output_type": "stream",
     "text": [
      "  8%|█████▊                                                                | 111/1337 [01:05<14:47,  1.38it/s]"
     ]
    },
    {
     "name": "stdout",
     "output_type": "stream",
     "text": [
      "AIP conference proceedings has homepage_url and type journal\n"
     ]
    },
    {
     "name": "stderr",
     "output_type": "stream",
     "text": [
      "  8%|█████▊                                                                | 112/1337 [01:06<18:22,  1.11it/s]"
     ]
    },
    {
     "name": "stdout",
     "output_type": "stream",
     "text": [
      "Ocean engineering has homepage_url and type journal\n"
     ]
    },
    {
     "name": "stderr",
     "output_type": "stream",
     "text": [
      "  8%|█████▉                                                                | 113/1337 [01:06<15:51,  1.29it/s]"
     ]
    },
    {
     "name": "stdout",
     "output_type": "stream",
     "text": [
      "American journal of obstetrics and gynecology has homepage_url and type journal\n"
     ]
    },
    {
     "name": "stderr",
     "output_type": "stream",
     "text": [
      "  9%|██████                                                                | 115/1337 [01:07<13:39,  1.49it/s]"
     ]
    },
    {
     "name": "stdout",
     "output_type": "stream",
     "text": [
      "Symmetry has homepage_url and type journal\n"
     ]
    },
    {
     "name": "stderr",
     "output_type": "stream",
     "text": [
      "  9%|██████                                                                | 116/1337 [01:08<12:07,  1.68it/s]"
     ]
    },
    {
     "name": "stdout",
     "output_type": "stream",
     "text": [
      "Acta polytechnica Hungarica has homepage_url and type journal\n"
     ]
    },
    {
     "name": "stderr",
     "output_type": "stream",
     "text": [
      "  9%|██████▏                                                               | 117/1337 [01:08<11:10,  1.82it/s]"
     ]
    },
    {
     "name": "stdout",
     "output_type": "stream",
     "text": [
      "Chinese journal of aeronautics/Chinese Journal of Aeronautics has homepage_url and type journal\n"
     ]
    },
    {
     "name": "stderr",
     "output_type": "stream",
     "text": [
      "  9%|██████▏                                                               | 118/1337 [01:09<10:44,  1.89it/s]"
     ]
    },
    {
     "name": "stdout",
     "output_type": "stream",
     "text": [
      "Frontiers in energy research has homepage_url and type journal\n"
     ]
    },
    {
     "name": "stderr",
     "output_type": "stream",
     "text": [
      "  9%|██████▏                                                               | 119/1337 [01:09<10:04,  2.01it/s]"
     ]
    },
    {
     "name": "stdout",
     "output_type": "stream",
     "text": [
      "Engineering research express has homepage_url and type journal\n"
     ]
    },
    {
     "name": "stderr",
     "output_type": "stream",
     "text": [
      "  9%|██████▎                                                               | 120/1337 [01:10<09:40,  2.10it/s]"
     ]
    },
    {
     "name": "stdout",
     "output_type": "stream",
     "text": [
      "AIMS mathematics has homepage_url and type journal\n"
     ]
    },
    {
     "name": "stderr",
     "output_type": "stream",
     "text": [
      "  9%|██████▎                                                               | 121/1337 [01:10<09:21,  2.16it/s]"
     ]
    },
    {
     "name": "stdout",
     "output_type": "stream",
     "text": [
      "International journal of adaptive control and signal processing has homepage_url and type journal\n"
     ]
    },
    {
     "name": "stderr",
     "output_type": "stream",
     "text": [
      "  9%|██████▍                                                               | 123/1337 [01:11<11:34,  1.75it/s]"
     ]
    },
    {
     "name": "stdout",
     "output_type": "stream",
     "text": [
      "International journal of control has homepage_url and type journal\n"
     ]
    },
    {
     "name": "stderr",
     "output_type": "stream",
     "text": [
      "  9%|██████▍                                                               | 124/1337 [01:12<11:16,  1.79it/s]"
     ]
    },
    {
     "name": "stdout",
     "output_type": "stream",
     "text": [
      "AIMS electronics and electrical engineering has homepage_url and type journal\n"
     ]
    },
    {
     "name": "stderr",
     "output_type": "stream",
     "text": [
      "  9%|██████▌                                                               | 126/1337 [01:13<09:56,  2.03it/s]"
     ]
    },
    {
     "name": "stdout",
     "output_type": "stream",
     "text": [
      "International journal of electrical engineering education has homepage_url and type journal\n"
     ]
    },
    {
     "name": "stderr",
     "output_type": "stream",
     "text": [
      "  9%|██████▋                                                               | 127/1337 [01:13<09:44,  2.07it/s]"
     ]
    },
    {
     "name": "stdout",
     "output_type": "stream",
     "text": [
      "Interdisciplinary description of complex systems has homepage_url and type journal\n"
     ]
    },
    {
     "name": "stderr",
     "output_type": "stream",
     "text": [
      " 10%|██████▋                                                               | 128/1337 [01:14<09:32,  2.11it/s]"
     ]
    },
    {
     "name": "stdout",
     "output_type": "stream",
     "text": [
      "IOP conference series. Materials science and engineering has homepage_url and type conference\n"
     ]
    },
    {
     "name": "stderr",
     "output_type": "stream",
     "text": [
      " 10%|██████▊                                                               | 130/1337 [01:15<11:01,  1.82it/s]"
     ]
    },
    {
     "name": "stdout",
     "output_type": "stream",
     "text": [
      "Simulation has homepage_url and type journal\n"
     ]
    },
    {
     "name": "stderr",
     "output_type": "stream",
     "text": [
      " 10%|██████▊                                                               | 131/1337 [01:15<10:19,  1.95it/s]"
     ]
    },
    {
     "name": "stdout",
     "output_type": "stream",
     "text": [
      "International journal of humanoid robotics has homepage_url and type journal\n"
     ]
    },
    {
     "name": "stderr",
     "output_type": "stream",
     "text": [
      " 10%|██████▉                                                               | 133/1337 [01:16<09:55,  2.02it/s]"
     ]
    },
    {
     "name": "stdout",
     "output_type": "stream",
     "text": [
      "Revista IEEE América Latina has homepage_url and type journal\n"
     ]
    },
    {
     "name": "stderr",
     "output_type": "stream",
     "text": [
      " 10%|███████                                                               | 134/1337 [01:17<09:34,  2.09it/s]"
     ]
    },
    {
     "name": "stdout",
     "output_type": "stream",
     "text": [
      "International journal of dynamics and control has homepage_url and type journal\n"
     ]
    },
    {
     "name": "stderr",
     "output_type": "stream",
     "text": [
      " 10%|███████                                                               | 135/1337 [01:17<09:28,  2.11it/s]"
     ]
    },
    {
     "name": "stdout",
     "output_type": "stream",
     "text": [
      "Communications in computer and information science has homepage_url and type book series\n"
     ]
    },
    {
     "name": "stderr",
     "output_type": "stream",
     "text": [
      " 10%|███████▏                                                              | 137/1337 [01:18<09:14,  2.16it/s]"
     ]
    },
    {
     "name": "stdout",
     "output_type": "stream",
     "text": [
      "Expert systems with applications has homepage_url and type journal\n"
     ]
    },
    {
     "name": "stderr",
     "output_type": "stream",
     "text": [
      " 10%|███████▏                                                              | 138/1337 [01:18<09:04,  2.20it/s]"
     ]
    },
    {
     "name": "stdout",
     "output_type": "stream",
     "text": [
      "Drones has homepage_url and type journal\n"
     ]
    },
    {
     "name": "stderr",
     "output_type": "stream",
     "text": [
      " 10%|███████▎                                                              | 140/1337 [01:19<09:02,  2.21it/s]"
     ]
    },
    {
     "name": "stdout",
     "output_type": "stream",
     "text": [
      "Journal of Theoretical and Applied Mechanics/Mechanika Teoretyczna i Stosowana has homepage_url and type journal\n"
     ]
    },
    {
     "name": "stderr",
     "output_type": "stream",
     "text": [
      " 11%|███████▍                                                              | 141/1337 [01:20<09:01,  2.21it/s]"
     ]
    },
    {
     "name": "stdout",
     "output_type": "stream",
     "text": [
      "Mechanics based design of structures and machines has homepage_url and type journal\n"
     ]
    },
    {
     "name": "stderr",
     "output_type": "stream",
     "text": [
      " 11%|███████▍                                                              | 142/1337 [01:20<08:57,  2.22it/s]"
     ]
    },
    {
     "name": "stdout",
     "output_type": "stream",
     "text": [
      "Journal of vibration and control has homepage_url and type journal\n"
     ]
    },
    {
     "name": "stderr",
     "output_type": "stream",
     "text": [
      " 11%|███████▊                                                              | 150/1337 [01:24<08:44,  2.26it/s]"
     ]
    },
    {
     "name": "stdout",
     "output_type": "stream",
     "text": [
      "Intelligent systems reference library has homepage_url and type book series\n"
     ]
    },
    {
     "name": "stderr",
     "output_type": "stream",
     "text": [
      " 11%|████████                                                              | 153/1337 [01:25<08:36,  2.29it/s]"
     ]
    },
    {
     "name": "stdout",
     "output_type": "stream",
     "text": [
      "Rossijskij tehnologičeskij žurnal/Russian technological journal has homepage_url and type journal\n"
     ]
    },
    {
     "name": "stderr",
     "output_type": "stream",
     "text": [
      " 12%|████████                                                              | 154/1337 [01:26<08:39,  2.28it/s]"
     ]
    },
    {
     "name": "stdout",
     "output_type": "stream",
     "text": [
      "Zenodo (CERN European Organization for Nuclear Research) has homepage_url and type repository\n"
     ]
    },
    {
     "name": "stderr",
     "output_type": "stream",
     "text": [
      " 12%|████████                                                              | 155/1337 [01:26<09:06,  2.16it/s]"
     ]
    },
    {
     "name": "stdout",
     "output_type": "stream",
     "text": [
      "International Journal of Applied Mathematics and Computer Science has homepage_url and type journal\n"
     ]
    },
    {
     "name": "stderr",
     "output_type": "stream",
     "text": [
      " 12%|████████▏                                                             | 156/1337 [01:27<09:12,  2.14it/s]"
     ]
    },
    {
     "name": "stdout",
     "output_type": "stream",
     "text": [
      "International journal of intelligent systems and applications has homepage_url and type journal\n"
     ]
    },
    {
     "name": "stderr",
     "output_type": "stream",
     "text": [
      " 12%|████████▏                                                             | 157/1337 [01:27<09:08,  2.15it/s]"
     ]
    },
    {
     "name": "stdout",
     "output_type": "stream",
     "text": [
      "Mathematical problems in engineering has homepage_url and type journal\n"
     ]
    },
    {
     "name": "stderr",
     "output_type": "stream",
     "text": [
      " 12%|████████▎                                                             | 158/1337 [01:27<08:57,  2.19it/s]"
     ]
    },
    {
     "name": "stdout",
     "output_type": "stream",
     "text": [
      "The International journal of computational intelligence systems/International journal of computational intelligence systems has homepage_url and type journal\n"
     ]
    },
    {
     "name": "stderr",
     "output_type": "stream",
     "text": [
      " 12%|████████▎                                                             | 159/1337 [01:28<08:44,  2.25it/s]"
     ]
    },
    {
     "name": "stdout",
     "output_type": "stream",
     "text": [
      "Assembly automation has homepage_url and type journal\n"
     ]
    },
    {
     "name": "stderr",
     "output_type": "stream",
     "text": [
      " 12%|████████▍                                                             | 160/1337 [01:28<08:40,  2.26it/s]"
     ]
    },
    {
     "name": "stdout",
     "output_type": "stream",
     "text": [
      "Pattern recognition letters has homepage_url and type journal\n"
     ]
    },
    {
     "name": "stderr",
     "output_type": "stream",
     "text": [
      " 12%|████████▌                                                             | 163/1337 [01:30<08:38,  2.27it/s]"
     ]
    },
    {
     "name": "stdout",
     "output_type": "stream",
     "text": [
      "IEEE transactions on industry applications has homepage_url and type journal\n"
     ]
    },
    {
     "name": "stderr",
     "output_type": "stream",
     "text": [
      " 12%|████████▌                                                             | 164/1337 [01:30<08:50,  2.21it/s]"
     ]
    },
    {
     "name": "stdout",
     "output_type": "stream",
     "text": [
      "Mechanical systems and signal processing has homepage_url and type journal\n"
     ]
    },
    {
     "name": "stderr",
     "output_type": "stream",
     "text": [
      " 12%|████████▋                                                             | 165/1337 [01:31<08:48,  2.22it/s]"
     ]
    },
    {
     "name": "stdout",
     "output_type": "stream",
     "text": [
      "Lecture notes in computer science has homepage_url and type book series\n"
     ]
    },
    {
     "name": "stderr",
     "output_type": "stream",
     "text": [
      " 13%|█████████                                                             | 172/1337 [01:34<12:25,  1.56it/s]"
     ]
    },
    {
     "name": "stdout",
     "output_type": "stream",
     "text": [
      "Inventions has homepage_url and type journal\n"
     ]
    },
    {
     "name": "stderr",
     "output_type": "stream",
     "text": [
      " 13%|█████████                                                             | 173/1337 [01:36<16:40,  1.16it/s]"
     ]
    },
    {
     "name": "stdout",
     "output_type": "stream",
     "text": [
      "Measurement has homepage_url and type journal\n"
     ]
    },
    {
     "name": "stderr",
     "output_type": "stream",
     "text": [
      " 13%|█████████                                                             | 174/1337 [01:36<14:38,  1.32it/s]"
     ]
    },
    {
     "name": "stdout",
     "output_type": "stream",
     "text": [
      "Science robotics has homepage_url and type journal\n"
     ]
    },
    {
     "name": "stderr",
     "output_type": "stream",
     "text": [
      " 13%|█████████▏                                                            | 175/1337 [01:37<12:58,  1.49it/s]"
     ]
    },
    {
     "name": "stdout",
     "output_type": "stream",
     "text": [
      "Lecture notes in mechanical engineering has homepage_url and type book series\n"
     ]
    },
    {
     "name": "stderr",
     "output_type": "stream",
     "text": [
      " 13%|█████████▏                                                            | 176/1337 [01:37<11:43,  1.65it/s]"
     ]
    },
    {
     "name": "stdout",
     "output_type": "stream",
     "text": [
      "Journal of mobile information systems has homepage_url and type journal\n"
     ]
    },
    {
     "name": "stderr",
     "output_type": "stream",
     "text": [
      " 13%|█████████▎                                                            | 177/1337 [01:38<14:41,  1.32it/s]"
     ]
    },
    {
     "name": "stdout",
     "output_type": "stream",
     "text": [
      "International journal of engineering and manufacturing has homepage_url and type journal\n"
     ]
    },
    {
     "name": "stderr",
     "output_type": "stream",
     "text": [
      " 13%|█████████▎                                                            | 178/1337 [01:39<12:53,  1.50it/s]"
     ]
    },
    {
     "name": "stdout",
     "output_type": "stream",
     "text": [
      "Swarm and evolutionary computation has homepage_url and type journal\n"
     ]
    },
    {
     "name": "stderr",
     "output_type": "stream",
     "text": [
      " 13%|█████████▎                                                            | 179/1337 [01:39<11:34,  1.67it/s]"
     ]
    },
    {
     "name": "stdout",
     "output_type": "stream",
     "text": [
      "arXiv (Cornell University) has homepage_url and type repository\n"
     ]
    },
    {
     "name": "stderr",
     "output_type": "stream",
     "text": [
      " 13%|█████████▍                                                            | 180/1337 [01:40<10:33,  1.83it/s]"
     ]
    },
    {
     "name": "stdout",
     "output_type": "stream",
     "text": [
      "International journal of computer assisted radiology and surgery has homepage_url and type journal\n"
     ]
    },
    {
     "name": "stderr",
     "output_type": "stream",
     "text": [
      " 14%|█████████▍                                                            | 181/1337 [01:40<09:49,  1.96it/s]"
     ]
    },
    {
     "name": "stdout",
     "output_type": "stream",
     "text": [
      "Journal of the Brazilian Society of Mechanical Sciences and Engineering has homepage_url and type journal\n"
     ]
    },
    {
     "name": "stderr",
     "output_type": "stream",
     "text": [
      " 14%|█████████▌                                                            | 182/1337 [01:41<09:18,  2.07it/s]"
     ]
    },
    {
     "name": "stdout",
     "output_type": "stream",
     "text": [
      "International journal of advanced technology and engineering exploration has homepage_url and type journal\n"
     ]
    },
    {
     "name": "stderr",
     "output_type": "stream",
     "text": [
      " 14%|█████████▋                                                            | 184/1337 [01:41<09:02,  2.12it/s]"
     ]
    },
    {
     "name": "stdout",
     "output_type": "stream",
     "text": [
      "SpringerBriefs in applied sciences and technology has homepage_url and type book series\n"
     ]
    },
    {
     "name": "stderr",
     "output_type": "stream",
     "text": [
      " 14%|█████████▋                                                            | 185/1337 [01:43<13:51,  1.38it/s]"
     ]
    },
    {
     "name": "stdout",
     "output_type": "stream",
     "text": [
      "Recent patents on engineering has homepage_url and type journal\n"
     ]
    },
    {
     "name": "stderr",
     "output_type": "stream",
     "text": [
      " 14%|█████████▋                                                            | 186/1337 [01:43<12:31,  1.53it/s]"
     ]
    },
    {
     "name": "stdout",
     "output_type": "stream",
     "text": [
      "Courses and lectures has homepage_url and type book series\n"
     ]
    },
    {
     "name": "stderr",
     "output_type": "stream",
     "text": [
      " 14%|█████████▉                                                            | 189/1337 [01:45<15:09,  1.26it/s]"
     ]
    },
    {
     "name": "stdout",
     "output_type": "stream",
     "text": [
      "Complexity has homepage_url and type journal\n"
     ]
    },
    {
     "name": "stderr",
     "output_type": "stream",
     "text": [
      " 14%|██████████                                                            | 191/1337 [01:46<12:02,  1.59it/s]"
     ]
    },
    {
     "name": "stdout",
     "output_type": "stream",
     "text": [
      "MATEC web of conferences has homepage_url and type journal\n"
     ]
    },
    {
     "name": "stderr",
     "output_type": "stream",
     "text": [
      " 15%|██████████▏                                                           | 195/1337 [01:49<11:08,  1.71it/s]"
     ]
    },
    {
     "name": "stdout",
     "output_type": "stream",
     "text": [
      "Structures has homepage_url and type journal\n"
     ]
    },
    {
     "name": "stderr",
     "output_type": "stream",
     "text": [
      " 15%|██████████▎                                                           | 196/1337 [01:50<16:24,  1.16it/s]"
     ]
    },
    {
     "name": "stdout",
     "output_type": "stream",
     "text": [
      "International journal of online engineering has homepage_url and type journal\n"
     ]
    },
    {
     "name": "stderr",
     "output_type": "stream",
     "text": [
      " 15%|██████████▎                                                           | 197/1337 [01:50<13:53,  1.37it/s]"
     ]
    },
    {
     "name": "stdout",
     "output_type": "stream",
     "text": [
      "Zhōngguó gōngchéng xuékān has homepage_url and type journal\n"
     ]
    },
    {
     "name": "stderr",
     "output_type": "stream",
     "text": [
      " 15%|██████████▎                                                           | 198/1337 [01:52<17:16,  1.10it/s]"
     ]
    },
    {
     "name": "stdout",
     "output_type": "stream",
     "text": [
      "Algorithms has homepage_url and type journal\n"
     ]
    },
    {
     "name": "stderr",
     "output_type": "stream",
     "text": [
      " 15%|██████████▍                                                           | 199/1337 [01:52<15:20,  1.24it/s]"
     ]
    },
    {
     "name": "stdout",
     "output_type": "stream",
     "text": [
      "Universal journal of mechanical engineering has homepage_url and type journal\n"
     ]
    },
    {
     "name": "stderr",
     "output_type": "stream",
     "text": [
      " 15%|██████████▍                                                           | 200/1337 [01:53<13:22,  1.42it/s]"
     ]
    },
    {
     "name": "stdout",
     "output_type": "stream",
     "text": [
      "Sensors and materials has homepage_url and type journal\n"
     ]
    },
    {
     "name": "stderr",
     "output_type": "stream",
     "text": [
      " 15%|██████████▌                                                           | 201/1337 [01:54<15:20,  1.23it/s]"
     ]
    },
    {
     "name": "stdout",
     "output_type": "stream",
     "text": [
      "Advances in mechanical engineering/Advances in Mechanical Engineering has homepage_url and type journal\n"
     ]
    },
    {
     "name": "stderr",
     "output_type": "stream",
     "text": [
      " 15%|██████████▋                                                           | 203/1337 [01:55<11:45,  1.61it/s]"
     ]
    },
    {
     "name": "stdout",
     "output_type": "stream",
     "text": [
      "Lecture notes in control and information sciences has homepage_url and type book series\n"
     ]
    },
    {
     "name": "stderr",
     "output_type": "stream",
     "text": [
      " 15%|██████████▊                                                           | 207/1337 [01:58<11:30,  1.64it/s]"
     ]
    },
    {
     "name": "stdout",
     "output_type": "stream",
     "text": [
      "International journal of intelligent engineering and systems has homepage_url and type journal\n"
     ]
    },
    {
     "name": "stderr",
     "output_type": "stream",
     "text": [
      " 16%|██████████▉                                                           | 209/1337 [01:59<09:52,  1.91it/s]"
     ]
    },
    {
     "name": "stdout",
     "output_type": "stream",
     "text": [
      "Applied mechanics and materials has homepage_url and type journal\n"
     ]
    },
    {
     "name": "stderr",
     "output_type": "stream",
     "text": [
      " 16%|███████████                                                           | 211/1337 [02:00<09:19,  2.01it/s]"
     ]
    },
    {
     "name": "stdout",
     "output_type": "stream",
     "text": [
      "IEEE transactions on human-machine systems has homepage_url and type journal\n"
     ]
    },
    {
     "name": "stderr",
     "output_type": "stream",
     "text": [
      " 16%|███████████▏                                                          | 213/1337 [02:01<14:44,  1.27it/s]"
     ]
    },
    {
     "name": "stdout",
     "output_type": "stream",
     "text": [
      "Manufacturing Technology has homepage_url and type journal\n"
     ]
    },
    {
     "name": "stderr",
     "output_type": "stream",
     "text": [
      " 16%|███████████▎                                                          | 215/1337 [02:02<11:43,  1.59it/s]"
     ]
    },
    {
     "name": "stdout",
     "output_type": "stream",
     "text": [
      "Automatisierungstechnik has homepage_url and type journal\n"
     ]
    },
    {
     "name": "stderr",
     "output_type": "stream",
     "text": [
      " 16%|███████████▍                                                          | 218/1337 [02:04<09:33,  1.95it/s]"
     ]
    },
    {
     "name": "stdout",
     "output_type": "stream",
     "text": [
      "Springer tracts in advanced robotics has homepage_url and type book series\n"
     ]
    },
    {
     "name": "stderr",
     "output_type": "stream",
     "text": [
      " 16%|███████████▍                                                          | 219/1337 [02:04<09:05,  2.05it/s]"
     ]
    },
    {
     "name": "stdout",
     "output_type": "stream",
     "text": [
      "International journal of mechatronics and automation has homepage_url and type journal\n"
     ]
    },
    {
     "name": "stderr",
     "output_type": "stream",
     "text": [
      " 16%|███████████▌                                                          | 220/1337 [02:05<08:54,  2.09it/s]"
     ]
    },
    {
     "name": "stdout",
     "output_type": "stream",
     "text": [
      "International journal of digital signals and smart systems has homepage_url and type journal\n"
     ]
    },
    {
     "name": "stderr",
     "output_type": "stream",
     "text": [
      " 17%|███████████▌                                                          | 222/1337 [02:06<08:38,  2.15it/s]"
     ]
    },
    {
     "name": "stdout",
     "output_type": "stream",
     "text": [
      "DOAJ (DOAJ: Directory of Open Access Journals) has homepage_url and type repository\n"
     ]
    },
    {
     "name": "stderr",
     "output_type": "stream",
     "text": [
      " 17%|███████████▋                                                          | 223/1337 [02:08<19:57,  1.07s/it]"
     ]
    },
    {
     "name": "stdout",
     "output_type": "stream",
     "text": [
      "Journal of sensors has homepage_url and type journal\n"
     ]
    },
    {
     "name": "stderr",
     "output_type": "stream",
     "text": [
      " 17%|███████████▊                                                          | 225/1337 [02:14<33:15,  1.79s/it]"
     ]
    },
    {
     "name": "stdout",
     "output_type": "stream",
     "text": [
      "Journal of composites science has homepage_url and type journal\n"
     ]
    },
    {
     "name": "stderr",
     "output_type": "stream",
     "text": [
      " 17%|███████████▉                                                          | 228/1337 [02:15<16:42,  1.11it/s]"
     ]
    },
    {
     "name": "stdout",
     "output_type": "stream",
     "text": [
      "Mathematical biosciences and engineering has homepage_url and type journal\n"
     ]
    },
    {
     "name": "stderr",
     "output_type": "stream",
     "text": [
      " 17%|████████████                                                          | 231/1337 [02:17<11:28,  1.61it/s]"
     ]
    },
    {
     "name": "stdout",
     "output_type": "stream",
     "text": [
      "Advances in industrial control has homepage_url and type book series\n"
     ]
    },
    {
     "name": "stderr",
     "output_type": "stream",
     "text": [
      " 17%|████████████▏                                                         | 232/1337 [02:17<10:31,  1.75it/s]"
     ]
    },
    {
     "name": "stdout",
     "output_type": "stream",
     "text": [
      "Proceedings of the ... AAAI Conference on Artificial Intelligence has homepage_url and type conference\n"
     ]
    },
    {
     "name": "stderr",
     "output_type": "stream",
     "text": [
      " 18%|████████████▎                                                         | 235/1337 [02:19<09:26,  1.95it/s]"
     ]
    },
    {
     "name": "stdout",
     "output_type": "stream",
     "text": [
      "Elektronika ir elektrotechnika has homepage_url and type journal\n"
     ]
    },
    {
     "name": "stderr",
     "output_type": "stream",
     "text": [
      " 18%|████████████▌                                                         | 240/1337 [02:22<10:03,  1.82it/s]"
     ]
    },
    {
     "name": "stdout",
     "output_type": "stream",
     "text": [
      "HAL (Le Centre pour la Communication Scientifique Directe) has homepage_url and type repository\n"
     ]
    },
    {
     "name": "stderr",
     "output_type": "stream",
     "text": [
      " 18%|████████████▌                                                         | 241/1337 [02:23<13:15,  1.38it/s]"
     ]
    },
    {
     "name": "stdout",
     "output_type": "stream",
     "text": [
      "Mechanika has homepage_url and type journal\n"
     ]
    },
    {
     "name": "stderr",
     "output_type": "stream",
     "text": [
      " 18%|████████████▋                                                         | 243/1337 [02:24<10:57,  1.66it/s]"
     ]
    },
    {
     "name": "stdout",
     "output_type": "stream",
     "text": [
      "Indian journal of science and technology has homepage_url and type journal\n"
     ]
    },
    {
     "name": "stderr",
     "output_type": "stream",
     "text": [
      " 18%|████████████▊                                                         | 245/1337 [02:25<09:49,  1.85it/s]"
     ]
    },
    {
     "name": "stdout",
     "output_type": "stream",
     "text": [
      "International journal emerging technology and advanced engineering has homepage_url and type journal\n"
     ]
    },
    {
     "name": "stderr",
     "output_type": "stream",
     "text": [
      " 18%|████████████▉                                                         | 247/1337 [02:26<08:53,  2.04it/s]"
     ]
    },
    {
     "name": "stdout",
     "output_type": "stream",
     "text": [
      "Izvestiâ vysših učebnyh zavedenij. Mašinostroenie has homepage_url and type journal\n"
     ]
    },
    {
     "name": "stderr",
     "output_type": "stream",
     "text": [
      " 19%|█████████████                                                         | 249/1337 [02:26<08:23,  2.16it/s]"
     ]
    },
    {
     "name": "stdout",
     "output_type": "stream",
     "text": [
      "Frontiers in physics has homepage_url and type journal\n"
     ]
    },
    {
     "name": "stderr",
     "output_type": "stream",
     "text": [
      " 19%|█████████████▏                                                        | 253/1337 [02:28<08:48,  2.05it/s]"
     ]
    },
    {
     "name": "stdout",
     "output_type": "stream",
     "text": [
      "Rekayasa Mesin has homepage_url and type journal\n"
     ]
    },
    {
     "name": "stderr",
     "output_type": "stream",
     "text": [
      " 19%|█████████████▎                                                        | 254/1337 [02:29<08:42,  2.07it/s]"
     ]
    },
    {
     "name": "stdout",
     "output_type": "stream",
     "text": [
      "PAR. Pomiary Automatyka Robotyka/Pomiary Automatyka Robotyka has homepage_url and type journal\n"
     ]
    },
    {
     "name": "stderr",
     "output_type": "stream",
     "text": [
      " 19%|█████████████▎                                                        | 255/1337 [02:29<08:34,  2.11it/s]"
     ]
    },
    {
     "name": "stdout",
     "output_type": "stream",
     "text": [
      "Journal of marine science and engineering has homepage_url and type journal\n"
     ]
    },
    {
     "name": "stderr",
     "output_type": "stream",
     "text": [
      " 19%|█████████████▌                                                        | 258/1337 [02:31<08:30,  2.12it/s]"
     ]
    },
    {
     "name": "stdout",
     "output_type": "stream",
     "text": [
      "JIMEKA (Jurnal Ilmiah Mahasiswa Ekonomi Akuntansi) has homepage_url and type journal\n"
     ]
    },
    {
     "name": "stderr",
     "output_type": "stream",
     "text": [
      " 19%|█████████████▌                                                        | 260/1337 [02:32<12:47,  1.40it/s]"
     ]
    },
    {
     "name": "stdout",
     "output_type": "stream",
     "text": [
      "Journal of robotics has homepage_url and type journal\n"
     ]
    },
    {
     "name": "stderr",
     "output_type": "stream",
     "text": [
      " 20%|█████████████▊                                                        | 263/1337 [02:34<10:01,  1.79it/s]"
     ]
    },
    {
     "name": "stdout",
     "output_type": "stream",
     "text": [
      "Fractal and fractional has homepage_url and type journal\n"
     ]
    },
    {
     "name": "stderr",
     "output_type": "stream",
     "text": [
      " 20%|█████████████▊                                                        | 265/1337 [02:35<08:53,  2.01it/s]"
     ]
    },
    {
     "name": "stdout",
     "output_type": "stream",
     "text": [
      "SN Computer Science/SN computer science has homepage_url and type journal\n"
     ]
    },
    {
     "name": "stderr",
     "output_type": "stream",
     "text": [
      " 20%|█████████████▉                                                        | 266/1337 [02:35<08:33,  2.08it/s]"
     ]
    },
    {
     "name": "stdout",
     "output_type": "stream",
     "text": [
      "International review of automatic control has homepage_url and type journal\n"
     ]
    },
    {
     "name": "stderr",
     "output_type": "stream",
     "text": [
      " 20%|██████████████▏                                                       | 271/1337 [02:38<08:11,  2.17it/s]"
     ]
    },
    {
     "name": "stdout",
     "output_type": "stream",
     "text": [
      "Contemporary materials has homepage_url and type journal\n"
     ]
    },
    {
     "name": "stderr",
     "output_type": "stream",
     "text": [
      " 20%|██████████████▏                                                       | 272/1337 [02:38<08:21,  2.12it/s]"
     ]
    },
    {
     "name": "stdout",
     "output_type": "stream",
     "text": [
      "Journal of Robotics and Control/Journal of Robotics and Control (JRC) has homepage_url and type journal\n"
     ]
    },
    {
     "name": "stderr",
     "output_type": "stream",
     "text": [
      " 21%|██████████████▍                                                       | 275/1337 [02:39<08:09,  2.17it/s]"
     ]
    },
    {
     "name": "stdout",
     "output_type": "stream",
     "text": [
      "Studies in computational intelligence has homepage_url and type book series\n"
     ]
    },
    {
     "name": "stderr",
     "output_type": "stream",
     "text": [
      " 21%|██████████████▌                                                       | 278/1337 [02:41<07:53,  2.24it/s]"
     ]
    },
    {
     "name": "stdout",
     "output_type": "stream",
     "text": [
      "KnE engineering has homepage_url and type journal\n"
     ]
    },
    {
     "name": "stderr",
     "output_type": "stream",
     "text": [
      " 21%|██████████████▋                                                       | 280/1337 [02:42<07:52,  2.24it/s]"
     ]
    },
    {
     "name": "stdout",
     "output_type": "stream",
     "text": [
      "ITM web of conferences has homepage_url and type journal\n"
     ]
    },
    {
     "name": "stderr",
     "output_type": "stream",
     "text": [
      " 21%|██████████████▋                                                       | 281/1337 [02:42<07:51,  2.24it/s]"
     ]
    },
    {
     "name": "stdout",
     "output_type": "stream",
     "text": [
      "International journal of integrated engineering/International Journal of Integrated Engineering has homepage_url and type journal\n"
     ]
    },
    {
     "name": "stderr",
     "output_type": "stream",
     "text": [
      " 21%|██████████████▊                                                       | 284/1337 [02:43<07:54,  2.22it/s]"
     ]
    },
    {
     "name": "stdout",
     "output_type": "stream",
     "text": [
      "Europan journal of science and technology has homepage_url and type journal\n"
     ]
    },
    {
     "name": "stderr",
     "output_type": "stream",
     "text": [
      " 22%|███████████████                                                       | 288/1337 [02:45<07:53,  2.22it/s]"
     ]
    },
    {
     "name": "stdout",
     "output_type": "stream",
     "text": [
      "Nihon Robotto Gakkaishi has homepage_url and type journal\n"
     ]
    },
    {
     "name": "stderr",
     "output_type": "stream",
     "text": [
      " 22%|███████████████▏                                                      | 289/1337 [02:46<07:54,  2.21it/s]"
     ]
    },
    {
     "name": "stdout",
     "output_type": "stream",
     "text": [
      "Izvestiâ vysših učebnyh zavedenij. Prikladnaâ nelinejnaâ dinamika has homepage_url and type journal\n"
     ]
    },
    {
     "name": "stderr",
     "output_type": "stream",
     "text": [
      " 22%|███████████████▎                                                      | 292/1337 [02:47<08:09,  2.13it/s]"
     ]
    },
    {
     "name": "stdout",
     "output_type": "stream",
     "text": [
      "International journal for research in applied science and engineering technology has homepage_url and type journal\n"
     ]
    },
    {
     "name": "stderr",
     "output_type": "stream",
     "text": [
      " 22%|███████████████▎                                                      | 293/1337 [02:48<08:06,  2.15it/s]"
     ]
    },
    {
     "name": "stdout",
     "output_type": "stream",
     "text": [
      "Journal of physics. Conference series has homepage_url and type journal\n"
     ]
    },
    {
     "name": "stderr",
     "output_type": "stream",
     "text": [
      " 22%|███████████████▌                                                      | 298/1337 [02:50<07:47,  2.22it/s]"
     ]
    },
    {
     "name": "stdout",
     "output_type": "stream",
     "text": [
      "Micromachines has homepage_url and type journal\n"
     ]
    },
    {
     "name": "stderr",
     "output_type": "stream",
     "text": [
      " 23%|███████████████▊                                                      | 301/1337 [02:51<07:42,  2.24it/s]"
     ]
    },
    {
     "name": "stdout",
     "output_type": "stream",
     "text": [
      "Èlektronnye biblioteki has homepage_url and type journal\n"
     ]
    },
    {
     "name": "stderr",
     "output_type": "stream",
     "text": [
      " 23%|███████████████▊                                                      | 302/1337 [02:52<07:51,  2.20it/s]"
     ]
    },
    {
     "name": "stdout",
     "output_type": "stream",
     "text": [
      "Journal of intelligent manufacturing has homepage_url and type journal\n"
     ]
    },
    {
     "name": "stderr",
     "output_type": "stream",
     "text": [
      " 23%|███████████████▉                                                      | 304/1337 [02:53<10:40,  1.61it/s]"
     ]
    },
    {
     "name": "stdout",
     "output_type": "stream",
     "text": [
      "Gastrointestinal endoscopy has homepage_url and type journal\n"
     ]
    },
    {
     "name": "stderr",
     "output_type": "stream",
     "text": [
      " 23%|███████████████▉                                                      | 305/1337 [02:54<10:03,  1.71it/s]"
     ]
    },
    {
     "name": "stdout",
     "output_type": "stream",
     "text": [
      "Journal of healthcare engineering has homepage_url and type journal\n"
     ]
    },
    {
     "name": "stderr",
     "output_type": "stream",
     "text": [
      " 23%|████████████████                                                      | 306/1337 [02:54<09:17,  1.85it/s]"
     ]
    },
    {
     "name": "stdout",
     "output_type": "stream",
     "text": [
      "Advances in Sciences and Technology/Postępy Nauki i Techniki has homepage_url and type journal\n"
     ]
    },
    {
     "name": "stderr",
     "output_type": "stream",
     "text": [
      " 23%|████████████████▍                                                     | 313/1337 [02:57<07:43,  2.21it/s]"
     ]
    },
    {
     "name": "stdout",
     "output_type": "stream",
     "text": [
      "Journal of minimally invasive gynecology has homepage_url and type journal\n"
     ]
    },
    {
     "name": "stderr",
     "output_type": "stream",
     "text": [
      " 23%|████████████████▍                                                     | 314/1337 [02:58<07:40,  2.22it/s]"
     ]
    },
    {
     "name": "stdout",
     "output_type": "stream",
     "text": [
      "DergiPark (Istanbul University) has homepage_url and type repository\n"
     ]
    },
    {
     "name": "stderr",
     "output_type": "stream",
     "text": [
      " 24%|████████████████▍                                                     | 315/1337 [02:58<07:55,  2.15it/s]"
     ]
    },
    {
     "name": "stdout",
     "output_type": "stream",
     "text": [
      "Fusion engineering and design has homepage_url and type journal\n"
     ]
    },
    {
     "name": "stderr",
     "output_type": "stream",
     "text": [
      " 24%|████████████████▌                                                     | 316/1337 [02:59<07:51,  2.16it/s]"
     ]
    },
    {
     "name": "stdout",
     "output_type": "stream",
     "text": [
      "International journal of new technology and research has homepage_url and type journal\n"
     ]
    },
    {
     "name": "stderr",
     "output_type": "stream",
     "text": [
      " 24%|████████████████▋                                                     | 319/1337 [03:00<07:32,  2.25it/s]"
     ]
    },
    {
     "name": "stdout",
     "output_type": "stream",
     "text": [
      "Mathematical models in engineering has homepage_url and type journal\n"
     ]
    },
    {
     "name": "stderr",
     "output_type": "stream",
     "text": [
      " 24%|████████████████▊                                                     | 321/1337 [03:01<07:38,  2.22it/s]"
     ]
    },
    {
     "name": "stdout",
     "output_type": "stream",
     "text": [
      "International journal of ambient energy has homepage_url and type journal\n"
     ]
    },
    {
     "name": "stderr",
     "output_type": "stream",
     "text": [
      " 24%|████████████████▊                                                     | 322/1337 [03:01<07:30,  2.25it/s]"
     ]
    },
    {
     "name": "stdout",
     "output_type": "stream",
     "text": [
      "Fen-mühendislik dergisi/Dokuz Eylül Üniversitesi Mühendislik Fakültesi fen ve mühendislik dergisi has homepage_url and type journal\n"
     ]
    },
    {
     "name": "stderr",
     "output_type": "stream",
     "text": [
      " 25%|█████████████████▏                                                    | 328/1337 [03:04<07:54,  2.12it/s]"
     ]
    },
    {
     "name": "stdout",
     "output_type": "stream",
     "text": [
      "Jixie gongcheng xuebao has homepage_url and type journal\n"
     ]
    },
    {
     "name": "stderr",
     "output_type": "stream",
     "text": [
      " 25%|█████████████████▏                                                    | 329/1337 [03:05<07:47,  2.15it/s]"
     ]
    },
    {
     "name": "stdout",
     "output_type": "stream",
     "text": [
      "Journal of Engineering Science and Technology Review has homepage_url and type journal\n"
     ]
    },
    {
     "name": "stderr",
     "output_type": "stream",
     "text": [
      " 25%|█████████████████▎                                                    | 330/1337 [03:05<07:47,  2.15it/s]"
     ]
    },
    {
     "name": "stdout",
     "output_type": "stream",
     "text": [
      "JGH open has homepage_url and type journal\n"
     ]
    },
    {
     "name": "stderr",
     "output_type": "stream",
     "text": [
      " 25%|█████████████████▍                                                    | 332/1337 [03:06<08:54,  1.88it/s]"
     ]
    },
    {
     "name": "stdout",
     "output_type": "stream",
     "text": [
      "International journal of engineering and advanced technology has homepage_url and type journal\n"
     ]
    },
    {
     "name": "stderr",
     "output_type": "stream",
     "text": [
      " 25%|█████████████████▍                                                    | 333/1337 [03:07<08:49,  1.90it/s]"
     ]
    },
    {
     "name": "stdout",
     "output_type": "stream",
     "text": [
      "Linköping electronic conference proceedings has homepage_url and type conference\n"
     ]
    },
    {
     "name": "stderr",
     "output_type": "stream",
     "text": [
      " 25%|█████████████████▋                                                    | 339/1337 [03:10<07:51,  2.12it/s]"
     ]
    },
    {
     "name": "stdout",
     "output_type": "stream",
     "text": [
      "South African journal of industrial engineering has homepage_url and type journal\n"
     ]
    },
    {
     "name": "stderr",
     "output_type": "stream",
     "text": [
      " 26%|██████████████████                                                    | 344/1337 [03:12<07:26,  2.23it/s]"
     ]
    },
    {
     "name": "stdout",
     "output_type": "stream",
     "text": [
      "Journal of mechanics engineering and automation has homepage_url and type journal\n"
     ]
    },
    {
     "name": "stderr",
     "output_type": "stream",
     "text": [
      " 26%|██████████████████                                                    | 345/1337 [03:12<07:37,  2.17it/s]"
     ]
    },
    {
     "name": "stdout",
     "output_type": "stream",
     "text": [
      "Journal of Asian scientific research has homepage_url and type journal\n"
     ]
    },
    {
     "name": "stderr",
     "output_type": "stream",
     "text": [
      " 26%|██████████████████                                                    | 346/1337 [03:13<07:30,  2.20it/s]"
     ]
    },
    {
     "name": "stdout",
     "output_type": "stream",
     "text": [
      "Archives of physical medicine and rehabilitation has homepage_url and type journal\n"
     ]
    },
    {
     "name": "stderr",
     "output_type": "stream",
     "text": [
      " 26%|██████████████████▏                                                   | 347/1337 [03:14<11:04,  1.49it/s]"
     ]
    },
    {
     "name": "stdout",
     "output_type": "stream",
     "text": [
      "International journal of control and automation has homepage_url and type journal\n"
     ]
    },
    {
     "name": "stderr",
     "output_type": "stream",
     "text": [
      " 26%|██████████████████▎                                                   | 349/1337 [03:16<13:58,  1.18it/s]"
     ]
    },
    {
     "name": "stdout",
     "output_type": "stream",
     "text": [
      "Impact has homepage_url and type journal\n"
     ]
    },
    {
     "name": "stderr",
     "output_type": "stream",
     "text": [
      " 26%|██████████████████▍                                                   | 351/1337 [03:17<14:08,  1.16it/s]"
     ]
    },
    {
     "name": "stdout",
     "output_type": "stream",
     "text": [
      "Scientific reports has homepage_url and type journal\n"
     ]
    },
    {
     "name": "stderr",
     "output_type": "stream",
     "text": [
      " 27%|██████████████████▊                                                   | 359/1337 [03:21<07:46,  2.09it/s]"
     ]
    },
    {
     "name": "stdout",
     "output_type": "stream",
     "text": [
      "Social Science Research Network has homepage_url and type repository\n"
     ]
    },
    {
     "name": "stderr",
     "output_type": "stream",
     "text": [
      " 27%|██████████████████▊                                                   | 360/1337 [03:22<07:34,  2.15it/s]"
     ]
    },
    {
     "name": "stdout",
     "output_type": "stream",
     "text": [
      "Diagnostyka has homepage_url and type journal\n"
     ]
    },
    {
     "name": "stderr",
     "output_type": "stream",
     "text": [
      " 27%|██████████████████▉                                                   | 362/1337 [03:22<07:21,  2.21it/s]"
     ]
    },
    {
     "name": "stdout",
     "output_type": "stream",
     "text": [
      "Springer proceedings in physics has homepage_url and type book series\n"
     ]
    },
    {
     "name": "stderr",
     "output_type": "stream",
     "text": [
      " 27%|███████████████████▏                                                  | 366/1337 [03:24<07:52,  2.05it/s]"
     ]
    },
    {
     "name": "stdout",
     "output_type": "stream",
     "text": [
      "Journal of pharmaceutical negative results has homepage_url and type journal\n"
     ]
    },
    {
     "name": "stderr",
     "output_type": "stream",
     "text": [
      " 28%|███████████████████▎                                                  | 368/1337 [03:25<07:38,  2.11it/s]"
     ]
    },
    {
     "name": "stdout",
     "output_type": "stream",
     "text": [
      "Global Journal of Engineering and Technology Advances has homepage_url and type journal\n"
     ]
    },
    {
     "name": "stderr",
     "output_type": "stream",
     "text": [
      " 29%|████████████████████                                                  | 382/1337 [03:32<07:13,  2.20it/s]"
     ]
    },
    {
     "name": "stdout",
     "output_type": "stream",
     "text": [
      "Annals of Computer Science and Information Systems has homepage_url and type conference\n"
     ]
    },
    {
     "name": "stderr",
     "output_type": "stream",
     "text": [
      " 29%|████████████████████                                                  | 384/1337 [03:33<07:15,  2.19it/s]"
     ]
    },
    {
     "name": "stdout",
     "output_type": "stream",
     "text": [
      "Majallah-i kuntrul has homepage_url and type journal\n"
     ]
    },
    {
     "name": "stderr",
     "output_type": "stream",
     "text": [
      " 29%|████████████████████▎                                                 | 388/1337 [03:35<07:05,  2.23it/s]"
     ]
    },
    {
     "name": "stdout",
     "output_type": "stream",
     "text": [
      "GeoPlanet: earth and planetary sciences has homepage_url and type book series\n"
     ]
    },
    {
     "name": "stderr",
     "output_type": "stream",
     "text": [
      " 29%|████████████████████▌                                                 | 393/1337 [03:37<07:08,  2.20it/s]"
     ]
    },
    {
     "name": "stdout",
     "output_type": "stream",
     "text": [
      "Zeszyty Naukowe Politechniki Rzeszowskiej. Mechanika has homepage_url and type journal\n"
     ]
    },
    {
     "name": "stderr",
     "output_type": "stream",
     "text": [
      " 30%|████████████████████▋                                                 | 395/1337 [03:38<07:03,  2.22it/s]"
     ]
    },
    {
     "name": "stdout",
     "output_type": "stream",
     "text": [
      "Journal of mechatronics and robotics has homepage_url and type journal\n"
     ]
    },
    {
     "name": "stderr",
     "output_type": "stream",
     "text": [
      " 30%|████████████████████▋                                                 | 396/1337 [03:38<08:10,  1.92it/s]"
     ]
    },
    {
     "name": "stdout",
     "output_type": "stream",
     "text": [
      "Journal of Mechatronics Engineering has homepage_url and type journal\n"
     ]
    },
    {
     "name": "stderr",
     "output_type": "stream",
     "text": [
      " 30%|████████████████████▊                                                 | 397/1337 [03:39<07:46,  2.02it/s]"
     ]
    },
    {
     "name": "stdout",
     "output_type": "stream",
     "text": [
      "International journal of intelligent machines and robotics has homepage_url and type journal\n"
     ]
    },
    {
     "name": "stderr",
     "output_type": "stream",
     "text": [
      " 30%|████████████████████▊                                                 | 398/1337 [03:39<07:32,  2.08it/s]"
     ]
    },
    {
     "name": "stdout",
     "output_type": "stream",
     "text": [
      "Sun International journal of engineering and basic sciences has homepage_url and type journal\n"
     ]
    },
    {
     "name": "stderr",
     "output_type": "stream",
     "text": [
      " 30%|████████████████████▉                                                 | 401/1337 [03:41<07:16,  2.14it/s]"
     ]
    },
    {
     "name": "stdout",
     "output_type": "stream",
     "text": [
      "Helix has homepage_url and type journal\n"
     ]
    },
    {
     "name": "stderr",
     "output_type": "stream",
     "text": [
      " 30%|█████████████████████▏                                                | 404/1337 [03:42<07:12,  2.16it/s]"
     ]
    },
    {
     "name": "stdout",
     "output_type": "stream",
     "text": [
      "Journal on Advances in Theoretical and Applied Informatics has homepage_url and type journal\n"
     ]
    },
    {
     "name": "stderr",
     "output_type": "stream",
     "text": [
      " 30%|█████████████████████▎                                                | 406/1337 [03:43<07:07,  2.18it/s]"
     ]
    },
    {
     "name": "stdout",
     "output_type": "stream",
     "text": [
      "IOP conference series. Earth and environmental science has homepage_url and type conference\n"
     ]
    },
    {
     "name": "stderr",
     "output_type": "stream",
     "text": [
      " 31%|█████████████████████▍                                                | 410/1337 [03:45<07:10,  2.15it/s]"
     ]
    },
    {
     "name": "stdout",
     "output_type": "stream",
     "text": [
      "Doklady Akademii nauk. Rossijskaâ akademiâ nauk has homepage_url and type journal\n"
     ]
    },
    {
     "name": "stderr",
     "output_type": "stream",
     "text": [
      " 31%|█████████████████████▌                                                | 411/1337 [03:46<10:17,  1.50it/s]"
     ]
    },
    {
     "name": "stdout",
     "output_type": "stream",
     "text": [
      "International journal of research in engineering and technology has homepage_url and type journal\n"
     ]
    },
    {
     "name": "stderr",
     "output_type": "stream",
     "text": [
      " 31%|█████████████████████▌                                                | 412/1337 [03:47<09:20,  1.65it/s]"
     ]
    },
    {
     "name": "stdout",
     "output_type": "stream",
     "text": [
      "Advances in applied Clifford algebras has homepage_url and type journal\n"
     ]
    },
    {
     "name": "stderr",
     "output_type": "stream",
     "text": [
      " 31%|█████████████████████▌                                                | 413/1337 [03:47<08:40,  1.77it/s]"
     ]
    },
    {
     "name": "stdout",
     "output_type": "stream",
     "text": [
      "International Journal of Industrial Research and Applied Engineering has homepage_url and type journal\n"
     ]
    },
    {
     "name": "stderr",
     "output_type": "stream",
     "text": [
      " 31%|█████████████████████▋                                                | 414/1337 [03:48<08:32,  1.80it/s]"
     ]
    },
    {
     "name": "stdout",
     "output_type": "stream",
     "text": [
      "International journal of scientific research in science and technology has homepage_url and type journal\n"
     ]
    },
    {
     "name": "stderr",
     "output_type": "stream",
     "text": [
      " 32%|██████████████████████▏                                               | 424/1337 [03:52<06:59,  2.17it/s]"
     ]
    },
    {
     "name": "stdout",
     "output_type": "stream",
     "text": [
      "Lecture notes on data engineering and communications technologies has homepage_url and type book series\n"
     ]
    },
    {
     "name": "stderr",
     "output_type": "stream",
     "text": [
      " 32%|██████████████████████▌                                               | 430/1337 [03:55<06:53,  2.19it/s]"
     ]
    },
    {
     "name": "stdout",
     "output_type": "stream",
     "text": [
      "Advanced functional materials has homepage_url and type journal\n"
     ]
    },
    {
     "name": "stderr",
     "output_type": "stream",
     "text": [
      " 32%|██████████████████████▌                                               | 431/1337 [03:56<11:21,  1.33it/s]"
     ]
    },
    {
     "name": "stdout",
     "output_type": "stream",
     "text": [
      "Advanced materials has homepage_url and type journal\n"
     ]
    },
    {
     "name": "stderr",
     "output_type": "stream",
     "text": [
      " 32%|██████████████████████▌                                               | 432/1337 [03:57<09:58,  1.51it/s]"
     ]
    },
    {
     "name": "stdout",
     "output_type": "stream",
     "text": [
      "Energy storage materials has homepage_url and type journal\n"
     ]
    },
    {
     "name": "stderr",
     "output_type": "stream",
     "text": [
      " 32%|██████████████████████▋                                               | 433/1337 [03:58<10:33,  1.43it/s]"
     ]
    },
    {
     "name": "stdout",
     "output_type": "stream",
     "text": [
      "Chemical engineering journal has homepage_url and type journal\n"
     ]
    },
    {
     "name": "stderr",
     "output_type": "stream",
     "text": [
      " 33%|██████████████████████▊                                               | 435/1337 [03:59<11:47,  1.27it/s]"
     ]
    },
    {
     "name": "stdout",
     "output_type": "stream",
     "text": [
      "High voltage has homepage_url and type journal\n"
     ]
    },
    {
     "name": "stderr",
     "output_type": "stream",
     "text": [
      " 33%|██████████████████████▊                                               | 436/1337 [04:00<10:11,  1.47it/s]"
     ]
    },
    {
     "name": "stdout",
     "output_type": "stream",
     "text": [
      "Nano energy has homepage_url and type journal\n"
     ]
    },
    {
     "name": "stderr",
     "output_type": "stream",
     "text": [
      " 33%|██████████████████████▉                                               | 437/1337 [04:00<09:02,  1.66it/s]"
     ]
    },
    {
     "name": "stdout",
     "output_type": "stream",
     "text": [
      "Journal of advanced ceramics has homepage_url and type journal\n"
     ]
    },
    {
     "name": "stderr",
     "output_type": "stream",
     "text": [
      " 33%|██████████████████████▉                                               | 438/1337 [04:01<08:26,  1.77it/s]"
     ]
    },
    {
     "name": "stdout",
     "output_type": "stream",
     "text": [
      "Physics of plasmas has homepage_url and type journal\n"
     ]
    },
    {
     "name": "stderr",
     "output_type": "stream",
     "text": [
      " 33%|██████████████████████▉                                               | 439/1337 [04:01<09:37,  1.55it/s]"
     ]
    },
    {
     "name": "stdout",
     "output_type": "stream",
     "text": [
      "Advanced science has homepage_url and type journal\n"
     ]
    },
    {
     "name": "stderr",
     "output_type": "stream",
     "text": [
      " 33%|███████████████████████                                               | 440/1337 [04:02<08:56,  1.67it/s]"
     ]
    },
    {
     "name": "stdout",
     "output_type": "stream",
     "text": [
      "Journal of the European Ceramic Society has homepage_url and type journal\n"
     ]
    },
    {
     "name": "stderr",
     "output_type": "stream",
     "text": [
      " 33%|███████████████████████                                               | 441/1337 [04:02<08:20,  1.79it/s]"
     ]
    },
    {
     "name": "stdout",
     "output_type": "stream",
     "text": [
      "Ceramics international has homepage_url and type journal\n"
     ]
    },
    {
     "name": "stderr",
     "output_type": "stream",
     "text": [
      " 33%|███████████████████████▏                                              | 442/1337 [04:03<10:42,  1.39it/s]"
     ]
    },
    {
     "name": "stdout",
     "output_type": "stream",
     "text": [
      "Applied energy has homepage_url and type journal\n"
     ]
    },
    {
     "name": "stderr",
     "output_type": "stream",
     "text": [
      " 33%|███████████████████████▏                                              | 444/1337 [04:04<08:59,  1.65it/s]"
     ]
    },
    {
     "name": "stdout",
     "output_type": "stream",
     "text": [
      "Journal of materiomics has homepage_url and type journal\n"
     ]
    },
    {
     "name": "stderr",
     "output_type": "stream",
     "text": [
      " 33%|███████████████████████▎                                              | 445/1337 [04:05<08:21,  1.78it/s]"
     ]
    },
    {
     "name": "stdout",
     "output_type": "stream",
     "text": [
      "High power laser science and engineering has homepage_url and type journal\n"
     ]
    },
    {
     "name": "stderr",
     "output_type": "stream",
     "text": [
      " 33%|███████████████████████▎                                              | 446/1337 [04:06<11:45,  1.26it/s]"
     ]
    },
    {
     "name": "stdout",
     "output_type": "stream",
     "text": [
      "Small has homepage_url and type journal\n"
     ]
    },
    {
     "name": "stderr",
     "output_type": "stream",
     "text": [
      " 33%|███████████████████████▍                                              | 447/1337 [04:07<10:18,  1.44it/s]"
     ]
    },
    {
     "name": "stdout",
     "output_type": "stream",
     "text": [
      "Journal of alloys and compounds has homepage_url and type journal\n"
     ]
    },
    {
     "name": "stderr",
     "output_type": "stream",
     "text": [
      " 34%|███████████████████████▍                                              | 448/1337 [04:07<09:07,  1.62it/s]"
     ]
    },
    {
     "name": "stdout",
     "output_type": "stream",
     "text": [
      "Journal of the American Ceramic Society has homepage_url and type journal\n"
     ]
    },
    {
     "name": "stderr",
     "output_type": "stream",
     "text": [
      " 34%|███████████████████████▌                                              | 449/1337 [04:08<10:04,  1.47it/s]"
     ]
    },
    {
     "name": "stdout",
     "output_type": "stream",
     "text": [
      "Chemistry of materials has homepage_url and type journal\n"
     ]
    },
    {
     "name": "stderr",
     "output_type": "stream",
     "text": [
      " 34%|███████████████████████▌                                              | 450/1337 [04:08<09:18,  1.59it/s]"
     ]
    },
    {
     "name": "stdout",
     "output_type": "stream",
     "text": [
      "Journal of power sources has homepage_url and type journal\n"
     ]
    },
    {
     "name": "stderr",
     "output_type": "stream",
     "text": [
      " 34%|███████████████████████▌                                              | 451/1337 [04:09<08:27,  1.74it/s]"
     ]
    },
    {
     "name": "stdout",
     "output_type": "stream",
     "text": [
      "Applied physics letters has homepage_url and type journal\n"
     ]
    },
    {
     "name": "stderr",
     "output_type": "stream",
     "text": [
      " 34%|███████████████████████▋                                              | 452/1337 [04:09<08:00,  1.84it/s]"
     ]
    },
    {
     "name": "stdout",
     "output_type": "stream",
     "text": [
      "IEEE transactions on power electronics has homepage_url and type journal\n"
     ]
    },
    {
     "name": "stderr",
     "output_type": "stream",
     "text": [
      " 34%|███████████████████████▋                                              | 453/1337 [04:10<07:30,  1.96it/s]"
     ]
    },
    {
     "name": "stdout",
     "output_type": "stream",
     "text": [
      "Reviews of modern physics has homepage_url and type journal\n"
     ]
    },
    {
     "name": "stderr",
     "output_type": "stream",
     "text": [
      " 34%|███████████████████████▊                                              | 454/1337 [04:10<07:29,  1.97it/s]"
     ]
    },
    {
     "name": "stdout",
     "output_type": "stream",
     "text": [
      "Han-guk seramik hakoeji/Han'gug se'la'mig haghoeji has homepage_url and type journal\n"
     ]
    },
    {
     "name": "stderr",
     "output_type": "stream",
     "text": [
      " 34%|███████████████████████▊                                              | 455/1337 [04:11<07:08,  2.06it/s]"
     ]
    },
    {
     "name": "stdout",
     "output_type": "stream",
     "text": [
      "Review of scientific instruments online/Review of scientific instruments has homepage_url and type journal\n"
     ]
    },
    {
     "name": "stderr",
     "output_type": "stream",
     "text": [
      " 34%|███████████████████████▊                                              | 456/1337 [04:11<07:08,  2.06it/s]"
     ]
    },
    {
     "name": "stdout",
     "output_type": "stream",
     "text": [
      "Journal of materials chemistry. C has homepage_url and type journal\n"
     ]
    },
    {
     "name": "stderr",
     "output_type": "stream",
     "text": [
      " 34%|███████████████████████▉                                              | 457/1337 [04:12<09:30,  1.54it/s]"
     ]
    },
    {
     "name": "stdout",
     "output_type": "stream",
     "text": [
      "Energies has homepage_url and type journal\n"
     ]
    },
    {
     "name": "stderr",
     "output_type": "stream",
     "text": [
      " 34%|███████████████████████▉                                              | 458/1337 [04:13<08:42,  1.68it/s]"
     ]
    },
    {
     "name": "stdout",
     "output_type": "stream",
     "text": [
      "Cell reports physical science has homepage_url and type journal\n"
     ]
    },
    {
     "name": "stderr",
     "output_type": "stream",
     "text": [
      " 34%|████████████████████████                                              | 459/1337 [04:13<08:20,  1.75it/s]"
     ]
    },
    {
     "name": "stdout",
     "output_type": "stream",
     "text": [
      "Materials today energy has homepage_url and type journal\n"
     ]
    },
    {
     "name": "stderr",
     "output_type": "stream",
     "text": [
      " 34%|████████████████████████                                              | 460/1337 [04:14<07:50,  1.86it/s]"
     ]
    },
    {
     "name": "stdout",
     "output_type": "stream",
     "text": [
      "Journal of energy storage has homepage_url and type journal\n"
     ]
    },
    {
     "name": "stderr",
     "output_type": "stream",
     "text": [
      " 34%|████████████████████████▏                                             | 461/1337 [04:14<07:20,  1.99it/s]"
     ]
    },
    {
     "name": "stdout",
     "output_type": "stream",
     "text": [
      "International journal of impact engineering has homepage_url and type journal\n"
     ]
    },
    {
     "name": "stderr",
     "output_type": "stream",
     "text": [
      " 35%|████████████████████████▏                                             | 462/1337 [04:15<07:29,  1.95it/s]"
     ]
    },
    {
     "name": "stdout",
     "output_type": "stream",
     "text": [
      "IEEE transactions on plasma science has homepage_url and type journal\n"
     ]
    },
    {
     "name": "stderr",
     "output_type": "stream",
     "text": [
      " 35%|████████████████████████▏                                             | 463/1337 [04:15<07:07,  2.05it/s]"
     ]
    },
    {
     "name": "stdout",
     "output_type": "stream",
     "text": [
      "IEEE transactions on dielectrics and electrical insulation has homepage_url and type journal\n"
     ]
    },
    {
     "name": "stderr",
     "output_type": "stream",
     "text": [
      " 35%|████████████████████████▎                                             | 464/1337 [04:16<06:52,  2.11it/s]"
     ]
    },
    {
     "name": "stdout",
     "output_type": "stream",
     "text": [
      "Journal of Energy Chemistry/Journal of energy chemistry has homepage_url and type journal\n"
     ]
    },
    {
     "name": "stderr",
     "output_type": "stream",
     "text": [
      " 35%|████████████████████████▎                                             | 465/1337 [04:16<06:51,  2.12it/s]"
     ]
    },
    {
     "name": "stdout",
     "output_type": "stream",
     "text": [
      "ACS energy letters has homepage_url and type journal\n"
     ]
    },
    {
     "name": "stderr",
     "output_type": "stream",
     "text": [
      " 35%|████████████████████████▍                                             | 466/1337 [04:17<10:48,  1.34it/s]"
     ]
    },
    {
     "name": "stdout",
     "output_type": "stream",
     "text": [
      "Materials has homepage_url and type journal\n"
     ]
    },
    {
     "name": "stderr",
     "output_type": "stream",
     "text": [
      " 35%|████████████████████████▍                                             | 467/1337 [04:18<09:33,  1.52it/s]"
     ]
    },
    {
     "name": "stdout",
     "output_type": "stream",
     "text": [
      "Materials today physics has homepage_url and type journal\n"
     ]
    },
    {
     "name": "stderr",
     "output_type": "stream",
     "text": [
      " 35%|████████████████████████▌                                             | 468/1337 [04:18<08:59,  1.61it/s]"
     ]
    },
    {
     "name": "stdout",
     "output_type": "stream",
     "text": [
      "Solid state sciences has homepage_url and type journal\n"
     ]
    },
    {
     "name": "stderr",
     "output_type": "stream",
     "text": [
      " 35%|████████████████████████▌                                             | 469/1337 [04:19<08:19,  1.74it/s]"
     ]
    },
    {
     "name": "stdout",
     "output_type": "stream",
     "text": [
      "Journal of materials processing technology has homepage_url and type journal\n"
     ]
    },
    {
     "name": "stderr",
     "output_type": "stream",
     "text": [
      " 35%|████████████████████████▌                                             | 470/1337 [04:19<07:42,  1.87it/s]"
     ]
    },
    {
     "name": "stdout",
     "output_type": "stream",
     "text": [
      "Journal of manufacturing processes has homepage_url and type journal\n"
     ]
    },
    {
     "name": "stderr",
     "output_type": "stream",
     "text": [
      " 35%|████████████████████████▋                                             | 471/1337 [04:20<07:24,  1.95it/s]"
     ]
    },
    {
     "name": "stdout",
     "output_type": "stream",
     "text": [
      "IEEE electron device letters has homepage_url and type journal\n"
     ]
    },
    {
     "name": "stderr",
     "output_type": "stream",
     "text": [
      " 35%|████████████████████████▊                                             | 473/1337 [04:21<06:51,  2.10it/s]"
     ]
    },
    {
     "name": "stdout",
     "output_type": "stream",
     "text": [
      "Microstructures has homepage_url and type journal\n"
     ]
    },
    {
     "name": "stderr",
     "output_type": "stream",
     "text": [
      " 36%|████████████████████████▊                                             | 475/1337 [04:22<06:38,  2.16it/s]"
     ]
    },
    {
     "name": "stdout",
     "output_type": "stream",
     "text": [
      "ACS applied energy materials has homepage_url and type journal\n"
     ]
    },
    {
     "name": "stderr",
     "output_type": "stream",
     "text": [
      " 36%|████████████████████████▉                                             | 476/1337 [04:23<10:35,  1.36it/s]"
     ]
    },
    {
     "name": "stdout",
     "output_type": "stream",
     "text": [
      "Plasma has homepage_url and type journal\n"
     ]
    },
    {
     "name": "stderr",
     "output_type": "stream",
     "text": [
      " 36%|████████████████████████▉                                             | 477/1337 [04:24<10:55,  1.31it/s]"
     ]
    },
    {
     "name": "stdout",
     "output_type": "stream",
     "text": [
      "Journal of applied physics has homepage_url and type journal\n"
     ]
    },
    {
     "name": "stderr",
     "output_type": "stream",
     "text": [
      " 36%|█████████████████████████                                             | 479/1337 [04:25<08:35,  1.67it/s]"
     ]
    },
    {
     "name": "stdout",
     "output_type": "stream",
     "text": [
      "APL photonics has homepage_url and type journal\n"
     ]
    },
    {
     "name": "stderr",
     "output_type": "stream",
     "text": [
      " 36%|█████████████████████████▏                                            | 480/1337 [04:25<08:04,  1.77it/s]"
     ]
    },
    {
     "name": "stdout",
     "output_type": "stream",
     "text": [
      "Physical review. Accelerators and beams has homepage_url and type journal\n"
     ]
    },
    {
     "name": "stderr",
     "output_type": "stream",
     "text": [
      " 36%|█████████████████████████▏                                            | 482/1337 [04:26<07:27,  1.91it/s]"
     ]
    },
    {
     "name": "stdout",
     "output_type": "stream",
     "text": [
      "IEEE transactions on device and materials reliability has homepage_url and type journal\n"
     ]
    },
    {
     "name": "stderr",
     "output_type": "stream",
     "text": [
      " 36%|█████████████████████████▎                                            | 483/1337 [04:27<07:21,  1.94it/s]"
     ]
    },
    {
     "name": "stdout",
     "output_type": "stream",
     "text": [
      "Acta materialia has homepage_url and type journal\n"
     ]
    },
    {
     "name": "stderr",
     "output_type": "stream",
     "text": [
      " 36%|█████████████████████████▎                                            | 484/1337 [04:27<07:11,  1.98it/s]"
     ]
    },
    {
     "name": "stdout",
     "output_type": "stream",
     "text": [
      "Journal of CO2 utilization has homepage_url and type journal\n"
     ]
    },
    {
     "name": "stderr",
     "output_type": "stream",
     "text": [
      " 36%|█████████████████████████▍                                            | 485/1337 [04:27<06:49,  2.08it/s]"
     ]
    },
    {
     "name": "stdout",
     "output_type": "stream",
     "text": [
      "IETE Technical Review/IETE technical review has homepage_url and type journal\n"
     ]
    },
    {
     "name": "stderr",
     "output_type": "stream",
     "text": [
      " 36%|█████████████████████████▍                                            | 486/1337 [04:28<06:40,  2.13it/s]"
     ]
    },
    {
     "name": "stdout",
     "output_type": "stream",
     "text": [
      "International journal of rock mechanics and mining sciences has homepage_url and type journal\n"
     ]
    },
    {
     "name": "stderr",
     "output_type": "stream",
     "text": [
      " 36%|█████████████████████████▍                                            | 487/1337 [04:28<06:47,  2.08it/s]"
     ]
    },
    {
     "name": "stdout",
     "output_type": "stream",
     "text": [
      "Acta astronautica has homepage_url and type journal\n"
     ]
    },
    {
     "name": "stderr",
     "output_type": "stream",
     "text": [
      " 37%|█████████████████████████▌                                            | 489/1337 [04:29<06:34,  2.15it/s]"
     ]
    },
    {
     "name": "stdout",
     "output_type": "stream",
     "text": [
      "IEEE transactions on energy conversion has homepage_url and type journal\n"
     ]
    },
    {
     "name": "stderr",
     "output_type": "stream",
     "text": [
      " 37%|█████████████████████████▋                                            | 490/1337 [04:30<06:27,  2.18it/s]"
     ]
    },
    {
     "name": "stdout",
     "output_type": "stream",
     "text": [
      "Electronics letters has homepage_url and type journal\n"
     ]
    },
    {
     "name": "stderr",
     "output_type": "stream",
     "text": [
      " 37%|█████████████████████████▋                                            | 491/1337 [04:30<06:41,  2.11it/s]"
     ]
    },
    {
     "name": "stdout",
     "output_type": "stream",
     "text": [
      "Matter and radiation at extremes has homepage_url and type journal\n"
     ]
    },
    {
     "name": "stderr",
     "output_type": "stream",
     "text": [
      " 37%|█████████████████████████▊                                            | 492/1337 [04:31<06:37,  2.13it/s]"
     ]
    },
    {
     "name": "stdout",
     "output_type": "stream",
     "text": [
      "IEEE transactions on biomedical circuits and systems has homepage_url and type journal\n"
     ]
    },
    {
     "name": "stderr",
     "output_type": "stream",
     "text": [
      " 37%|█████████████████████████▊                                            | 493/1337 [04:31<06:32,  2.15it/s]"
     ]
    },
    {
     "name": "stdout",
     "output_type": "stream",
     "text": [
      "IEEE transactions on applied superconductivity has homepage_url and type journal\n"
     ]
    },
    {
     "name": "stderr",
     "output_type": "stream",
     "text": [
      " 37%|█████████████████████████▊                                            | 494/1337 [04:32<06:29,  2.17it/s]"
     ]
    },
    {
     "name": "stdout",
     "output_type": "stream",
     "text": [
      "Advanced energy materials has homepage_url and type journal\n"
     ]
    },
    {
     "name": "stderr",
     "output_type": "stream",
     "text": [
      " 37%|█████████████████████████▉                                            | 495/1337 [04:32<06:24,  2.19it/s]"
     ]
    },
    {
     "name": "stdout",
     "output_type": "stream",
     "text": [
      "Plasma processes and polymers has homepage_url and type journal\n"
     ]
    },
    {
     "name": "stderr",
     "output_type": "stream",
     "text": [
      " 37%|█████████████████████████▉                                            | 496/1337 [04:33<06:28,  2.17it/s]"
     ]
    },
    {
     "name": "stdout",
     "output_type": "stream",
     "text": [
      "Journal of physics and chemistry of solids has homepage_url and type journal\n"
     ]
    },
    {
     "name": "stderr",
     "output_type": "stream",
     "text": [
      " 37%|██████████████████████████                                            | 497/1337 [04:33<06:47,  2.06it/s]"
     ]
    },
    {
     "name": "stdout",
     "output_type": "stream",
     "text": [
      "Reviews of modern plasma physics has homepage_url and type journal\n"
     ]
    },
    {
     "name": "stderr",
     "output_type": "stream",
     "text": [
      " 37%|██████████████████████████                                            | 498/1337 [04:34<06:38,  2.11it/s]"
     ]
    },
    {
     "name": "stdout",
     "output_type": "stream",
     "text": [
      "IEEE photonics technology letters has homepage_url and type journal\n"
     ]
    },
    {
     "name": "stderr",
     "output_type": "stream",
     "text": [
      " 37%|██████████████████████████▏                                           | 499/1337 [04:35<10:12,  1.37it/s]"
     ]
    },
    {
     "name": "stdout",
     "output_type": "stream",
     "text": [
      "Energy has homepage_url and type repository\n"
     ]
    },
    {
     "name": "stderr",
     "output_type": "stream",
     "text": [
      " 37%|██████████████████████████▏                                           | 500/1337 [04:35<09:02,  1.54it/s]"
     ]
    },
    {
     "name": "stdout",
     "output_type": "stream",
     "text": [
      "PloS one has homepage_url and type journal\n"
     ]
    },
    {
     "name": "stderr",
     "output_type": "stream",
     "text": [
      " 38%|██████████████████████████▎                                           | 502/1337 [04:36<07:38,  1.82it/s]"
     ]
    },
    {
     "name": "stdout",
     "output_type": "stream",
     "text": [
      "International journal of energy research has homepage_url and type journal\n"
     ]
    },
    {
     "name": "stderr",
     "output_type": "stream",
     "text": [
      " 38%|██████████████████████████▍                                           | 504/1337 [04:37<06:57,  2.00it/s]"
     ]
    },
    {
     "name": "stdout",
     "output_type": "stream",
     "text": [
      "IEEE transactions on power systems has homepage_url and type journal\n"
     ]
    },
    {
     "name": "stderr",
     "output_type": "stream",
     "text": [
      " 38%|██████████████████████████▍                                           | 505/1337 [04:38<06:36,  2.10it/s]"
     ]
    },
    {
     "name": "stdout",
     "output_type": "stream",
     "text": [
      "IEEJ transactions on electrical and electronic engineering has homepage_url and type journal\n"
     ]
    },
    {
     "name": "stderr",
     "output_type": "stream",
     "text": [
      " 38%|██████████████████████████▍                                           | 506/1337 [04:38<06:46,  2.05it/s]"
     ]
    },
    {
     "name": "stdout",
     "output_type": "stream",
     "text": [
      "ACS applied electronic materials has homepage_url and type journal\n"
     ]
    },
    {
     "name": "stderr",
     "output_type": "stream",
     "text": [
      " 38%|██████████████████████████▌                                           | 507/1337 [04:39<06:29,  2.13it/s]"
     ]
    },
    {
     "name": "stdout",
     "output_type": "stream",
     "text": [
      "I.E.E.E. transactions on electron devices/IEEE transactions on electron devices has homepage_url and type journal\n"
     ]
    },
    {
     "name": "stderr",
     "output_type": "stream",
     "text": [
      " 38%|██████████████████████████▌                                           | 508/1337 [04:40<08:35,  1.61it/s]"
     ]
    },
    {
     "name": "stdout",
     "output_type": "stream",
     "text": [
      "Energy reports has homepage_url and type journal\n"
     ]
    },
    {
     "name": "stderr",
     "output_type": "stream",
     "text": [
      " 38%|██████████████████████████▋                                           | 509/1337 [04:40<07:53,  1.75it/s]"
     ]
    },
    {
     "name": "stdout",
     "output_type": "stream",
     "text": [
      "Applications in energy and combustion science has homepage_url and type journal\n"
     ]
    },
    {
     "name": "stderr",
     "output_type": "stream",
     "text": [
      " 38%|██████████████████████████▋                                           | 510/1337 [04:40<07:16,  1.89it/s]"
     ]
    },
    {
     "name": "stdout",
     "output_type": "stream",
     "text": [
      "Fusion science and technology has homepage_url and type journal\n"
     ]
    },
    {
     "name": "stderr",
     "output_type": "stream",
     "text": [
      " 38%|██████████████████████████▊                                           | 511/1337 [04:42<10:41,  1.29it/s]"
     ]
    },
    {
     "name": "stdout",
     "output_type": "stream",
     "text": [
      "Metals has homepage_url and type journal\n"
     ]
    },
    {
     "name": "stderr",
     "output_type": "stream",
     "text": [
      " 38%|██████████████████████████▊                                           | 512/1337 [04:42<09:23,  1.46it/s]"
     ]
    },
    {
     "name": "stdout",
     "output_type": "stream",
     "text": [
      "Journal of large-scale research facilities has homepage_url and type journal\n"
     ]
    },
    {
     "name": "stderr",
     "output_type": "stream",
     "text": [
      " 38%|██████████████████████████▊                                           | 513/1337 [04:43<08:23,  1.64it/s]"
     ]
    },
    {
     "name": "stdout",
     "output_type": "stream",
     "text": [
      "Proceedings of the Combustion Institute has homepage_url and type journal\n"
     ]
    },
    {
     "name": "stderr",
     "output_type": "stream",
     "text": [
      " 38%|██████████████████████████▉                                           | 514/1337 [04:43<08:03,  1.70it/s]"
     ]
    },
    {
     "name": "stdout",
     "output_type": "stream",
     "text": [
      "IEEE electrification magazine has homepage_url and type journal\n"
     ]
    },
    {
     "name": "stderr",
     "output_type": "stream",
     "text": [
      " 39%|███████████████████████████                                           | 517/1337 [04:50<31:07,  2.28s/it]"
     ]
    },
    {
     "name": "stdout",
     "output_type": "stream",
     "text": [
      "Buildings has homepage_url and type journal\n"
     ]
    },
    {
     "name": "stderr",
     "output_type": "stream",
     "text": [
      " 39%|███████████████████████████▎                                          | 521/1337 [04:54<14:45,  1.09s/it]"
     ]
    },
    {
     "name": "stdout",
     "output_type": "stream",
     "text": [
      "IEEE journal of the Electron Devices Society has homepage_url and type journal\n"
     ]
    },
    {
     "name": "stderr",
     "output_type": "stream",
     "text": [
      " 39%|███████████████████████████▎                                          | 522/1337 [04:54<12:01,  1.13it/s]"
     ]
    },
    {
     "name": "stdout",
     "output_type": "stream",
     "text": [
      "IEEE journal of emerging and selected topics in power electronics has homepage_url and type journal\n"
     ]
    },
    {
     "name": "stderr",
     "output_type": "stream",
     "text": [
      " 39%|███████████████████████████▍                                          | 523/1337 [04:55<12:37,  1.07it/s]"
     ]
    },
    {
     "name": "stdout",
     "output_type": "stream",
     "text": [
      "Quantum electronics has homepage_url and type journal\n"
     ]
    },
    {
     "name": "stderr",
     "output_type": "stream",
     "text": [
      " 39%|███████████████████████████▍                                          | 524/1337 [04:56<11:37,  1.17it/s]"
     ]
    },
    {
     "name": "stdout",
     "output_type": "stream",
     "text": [
      "Vacuum has homepage_url and type journal\n"
     ]
    },
    {
     "name": "stderr",
     "output_type": "stream",
     "text": [
      " 39%|███████████████████████████▍                                          | 525/1337 [04:57<10:06,  1.34it/s]"
     ]
    },
    {
     "name": "stdout",
     "output_type": "stream",
     "text": [
      "The Journal of adhesion/Journal of adhesion has homepage_url and type journal\n"
     ]
    },
    {
     "name": "stderr",
     "output_type": "stream",
     "text": [
      " 39%|███████████████████████████▌                                          | 526/1337 [04:57<09:01,  1.50it/s]"
     ]
    },
    {
     "name": "stdout",
     "output_type": "stream",
     "text": [
      "Physica scripta has homepage_url and type journal\n"
     ]
    },
    {
     "name": "stderr",
     "output_type": "stream",
     "text": [
      " 39%|███████████████████████████▌                                          | 527/1337 [04:57<08:05,  1.67it/s]"
     ]
    },
    {
     "name": "stdout",
     "output_type": "stream",
     "text": [
      "Combustion and flame has homepage_url and type journal\n"
     ]
    },
    {
     "name": "stderr",
     "output_type": "stream",
     "text": [
      " 40%|███████████████████████████▋                                          | 529/1337 [04:58<07:05,  1.90it/s]"
     ]
    },
    {
     "name": "stdout",
     "output_type": "stream",
     "text": [
      "AEÜ. International journal of electronics and communications has homepage_url and type journal\n"
     ]
    },
    {
     "name": "stderr",
     "output_type": "stream",
     "text": [
      " 40%|███████████████████████████▊                                          | 531/1337 [04:59<06:39,  2.02it/s]"
     ]
    },
    {
     "name": "stdout",
     "output_type": "stream",
     "text": [
      "ACS omega has homepage_url and type journal\n"
     ]
    },
    {
     "name": "stderr",
     "output_type": "stream",
     "text": [
      " 40%|███████████████████████████▊                                          | 532/1337 [05:00<06:49,  1.96it/s]"
     ]
    },
    {
     "name": "stdout",
     "output_type": "stream",
     "text": [
      "Circuit world has homepage_url and type journal\n"
     ]
    },
    {
     "name": "stderr",
     "output_type": "stream",
     "text": [
      " 40%|████████████████████████████                                          | 535/1337 [05:05<20:14,  1.51s/it]"
     ]
    },
    {
     "name": "stdout",
     "output_type": "stream",
     "text": [
      "Waste has homepage_url and type journal\n"
     ]
    },
    {
     "name": "stderr",
     "output_type": "stream",
     "text": [
      " 40%|████████████████████████████                                          | 536/1337 [05:06<18:52,  1.41s/it]"
     ]
    },
    {
     "name": "stdout",
     "output_type": "stream",
     "text": [
      "Journal of manufacturing and materials processing has homepage_url and type journal\n"
     ]
    },
    {
     "name": "stderr",
     "output_type": "stream",
     "text": [
      " 40%|████████████████████████████                                          | 537/1337 [05:07<18:31,  1.39s/it]"
     ]
    },
    {
     "name": "stdout",
     "output_type": "stream",
     "text": [
      "Journal of hazardous materials has homepage_url and type journal\n"
     ]
    },
    {
     "name": "stderr",
     "output_type": "stream",
     "text": [
      " 40%|████████████████████████████▏                                         | 538/1337 [05:12<30:23,  2.28s/it]"
     ]
    },
    {
     "name": "stdout",
     "output_type": "stream",
     "text": [
      "Environmental research has homepage_url and type journal\n"
     ]
    },
    {
     "name": "stderr",
     "output_type": "stream",
     "text": [
      " 40%|████████████████████████████▏                                         | 539/1337 [05:12<23:22,  1.76s/it]"
     ]
    },
    {
     "name": "stdout",
     "output_type": "stream",
     "text": [
      "Electrochimica acta has homepage_url and type journal\n"
     ]
    },
    {
     "name": "stderr",
     "output_type": "stream",
     "text": [
      " 40%|████████████████████████████▎                                         | 540/1337 [05:13<18:05,  1.36s/it]"
     ]
    },
    {
     "name": "stdout",
     "output_type": "stream",
     "text": [
      "Quantum beam science has homepage_url and type journal\n"
     ]
    },
    {
     "name": "stderr",
     "output_type": "stream",
     "text": [
      " 40%|████████████████████████████▎                                         | 541/1337 [05:13<14:29,  1.09s/it]"
     ]
    },
    {
     "name": "stdout",
     "output_type": "stream",
     "text": [
      "Optics express has homepage_url and type journal\n"
     ]
    },
    {
     "name": "stderr",
     "output_type": "stream",
     "text": [
      " 41%|████████████████████████████▍                                         | 542/1337 [05:14<11:52,  1.12it/s]"
     ]
    },
    {
     "name": "stdout",
     "output_type": "stream",
     "text": [
      "Laser and particle beams has homepage_url and type journal\n"
     ]
    },
    {
     "name": "stderr",
     "output_type": "stream",
     "text": [
      " 41%|████████████████████████████▍                                         | 544/1337 [05:15<09:00,  1.47it/s]"
     ]
    },
    {
     "name": "stdout",
     "output_type": "stream",
     "text": [
      "Journal of non-crystalline solids has homepage_url and type journal\n"
     ]
    },
    {
     "name": "stderr",
     "output_type": "stream",
     "text": [
      " 41%|████████████████████████████▌                                         | 545/1337 [05:15<08:02,  1.64it/s]"
     ]
    },
    {
     "name": "stdout",
     "output_type": "stream",
     "text": [
      "IEEE transactions on microwave theory and techniques has homepage_url and type journal\n"
     ]
    },
    {
     "name": "stderr",
     "output_type": "stream",
     "text": [
      " 41%|████████████████████████████▌                                         | 546/1337 [05:15<07:20,  1.79it/s]"
     ]
    },
    {
     "name": "stdout",
     "output_type": "stream",
     "text": [
      "IEEE antennas and wireless propagation letters/Antennas and wireless propagation letters has homepage_url and type journal\n"
     ]
    },
    {
     "name": "stderr",
     "output_type": "stream",
     "text": [
      " 41%|████████████████████████████▋                                         | 547/1337 [05:16<07:00,  1.88it/s]"
     ]
    },
    {
     "name": "stdout",
     "output_type": "stream",
     "text": [
      "IEEE transactions on instrumentation and measurement has homepage_url and type journal\n"
     ]
    },
    {
     "name": "stderr",
     "output_type": "stream",
     "text": [
      " 41%|████████████████████████████▋                                         | 548/1337 [05:16<06:41,  1.97it/s]"
     ]
    },
    {
     "name": "stdout",
     "output_type": "stream",
     "text": [
      "CIRP journal of manufacturing science and technology has homepage_url and type journal\n"
     ]
    },
    {
     "name": "stderr",
     "output_type": "stream",
     "text": [
      " 41%|████████████████████████████▋                                         | 549/1337 [05:17<06:25,  2.04it/s]"
     ]
    },
    {
     "name": "stdout",
     "output_type": "stream",
     "text": [
      "Plasma physics and controlled fusion has homepage_url and type journal\n"
     ]
    },
    {
     "name": "stderr",
     "output_type": "stream",
     "text": [
      " 41%|████████████████████████████▊                                         | 550/1337 [05:17<06:26,  2.03it/s]"
     ]
    },
    {
     "name": "stdout",
     "output_type": "stream",
     "text": [
      "Journal of laser applications has homepage_url and type journal\n"
     ]
    },
    {
     "name": "stderr",
     "output_type": "stream",
     "text": [
      " 41%|████████████████████████████▊                                         | 551/1337 [05:18<06:14,  2.10it/s]"
     ]
    },
    {
     "name": "stdout",
     "output_type": "stream",
     "text": [
      "International journal of hydrogen energy has homepage_url and type journal\n"
     ]
    },
    {
     "name": "stderr",
     "output_type": "stream",
     "text": [
      " 41%|████████████████████████████▉                                         | 552/1337 [05:18<06:07,  2.13it/s]"
     ]
    },
    {
     "name": "stdout",
     "output_type": "stream",
     "text": [
      "IEEE transactions on electromagnetic compatibility has homepage_url and type journal\n"
     ]
    },
    {
     "name": "stderr",
     "output_type": "stream",
     "text": [
      " 41%|████████████████████████████▉                                         | 553/1337 [05:19<06:00,  2.17it/s]"
     ]
    },
    {
     "name": "stdout",
     "output_type": "stream",
     "text": [
      "Molecules/Molecules online/Molecules annual has homepage_url and type journal\n"
     ]
    },
    {
     "name": "stderr",
     "output_type": "stream",
     "text": [
      " 42%|█████████████████████████████                                         | 555/1337 [05:20<06:03,  2.15it/s]"
     ]
    },
    {
     "name": "stdout",
     "output_type": "stream",
     "text": [
      "Journal of electrostatics has homepage_url and type journal\n"
     ]
    },
    {
     "name": "stderr",
     "output_type": "stream",
     "text": [
      " 42%|█████████████████████████████                                         | 556/1337 [05:20<06:12,  2.10it/s]"
     ]
    },
    {
     "name": "stdout",
     "output_type": "stream",
     "text": [
      "Physical review. E has homepage_url and type journal\n"
     ]
    },
    {
     "name": "stderr",
     "output_type": "stream",
     "text": [
      " 42%|█████████████████████████████▏                                        | 557/1337 [05:20<05:57,  2.18it/s]"
     ]
    },
    {
     "name": "stdout",
     "output_type": "stream",
     "text": [
      "Laser physics letters has homepage_url and type journal\n"
     ]
    },
    {
     "name": "stderr",
     "output_type": "stream",
     "text": [
      " 42%|█████████████████████████████▏                                        | 558/1337 [05:21<06:03,  2.14it/s]"
     ]
    },
    {
     "name": "stdout",
     "output_type": "stream",
     "text": [
      "Radiation physics and chemistry has homepage_url and type journal\n"
     ]
    },
    {
     "name": "stderr",
     "output_type": "stream",
     "text": [
      " 42%|█████████████████████████████▎                                        | 559/1337 [05:22<09:16,  1.40it/s]"
     ]
    },
    {
     "name": "stdout",
     "output_type": "stream",
     "text": [
      "Nanomaterials has homepage_url and type journal\n"
     ]
    },
    {
     "name": "stderr",
     "output_type": "stream",
     "text": [
      " 42%|█████████████████████████████▎                                        | 560/1337 [05:23<08:33,  1.51it/s]"
     ]
    },
    {
     "name": "stdout",
     "output_type": "stream",
     "text": [
      "Chinese Physics B/Chinese physics B has homepage_url and type journal\n"
     ]
    },
    {
     "name": "stderr",
     "output_type": "stream",
     "text": [
      " 42%|█████████████████████████████▍                                        | 562/1337 [05:24<07:11,  1.80it/s]"
     ]
    },
    {
     "name": "stdout",
     "output_type": "stream",
     "text": [
      "Microelectronics reliability/Microelectronics and reliability has homepage_url and type journal\n"
     ]
    },
    {
     "name": "stderr",
     "output_type": "stream",
     "text": [
      " 42%|█████████████████████████████▍                                        | 563/1337 [05:24<06:43,  1.92it/s]"
     ]
    },
    {
     "name": "stdout",
     "output_type": "stream",
     "text": [
      "Journal of fluid science and technology has homepage_url and type journal\n"
     ]
    },
    {
     "name": "stderr",
     "output_type": "stream",
     "text": [
      " 42%|█████████████████████████████▌                                        | 564/1337 [05:25<06:23,  2.02it/s]"
     ]
    },
    {
     "name": "stdout",
     "output_type": "stream",
     "text": [
      "CES transactions on electrical machines and systems has homepage_url and type journal\n"
     ]
    },
    {
     "name": "stderr",
     "output_type": "stream",
     "text": [
      " 42%|█████████████████████████████▌                                        | 565/1337 [05:25<06:20,  2.03it/s]"
     ]
    },
    {
     "name": "stdout",
     "output_type": "stream",
     "text": [
      "Optics communications has homepage_url and type journal\n"
     ]
    },
    {
     "name": "stderr",
     "output_type": "stream",
     "text": [
      " 42%|█████████████████████████████▋                                        | 566/1337 [05:26<06:17,  2.04it/s]"
     ]
    },
    {
     "name": "stdout",
     "output_type": "stream",
     "text": [
      "Defence technology has homepage_url and type journal\n"
     ]
    },
    {
     "name": "stderr",
     "output_type": "stream",
     "text": [
      " 42%|█████████████████████████████▋                                        | 567/1337 [05:26<07:10,  1.79it/s]"
     ]
    },
    {
     "name": "stdout",
     "output_type": "stream",
     "text": [
      "Coatings has homepage_url and type journal\n"
     ]
    },
    {
     "name": "stderr",
     "output_type": "stream",
     "text": [
      " 42%|█████████████████████████████▋                                        | 568/1337 [05:28<09:54,  1.29it/s]"
     ]
    },
    {
     "name": "stdout",
     "output_type": "stream",
     "text": [
      "Minerals has homepage_url and type journal\n"
     ]
    },
    {
     "name": "stderr",
     "output_type": "stream",
     "text": [
      " 43%|█████████████████████████████▊                                        | 569/1337 [05:28<10:05,  1.27it/s]"
     ]
    },
    {
     "name": "stdout",
     "output_type": "stream",
     "text": [
      "Advanced engineering materials has homepage_url and type journal\n"
     ]
    },
    {
     "name": "stderr",
     "output_type": "stream",
     "text": [
      " 43%|█████████████████████████████▉                                        | 571/1337 [05:29<08:41,  1.47it/s]"
     ]
    },
    {
     "name": "stdout",
     "output_type": "stream",
     "text": [
      "Journal of magnetic resonance has homepage_url and type journal\n"
     ]
    },
    {
     "name": "stderr",
     "output_type": "stream",
     "text": [
      " 43%|██████████████████████████████                                        | 573/1337 [05:32<15:02,  1.18s/it]"
     ]
    },
    {
     "name": "stdout",
     "output_type": "stream",
     "text": [
      "Photonics has homepage_url and type journal\n"
     ]
    },
    {
     "name": "stderr",
     "output_type": "stream",
     "text": [
      " 43%|██████████████████████████████                                        | 575/1337 [05:38<23:08,  1.82s/it]"
     ]
    },
    {
     "name": "stdout",
     "output_type": "stream",
     "text": [
      "EPJ web of conferences has homepage_url and type journal\n"
     ]
    },
    {
     "name": "stderr",
     "output_type": "stream",
     "text": [
      " 43%|██████████████████████████████▏                                       | 576/1337 [05:38<17:47,  1.40s/it]"
     ]
    },
    {
     "name": "stdout",
     "output_type": "stream",
     "text": [
      "Optical and quantum electronics has homepage_url and type journal\n"
     ]
    },
    {
     "name": "stderr",
     "output_type": "stream",
     "text": [
      " 43%|██████████████████████████████▎                                       | 578/1337 [05:39<11:29,  1.10it/s]"
     ]
    },
    {
     "name": "stdout",
     "output_type": "stream",
     "text": [
      "Batteries has homepage_url and type journal\n"
     ]
    },
    {
     "name": "stderr",
     "output_type": "stream",
     "text": [
      " 43%|██████████████████████████████▎                                       | 579/1337 [05:39<09:40,  1.31it/s]"
     ]
    },
    {
     "name": "stdout",
     "output_type": "stream",
     "text": [
      "Nuclear Science and Techniques/Nuclear science and techniques has homepage_url and type journal\n"
     ]
    },
    {
     "name": "stderr",
     "output_type": "stream",
     "text": [
      " 43%|██████████████████████████████▎                                       | 580/1337 [05:40<08:26,  1.49it/s]"
     ]
    },
    {
     "name": "stdout",
     "output_type": "stream",
     "text": [
      "Journal of welding and joining has homepage_url and type journal\n"
     ]
    },
    {
     "name": "stderr",
     "output_type": "stream",
     "text": [
      " 43%|██████████████████████████████▍                                       | 581/1337 [05:40<07:36,  1.66it/s]"
     ]
    },
    {
     "name": "stdout",
     "output_type": "stream",
     "text": [
      "International journal of microwave and wireless technologies has homepage_url and type journal\n"
     ]
    },
    {
     "name": "stderr",
     "output_type": "stream",
     "text": [
      " 44%|██████████████████████████████▌                                       | 583/1337 [05:41<06:36,  1.90it/s]"
     ]
    },
    {
     "name": "stdout",
     "output_type": "stream",
     "text": [
      "International journal of circuit theory and applications has homepage_url and type journal\n"
     ]
    },
    {
     "name": "stderr",
     "output_type": "stream",
     "text": [
      " 44%|██████████████████████████████▌                                       | 584/1337 [05:42<06:13,  2.02it/s]"
     ]
    },
    {
     "name": "stdout",
     "output_type": "stream",
     "text": [
      "Thin solid films has homepage_url and type journal\n"
     ]
    },
    {
     "name": "stderr",
     "output_type": "stream",
     "text": [
      " 44%|██████████████████████████████▋                                       | 585/1337 [05:42<06:38,  1.89it/s]"
     ]
    },
    {
     "name": "stdout",
     "output_type": "stream",
     "text": [
      "Japanese journal of applied physics has homepage_url and type journal\n"
     ]
    },
    {
     "name": "stderr",
     "output_type": "stream",
     "text": [
      " 44%|██████████████████████████████▋                                       | 587/1337 [05:43<07:16,  1.72it/s]"
     ]
    },
    {
     "name": "stdout",
     "output_type": "stream",
     "text": [
      "IEEE photonics journal has homepage_url and type journal\n"
     ]
    },
    {
     "name": "stderr",
     "output_type": "stream",
     "text": [
      " 44%|██████████████████████████████▊                                       | 589/1337 [05:44<06:21,  1.96it/s]"
     ]
    },
    {
     "name": "stdout",
     "output_type": "stream",
     "text": [
      "Physical review applied has homepage_url and type journal\n"
     ]
    },
    {
     "name": "stderr",
     "output_type": "stream",
     "text": [
      " 44%|██████████████████████████████▉                                       | 590/1337 [05:45<06:04,  2.05it/s]"
     ]
    },
    {
     "name": "stdout",
     "output_type": "stream",
     "text": [
      "International journal of molecular sciences has homepage_url and type journal\n"
     ]
    },
    {
     "name": "stderr",
     "output_type": "stream",
     "text": [
      " 44%|██████████████████████████████▉                                       | 591/1337 [05:45<05:58,  2.08it/s]"
     ]
    },
    {
     "name": "stdout",
     "output_type": "stream",
     "text": [
      "Materials research express has homepage_url and type journal\n"
     ]
    },
    {
     "name": "stderr",
     "output_type": "stream",
     "text": [
      " 44%|██████████████████████████████▉                                       | 592/1337 [05:46<05:52,  2.12it/s]"
     ]
    },
    {
     "name": "stdout",
     "output_type": "stream",
     "text": [
      "Solid state nuclear magnetic resonance has homepage_url and type journal\n"
     ]
    },
    {
     "name": "stderr",
     "output_type": "stream",
     "text": [
      " 44%|███████████████████████████████                                       | 594/1337 [05:47<05:39,  2.19it/s]"
     ]
    },
    {
     "name": "stdout",
     "output_type": "stream",
     "text": [
      "IEEE transactions on transportation electrification has homepage_url and type journal\n"
     ]
    },
    {
     "name": "stderr",
     "output_type": "stream",
     "text": [
      " 45%|███████████████████████████████▏                                      | 595/1337 [05:47<05:37,  2.20it/s]"
     ]
    },
    {
     "name": "stdout",
     "output_type": "stream",
     "text": [
      "CIRP annals has homepage_url and type journal\n"
     ]
    },
    {
     "name": "stderr",
     "output_type": "stream",
     "text": [
      " 45%|███████████████████████████████▏                                      | 596/1337 [05:47<05:27,  2.26it/s]"
     ]
    },
    {
     "name": "stdout",
     "output_type": "stream",
     "text": [
      "Europhysics letters has homepage_url and type journal\n"
     ]
    },
    {
     "name": "stderr",
     "output_type": "stream",
     "text": [
      " 45%|███████████████████████████████▎                                      | 597/1337 [05:49<09:09,  1.35it/s]"
     ]
    },
    {
     "name": "stdout",
     "output_type": "stream",
     "text": [
      "Journal of instrumentation has homepage_url and type journal\n"
     ]
    },
    {
     "name": "stderr",
     "output_type": "stream",
     "text": [
      " 45%|███████████████████████████████▎                                      | 598/1337 [05:50<10:50,  1.14it/s]"
     ]
    },
    {
     "name": "stdout",
     "output_type": "stream",
     "text": [
      "Crystals has homepage_url and type journal\n"
     ]
    },
    {
     "name": "stderr",
     "output_type": "stream",
     "text": [
      " 45%|███████████████████████████████▎                                      | 599/1337 [05:51<09:07,  1.35it/s]"
     ]
    },
    {
     "name": "stdout",
     "output_type": "stream",
     "text": [
      "Chinese Optics Letters has homepage_url and type journal\n"
     ]
    },
    {
     "name": "stderr",
     "output_type": "stream",
     "text": [
      " 45%|███████████████████████████████▍                                      | 600/1337 [05:51<07:59,  1.54it/s]"
     ]
    },
    {
     "name": "stdout",
     "output_type": "stream",
     "text": [
      "Nuclear engineering and technology has homepage_url and type journal\n"
     ]
    },
    {
     "name": "stderr",
     "output_type": "stream",
     "text": [
      " 45%|███████████████████████████████▌                                      | 602/1337 [05:52<06:43,  1.82it/s]"
     ]
    },
    {
     "name": "stdout",
     "output_type": "stream",
     "text": [
      "Instruments and experimental techniques has homepage_url and type journal\n"
     ]
    },
    {
     "name": "stderr",
     "output_type": "stream",
     "text": [
      " 45%|███████████████████████████████▌                                      | 603/1337 [05:52<06:25,  1.90it/s]"
     ]
    },
    {
     "name": "stdout",
     "output_type": "stream",
     "text": [
      "Problemy osobo opasnyh infekcij has homepage_url and type journal\n"
     ]
    },
    {
     "name": "stderr",
     "output_type": "stream",
     "text": [
      " 45%|███████████████████████████████▋                                      | 605/1337 [05:54<09:28,  1.29it/s]"
     ]
    },
    {
     "name": "stdout",
     "output_type": "stream",
     "text": [
      "Sustainability has homepage_url and type journal\n"
     ]
    },
    {
     "name": "stderr",
     "output_type": "stream",
     "text": [
      " 45%|███████████████████████████████▋                                      | 606/1337 [05:55<08:09,  1.49it/s]"
     ]
    },
    {
     "name": "stdout",
     "output_type": "stream",
     "text": [
      "Bioelectrochemistry has homepage_url and type journal\n"
     ]
    },
    {
     "name": "stderr",
     "output_type": "stream",
     "text": [
      " 45%|███████████████████████████████▊                                      | 607/1337 [05:55<07:18,  1.66it/s]"
     ]
    },
    {
     "name": "stdout",
     "output_type": "stream",
     "text": [
      "IEEE electrical insulation magazine has homepage_url and type journal\n"
     ]
    },
    {
     "name": "stderr",
     "output_type": "stream",
     "text": [
      " 46%|███████████████████████████████▉                                      | 609/1337 [05:56<06:29,  1.87it/s]"
     ]
    },
    {
     "name": "stdout",
     "output_type": "stream",
     "text": [
      "Physics letters. A has homepage_url and type journal\n"
     ]
    },
    {
     "name": "stderr",
     "output_type": "stream",
     "text": [
      " 46%|███████████████████████████████▉                                      | 610/1337 [05:56<06:09,  1.97it/s]"
     ]
    },
    {
     "name": "stdout",
     "output_type": "stream",
     "text": [
      "Optics letters/Optics index has homepage_url and type journal\n"
     ]
    },
    {
     "name": "stderr",
     "output_type": "stream",
     "text": [
      " 46%|████████████████████████████████                                      | 612/1337 [05:57<05:43,  2.11it/s]"
     ]
    },
    {
     "name": "stdout",
     "output_type": "stream",
     "text": [
      "Journal of advanced manufacturing systems has homepage_url and type journal\n"
     ]
    },
    {
     "name": "stderr",
     "output_type": "stream",
     "text": [
      " 46%|████████████████████████████████                                      | 613/1337 [05:58<05:30,  2.19it/s]"
     ]
    },
    {
     "name": "stdout",
     "output_type": "stream",
     "text": [
      "Plasma and fusion research has homepage_url and type journal\n"
     ]
    },
    {
     "name": "stderr",
     "output_type": "stream",
     "text": [
      " 46%|████████████████████████████████▏                                     | 614/1337 [05:58<05:31,  2.18it/s]"
     ]
    },
    {
     "name": "stdout",
     "output_type": "stream",
     "text": [
      "High temperature material processes has homepage_url and type journal\n"
     ]
    },
    {
     "name": "stderr",
     "output_type": "stream",
     "text": [
      " 46%|████████████████████████████████▏                                     | 615/1337 [05:59<06:34,  1.83it/s]"
     ]
    },
    {
     "name": "stdout",
     "output_type": "stream",
     "text": [
      "Nanotechnology has homepage_url and type journal\n"
     ]
    },
    {
     "name": "stderr",
     "output_type": "stream",
     "text": [
      " 46%|████████████████████████████████▎                                     | 616/1337 [05:59<06:22,  1.89it/s]"
     ]
    },
    {
     "name": "stdout",
     "output_type": "stream",
     "text": [
      "IEEE open journal of power electronics has homepage_url and type journal\n"
     ]
    },
    {
     "name": "stderr",
     "output_type": "stream",
     "text": [
      " 46%|████████████████████████████████▍                                     | 620/1337 [06:01<05:41,  2.10it/s]"
     ]
    },
    {
     "name": "stdout",
     "output_type": "stream",
     "text": [
      "Microwave and optical technology letters has homepage_url and type journal\n"
     ]
    },
    {
     "name": "stderr",
     "output_type": "stream",
     "text": [
      " 46%|████████████████████████████████▌                                     | 621/1337 [06:02<05:36,  2.13it/s]"
     ]
    },
    {
     "name": "stdout",
     "output_type": "stream",
     "text": [
      "Materials science forum has homepage_url and type book series\n"
     ]
    },
    {
     "name": "stderr",
     "output_type": "stream",
     "text": [
      " 47%|████████████████████████████████▌                                     | 622/1337 [06:02<05:27,  2.18it/s]"
     ]
    },
    {
     "name": "stdout",
     "output_type": "stream",
     "text": [
      "Journal of Semiconductors/Journal of semiconductors has homepage_url and type journal\n"
     ]
    },
    {
     "name": "stderr",
     "output_type": "stream",
     "text": [
      " 47%|████████████████████████████████▌                                     | 623/1337 [06:04<08:23,  1.42it/s]"
     ]
    },
    {
     "name": "stdout",
     "output_type": "stream",
     "text": [
      "Waste management has homepage_url and type journal\n"
     ]
    },
    {
     "name": "stderr",
     "output_type": "stream",
     "text": [
      " 47%|████████████████████████████████▋                                     | 625/1337 [06:05<09:36,  1.23it/s]"
     ]
    },
    {
     "name": "stdout",
     "output_type": "stream",
     "text": [
      "IET power electronics has homepage_url and type journal\n"
     ]
    },
    {
     "name": "stderr",
     "output_type": "stream",
     "text": [
      " 47%|████████████████████████████████▊                                     | 626/1337 [06:06<08:23,  1.41it/s]"
     ]
    },
    {
     "name": "stdout",
     "output_type": "stream",
     "text": [
      "Electrical engineering in Japan has homepage_url and type journal\n"
     ]
    },
    {
     "name": "stderr",
     "output_type": "stream",
     "text": [
      " 47%|████████████████████████████████▊                                     | 627/1337 [06:06<07:26,  1.59it/s]"
     ]
    },
    {
     "name": "stdout",
     "output_type": "stream",
     "text": [
      "Nauka i tehnika has homepage_url and type journal\n"
     ]
    },
    {
     "name": "stderr",
     "output_type": "stream",
     "text": [
      " 47%|████████████████████████████████▉                                     | 628/1337 [06:07<06:48,  1.74it/s]"
     ]
    },
    {
     "name": "stdout",
     "output_type": "stream",
     "text": [
      "Food engineering series has homepage_url and type book series\n"
     ]
    },
    {
     "name": "stderr",
     "output_type": "stream",
     "text": [
      " 47%|████████████████████████████████▉                                     | 629/1337 [06:07<07:29,  1.58it/s]"
     ]
    },
    {
     "name": "stdout",
     "output_type": "stream",
     "text": [
      "Analytical chemistry has homepage_url and type journal\n"
     ]
    },
    {
     "name": "stderr",
     "output_type": "stream",
     "text": [
      " 47%|█████████████████████████████████                                     | 631/1337 [06:08<06:12,  1.90it/s]"
     ]
    },
    {
     "name": "stdout",
     "output_type": "stream",
     "text": [
      "Applied thermal engineering has homepage_url and type journal\n"
     ]
    },
    {
     "name": "stderr",
     "output_type": "stream",
     "text": [
      " 47%|█████████████████████████████████▏                                    | 634/1337 [06:10<05:49,  2.01it/s]"
     ]
    },
    {
     "name": "stdout",
     "output_type": "stream",
     "text": [
      "Results in physics has homepage_url and type journal\n"
     ]
    },
    {
     "name": "stderr",
     "output_type": "stream",
     "text": [
      " 48%|█████████████████████████████████▍                                    | 639/1337 [06:12<05:15,  2.21it/s]"
     ]
    },
    {
     "name": "stdout",
     "output_type": "stream",
     "text": [
      "IEEE transactions on nuclear science has homepage_url and type journal\n"
     ]
    },
    {
     "name": "stderr",
     "output_type": "stream",
     "text": [
      " 48%|█████████████████████████████████▌                                    | 640/1337 [06:13<07:38,  1.52it/s]"
     ]
    },
    {
     "name": "stdout",
     "output_type": "stream",
     "text": [
      "Materials letters has homepage_url and type journal\n"
     ]
    },
    {
     "name": "stderr",
     "output_type": "stream",
     "text": [
      " 48%|█████████████████████████████████▋                                    | 643/1337 [06:15<06:52,  1.68it/s]"
     ]
    },
    {
     "name": "stdout",
     "output_type": "stream",
     "text": [
      "Physics open has homepage_url and type journal\n"
     ]
    },
    {
     "name": "stderr",
     "output_type": "stream",
     "text": [
      " 48%|█████████████████████████████████▊                                    | 645/1337 [06:16<06:22,  1.81it/s]"
     ]
    },
    {
     "name": "stdout",
     "output_type": "stream",
     "text": [
      "Optical materials has homepage_url and type journal\n"
     ]
    },
    {
     "name": "stderr",
     "output_type": "stream",
     "text": [
      " 48%|█████████████████████████████████▉                                    | 648/1337 [06:17<06:11,  1.86it/s]"
     ]
    },
    {
     "name": "stdout",
     "output_type": "stream",
     "text": [
      "Acta IMEKO has homepage_url and type journal\n"
     ]
    },
    {
     "name": "stderr",
     "output_type": "stream",
     "text": [
      " 49%|█████████████████████████████████▉                                    | 649/1337 [06:18<06:04,  1.89it/s]"
     ]
    },
    {
     "name": "stdout",
     "output_type": "stream",
     "text": [
      "Journal of environmental chemical engineering has homepage_url and type journal\n"
     ]
    },
    {
     "name": "stderr",
     "output_type": "stream",
     "text": [
      " 49%|██████████████████████████████████▏                                   | 652/1337 [06:19<05:41,  2.00it/s]"
     ]
    },
    {
     "name": "stdout",
     "output_type": "stream",
     "text": [
      "Welding international has homepage_url and type journal\n"
     ]
    },
    {
     "name": "stderr",
     "output_type": "stream",
     "text": [
      " 49%|██████████████████████████████████▎                                   | 655/1337 [06:21<05:17,  2.15it/s]"
     ]
    },
    {
     "name": "stdout",
     "output_type": "stream",
     "text": [
      "Journal of Asian Ceramic Societies has homepage_url and type journal\n"
     ]
    },
    {
     "name": "stderr",
     "output_type": "stream",
     "text": [
      " 49%|██████████████████████████████████▎                                   | 656/1337 [06:21<06:20,  1.79it/s]"
     ]
    },
    {
     "name": "stdout",
     "output_type": "stream",
     "text": [
      "Fuel has homepage_url and type journal\n"
     ]
    },
    {
     "name": "stderr",
     "output_type": "stream",
     "text": [
      " 49%|██████████████████████████████████▍                                   | 658/1337 [06:22<05:43,  1.98it/s]"
     ]
    },
    {
     "name": "stdout",
     "output_type": "stream",
     "text": [
      "Analytical letters has homepage_url and type journal\n"
     ]
    },
    {
     "name": "stderr",
     "output_type": "stream",
     "text": [
      " 49%|██████████████████████████████████▌                                   | 660/1337 [06:23<05:39,  1.99it/s]"
     ]
    },
    {
     "name": "stdout",
     "output_type": "stream",
     "text": [
      "Chinese Chemical Letters/Chinese chemical letters has homepage_url and type journal\n"
     ]
    },
    {
     "name": "stderr",
     "output_type": "stream",
     "text": [
      " 49%|██████████████████████████████████▌                                   | 661/1337 [06:24<05:28,  2.06it/s]"
     ]
    },
    {
     "name": "stdout",
     "output_type": "stream",
     "text": [
      "Heliyon has homepage_url and type journal\n"
     ]
    },
    {
     "name": "stderr",
     "output_type": "stream",
     "text": [
      " 50%|██████████████████████████████████▋                                   | 662/1337 [06:24<05:18,  2.12it/s]"
     ]
    },
    {
     "name": "stdout",
     "output_type": "stream",
     "text": [
      "Avtomatizaciâ tehnologičeskih i biznes-processov has homepage_url and type journal\n"
     ]
    },
    {
     "name": "stderr",
     "output_type": "stream",
     "text": [
      " 50%|██████████████████████████████████▋                                   | 663/1337 [06:25<05:06,  2.20it/s]"
     ]
    },
    {
     "name": "stdout",
     "output_type": "stream",
     "text": [
      "Meeting abstracts/Meeting abstracts (Electrochemical Society. CD-ROM) has homepage_url and type journal\n"
     ]
    },
    {
     "name": "stderr",
     "output_type": "stream",
     "text": [
      " 50%|██████████████████████████████████▊                                   | 665/1337 [06:26<05:24,  2.07it/s]"
     ]
    },
    {
     "name": "stdout",
     "output_type": "stream",
     "text": [
      "Electric power components and systems has homepage_url and type journal\n"
     ]
    },
    {
     "name": "stderr",
     "output_type": "stream",
     "text": [
      " 50%|██████████████████████████████████▊                                   | 666/1337 [06:26<05:34,  2.01it/s]"
     ]
    },
    {
     "name": "stdout",
     "output_type": "stream",
     "text": [
      "E3S web of conferences has homepage_url and type journal\n"
     ]
    },
    {
     "name": "stderr",
     "output_type": "stream",
     "text": [
      " 50%|██████████████████████████████████▉                                   | 667/1337 [06:27<05:34,  2.00it/s]"
     ]
    },
    {
     "name": "stdout",
     "output_type": "stream",
     "text": [
      "The Journal of the Acoustical Society of America/The journal of the Acoustical Society of America has homepage_url and type journal\n"
     ]
    },
    {
     "name": "stderr",
     "output_type": "stream",
     "text": [
      " 50%|███████████████████████████████████▎                                  | 674/1337 [06:30<06:09,  1.79it/s]"
     ]
    },
    {
     "name": "stdout",
     "output_type": "stream",
     "text": [
      "Proceedings of the Nordic Insulation Symposium has homepage_url and type journal\n"
     ]
    },
    {
     "name": "stderr",
     "output_type": "stream",
     "text": [
      " 51%|███████████████████████████████████▍                                  | 676/1337 [06:31<05:43,  1.93it/s]"
     ]
    },
    {
     "name": "stdout",
     "output_type": "stream",
     "text": [
      "IEEE transactions on magnetics has homepage_url and type journal\n"
     ]
    },
    {
     "name": "stderr",
     "output_type": "stream",
     "text": [
      " 51%|███████████████████████████████████▍                                  | 678/1337 [06:32<05:36,  1.96it/s]"
     ]
    },
    {
     "name": "stdout",
     "output_type": "stream",
     "text": [
      "American journal of physics has homepage_url and type journal\n"
     ]
    },
    {
     "name": "stderr",
     "output_type": "stream",
     "text": [
      " 51%|███████████████████████████████████▌                                  | 680/1337 [06:33<05:20,  2.05it/s]"
     ]
    },
    {
     "name": "stdout",
     "output_type": "stream",
     "text": [
      "Procedia manufacturing has homepage_url and type journal\n"
     ]
    },
    {
     "name": "stderr",
     "output_type": "stream",
     "text": [
      " 51%|███████████████████████████████████▊                                  | 683/1337 [06:35<05:34,  1.95it/s]"
     ]
    },
    {
     "name": "stdout",
     "output_type": "stream",
     "text": [
      "IEEE Letters on Electromagnetic Compatibility Practice and Applications has homepage_url and type journal\n"
     ]
    },
    {
     "name": "stderr",
     "output_type": "stream",
     "text": [
      " 51%|███████████████████████████████████▊                                  | 684/1337 [06:35<05:23,  2.02it/s]"
     ]
    },
    {
     "name": "stdout",
     "output_type": "stream",
     "text": [
      "Journal of magnetism and magnetic materials has homepage_url and type journal\n"
     ]
    },
    {
     "name": "stderr",
     "output_type": "stream",
     "text": [
      " 51%|███████████████████████████████████▉                                  | 687/1337 [06:37<05:03,  2.14it/s]"
     ]
    },
    {
     "name": "stdout",
     "output_type": "stream",
     "text": [
      "IET electric power applications has homepage_url and type journal\n"
     ]
    },
    {
     "name": "stderr",
     "output_type": "stream",
     "text": [
      " 52%|████████████████████████████████████▏                                 | 691/1337 [06:39<05:41,  1.89it/s]"
     ]
    },
    {
     "name": "stdout",
     "output_type": "stream",
     "text": [
      "Applied optics has homepage_url and type journal\n"
     ]
    },
    {
     "name": "stderr",
     "output_type": "stream",
     "text": [
      " 52%|████████████████████████████████████▍                                 | 697/1337 [06:42<05:11,  2.06it/s]"
     ]
    },
    {
     "name": "stdout",
     "output_type": "stream",
     "text": [
      "IEEE transactions on power delivery has homepage_url and type journal\n"
     ]
    },
    {
     "name": "stderr",
     "output_type": "stream",
     "text": [
      " 52%|████████████████████████████████████▌                                 | 698/1337 [06:42<05:19,  2.00it/s]"
     ]
    },
    {
     "name": "stdout",
     "output_type": "stream",
     "text": [
      "Inženernyj žurnal: nauka i innovacii has homepage_url and type journal\n"
     ]
    },
    {
     "name": "stderr",
     "output_type": "stream",
     "text": [
      " 53%|████████████████████████████████████▊                                 | 702/1337 [06:44<05:10,  2.05it/s]"
     ]
    },
    {
     "name": "stdout",
     "output_type": "stream",
     "text": [
      "Transportation research procedia has homepage_url and type journal\n"
     ]
    },
    {
     "name": "stderr",
     "output_type": "stream",
     "text": [
      " 53%|████████████████████████████████████▊                                 | 704/1337 [06:45<04:47,  2.20it/s]"
     ]
    },
    {
     "name": "stdout",
     "output_type": "stream",
     "text": [
      "Journal of cosmetic and laser therapy has homepage_url and type journal\n"
     ]
    },
    {
     "name": "stderr",
     "output_type": "stream",
     "text": [
      " 53%|████████████████████████████████████▉                                 | 705/1337 [06:45<04:58,  2.12it/s]"
     ]
    },
    {
     "name": "stdout",
     "output_type": "stream",
     "text": [
      "Journal of the Electrochemical Society has homepage_url and type journal\n"
     ]
    },
    {
     "name": "stderr",
     "output_type": "stream",
     "text": [
      " 53%|█████████████████████████████████████                                 | 707/1337 [06:47<07:29,  1.40it/s]"
     ]
    },
    {
     "name": "stdout",
     "output_type": "stream",
     "text": [
      "Thermal spray has homepage_url and type journal\n"
     ]
    },
    {
     "name": "stderr",
     "output_type": "stream",
     "text": [
      " 53%|█████████████████████████████████████                                 | 708/1337 [06:48<06:34,  1.59it/s]"
     ]
    },
    {
     "name": "stdout",
     "output_type": "stream",
     "text": [
      "Optik has homepage_url and type journal\n"
     ]
    },
    {
     "name": "stderr",
     "output_type": "stream",
     "text": [
      " 53%|█████████████████████████████████████                                 | 709/1337 [06:48<06:12,  1.69it/s]"
     ]
    },
    {
     "name": "stdout",
     "output_type": "stream",
     "text": [
      "International Journal of Electrical Components and Energy Conversion has homepage_url and type journal\n"
     ]
    },
    {
     "name": "stderr",
     "output_type": "stream",
     "text": [
      " 53%|█████████████████████████████████████▏                                | 710/1337 [06:49<05:48,  1.80it/s]"
     ]
    },
    {
     "name": "stdout",
     "output_type": "stream",
     "text": [
      "Plasma research express has homepage_url and type journal\n"
     ]
    },
    {
     "name": "stderr",
     "output_type": "stream",
     "text": [
      " 53%|█████████████████████████████████████▏                                | 711/1337 [06:49<05:28,  1.90it/s]"
     ]
    },
    {
     "name": "stdout",
     "output_type": "stream",
     "text": [
      "JPhys photonics has homepage_url and type journal\n"
     ]
    },
    {
     "name": "stderr",
     "output_type": "stream",
     "text": [
      " 53%|█████████████████████████████████████▎                                | 712/1337 [06:50<05:19,  1.95it/s]"
     ]
    },
    {
     "name": "stdout",
     "output_type": "stream",
     "text": [
      "Solid state electronics letters has homepage_url and type journal\n"
     ]
    },
    {
     "name": "stderr",
     "output_type": "stream",
     "text": [
      " 53%|█████████████████████████████████████▍                                | 715/1337 [06:52<08:21,  1.24it/s]"
     ]
    },
    {
     "name": "stdout",
     "output_type": "stream",
     "text": [
      "Tehnìčna elektrodinamìka has homepage_url and type journal\n"
     ]
    },
    {
     "name": "stderr",
     "output_type": "stream",
     "text": [
      " 54%|█████████████████████████████████████▋                                | 719/1337 [06:54<05:42,  1.81it/s]"
     ]
    },
    {
     "name": "stdout",
     "output_type": "stream",
     "text": [
      "International journal of innovative technology and exploring engineering has homepage_url and type journal\n"
     ]
    },
    {
     "name": "stderr",
     "output_type": "stream",
     "text": [
      " 54%|█████████████████████████████████████▉                                | 724/1337 [06:57<06:25,  1.59it/s]"
     ]
    },
    {
     "name": "stdout",
     "output_type": "stream",
     "text": [
      "Energy storage has homepage_url and type journal\n"
     ]
    },
    {
     "name": "stderr",
     "output_type": "stream",
     "text": [
      " 54%|██████████████████████████████████████                                | 727/1337 [06:58<05:41,  1.79it/s]"
     ]
    },
    {
     "name": "stdout",
     "output_type": "stream",
     "text": [
      "ECS transactions has homepage_url and type journal\n"
     ]
    },
    {
     "name": "stderr",
     "output_type": "stream",
     "text": [
      " 55%|██████████████████████████████████████▍                               | 733/1337 [07:01<04:35,  2.19it/s]"
     ]
    },
    {
     "name": "stdout",
     "output_type": "stream",
     "text": [
      "Defence Science Journal/Defence science journal has homepage_url and type journal\n"
     ]
    },
    {
     "name": "stderr",
     "output_type": "stream",
     "text": [
      " 56%|███████████████████████████████████████▍                              | 754/1337 [07:11<04:15,  2.28it/s]"
     ]
    },
    {
     "name": "stdout",
     "output_type": "stream",
     "text": [
      "Molecular genetics and metabolism has homepage_url and type journal\n"
     ]
    },
    {
     "name": "stderr",
     "output_type": "stream",
     "text": [
      " 56%|███████████████████████████████████████▌                              | 755/1337 [07:11<04:09,  2.33it/s]"
     ]
    },
    {
     "name": "stdout",
     "output_type": "stream",
     "text": [
      "Lighting research and technology has homepage_url and type journal\n"
     ]
    },
    {
     "name": "stderr",
     "output_type": "stream",
     "text": [
      " 57%|███████████████████████████████████████▌                              | 756/1337 [07:11<04:07,  2.35it/s]"
     ]
    },
    {
     "name": "stdout",
     "output_type": "stream",
     "text": [
      "Springer theses has homepage_url and type book series\n"
     ]
    },
    {
     "name": "stderr",
     "output_type": "stream",
     "text": [
      " 57%|███████████████████████████████████████▋                              | 758/1337 [07:12<04:19,  2.23it/s]"
     ]
    },
    {
     "name": "stdout",
     "output_type": "stream",
     "text": [
      "Lecture notes in physics has homepage_url and type book series\n"
     ]
    },
    {
     "name": "stderr",
     "output_type": "stream",
     "text": [
      " 57%|███████████████████████████████████████▉                              | 762/1337 [07:15<06:22,  1.51it/s]"
     ]
    },
    {
     "name": "stdout",
     "output_type": "stream",
     "text": [
      "Instruments has homepage_url and type journal\n"
     ]
    },
    {
     "name": "stderr",
     "output_type": "stream",
     "text": [
      " 57%|████████████████████████████████████████                              | 764/1337 [07:16<05:25,  1.76it/s]"
     ]
    },
    {
     "name": "stdout",
     "output_type": "stream",
     "text": [
      "Izvestiâ vysših učebnyh zavedenij Rossii. Radioèlektronika has homepage_url and type journal\n"
     ]
    },
    {
     "name": "stderr",
     "output_type": "stream",
     "text": [
      " 57%|████████████████████████████████████████                              | 766/1337 [07:17<04:53,  1.94it/s]"
     ]
    },
    {
     "name": "stdout",
     "output_type": "stream",
     "text": [
      "Journal of Engineering Science and Military Technologies /Journal of Engineering Science and Military Technologies has homepage_url and type journal\n"
     ]
    },
    {
     "name": "stderr",
     "output_type": "stream",
     "text": [
      " 58%|████████████████████████████████████████▎                             | 770/1337 [07:19<04:23,  2.15it/s]"
     ]
    },
    {
     "name": "stdout",
     "output_type": "stream",
     "text": [
      "International journal on engineering applications has homepage_url and type journal\n"
     ]
    },
    {
     "name": "stderr",
     "output_type": "stream",
     "text": [
      " 58%|████████████████████████████████████████▋                             | 776/1337 [07:22<04:28,  2.09it/s]"
     ]
    },
    {
     "name": "stdout",
     "output_type": "stream",
     "text": [
      "Voprosy radioèlektroniki has homepage_url and type journal\n"
     ]
    },
    {
     "name": "stderr",
     "output_type": "stream",
     "text": [
      " 58%|████████████████████████████████████████▊                             | 779/1337 [07:23<04:27,  2.09it/s]"
     ]
    },
    {
     "name": "stdout",
     "output_type": "stream",
     "text": [
      "Tehnìčna ìnženerìâ has homepage_url and type journal\n"
     ]
    },
    {
     "name": "stderr",
     "output_type": "stream",
     "text": [
      " 58%|████████████████████████████████████████▉                             | 781/1337 [07:24<04:07,  2.24it/s]"
     ]
    },
    {
     "name": "stdout",
     "output_type": "stream",
     "text": [
      "Izvestiâ vysših učebnyh zavedenij. Černaâ metallurgiâ has homepage_url and type journal\n"
     ]
    },
    {
     "name": "stderr",
     "output_type": "stream",
     "text": [
      " 59%|█████████████████████████████████████████▏                            | 786/1337 [07:26<04:00,  2.29it/s]"
     ]
    },
    {
     "name": "stdout",
     "output_type": "stream",
     "text": [
      "Annals of nuclear energy has homepage_url and type journal\n"
     ]
    },
    {
     "name": "stderr",
     "output_type": "stream",
     "text": [
      " 59%|█████████████████████████████████████████▏                            | 787/1337 [07:27<04:00,  2.29it/s]"
     ]
    },
    {
     "name": "stdout",
     "output_type": "stream",
     "text": [
      "Journal of Engineering Research and Reports has homepage_url and type journal\n"
     ]
    },
    {
     "name": "stderr",
     "output_type": "stream",
     "text": [
      " 59%|█████████████████████████████████████████▎                            | 788/1337 [07:27<04:05,  2.24it/s]"
     ]
    },
    {
     "name": "stdout",
     "output_type": "stream",
     "text": [
      "Journal of drug delivery and therapeutics has homepage_url and type journal\n"
     ]
    },
    {
     "name": "stderr",
     "output_type": "stream",
     "text": [
      " 59%|█████████████████████████████████████████▌                            | 794/1337 [07:30<04:25,  2.05it/s]"
     ]
    },
    {
     "name": "stdout",
     "output_type": "stream",
     "text": [
      "bioRxiv (Cold Spring Harbor Laboratory) has homepage_url and type repository\n"
     ]
    },
    {
     "name": "stderr",
     "output_type": "stream",
     "text": [
      " 60%|██████████████████████████████████████████                            | 804/1337 [07:35<03:57,  2.25it/s]"
     ]
    },
    {
     "name": "stdout",
     "output_type": "stream",
     "text": [
      "IEEE transactions on aerospace and electronic systems has homepage_url and type journal\n"
     ]
    },
    {
     "name": "stderr",
     "output_type": "stream",
     "text": [
      " 60%|██████████████████████████████████████████▏                           | 805/1337 [07:36<05:41,  1.56it/s]"
     ]
    },
    {
     "name": "stdout",
     "output_type": "stream",
     "text": [
      "Aerospace science and technology has homepage_url and type journal\n"
     ]
    },
    {
     "name": "stderr",
     "output_type": "stream",
     "text": [
      " 60%|██████████████████████████████████████████▎                           | 807/1337 [07:37<05:11,  1.70it/s]"
     ]
    },
    {
     "name": "stdout",
     "output_type": "stream",
     "text": [
      "Journal of aerospace information systems has homepage_url and type journal\n"
     ]
    },
    {
     "name": "stderr",
     "output_type": "stream",
     "text": [
      " 60%|██████████████████████████████████████████▎                           | 808/1337 [07:38<06:51,  1.29it/s]"
     ]
    },
    {
     "name": "stdout",
     "output_type": "stream",
     "text": [
      "Safety science has homepage_url and type journal\n"
     ]
    },
    {
     "name": "stderr",
     "output_type": "stream",
     "text": [
      " 61%|██████████████████████████████████████████▎                           | 809/1337 [07:39<06:51,  1.28it/s]"
     ]
    },
    {
     "name": "stdout",
     "output_type": "stream",
     "text": [
      "Aerospace has homepage_url and type journal\n"
     ]
    },
    {
     "name": "stderr",
     "output_type": "stream",
     "text": [
      " 61%|██████████████████████████████████████████▍                           | 810/1337 [07:39<05:54,  1.49it/s]"
     ]
    },
    {
     "name": "stdout",
     "output_type": "stream",
     "text": [
      "Electronic research archive has homepage_url and type journal\n"
     ]
    },
    {
     "name": "stderr",
     "output_type": "stream",
     "text": [
      " 61%|██████████████████████████████████████████▌                           | 812/1337 [07:40<04:58,  1.76it/s]"
     ]
    },
    {
     "name": "stdout",
     "output_type": "stream",
     "text": [
      "Computational intelligence and neuroscience has homepage_url and type journal\n"
     ]
    },
    {
     "name": "stderr",
     "output_type": "stream",
     "text": [
      " 61%|██████████████████████████████████████████▌                           | 813/1337 [07:41<06:15,  1.40it/s]"
     ]
    },
    {
     "name": "stdout",
     "output_type": "stream",
     "text": [
      "The aeronautical journal/Aeronautical journal has homepage_url and type journal\n"
     ]
    },
    {
     "name": "stderr",
     "output_type": "stream",
     "text": [
      " 61%|██████████████████████████████████████████▌                           | 814/1337 [07:42<06:06,  1.43it/s]"
     ]
    },
    {
     "name": "stdout",
     "output_type": "stream",
     "text": [
      "International journal of aerospace engineering has homepage_url and type journal\n"
     ]
    },
    {
     "name": "stderr",
     "output_type": "stream",
     "text": [
      " 61%|██████████████████████████████████████████▋                           | 816/1337 [07:43<05:01,  1.73it/s]"
     ]
    },
    {
     "name": "stdout",
     "output_type": "stream",
     "text": [
      "Journal of Aerospace Technology and Management has homepage_url and type journal\n"
     ]
    },
    {
     "name": "stderr",
     "output_type": "stream",
     "text": [
      " 61%|██████████████████████████████████████████▊                           | 817/1337 [07:44<06:23,  1.35it/s]"
     ]
    },
    {
     "name": "stdout",
     "output_type": "stream",
     "text": [
      "Journal of navigation has homepage_url and type journal\n"
     ]
    },
    {
     "name": "stderr",
     "output_type": "stream",
     "text": [
      " 61%|██████████████████████████████████████████▊                           | 818/1337 [07:45<05:40,  1.52it/s]"
     ]
    },
    {
     "name": "stdout",
     "output_type": "stream",
     "text": [
      "Imaging science journal/The imaging science journal has homepage_url and type journal\n"
     ]
    },
    {
     "name": "stderr",
     "output_type": "stream",
     "text": [
      " 61%|██████████████████████████████████████████▉                           | 819/1337 [07:46<07:19,  1.18it/s]"
     ]
    },
    {
     "name": "stdout",
     "output_type": "stream",
     "text": [
      "Remote sensing has homepage_url and type journal\n"
     ]
    },
    {
     "name": "stderr",
     "output_type": "stream",
     "text": [
      " 62%|███████████████████████████████████████████▏                          | 824/1337 [07:49<05:42,  1.50it/s]"
     ]
    },
    {
     "name": "stdout",
     "output_type": "stream",
     "text": [
      "Journal of the Korean Institute of Electromagnetic Engineering and Science has homepage_url and type journal\n"
     ]
    },
    {
     "name": "stderr",
     "output_type": "stream",
     "text": [
      " 62%|███████████████████████████████████████████▏                          | 825/1337 [07:50<05:38,  1.51it/s]"
     ]
    },
    {
     "name": "stdout",
     "output_type": "stream",
     "text": [
      "Journal of aerospace engineering has homepage_url and type journal\n"
     ]
    },
    {
     "name": "stderr",
     "output_type": "stream",
     "text": [
      " 62%|███████████████████████████████████████████▎                          | 827/1337 [07:50<04:40,  1.82it/s]"
     ]
    },
    {
     "name": "stdout",
     "output_type": "stream",
     "text": [
      "Xibei gongye daxue xuebao has homepage_url and type journal\n"
     ]
    },
    {
     "name": "stderr",
     "output_type": "stream",
     "text": [
      " 62%|███████████████████████████████████████████▎                          | 828/1337 [07:51<04:28,  1.90it/s]"
     ]
    },
    {
     "name": "stdout",
     "output_type": "stream",
     "text": [
      "Aircraft engineering and aerospace technology has homepage_url and type journal\n"
     ]
    },
    {
     "name": "stderr",
     "output_type": "stream",
     "text": [
      " 62%|███████████████████████████████████████████▍                          | 829/1337 [07:52<06:04,  1.39it/s]"
     ]
    },
    {
     "name": "stdout",
     "output_type": "stream",
     "text": [
      "Measurement + control/Measurement and control has homepage_url and type journal\n"
     ]
    },
    {
     "name": "stderr",
     "output_type": "stream",
     "text": [
      " 62%|███████████████████████████████████████████▌                          | 831/1337 [07:53<05:08,  1.64it/s]"
     ]
    },
    {
     "name": "stdout",
     "output_type": "stream",
     "text": [
      "International journal of general systems has homepage_url and type journal\n"
     ]
    },
    {
     "name": "stderr",
     "output_type": "stream",
     "text": [
      " 63%|███████████████████████████████████████████▊                          | 836/1337 [07:56<04:17,  1.95it/s]"
     ]
    },
    {
     "name": "stdout",
     "output_type": "stream",
     "text": [
      "INCAS Buletin has homepage_url and type journal\n"
     ]
    },
    {
     "name": "stderr",
     "output_type": "stream",
     "text": [
      " 63%|███████████████████████████████████████████▊                          | 838/1337 [07:57<04:03,  2.05it/s]"
     ]
    },
    {
     "name": "stdout",
     "output_type": "stream",
     "text": [
      "Journal of defense modeling and simulation has homepage_url and type journal\n"
     ]
    },
    {
     "name": "stderr",
     "output_type": "stream",
     "text": [
      " 63%|███████████████████████████████████████████▉                          | 840/1337 [07:58<04:04,  2.03it/s]"
     ]
    },
    {
     "name": "stdout",
     "output_type": "stream",
     "text": [
      "International journal on artificial intelligence tools has homepage_url and type journal\n"
     ]
    },
    {
     "name": "stderr",
     "output_type": "stream",
     "text": [
      " 63%|████████████████████████████████████████████▏                         | 843/1337 [07:59<03:48,  2.16it/s]"
     ]
    },
    {
     "name": "stdout",
     "output_type": "stream",
     "text": [
      "Authorea (Authorea) has homepage_url and type repository\n"
     ]
    },
    {
     "name": "stderr",
     "output_type": "stream",
     "text": [
      " 63%|████████████████████████████████████████████▏                         | 844/1337 [07:59<03:50,  2.14it/s]"
     ]
    },
    {
     "name": "stdout",
     "output_type": "stream",
     "text": [
      "Frontiers in aerospace engineering has homepage_url and type journal\n"
     ]
    },
    {
     "name": "stderr",
     "output_type": "stream",
     "text": [
      " 63%|████████████████████████████████████████████▎                         | 846/1337 [08:00<03:50,  2.13it/s]"
     ]
    },
    {
     "name": "stdout",
     "output_type": "stream",
     "text": [
      "EURASIP Journal on Advances in Signal Processing has homepage_url and type journal\n"
     ]
    },
    {
     "name": "stderr",
     "output_type": "stream",
     "text": [
      " 64%|████████████████████████████████████████████▌                         | 851/1337 [08:03<04:10,  1.94it/s]"
     ]
    },
    {
     "name": "stdout",
     "output_type": "stream",
     "text": [
      "JAREE (Journal on Advanced Research in Electrical Engineering) has homepage_url and type journal\n"
     ]
    },
    {
     "name": "stderr",
     "output_type": "stream",
     "text": [
      " 64%|████████████████████████████████████████████▊                         | 855/1337 [08:07<07:36,  1.06it/s]"
     ]
    },
    {
     "name": "stdout",
     "output_type": "stream",
     "text": [
      "International journal of automation and control has homepage_url and type journal\n"
     ]
    },
    {
     "name": "stderr",
     "output_type": "stream",
     "text": [
      " 64%|████████████████████████████████████████████▊                         | 856/1337 [08:08<06:44,  1.19it/s]"
     ]
    },
    {
     "name": "stdout",
     "output_type": "stream",
     "text": [
      "Ozbroênnâ ta vìjsʹkova tehnìka has homepage_url and type journal\n"
     ]
    },
    {
     "name": "stderr",
     "output_type": "stream",
     "text": [
      " 64%|████████████████████████████████████████████▉                         | 859/1337 [08:10<06:41,  1.19it/s]"
     ]
    },
    {
     "name": "stdout",
     "output_type": "stream",
     "text": [
      "Navigation has homepage_url and type journal\n"
     ]
    },
    {
     "name": "stderr",
     "output_type": "stream",
     "text": [
      " 65%|█████████████████████████████████████████████▏                        | 864/1337 [08:12<04:23,  1.79it/s]"
     ]
    },
    {
     "name": "stdout",
     "output_type": "stream",
     "text": [
      "Problemy Mechatroniki has homepage_url and type journal\n"
     ]
    },
    {
     "name": "stderr",
     "output_type": "stream",
     "text": [
      " 65%|█████████████████████████████████████████████▍                        | 867/1337 [08:20<12:21,  1.58s/it]"
     ]
    },
    {
     "name": "stdout",
     "output_type": "stream",
     "text": [
      "INSIST (International Series on Integrated Science and Technology) has homepage_url and type journal\n"
     ]
    },
    {
     "name": "stderr",
     "output_type": "stream",
     "text": [
      " 65%|█████████████████████████████████████████████▌                        | 870/1337 [08:22<08:33,  1.10s/it]"
     ]
    },
    {
     "name": "stdout",
     "output_type": "stream",
     "text": [
      "SN applied sciences/SN Applied Sciences has homepage_url and type journal\n"
     ]
    },
    {
     "name": "stderr",
     "output_type": "stream",
     "text": [
      " 65%|█████████████████████████████████████████████▌                        | 871/1337 [08:22<07:02,  1.10it/s]"
     ]
    },
    {
     "name": "stdout",
     "output_type": "stream",
     "text": [
      "Problemy Techniki Uzbrojenia i Radiolokacji has homepage_url and type journal\n"
     ]
    },
    {
     "name": "stderr",
     "output_type": "stream",
     "text": [
      " 65%|█████████████████████████████████████████████▋                        | 872/1337 [08:23<05:55,  1.31it/s]"
     ]
    },
    {
     "name": "stdout",
     "output_type": "stream",
     "text": [
      "International game theory review has homepage_url and type journal\n"
     ]
    },
    {
     "name": "stderr",
     "output_type": "stream",
     "text": [
      " 65%|█████████████████████████████████████████████▊                        | 874/1337 [08:24<04:46,  1.62it/s]"
     ]
    },
    {
     "name": "stdout",
     "output_type": "stream",
     "text": [
      "Proceedings in applied mathematics and mechanics has homepage_url and type journal\n"
     ]
    },
    {
     "name": "stderr",
     "output_type": "stream",
     "text": [
      " 65%|█████████████████████████████████████████████▊                        | 875/1337 [08:25<06:22,  1.21it/s]"
     ]
    },
    {
     "name": "stdout",
     "output_type": "stream",
     "text": [
      "Jurnal pertahanan/Jurnal Pertahanan has homepage_url and type journal\n"
     ]
    },
    {
     "name": "stderr",
     "output_type": "stream",
     "text": [
      " 66%|█████████████████████████████████████████████▊                        | 876/1337 [08:26<05:36,  1.37it/s]"
     ]
    },
    {
     "name": "stdout",
     "output_type": "stream",
     "text": [
      "Defence and peace economics has homepage_url and type journal\n"
     ]
    },
    {
     "name": "stderr",
     "output_type": "stream",
     "text": [
      " 66%|██████████████████████████████████████████████                        | 879/1337 [08:27<04:26,  1.72it/s]"
     ]
    },
    {
     "name": "stdout",
     "output_type": "stream",
     "text": [
      "Journal of control and decision has homepage_url and type journal\n"
     ]
    },
    {
     "name": "stderr",
     "output_type": "stream",
     "text": [
      " 66%|██████████████████████████████████████████████▎                       | 884/1337 [08:29<03:37,  2.08it/s]"
     ]
    },
    {
     "name": "stdout",
     "output_type": "stream",
     "text": [
      "Han'gug jeonja'pa haghoe nonmunji/The Journal of Korean institute of electromagnetic engineering and science has homepage_url and type journal\n"
     ]
    },
    {
     "name": "stderr",
     "output_type": "stream",
     "text": [
      " 66%|██████████████████████████████████████████████▍                       | 886/1337 [08:30<03:31,  2.13it/s]"
     ]
    },
    {
     "name": "stdout",
     "output_type": "stream",
     "text": [
      "Barekeng has homepage_url and type journal\n"
     ]
    },
    {
     "name": "stderr",
     "output_type": "stream",
     "text": [
      " 66%|██████████████████████████████████████████████▌                       | 889/1337 [08:32<03:29,  2.13it/s]"
     ]
    },
    {
     "name": "stdout",
     "output_type": "stream",
     "text": [
      "Open Astronomy has homepage_url and type journal\n"
     ]
    },
    {
     "name": "stderr",
     "output_type": "stream",
     "text": [
      " 67%|██████████████████████████████████████████████▊                       | 894/1337 [08:34<03:43,  1.99it/s]"
     ]
    },
    {
     "name": "stdout",
     "output_type": "stream",
     "text": [
      "International journal of enterprise information systems has homepage_url and type journal\n"
     ]
    },
    {
     "name": "stderr",
     "output_type": "stream",
     "text": [
      " 67%|██████████████████████████████████████████████▉                       | 897/1337 [08:36<03:42,  1.98it/s]"
     ]
    },
    {
     "name": "stdout",
     "output_type": "stream",
     "text": [
      "TsAGI science journal has homepage_url and type journal\n"
     ]
    },
    {
     "name": "stderr",
     "output_type": "stream",
     "text": [
      " 67%|███████████████████████████████████████████████                       | 898/1337 [08:36<03:41,  1.98it/s]"
     ]
    },
    {
     "name": "stdout",
     "output_type": "stream",
     "text": [
      "Zeszyty Naukowe Akademii Marynarki Wojennej/Zeszyty Naukowe - Akademia Marynarki Wojennej im. Bohaterów Westerplatte has homepage_url and type journal\n"
     ]
    },
    {
     "name": "stderr",
     "output_type": "stream",
     "text": [
      " 67%|███████████████████████████████████████████████▏                      | 902/1337 [08:38<03:27,  2.10it/s]"
     ]
    },
    {
     "name": "stdout",
     "output_type": "stream",
     "text": [
      "Advances in Military Technology has homepage_url and type journal\n"
     ]
    },
    {
     "name": "stderr",
     "output_type": "stream",
     "text": [
      " 68%|███████████████████████████████████████████████▍                      | 906/1337 [08:40<03:17,  2.18it/s]"
     ]
    },
    {
     "name": "stdout",
     "output_type": "stream",
     "text": [
      "Vortex has homepage_url and type journal\n"
     ]
    },
    {
     "name": "stderr",
     "output_type": "stream",
     "text": [
      " 68%|███████████████████████████████████████████████▌                      | 909/1337 [08:41<03:24,  2.09it/s]"
     ]
    },
    {
     "name": "stdout",
     "output_type": "stream",
     "text": [
      "American journal of aerospace engineering has homepage_url and type journal\n"
     ]
    },
    {
     "name": "stderr",
     "output_type": "stream",
     "text": [
      " 68%|███████████████████████████████████████████████▊                      | 914/1337 [08:44<03:21,  2.10it/s]"
     ]
    },
    {
     "name": "stdout",
     "output_type": "stream",
     "text": [
      "International journal of computers and communications has homepage_url and type journal\n"
     ]
    },
    {
     "name": "stderr",
     "output_type": "stream",
     "text": [
      " 69%|███████████████████████████████████████████████▉                      | 916/1337 [08:45<03:24,  2.05it/s]"
     ]
    },
    {
     "name": "stdout",
     "output_type": "stream",
     "text": [
      "Advances in Manufacturing Science and Technology has homepage_url and type journal\n"
     ]
    },
    {
     "name": "stderr",
     "output_type": "stream",
     "text": [
      " 69%|████████████████████████████████████████████████                      | 919/1337 [08:46<03:17,  2.12it/s]"
     ]
    },
    {
     "name": "stdout",
     "output_type": "stream",
     "text": [
      "IEEE transactions on geoscience and remote sensing has homepage_url and type journal\n"
     ]
    },
    {
     "name": "stderr",
     "output_type": "stream",
     "text": [
      " 69%|████████████████████████████████████████████████▏                     | 920/1337 [08:47<04:42,  1.48it/s]"
     ]
    },
    {
     "name": "stdout",
     "output_type": "stream",
     "text": [
      "IEEE geoscience and remote sensing letters has homepage_url and type journal\n"
     ]
    },
    {
     "name": "stderr",
     "output_type": "stream",
     "text": [
      " 69%|████████████████████████████████████████████████▏                     | 921/1337 [08:48<05:16,  1.31it/s]"
     ]
    },
    {
     "name": "stdout",
     "output_type": "stream",
     "text": [
      "IEEE journal of selected topics in applied earth observations and remote sensing has homepage_url and type journal\n"
     ]
    },
    {
     "name": "stderr",
     "output_type": "stream",
     "text": [
      " 69%|████████████████████████████████████████████████▎                     | 922/1337 [08:49<04:52,  1.42it/s]"
     ]
    },
    {
     "name": "stdout",
     "output_type": "stream",
     "text": [
      "Cognitive computation has homepage_url and type journal\n"
     ]
    },
    {
     "name": "stderr",
     "output_type": "stream",
     "text": [
      " 69%|████████████████████████████████████████████████▎                     | 923/1337 [08:50<04:28,  1.54it/s]"
     ]
    },
    {
     "name": "stdout",
     "output_type": "stream",
     "text": [
      "Journal of network and computer applications has homepage_url and type journal\n"
     ]
    },
    {
     "name": "stderr",
     "output_type": "stream",
     "text": [
      " 69%|████████████████████████████████████████████████▍                     | 925/1337 [08:51<04:33,  1.51it/s]"
     ]
    },
    {
     "name": "stdout",
     "output_type": "stream",
     "text": [
      "IEEE aerospace and electronic systems magazine has homepage_url and type journal\n"
     ]
    },
    {
     "name": "stderr",
     "output_type": "stream",
     "text": [
      " 69%|████████████████████████████████████████████████▍                     | 926/1337 [08:51<04:14,  1.61it/s]"
     ]
    },
    {
     "name": "stdout",
     "output_type": "stream",
     "text": [
      "IEEE wireless communications letters has homepage_url and type journal\n"
     ]
    },
    {
     "name": "stderr",
     "output_type": "stream",
     "text": [
      " 69%|████████████████████████████████████████████████▌                     | 927/1337 [08:52<03:52,  1.76it/s]"
     ]
    },
    {
     "name": "stdout",
     "output_type": "stream",
     "text": [
      "International journal of remote sensing has homepage_url and type journal\n"
     ]
    },
    {
     "name": "stderr",
     "output_type": "stream",
     "text": [
      " 69%|████████████████████████████████████████████████▌                     | 928/1337 [08:52<03:38,  1.87it/s]"
     ]
    },
    {
     "name": "stdout",
     "output_type": "stream",
     "text": [
      "IEEE journal of oceanic engineering has homepage_url and type journal\n"
     ]
    },
    {
     "name": "stderr",
     "output_type": "stream",
     "text": [
      " 69%|████████████████████████████████████████████████▋                     | 929/1337 [08:53<03:34,  1.90it/s]"
     ]
    },
    {
     "name": "stdout",
     "output_type": "stream",
     "text": [
      "Journal of applied remote sensing has homepage_url and type journal\n"
     ]
    },
    {
     "name": "stderr",
     "output_type": "stream",
     "text": [
      " 70%|████████████████████████████████████████████████▋                     | 930/1337 [08:55<05:57,  1.14it/s]"
     ]
    },
    {
     "name": "stdout",
     "output_type": "stream",
     "text": [
      "Signal processing has homepage_url and type journal\n"
     ]
    },
    {
     "name": "stderr",
     "output_type": "stream",
     "text": [
      " 70%|████████████████████████████████████████████████▋                     | 931/1337 [08:55<05:03,  1.34it/s]"
     ]
    },
    {
     "name": "stdout",
     "output_type": "stream",
     "text": [
      "IEEE transactions on image processing has homepage_url and type journal\n"
     ]
    },
    {
     "name": "stderr",
     "output_type": "stream",
     "text": [
      " 70%|████████████████████████████████████████████████▊                     | 932/1337 [08:56<04:31,  1.49it/s]"
     ]
    },
    {
     "name": "stdout",
     "output_type": "stream",
     "text": [
      "IEEE signal processing letters has homepage_url and type journal\n"
     ]
    },
    {
     "name": "stderr",
     "output_type": "stream",
     "text": [
      " 70%|████████████████████████████████████████████████▊                     | 933/1337 [08:57<05:38,  1.19it/s]"
     ]
    },
    {
     "name": "stdout",
     "output_type": "stream",
     "text": [
      "Digital signal processing has homepage_url and type journal\n"
     ]
    },
    {
     "name": "stderr",
     "output_type": "stream",
     "text": [
      " 70%|████████████████████████████████████████████████▉                     | 934/1337 [08:57<05:03,  1.33it/s]"
     ]
    },
    {
     "name": "stdout",
     "output_type": "stream",
     "text": [
      "Remote sensing letters has homepage_url and type journal\n"
     ]
    },
    {
     "name": "stderr",
     "output_type": "stream",
     "text": [
      " 70%|█████████████████████████████████████████████████                     | 936/1337 [08:58<04:20,  1.54it/s]"
     ]
    },
    {
     "name": "stdout",
     "output_type": "stream",
     "text": [
      "Journal of electronic imaging has homepage_url and type journal\n"
     ]
    },
    {
     "name": "stderr",
     "output_type": "stream",
     "text": [
      " 70%|█████████████████████████████████████████████████                     | 937/1337 [08:59<03:59,  1.67it/s]"
     ]
    },
    {
     "name": "stdout",
     "output_type": "stream",
     "text": [
      "Journal of electromagnetic waves and applications has homepage_url and type journal\n"
     ]
    },
    {
     "name": "stderr",
     "output_type": "stream",
     "text": [
      " 70%|█████████████████████████████████████████████████▏                    | 940/1337 [09:00<03:20,  1.98it/s]"
     ]
    },
    {
     "name": "stdout",
     "output_type": "stream",
     "text": [
      "IEEE transactions on information forensics and security has homepage_url and type journal\n"
     ]
    },
    {
     "name": "stderr",
     "output_type": "stream",
     "text": [
      " 70%|█████████████████████████████████████████████████▎                    | 941/1337 [09:01<03:15,  2.02it/s]"
     ]
    },
    {
     "name": "stdout",
     "output_type": "stream",
     "text": [
      "Journal of visual communication and image representation has homepage_url and type journal\n"
     ]
    },
    {
     "name": "stderr",
     "output_type": "stream",
     "text": [
      " 70%|█████████████████████████████████████████████████▎                    | 942/1337 [09:01<03:09,  2.09it/s]"
     ]
    },
    {
     "name": "stdout",
     "output_type": "stream",
     "text": [
      "IEEE transactions on circuits and systems for video technology has homepage_url and type journal\n"
     ]
    },
    {
     "name": "stderr",
     "output_type": "stream",
     "text": [
      " 71%|█████████████████████████████████████████████████▎                    | 943/1337 [09:02<03:04,  2.14it/s]"
     ]
    },
    {
     "name": "stdout",
     "output_type": "stream",
     "text": [
      "Hanguk gunsa gwahak gisul hakoeji/Han'gug gunsa gwahag gi'sul haghoeji has homepage_url and type journal\n"
     ]
    },
    {
     "name": "stderr",
     "output_type": "stream",
     "text": [
      " 71%|█████████████████████████████████████████████████▍                    | 944/1337 [09:02<03:09,  2.08it/s]"
     ]
    },
    {
     "name": "stdout",
     "output_type": "stream",
     "text": [
      "ISPRS journal of photogrammetry and remote sensing has homepage_url and type journal\n"
     ]
    },
    {
     "name": "stderr",
     "output_type": "stream",
     "text": [
      " 71%|█████████████████████████████████████████████████▍                    | 945/1337 [09:03<03:02,  2.15it/s]"
     ]
    },
    {
     "name": "stdout",
     "output_type": "stream",
     "text": [
      "IET signal processing has homepage_url and type journal\n"
     ]
    },
    {
     "name": "stderr",
     "output_type": "stream",
     "text": [
      " 71%|█████████████████████████████████████████████████▌                    | 946/1337 [09:03<03:03,  2.13it/s]"
     ]
    },
    {
     "name": "stdout",
     "output_type": "stream",
     "text": [
      "Scientific programming has homepage_url and type journal\n"
     ]
    },
    {
     "name": "stderr",
     "output_type": "stream",
     "text": [
      " 71%|█████████████████████████████████████████████████▌                    | 947/1337 [09:04<03:06,  2.09it/s]"
     ]
    },
    {
     "name": "stdout",
     "output_type": "stream",
     "text": [
      "Integrated ferroelectrics has homepage_url and type journal\n"
     ]
    },
    {
     "name": "stderr",
     "output_type": "stream",
     "text": [
      " 71%|█████████████████████████████████████████████████▋                    | 949/1337 [09:05<04:26,  1.46it/s]"
     ]
    },
    {
     "name": "stdout",
     "output_type": "stream",
     "text": [
      "Optical engineering has homepage_url and type journal\n"
     ]
    },
    {
     "name": "stderr",
     "output_type": "stream",
     "text": [
      " 71%|█████████████████████████████████████████████████▋                    | 950/1337 [09:06<04:01,  1.60it/s]"
     ]
    },
    {
     "name": "stdout",
     "output_type": "stream",
     "text": [
      "International journal of antennas and propagation has homepage_url and type journal\n"
     ]
    },
    {
     "name": "stderr",
     "output_type": "stream",
     "text": [
      " 71%|█████████████████████████████████████████████████▊                    | 951/1337 [09:07<05:26,  1.18it/s]"
     ]
    },
    {
     "name": "stdout",
     "output_type": "stream",
     "text": [
      "Computer communications has homepage_url and type journal\n"
     ]
    },
    {
     "name": "stderr",
     "output_type": "stream",
     "text": [
      " 71%|█████████████████████████████████████████████████▊                    | 952/1337 [09:07<04:39,  1.38it/s]"
     ]
    },
    {
     "name": "stdout",
     "output_type": "stream",
     "text": [
      "Applied artificial intelligence has homepage_url and type journal\n"
     ]
    },
    {
     "name": "stderr",
     "output_type": "stream",
     "text": [
      " 71%|█████████████████████████████████████████████████▉                    | 953/1337 [09:08<04:11,  1.53it/s]"
     ]
    },
    {
     "name": "stdout",
     "output_type": "stream",
     "text": [
      "IEEE journal on miniaturization for air and space systems has homepage_url and type journal\n"
     ]
    },
    {
     "name": "stderr",
     "output_type": "stream",
     "text": [
      " 72%|██████████████████████████████████████████████████▋                   | 968/1337 [09:15<03:02,  2.03it/s]"
     ]
    },
    {
     "name": "stdout",
     "output_type": "stream",
     "text": [
      "Cybernetics and Information Technologies has homepage_url and type journal\n"
     ]
    },
    {
     "name": "stderr",
     "output_type": "stream",
     "text": [
      " 73%|███████████████████████████████████████████████████                   | 976/1337 [09:19<02:55,  2.05it/s]"
     ]
    },
    {
     "name": "stdout",
     "output_type": "stream",
     "text": [
      "Iraqi journal of science has homepage_url and type journal\n"
     ]
    },
    {
     "name": "stderr",
     "output_type": "stream",
     "text": [
      " 73%|███████████████████████████████████████████████████▏                  | 977/1337 [09:19<02:53,  2.08it/s]"
     ]
    },
    {
     "name": "stdout",
     "output_type": "stream",
     "text": [
      "International journal of optics has homepage_url and type journal\n"
     ]
    },
    {
     "name": "stderr",
     "output_type": "stream",
     "text": [
      " 73%|███████████████████████████████████████████████████▎                  | 979/1337 [09:20<02:47,  2.14it/s]"
     ]
    },
    {
     "name": "stdout",
     "output_type": "stream",
     "text": [
      "Physical communication has homepage_url and type journal\n"
     ]
    },
    {
     "name": "stderr",
     "output_type": "stream",
     "text": [
      " 73%|███████████████████████████████████████████████████▎                  | 981/1337 [09:21<02:50,  2.08it/s]"
     ]
    },
    {
     "name": "stdout",
     "output_type": "stream",
     "text": [
      "IEICE transactions on electronics has homepage_url and type journal\n"
     ]
    },
    {
     "name": "stderr",
     "output_type": "stream",
     "text": [
      " 73%|███████████████████████████████████████████████████▍                  | 982/1337 [09:22<02:51,  2.06it/s]"
     ]
    },
    {
     "name": "stdout",
     "output_type": "stream",
     "text": [
      "PeerJ. Computer science has homepage_url and type journal\n"
     ]
    },
    {
     "name": "stderr",
     "output_type": "stream",
     "text": [
      " 74%|███████████████████████████████████████████████████▍                  | 983/1337 [09:22<02:56,  2.01it/s]"
     ]
    },
    {
     "name": "stdout",
     "output_type": "stream",
     "text": [
      "Future internet has homepage_url and type journal\n"
     ]
    },
    {
     "name": "stderr",
     "output_type": "stream",
     "text": [
      " 74%|███████████████████████████████████████████████████▌                  | 985/1337 [09:23<02:57,  1.98it/s]"
     ]
    },
    {
     "name": "stdout",
     "output_type": "stream",
     "text": [
      "Proceedings of meetings on acoustics has homepage_url and type journal\n"
     ]
    },
    {
     "name": "stderr",
     "output_type": "stream",
     "text": [
      " 74%|███████████████████████████████████████████████████▋                  | 987/1337 [09:25<04:17,  1.36it/s]"
     ]
    },
    {
     "name": "stdout",
     "output_type": "stream",
     "text": [
      "Journal of mathematics has homepage_url and type journal\n"
     ]
    },
    {
     "name": "stderr",
     "output_type": "stream",
     "text": [
      " 74%|███████████████████████████████████████████████████▉                  | 993/1337 [09:28<02:48,  2.05it/s]"
     ]
    },
    {
     "name": "stdout",
     "output_type": "stream",
     "text": [
      "Advances in multimedia has homepage_url and type journal\n"
     ]
    },
    {
     "name": "stderr",
     "output_type": "stream",
     "text": [
      " 74%|████████████████████████████████████████████████████▏                 | 996/1337 [09:29<02:51,  1.98it/s]"
     ]
    },
    {
     "name": "stdout",
     "output_type": "stream",
     "text": [
      "IEEE journal on multiscale and multiphysics computational techniques has homepage_url and type journal\n"
     ]
    },
    {
     "name": "stderr",
     "output_type": "stream",
     "text": [
      " 75%|████████████████████████████████████████████████████▎                 | 999/1337 [09:32<04:21,  1.29it/s]"
     ]
    },
    {
     "name": "stdout",
     "output_type": "stream",
     "text": [
      "International journal of cloud computing has homepage_url and type journal\n"
     ]
    },
    {
     "name": "stderr",
     "output_type": "stream",
     "text": [
      " 75%|███████████████████████████████████████████████████▋                 | 1001/1337 [09:33<04:48,  1.16it/s]"
     ]
    },
    {
     "name": "stdout",
     "output_type": "stream",
     "text": [
      "Wireless communications and mobile computing has homepage_url and type journal\n"
     ]
    },
    {
     "name": "stderr",
     "output_type": "stream",
     "text": [
      " 75%|███████████████████████████████████████████████████▋                 | 1002/1337 [09:34<04:14,  1.31it/s]"
     ]
    },
    {
     "name": "stdout",
     "output_type": "stream",
     "text": [
      "T-comm has homepage_url and type journal\n"
     ]
    },
    {
     "name": "stderr",
     "output_type": "stream",
     "text": [
      " 75%|███████████████████████████████████████████████████▊                 | 1005/1337 [09:35<03:04,  1.80it/s]"
     ]
    },
    {
     "name": "stdout",
     "output_type": "stream",
     "text": [
      "Springer optimization and its applications has homepage_url and type book series\n"
     ]
    },
    {
     "name": "stderr",
     "output_type": "stream",
     "text": [
      " 75%|████████████████████████████████████████████████████                 | 1008/1337 [09:37<02:45,  1.99it/s]"
     ]
    },
    {
     "name": "stdout",
     "output_type": "stream",
     "text": [
      "Journal of Interdisciplinary Mathematics/Journal of interdisciplinary mathematics has homepage_url and type journal\n"
     ]
    },
    {
     "name": "stderr",
     "output_type": "stream",
     "text": [
      " 76%|████████████████████████████████████████████████████▌                | 1019/1337 [09:42<02:28,  2.15it/s]"
     ]
    },
    {
     "name": "stdout",
     "output_type": "stream",
     "text": [
      "Journal of electromagnetic engineering and science has homepage_url and type journal\n"
     ]
    },
    {
     "name": "stderr",
     "output_type": "stream",
     "text": [
      " 76%|████████████████████████████████████████████████████▋                | 1022/1337 [09:44<03:30,  1.50it/s]"
     ]
    },
    {
     "name": "stdout",
     "output_type": "stream",
     "text": [
      "International journal of information and communication technology has homepage_url and type journal\n"
     ]
    },
    {
     "name": "stderr",
     "output_type": "stream",
     "text": [
      " 77%|████████████████████████████████████████████████████▉                | 1025/1337 [09:46<02:53,  1.79it/s]"
     ]
    },
    {
     "name": "stdout",
     "output_type": "stream",
     "text": [
      "Security and communication networks has homepage_url and type journal\n"
     ]
    },
    {
     "name": "stderr",
     "output_type": "stream",
     "text": [
      " 77%|█████████████████████████████████████████████████████                | 1028/1337 [09:47<02:46,  1.86it/s]"
     ]
    },
    {
     "name": "stdout",
     "output_type": "stream",
     "text": [
      "Journal of Scientific Research of the Banaras Hindu University has homepage_url and type journal\n"
     ]
    },
    {
     "name": "stderr",
     "output_type": "stream",
     "text": [
      " 77%|█████████████████████████████████████████████████████▍               | 1035/1337 [09:52<03:38,  1.38it/s]"
     ]
    },
    {
     "name": "stdout",
     "output_type": "stream",
     "text": [
      "IET biometrics has homepage_url and type journal\n"
     ]
    },
    {
     "name": "stderr",
     "output_type": "stream",
     "text": [
      " 78%|█████████████████████████████████████████████████████▌               | 1038/1337 [09:54<03:03,  1.63it/s]"
     ]
    },
    {
     "name": "stdout",
     "output_type": "stream",
     "text": [
      "Thin-walled structures has homepage_url and type journal\n"
     ]
    },
    {
     "name": "stderr",
     "output_type": "stream",
     "text": [
      " 78%|█████████████████████████████████████████████████████▌               | 1039/1337 [09:55<02:51,  1.74it/s]"
     ]
    },
    {
     "name": "stdout",
     "output_type": "stream",
     "text": [
      "Journal of aircraft and spacecraft technology has homepage_url and type journal\n"
     ]
    },
    {
     "name": "stderr",
     "output_type": "stream",
     "text": [
      " 78%|█████████████████████████████████████████████████████▋               | 1040/1337 [09:55<02:45,  1.79it/s]"
     ]
    },
    {
     "name": "stdout",
     "output_type": "stream",
     "text": [
      "Quarterly journal of the Royal Meteorological Society has homepage_url and type journal\n"
     ]
    },
    {
     "name": "stderr",
     "output_type": "stream",
     "text": [
      " 78%|█████████████████████████████████████████████████████▋               | 1041/1337 [09:56<03:04,  1.60it/s]"
     ]
    },
    {
     "name": "stdout",
     "output_type": "stream",
     "text": [
      "International affairs has homepage_url and type journal\n"
     ]
    },
    {
     "name": "stderr",
     "output_type": "stream",
     "text": [
      " 78%|█████████████████████████████████████████████████████▊               | 1042/1337 [09:56<02:48,  1.75it/s]"
     ]
    },
    {
     "name": "stdout",
     "output_type": "stream",
     "text": [
      "Comparative strategy has homepage_url and type journal\n"
     ]
    },
    {
     "name": "stderr",
     "output_type": "stream",
     "text": [
      " 78%|█████████████████████████████████████████████████████▉               | 1044/1337 [09:58<03:56,  1.24it/s]"
     ]
    },
    {
     "name": "stdout",
     "output_type": "stream",
     "text": [
      "Defence studies has homepage_url and type journal\n"
     ]
    },
    {
     "name": "stderr",
     "output_type": "stream",
     "text": [
      " 78%|█████████████████████████████████████████████████████▉               | 1046/1337 [09:59<03:06,  1.56it/s]"
     ]
    },
    {
     "name": "stdout",
     "output_type": "stream",
     "text": [
      "Contemporary security policy has homepage_url and type journal\n"
     ]
    },
    {
     "name": "stderr",
     "output_type": "stream",
     "text": [
      " 78%|██████████████████████████████████████████████████████               | 1047/1337 [10:00<02:47,  1.73it/s]"
     ]
    },
    {
     "name": "stdout",
     "output_type": "stream",
     "text": [
      "Cold war history has homepage_url and type journal\n"
     ]
    },
    {
     "name": "stderr",
     "output_type": "stream",
     "text": [
      " 78%|██████████████████████████████████████████████████████               | 1048/1337 [10:00<02:38,  1.83it/s]"
     ]
    },
    {
     "name": "stdout",
     "output_type": "stream",
     "text": [
      "Morbidity and mortality weekly report has homepage_url and type journal\n"
     ]
    },
    {
     "name": "stderr",
     "output_type": "stream",
     "text": [
      " 78%|██████████████████████████████████████████████████████▏              | 1049/1337 [10:01<02:30,  1.91it/s]"
     ]
    },
    {
     "name": "stdout",
     "output_type": "stream",
     "text": [
      "Middle East policy has homepage_url and type journal\n"
     ]
    },
    {
     "name": "stderr",
     "output_type": "stream",
     "text": [
      " 79%|██████████████████████████████████████████████████████▏              | 1050/1337 [10:02<03:43,  1.28it/s]"
     ]
    },
    {
     "name": "stdout",
     "output_type": "stream",
     "text": [
      "International security has homepage_url and type journal\n"
     ]
    },
    {
     "name": "stderr",
     "output_type": "stream",
     "text": [
      " 79%|██████████████████████████████████████████████████████▏              | 1051/1337 [10:03<04:21,  1.09it/s]"
     ]
    },
    {
     "name": "stdout",
     "output_type": "stream",
     "text": [
      "Omega has homepage_url and type journal\n"
     ]
    },
    {
     "name": "stderr",
     "output_type": "stream",
     "text": [
      " 79%|██████████████████████████████████████████████████████▎              | 1052/1337 [10:05<04:53,  1.03s/it]"
     ]
    },
    {
     "name": "stdout",
     "output_type": "stream",
     "text": [
      "Astrodynamics has homepage_url and type journal\n"
     ]
    },
    {
     "name": "stderr",
     "output_type": "stream",
     "text": [
      " 79%|██████████████████████████████████████████████████████▍              | 1054/1337 [10:05<03:26,  1.37it/s]"
     ]
    },
    {
     "name": "stdout",
     "output_type": "stream",
     "text": [
      "Journal of peace research has homepage_url and type journal\n"
     ]
    },
    {
     "name": "stderr",
     "output_type": "stream",
     "text": [
      " 79%|██████████████████████████████████████████████████████▌              | 1057/1337 [10:07<02:40,  1.75it/s]"
     ]
    },
    {
     "name": "stdout",
     "output_type": "stream",
     "text": [
      "Space policy has homepage_url and type journal\n"
     ]
    },
    {
     "name": "stderr",
     "output_type": "stream",
     "text": [
      " 79%|██████████████████████████████████████████████████████▌              | 1058/1337 [10:08<03:44,  1.24it/s]"
     ]
    },
    {
     "name": "stdout",
     "output_type": "stream",
     "text": [
      "Sports has homepage_url and type journal\n"
     ]
    },
    {
     "name": "stderr",
     "output_type": "stream",
     "text": [
      " 79%|██████████████████████████████████████████████████████▋              | 1060/1337 [10:09<03:08,  1.47it/s]"
     ]
    },
    {
     "name": "stdout",
     "output_type": "stream",
     "text": [
      "Journal for peace and nuclear disarmament has homepage_url and type journal\n"
     ]
    },
    {
     "name": "stderr",
     "output_type": "stream",
     "text": [
      " 79%|██████████████████████████████████████████████████████▊              | 1061/1337 [10:10<02:53,  1.59it/s]"
     ]
    },
    {
     "name": "stdout",
     "output_type": "stream",
     "text": [
      "Ìstorìâ nauki ì tehnìki has homepage_url and type journal\n"
     ]
    },
    {
     "name": "stderr",
     "output_type": "stream",
     "text": [
      " 80%|██████████████████████████████████████████████████████▊              | 1063/1337 [10:11<02:36,  1.75it/s]"
     ]
    },
    {
     "name": "stdout",
     "output_type": "stream",
     "text": [
      "Astropolitics has homepage_url and type journal\n"
     ]
    },
    {
     "name": "stderr",
     "output_type": "stream",
     "text": [
      " 80%|██████████████████████████████████████████████████████▉              | 1064/1337 [10:11<02:29,  1.82it/s]"
     ]
    },
    {
     "name": "stdout",
     "output_type": "stream",
     "text": [
      "Journal of space safety engineering has homepage_url and type journal\n"
     ]
    },
    {
     "name": "stderr",
     "output_type": "stream",
     "text": [
      " 80%|███████████████████████████████████████████████████████              | 1067/1337 [10:13<02:10,  2.07it/s]"
     ]
    },
    {
     "name": "stdout",
     "output_type": "stream",
     "text": [
      "Historia i Polityka has homepage_url and type journal\n"
     ]
    },
    {
     "name": "stderr",
     "output_type": "stream",
     "text": [
      " 80%|███████████████████████████████████████████████████████▏             | 1069/1337 [10:15<03:32,  1.26it/s]"
     ]
    },
    {
     "name": "stdout",
     "output_type": "stream",
     "text": [
      "The Journal of American history has homepage_url and type journal\n"
     ]
    },
    {
     "name": "stderr",
     "output_type": "stream",
     "text": [
      " 80%|███████████████████████████████████████████████████████▎             | 1071/1337 [10:16<02:59,  1.48it/s]"
     ]
    },
    {
     "name": "stdout",
     "output_type": "stream",
     "text": [
      "Tikrit journal for political science/Mağallaẗ Tikrīt li-l-ʻulūm al-siyāsiyyaẗ has homepage_url and type journal\n"
     ]
    },
    {
     "name": "stderr",
     "output_type": "stream",
     "text": [
      " 80%|███████████████████████████████████████████████████████▌             | 1076/1337 [10:18<02:17,  1.90it/s]"
     ]
    },
    {
     "name": "stdout",
     "output_type": "stream",
     "text": [
      "Domes has homepage_url and type journal\n"
     ]
    },
    {
     "name": "stderr",
     "output_type": "stream",
     "text": [
      " 81%|███████████████████████████████████████████████████████▋             | 1079/1337 [10:20<02:07,  2.02it/s]"
     ]
    },
    {
     "name": "stdout",
     "output_type": "stream",
     "text": [
      "International journal of pattern recognition and artificial intelligence has homepage_url and type journal\n"
     ]
    },
    {
     "name": "stderr",
     "output_type": "stream",
     "text": [
      " 81%|███████████████████████████████████████████████████████▉             | 1083/1337 [10:22<02:29,  1.70it/s]"
     ]
    },
    {
     "name": "stdout",
     "output_type": "stream",
     "text": [
      "Journal of Slavic military studies/The Journal of Slavic military studies has homepage_url and type journal\n"
     ]
    },
    {
     "name": "stderr",
     "output_type": "stream",
     "text": [
      " 81%|███████████████████████████████████████████████████████▉             | 1084/1337 [10:23<02:17,  1.84it/s]"
     ]
    },
    {
     "name": "stdout",
     "output_type": "stream",
     "text": [
      "The Physics teacher/The physics teacher has homepage_url and type journal\n"
     ]
    },
    {
     "name": "stderr",
     "output_type": "stream",
     "text": [
      " 81%|███████████████████████████████████████████████████████▉             | 1085/1337 [10:23<02:17,  1.84it/s]"
     ]
    },
    {
     "name": "stdout",
     "output_type": "stream",
     "text": [
      "Health security has homepage_url and type journal\n"
     ]
    },
    {
     "name": "stderr",
     "output_type": "stream",
     "text": [
      " 81%|████████████████████████████████████████████████████████             | 1086/1337 [10:25<03:28,  1.20it/s]"
     ]
    },
    {
     "name": "stdout",
     "output_type": "stream",
     "text": [
      "Water resources research has homepage_url and type journal\n"
     ]
    },
    {
     "name": "stderr",
     "output_type": "stream",
     "text": [
      " 81%|████████████████████████████████████████████████████████             | 1087/1337 [10:25<03:02,  1.37it/s]"
     ]
    },
    {
     "name": "stdout",
     "output_type": "stream",
     "text": [
      "Vestnik MGIMO-universiteta has homepage_url and type journal\n"
     ]
    },
    {
     "name": "stderr",
     "output_type": "stream",
     "text": [
      " 81%|████████████████████████████████████████████████████████▏            | 1088/1337 [10:26<02:45,  1.50it/s]"
     ]
    },
    {
     "name": "stdout",
     "output_type": "stream",
     "text": [
      "Meždunarodnaâ analitika has homepage_url and type journal\n"
     ]
    },
    {
     "name": "stderr",
     "output_type": "stream",
     "text": [
      " 81%|████████████████████████████████████████████████████████▏            | 1089/1337 [10:26<02:35,  1.59it/s]"
     ]
    },
    {
     "name": "stdout",
     "output_type": "stream",
     "text": [
      "Security dialogue has homepage_url and type journal\n"
     ]
    },
    {
     "name": "stderr",
     "output_type": "stream",
     "text": [
      " 82%|████████████████████████████████████████████████████████▎            | 1090/1337 [10:27<02:25,  1.70it/s]"
     ]
    },
    {
     "name": "stdout",
     "output_type": "stream",
     "text": [
      "Herald of the Russian Academy of Sciences has homepage_url and type journal\n"
     ]
    },
    {
     "name": "stderr",
     "output_type": "stream",
     "text": [
      " 82%|████████████████████████████████████████████████████████▎            | 1091/1337 [10:27<02:16,  1.80it/s]"
     ]
    },
    {
     "name": "stdout",
     "output_type": "stream",
     "text": [
      "Intellektualʹnye sistemy v proizvodstve has homepage_url and type journal\n"
     ]
    },
    {
     "name": "stderr",
     "output_type": "stream",
     "text": [
      " 82%|████████████████████████████████████████████████████████▍            | 1093/1337 [10:29<02:59,  1.36it/s]"
     ]
    },
    {
     "name": "stdout",
     "output_type": "stream",
     "text": [
      "Scientific Bulletin has homepage_url and type journal\n"
     ]
    },
    {
     "name": "stderr",
     "output_type": "stream",
     "text": [
      " 82%|████████████████████████████████████████████████████████▌            | 1095/1337 [10:30<02:21,  1.71it/s]"
     ]
    },
    {
     "name": "stdout",
     "output_type": "stream",
     "text": [
      "Security and Defence Quarterly has homepage_url and type journal\n"
     ]
    },
    {
     "name": "stderr",
     "output_type": "stream",
     "text": [
      " 82%|████████████████████████████████████████████████████████▌            | 1096/1337 [10:30<02:11,  1.83it/s]"
     ]
    },
    {
     "name": "stdout",
     "output_type": "stream",
     "text": [
      "Defense and security analysis has homepage_url and type journal\n"
     ]
    },
    {
     "name": "stderr",
     "output_type": "stream",
     "text": [
      " 82%|████████████████████████████████████████████████████████▌            | 1097/1337 [10:31<02:05,  1.92it/s]"
     ]
    },
    {
     "name": "stdout",
     "output_type": "stream",
     "text": [
      "Daedalus has homepage_url and type journal\n"
     ]
    },
    {
     "name": "stderr",
     "output_type": "stream",
     "text": [
      " 82%|████████████████████████████████████████████████████████▋            | 1098/1337 [10:31<02:04,  1.93it/s]"
     ]
    },
    {
     "name": "stdout",
     "output_type": "stream",
     "text": [
      "Rossiâ i Amerika v XXI veke has homepage_url and type journal\n"
     ]
    },
    {
     "name": "stderr",
     "output_type": "stream",
     "text": [
      " 82%|████████████████████████████████████████████████████████▋            | 1099/1337 [10:32<02:01,  1.96it/s]"
     ]
    },
    {
     "name": "stdout",
     "output_type": "stream",
     "text": [
      "International journal of multicultural and multireligious understanding has homepage_url and type journal\n"
     ]
    },
    {
     "name": "stderr",
     "output_type": "stream",
     "text": [
      " 82%|████████████████████████████████████████████████████████▊            | 1100/1337 [10:32<01:56,  2.03it/s]"
     ]
    },
    {
     "name": "stdout",
     "output_type": "stream",
     "text": [
      "Politeja has homepage_url and type journal\n"
     ]
    },
    {
     "name": "stderr",
     "output_type": "stream",
     "text": [
      " 82%|████████████████████████████████████████████████████████▊            | 1101/1337 [10:33<01:51,  2.12it/s]"
     ]
    },
    {
     "name": "stdout",
     "output_type": "stream",
     "text": [
      "Journal of strategic studies/The Journal of strategic studies has homepage_url and type journal\n"
     ]
    },
    {
     "name": "stderr",
     "output_type": "stream",
     "text": [
      " 82%|████████████████████████████████████████████████████████▊            | 1102/1337 [10:34<03:17,  1.19it/s]"
     ]
    },
    {
     "name": "stdout",
     "output_type": "stream",
     "text": [
      "International journal has homepage_url and type journal\n"
     ]
    },
    {
     "name": "stderr",
     "output_type": "stream",
     "text": [
      " 83%|████████████████████████████████████████████████████████▉            | 1104/1337 [10:35<02:34,  1.51it/s]"
     ]
    },
    {
     "name": "stdout",
     "output_type": "stream",
     "text": [
      "Kosmìčna nauka ì tehnologìâ has homepage_url and type journal\n"
     ]
    },
    {
     "name": "stderr",
     "output_type": "stream",
     "text": [
      " 83%|█████████████████████████████████████████████████████████            | 1106/1337 [10:36<02:07,  1.82it/s]"
     ]
    },
    {
     "name": "stdout",
     "output_type": "stream",
     "text": [
      "Physics today has homepage_url and type journal\n"
     ]
    },
    {
     "name": "stderr",
     "output_type": "stream",
     "text": [
      " 83%|█████████████████████████████████████████████████████████▏           | 1107/1337 [10:37<01:59,  1.93it/s]"
     ]
    },
    {
     "name": "stdout",
     "output_type": "stream",
     "text": [
      "Australian journal of maritime and ocean affairs has homepage_url and type journal\n"
     ]
    },
    {
     "name": "stderr",
     "output_type": "stream",
     "text": [
      " 83%|█████████████████████████████████████████████████████████▎           | 1110/1337 [10:38<01:53,  2.00it/s]"
     ]
    },
    {
     "name": "stdout",
     "output_type": "stream",
     "text": [
      "Modern approaches in solid earth sciences has homepage_url and type book series\n"
     ]
    },
    {
     "name": "stderr",
     "output_type": "stream",
     "text": [
      " 83%|█████████████████████████████████████████████████████████▎           | 1111/1337 [10:39<01:52,  2.01it/s]"
     ]
    },
    {
     "name": "stdout",
     "output_type": "stream",
     "text": [
      "Revista historia autónoma has homepage_url and type journal\n"
     ]
    },
    {
     "name": "stderr",
     "output_type": "stream",
     "text": [
      " 83%|█████████████████████████████████████████████████████████▍           | 1112/1337 [10:39<01:48,  2.07it/s]"
     ]
    },
    {
     "name": "stdout",
     "output_type": "stream",
     "text": [
      "The international history review/International history review has homepage_url and type journal\n"
     ]
    },
    {
     "name": "stderr",
     "output_type": "stream",
     "text": [
      " 83%|█████████████████████████████████████████████████████████▍           | 1113/1337 [10:40<01:50,  2.02it/s]"
     ]
    },
    {
     "name": "stdout",
     "output_type": "stream",
     "text": [
      "Angelaki has homepage_url and type journal\n"
     ]
    },
    {
     "name": "stderr",
     "output_type": "stream",
     "text": [
      " 84%|█████████████████████████████████████████████████████████▋           | 1117/1337 [10:41<01:46,  2.06it/s]"
     ]
    },
    {
     "name": "stdout",
     "output_type": "stream",
     "text": [
      "Journal of Education on Social Science has homepage_url and type journal\n"
     ]
    },
    {
     "name": "stderr",
     "output_type": "stream",
     "text": [
      " 84%|█████████████████████████████████████████████████████████▋           | 1118/1337 [10:42<01:47,  2.03it/s]"
     ]
    },
    {
     "name": "stdout",
     "output_type": "stream",
     "text": [
      "Studia Historiae Scientiarum has homepage_url and type journal\n"
     ]
    },
    {
     "name": "stderr",
     "output_type": "stream",
     "text": [
      " 84%|█████████████████████████████████████████████████████████▊           | 1120/1337 [10:43<01:48,  1.99it/s]"
     ]
    },
    {
     "name": "stdout",
     "output_type": "stream",
     "text": [
      "Pacific focus/Pacific Focus has homepage_url and type journal\n"
     ]
    },
    {
     "name": "stderr",
     "output_type": "stream",
     "text": [
      " 84%|█████████████████████████████████████████████████████████▉           | 1123/1337 [10:44<01:45,  2.02it/s]"
     ]
    },
    {
     "name": "stdout",
     "output_type": "stream",
     "text": [
      "Scandinavian Journal of Military Studies has homepage_url and type journal\n"
     ]
    },
    {
     "name": "stderr",
     "output_type": "stream",
     "text": [
      " 85%|██████████████████████████████████████████████████████████▎          | 1131/1337 [10:54<06:48,  1.98s/it]"
     ]
    },
    {
     "name": "stdout",
     "output_type": "stream",
     "text": [
      "IEEE industrial electronics magazine has homepage_url and type journal\n"
     ]
    },
    {
     "name": "stderr",
     "output_type": "stream",
     "text": [
      " 85%|██████████████████████████████████████████████████████████▍          | 1132/1337 [10:55<06:32,  1.92s/it]"
     ]
    },
    {
     "name": "stdout",
     "output_type": "stream",
     "text": [
      "International Studies has homepage_url and type journal\n"
     ]
    },
    {
     "name": "stderr",
     "output_type": "stream",
     "text": [
      " 85%|██████████████████████████████████████████████████████████▌          | 1134/1337 [10:56<03:59,  1.18s/it]"
     ]
    },
    {
     "name": "stdout",
     "output_type": "stream",
     "text": [
      "Fiziko-himičeskaâ kinetika v gazovoj dinamike has homepage_url and type journal\n"
     ]
    },
    {
     "name": "stderr",
     "output_type": "stream",
     "text": [
      " 85%|██████████████████████████████████████████████████████████▌          | 1135/1337 [10:57<03:59,  1.18s/it]"
     ]
    },
    {
     "name": "stdout",
     "output_type": "stream",
     "text": [
      "Maritime Affairs/Maritime affairs has homepage_url and type journal\n"
     ]
    },
    {
     "name": "stderr",
     "output_type": "stream",
     "text": [
      " 85%|██████████████████████████████████████████████████████████▋          | 1136/1337 [10:59<04:07,  1.23s/it]"
     ]
    },
    {
     "name": "stdout",
     "output_type": "stream",
     "text": [
      "Istoriâ has homepage_url and type journal\n"
     ]
    },
    {
     "name": "stderr",
     "output_type": "stream",
     "text": [
      " 85%|██████████████████████████████████████████████████████████▊          | 1139/1337 [11:00<02:25,  1.36it/s]"
     ]
    },
    {
     "name": "stdout",
     "output_type": "stream",
     "text": [
      "Ante Portas has homepage_url and type journal\n"
     ]
    },
    {
     "name": "stderr",
     "output_type": "stream",
     "text": [
      " 85%|██████████████████████████████████████████████████████████▊          | 1140/1337 [11:01<02:07,  1.55it/s]"
     ]
    },
    {
     "name": "stdout",
     "output_type": "stream",
     "text": [
      "Dinamika global/Dinamika Global has homepage_url and type journal\n"
     ]
    },
    {
     "name": "stderr",
     "output_type": "stream",
     "text": [
      " 85%|██████████████████████████████████████████████████████████▉          | 1143/1337 [11:02<01:39,  1.95it/s]"
     ]
    },
    {
     "name": "stdout",
     "output_type": "stream",
     "text": [
      "Globalʹnaâ âdernaâ bezopasnostʹ has homepage_url and type journal\n"
     ]
    },
    {
     "name": "stderr",
     "output_type": "stream",
     "text": [
      " 86%|███████████████████████████████████████████████████████████▏         | 1147/1337 [11:04<01:30,  2.10it/s]"
     ]
    },
    {
     "name": "stdout",
     "output_type": "stream",
     "text": [
      "The Western historical quarterly has homepage_url and type journal\n"
     ]
    },
    {
     "name": "stderr",
     "output_type": "stream",
     "text": [
      " 86%|███████████████████████████████████████████████████████████▎         | 1149/1337 [11:06<02:14,  1.40it/s]"
     ]
    },
    {
     "name": "stdout",
     "output_type": "stream",
     "text": [
      "Journal of Contemporary Studies has homepage_url and type journal\n"
     ]
    },
    {
     "name": "stderr",
     "output_type": "stream",
     "text": [
      " 86%|███████████████████████████████████████████████████████████▍         | 1152/1337 [11:07<01:45,  1.76it/s]"
     ]
    },
    {
     "name": "stdout",
     "output_type": "stream",
     "text": [
      "National security journal has homepage_url and type journal\n"
     ]
    },
    {
     "name": "stderr",
     "output_type": "stream",
     "text": [
      " 86%|███████████████████████████████████████████████████████████▌         | 1154/1337 [11:08<01:30,  2.01it/s]"
     ]
    },
    {
     "name": "stdout",
     "output_type": "stream",
     "text": [
      "IEEE transactions on signal processing has homepage_url and type journal\n"
     ]
    },
    {
     "name": "stderr",
     "output_type": "stream",
     "text": [
      " 86%|███████████████████████████████████████████████████████████▌         | 1155/1337 [11:08<01:28,  2.05it/s]"
     ]
    },
    {
     "name": "stdout",
     "output_type": "stream",
     "text": [
      "Journal of lightwave technology has homepage_url and type journal\n"
     ]
    },
    {
     "name": "stderr",
     "output_type": "stream",
     "text": [
      " 86%|███████████████████████████████████████████████████████████▋         | 1156/1337 [11:09<01:25,  2.12it/s]"
     ]
    },
    {
     "name": "stdout",
     "output_type": "stream",
     "text": [
      "IET wireless sensor systems has homepage_url and type journal\n"
     ]
    },
    {
     "name": "stderr",
     "output_type": "stream",
     "text": [
      " 87%|███████████████████████████████████████████████████████████▋         | 1157/1337 [11:10<02:07,  1.41it/s]"
     ]
    },
    {
     "name": "stdout",
     "output_type": "stream",
     "text": [
      "Radio science has homepage_url and type journal\n"
     ]
    },
    {
     "name": "stderr",
     "output_type": "stream",
     "text": [
      " 87%|███████████████████████████████████████████████████████████▊         | 1158/1337 [11:11<01:52,  1.59it/s]"
     ]
    },
    {
     "name": "stdout",
     "output_type": "stream",
     "text": [
      "IEEE Open Journal of Antennas and Propagation has homepage_url and type journal\n"
     ]
    },
    {
     "name": "stderr",
     "output_type": "stream",
     "text": [
      " 87%|███████████████████████████████████████████████████████████▉         | 1162/1337 [11:12<01:26,  2.02it/s]"
     ]
    },
    {
     "name": "stdout",
     "output_type": "stream",
     "text": [
      "EURASIP Journal on wireless communications and networking has homepage_url and type journal\n"
     ]
    },
    {
     "name": "stderr",
     "output_type": "stream",
     "text": [
      " 87%|████████████████████████████████████████████████████████████         | 1165/1337 [11:14<01:28,  1.94it/s]"
     ]
    },
    {
     "name": "stdout",
     "output_type": "stream",
     "text": [
      "Entropy has homepage_url and type journal\n"
     ]
    },
    {
     "name": "stderr",
     "output_type": "stream",
     "text": [
      " 87%|████████████████████████████████████████████████████████████▎        | 1168/1337 [11:15<01:22,  2.05it/s]"
     ]
    },
    {
     "name": "stdout",
     "output_type": "stream",
     "text": [
      "IEEE sensors letters has homepage_url and type journal\n"
     ]
    },
    {
     "name": "stderr",
     "output_type": "stream",
     "text": [
      " 88%|████████████████████████████████████████████████████████████▌        | 1173/1337 [11:18<01:14,  2.19it/s]"
     ]
    },
    {
     "name": "stdout",
     "output_type": "stream",
     "text": [
      "High-confidence computing has homepage_url and type journal\n"
     ]
    },
    {
     "name": "stderr",
     "output_type": "stream",
     "text": [
      " 88%|████████████████████████████████████████████████████████████▊        | 1179/1337 [11:20<01:11,  2.20it/s]"
     ]
    },
    {
     "name": "stdout",
     "output_type": "stream",
     "text": [
      "IFIP advances in information and communication technology has homepage_url and type book series\n"
     ]
    },
    {
     "name": "stderr",
     "output_type": "stream",
     "text": [
      " 88%|█████████████████████████████████████████████████████████████        | 1182/1337 [11:23<01:41,  1.52it/s]"
     ]
    },
    {
     "name": "stdout",
     "output_type": "stream",
     "text": [
      "China Communications has homepage_url and type journal\n"
     ]
    },
    {
     "name": "stderr",
     "output_type": "stream",
     "text": [
      " 88%|█████████████████████████████████████████████████████████████        | 1183/1337 [11:24<02:12,  1.16it/s]"
     ]
    },
    {
     "name": "stdout",
     "output_type": "stream",
     "text": [
      "International journal of electronics has homepage_url and type journal\n"
     ]
    },
    {
     "name": "stderr",
     "output_type": "stream",
     "text": [
      " 89%|█████████████████████████████████████████████████████████████▎       | 1188/1337 [11:27<02:00,  1.24it/s]"
     ]
    },
    {
     "name": "stdout",
     "output_type": "stream",
     "text": [
      "World journal of engineering and technology has homepage_url and type journal\n"
     ]
    },
    {
     "name": "stderr",
     "output_type": "stream",
     "text": [
      " 89%|█████████████████████████████████████████████████████████████▌       | 1193/1337 [11:30<01:54,  1.26it/s]"
     ]
    },
    {
     "name": "stdout",
     "output_type": "stream",
     "text": [
      "Engineering reports has homepage_url and type journal\n"
     ]
    },
    {
     "name": "stderr",
     "output_type": "stream",
     "text": [
      " 90%|██████████████████████████████████████████████████████████████▏      | 1206/1337 [11:36<01:00,  2.15it/s]"
     ]
    },
    {
     "name": "stdout",
     "output_type": "stream",
     "text": [
      "The European physical journal plus has homepage_url and type journal\n"
     ]
    },
    {
     "name": "stderr",
     "output_type": "stream",
     "text": [
      " 90%|██████████████████████████████████████████████████████████████▎      | 1207/1337 [11:37<01:02,  2.08it/s]"
     ]
    },
    {
     "name": "stdout",
     "output_type": "stream",
     "text": [
      "Canadian journal of physics has homepage_url and type journal\n"
     ]
    },
    {
     "name": "stderr",
     "output_type": "stream",
     "text": [
      " 90%|██████████████████████████████████████████████████████████████▎      | 1208/1337 [11:38<01:03,  2.02it/s]"
     ]
    },
    {
     "name": "stdout",
     "output_type": "stream",
     "text": [
      "Journal of applied crystallography has homepage_url and type journal\n"
     ]
    },
    {
     "name": "stderr",
     "output_type": "stream",
     "text": [
      " 90%|██████████████████████████████████████████████████████████████▍      | 1209/1337 [11:38<01:03,  2.01it/s]"
     ]
    },
    {
     "name": "stdout",
     "output_type": "stream",
     "text": [
      "Journal of synchrotron radiation has homepage_url and type journal\n"
     ]
    },
    {
     "name": "stderr",
     "output_type": "stream",
     "text": [
      " 91%|██████████████████████████████████████████████████████████████▍      | 1210/1337 [11:40<01:40,  1.26it/s]"
     ]
    },
    {
     "name": "stdout",
     "output_type": "stream",
     "text": [
      "Science has homepage_url and type journal\n"
     ]
    },
    {
     "name": "stderr",
     "output_type": "stream",
     "text": [
      " 91%|██████████████████████████████████████████████████████████████▍      | 1211/1337 [11:40<01:30,  1.40it/s]"
     ]
    },
    {
     "name": "stdout",
     "output_type": "stream",
     "text": [
      "Applied radiation and isotopes has homepage_url and type journal\n"
     ]
    },
    {
     "name": "stderr",
     "output_type": "stream",
     "text": [
      " 91%|██████████████████████████████████████████████████████████████▌      | 1213/1337 [11:41<01:11,  1.73it/s]"
     ]
    },
    {
     "name": "stdout",
     "output_type": "stream",
     "text": [
      "Synchrotron radiation news has homepage_url and type journal\n"
     ]
    },
    {
     "name": "stderr",
     "output_type": "stream",
     "text": [
      " 91%|██████████████████████████████████████████████████████████████▋      | 1214/1337 [11:41<01:06,  1.85it/s]"
     ]
    },
    {
     "name": "stdout",
     "output_type": "stream",
     "text": [
      "IUCrJ has homepage_url and type journal\n"
     ]
    },
    {
     "name": "stderr",
     "output_type": "stream",
     "text": [
      " 91%|██████████████████████████████████████████████████████████████▊      | 1216/1337 [11:42<01:00,  2.01it/s]"
     ]
    },
    {
     "name": "stdout",
     "output_type": "stream",
     "text": [
      "Journal of the Physical Society of Japan has homepage_url and type journal\n"
     ]
    },
    {
     "name": "stderr",
     "output_type": "stream",
     "text": [
      " 91%|██████████████████████████████████████████████████████████████▉      | 1219/1337 [11:44<00:56,  2.10it/s]"
     ]
    },
    {
     "name": "stdout",
     "output_type": "stream",
     "text": [
      "Bulletin of the Russian Academy of Sciences. Physics has homepage_url and type journal\n"
     ]
    },
    {
     "name": "stderr",
     "output_type": "stream",
     "text": [
      " 91%|██████████████████████████████████████████████████████████████▉      | 1220/1337 [11:44<00:54,  2.15it/s]"
     ]
    },
    {
     "name": "stdout",
     "output_type": "stream",
     "text": [
      "Electronic structure has homepage_url and type journal\n"
     ]
    },
    {
     "name": "stderr",
     "output_type": "stream",
     "text": [
      " 91%|███████████████████████████████████████████████████████████████      | 1221/1337 [11:45<00:54,  2.13it/s]"
     ]
    },
    {
     "name": "stdout",
     "output_type": "stream",
     "text": [
      "Monthly Notices of the Royal Astronomical Society has homepage_url and type journal\n"
     ]
    },
    {
     "name": "stderr",
     "output_type": "stream",
     "text": [
      " 92%|███████████████████████████████████████████████████████████████▏     | 1224/1337 [11:46<00:56,  1.99it/s]"
     ]
    },
    {
     "name": "stdout",
     "output_type": "stream",
     "text": [
      "Zeitschrift für physikalische Chemie has homepage_url and type journal\n"
     ]
    },
    {
     "name": "stderr",
     "output_type": "stream",
     "text": [
      " 92%|███████████████████████████████████████████████████████████████▎     | 1226/1337 [11:47<00:55,  2.00it/s]"
     ]
    },
    {
     "name": "stdout",
     "output_type": "stream",
     "text": [
      "IEEE communications magazine has homepage_url and type journal\n"
     ]
    },
    {
     "name": "stderr",
     "output_type": "stream",
     "text": [
      " 92%|███████████████████████████████████████████████████████████████▎     | 1227/1337 [11:48<00:55,  1.99it/s]"
     ]
    },
    {
     "name": "stdout",
     "output_type": "stream",
     "text": [
      "IEEE communications letters has homepage_url and type journal\n"
     ]
    },
    {
     "name": "stderr",
     "output_type": "stream",
     "text": [
      " 92%|███████████████████████████████████████████████████████████████▎     | 1228/1337 [11:48<00:53,  2.03it/s]"
     ]
    },
    {
     "name": "stdout",
     "output_type": "stream",
     "text": [
      "IEEE journal of selected topics in quantum electronics has homepage_url and type journal\n"
     ]
    },
    {
     "name": "stderr",
     "output_type": "stream",
     "text": [
      " 92%|███████████████████████████████████████████████████████████████▍     | 1229/1337 [11:49<00:52,  2.07it/s]"
     ]
    },
    {
     "name": "stdout",
     "output_type": "stream",
     "text": [
      "IEEE geoscience and remote sensing magazine has homepage_url and type journal\n"
     ]
    },
    {
     "name": "stderr",
     "output_type": "stream",
     "text": [
      " 92%|███████████████████████████████████████████████████████████████▍     | 1230/1337 [11:50<01:09,  1.53it/s]"
     ]
    },
    {
     "name": "stdout",
     "output_type": "stream",
     "text": [
      "Optica has homepage_url and type journal\n"
     ]
    },
    {
     "name": "stderr",
     "output_type": "stream",
     "text": [
      " 92%|███████████████████████████████████████████████████████████████▌     | 1231/1337 [11:50<01:05,  1.63it/s]"
     ]
    },
    {
     "name": "stdout",
     "output_type": "stream",
     "text": [
      "IEEE transactions on cognitive communications and networking/IEEE Transactions on Cognitive Communications and Networking has homepage_url and type journal\n"
     ]
    },
    {
     "name": "stderr",
     "output_type": "stream",
     "text": [
      " 92%|███████████████████████████████████████████████████████████████▌     | 1232/1337 [11:51<01:01,  1.71it/s]"
     ]
    },
    {
     "name": "stdout",
     "output_type": "stream",
     "text": [
      "IEEE microwave magazine has homepage_url and type journal\n"
     ]
    },
    {
     "name": "stderr",
     "output_type": "stream",
     "text": [
      " 92%|███████████████████████████████████████████████████████████████▋     | 1235/1337 [11:52<00:50,  2.02it/s]"
     ]
    },
    {
     "name": "stdout",
     "output_type": "stream",
     "text": [
      "Transactions on emerging telecommunications technologies has homepage_url and type journal\n"
     ]
    },
    {
     "name": "stderr",
     "output_type": "stream",
     "text": [
      " 93%|███████████████████████████████████████████████████████████████▉     | 1239/1337 [11:54<00:47,  2.08it/s]"
     ]
    },
    {
     "name": "stdout",
     "output_type": "stream",
     "text": [
      "International journal of satellite communications and networking has homepage_url and type journal\n"
     ]
    },
    {
     "name": "stderr",
     "output_type": "stream",
     "text": [
      " 93%|████████████████████████████████████████████████████████████████     | 1241/1337 [11:56<01:16,  1.25it/s]"
     ]
    },
    {
     "name": "stdout",
     "output_type": "stream",
     "text": [
      "Sadhana/Sādhanā has homepage_url and type journal\n"
     ]
    },
    {
     "name": "stderr",
     "output_type": "stream",
     "text": [
      " 93%|████████████████████████████████████████████████████████████████     | 1242/1337 [11:57<01:32,  1.03it/s]"
     ]
    },
    {
     "name": "stdout",
     "output_type": "stream",
     "text": [
      "Bioprocess engineering has homepage_url and type journal\n"
     ]
    },
    {
     "name": "stderr",
     "output_type": "stream",
     "text": [
      " 93%|████████████████████████████████████████████████████████████████▏    | 1244/1337 [11:58<01:06,  1.41it/s]"
     ]
    },
    {
     "name": "stdout",
     "output_type": "stream",
     "text": [
      "Sučasnì ìnformacìjnì sistemi has homepage_url and type journal\n"
     ]
    },
    {
     "name": "stderr",
     "output_type": "stream",
     "text": [
      " 93%|████████████████████████████████████████████████████████████████▎    | 1245/1337 [11:59<01:00,  1.52it/s]"
     ]
    },
    {
     "name": "stdout",
     "output_type": "stream",
     "text": [
      "IT professional has homepage_url and type journal\n"
     ]
    },
    {
     "name": "stderr",
     "output_type": "stream",
     "text": [
      " 93%|████████████████████████████████████████████████████████████████▎    | 1246/1337 [11:59<00:56,  1.62it/s]"
     ]
    },
    {
     "name": "stdout",
     "output_type": "stream",
     "text": [
      "IET communications has homepage_url and type journal\n"
     ]
    },
    {
     "name": "stderr",
     "output_type": "stream",
     "text": [
      " 94%|████████████████████████████████████████████████████████████████▋    | 1254/1337 [12:03<00:42,  1.95it/s]"
     ]
    },
    {
     "name": "stdout",
     "output_type": "stream",
     "text": [
      "IEICE transactions on information and systems has homepage_url and type journal\n"
     ]
    },
    {
     "name": "stderr",
     "output_type": "stream",
     "text": [
      " 94%|████████████████████████████████████████████████████████████████▊    | 1257/1337 [12:05<00:38,  2.08it/s]"
     ]
    },
    {
     "name": "stdout",
     "output_type": "stream",
     "text": [
      "Seonjin gukbang yeongu has homepage_url and type journal\n"
     ]
    },
    {
     "name": "stderr",
     "output_type": "stream",
     "text": [
      " 94%|████████████████████████████████████████████████████████████████▉    | 1259/1337 [12:06<00:37,  2.09it/s]"
     ]
    },
    {
     "name": "stdout",
     "output_type": "stream",
     "text": [
      "International journal of numerical modelling has homepage_url and type journal\n"
     ]
    },
    {
     "name": "stderr",
     "output_type": "stream",
     "text": [
      " 94%|█████████████████████████████████████████████████████████████████▏   | 1263/1337 [12:08<00:39,  1.88it/s]"
     ]
    },
    {
     "name": "stdout",
     "output_type": "stream",
     "text": [
      "Journal of computer and communications has homepage_url and type journal\n"
     ]
    },
    {
     "name": "stderr",
     "output_type": "stream",
     "text": [
      " 95%|█████████████████████████████████████████████████████████████████▍   | 1269/1337 [12:11<00:35,  1.94it/s]"
     ]
    },
    {
     "name": "stdout",
     "output_type": "stream",
     "text": [
      "Vojnotehnički glasnik has homepage_url and type journal\n"
     ]
    },
    {
     "name": "stderr",
     "output_type": "stream",
     "text": [
      " 95%|█████████████████████████████████████████████████████████████████▋   | 1272/1337 [12:12<00:32,  2.03it/s]"
     ]
    },
    {
     "name": "stdout",
     "output_type": "stream",
     "text": [
      "Traitement du signal/TS. Traitement du signal has homepage_url and type journal\n"
     ]
    },
    {
     "name": "stderr",
     "output_type": "stream",
     "text": [
      " 96%|██████████████████████████████████████████████████████████████████▏  | 1283/1337 [12:17<00:25,  2.10it/s]"
     ]
    },
    {
     "name": "stdout",
     "output_type": "stream",
     "text": [
      "Inžiniring i tehnologii has homepage_url and type journal\n"
     ]
    },
    {
     "name": "stderr",
     "output_type": "stream",
     "text": [
      " 96%|██████████████████████████████████████████████████████████████████▎  | 1284/1337 [12:18<00:25,  2.04it/s]"
     ]
    },
    {
     "name": "stdout",
     "output_type": "stream",
     "text": [
      "Revista brasileira de aplicações de vácuo has homepage_url and type journal\n"
     ]
    },
    {
     "name": "stderr",
     "output_type": "stream",
     "text": [
      " 96%|██████████████████████████████████████████████████████████████████▍  | 1287/1337 [12:20<00:38,  1.28it/s]"
     ]
    },
    {
     "name": "stdout",
     "output_type": "stream",
     "text": [
      "European science has homepage_url and type journal\n"
     ]
    },
    {
     "name": "stderr",
     "output_type": "stream",
     "text": [
      " 97%|██████████████████████████████████████████████████████████████████▋  | 1293/1337 [12:23<00:22,  1.96it/s]"
     ]
    },
    {
     "name": "stdout",
     "output_type": "stream",
     "text": [
      "Sistemi obrobki ìnformacìï has homepage_url and type journal\n"
     ]
    },
    {
     "name": "stderr",
     "output_type": "stream",
     "text": [
      " 97%|██████████████████████████████████████████████████████████████████▊  | 1295/1337 [12:24<00:20,  2.04it/s]"
     ]
    },
    {
     "name": "stdout",
     "output_type": "stream",
     "text": [
      "European journal of applied physics has homepage_url and type journal\n"
     ]
    },
    {
     "name": "stderr",
     "output_type": "stream",
     "text": [
      " 97%|██████████████████████████████████████████████████████████████████▉  | 1297/1337 [12:25<00:20,  1.96it/s]"
     ]
    },
    {
     "name": "stdout",
     "output_type": "stream",
     "text": [
      "Springer proceedings in complexity has homepage_url and type book series\n"
     ]
    },
    {
     "name": "stderr",
     "output_type": "stream",
     "text": [
      " 97%|███████████████████████████████████████████████████████████████████▏ | 1303/1337 [12:28<00:17,  1.91it/s]"
     ]
    },
    {
     "name": "stdout",
     "output_type": "stream",
     "text": [
      "Materials research proceedings has homepage_url and type journal\n"
     ]
    },
    {
     "name": "stderr",
     "output_type": "stream",
     "text": [
      " 98%|███████████████████████████████████████████████████████████████████▎ | 1305/1337 [12:29<00:16,  1.99it/s]"
     ]
    },
    {
     "name": "stdout",
     "output_type": "stream",
     "text": [
      "Vestnik Donskogo gosudarstvennogo tehničeskogo universiteta has homepage_url and type journal\n"
     ]
    },
    {
     "name": "stderr",
     "output_type": "stream",
     "text": [
      " 98%|███████████████████████████████████████████████████████████████████▍ | 1307/1337 [12:31<00:20,  1.47it/s]"
     ]
    },
    {
     "name": "stdout",
     "output_type": "stream",
     "text": [
      "European journal of operational research has homepage_url and type journal\n"
     ]
    },
    {
     "name": "stderr",
     "output_type": "stream",
     "text": [
      " 98%|███████████████████████████████████████████████████████████████████▌ | 1308/1337 [12:32<00:23,  1.26it/s]"
     ]
    },
    {
     "name": "stdout",
     "output_type": "stream",
     "text": [
      "IEEE systems journal has homepage_url and type journal\n"
     ]
    },
    {
     "name": "stderr",
     "output_type": "stream",
     "text": [
      " 98%|███████████████████████████████████████████████████████████████████▌ | 1309/1337 [12:33<00:24,  1.12it/s]"
     ]
    },
    {
     "name": "stdout",
     "output_type": "stream",
     "text": [
      "Journal of military studies has homepage_url and type journal\n"
     ]
    },
    {
     "name": "stderr",
     "output_type": "stream",
     "text": [
      " 98%|███████████████████████████████████████████████████████████████████▌ | 1310/1337 [12:34<00:20,  1.29it/s]"
     ]
    },
    {
     "name": "stdout",
     "output_type": "stream",
     "text": [
      "Journal of the Operational Research Society has homepage_url and type journal\n"
     ]
    },
    {
     "name": "stderr",
     "output_type": "stream",
     "text": [
      " 98%|███████████████████████████████████████████████████████████████████▋ | 1312/1337 [12:35<00:15,  1.58it/s]"
     ]
    },
    {
     "name": "stdout",
     "output_type": "stream",
     "text": [
      "Statistical computation and simulation/Journal of statistical computation and simulation has homepage_url and type journal\n"
     ]
    },
    {
     "name": "stderr",
     "output_type": "stream",
     "text": [
      " 98%|███████████████████████████████████████████████████████████████████▊ | 1315/1337 [12:36<00:11,  1.88it/s]"
     ]
    },
    {
     "name": "stdout",
     "output_type": "stream",
     "text": [
      "ACM computing surveys has homepage_url and type journal\n"
     ]
    },
    {
     "name": "stderr",
     "output_type": "stream",
     "text": [
      " 98%|███████████████████████████████████████████████████████████████████▉ | 1316/1337 [12:37<00:10,  1.99it/s]"
     ]
    },
    {
     "name": "stdout",
     "output_type": "stream",
     "text": [
      "Journal on Baltic Security./Journal on Baltic security has homepage_url and type journal\n"
     ]
    },
    {
     "name": "stderr",
     "output_type": "stream",
     "text": [
      " 99%|████████████████████████████████████████████████████████████████████▏| 1322/1337 [12:40<00:06,  2.17it/s]"
     ]
    },
    {
     "name": "stdout",
     "output_type": "stream",
     "text": [
      "Alexandria Engineering Journal /Alexandria Engineering Journal has homepage_url and type journal\n"
     ]
    },
    {
     "name": "stderr",
     "output_type": "stream",
     "text": [
      " 99%|████████████████████████████████████████████████████████████████████▋| 1330/1337 [12:43<00:03,  2.01it/s]"
     ]
    },
    {
     "name": "stdout",
     "output_type": "stream",
     "text": [
      "Frontiers in space technologies has homepage_url and type journal\n"
     ]
    },
    {
     "name": "stderr",
     "output_type": "stream",
     "text": [
      "100%|████████████████████████████████████████████████████████████████████▋| 1331/1337 [12:44<00:02,  2.05it/s]"
     ]
    },
    {
     "name": "stdout",
     "output_type": "stream",
     "text": [
      "International journal of computational methods and experimental measurements has homepage_url and type journal\n"
     ]
    },
    {
     "name": "stderr",
     "output_type": "stream",
     "text": [
      "100%|████████████████████████████████████████████████████████████████████▉| 1335/1337 [12:46<00:00,  2.10it/s]"
     ]
    },
    {
     "name": "stdout",
     "output_type": "stream",
     "text": [
      "Bulletin of \"Carol I\" National Defense University has homepage_url and type journal\n"
     ]
    },
    {
     "name": "stderr",
     "output_type": "stream",
     "text": [
      "100%|████████████████████████████████████████████████████████████████████▉| 1336/1337 [12:47<00:00,  1.28it/s]"
     ]
    },
    {
     "name": "stdout",
     "output_type": "stream",
     "text": [
      "Aviation has homepage_url and type journal\n"
     ]
    },
    {
     "name": "stderr",
     "output_type": "stream",
     "text": [
      "100%|█████████████████████████████████████████████████████████████████████| 1337/1337 [12:48<00:00,  1.74it/s]"
     ]
    },
    {
     "name": "stdout",
     "output_type": "stream",
     "text": [
      "Sistemi ozbroênnâ ì vìjsʹkova tehnìka has homepage_url and type journal\n"
     ]
    },
    {
     "name": "stderr",
     "output_type": "stream",
     "text": [
      "\n"
     ]
    }
   ],
   "source": [
    "source_page_dict = get_display_page_dict(sources_list)"
   ]
  },
  {
   "cell_type": "code",
   "execution_count": 132,
   "id": "9be91fd9-321d-4e65-b31b-54c84c9f8990",
   "metadata": {},
   "outputs": [
    {
     "data": {
      "text/plain": [
       "1141"
      ]
     },
     "execution_count": 132,
     "metadata": {},
     "output_type": "execute_result"
    }
   ],
   "source": [
    "len(source_page_dict)"
   ]
  },
  {
   "cell_type": "code",
   "execution_count": 133,
   "id": "aed83f30-a8d5-4772-934a-bd2d59417a4d",
   "metadata": {},
   "outputs": [],
   "source": [
    "import pickle\n",
    "\n",
    "with open(\"updatesource_page_dict.pkl\", \"wb\") as f:\n",
    "    pickle.dump(source_page_dict, f)"
   ]
  },
  {
   "cell_type": "code",
   "execution_count": 134,
   "id": "fb0fcc89-8a5a-4dd0-b73e-d12acacd13e3",
   "metadata": {},
   "outputs": [],
   "source": [
    "with open(\"updatesource_page_dict.pkl\", \"rb\") as f:\n",
    "    source_dict = pickle.load(f)"
   ]
  },
  {
   "cell_type": "code",
   "execution_count": 135,
   "id": "3ae801d1-0fee-4b6f-b8f5-affa64d89264",
   "metadata": {},
   "outputs": [],
   "source": [
    "def get_journals_cluster_sort(dc:pd.DataFrame, cl:int):\n",
    "    \"\"\"\n",
    "    restricts the dataframe dc to cluster value cl\n",
    "    and returns the results grouped by source (where\n",
    "    source_type == 'journal') sorted\n",
    "    by the some of probablity descending\n",
    "    \"\"\"\n",
    "    dg = dc[dc['paper_cluster'] == cl].copy()\n",
    "    print(cl)\n",
    "    dv = dg[dg['source_type'] == 'journal'].groupby(['source'])['paper_cluster_score'].sum().to_frame()\n",
    "    dv.sort_values('paper_cluster_score', ascending=False, inplace=True)\n",
    "    dv['journal'] = dv.index\n",
    "    dv['hompage_url'] = dv['journal'].map(source_dict)\n",
    "    kw = centroids[centroids.cluster == cl]['keywords'].iloc[0]\n",
    "    return dv, kw"
   ]
  },
  {
   "cell_type": "code",
   "execution_count": 136,
   "id": "124e24f5-43a4-4044-b0fe-ba1e1fab4044",
   "metadata": {},
   "outputs": [
    {
     "name": "stdout",
     "output_type": "stream",
     "text": [
      "4\n"
     ]
    },
    {
     "data": {
      "text/html": [
       "<div>\n",
       "<style scoped>\n",
       "    .dataframe tbody tr th:only-of-type {\n",
       "        vertical-align: middle;\n",
       "    }\n",
       "\n",
       "    .dataframe tbody tr th {\n",
       "        vertical-align: top;\n",
       "    }\n",
       "\n",
       "    .dataframe thead th {\n",
       "        text-align: right;\n",
       "    }\n",
       "</style>\n",
       "<table border=\"1\" class=\"dataframe\">\n",
       "  <thead>\n",
       "    <tr style=\"text-align: right;\">\n",
       "      <th></th>\n",
       "      <th>paper_cluster_score</th>\n",
       "      <th>journal</th>\n",
       "      <th>hompage_url</th>\n",
       "    </tr>\n",
       "    <tr>\n",
       "      <th>source</th>\n",
       "      <th></th>\n",
       "      <th></th>\n",
       "      <th></th>\n",
       "    </tr>\n",
       "  </thead>\n",
       "  <tbody>\n",
       "    <tr>\n",
       "      <th>JASA express letters</th>\n",
       "      <td>11.524176</td>\n",
       "      <td>JASA express letters</td>\n",
       "      <td>None</td>\n",
       "    </tr>\n",
       "    <tr>\n",
       "      <th>The Journal of the Acoustical Society of America/The journal of the Acoustical Society of America</th>\n",
       "      <td>10.562588</td>\n",
       "      <td>The Journal of the Acoustical Society of Ame...</td>\n",
       "      <td>http://asadl.org/jasa</td>\n",
       "    </tr>\n",
       "    <tr>\n",
       "      <th>IEEE journal of oceanic engineering</th>\n",
       "      <td>10.407208</td>\n",
       "      <td>IEEE journal of oceanic engineering</td>\n",
       "      <td>http://ieeexplore.ieee.org/servlet/opac?punumb...</td>\n",
       "    </tr>\n",
       "    <tr>\n",
       "      <th>Mathematical problems in engineering</th>\n",
       "      <td>9.0</td>\n",
       "      <td>Mathematical problems in engineering</td>\n",
       "      <td>https://www.hindawi.com/journals/mpe/</td>\n",
       "    </tr>\n",
       "    <tr>\n",
       "      <th>Remote sensing</th>\n",
       "      <td>6.0</td>\n",
       "      <td>Remote sensing</td>\n",
       "      <td>https://www.journals.elsevier.com/remote-sensi...</td>\n",
       "    </tr>\n",
       "  </tbody>\n",
       "</table>\n",
       "</div>"
      ],
      "text/plain": [
       "                                                   paper_cluster_score  \\\n",
       "source                                                                   \n",
       "JASA express letters                                         11.524176   \n",
       "The Journal of the Acoustical Society of Amer...           10.562588   \n",
       "IEEE journal of oceanic engineering                          10.407208   \n",
       "Mathematical problems in engineering                               9.0   \n",
       "Remote sensing                                                     6.0   \n",
       "\n",
       "                                                                                              journal  \\\n",
       "source                                                                                                  \n",
       "JASA express letters                                                             JASA express letters   \n",
       "The Journal of the Acoustical Society of Amer...  The Journal of the Acoustical Society of Ame...   \n",
       "IEEE journal of oceanic engineering                               IEEE journal of oceanic engineering   \n",
       "Mathematical problems in engineering                             Mathematical problems in engineering   \n",
       "Remote sensing                                                                         Remote sensing   \n",
       "\n",
       "                                                                                          hompage_url  \n",
       "source                                                                                                 \n",
       "JASA express letters                                                                             None  \n",
       "The Journal of the Acoustical Society of Amer...                              http://asadl.org/jasa  \n",
       "IEEE journal of oceanic engineering                 http://ieeexplore.ieee.org/servlet/opac?punumb...  \n",
       "Mathematical problems in engineering                            https://www.hindawi.com/journals/mpe/  \n",
       "Remote sensing                                      https://www.journals.elsevier.com/remote-sensi...  "
      ]
     },
     "execution_count": 136,
     "metadata": {},
     "output_type": "execute_result"
    }
   ],
   "source": [
    "dv, kw = get_journals_cluster_sort(dftriple, 4)\n",
    "dv.head()"
   ]
  },
  {
   "cell_type": "code",
   "execution_count": 137,
   "id": "ab59743d-ba29-4691-815b-95248cd98dbf",
   "metadata": {},
   "outputs": [],
   "source": [
    "def get_conferences_cluster_sort(dc:pd.DataFrame, cl:int):\n",
    "    \"\"\"\n",
    "    restricts the dataframe dc to cluster value cl\n",
    "    and returns the results grouped by source (where\n",
    "    source_type == 'journal') sorted\n",
    "    by the some of probablity descending\n",
    "    \"\"\"\n",
    "    dg = dc[dc['paper_cluster'] == cl].copy()\n",
    "    print(cl)\n",
    "    dv = dg[dg['source_type'] == 'conference'].groupby(['source'])['paper_cluster_score'].sum().to_frame()\n",
    "    dv.sort_values('paper_cluster_score', ascending=False, inplace=True)\n",
    "    dv['conference'] = dv.index\n",
    "    dv['homepage_url'] = dv['conference'].map(source_dict)\n",
    "    kw = centroids[centroids.cluster == cl]['keywords'].iloc[0]\n",
    "    return dv, kw"
   ]
  },
  {
   "cell_type": "code",
   "execution_count": 138,
   "id": "fa6adcd9-222e-4c17-8c0f-c970ee2b511b",
   "metadata": {},
   "outputs": [
    {
     "name": "stdout",
     "output_type": "stream",
     "text": [
      "4\n"
     ]
    },
    {
     "data": {
      "text/html": [
       "<div>\n",
       "<style scoped>\n",
       "    .dataframe tbody tr th:only-of-type {\n",
       "        vertical-align: middle;\n",
       "    }\n",
       "\n",
       "    .dataframe tbody tr th {\n",
       "        vertical-align: top;\n",
       "    }\n",
       "\n",
       "    .dataframe thead th {\n",
       "        text-align: right;\n",
       "    }\n",
       "</style>\n",
       "<table border=\"1\" class=\"dataframe\">\n",
       "  <thead>\n",
       "    <tr style=\"text-align: right;\">\n",
       "      <th></th>\n",
       "      <th>paper_cluster_score</th>\n",
       "      <th>conference</th>\n",
       "      <th>homepage_url</th>\n",
       "    </tr>\n",
       "    <tr>\n",
       "      <th>source</th>\n",
       "      <th></th>\n",
       "      <th></th>\n",
       "      <th></th>\n",
       "    </tr>\n",
       "  </thead>\n",
       "  <tbody>\n",
       "    <tr>\n",
       "      <th>OCEANS 2022, Hampton Roads</th>\n",
       "      <td>7.0</td>\n",
       "      <td>OCEANS 2022, Hampton Roads</td>\n",
       "      <td>NaN</td>\n",
       "    </tr>\n",
       "  </tbody>\n",
       "</table>\n",
       "</div>"
      ],
      "text/plain": [
       "                           paper_cluster_score                  conference  \\\n",
       "source                                                                       \n",
       "OCEANS 2022, Hampton Roads                 7.0  OCEANS 2022, Hampton Roads   \n",
       "\n",
       "                           homepage_url  \n",
       "source                                   \n",
       "OCEANS 2022, Hampton Roads          NaN  "
      ]
     },
     "execution_count": 138,
     "metadata": {},
     "output_type": "execute_result"
    }
   ],
   "source": [
    "dv, kw = get_conferences_cluster_sort(dftriple, 4)\n",
    "dv.head()"
   ]
  },
  {
   "cell_type": "code",
   "execution_count": 140,
   "id": "6dee6396-9533-4550-930a-8234db383db0",
   "metadata": {},
   "outputs": [
    {
     "data": {
      "text/plain": [
       "False"
      ]
     },
     "execution_count": 140,
     "metadata": {},
     "output_type": "execute_result"
    }
   ],
   "source": [
    "\"IOP conference series\" in source_dict"
   ]
  },
  {
   "cell_type": "code",
   "execution_count": 141,
   "id": "7bf82b69-8320-43cb-a46e-44c0a713f01b",
   "metadata": {},
   "outputs": [
    {
     "data": {
      "text/plain": [
       "1141"
      ]
     },
     "execution_count": 141,
     "metadata": {},
     "output_type": "execute_result"
    }
   ],
   "source": [
    "len(source_dict)"
   ]
  },
  {
   "cell_type": "code",
   "execution_count": 142,
   "id": "bd1c00ce-f920-4b97-89fd-fdbc52e9350b",
   "metadata": {},
   "outputs": [
    {
     "data": {
      "text/plain": [
       "(list, 3074)"
      ]
     },
     "execution_count": 142,
     "metadata": {},
     "output_type": "execute_result"
    }
   ],
   "source": [
    "affils_list = dftriple['display_name'].unique().tolist()\n",
    "type(affils_list), len(affils_list)"
   ]
  },
  {
   "cell_type": "code",
   "execution_count": 143,
   "id": "ea5f34a2-02c4-4acf-822b-f5d7d754b1ec",
   "metadata": {},
   "outputs": [
    {
     "data": {
      "text/plain": [
       "'University of Science and Technology Beijing'"
      ]
     },
     "execution_count": 143,
     "metadata": {},
     "output_type": "execute_result"
    }
   ],
   "source": [
    "affils_list[0]"
   ]
  },
  {
   "cell_type": "code",
   "execution_count": 147,
   "id": "48960780-f173-4399-8451-90e45f3093e2",
   "metadata": {},
   "outputs": [],
   "source": [
    " affil_json = Institutions().search_filter(display_name = affils_list[0]).get()"
   ]
  },
  {
   "cell_type": "code",
   "execution_count": 149,
   "id": "8b43a961-4470-4d30-aef1-787fd5c6d5ae",
   "metadata": {},
   "outputs": [],
   "source": [
    "#affil_json"
   ]
  },
  {
   "cell_type": "code",
   "execution_count": 150,
   "id": "5b273c5a-8ac5-466a-9374-8e599495ef8b",
   "metadata": {},
   "outputs": [
    {
     "name": "stderr",
     "output_type": "stream",
     "text": [
      "100%|█████████████████████████████████████████████████████████████████████| 3074/3074 [26:29<00:00,  1.93it/s]\n"
     ]
    }
   ],
   "source": [
    "affils_list = dftriple['display_name'].unique().tolist()\n",
    "type(affils_list), len(affils_list)\n",
    "\n",
    "affil_json = Institutions().search_filter(display_name = affils_list[1]).get()\n",
    "\n",
    "def get_affil_json(s:str):\n",
    "    \"\"\"\n",
    "    s is an openalex Sources display_name\n",
    "    return that Sources object\n",
    "    \"\"\"\n",
    "    affil_json = Institutions().search_filter(display_name = s).get()\n",
    "    #a = source_json[0]['type']\n",
    "    if \"geo\" in affil_json[0]:\n",
    "       # print(f\"{s} has homepage_url and type {source_json[0]['type']}\")\n",
    "        return affil_json[0][\"geo\"][\"latitude\"], affil_json[0][\"geo\"][\"longitude\"]\n",
    "    else:\n",
    "        return None, None\n",
    "    \n",
    "def get_display_geo_dict(sl:list):\n",
    "    \"\"\"\n",
    "    sl is a list of Institution display_name values\n",
    "    returns the dictionary mapping\n",
    "    display_names with (latitude, longitude) values.\"\"\"\n",
    "    mapping_dict = dict()\n",
    "    for s in tqdm(sl):\n",
    "        try:\n",
    "            mapping_dict[s] = get_affil_json(s)\n",
    "        except:\n",
    "            pass\n",
    "    return mapping_dict\n",
    "\n",
    "affil_geo_dict = get_display_geo_dict(affils_list)\n",
    "\n",
    "\n",
    "import pickle\n",
    "\n",
    "with open(\"updateaffil_geo_dict.pkl\", \"wb\") as f:\n",
    "    pickle.dump(affil_geo_dict, f)"
   ]
  },
  {
   "cell_type": "code",
   "execution_count": 151,
   "id": "6103a0e9-4e06-4f59-88f2-ae09ada4f70c",
   "metadata": {},
   "outputs": [
    {
     "data": {
      "text/plain": [
       "2957"
      ]
     },
     "execution_count": 151,
     "metadata": {},
     "output_type": "execute_result"
    }
   ],
   "source": [
    "len(affil_geo_dict)"
   ]
  },
  {
   "cell_type": "code",
   "execution_count": 154,
   "id": "a7c2bea1-1b28-47fa-a13e-14241607dea8",
   "metadata": {},
   "outputs": [
    {
     "data": {
      "text/plain": [
       "Index(['id', 'display_name', 'ror', 'country_code', 'type', 'lineage',\n",
       "       'paper_id', 'paper_raw_affiliation_strings', 'paper_author_position',\n",
       "       'paper_doi', 'paper_title', 'paper_abstract', 'paper_publication_date',\n",
       "       'paper_publication_year', 'paper_grants', 'paper_locations',\n",
       "       'paper_is_corrresponding', 'paper_x', 'paper_y', 'paper_cluster',\n",
       "       'paper_cluster_score', 'paper_author_id', 'paper_author_display_name',\n",
       "       'paper_author_orcid', 'source', 'source_type', 'funder_list'],\n",
       "      dtype='object')"
      ]
     },
     "execution_count": 154,
     "metadata": {},
     "output_type": "execute_result"
    }
   ],
   "source": [
    "dftriple.columns"
   ]
  },
  {
   "cell_type": "code",
   "execution_count": 155,
   "id": "05db8876-469f-47e2-9f42-0d9f1a8555c7",
   "metadata": {},
   "outputs": [
    {
     "data": {
      "text/html": [
       "<div>\n",
       "<style scoped>\n",
       "    .dataframe tbody tr th:only-of-type {\n",
       "        vertical-align: middle;\n",
       "    }\n",
       "\n",
       "    .dataframe tbody tr th {\n",
       "        vertical-align: top;\n",
       "    }\n",
       "\n",
       "    .dataframe thead th {\n",
       "        text-align: right;\n",
       "    }\n",
       "</style>\n",
       "<table border=\"1\" class=\"dataframe\">\n",
       "  <thead>\n",
       "    <tr style=\"text-align: right;\">\n",
       "      <th></th>\n",
       "      <th>paper_title</th>\n",
       "      <th>paper_abstract</th>\n",
       "    </tr>\n",
       "  </thead>\n",
       "  <tbody>\n",
       "    <tr>\n",
       "      <th>0</th>\n",
       "      <td>Adaptive Neural Network Control of a Robotic M...</td>\n",
       "      <td>The control problem of an uncertain n -degrees...</td>\n",
       "    </tr>\n",
       "    <tr>\n",
       "      <th>1</th>\n",
       "      <td>Adaptive Neural Network Control of a Robotic M...</td>\n",
       "      <td>The control problem of an uncertain n -degrees...</td>\n",
       "    </tr>\n",
       "    <tr>\n",
       "      <th>2</th>\n",
       "      <td>Adaptive Neural Network Control of a Robotic M...</td>\n",
       "      <td>The control problem of an uncertain n -degrees...</td>\n",
       "    </tr>\n",
       "    <tr>\n",
       "      <th>3</th>\n",
       "      <td>Neural Network Control of a Flexible Robotic M...</td>\n",
       "      <td>Adaptive neural networks (NNs) are employed fo...</td>\n",
       "    </tr>\n",
       "    <tr>\n",
       "      <th>4</th>\n",
       "      <td>Neural Network Control of a Flexible Robotic M...</td>\n",
       "      <td>Adaptive neural networks (NNs) are employed fo...</td>\n",
       "    </tr>\n",
       "  </tbody>\n",
       "</table>\n",
       "</div>"
      ],
      "text/plain": [
       "                                         paper_title  \\\n",
       "0  Adaptive Neural Network Control of a Robotic M...   \n",
       "1  Adaptive Neural Network Control of a Robotic M...   \n",
       "2  Adaptive Neural Network Control of a Robotic M...   \n",
       "3  Neural Network Control of a Flexible Robotic M...   \n",
       "4  Neural Network Control of a Flexible Robotic M...   \n",
       "\n",
       "                                      paper_abstract  \n",
       "0  The control problem of an uncertain n -degrees...  \n",
       "1  The control problem of an uncertain n -degrees...  \n",
       "2  The control problem of an uncertain n -degrees...  \n",
       "3  Adaptive neural networks (NNs) are employed fo...  \n",
       "4  Adaptive neural networks (NNs) are employed fo...  "
      ]
     },
     "execution_count": 155,
     "metadata": {},
     "output_type": "execute_result"
    }
   ],
   "source": [
    "dftriple[['paper_title','paper_abstract']].head()"
   ]
  },
  {
   "cell_type": "code",
   "execution_count": 156,
   "id": "eb79cfb7-a3ac-49a7-b16c-492eed2f64d1",
   "metadata": {},
   "outputs": [
    {
     "data": {
      "text/plain": [
       "Index(['x', 'y', 'id', 'title', 'doi', 'cluster', 'probability',\n",
       "       'publication_date', 'grants', 'locations', 'keywords', 'top_concepts',\n",
       "       'affil_list', 'wrapped_affil_list', 'author_list',\n",
       "       'wrapped_author_list', 'wrapped_keywords', 'source', 'source_type',\n",
       "       'funder_list', 'wrapped_funder_list'],\n",
       "      dtype='object')"
      ]
     },
     "execution_count": 156,
     "metadata": {},
     "output_type": "execute_result"
    }
   ],
   "source": [
    "dfinfo.columns"
   ]
  },
  {
   "cell_type": "code",
   "execution_count": 157,
   "id": "1e6b6caa-a310-407b-81a0-7e471456159b",
   "metadata": {},
   "outputs": [],
   "source": [
    "#affil_geo_dict"
   ]
  },
  {
   "cell_type": "markdown",
   "id": "8b8b3efe-f84f-43d1-bece-043bb7aeee51",
   "metadata": {},
   "source": [
    "need to add the abstract to dfinfo"
   ]
  },
  {
   "cell_type": "code",
   "execution_count": 158,
   "id": "58c9b5ca-740d-42d0-8095-e59575e6d54b",
   "metadata": {},
   "outputs": [
    {
     "data": {
      "text/html": [
       "<div>\n",
       "<style scoped>\n",
       "    .dataframe tbody tr th:only-of-type {\n",
       "        vertical-align: middle;\n",
       "    }\n",
       "\n",
       "    .dataframe tbody tr th {\n",
       "        vertical-align: top;\n",
       "    }\n",
       "\n",
       "    .dataframe thead th {\n",
       "        text-align: right;\n",
       "    }\n",
       "</style>\n",
       "<table border=\"1\" class=\"dataframe\">\n",
       "  <thead>\n",
       "    <tr style=\"text-align: right;\">\n",
       "      <th></th>\n",
       "      <th>paper_title</th>\n",
       "      <th>paper_abstract</th>\n",
       "    </tr>\n",
       "  </thead>\n",
       "  <tbody>\n",
       "    <tr>\n",
       "      <th>0</th>\n",
       "      <td>Adaptive Neural Network Control of a Robotic M...</td>\n",
       "      <td>The control problem of an uncertain n -degrees...</td>\n",
       "    </tr>\n",
       "    <tr>\n",
       "      <th>1</th>\n",
       "      <td>Adaptive Neural Network Control of a Robotic M...</td>\n",
       "      <td>The control problem of an uncertain n -degrees...</td>\n",
       "    </tr>\n",
       "    <tr>\n",
       "      <th>2</th>\n",
       "      <td>Adaptive Neural Network Control of a Robotic M...</td>\n",
       "      <td>The control problem of an uncertain n -degrees...</td>\n",
       "    </tr>\n",
       "    <tr>\n",
       "      <th>3</th>\n",
       "      <td>Neural Network Control of a Flexible Robotic M...</td>\n",
       "      <td>Adaptive neural networks (NNs) are employed fo...</td>\n",
       "    </tr>\n",
       "    <tr>\n",
       "      <th>4</th>\n",
       "      <td>Neural Network Control of a Flexible Robotic M...</td>\n",
       "      <td>Adaptive neural networks (NNs) are employed fo...</td>\n",
       "    </tr>\n",
       "  </tbody>\n",
       "</table>\n",
       "</div>"
      ],
      "text/plain": [
       "                                         paper_title  \\\n",
       "0  Adaptive Neural Network Control of a Robotic M...   \n",
       "1  Adaptive Neural Network Control of a Robotic M...   \n",
       "2  Adaptive Neural Network Control of a Robotic M...   \n",
       "3  Neural Network Control of a Flexible Robotic M...   \n",
       "4  Neural Network Control of a Flexible Robotic M...   \n",
       "\n",
       "                                      paper_abstract  \n",
       "0  The control problem of an uncertain n -degrees...  \n",
       "1  The control problem of an uncertain n -degrees...  \n",
       "2  The control problem of an uncertain n -degrees...  \n",
       "3  Adaptive neural networks (NNs) are employed fo...  \n",
       "4  Adaptive neural networks (NNs) are employed fo...  "
      ]
     },
     "execution_count": 158,
     "metadata": {},
     "output_type": "execute_result"
    }
   ],
   "source": [
    "dftriple[['paper_title','paper_abstract']].head()"
   ]
  },
  {
   "cell_type": "code",
   "execution_count": 161,
   "id": "87cba1e8-c1bc-4a5e-b724-5d9931c6db7a",
   "metadata": {},
   "outputs": [],
   "source": [
    "dfinfo['abstract'] = dfinfo['title'].map(dftriple.set_index('paper_title')['paper_abstract'].to_dict())"
   ]
  },
  {
   "cell_type": "code",
   "execution_count": 162,
   "id": "58481fd9-2a98-4e81-8bbb-b4c4763476d9",
   "metadata": {},
   "outputs": [
    {
     "data": {
      "text/html": [
       "<div>\n",
       "<style scoped>\n",
       "    .dataframe tbody tr th:only-of-type {\n",
       "        vertical-align: middle;\n",
       "    }\n",
       "\n",
       "    .dataframe tbody tr th {\n",
       "        vertical-align: top;\n",
       "    }\n",
       "\n",
       "    .dataframe thead th {\n",
       "        text-align: right;\n",
       "    }\n",
       "</style>\n",
       "<table border=\"1\" class=\"dataframe\">\n",
       "  <thead>\n",
       "    <tr style=\"text-align: right;\">\n",
       "      <th></th>\n",
       "      <th>title</th>\n",
       "      <th>abstract</th>\n",
       "    </tr>\n",
       "    <tr>\n",
       "      <th>id</th>\n",
       "      <th></th>\n",
       "      <th></th>\n",
       "    </tr>\n",
       "  </thead>\n",
       "  <tbody>\n",
       "    <tr>\n",
       "      <th>https://openalex.org/W1517236425</th>\n",
       "      <td>Neural Network Control Of Robot Manipulators A...</td>\n",
       "      <td>NaN</td>\n",
       "    </tr>\n",
       "    <tr>\n",
       "      <th>https://openalex.org/W2740675802</th>\n",
       "      <td>Adaptive Neural Network Control of a Robotic M...</td>\n",
       "      <td>The control problem of an uncertain n -degrees...</td>\n",
       "    </tr>\n",
       "    <tr>\n",
       "      <th>https://openalex.org/W2418767125</th>\n",
       "      <td>Neural Network Control of a Flexible Robotic M...</td>\n",
       "      <td>Adaptive neural networks (NNs) are employed fo...</td>\n",
       "    </tr>\n",
       "    <tr>\n",
       "      <th>https://openalex.org/W2901112449</th>\n",
       "      <td>Model-Based Reinforcement Learning for Closed-...</td>\n",
       "      <td>Dynamic control of soft robotic manipulators i...</td>\n",
       "    </tr>\n",
       "    <tr>\n",
       "      <th>https://openalex.org/W2792852625</th>\n",
       "      <td>Robot manipulator control using neural network...</td>\n",
       "      <td>Robot manipulators are playing increasingly si...</td>\n",
       "    </tr>\n",
       "    <tr>\n",
       "      <th>https://openalex.org/W2608224837</th>\n",
       "      <td>Adaptive Integral Sliding Mode Control With Ti...</td>\n",
       "      <td>This paper presents an adaptive robust control...</td>\n",
       "    </tr>\n",
       "    <tr>\n",
       "      <th>https://openalex.org/W2559957666</th>\n",
       "      <td>Distributed Task Allocation of Multiple Robots...</td>\n",
       "      <td>The problem of dynamic task allocation in a di...</td>\n",
       "    </tr>\n",
       "    <tr>\n",
       "      <th>https://openalex.org/W3099523296</th>\n",
       "      <td>Adaptive Control of Robot Manipulators With Un...</td>\n",
       "      <td>NaN</td>\n",
       "    </tr>\n",
       "    <tr>\n",
       "      <th>https://openalex.org/W2783089576</th>\n",
       "      <td>PDE Model-Based Boundary Control Design for a ...</td>\n",
       "      <td>This brief considers the control design proble...</td>\n",
       "    </tr>\n",
       "    <tr>\n",
       "      <th>https://openalex.org/W3174123873</th>\n",
       "      <td>Past, Present, and Future of Aerial Robotic Ma...</td>\n",
       "      <td>This article analyzes the evolution and curren...</td>\n",
       "    </tr>\n",
       "  </tbody>\n",
       "</table>\n",
       "</div>"
      ],
      "text/plain": [
       "                                                                              title  \\\n",
       "id                                                                                    \n",
       "https://openalex.org/W1517236425  Neural Network Control Of Robot Manipulators A...   \n",
       "https://openalex.org/W2740675802  Adaptive Neural Network Control of a Robotic M...   \n",
       "https://openalex.org/W2418767125  Neural Network Control of a Flexible Robotic M...   \n",
       "https://openalex.org/W2901112449  Model-Based Reinforcement Learning for Closed-...   \n",
       "https://openalex.org/W2792852625  Robot manipulator control using neural network...   \n",
       "https://openalex.org/W2608224837  Adaptive Integral Sliding Mode Control With Ti...   \n",
       "https://openalex.org/W2559957666  Distributed Task Allocation of Multiple Robots...   \n",
       "https://openalex.org/W3099523296  Adaptive Control of Robot Manipulators With Un...   \n",
       "https://openalex.org/W2783089576  PDE Model-Based Boundary Control Design for a ...   \n",
       "https://openalex.org/W3174123873  Past, Present, and Future of Aerial Robotic Ma...   \n",
       "\n",
       "                                                                           abstract  \n",
       "id                                                                                   \n",
       "https://openalex.org/W1517236425                                                NaN  \n",
       "https://openalex.org/W2740675802  The control problem of an uncertain n -degrees...  \n",
       "https://openalex.org/W2418767125  Adaptive neural networks (NNs) are employed fo...  \n",
       "https://openalex.org/W2901112449  Dynamic control of soft robotic manipulators i...  \n",
       "https://openalex.org/W2792852625  Robot manipulators are playing increasingly si...  \n",
       "https://openalex.org/W2608224837  This paper presents an adaptive robust control...  \n",
       "https://openalex.org/W2559957666  The problem of dynamic task allocation in a di...  \n",
       "https://openalex.org/W3099523296                                                NaN  \n",
       "https://openalex.org/W2783089576  This brief considers the control design proble...  \n",
       "https://openalex.org/W3174123873  This article analyzes the evolution and curren...  "
      ]
     },
     "execution_count": 162,
     "metadata": {},
     "output_type": "execute_result"
    }
   ],
   "source": [
    "dfinfo[['title','abstract']].head(10)"
   ]
  },
  {
   "cell_type": "code",
   "execution_count": 163,
   "id": "dc497cec-fa41-438c-91c3-39d2b9e751fa",
   "metadata": {},
   "outputs": [],
   "source": [
    "dfinfo.to_pickle('updatejammingdfinfo2d.pkl')"
   ]
  },
  {
   "cell_type": "markdown",
   "id": "710a4284-1a84-486b-bc61-4cc50be8da11",
   "metadata": {},
   "source": [
    "Now try to recreate the pydeck column chart a la DPS-TTU instead of the flat 2d scatter plot. ok.\n",
    "can also maybe add arcs in between collaborations. maybe. "
   ]
  },
  {
   "cell_type": "code",
   "execution_count": 164,
   "id": "d2fd2e6a-204e-41cc-8851-29747d773a81",
   "metadata": {},
   "outputs": [
    {
     "data": {
      "text/plain": [
       "Index(['id', 'display_name', 'ror', 'country_code', 'type', 'lineage',\n",
       "       'paper_id', 'paper_raw_affiliation_strings', 'paper_author_position',\n",
       "       'paper_doi', 'paper_title', 'paper_abstract', 'paper_publication_date',\n",
       "       'paper_publication_year', 'paper_grants', 'paper_locations',\n",
       "       'paper_is_corrresponding', 'paper_x', 'paper_y', 'paper_cluster',\n",
       "       'paper_cluster_score', 'paper_author_id', 'paper_author_display_name',\n",
       "       'paper_author_orcid', 'source', 'source_type', 'funder_list'],\n",
       "      dtype='object')"
      ]
     },
     "execution_count": 164,
     "metadata": {},
     "output_type": "execute_result"
    }
   ],
   "source": [
    "dftriple.columns"
   ]
  },
  {
   "cell_type": "code",
   "execution_count": 168,
   "id": "231ca0d6-5c49-419d-ab10-8ca65e3b5bdf",
   "metadata": {},
   "outputs": [
    {
     "data": {
      "text/plain": [
       "{'University of Science and Technology Beijing': (39.9075, 116.39723),\n",
       " 'National University of Singapore': (1.28967, 103.85007),\n",
       " 'Southeast University': (32.06167, 118.77778),\n",
       " 'University of Electronic Science and Technology of China': (30.66667,\n",
       "  104.06667),\n",
       " \"Sant'Anna School of Advanced Studies\": (43.721012, 10.402786),\n",
       " 'Khalifa University of Science and Technology': (24.447926, 54.394863),\n",
       " 'Lanzhou University': (36.05701, 103.83987),\n",
       " 'Hong Kong Polytechnic University': (22.27832, 114.17469),\n",
       " 'Qufu Normal University': (35.59667, 116.99111),\n",
       " 'Daegu Gyeongbuk Institute of Science and Technology': (35.87028, 128.59111),\n",
       " 'Korea Institute of Robot and Convergence': (36.022697, 129.32236),\n",
       " 'Bohai University': (41.087646, 121.1186),\n",
       " 'Universidad de Sevilla': (37.38283, -5.97317),\n",
       " 'ETH Zurich': (47.36667, 8.55),\n",
       " 'Seoul National University': (37.460155, 126.9519),\n",
       " 'Université de Toulouse': (43.60426, 1.44367),\n",
       " 'French National Centre for Scientific Research': (48.85341, 2.3488),\n",
       " 'Laboratory for Analysis and Architecture of Systems': (43.60426, 1.44367),\n",
       " 'University of Twente': (52.21833, 6.89583),\n",
       " 'Autonomous University of Chihuahua': (28.63528, -106.08889),\n",
       " 'Western Institute of Technology and Higher Education': (20.64091,\n",
       "  -103.29327),\n",
       " 'Center for Research and Advanced Studies of the National Polytechnic Institute': (19.509167,\n",
       "  -99.12944),\n",
       " 'Sun Yat-sen University': (23.11667, 113.25),\n",
       " 'Jishou University': (29.12944, 110.47833),\n",
       " 'South China University of Technology': (23.11667, 113.25),\n",
       " 'Imperial College London': (51.50853, -0.12574),\n",
       " 'Concordia University': (45.45867, -73.64011),\n",
       " 'Shenzhen Institutes of Advanced Technology': (22.54554, 114.0683),\n",
       " 'Nanjing University of Science and Technology': (32.0333, 118.85192),\n",
       " 'Guangdong University of Technology': (23.038954, 113.39608),\n",
       " 'Guangdong University Of Finances and Economics': (23.255367, 113.78054),\n",
       " 'Guangdong University of Education': (23.11667, 113.25),\n",
       " 'East China University of Science and Technology': (31.22222, 121.45806),\n",
       " 'Chongqing University of Posts and Telecommunications': (29.534594,\n",
       "  106.60526),\n",
       " 'Chongqing Institute of Green and Intelligent Technology': (29.56026,\n",
       "  106.55771),\n",
       " 'Swansea University': (51.62079, -3.94323),\n",
       " 'King Abdulaziz University': (21.493889, 39.25028),\n",
       " 'Yangzhou University': (32.39722, 119.43583),\n",
       " 'Ulsan National Institute of Science and Technology': (35.573, 129.19),\n",
       " 'Italian Institute of Technology': (44.40478, 8.94439),\n",
       " 'University of Pavia': (45.19205, 9.15917),\n",
       " 'University of Zanjan': (36.67642, 48.49628),\n",
       " 'King Saud University': (24.68773, 46.72185),\n",
       " 'Al Yamamah University': (24.863785, 46.591797),\n",
       " 'Nanjing University of Aeronautics and Astronautics': (32.06167, 118.77778),\n",
       " 'Zhejiang University': (30.29365, 120.16142),\n",
       " 'Zhejiang Ocean University': (29.98869, 122.20488),\n",
       " 'Shanghai Academy of Spaceflight Technology': (31.04955, 121.40371),\n",
       " 'Mines Paris - PSL': (48.85341, 2.3488),\n",
       " 'Centre Nantais de Sociologie': (47.21725, -1.55336),\n",
       " 'Nantes Université': (47.21725, -1.55336),\n",
       " 'Vanderbilt University': (36.144936, -86.80269),\n",
       " 'Politecnico di Milano': (45.478863, 9.228206),\n",
       " 'Vanderbilt University Medical Center': (36.16589, -86.78444),\n",
       " 'University of Leeds': (53.79648, -1.54785),\n",
       " 'Nanyang Technological University': (1.28967, 103.85007),\n",
       " 'Xidian University': (34.25833, 108.92861),\n",
       " 'Beijing Automation Control Equipment Institute': (39.917526, 116.40007),\n",
       " 'Ton Duc Thang University': (10.82302, 106.62965),\n",
       " 'University of Ulsan': (35.54277, 129.25673),\n",
       " 'Texas Tech University': (33.57786, -101.85517),\n",
       " 'University of Science and Technology of China': (31.86389, 117.28083),\n",
       " 'Guangdong Ocean University': (21.23391, 110.38749),\n",
       " 'Hangzhou Dianzi University': (30.310478, 120.343544),\n",
       " 'Chinese Academy of Sciences': (39.9075, 116.39723),\n",
       " 'Delft University of Technology': (52.00667, 4.35556),\n",
       " 'Indraprastha Institute of Information Technology Delhi': (28.65195,\n",
       "  77.23149),\n",
       " 'National Taiwan University of Science and Technology': (25.013685,\n",
       "  121.540535),\n",
       " 'Benha University': (30.471111, 31.181667),\n",
       " 'University of Chinese Academy of Sciences': (39.9075, 116.39723),\n",
       " 'Shenyang Institute of Automation': (41.79222, 123.43278),\n",
       " 'Beijing Institute of Technology': (39.95778, 116.308334),\n",
       " 'Michigan State University': (42.73698, -84.48387),\n",
       " 'Michigan Department of Agriculture and Rural Development': (42.731922,\n",
       "  -84.559364),\n",
       " 'United States Department of Agriculture': (38.89511, -77.03637),\n",
       " 'Agricultural Research Service': (38.89511, -77.03637),\n",
       " 'National Cheng Kung University': (23.0, 120.21667),\n",
       " 'Tongji University': (31.22222, 121.45806),\n",
       " 'Flanders Make (Belgium)': (51.199013, 5.309675),\n",
       " 'Vrije Universiteit Brussel': (50.85045, 4.34878),\n",
       " 'IMEC': (50.87959, 4.70093),\n",
       " 'University of Colorado Boulder': (40.01499, -105.27055),\n",
       " 'City University of Macau': (22.190077, 113.55397),\n",
       " 'University of Macau': (22.20056, 113.54611),\n",
       " 'Southern University of Science and Technology': (22.54554, 114.0683),\n",
       " 'Dalian University of Technology': (38.91222, 121.60222),\n",
       " 'Industrial Systems Institute': (38.29687, 21.810694),\n",
       " 'Northumbria University': (54.97328, -1.61396),\n",
       " 'Agency for Defense Development': (36.42397, 127.31592),\n",
       " 'Pohang Iron and Steel (South Korea)': (35.998894, 129.389),\n",
       " 'Pohang University of Science and Technology': (36.02917, 129.3648),\n",
       " 'City University of Hong Kong': (22.27832, 114.17469),\n",
       " 'Bristol Robotics Laboratory': (51.501564, -2.551596),\n",
       " 'University of the West of England': (51.50021, -2.54749),\n",
       " 'Rzeszów University of Technology': (50.04132, 21.99901),\n",
       " 'COMSATS University Islamabad': (33.652843, 73.15655),\n",
       " 'National University of Computer and Emerging Sciences': (33.72148, 73.04329),\n",
       " 'Jeddah University': (21.49012, 39.18624),\n",
       " 'Aalborg University': (57.048, 9.9187),\n",
       " 'Northern Border University': (30.97531, 41.03808),\n",
       " 'Public Authority for Applied Education and Training': (29.36972, 47.97833),\n",
       " 'University of Zurich': (47.36667, 8.55),\n",
       " 'Nazarbayev University': (51.1801, 71.44598),\n",
       " 'Korea Advanced Institute of Science and Technology': (36.34913, 127.38493),\n",
       " 'Toronto Metropolitan University': (43.70643, -79.39864),\n",
       " 'Artois University': (50.29301, 2.78186),\n",
       " \"Université des Sciences et de la Technologie d'Oran Mohamed Boudiaf\": (35.70807,\n",
       "  -0.579126),\n",
       " 'Shaheed Zulfiqar Ali Bhutto Institute of Science and Technology': (24.819223,\n",
       "  67.031395),\n",
       " 'Huaqiao University': (25.142797, 118.644104),\n",
       " 'Johns Hopkins University': (39.29038, -76.61219),\n",
       " 'Chinese University of Hong Kong': (22.419722, 114.206795),\n",
       " 'San Diego State University': (32.77504, -117.07168),\n",
       " 'Islamic Azad University of Garmsar': (35.220833, 52.319683),\n",
       " 'University of Birjand': (32.876667, 59.218056),\n",
       " 'École Centrale de Lille': (50.61669, 3.16664),\n",
       " 'University of Lille': (50.63297, 3.05858),\n",
       " 'China University of Geosciences': (30.58333, 114.26667),\n",
       " 'Huazhong University of Science and Technology': (30.58333, 114.26667),\n",
       " 'Yeungnam University': (35.834167, 128.75806),\n",
       " 'Johns Hopkins University Applied Physics Laboratory': (39.139, -76.87053),\n",
       " 'The University of Texas at Austin': (30.26715, -97.74306),\n",
       " \"Ministry of Education of the People's Republic of China\": (39.9075,\n",
       "  116.39723),\n",
       " 'Shanghai Jiao Tong University': (31.22222, 121.45806),\n",
       " 'Harbin Institute of Technology': (45.75, 126.65),\n",
       " 'University of Cambridge': (52.2, 0.11667),\n",
       " 'Tencent (China)': (22.54554, 114.0683),\n",
       " 'Shiraz University of Technology': (29.582048, 52.57922),\n",
       " 'University of Bologna': (44.49381, 11.33875),\n",
       " 'Shiraz University': (29.639742, 52.52675),\n",
       " 'University of Strasbourg': (48.58392, 7.74553),\n",
       " 'Tokyo University of Information Sciences': (35.637627, 140.20317),\n",
       " 'The University of Tokyo': (35.6895, 139.69171),\n",
       " 'Osaka University': (34.69374, 135.50218),\n",
       " 'Nagoya University': (35.18147, 136.9064),\n",
       " 'Ritsumeikan University': (35.02107, 135.75385),\n",
       " 'The University of Texas at Dallas': (32.94818, -96.72972),\n",
       " 'Korea Institute of Civil Engineering and Building Technology': (37.69646,\n",
       "  126.55119),\n",
       " 'CT Group Of Institutions': (31.32714, 75.59169),\n",
       " 'Indian Institute of Science Bangalore': (13.021275, 77.565765),\n",
       " 'University of Manchester': (53.48095, -2.23743),\n",
       " 'Beihang University': (39.9075, 116.39723),\n",
       " 'University of Warwick': (52.379436, -1.561502),\n",
       " 'Shenzhen University': (22.54554, 114.0683),\n",
       " 'Guangdong Polytechnic Normal University': (23.11667, 113.25),\n",
       " 'Changsha University of Science and Technology': (28.095896, 112.98871),\n",
       " 'TU Wien': (48.20849, 16.37208),\n",
       " 'German Aerospace Center': (50.85507, 7.119569),\n",
       " 'University of Naples Federico II': (40.84722, 14.256944),\n",
       " 'Samara National Research University': (53.21355, 50.17572),\n",
       " 'University of Girona': (41.98311, 2.82493),\n",
       " 'Innopolis University': (55.78874, 49.12214),\n",
       " 'University of Modena and Reggio Emilia': (44.64783, 10.92539),\n",
       " 'University of Ferrara': (44.83366, 11.626141),\n",
       " 'University of Santiago Chile': (-33.45, -70.683334),\n",
       " 'Jiangsu University': (32.193966, 119.51917),\n",
       " 'École Polytechnique Fédérale de Lausanne': (46.516, 6.63282),\n",
       " 'University of Nottingham': (52.93807, -1.196703),\n",
       " 'Rolls-Royce (United Kingdom)': (52.89104, -1.461832),\n",
       " 'Biomedical Engineering Society': (38.9461, -76.86441),\n",
       " 'Northwest Hospital': (39.35889, -76.78139),\n",
       " \"Institut de Chirurgie Guidée par l'Image\": (48.58392, 7.74553),\n",
       " 'South Valley University': (26.16418, 32.72671),\n",
       " 'University of Al-Qadisiyah': (31.99289, 44.92552),\n",
       " 'Cranfield University': (52.073334, -0.627778),\n",
       " 'Instituto Politécnico Nacional': (19.501558, -99.13767),\n",
       " 'Kagawa University': (34.33333, 134.05),\n",
       " 'University of Kentucky': (37.98869, -84.47772),\n",
       " 'Shandong Institute of Automation': (36.66833, 116.99722),\n",
       " 'Technical University of Munich': (48.13743, 11.57549),\n",
       " 'Fraunhofer Italia Research': (46.494133, 11.359908),\n",
       " 'Northeastern University': (42.35843, -71.05977),\n",
       " 'Shenyang University of Technology': (41.732464, 123.24922),\n",
       " 'Poznań University of Technology': (52.40692, 16.92993),\n",
       " 'University of Liverpool': (53.41058, -2.97794),\n",
       " 'Massachusetts Institute of Technology': (42.3751, -71.10561),\n",
       " 'University of Lisbon': (38.71667, -9.13333),\n",
       " 'Sharif University of Technology': (35.703865, 51.35158),\n",
       " 'University of Shahrood': (36.41819, 54.97628),\n",
       " 'Polytechnic Institute of Porto': (41.14961, -8.61099),\n",
       " 'Universidade do Porto': (41.14961, -8.61099),\n",
       " 'Institute of Mechanical Engineering and Industrial Mangement': (41.14961,\n",
       "  -8.61099),\n",
       " 'Norwegian University of Life Sciences': (59.671722, 10.766356),\n",
       " 'University of Minnesota': (44.97997, -93.26384),\n",
       " 'University of Southern California': (34.05223, -118.24368),\n",
       " 'Amirkabir University of Technology': (35.704346, 51.409676),\n",
       " \"Ca' Foscari University of Venice\": (45.43713, 12.33265),\n",
       " 'Center for Micro-BioRobotics': (43.661476, 10.631925),\n",
       " 'Jet Propulsion Laboratory': (34.19917, -118.18785),\n",
       " 'California Institute of Technology': (34.14778, -118.14452),\n",
       " 'University of Parma': (44.797077, 10.30867),\n",
       " 'Budapest University of Technology and Economics': (47.49835, 19.04045),\n",
       " 'Data61': (-33.86785, 151.20732),\n",
       " 'Commonwealth Scientific and Industrial Research Organisation': (-35.28346,\n",
       "  149.12807),\n",
       " 'Australian Centre for Robotic Vision': (-27.46794, 153.02809),\n",
       " 'Inria research centre Lille - Nord Europe': (50.605648, 3.147926),\n",
       " 'Foshan University': (23.02677, 113.13148),\n",
       " 'University of Paris-Seine': (49.034225, 2.077939),\n",
       " \"École Nationale Supérieure de l'Électronique et de ses Applications\": (49.03645,\n",
       "  2.07613),\n",
       " 'CY Cergy Paris University': (49.03894, 2.07805),\n",
       " 'Carnegie Mellon University': (40.44062, -79.99589),\n",
       " 'University of Zagreb': (45.81444, 15.97798),\n",
       " 'Rochester Institute of Technology Croatia': (42.642136, 18.102896),\n",
       " 'University of Da Nang': (16.06778, 108.22083),\n",
       " 'Samsung (South Korea)': (37.566, 126.9784),\n",
       " 'University of Bristol': (51.45523, -2.59665),\n",
       " 'University of Bath': (51.3751, -2.36172),\n",
       " 'Nile University': (30.06263, 31.24967),\n",
       " 'Prince Sultan University': (24.68773, 46.72185),\n",
       " 'KIIT University': (20.27241, 85.83385),\n",
       " 'Hunan University of Science and Technology': (27.85, 112.9),\n",
       " 'Changsha Medical University': (28.201311, 112.92897),\n",
       " 'Michigan Science Center': (42.358383, -83.062),\n",
       " 'National University of Defense Technology': (28.19874, 112.97087),\n",
       " 'Beijing Technology and Business University': (39.72034, 116.17),\n",
       " 'University of Montpellier': (43.61093, 3.87635),\n",
       " 'Lebanese University': (33.827816, 35.52219),\n",
       " 'ParisTech': (48.85341, 2.3488),\n",
       " 'Chemnitz University of Technology': (50.8357, 12.92922),\n",
       " 'Universität Hamburg': (53.55073, 9.99302),\n",
       " 'Hamburg University of Technology': (53.460835, 9.969444),\n",
       " 'Slovak University of Technology in Bratislava': (48.14816, 17.10674),\n",
       " 'Izhevsk State Technical University': (56.84976, 53.20448),\n",
       " 'Technical University of Košice': (48.71395, 21.25808),\n",
       " 'London South Bank University': (51.49814, -0.10154),\n",
       " 'Northern Illinois University': (41.933887, -88.77778),\n",
       " 'Southern Marine Science and Engineering Guangdong Laboratory (Guangzhou)': (23.11667,\n",
       "  113.25),\n",
       " 'Nanchang University': (28.665771, 115.81263),\n",
       " 'Carleton University': (45.3831, -75.6976),\n",
       " 'Ege University': (38.4539, 27.2117),\n",
       " 'Vietnam National University Ho Chi Minh City': (10.82302, 106.62965),\n",
       " 'Sofia University \"St. Kliment Ohridski\"': (42.69751, 23.32415),\n",
       " 'Institute of Mechanics': (39.9075, 116.39723),\n",
       " 'Shaanxi Normal University': (34.25833, 108.92861),\n",
       " 'New York University': (40.71427, -74.00597),\n",
       " 'Kyushu University': (33.6, 130.41667),\n",
       " 'Kin-ikyo Chuo Hospital': (43.091385, 141.40321),\n",
       " 'Beijing University of Chemical Technology': (39.9075, 116.39723),\n",
       " 'Guizhou University': (26.420439, 106.671104),\n",
       " 'Center for Scientific Research and Higher Education at Ensenada': (31.86938,\n",
       "  -116.666275),\n",
       " 'Instituto Tecnológico Autónomo de México': (19.345861, -99.19987),\n",
       " 'National Technical University of Athens': (37.98376, 23.72784),\n",
       " 'Science Oxford': (51.751076, -1.23866),\n",
       " 'University of Oxford': (51.75222, -1.25596),\n",
       " 'ORCID': (39.02793, -77.14268),\n",
       " 'Namal College': (32.68157, 71.79168),\n",
       " 'Lodz University of Technology': (51.77058, 19.47395),\n",
       " 'Dalian Polytechnic University': (38.91222, 121.60222),\n",
       " 'Sapienza University of Rome': (41.90384, 12.514438),\n",
       " 'Lanzhou University of Finance and Economics': (36.04525, 103.89396),\n",
       " 'University of Sciences and Technology Houari Boumediene': (36.71123,\n",
       "  3.181388),\n",
       " 'Polytechnic School of Algiers': (36.7232, 3.1508),\n",
       " 'Chungnam National University': (36.36889, 127.34611),\n",
       " 'Electronics and Telecommunications Research Institute': (36.37946,\n",
       "  127.33386),\n",
       " 'Ho Chi Minh City University of Technology and Education': (10.82302,\n",
       "  106.62965),\n",
       " 'Tianjin University': (39.14222, 117.17667),\n",
       " 'University of Brescia': (45.53558, 10.21472),\n",
       " 'National Research Council': (41.89193, 12.51133),\n",
       " 'Erzurum Technical University': (39.90861, 41.27694),\n",
       " 'University of Melbourne': (-37.814, 144.96332),\n",
       " 'Tampere University': (61.49911, 23.78712),\n",
       " 'Sandvik (Finland)': (61.499237, 23.762983),\n",
       " 'Guangzhou University': (23.11667, 113.25),\n",
       " 'Korea University': (37.590477, 127.02679),\n",
       " 'Defence Institute of Advanced Technology': (18.424168, 73.75833),\n",
       " 'Technical University of Ostrava': (49.83465, 18.28204),\n",
       " 'Universität Innsbruck': (47.26266, 11.39454),\n",
       " 'Gyeongsang National University': (35.15497, 128.098),\n",
       " 'Purdue University West Lafayette': (40.42587, -86.90807),\n",
       " 'University of Rijeka': (45.32673, 14.44241),\n",
       " 'Polytechnic of Međimurje in Čakovec': (46.391975, 16.448118),\n",
       " 'Jinan University': (23.11667, 113.25),\n",
       " 'Naval University of Engineering': (30.58333, 114.26667),\n",
       " 'Hefei University of Technology': (31.86389, 117.28083),\n",
       " 'Islamic Azad University Saveh': (35.030098, 50.30029),\n",
       " 'Jingdezhen University': (29.275204, 117.18486),\n",
       " 'East China Jiaotong University': (28.68396, 115.85306),\n",
       " 'University of Louisville': (38.212345, -85.75928),\n",
       " 'Stevens Institute of Technology': (40.74399, -74.03236),\n",
       " 'Gebze Technical University': (40.80276, 29.43068),\n",
       " 'Vidyasirimedhi Institute of Science and Technology': (12.68095, 101.25798),\n",
       " 'Tokyo University of Agriculture and Technology': (35.6895, 139.69171),\n",
       " 'Tokyo Institute of Technology': (35.6895, 139.69171),\n",
       " 'Chongqing University': (29.56026, 106.55771),\n",
       " 'Virginia Tech': (37.22957, -80.41394),\n",
       " 'University of Baghdad': (33.273888, 44.3775),\n",
       " 'Alsalam University College': (33.228565, 44.369595),\n",
       " 'Gaziantep University': (37.05944, 37.3825),\n",
       " 'Ho Chi Minh City University of Technology': (10.82302, 106.62965),\n",
       " 'Opera del Vocabolario Italiano': (43.81961, 11.228289),\n",
       " 'Bandung Institute of Technology': (-6.92222, 107.60694),\n",
       " 'Escuela Superior Politécnica del Chimborazo': (-1.67098, -78.64712),\n",
       " 'Al-Farabi Kazakh National University': (43.25, 76.91667),\n",
       " 'Deakin University': (-37.84978, 145.119),\n",
       " 'Industrial University of Ho Chi Minh City': (10.822732, 106.68741),\n",
       " 'Ulyanovsk State University': (54.31179, 48.390198),\n",
       " 'Presidency University': (22.56263, 88.36304),\n",
       " 'Chennai Mathematical Institute': (12.828247, 80.21981),\n",
       " 'Indian Institute of Technology Madras': (12.992998, 80.2368),\n",
       " 'Henan University of Science and Technology': (34.60352, 112.42032),\n",
       " 'Henan Polytechnic University': (35.188038, 113.265724),\n",
       " 'China Academy of Space Technology': (39.9075, 116.39723),\n",
       " 'Boğaziçi University': (41.01384, 28.94966),\n",
       " 'University of Toronto': (43.70643, -79.39864),\n",
       " 'Luleå University of Technology': (65.61845, 22.140137),\n",
       " 'Guangxi University of Science and Technology': (24.334343, 109.442024),\n",
       " 'Capital Normal University': (39.726154, 116.16659),\n",
       " 'North China University of Technology': (39.9075, 116.39723),\n",
       " 'University of Alkafeel': (32.02594, 44.34625),\n",
       " 'University of Guadalajara': (20.66682, -103.39182),\n",
       " 'Institute for Scientific and Technological Research': (22.14982, -100.97916),\n",
       " 'Universidad Nacional Autónoma de México': (19.42847, -99.12766),\n",
       " 'Qingdao University': (36.06488, 120.38042),\n",
       " 'Urmia University': (37.528755, 45.04648),\n",
       " 'Gunma University': (36.43028, 139.045),\n",
       " 'Zhejiang Sci-Tech University': (30.29365, 120.16142),\n",
       " 'Lishui University': (28.454285, 119.90758),\n",
       " 'Northwestern University': (42.04114, -87.69006),\n",
       " 'University of Central Florida': (28.6016, -81.2005),\n",
       " 'Boston Dynamics (United States)': (42.392654, -71.25811),\n",
       " 'Maulana Azad National Institute of Technology': (23.25469, 77.40289),\n",
       " 'United Kingdom Atomic Energy Authority': (51.65804, -1.232016),\n",
       " 'Georgia Institute of Technology': (33.749, -84.38798),\n",
       " 'Anhui University': (31.845516, 117.251595),\n",
       " 'Hohai University': (32.06167, 118.77778),\n",
       " 'Leibniz University Hannover': (52.37052, 9.73322),\n",
       " 'University of Carthage': (36.81897, 10.16579),\n",
       " 'Indian Institute of Technology Guwahati': (26.1844, 91.7458),\n",
       " 'National Engineering School of Tunis': (36.8314, 10.1472),\n",
       " 'Tunis El Manar University': (36.81897, 10.16579),\n",
       " 'University of Louisiana at Lafayette': (30.22409, -92.01984),\n",
       " 'Beijing University of Technology': (39.9075, 116.39723),\n",
       " 'Université de Moncton': (46.09454, -64.7965),\n",
       " 'Université Laval': (46.81228, -71.21454),\n",
       " 'Konkuk University': (37.541943, 127.076385),\n",
       " 'Universidad del Noreste': (22.2834, -97.8722),\n",
       " 'Kunming University of Science and Technology': (25.061562, 102.69563),\n",
       " 'Qilu University of Technology': (36.66833, 116.99722),\n",
       " 'Shandong Academy of Sciences': (36.66833, 116.99722),\n",
       " 'Shandong University': (36.66833, 116.99722),\n",
       " 'Warsaw University of Technology': (52.22977, 21.01178),\n",
       " 'UNSW Sydney': (-33.86785, 151.20732),\n",
       " 'University of Technology of Compiègne': (49.41794, 2.82606),\n",
       " 'Wrocław University of Science and Technology': (51.1, 17.03333),\n",
       " 'Institute of Experimental Physics': (48.734486, 21.239092),\n",
       " 'University of Wrocław': (51.1, 17.03333),\n",
       " 'Institute of Automation': (39.9075, 116.39723),\n",
       " 'K.N.Toosi University of Technology': (35.748062, 51.44425),\n",
       " 'Shenzhen Polytechnic': (22.54554, 114.0683),\n",
       " 'Advanced Institute of Convergence Technology': (37.29494, 127.04547),\n",
       " 'Yonsei University': (37.566, 126.9784),\n",
       " 'Anhui Polytechnic University': (31.33728, 118.37351),\n",
       " 'Tsinghua–Berkeley Shenzhen Institute': (22.54554, 114.0683),\n",
       " 'Tsinghua University': (39.9075, 116.39723),\n",
       " 'Tarsus University': (39.8159, 34.8384),\n",
       " 'University of Washington': (47.60621, -122.33207),\n",
       " 'GLA University': (27.5035, 77.67215),\n",
       " 'Universiti Malaysia Pahang': (3.543702, 103.42891),\n",
       " 'Xinyang Normal University': (32.12278, 114.06556),\n",
       " 'Zhengzhou University': (34.816025, 113.53577),\n",
       " 'Escuela Politécnica del Ejército': (-0.33405, -78.45217),\n",
       " 'Ingegneria dei Sistemi (Italy)': (43.652866, 10.43708),\n",
       " 'Eastern Virginia Medical School': (36.84681, -76.28522),\n",
       " 'Babol Noshirvani University of Technology': (36.56156, 52.681725),\n",
       " 'Technical University of Crete': (35.529907, 24.06847),\n",
       " 'Zhuhai Institute of Advanced Technology': (22.27436, 113.56769),\n",
       " 'University of Sargodha': (32.07437, 72.6838),\n",
       " 'Superior University': (31.501453, 74.33195),\n",
       " 'University of Science and Technology Bannu': (33.02888, 70.70023),\n",
       " 'Hainan University': (20.060556, 110.32139),\n",
       " 'Guangzhou Railway Polytechnic': (23.200684, 113.209366),\n",
       " 'Shandong Jiaotong University': (36.66833, 116.99722),\n",
       " 'Jiangnan University': (31.482779, 120.27758),\n",
       " 'Hong Kong University of Science and Technology': (22.336182, 114.26512),\n",
       " 'University of Hong Kong': (22.27832, 114.17469),\n",
       " 'Hanoi University of Science and Technology': (21.0245, 105.84117),\n",
       " 'Óbuda University': (47.49835, 19.04045),\n",
       " 'National University of Modern Languages': (33.666813, 73.05149),\n",
       " 'Istinye University': (41.014713, 28.90608),\n",
       " 'Sanya University': (18.328606, 109.55881),\n",
       " 'Zagazig University': (30.588577, 31.482271),\n",
       " 'Damietta University': (31.41648, 31.81332),\n",
       " 'Taibah University': (24.4809, 39.544945),\n",
       " 'Mansoura University': (31.03637, 31.38069),\n",
       " 'Komatsu (Japan)': (35.6895, 139.69171),\n",
       " 'Sivas State Hospital': (39.744946, 37.01092),\n",
       " 'ShanghaiTech University': (31.22222, 121.45806),\n",
       " 'Henan University of Technology': (34.829273, 113.55098),\n",
       " 'Wuhu Hit Robot Technology Research Institute': (31.374897, 118.47393),\n",
       " 'Zhejiang University of Technology': (30.29229, 120.16635),\n",
       " 'Inspur (China)': (36.660843, 117.12727),\n",
       " 'Universidad Autónoma de Ciudad Juárez': (31.749874, -106.44025),\n",
       " 'Amrita Vishwa Vidyapeetham': (11.00555, 76.96612),\n",
       " 'Far Eastern Federal University': (43.10562, 131.87354),\n",
       " 'Institute of Automation and Control Processes': (43.197964, 131.9248),\n",
       " 'Far Eastern Branch of the Russian Academy of Sciences': (43.197975,\n",
       "  131.92487),\n",
       " 'Institute of Marine Technology Problems of the Far-Eastern Branch of the Russian Academy of Sciences': (43.113186,\n",
       "  131.88467),\n",
       " 'Université Mustapha Stambouli de Mascara': (35.413986, 0.129604),\n",
       " 'Suez University': (29.97371, 32.52627),\n",
       " 'University of Waterloo': (43.472534, -80.544876),\n",
       " 'Arts et Metiers Institute of Technology': (48.85341, 2.3488),\n",
       " 'University of Tehran': (35.70347, 51.3952),\n",
       " 'Université Hassan 1er': (33.00103, -7.61662),\n",
       " \"École Royale de l'Air de Marrakech\": (31.643314, -7.996193),\n",
       " 'St. Petersburg Institute for Informatics and Automation': (59.939766,\n",
       "  30.26966),\n",
       " 'Beirut Arab University': (33.89332, 35.50157),\n",
       " 'St Petersburg University': (59.942, 30.299),\n",
       " 'Kyonggi University': (37.300488, 127.035835),\n",
       " 'Hanyang University': (37.55747, 127.04531),\n",
       " 'University of Georgia': (33.96095, -83.37794),\n",
       " 'Cotton (United States)': (35.82856, -78.78657),\n",
       " 'Institut Mihajlo Pupin': (44.80401, 20.46513),\n",
       " 'University of Belgrade': (44.80401, 20.46513),\n",
       " 'Southwest Petroleum University': (30.817675, 104.19141),\n",
       " 'Fusion for Energy': (41.38879, 2.15899),\n",
       " 'Dyson (United Kingdom)': (51.596066, -2.103789),\n",
       " 'University of Petroleum and Energy Studies': (30.32443, 78.03392),\n",
       " 'GD Goenka University': (28.266342, 77.0657),\n",
       " 'South Texas College': (26.216341, -98.25327),\n",
       " 'Universitat Politècnica de València': (39.47391, -0.37966),\n",
       " 'University of Technology Sydney': (-33.883274, 151.20045),\n",
       " 'University of Surrey': (51.243057, -0.589444),\n",
       " 'Laboratori Guglielmo Marconi (Italy)': (44.49381, 11.33875),\n",
       " 'Marconi University': (41.912777, 12.393333),\n",
       " 'Institute for Advanced Study': (40.33167, -74.66778),\n",
       " 'Norwegian University of Science and Technology': (63.43049, 10.39506),\n",
       " 'Polytech Lille': (50.61669, 3.16664),\n",
       " 'Indian Institute of Technology Roorkee': (29.862143, 77.89672),\n",
       " 'Universidade Tecnológica Federal do Paraná': (-25.42778, -49.27306),\n",
       " 'Universidade Federal de Uberlândia': (-18.91861, -48.27722),\n",
       " 'Tianjin University of Commerce': (39.18207, 117.130714),\n",
       " 'East China Normal University': (31.22222, 121.45806),\n",
       " 'Korea Institute of Machinery and Materials': (36.34913, 127.38493),\n",
       " 'Kunsan National University': (35.945873, 126.682175),\n",
       " 'Ajou University': (37.282913, 127.04607),\n",
       " 'University of Cauca': (2.441238, -76.60487),\n",
       " \"Universitat de Miguel Hernández d'Elx\": (38.26218, -0.70107),\n",
       " 'KLA (United States)': (37.42084, -121.92597),\n",
       " 'Brunel University London': (51.53479, -0.47153),\n",
       " 'Queen Mary University of London': (51.50853, -0.12574),\n",
       " 'Missouri University of Science and Technology': (37.95143, -91.77127),\n",
       " 'Izmir Institute of Technology': (38.318336, 26.640223),\n",
       " 'Korea Institute of Science and Technology': (37.566, 126.9784),\n",
       " 'California NanoSystems Institute': (34.05223, -118.24368),\n",
       " 'Lund University': (55.70584, 13.19321),\n",
       " 'Laboratoire des Sciences du Numérique de Nantes': (47.21725, -1.55336),\n",
       " 'IMT Atlantique': (48.39029, -4.48628),\n",
       " 'Kyung Hee University': (37.59675, 127.05189),\n",
       " 'University of Pennsylvania': (39.95238, -75.16362),\n",
       " 'Nanjing University of Information Science and Technology': (32.207222,\n",
       "  118.721664),\n",
       " 'University College Dublin': (53.33306, -6.24889),\n",
       " 'Universidad de León': (42.60003, -5.57032),\n",
       " 'Monash University': (-37.814, 144.96332),\n",
       " 'Institut National des Sciences Appliquées de Strasbourg': (48.58392,\n",
       "  7.74553),\n",
       " 'Robotics Research (United States)': (39.254353, -84.38371),\n",
       " 'University Ferhat Abbas of Setif': (36.198326, 5.365936),\n",
       " 'Institute for Systems and Computer Engineering of Porto': (41.14961,\n",
       "  -8.61099),\n",
       " 'University of Trás-os-Montes and Alto Douro': (41.30062, -7.74413),\n",
       " 'Sichuan University of Science and Engineering': (29.334427, 104.76506),\n",
       " 'Madan Mohan Malaviya University of Technology': (26.73073, 83.43328),\n",
       " 'Tianjin University of Technology': (39.14222, 117.17667),\n",
       " 'University of Tabriz': (38.06361, 46.32861),\n",
       " 'Universiti of Malaysia Sabah': (6.036667, 116.118614),\n",
       " 'University of North Carolina at Charlotte': (35.303555, -80.73238),\n",
       " 'Worcester Polytechnic Institute': (42.26259, -71.80229),\n",
       " 'Universidade Federal do Ceará': (-3.746401, -38.566795),\n",
       " 'Instituto Federal do Ceará': (-3.745939, -38.57502),\n",
       " 'Guangdong Institute of Intelligent Manufacturing': (23.141375, 113.29841),\n",
       " 'Shanghai Civil Aviation College': (31.22222, 121.45806),\n",
       " 'University of Coimbra': (40.20564, -8.41955),\n",
       " 'SINTEF': (63.43049, 10.39506),\n",
       " 'Technical University of Sofia': (42.69751, 23.32415),\n",
       " 'University of Isfahan': (32.65246, 51.67462),\n",
       " 'Dynamic Systems (United States)': (30.237345, -97.79002),\n",
       " 'Clemson University': (34.678333, -82.839165),\n",
       " 'National Advanced School of Public Works': (3.869809, 11.49656),\n",
       " 'Université de Yaoundé I': (3.857427, 11.501418),\n",
       " 'Centre de Recherche en Informatique': (48.40908, 2.70177),\n",
       " 'Instituto Tecnólogico de La Laguna': (25.53525, -103.434875),\n",
       " 'National Technological Institute of Mexico': (19.42847, -99.12766),\n",
       " 'Autodesk (United States)': (38.005524, -122.53079),\n",
       " 'Westlake University': (30.29365, 120.16142),\n",
       " 'University of Nevada Reno': (39.52963, -119.8138),\n",
       " 'Symbiosis International University': (18.537247, 73.73202),\n",
       " 'Institute of Infrastructure Technology Research and Management': (23.005598,\n",
       "  72.62149),\n",
       " 'Curtin University': (-31.95224, 115.8614),\n",
       " 'Aurel Vlaicu University of Arad': (46.17343, 21.317286),\n",
       " 'Yanshan University': (39.93167, 119.58833),\n",
       " 'Federal Scientific Agroengineering Center VIM': (55.72899, 37.782127),\n",
       " 'Louisiana State University': (30.44332, -91.18747),\n",
       " 'Hamedan University of Technology': (34.78628, 48.48852),\n",
       " 'University of Luxembourg': (49.660175, 6.134009),\n",
       " 'Murdoch University': (-31.95224, 115.8614),\n",
       " 'University of Florida': (29.65163, -82.32483),\n",
       " 'Shenzhen Technology University': (22.54554, 114.0683),\n",
       " 'Polytechnic University of Turin': (45.07049, 7.68682),\n",
       " 'Peng Cheng Laboratory': (22.54554, 114.0683),\n",
       " 'Łukasiewicz Research Network - Industrial Research Institute for Automation and Measurements': (52.22977,\n",
       "  21.01178),\n",
       " 'Sukkur IBA University': (27.727045, 68.81901),\n",
       " 'International Hellenic University': (40.64361, 22.93086),\n",
       " 'Polytechnic Institute of Bragança': (41.80582, -6.75719),\n",
       " 'Japan Steel Works (Japan)': (35.619396, 139.7308),\n",
       " 'MIREA - Russian Technological University': (55.75222, 37.61556),\n",
       " 'Fraunhofer Institute for Material Flow and Logistics': (51.494045, 7.407644),\n",
       " 'Ensenada Institute of Technology': (31.806042, -116.59032),\n",
       " 'Autonomous University of San Luis Potosí': (22.152893, -100.97677),\n",
       " 'Autonomous University of Aguascalientes': (21.88234, -102.28259),\n",
       " 'Kazan Federal University': (55.78874, 49.12214),\n",
       " 'York University': (40.71427, -74.00597),\n",
       " 'Universiti Sains Malaysia': (5.356944, 100.30139),\n",
       " 'Heze University': (35.23929, 115.47358),\n",
       " 'University of Aveiro': (40.64427, -8.64554),\n",
       " 'Queensland University of Technology': (-27.46794, 153.02809),\n",
       " 'MathWorks (United States)': (42.28343, -71.3495),\n",
       " 'Kochi University of Technology': (33.621304, 133.71985),\n",
       " 'École Supérieure des Technologies Industrielles Avancées': (43.446198,\n",
       "  -1.553045),\n",
       " 'University of Guelph': (43.54594, -80.25599),\n",
       " 'University of Sharjah': (25.33737, 55.41206),\n",
       " 'Soochow University': (31.30919, 120.641335),\n",
       " 'Technological University of Mexico': (19.42847, -99.12766),\n",
       " 'Polytechnic University of the Valley of Mexico': (19.643002, -99.12602),\n",
       " 'Moscow Institute of Physics and Technology': (55.94958, 37.50183),\n",
       " 'University of Aleppo': (36.20124, 37.16117),\n",
       " 'University of Rhode Island': (41.48038, -71.52256),\n",
       " 'Longyan University': (25.07485, 117.01775),\n",
       " 'Delhi Technological University': (28.749947, 77.11703),\n",
       " 'Netaji Subhas University of Technology': (28.63576, 77.22445),\n",
       " 'Tecnologie Avanzate (Italy)': (45.07505, 7.711228),\n",
       " 'The University of Texas at Arlington': (32.731, -97.115),\n",
       " 'KTH Royal Institute of Technology': (59.32938, 18.06871),\n",
       " 'Swinburne University of Technology': (-37.82111, 145.03833),\n",
       " 'Central American Technological University': (14.0818, -87.20681),\n",
       " 'University of Tabuk': (28.386786, 36.4743),\n",
       " 'University of Brawijaya': (-7.9797, 112.6304),\n",
       " 'Motilal Nehru National Institute of Technology': (25.44478, 81.84322),\n",
       " 'Cornell University': (42.44063, -76.49661),\n",
       " 'University of Plymouth': (50.37153, -4.14305),\n",
       " 'SAIC-GM (China)': (31.260706, 121.4656),\n",
       " \"King's College School\": (51.421757, -0.226045),\n",
       " \"King's College London\": (51.50853, -0.12574),\n",
       " 'Sonora Institute of Technology': (27.48642, -109.94083),\n",
       " 'Doshisha University': (35.029736, 135.76073),\n",
       " 'Jiaxing University': (30.7522, 120.75),\n",
       " 'Hunan Normal University': (28.186096, 112.94983),\n",
       " 'Hindustan Institute of Technology and Science': (13.008626, 80.20065),\n",
       " 'De La Salle University': (14.6042, 120.9822),\n",
       " 'Columbia University': (40.71427, -74.00597),\n",
       " 'University of Miskolc': (48.10306, 20.77806),\n",
       " 'Instituto Tecnológico Superior de Xalapa': (19.5029, -96.8807),\n",
       " 'Instituto Tecnologico de Veracruz': (19.200264, -96.15959),\n",
       " 'Polytechnic University of San Luis Potosí': (22.122437, -100.98425),\n",
       " 'Autonomous University of Carmen': (18.644526, -91.81843),\n",
       " 'Suez Canal University': (30.622778, 32.275),\n",
       " 'Port Said University': (31.241388, 32.316666),\n",
       " 'Lebanese American University': (33.892776, 35.47778),\n",
       " 'University of Michigan–Ann Arbor': (42.27756, -83.74088),\n",
       " 'Piaggio (Italy)': (43.661503, 10.628533),\n",
       " 'University of Pisa': (43.71643, 10.398687),\n",
       " 'University of York': (53.95763, -1.08271),\n",
       " 'University of Southampton': (50.90395, -1.40428),\n",
       " 'Yokohama National University': (35.43333, 139.65),\n",
       " 'University of Verona': (45.43667, 11.003611),\n",
       " 'University of Padua': (45.40797, 11.88586),\n",
       " 'Free University of Bozen-Bolzano': (46.49067, 11.33982),\n",
       " 'University of Udine': (46.0693, 13.23715),\n",
       " 'Shantou University': (23.41107, 116.63992),\n",
       " 'RIKEN': (35.78944, 139.62334),\n",
       " 'University of Southern Denmark': (55.36861, 10.428056),\n",
       " 'Universitätsklinikum Würzburg': (49.79391, 9.95121),\n",
       " 'Laboratoire des signaux et systèmes': (48.68333, 2.13333),\n",
       " \"Queen's University\": (44.225502, -76.49516),\n",
       " 'Sant Longowal Institute of Engineering and Technology': (30.24506, 75.84488),\n",
       " 'Sichuan Agricultural University': (29.978804, 102.99343),\n",
       " 'KU Leuven': (50.87959, 4.70093),\n",
       " 'Université Paris Sciences et Lettres': (48.85341, 2.3488),\n",
       " 'Shaanxi University of Technology': (33.07102, 107.053795),\n",
       " 'Birla Institute of Technology and Science - Hyderabad Campus': (17.545065,\n",
       "  78.57073),\n",
       " 'Harbin University of Science and Technology': (45.715046, 126.61456),\n",
       " 'University of South China': (23.11667, 113.25),\n",
       " 'Semnan University': (35.600555, 53.43667),\n",
       " 'National Taipei University of Technology': (25.043997, 121.53785),\n",
       " 'Southern Taiwan University of Science and Technology': (23.023556,\n",
       "  120.224915),\n",
       " 'Instituto Mauá de Tecnologia': (-23.64795, -46.573456),\n",
       " 'Universidade de São Paulo': (-23.5475, -46.63611),\n",
       " 'Xi’an University of Posts and Telecommunications': (34.25833, 108.92861),\n",
       " 'Peter the Great St. Petersburg Polytechnic University': (60.005516,\n",
       "  30.370201),\n",
       " 'ITMO University': (59.93863, 30.31413),\n",
       " 'University of Ljubljana': (46.05108, 14.50513),\n",
       " 'Joanneum Research': (47.07402, 15.454898),\n",
       " 'University of Trieste': (45.64953, 13.77678),\n",
       " 'University of Patras': (38.286667, 21.786388),\n",
       " 'New York University Abu Dhabi': (24.45118, 54.39696),\n",
       " 'Kasetsart University': (13.75398, 100.50144),\n",
       " 'Hunan University': (28.19874, 112.97087),\n",
       " 'China Southern Power Grid (China)': (23.164244, 112.89752),\n",
       " 'Wuhan University': (30.58333, 114.26667),\n",
       " 'Dokuz Eylül University': (38.41273, 27.13838),\n",
       " 'Manisa Celal Bayar University': (38.61202, 27.42647),\n",
       " 'National University of Sciences and Technology': (33.72148, 73.04329),\n",
       " 'Kyoto University': (35.02107, 135.75385),\n",
       " 'Kyoto University of Advanced Science': (35.0, 135.58333),\n",
       " 'University of Calabria': (39.33154, 16.18041),\n",
       " 'University of Sfax': (34.74056, 10.76028),\n",
       " 'Leuphana University of Lüneburg': (53.2509, 10.41409),\n",
       " 'Military University Nueva Granada': (4.60971, -74.08175),\n",
       " 'Isfahan University of Technology': (32.720325, 51.524773),\n",
       " 'National Yang Ming Chiao Tung University': (24.80361, 120.96861),\n",
       " 'South China Agricultural University': (23.11667, 113.25),\n",
       " 'Marine Hydrophysical Institute': (44.616493, 33.525166),\n",
       " 'Azerbaijan Technical University': (40.370148, 49.815796),\n",
       " 'University of Bremen': (53.07582, 8.80717),\n",
       " 'Instituto de Aeronáutica e Espaço': (-23.20305, -45.873333),\n",
       " 'New Mexico State University': (32.31232, -106.77834),\n",
       " 'University of Tennessee at Knoxville': (35.96064, -83.92074),\n",
       " 'Antenor Orrego Private University': (-8.126836, -79.03156),\n",
       " 'University of Rome Tor Vergata': (41.85015, 12.597991),\n",
       " 'University of Cyprus': (35.17531, 33.3642),\n",
       " 'Emirates Foundation': (24.459332, 54.626865),\n",
       " 'University of Engineering and Technology Taxila': (33.59733, 73.0479),\n",
       " 'Muban Chombueng Rajabhat University': (13.622352, 99.588875),\n",
       " 'Universidad Popular Autónoma del Estado de Puebla': (19.04914, -98.21308),\n",
       " 'Universidad Politécnica de Tulancingo': (20.135078, -98.381325),\n",
       " 'Universidad Panamericana': (19.42847, -99.12766),\n",
       " 'University of Technology Malaysia': (1.559167, 103.64139),\n",
       " 'King Fahd University of Petroleum and Minerals': (26.32174, 50.14517),\n",
       " 'Al-Neelain University': (15.604073, 32.514565),\n",
       " 'National Chung Hsing University': (24.12246, 120.67426),\n",
       " 'National Sun Yat-sen University': (22.626667, 120.26583),\n",
       " 'Tamkang University': (25.175, 121.449),\n",
       " 'Kaohsiung Medical University': (22.64752, 120.31043),\n",
       " 'FPT University': (21.0245, 105.84117),\n",
       " 'Miami University': (39.507, -84.74523),\n",
       " 'College Ahuntsic': (45.552265, -73.64353),\n",
       " 'University of Wisconsin–Milwaukee': (43.0389, -87.90647),\n",
       " 'École de Technologie Supérieure': (45.50884, -73.58781),\n",
       " 'Technical University of Varna': (43.222973, 27.934004),\n",
       " 'Universidad Autónoma del Estado de Hidalgo': (20.128056, -98.73444),\n",
       " 'University of Genoa': (44.40292, 8.958889),\n",
       " 'Tomsk State University of Control Systems and Radio-Electronics': (56.474167,\n",
       "  84.95),\n",
       " 'Jilin University': (43.88, 125.32278),\n",
       " 'Tunis University': (36.79578, 10.162962),\n",
       " 'University of Blida': (36.504765, 2.875901),\n",
       " 'Université Djilali Bounaama Khemis Miliana': (36.25533, 2.236329),\n",
       " 'National University of Formosa': (-26.192204, -58.200256),\n",
       " 'National Formosa University': (23.710274, 120.56313),\n",
       " 'Tohoku University': (38.26667, 140.86667),\n",
       " 'Bialystok University of Technology': (53.13333, 23.16433),\n",
       " 'University of the Aegean': (39.1, 26.55),\n",
       " 'University of Bielsko-Biała': (49.82245, 19.04686),\n",
       " 'Universidade Federal de Ouro Preto': (-20.39484, -43.50517),\n",
       " 'Vale Technological Institute': (-1.45583, -48.50444),\n",
       " 'Universidade Federal de Minas Gerais': (-19.871904, -43.966248),\n",
       " 'Singapore University of Technology and Design': (1.301821, 103.78156),\n",
       " 'National Institute of Standards and Technology': (39.14344, -77.20137),\n",
       " 'United States Patent and Trademark Office': (38.8015, -77.063835),\n",
       " 'Twin Cities Orthopedics': (44.88633, -93.331795),\n",
       " 'Jiangsu Key Laboratory of 3D Printing Equipment and Manufacturing': (32.07152,\n",
       "  118.82119),\n",
       " 'V. N. Karazin Kharkiv National University': (49.98081, 36.25272),\n",
       " 'Kharkiv National University of Radio Electronics': (50.015, 36.22778),\n",
       " 'University of Stuttgart': (48.78232, 9.17702),\n",
       " 'University of Wisconsin–Stout': (44.87552, -91.91934),\n",
       " 'Lafayette College': (40.68843, -75.22073),\n",
       " 'Case Western Reserve University': (41.4995, -81.69541),\n",
       " 'University of South Carolina': (34.00071, -81.03481),\n",
       " 'Hubei Normal University': (30.227, 115.070786),\n",
       " 'Boston University': (42.35843, -71.05977),\n",
       " 'Hubei University of Technology': (30.483173, 114.30718),\n",
       " 'Shaanxi University of Science and Technology': (34.25833, 108.92861),\n",
       " 'University of West Bohemia': (49.72369, 13.351542),\n",
       " 'Czech Technical University in Prague': (50.08804, 14.42076),\n",
       " 'Piaggio Aerospace (Italy)': (44.403248, 8.945069),\n",
       " 'Universidad del Valle de México': (19.2968, -99.1448),\n",
       " 'Institut National des Sciences Appliquées de Rennes': (48.11198, -1.67429),\n",
       " 'Linköping University': (58.41086, 15.62157),\n",
       " 'Johnson Space Center': (29.76328, -95.36327),\n",
       " 'Skolkovo Institute of Science and Technology': (55.684517, 37.340343),\n",
       " 'Universitat Politècnica de Catalunya': (41.38879, 2.15899),\n",
       " 'Institut de Robòtica i Informàtica Industrial': (41.38879, 2.15899),\n",
       " 'Vellore Institute of Technology University': (12.968794, 79.15902),\n",
       " 'National Institute of Technology Rourkela': (22.22496, 84.86414),\n",
       " 'Université du Québec à Montréal': (45.50884, -73.58781),\n",
       " 'Canadian Space Agency': (45.518833, -73.40378),\n",
       " 'Royal College of Art': (51.50139, -0.178889),\n",
       " 'Liverpool Hope University': (53.413033, -2.967894),\n",
       " 'North China Electric Power University': (39.9075, 116.39723),\n",
       " 'University of Science and Technology Liaoning': (41.104668, 123.0655),\n",
       " 'Toyohashi University of Technology': (34.701668, 137.40862),\n",
       " 'Aarhus University': (56.15674, 10.21076),\n",
       " 'University of Saskatchewan': (52.13238, -106.66892),\n",
       " 'Sidi Mohamed Ben Abdellah University': (34.03313, -5.00028),\n",
       " 'Yancheng Teachers University': (33.37752, 120.205925),\n",
       " 'Rose–Hulman Institute of Technology': (39.482716, -87.324),\n",
       " 'Maersk (Denmark)': (55.70084, 12.593066),\n",
       " 'University of Nebraska–Lincoln': (40.8, -96.66696),\n",
       " 'University of Nebraska Medical Center': (41.25626, -95.94043),\n",
       " 'University of the Basque Country': (43.32686, -2.98884),\n",
       " 'Belarusian State Technological University': (53.9, 27.56667),\n",
       " 'Institute of Information and Communication Technologies': (42.698013,\n",
       "  23.325453),\n",
       " 'Bulgarian Academy of Sciences': (42.69751, 23.32415),\n",
       " 'European Polytechnical University': (42.610706, 23.040346),\n",
       " 'Changchun University of Technology': (43.88, 125.32278),\n",
       " 'United States Military Academy': (41.3927, -73.9584),\n",
       " 'AGH University of Krakow': (50.06143, 19.93658),\n",
       " 'Dhofar University': (17.01505, 54.09237),\n",
       " 'University of the Sciences': (39.95238, -75.16362),\n",
       " 'Waseda University': (35.7092, 139.71933),\n",
       " \"Shenzhen Sixth People's Hospital\": (22.532312, 113.92375),\n",
       " \"Shenzhen Second People's Hospital\": (22.54554, 114.0683),\n",
       " 'National Chung Cheng University': (23.55606, 120.43047),\n",
       " \"King Mongkut's University of Technology Thonburi\": (13.75398, 100.50144),\n",
       " 'Beijing University of Civil Engineering and Architecture': (39.935436,\n",
       "  116.34396),\n",
       " 'Yanbian University': (42.88825, 129.50241),\n",
       " 'Chongqing University of Science and Technology': (29.56026, 106.55771),\n",
       " 'Wuhan University of Science and Technology': (30.58333, 114.26667),\n",
       " 'University of La Salle': (4.644658, -74.06027),\n",
       " 'La Salle University': (14.6042, 120.9822),\n",
       " 'SASTRA University': (10.78523, 79.13909),\n",
       " 'China Aerodynamics Research and Development Center': (31.46784, 104.68168),\n",
       " 'Yazd University': (31.89722, 54.3675),\n",
       " 'SRM Institute of Science and Technology': (12.823611, 80.04417),\n",
       " 'Egypt-Japan University of Science and Technology': (31.20176, 29.91582),\n",
       " 'South Ural State University': (55.160526, 61.3702),\n",
       " 'Universidade Federal de Juiz de Fora': (-21.774721, -43.368332),\n",
       " 'Université Libre de Bruxelles': (50.85045, 4.34878),\n",
       " 'Saint Petersburg State Electrotechnical University': (59.9725, 30.3225),\n",
       " 'Laboratoire d’Ingénierie des Systèmes Physiques et Numériques': (43.491276,\n",
       "  5.333269),\n",
       " 'Yale University': (41.30815, -72.92816),\n",
       " 'Örebro University': (59.25487, 15.247931),\n",
       " 'Tokyo City University': (35.6895, 139.69171),\n",
       " 'Shibaura Institute of Technology': (35.66188, 139.7952),\n",
       " 'National Defense Academy of Japan': (35.257668, 139.72197),\n",
       " 'Paderborn University': (51.71905, 8.75439),\n",
       " 'Central South University': (28.19874, 112.97087),\n",
       " 'Meiji University': (35.6895, 139.69171),\n",
       " 'Guangzhou Sport University': (23.14447, 113.317154),\n",
       " 'Hebei Food Inspection and Research Institute': (38.01277, 114.47791),\n",
       " 'University of Derby': (52.92277, -1.47663),\n",
       " 'University of Exeter': (50.7236, -3.52751),\n",
       " 'GMV Innovating Solutions (Spain)': (40.60092, -3.70806),\n",
       " 'Tekniker': (43.196114, -2.451635),\n",
       " 'Otto-von-Guericke University Magdeburg': (52.12773, 11.62916),\n",
       " 'Kaunas University of Technology': (54.90272, 23.90961),\n",
       " 'Vilnius Gediminas Technical University': (54.722324, 25.335735),\n",
       " 'Vytautas Magnus University': (54.898335, 23.913889),\n",
       " 'Polytechnic University of Bari': (41.10907, 16.878365),\n",
       " 'Fontys University of Applied Sciences': (51.451813, 5.481484),\n",
       " 'Centro de Investigaciones en Optica': (21.12908, -101.67374),\n",
       " 'Universidad Politécnica de Aguascalientes': (21.805803, -102.29544),\n",
       " 'Indian Institute of Technology Delhi': (28.545, 77.19222),\n",
       " 'Abdullah Gül University': (38.737637, 35.47347),\n",
       " 'Le Quy Don Technical University': (21.049198, 105.78578),\n",
       " 'University of Johannesburg': (-26.189432, 28.013746),\n",
       " 'University of Zimbabwe': (-17.784, 31.053),\n",
       " 'University of Sheffield': (53.38297, -1.4659),\n",
       " 'Insigneo': (53.382812, -1.477746),\n",
       " 'Institute of Machines Science': (55.74788, 37.58919),\n",
       " 'Bauman Moscow State Technical University': (55.765835, 37.684723),\n",
       " 'White Plains Hospital': (41.025833, -73.7693),\n",
       " 'Mount Sinai Medical Center': (25.813145, -80.14093),\n",
       " 'PES University': (12.934289, 77.534325),\n",
       " 'University of Adelaide': (-34.92866, 138.59863),\n",
       " 'NIIT (India)': (28.528345, 77.279594),\n",
       " 'Lviv Polytechnic National University': (49.835556, 24.014723),\n",
       " 'Florida Polytechnic University': (28.03947, -81.9498),\n",
       " 'Engineering Systems (United States)': (41.264282, -96.11511),\n",
       " 'Belarusian State University': (53.9, 27.56667),\n",
       " 'Technical University of Cluj-Napoca': (46.76667, 23.6),\n",
       " 'Iuliu Hațieganu University of Medicine and Pharmacy': (46.76667, 23.6),\n",
       " 'State University of Jakarta': (-6.21462, 106.84513),\n",
       " 'Armada (Poland)': (50.33587, 18.904467),\n",
       " 'University of Palermo': (38.117874, 13.369795),\n",
       " 'University of Zielona Góra': (51.93548, 15.50643),\n",
       " 'Universidade Estadual Paulista (Unesp)': (-23.5475, -46.63611),\n",
       " 'Federal University of Technology': (7.25256, 5.19312),\n",
       " 'University of Prishtina': (42.67272, 21.16688),\n",
       " 'Carl von Ossietzky Universität Oldenburg': (53.14118, 8.21467),\n",
       " 'Oldenburger Institut für Informatik': (53.148846, 8.200071),\n",
       " 'Isparta University of Applied Sciences': (37.829, 30.529),\n",
       " 'Xian Yang Central Hospital': (34.337704, 108.72706),\n",
       " 'Memorial University of Newfoundland': (47.56494, -52.70931),\n",
       " 'Qingdao University of Technology': (36.06488, 120.38042),\n",
       " 'Dalian Maritime University': (38.91222, 121.60222),\n",
       " 'Jiujiang University': (29.72126, 115.998825),\n",
       " 'Saint-Petersburg State University of Telecommunications': (59.902874,\n",
       "  30.487911),\n",
       " 'Menoufia University': (30.55258, 31.00904),\n",
       " 'Hebei University of Technology': (39.14222, 117.17667),\n",
       " 'Syiah Kuala University': (5.54167, 95.33333),\n",
       " 'Harbin Engineering University': (45.77222, 126.675),\n",
       " 'George Mason University': (38.832436, -77.30807),\n",
       " 'Peking University': (39.9075, 116.39723),\n",
       " 'Beijing Forestry University': (39.9075, 116.39723),\n",
       " 'Jilin Electric Power Research Institute (China)': (42.429558, 126.32245),\n",
       " 'Universidade Estadual de Campinas (UNICAMP)': (-22.90556, -47.06083),\n",
       " 'Dongfeng Motor Group (China)': (30.730658, 113.95857),\n",
       " 'Liaoning University of International Business and Economics': (38.91222,\n",
       "  121.60222),\n",
       " 'Silesian University of Technology': (50.29761, 18.67658),\n",
       " 'Future University in Egypt': (30.027433, 31.491596),\n",
       " 'Arizona State University': (33.41477, -111.90931),\n",
       " 'Universidad Técnica Particular de Loja': (-3.99313, -79.20422),\n",
       " 'Chandigarh University': (30.67995, 76.72211),\n",
       " 'National Taiwan University': (25.016, 121.536),\n",
       " 'Eindhoven University of Technology': (51.44083, 5.47778),\n",
       " 'Abbès Laghrour University of Khenchela': (35.4723, 7.092053),\n",
       " 'University of Batna 1': (35.55597, 6.17414),\n",
       " 'Amur State University': (50.298557, 127.51015),\n",
       " 'Pacific National University': (48.48271, 135.08379),\n",
       " 'Anhui University of Technology': (31.692987, 118.51065),\n",
       " 'Kyushu Institute of Technology': (33.894436, 130.8392),\n",
       " 'Istanbul Technical University': (41.01384, 28.94966),\n",
       " 'Dalhousie University': (44.64269, -63.57688),\n",
       " 'Homi Bhabha National Institute': (19.07283, 72.88261),\n",
       " 'Ministry of Education and Science of the Republic of Kazakhstan': (51.18234,\n",
       "  71.42245),\n",
       " 'International Information Technologies University': (43.235428, 76.90975),\n",
       " 'Sri Sri University': (13.636003, 79.39298),\n",
       " 'University of Agder': (58.14671, 7.9956),\n",
       " 'Keio University': (35.6895, 139.69171),\n",
       " 'Brooklyn Navy Yard': (40.699566, -73.97399),\n",
       " 'Kyungnam University': (35.18061, 128.55334),\n",
       " 'Satbayev University': (43.23639, 76.929726),\n",
       " 'Tokai University': (35.6895, 139.69171),\n",
       " 'Air University': (34.25833, 108.92861),\n",
       " 'University of Windsor': (42.305195, -83.06748),\n",
       " 'National Ilan University': (24.7474, 121.7476),\n",
       " 'University of Kang Ning': (23.06045, 120.15595),\n",
       " 'Serviço Nacional de Aprendizagem Industrial': (-15.791111, -47.878334),\n",
       " 'Universidade Federal do Triângulo Mineiro': (-19.74833, -47.93194),\n",
       " 'GITAM University': (17.68009, 83.20161),\n",
       " 'University of Groningen': (53.219444, 6.562966),\n",
       " 'Oregon State University': (44.56457, -123.26204),\n",
       " 'National Institute of Technology': (22.22496, 84.86414),\n",
       " 'Institute of Natural and Technical Systems': (44.616493, 33.525166),\n",
       " 'China Coal Technology and Engineering Group Corp (China)': (39.9075,\n",
       "  116.39723),\n",
       " 'Erciyes University': (38.73222, 35.48528),\n",
       " 'Uva Wellassa University': (6.9802, 81.0577),\n",
       " 'University of Jaffna': (9.66845, 80.00742),\n",
       " 'General Sir John Kotelawala Defence University': (6.820523, 79.8904),\n",
       " 'University of Greenwich': (51.48511, -0.003905),\n",
       " 'Mississippi State University': (33.45049, -88.81961),\n",
       " 'Anhui Business College': (31.33728, 118.37351),\n",
       " 'Kazakh Academy of Transport and Communications named after M.Tynyshpaev': (43.246605,\n",
       "  76.92972),\n",
       " 'Almaty University of Power Engineering and Telecommunications': (43.23616,\n",
       "  76.93218),\n",
       " 'University of Sussex': (50.865276, -0.085556),\n",
       " 'State Marine Technical University of St. Petersburg': (59.91833, 30.276602),\n",
       " 'Kobe City College of Technology': (34.678898, 135.06772),\n",
       " 'Kayaba Industry (Japan)': (35.65603, 139.75645),\n",
       " 'University of Tsukuba': (36.2, 140.1),\n",
       " 'Toyo University': (35.6895, 139.69171),\n",
       " 'State Key Laboratory of Vehicle NVH and Safety Technology': (29.56026,\n",
       "  106.55771),\n",
       " 'China Ocean Shipping (China)': (39.90496, 116.40812),\n",
       " 'University of Ottawa': (45.41117, -75.69812),\n",
       " 'Bowling Green State University': (41.379845, -83.62459),\n",
       " 'University of Auckland': (-36.84853, 174.76349),\n",
       " 'University of Mining and Geology \"Saint Ivan Rilski\"': (42.65983, 23.353285),\n",
       " 'New Bulgarian University': (42.69751, 23.32415),\n",
       " 'China University of Mining and Technology': (34.20442, 117.28386),\n",
       " 'North Carolina Agricultural and Technical State University': (36.07264,\n",
       "  -79.79198),\n",
       " 'United States Naval Academy': (38.97859, -76.49184),\n",
       " 'University of Salerno': (40.76868, 14.795022),\n",
       " 'Nagaoka University': (37.426514, 138.7786),\n",
       " 'Nagaoka University of Technology': (37.426514, 138.7786),\n",
       " 'Volgograd State Technical University': (48.714085, 44.528145),\n",
       " 'Iran University of Science and Technology': (35.69439, 51.42151),\n",
       " '\"Dunarea de Jos\" University of Galati': (45.43687, 28.05028),\n",
       " 'University College London': (51.50853, -0.12574),\n",
       " 'University of Boumerdes': (36.762848, 3.474293),\n",
       " 'University of Virginia': (38.02931, -78.47668),\n",
       " 'Islamic Azad University of Najafabad': (32.673046, 51.392284),\n",
       " 'Sungkyunkwan University': (37.588223, 126.99361),\n",
       " 'Al-Azhar University – Gaza': (31.515, 34.43667),\n",
       " 'Qazvin Islamic Azad University': (36.26877, 50.0041),\n",
       " 'Korea Maritime and Ocean University': (35.074444, 129.08694),\n",
       " 'Hanwha Solutions (South Korea)': (37.567135, 126.98841),\n",
       " 'University of North Carolina at Asheville': (35.61619, -82.56614),\n",
       " 'Embry–Riddle Aeronautical University': (29.187967, -81.04687),\n",
       " 'Tunisia Polytechnic School': (36.879616, 10.336489),\n",
       " 'China Aerospace Science and Technology Corporation': (39.804134, 116.41882),\n",
       " 'Technical University of Malaysia Malacca': (2.313907, 102.32118),\n",
       " 'Escuela Superior Politecnica del Litoral': (-2.19616, -79.88621),\n",
       " 'Iwate University': (39.71583, 141.13722),\n",
       " 'Beijing Jingshida Electromechanical Equipment Research Institute': (39.904842,\n",
       "  116.39828),\n",
       " 'NIKIMT-Atomstroy': (55.75222, 37.61556),\n",
       " 'Autonomous University of Coahuila': (25.440022, -100.99229),\n",
       " 'Ocean University of China': (36.061226, 120.3352),\n",
       " 'Yancheng Institute of Technology': (33.3575, 120.1573),\n",
       " 'Częstochowa University of Technology': (50.79646, 19.12409),\n",
       " 'Universiti Malaysia Sarawak': (1.465153, 110.42702),\n",
       " 'Istanbul University-Cerrahpaşa': (41.01384, 28.94966),\n",
       " 'University of Ulm': (48.39841, 9.99155),\n",
       " 'Nanjing Tech University': (32.06167, 118.77778),\n",
       " 'Shanghai University of Electric Power': (31.26193, 121.51904),\n",
       " 'University of Illinois at Chicago': (41.85003, -87.65005),\n",
       " 'University of Pretoria': (-25.74486, 28.18783),\n",
       " 'University of Minho': (41.55032, -8.42005),\n",
       " 'Pukyong National University': (35.134167, 129.1036),\n",
       " 'Saigon University': (10.760044, 106.682045),\n",
       " 'Samara State Technical University': (53.209248, 50.12538),\n",
       " 'Shijiazhuang University': (38.039066, 114.60362),\n",
       " 'Hebei University': (38.8743, 115.51667),\n",
       " 'Kanagawa Institute of Technology': (35.486683, 139.34468),\n",
       " 'Kwangwoon University': (37.6201, 127.056),\n",
       " 'National Institute of Applied Science and Technology': (36.843716,\n",
       "  10.196716),\n",
       " 'China Academy of Launch Vehicle Technology': (39.823574, 116.14708),\n",
       " 'Ningbo University': (29.908451, 121.63724),\n",
       " 'University of Nottingham Ningbo China': (29.87819, 121.54945),\n",
       " 'Beijing University of Posts and Telecommunications': (39.9075, 116.39723),\n",
       " 'National University Hospital': (37.579372, 127.000465),\n",
       " 'Russian Academy of Sciences': (55.75222, 37.61556),\n",
       " 'Don State Technical University': (47.23743, 39.71213),\n",
       " 'National Institute Of Technology Silchar': (24.82733, 92.79787),\n",
       " 'Marche Polytechnic University': (43.617065, 13.51269),\n",
       " 'University of Calgary': (51.05011, -114.08529),\n",
       " 'National Polytechnic School': (-0.22985, -78.52495),\n",
       " 'Universidad Internacional del Ecuador': (-0.244601, -78.47129),\n",
       " 'Universidad Carlos III de Madrid': (40.4165, -3.70256),\n",
       " 'Suleyman Demirel University': (43.207962, 76.66897),\n",
       " 'Qilu Normal University': (36.678646, 117.05075),\n",
       " 'Weihai Science and Technology Bureau': (37.51634, 122.09797),\n",
       " 'South Dakota State University': (44.31136, -96.79839),\n",
       " 'Volgograd State Agricultural University': (48.674854, 44.442196),\n",
       " 'Shanghai University': (31.22222, 121.45806),\n",
       " 'Algoma University': (46.51677, -84.33325),\n",
       " 'Zhangzhou Normal University': (24.50748, 117.64535),\n",
       " 'Saitama University': (35.90807, 139.65657),\n",
       " 'KLE Technological University': (15.34776, 75.13378),\n",
       " 'Moscow Polytechnic University': (55.7812, 37.7116),\n",
       " 'Moscow Aviation Institute': (55.75222, 37.61556),\n",
       " 'Beijing Jiaotong University': (39.9075, 116.39723),\n",
       " 'VSB - Technical University of Ostrava': (49.83465, 18.28204),\n",
       " 'Fudan University': (31.22222, 121.45806),\n",
       " 'Centre for Astrophysics of the University of Porto': (41.23451, -8.40297),\n",
       " 'Izmir Kâtip Çelebi University': (38.48573, 27.080524),\n",
       " 'Fraunhofer Institute for Cognitive Systems': (48.13743, 11.57549),\n",
       " 'Tun Hussein Onn University of Malaysia': (1.858605, 103.08553),\n",
       " 'Guangxi University': (22.81667, 108.31667),\n",
       " 'National University of Saint Augustine': (-16.39889, -71.535),\n",
       " 'Vietnam National University of Forestry': (20.913273, 105.57529),\n",
       " 'Benemérita Universidad Autónoma de Puebla': (19.03793, -98.20346),\n",
       " 'Gifu University': (35.42291, 136.76039),\n",
       " 'Qilu Hospital of Shandong University': (36.66833, 116.99722),\n",
       " 'Nanjing University of Posts and Telecommunications': (32.0805, 118.765),\n",
       " 'Philips (China)': (31.167048, 121.38947),\n",
       " 'Shenyang Aerospace University': (41.92633, 123.404305),\n",
       " 'Jiangsu University of Science and Technology': (32.21086, 119.45508),\n",
       " 'Ruhr University Bochum': (51.48165, 7.21648),\n",
       " 'Center for Excellence in Brain Science and Intelligence Technology': (31.22222,\n",
       "  121.45806),\n",
       " 'Agruicultural Research Institute': (35.140587, 33.383118),\n",
       " \"Xi'an University of Technology\": (34.25833, 108.92861),\n",
       " 'American International University-Bangladesh': (23.822609, 90.4275),\n",
       " 'Indira Gandhi Institute of Technology': (20.93457, 85.26061),\n",
       " 'Nahrain University': (33.34058, 44.40088),\n",
       " 'Al Mansour University College': (33.315594, 44.428337),\n",
       " 'Suzhou University of Science and Technology': (31.305937, 120.56479),\n",
       " 'Middle Technical University': (39.91987, 32.85427),\n",
       " 'Centre Val de Loire': (47.39484, 0.70398),\n",
       " 'Institut National des Sciences Appliquées Centre Val de Loire': (47.59432,\n",
       "  1.32912),\n",
       " 'Indian Institute of Technology BHU': (25.31668, 83.01041),\n",
       " 'Banaras Hindu University': (25.266632, 82.99057),\n",
       " 'Hiroshima University': (34.38222, 132.45805),\n",
       " 'Tomas Bata University in Zlín': (49.22645, 17.67065),\n",
       " 'VTT Technical Research Centre of Finland': (60.2052, 24.6522),\n",
       " 'Korea Atomic Energy Research Institute': (36.341995, 127.39567),\n",
       " 'University of Guilan': (37.19422, 49.63625),\n",
       " 'Siberian Federal University': (56.01839, 92.86717),\n",
       " 'Karaganda State Technical University': (49.819393, 73.104355),\n",
       " 'University of Delhi': (28.583332, 77.166664),\n",
       " 'Jaypee Institute of Information Technology': (28.58, 77.33),\n",
       " \"Xi'an Institute of Optics and Precision Mechanics\": (34.25833, 108.92861),\n",
       " 'SYSU-CMU International Joint Research Institute': (23.096382, 113.29883),\n",
       " 'Scientific Research and Development (Germany)': (50.195557, 8.567512),\n",
       " 'Edinburgh Napier University': (55.95206, -3.19648),\n",
       " 'Asan Medical Center': (37.527042, 127.10834),\n",
       " 'Ulsan College': (35.49578, 129.41568),\n",
       " 'Joint Base San Antonio': (29.42351, -98.50063),\n",
       " 'San Antonio Military Medical Center': (29.460123, -98.4155),\n",
       " 'Institut Pascal': (45.75082, 3.11078),\n",
       " 'Sigma Clermont': (45.77969, 3.08682),\n",
       " 'University of Clermont Auvergne': (45.77969, 3.08682),\n",
       " 'Clermont Université': (45.75082, 3.11078),\n",
       " 'Universidad Blas Pascal': (-31.33861, -64.256966),\n",
       " 'Shanghai Ocean University': (31.22222, 121.45806),\n",
       " 'Qingdao University of Science and Technology': (36.119, 120.479),\n",
       " 'V. A. Trapeznikov Institute of Control Sciences': (55.651268, 37.53742),\n",
       " 'Yogyakarta State University': (-7.80139, 110.36472),\n",
       " 'Military University of Technology in Warsaw': (52.25317, 20.900185),\n",
       " 'Łukasiewicz Research Network - Automotive Industry Institute': (52.27109,\n",
       "  21.016108),\n",
       " 'National Institute of Technology Calicut': (11.24802, 75.7804),\n",
       " 'Akita Prefectural University': (39.80111, 140.04607),\n",
       " 'Saints Cyril and Methodius University of Skopje': (41.99646, 21.43141),\n",
       " 'California State University Los Angeles': (34.066666, -118.16778),\n",
       " 'Shahid Bahonar University of Kerman': (30.252539, 57.109325),\n",
       " 'Perm National Research Polytechnic University': (58.008495, 56.24061),\n",
       " 'Library and Archives Canada': (45.42022, -75.707855),\n",
       " 'Canadian Heritage': (45.42536, -75.720314),\n",
       " 'Boise State University': (43.604282, -116.202354),\n",
       " 'Sabancı Üniversitesi': (41.01384, 28.94966),\n",
       " 'Latvia University of Life Sciences and Technologies': (56.65, 23.71278),\n",
       " 'Polytechnic University of Timişoara': (45.75372, 21.22571),\n",
       " 'Tianjin University of Science and Technology': (39.14222, 117.17667),\n",
       " 'Taiyuan University of Technology': (37.861343, 112.5228),\n",
       " 'Changchun University': (43.88, 125.32278),\n",
       " 'University of Debrecen': (47.53167, 21.62444),\n",
       " ...}"
      ]
     },
     "execution_count": 168,
     "metadata": {},
     "output_type": "execute_result"
    }
   ],
   "source": [
    "affil_geo_dict"
   ]
  },
  {
   "cell_type": "code",
   "execution_count": 172,
   "id": "9e1a7010-2125-426b-a0ae-3b47f07a592a",
   "metadata": {},
   "outputs": [
    {
     "name": "stdout",
     "output_type": "stream",
     "text": [
      "10\n"
     ]
    }
   ],
   "source": [
    "dvaffils, kwwaffils = get_affils_cluster_sort(dftriple, 10)"
   ]
  },
  {
   "cell_type": "code",
   "execution_count": 173,
   "id": "b079ba7e-b5eb-41f7-bf31-1a69f31e9ad1",
   "metadata": {},
   "outputs": [],
   "source": [
    "#affil_geo_dict['University of Electronic Science and Technology of China']"
   ]
  },
  {
   "cell_type": "code",
   "execution_count": 174,
   "id": "9974ce1f-55fa-49e4-8935-ffbf739bfd42",
   "metadata": {},
   "outputs": [
    {
     "data": {
      "text/html": [
       "<div>\n",
       "<style scoped>\n",
       "    .dataframe tbody tr th:only-of-type {\n",
       "        vertical-align: middle;\n",
       "    }\n",
       "\n",
       "    .dataframe tbody tr th {\n",
       "        vertical-align: top;\n",
       "    }\n",
       "\n",
       "    .dataframe thead th {\n",
       "        text-align: right;\n",
       "    }\n",
       "</style>\n",
       "<table border=\"1\" class=\"dataframe\">\n",
       "  <thead>\n",
       "    <tr style=\"text-align: right;\">\n",
       "      <th></th>\n",
       "      <th>id</th>\n",
       "      <th>display_name</th>\n",
       "      <th>country_code</th>\n",
       "      <th>type</th>\n",
       "      <th>paper_cluster_score</th>\n",
       "      <th>latitude</th>\n",
       "      <th>longitude</th>\n",
       "    </tr>\n",
       "  </thead>\n",
       "  <tbody>\n",
       "    <tr>\n",
       "      <th>0</th>\n",
       "      <td>https://openalex.org/I150229711</td>\n",
       "      <td>University of Electronic Science and Technolog...</td>\n",
       "      <td>CN</td>\n",
       "      <td>education</td>\n",
       "      <td>36.93073</td>\n",
       "      <td>30.66667</td>\n",
       "      <td>104.06667</td>\n",
       "    </tr>\n",
       "    <tr>\n",
       "      <th>1</th>\n",
       "      <td>https://openalex.org/I170215575</td>\n",
       "      <td>National University of Defense Technology</td>\n",
       "      <td>CN</td>\n",
       "      <td>education</td>\n",
       "      <td>15.378279</td>\n",
       "      <td>28.19874</td>\n",
       "      <td>112.97087</td>\n",
       "    </tr>\n",
       "    <tr>\n",
       "      <th>2</th>\n",
       "      <td>https://openalex.org/I75390827</td>\n",
       "      <td>Beijing University of Chemical Technology</td>\n",
       "      <td>CN</td>\n",
       "      <td>education</td>\n",
       "      <td>8.487354</td>\n",
       "      <td>39.90750</td>\n",
       "      <td>116.39723</td>\n",
       "    </tr>\n",
       "    <tr>\n",
       "      <th>3</th>\n",
       "      <td>https://openalex.org/I82880672</td>\n",
       "      <td>Beihang University</td>\n",
       "      <td>CN</td>\n",
       "      <td>education</td>\n",
       "      <td>8.368248</td>\n",
       "      <td>39.90750</td>\n",
       "      <td>116.39723</td>\n",
       "    </tr>\n",
       "    <tr>\n",
       "      <th>4</th>\n",
       "      <td>https://openalex.org/I122991210</td>\n",
       "      <td>Institute of Information Science and Technologies</td>\n",
       "      <td>IT</td>\n",
       "      <td>facility</td>\n",
       "      <td>8.0</td>\n",
       "      <td>43.70853</td>\n",
       "      <td>10.40360</td>\n",
       "    </tr>\n",
       "  </tbody>\n",
       "</table>\n",
       "</div>"
      ],
      "text/plain": [
       "                                id  \\\n",
       "0  https://openalex.org/I150229711   \n",
       "1  https://openalex.org/I170215575   \n",
       "2   https://openalex.org/I75390827   \n",
       "3   https://openalex.org/I82880672   \n",
       "4  https://openalex.org/I122991210   \n",
       "\n",
       "                                        display_name country_code       type  \\\n",
       "0  University of Electronic Science and Technolog...           CN  education   \n",
       "1          National University of Defense Technology           CN  education   \n",
       "2          Beijing University of Chemical Technology           CN  education   \n",
       "3                                 Beihang University           CN  education   \n",
       "4  Institute of Information Science and Technologies           IT   facility   \n",
       "\n",
       "  paper_cluster_score  latitude  longitude  \n",
       "0            36.93073  30.66667  104.06667  \n",
       "1           15.378279  28.19874  112.97087  \n",
       "2            8.487354  39.90750  116.39723  \n",
       "3            8.368248  39.90750  116.39723  \n",
       "4                 8.0  43.70853   10.40360  "
      ]
     },
     "execution_count": 174,
     "metadata": {},
     "output_type": "execute_result"
    }
   ],
   "source": [
    "dvaffils.head()"
   ]
  },
  {
   "cell_type": "markdown",
   "id": "34643312-959b-48f8-88a7-c9a9aa0bac15",
   "metadata": {},
   "source": [
    "ok, can color by type, height and size given by paper_cluster_score"
   ]
  },
  {
   "cell_type": "markdown",
   "id": "daa1ba2e-3ab7-4a51-a71e-ab8e76b4e591",
   "metadata": {},
   "source": [
    "may need to add in the mapbox token. ok."
   ]
  },
  {
   "cell_type": "markdown",
   "id": "9baf64c1-9ed1-422a-9ae9-e74e91e49392",
   "metadata": {},
   "source": [
    "follow along the treatment here: https://github.com/rs21io/ttu-paths/blob/main/suescoreshypothesis.ipynb"
   ]
  },
  {
   "cell_type": "markdown",
   "id": "6d775b3c-005f-4da6-a5ff-849fa602f2b3",
   "metadata": {},
   "source": [
    "mapbox_token=\"pk.eyJ1IjoibWFwYm94cnMyMSIsImEiOiJjamdkdTU1MTIwMTM2Mnhxa3Y3ZXZ3eGt3In0.PtflK7MObAbmwY1E__H7Fg\""
   ]
  },
  {
   "cell_type": "code",
   "execution_count": 176,
   "id": "23a837f3-823b-49b8-859c-fa8f6f03741d",
   "metadata": {},
   "outputs": [],
   "source": [
    "import pydeck as pdk\n",
    "\n",
    "view = pdk.data_utils.compute_view(dvaffils[[\"longitude\", \"latitude\"]])\n",
    "\n",
    "mapbox_token=\"pk.eyJ1IjoibWFwYm94cnMyMSIsImEiOiJjamdkdTU1MTIwMTM2Mnhxa3Y3ZXZ3eGt3In0.PtflK7MObAbmwY1E__H7Fg\""
   ]
  },
  {
   "cell_type": "code",
   "execution_count": null,
   "id": "d12bc6c6-f7ea-4ab9-9e3f-21ee78bc54d8",
   "metadata": {},
   "outputs": [],
   "source": [
    "\n"
   ]
  }
 ],
 "metadata": {
  "kernelspec": {
   "display_name": "Python 3 (ipykernel)",
   "language": "python",
   "name": "python3"
  },
  "language_info": {
   "codemirror_mode": {
    "name": "ipython",
    "version": 3
   },
   "file_extension": ".py",
   "mimetype": "text/x-python",
   "name": "python",
   "nbconvert_exporter": "python",
   "pygments_lexer": "ipython3",
   "version": "3.10.12"
  }
 },
 "nbformat": 4,
 "nbformat_minor": 5
}
